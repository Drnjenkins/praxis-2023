{
 "cells": [
  {
   "cell_type": "code",
   "execution_count": 1,
   "metadata": {
    "colab": {
     "base_uri": "https://localhost:8080/"
    },
    "id": "2AuGt6WCWTLW",
    "outputId": "8785139f-7414-44bb-9c8a-41bc1d1333f9"
   },
   "outputs": [
    {
     "name": "stdout",
     "output_type": "stream",
     "text": [
      "Note: you may need to restart the kernel to use updated packages.\n"
     ]
    }
   ],
   "source": [
    "%pip install --upgrade --quiet psutil py-cpuinfo"
   ]
  },
  {
   "cell_type": "code",
   "execution_count": 2,
   "metadata": {
    "colab": {
     "base_uri": "https://localhost:8080/"
    },
    "id": "wNiXkifpWWR-",
    "outputId": "07fa3de1-ab03-4839-f10b-864f0b2e0768",
    "tags": []
   },
   "outputs": [
    {
     "name": "stdout",
     "output_type": "stream",
     "text": [
      "========== System Information ==========\n",
      "System: Linux\n",
      "Node Name: ip-172-16-13-6.us-west-2.compute.internal\n",
      "Release: 5.10.157-139.675.amzn2.x86_64\n",
      "Version: #1 SMP Thu Dec 8 01:29:11 UTC 2022\n",
      "Machine: x86_64\n",
      "Processor: x86_64\n",
      "Processor: Intel(R) Xeon(R) Platinum 8175M CPU @ 2.50GHz\n",
      "========== CPU Info ==========\n",
      "Physical cores: 8\n",
      "========== Memory Information ==========\n",
      "Total: 61.36GB\n",
      "========== Disk Information ==========\n",
      "Partitions and Usage:\n",
      "=== Device: /dev/nvme0n1p1 ===\n",
      "  Mountpoint: /\n",
      "  File system type: xfs\n",
      "  Total Size: 159.99GB\n"
     ]
    }
   ],
   "source": [
    "import platform\n",
    "\n",
    "import cpuinfo\n",
    "import psutil\n",
    "\n",
    "\n",
    "def get_size(bytes, suffix=\"B\"):\n",
    "    \"\"\"\n",
    "    Scale bytes to its proper format\n",
    "    e.g:\n",
    "        1253656 => '1.20MB'\n",
    "        1253656678 => '1.17GB'\n",
    "    \"\"\"\n",
    "    factor = 1024\n",
    "    for unit in [\"\", \"K\", \"M\", \"G\", \"T\", \"P\"]:\n",
    "        if bytes < factor:\n",
    "            return f\"{bytes:.2f}{unit}{suffix}\"\n",
    "        bytes /= factor\n",
    "\n",
    "\n",
    "def System_information():\n",
    "    print(\"=\" * 10, \"System Information\", \"=\" * 10)\n",
    "    uname = platform.uname()\n",
    "    print(f\"System: {uname.system}\")\n",
    "    print(f\"Node Name: {uname.node}\")\n",
    "    print(f\"Release: {uname.release}\")\n",
    "    print(f\"Version: {uname.version}\")\n",
    "    print(f\"Machine: {uname.machine}\")\n",
    "    print(f\"Processor: {uname.processor}\")\n",
    "    print(f\"Processor: {cpuinfo.get_cpu_info()['brand_raw']}\")\n",
    "\n",
    "    # print CPU information\n",
    "    print(\"=\" * 10, \"CPU Info\", \"=\" * 10)\n",
    "\n",
    "    # number of cores\n",
    "    print(\"Physical cores:\", psutil.cpu_count(logical=False))\n",
    "\n",
    "    # Memory Information\n",
    "    print(\"=\" * 10, \"Memory Information\", \"=\" * 10)\n",
    "\n",
    "    # get the memory details\n",
    "    svmem = psutil.virtual_memory()\n",
    "    print(f\"Total: {get_size(svmem.total)}\")\n",
    "\n",
    "    # Disk Information\n",
    "    print(\"=\" * 10, \"Disk Information\", \"=\" * 10)\n",
    "    print(\"Partitions and Usage:\")\n",
    "\n",
    "    # get all disk partitions\n",
    "    partitions = psutil.disk_partitions()\n",
    "    for partition in partitions:\n",
    "        if partition.mountpoint in [\"/\", \"/boot\"]:\n",
    "            print(f\"=== Device: {partition.device} ===\")\n",
    "            print(f\"  Mountpoint: {partition.mountpoint}\")\n",
    "            print(f\"  File system type: {partition.fstype}\")\n",
    "            try:\n",
    "                partition_usage = psutil.disk_usage(partition.mountpoint)\n",
    "            except PermissionError:\n",
    "                # this can be caught due to the disk that\n",
    "                # isn't ready\n",
    "                continue\n",
    "            print(f\"  Total Size: {get_size(partition_usage.total)}\")\n",
    "\n",
    "\n",
    "if __name__ == \"__main__\":\n",
    "    System_information()"
   ]
  }
 ],
 "metadata": {
  "colab": {
   "authorship_tag": "ABX9TyOH2Luw6YLzExflWU2zffAf",
   "include_colab_link": true,
   "provenance": []
  },
  "kernelspec": {
   "display_name": "conda_amazonei_pytorch_latest_p37",
   "language": "python",
   "name": "conda_amazonei_pytorch_latest_p37"
  },
  "language_info": {
   "codemirror_mode": {
    "name": "ipython",
    "version": 3
   },
   "file_extension": ".py",
   "mimetype": "text/x-python",
   "name": "python",
   "nbconvert_exporter": "python",
   "pygments_lexer": "ipython3",
   "version": "3.7.10"
  }
 },
 "nbformat": 4,
 "nbformat_minor": 4
}
