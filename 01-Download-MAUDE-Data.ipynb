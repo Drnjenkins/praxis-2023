{
 "cells": [
  {
   "cell_type": "markdown",
   "metadata": {
    "id": "ALiim7Fk5vL9"
   },
   "source": [
    "# Download the MAUDE Data"
   ]
  },
  {
   "cell_type": "markdown",
   "metadata": {
    "id": "bTQpDsyEbogP"
   },
   "source": [
    "Goals: \n",
    "1. ***(COMPLETE)*** Retrieve and list all the [MAUDE zip files on fda.gov](https://www.fda.gov/medical-devices/mandatory-reporting-requirements-manufacturers-importers-and-device-user-facilities/about-manufacturer-and-user-facility-device-experience-maude).\n",
    "\n",
    "The following Python code completes these steps:\n",
    "1. Read the entire MAUDE webpage from fda.gov\n",
    "2. The read returns one HTML table\n",
    "3. Use the Pandas library to convert the HTML table into a Pandas dataframe\n",
    "4. Drop the first row of the dataframe which is only used for formatting on the web page\n",
    "5. Rename the columns of the dataframe to include 'Description' and remove tab characters\n",
    "6. Convert total records to integer to allow math operations on record counts"
   ]
  },
  {
   "cell_type": "code",
   "execution_count": 1,
   "metadata": {
    "id": "-bs-M9jzXe6F"
   },
   "outputs": [],
   "source": [
    "import pandas as pd\n",
    "\n",
    "# Read the entire webpaage from fda.gov\n",
    "tables = pd.read_html('https://www.fda.gov/medical-devices/mandatory-reporting-requirements-manufacturers-importers-and-device-user-facilities/about-manufacturer-and-user-facility-device-experience-maude')\n",
    "\n",
    "# The read should return one table; use that as the dataframe\n",
    "df = tables[0]\n",
    "\n",
    "# Drop the first row which is only used for formatting on the web page\n",
    "df.drop(index=df.index[0],\n",
    "        axis=0,\n",
    "        inplace=True)\n",
    "\n",
    "# Rename the columns of the table to include 'Description' and remove tabs\n",
    "df.columns = [\n",
    "    'File Name',\n",
    "    'Compressed Size in Bytes',\n",
    "    'Uncompressed Size in Bytes',\n",
    "    'Total Records',\n",
    "    'Description'\n",
    "]\n",
    "\n",
    "# Convert total records to integer\n",
    "df = df.astype({'Total Records':'int'})\n"
   ]
  },
  {
   "cell_type": "markdown",
   "metadata": {
    "id": "7KVLh91D0pKb"
   },
   "source": [
    "Goals:\n",
    "1. _**(COMPLETE)**_ Print a summary of the MAUDE data\n",
    "\n",
    "The following Python code completes these steps:\n",
    "1. Print the dataframe from the previous steps"
   ]
  },
  {
   "cell_type": "code",
   "execution_count": 2,
   "metadata": {
    "colab": {
     "base_uri": "https://localhost:8080/",
     "height": 1614
    },
    "id": "jGLRrmoYp9aU",
    "outputId": "f0a40708-b3fe-40af-e9e3-676ea750699b"
   },
   "outputs": [
    {
     "data": {
      "text/html": [
       "<div>\n",
       "<style scoped>\n",
       "    .dataframe tbody tr th:only-of-type {\n",
       "        vertical-align: middle;\n",
       "    }\n",
       "\n",
       "    .dataframe tbody tr th {\n",
       "        vertical-align: top;\n",
       "    }\n",
       "\n",
       "    .dataframe thead th {\n",
       "        text-align: right;\n",
       "    }\n",
       "</style>\n",
       "<table border=\"1\" class=\"dataframe\">\n",
       "  <thead>\n",
       "    <tr style=\"text-align: right;\">\n",
       "      <th></th>\n",
       "      <th>File Name</th>\n",
       "      <th>Compressed Size in Bytes</th>\n",
       "      <th>Uncompressed Size in Bytes</th>\n",
       "      <th>Total Records</th>\n",
       "      <th>Description</th>\n",
       "    </tr>\n",
       "  </thead>\n",
       "  <tbody>\n",
       "    <tr>\n",
       "      <th>1</th>\n",
       "      <td>mdrfoi.zip</td>\n",
       "      <td>78914KB</td>\n",
       "      <td>908833KB</td>\n",
       "      <td>2750504</td>\n",
       "      <td>MAUDE Base records received for 2022</td>\n",
       "    </tr>\n",
       "    <tr>\n",
       "      <th>2</th>\n",
       "      <td>mdrfoithru2022.zip</td>\n",
       "      <td>546926KB</td>\n",
       "      <td>5243026KB</td>\n",
       "      <td>12830703</td>\n",
       "      <td>Master Record through 2022</td>\n",
       "    </tr>\n",
       "    <tr>\n",
       "      <th>3</th>\n",
       "      <td>mdrfoiadd.zip</td>\n",
       "      <td>6294KB</td>\n",
       "      <td>63428KB</td>\n",
       "      <td>198524</td>\n",
       "      <td>New MAUDE Base records for the current month.</td>\n",
       "    </tr>\n",
       "    <tr>\n",
       "      <th>4</th>\n",
       "      <td>mdrfoichange.zip</td>\n",
       "      <td>18020KB</td>\n",
       "      <td>172061KB</td>\n",
       "      <td>534164</td>\n",
       "      <td>MAUDE Base data updates: changes to existing B...</td>\n",
       "    </tr>\n",
       "    <tr>\n",
       "      <th>5</th>\n",
       "      <td>patient.zip</td>\n",
       "      <td>8041KB</td>\n",
       "      <td>77409KB</td>\n",
       "      <td>2757813</td>\n",
       "      <td>MAUDE Patient records received for 2022</td>\n",
       "    </tr>\n",
       "    <tr>\n",
       "      <th>...</th>\n",
       "      <td>...</td>\n",
       "      <td>...</td>\n",
       "      <td>...</td>\n",
       "      <td>...</td>\n",
       "      <td>...</td>\n",
       "    </tr>\n",
       "    <tr>\n",
       "      <th>68</th>\n",
       "      <td>foitext2021.zip</td>\n",
       "      <td>217872KB</td>\n",
       "      <td>1306481KB</td>\n",
       "      <td>3746403</td>\n",
       "      <td>Narrative Data for 2021</td>\n",
       "    </tr>\n",
       "    <tr>\n",
       "      <th>69</th>\n",
       "      <td>foitext2022.zip</td>\n",
       "      <td>257211KB</td>\n",
       "      <td>2038145KB</td>\n",
       "      <td>5021760</td>\n",
       "      <td>Narrative Data received for 2022</td>\n",
       "    </tr>\n",
       "    <tr>\n",
       "      <th>70</th>\n",
       "      <td>foitext.zip</td>\n",
       "      <td>257211KB</td>\n",
       "      <td>2038145KB</td>\n",
       "      <td>5021760</td>\n",
       "      <td>Narrative Data received to date for 2023</td>\n",
       "    </tr>\n",
       "    <tr>\n",
       "      <th>71</th>\n",
       "      <td>foitextadd.zip</td>\n",
       "      <td>11815KB</td>\n",
       "      <td>90258KB</td>\n",
       "      <td>168872</td>\n",
       "      <td>New MAUDE Narrative data for the current month.</td>\n",
       "    </tr>\n",
       "    <tr>\n",
       "      <th>72</th>\n",
       "      <td>foitextchange.zip</td>\n",
       "      <td>51102KB</td>\n",
       "      <td>365721KB</td>\n",
       "      <td>732508</td>\n",
       "      <td>Narrative data updates: changes to existing na...</td>\n",
       "    </tr>\n",
       "  </tbody>\n",
       "</table>\n",
       "<p>72 rows × 5 columns</p>\n",
       "</div>"
      ],
      "text/plain": [
       "             File Name Compressed Size in Bytes Uncompressed Size in Bytes  \\\n",
       "1           mdrfoi.zip                  78914KB                   908833KB   \n",
       "2   mdrfoithru2022.zip                 546926KB                  5243026KB   \n",
       "3        mdrfoiadd.zip                   6294KB                    63428KB   \n",
       "4     mdrfoichange.zip                  18020KB                   172061KB   \n",
       "5          patient.zip                   8041KB                    77409KB   \n",
       "..                 ...                      ...                        ...   \n",
       "68     foitext2021.zip                 217872KB                  1306481KB   \n",
       "69     foitext2022.zip                 257211KB                  2038145KB   \n",
       "70         foitext.zip                 257211KB                  2038145KB   \n",
       "71      foitextadd.zip                  11815KB                    90258KB   \n",
       "72   foitextchange.zip                  51102KB                   365721KB   \n",
       "\n",
       "    Total Records                                        Description  \n",
       "1         2750504               MAUDE Base records received for 2022  \n",
       "2        12830703                         Master Record through 2022  \n",
       "3          198524      New MAUDE Base records for the current month.  \n",
       "4          534164  MAUDE Base data updates: changes to existing B...  \n",
       "5         2757813            MAUDE Patient records received for 2022  \n",
       "..            ...                                                ...  \n",
       "68        3746403                            Narrative Data for 2021  \n",
       "69        5021760                   Narrative Data received for 2022  \n",
       "70        5021760           Narrative Data received to date for 2023  \n",
       "71         168872    New MAUDE Narrative data for the current month.  \n",
       "72         732508  Narrative data updates: changes to existing na...  \n",
       "\n",
       "[72 rows x 5 columns]"
      ]
     },
     "execution_count": 2,
     "metadata": {},
     "output_type": "execute_result"
    }
   ],
   "source": [
    "df"
   ]
  },
  {
   "cell_type": "markdown",
   "metadata": {
    "id": "n0arEPDRqFeu"
   },
   "source": [
    "Goals:\n",
    "1. _**(COMPLETE)**_ Download all of the MAUDE files to local storage\n",
    "\n",
    "The following Python code completes these steps:\n",
    "1. Iterate over all rows using DataFrame.iterrows()\n",
    "2. For each row, get the file name\n",
    "3. Use the file name to create a path on the local system\n",
    "4. Check to see if the file exists.  If it does, don't download it again\n",
    "5. Use the file name to create the URL for the file\n",
    "6. Download the file to the local system\n",
    "\n"
   ]
  },
  {
   "cell_type": "code",
   "execution_count": 3,
   "metadata": {
    "id": "Fl8k9OO2krTb"
   },
   "outputs": [
    {
     "name": "stdout",
     "output_type": "stream",
     "text": [
      "Already downloaded ./data/mdrfoi.zip; Skipping!\n",
      "Already downloaded ./data/mdrfoithru2022.zip; Skipping!\n",
      "Already downloaded ./data/mdrfoiadd.zip; Skipping!\n",
      "Already downloaded ./data/mdrfoichange.zip; Skipping!\n",
      "Already downloaded ./data/patient.zip; Skipping!\n",
      "Downloading patientthru2022.zip\n",
      "Already downloaded ./data/patientadd.zip; Skipping!\n",
      "Already downloaded ./data/patientchange.zip; Skipping!\n",
      "Already downloaded ./data/patientproblemcode.zip; Skipping!\n",
      "Already downloaded ./data/patientproblemdata.zip; Skipping!\n",
      "Already downloaded ./data/foidevthru1997.zip; Skipping!\n",
      "Already downloaded ./data/foidev1998.zip; Skipping!\n",
      "Already downloaded ./data/foidev1999.zip; Skipping!\n",
      "Already downloaded ./data/device2000.zip; Skipping!\n",
      "Already downloaded ./data/device2001.zip; Skipping!\n",
      "Already downloaded ./data/device2002.zip; Skipping!\n",
      "Already downloaded ./data/device2003.zip; Skipping!\n",
      "Already downloaded ./data/device2004.zip; Skipping!\n",
      "Already downloaded ./data/device2005.zip; Skipping!\n",
      "Already downloaded ./data/device2006.zip; Skipping!\n",
      "Already downloaded ./data/device2007.zip; Skipping!\n",
      "Already downloaded ./data/device2008.zip; Skipping!\n",
      "Already downloaded ./data/device2009.zip; Skipping!\n",
      "Already downloaded ./data/device2010.zip; Skipping!\n",
      "Already downloaded ./data/device2011.zip; Skipping!\n",
      "Already downloaded ./data/device2012.zip; Skipping!\n",
      "Already downloaded ./data/device2013.zip; Skipping!\n",
      "Already downloaded ./data/device2014.zip; Skipping!\n",
      "Already downloaded ./data/device2015.zip; Skipping!\n",
      "Already downloaded ./data/device2016.zip; Skipping!\n",
      "Already downloaded ./data/device2017.zip; Skipping!\n",
      "Already downloaded ./data/device2018.zip; Skipping!\n",
      "Already downloaded ./data/device2019.zip; Skipping!\n",
      "Already downloaded ./data/device2020.zip; Skipping!\n",
      "Already downloaded ./data/device2021.zip; Skipping!\n",
      "Downloading device2022.zip\n",
      "Already downloaded ./data/device.zip; Skipping!\n",
      "Already downloaded ./data/deviceadd.zip; Skipping!\n",
      "Already downloaded ./data/devicechange.zip; Skipping!\n",
      "Already downloaded ./data/deviceproblemcodes.zip; Skipping!\n",
      "Already downloaded ./data/foidevproblem.zip; Skipping!\n",
      "Already downloaded ./data/foitextthru1995.zip; Skipping!\n",
      "Already downloaded ./data/foitext1996.zip; Skipping!\n",
      "Already downloaded ./data/foitext1997.zip; Skipping!\n",
      "Already downloaded ./data/foitext1998.zip; Skipping!\n",
      "Already downloaded ./data/foitext1999.zip; Skipping!\n",
      "Already downloaded ./data/foitext2000.zip; Skipping!\n",
      "Already downloaded ./data/foitext2001.zip; Skipping!\n",
      "Already downloaded ./data/foitext2002.zip; Skipping!\n",
      "Already downloaded ./data/foitext2003.zip; Skipping!\n",
      "Already downloaded ./data/foitext2004.zip; Skipping!\n",
      "Already downloaded ./data/foitext2005.zip; Skipping!\n",
      "Already downloaded ./data/foitext2006.zip; Skipping!\n",
      "Already downloaded ./data/foitext2007.zip; Skipping!\n",
      "Already downloaded ./data/foitext2008.zip; Skipping!\n",
      "Already downloaded ./data/foitext2009.zip; Skipping!\n",
      "Already downloaded ./data/foitext2010.zip; Skipping!\n",
      "Already downloaded ./data/foitext2011.zip; Skipping!\n",
      "Already downloaded ./data/foitext2012.zip; Skipping!\n",
      "Already downloaded ./data/foitext2013.zip; Skipping!\n",
      "Already downloaded ./data/foitext2014.zip; Skipping!\n",
      "Already downloaded ./data/foitext2015.zip; Skipping!\n",
      "Already downloaded ./data/foitext2016.zip; Skipping!\n",
      "Already downloaded ./data/foitext2017.zip; Skipping!\n",
      "Already downloaded ./data/foitext2018.zip; Skipping!\n",
      "Already downloaded ./data/foitext2019.zip; Skipping!\n",
      "Already downloaded ./data/foitext2020.zip; Skipping!\n",
      "Already downloaded ./data/foitext2021.zip; Skipping!\n",
      "Downloading foitext2022.zip\n",
      "Already downloaded ./data/foitext.zip; Skipping!\n",
      "Already downloaded ./data/foitextadd.zip; Skipping!\n",
      "Already downloaded ./data/foitextchange.zip; Skipping!\n",
      "Download complete.\n"
     ]
    }
   ],
   "source": [
    "from os.path import exists\n",
    "\n",
    "import os\n",
    "import urllib.request\n",
    "\n",
    "data_directory = './data'\n",
    "\n",
    "# Create the data directory if needed\n",
    "try:\n",
    "    os.makedirs(data_directory, exist_ok = True)\n",
    "except OSError as error:\n",
    "    print(f\"Error creating {data_directory}: {error}\")\n",
    "\n",
    "# Iterate all rows using DataFrame.iterrows()\n",
    "for index, row in df.iterrows():\n",
    "    file_name = row[\"File Name\"]\n",
    "    file_path = f\"{data_directory}/{file_name}\"\n",
    "    if exists(file_path):\n",
    "      print(f\"Already downloaded {file_path}; Skipping!\")\n",
    "    else:\n",
    "      print(f\"Downloading {file_name}\")\n",
    "      url=f\"https://www.accessdata.fda.gov/MAUDE/ftparea/{file_name}\"\n",
    "      urllib.request.urlretrieve(url, file_path)\n",
    "\n",
    "print(\"Download complete.\")"
   ]
  },
  {
   "cell_type": "markdown",
   "metadata": {
    "id": "qPHUNTq5qVbg"
   },
   "source": [
    "Goal:\n",
    "1. List the files on the local system\n",
    "\n",
    "Steps:\n",
    "1. Use the 'os.listdir()' function to list the files in the data directory"
   ]
  },
  {
   "cell_type": "code",
   "execution_count": 4,
   "metadata": {
    "colab": {
     "base_uri": "https://localhost:8080/"
    },
    "id": "BI0nV46WkO0u",
    "outputId": "d0a92f38-c95e-46ea-98a8-f53a645a5c97"
   },
   "outputs": [
    {
     "name": "stdout",
     "output_type": "stream",
     "text": [
      "['foitext.zip', 'device2003.zip', 'foitext2005.zip', 'foitext2019.zip', 'device2020.zip', 'device2000.zip', 'device2005.zip', 'foidev1999.zip', 'patientproblemdata.zip', 'foitext2003.zip', 'device2021.zip', 'device2001.zip', 'device2019.zip', 'device2004.zip', 'device2022.zip', 'device2015.zip', 'foitext2021.zip', 'mdrfoithru2021.zip', 'device2009.zip', 'patientthru2022.zip', 'device2008.zip', 'foitext2016.zip', 'deviceadd.zip', 'foitext2001.zip', 'foitext2011.zip', 'foitext2000.zip', 'foitext2007.zip', 'patientchange.zip', 'foitext2002.zip', 'mdrfoichange.zip', 'device.zip', 'device2007.zip', 'foidevthru1997.zip', 'foitext2004.zip', 'foitext1996.zip', 'device2012.zip', 'device2014.zip', 'foitext2012.zip', 'device2013.zip', 'foitext1998.zip', 'foitext2013.zip', 'mdrfoi.zip', 'foitext2006.zip', 'device2002.zip', 'patientadd.zip', 'mdrfoithru2022.zip', 'foitext1999.zip', 'device2016.zip', 'foitext2008.zip', 'foitext2015.zip', 'foitext2014.zip', 'devicechange.zip', 'foiclass.zip', 'mdrfoiadd.zip', 'device2010.zip', 'foitext2020.zip', 'patientproblemcode.zip', 'device2006.zip', 'deviceproblemcodes.zip', 'foitext2018.zip', 'foitext2022.zip', 'foitext2009.zip', 'patient.zip', 'device2011.zip', 'foitextchange.zip', 'foitext1997.zip', 'device2018.zip', 'patientthru2021.zip', 'device2017.zip', 'foidevproblem.zip', 'foitext2017.zip', 'foidev1998.zip', 'foitextthru1995.zip', 'foitextadd.zip', 'foitext2010.zip']\n"
     ]
    }
   ],
   "source": [
    "import os\n",
    "print(os.listdir(data_directory))\n"
   ]
  },
  {
   "cell_type": "markdown",
   "metadata": {},
   "source": [
    "## Download Product Codes\n",
    "[Product Code Zip file](https://www.accessdata.fda.gov/premarket/ftparea/foiclass.zip) from [the FDA website](https://www.fda.gov/medical-devices/classify-your-medical-device/download-product-code-classification-files)."
   ]
  },
  {
   "cell_type": "code",
   "execution_count": 5,
   "metadata": {},
   "outputs": [
    {
     "name": "stdout",
     "output_type": "stream",
     "text": [
      "Already downloaded ./data/foiclass.zip; Skipping!\n"
     ]
    }
   ],
   "source": [
    "from os.path import exists\n",
    "\n",
    "import os\n",
    "import urllib.request\n",
    "\n",
    "foiclass_zip = \"https://www.accessdata.fda.gov/premarket/ftparea/foiclass.zip\"\n",
    "\n",
    "file_path = f\"./data/foiclass.zip\"\n",
    "\n",
    "if exists(file_path):\n",
    "  print(f\"Already downloaded {file_path}; Skipping!\")\n",
    "else:\n",
    "  print(f\"Downloading {file_path}\")\n",
    "  urllib.request.urlretrieve(foiclass_zip, file_path)"
   ]
  },
  {
   "cell_type": "markdown",
   "metadata": {
    "id": "RyK0PU_eJeFi",
    "tags": []
   },
   "source": [
    "# Observations and Research\n",
    "There are four different types of files with MAUDE data:\n",
    "1. Master event data : `mdrfoithru2021.zip`\n",
    "2. Patient data: `patient...`\n",
    "3. Device data: `device...`\n",
    "4. Text data: `foitext...`\n",
    "\n",
    "All reports are linked via the `MDR Report Key`.\n",
    "\n",
    "This paper provides some additional insight on massaging the raw MAUDE data into useful formats:\n",
    "- [A Primer to the Structure, Content and Linkage of the FDA’s Manufacturer and User Facility Device Experience (MAUDE) Files](https://www.ncbi.nlm.nih.gov/pmc/articles/PMC5994953/)\n",
    "\n",
    "The [MAUDE data page](https://www.fda.gov/medical-devices/mandatory-reporting-requirements-manufacturers-importers-and-device-user-facilities/about-manufacturer-and-user-facility-device-experience-maude) also provides information that can be used to develop a schema for importing the data into a modern database that supports queries.\n",
    "\n",
    "This video had good info on running Jupyter notebooks on AWS:  \n",
    "- [Serverless Jupyter on AWS: Fully Managed Notebook Environments](https://www.youtube.com/watch?v=-k53AcgVHTI&ab_channel=AWSPublicSector)\n",
    "\n",
    "Running the notebook on a dedicated server in AWS will allow faster runtimes and persistent storage.  This is in comparison to running on shared resources in Google Colab where the data will need to be downloaded and reingested for each run which will lead to long run times.\n",
    "\n",
    "\n"
   ]
  },
  {
   "cell_type": "markdown",
   "metadata": {
    "id": "qCU6De0wEVfB"
   },
   "source": [
    "# Next Steps\n",
    "1. Set up an AWS account to host a dedicated Jupyter notebook server\n",
    "2. Migrate the 'Download' notebook to the AWS server\n",
    "3. Run the 'Download' notebook in the AWS environment and begin processing the data files\n",
    "4. Extract and concatenate the data for 2015 to build the database schema"
   ]
  },
  {
   "cell_type": "markdown",
   "metadata": {
    "id": "UTi1gtcKGn05"
   },
   "source": [
    "# Summary\n",
    "1. A Jupyter notebook has been developed to download MAUDE data from fda.gov\n",
    "2. The Google Colab envirionment is suitable for running the notebook and viewing the downloaded files.\n",
    "3. However, the shared Colab environment resulted in slow downloads.  In addition, the data is not saved permanently.\n",
    "4. A dedicated environment needs to be created which will allow faster runs of the notebook and permanent storage.  The dedicated server will be created in the AWS cloud.\n",
    "5. Next steps include processing data for 2015 to develop a database schema."
   ]
  }
 ],
 "metadata": {
  "colab": {
   "collapsed_sections": [],
   "provenance": []
  },
  "kernelspec": {
   "display_name": "conda_amazonei_pytorch_latest_p37",
   "language": "python",
   "name": "conda_amazonei_pytorch_latest_p37"
  },
  "language_info": {
   "codemirror_mode": {
    "name": "ipython",
    "version": 3
   },
   "file_extension": ".py",
   "mimetype": "text/x-python",
   "name": "python",
   "nbconvert_exporter": "python",
   "pygments_lexer": "ipython3",
   "version": "3.7.10"
  },
  "vscode": {
   "interpreter": {
    "hash": "0df23e0b8587652e8947bf433502af00ecfb3462d59e71e7bba71c0280b5fb19"
   }
  }
 },
 "nbformat": 4,
 "nbformat_minor": 4
}
