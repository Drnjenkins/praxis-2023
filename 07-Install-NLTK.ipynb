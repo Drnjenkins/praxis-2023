{
 "cells": [
  {
   "cell_type": "code",
   "execution_count": 6,
   "id": "f71d4b4b-d1a0-403a-a61e-048ac4bef4ca",
   "metadata": {
    "tags": []
   },
   "outputs": [],
   "source": [
    "! pip install --quiet --upgrade contractions"
   ]
  },
  {
   "cell_type": "code",
   "execution_count": 7,
   "id": "d74a75c3-1631-430b-ad99-c27a32ac51cc",
   "metadata": {
    "tags": []
   },
   "outputs": [],
   "source": [
    "! pip install --quiet --upgrade nltk"
   ]
  },
  {
   "cell_type": "code",
   "execution_count": 8,
   "id": "8d7daeb1-b8ae-4489-b53f-24e15eec4e97",
   "metadata": {
    "tags": []
   },
   "outputs": [
    {
     "data": {
      "text/plain": [
       "True"
      ]
     },
     "execution_count": 8,
     "metadata": {},
     "output_type": "execute_result"
    }
   ],
   "source": [
    "import nltk\n",
    "nltk.download('all', quiet=True)"
   ]
  }
 ],
 "metadata": {
  "kernelspec": {
   "display_name": "conda_amazonei_pytorch_latest_p37",
   "language": "python",
   "name": "conda_amazonei_pytorch_latest_p37"
  },
  "language_info": {
   "codemirror_mode": {
    "name": "ipython",
    "version": 3
   },
   "file_extension": ".py",
   "mimetype": "text/x-python",
   "name": "python",
   "nbconvert_exporter": "python",
   "pygments_lexer": "ipython3",
   "version": "3.7.10"
  },
  "vscode": {
   "interpreter": {
    "hash": "0df23e0b8587652e8947bf433502af00ecfb3462d59e71e7bba71c0280b5fb19"
   }
  }
 },
 "nbformat": 4,
 "nbformat_minor": 5
}
