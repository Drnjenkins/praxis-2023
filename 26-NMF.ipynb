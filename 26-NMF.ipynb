{
 "cells": [
  {
   "cell_type": "markdown",
   "id": "628bffb8-ff94-4c3d-96c0-1f06de4ac7f8",
   "metadata": {},
   "source": [
    "# NMF"
   ]
  },
  {
   "cell_type": "code",
   "execution_count": 1,
   "id": "f2cc4c2d-183c-40e3-9a01-dc77136fc7c3",
   "metadata": {},
   "outputs": [],
   "source": [
    "import pandas as pd\n",
    "import os\n",
    "import csv\n",
    "\n",
    "# Identify the working directory and data files\n",
    "working_directory = './26-NMF'\n",
    "\n",
    "# Create the working directory if needed\n",
    "try:\n",
    "    os.makedirs(working_directory, exist_ok=True)\n",
    "except OSError as error:\n",
    "    print(f\"Error creating {working_directory}: {error}\")"
   ]
  },
  {
   "cell_type": "code",
   "execution_count": 2,
   "id": "f8010892-3425-41c1-9886-e29909757bc8",
   "metadata": {
    "tags": []
   },
   "outputs": [],
   "source": [
    "! pip install --quiet --upgrade nltk"
   ]
  },
  {
   "cell_type": "code",
   "execution_count": 3,
   "id": "290cc46f-fc36-4898-893f-a28fa2749e96",
   "metadata": {
    "tags": []
   },
   "outputs": [
    {
     "name": "stdout",
     "output_type": "stream",
     "text": [
      "/home/ec2-user/anaconda3/envs/amazonei_pytorch_latest_p37/lib/python3.7/runpy.py:125: RuntimeWarning: 'nltk.downloader' found in sys.modules after import of package 'nltk', but prior to execution of 'nltk.downloader'; this may result in unpredictable behaviour\n",
      "  warn(RuntimeWarning(msg))\n"
     ]
    }
   ],
   "source": [
    "! python -m nltk.downloader --quiet 'all'"
   ]
  },
  {
   "cell_type": "code",
   "execution_count": 4,
   "id": "a5c19b5b-a9f2-4aae-b01a-799379ec1d54",
   "metadata": {
    "tags": []
   },
   "outputs": [],
   "source": [
    "# Readthe preprocessed data into a dataframe\n",
    "import pickle\n",
    "\n",
    "with open('./21-data_preprocessing/dataframe.pickle', 'rb') as f:\n",
    "    df = pickle.load(f)"
   ]
  },
  {
   "cell_type": "code",
   "execution_count": 5,
   "id": "9a074add-a605-4ebb-a8d0-edc752cd5964",
   "metadata": {
    "tags": []
   },
   "outputs": [
    {
     "data": {
      "text/plain": [
       "(5736, 20)"
      ]
     },
     "execution_count": 5,
     "metadata": {},
     "output_type": "execute_result"
    }
   ],
   "source": [
    "df.shape"
   ]
  },
  {
   "cell_type": "code",
   "execution_count": 6,
   "id": "cb9e03ea-d1a6-45e2-9274-228384d572ee",
   "metadata": {
    "tags": []
   },
   "outputs": [
    {
     "data": {
      "text/html": [
       "<div>\n",
       "<style scoped>\n",
       "    .dataframe tbody tr th:only-of-type {\n",
       "        vertical-align: middle;\n",
       "    }\n",
       "\n",
       "    .dataframe tbody tr th {\n",
       "        vertical-align: top;\n",
       "    }\n",
       "\n",
       "    .dataframe thead th {\n",
       "        text-align: right;\n",
       "    }\n",
       "</style>\n",
       "<table border=\"1\" class=\"dataframe\">\n",
       "  <thead>\n",
       "    <tr style=\"text-align: right;\">\n",
       "      <th></th>\n",
       "      <th>ROW_ID</th>\n",
       "      <th>FOI_TEXT</th>\n",
       "      <th>DEVICE_PROBLEM_CODE</th>\n",
       "      <th>DEVICE_PROBLEM_TEXT</th>\n",
       "      <th>GENERIC_NAME</th>\n",
       "      <th>DEVICE_REPORT_PRODUCT_CODE</th>\n",
       "      <th>UDI-DI</th>\n",
       "      <th>UDI-PUBLIC</th>\n",
       "      <th>DATE_OF_EVENT</th>\n",
       "      <th>REPORTER_OCCUPATION_CODE</th>\n",
       "      <th>REPORT_DATE</th>\n",
       "      <th>EVENT_LOCATION</th>\n",
       "      <th>SOURCE_TYPE</th>\n",
       "      <th>TOKENIZED_TEXT</th>\n",
       "      <th>NOPUNCT_TEXT</th>\n",
       "      <th>NOSTOPWORDS_TEXT</th>\n",
       "      <th>NODIGITS_TEXT</th>\n",
       "      <th>POS_TEXT</th>\n",
       "      <th>LEMMATIZED_TEXT</th>\n",
       "      <th>STEMMED_TEXT</th>\n",
       "    </tr>\n",
       "  </thead>\n",
       "  <tbody>\n",
       "    <tr>\n",
       "      <th>0</th>\n",
       "      <td>1969025</td>\n",
       "      <td>IT WAS REPORTED THAT THE TRANSMITTER LOST CONN...</td>\n",
       "      <td>3283</td>\n",
       "      <td>Wireless Communication Problem</td>\n",
       "      <td>CONTINUOUS GLUCOSE MONITOR</td>\n",
       "      <td>QBJ</td>\n",
       "      <td></td>\n",
       "      <td></td>\n",
       "      <td>07/30/2020</td>\n",
       "      <td>000</td>\n",
       "      <td></td>\n",
       "      <td>I</td>\n",
       "      <td>CONSUMER</td>\n",
       "      <td>[it, was, reported, that, the, transmitter, lo...</td>\n",
       "      <td>[it, was, reported, that, the, transmitter, lo...</td>\n",
       "      <td>[reported, transmitter, lost, connection, pump...</td>\n",
       "      <td>[reported, transmitter, lost, connection, pump...</td>\n",
       "      <td>[(reported, VBN), (transmitter, NN), (lost, VB...</td>\n",
       "      <td>[report, transmitter, lose, connection, pump, ...</td>\n",
       "      <td>[report, transmitt, lost, connect, pump, great...</td>\n",
       "    </tr>\n",
       "    <tr>\n",
       "      <th>1</th>\n",
       "      <td>1426265</td>\n",
       "      <td>IT WAS REPORTED THAT SIGNAL LOSS OVER ONE HOUR...</td>\n",
       "      <td>3283</td>\n",
       "      <td>Wireless Communication Problem</td>\n",
       "      <td>CONTINUOUS GLUCOSE MONITOR</td>\n",
       "      <td>QBJ</td>\n",
       "      <td>00386270000385</td>\n",
       "      <td>00386270000385</td>\n",
       "      <td>06/05/2020</td>\n",
       "      <td>000</td>\n",
       "      <td></td>\n",
       "      <td>I</td>\n",
       "      <td>CONSUMER</td>\n",
       "      <td>[it, was, reported, that, signal, loss, over, ...</td>\n",
       "      <td>[it, was, reported, that, signal, loss, over, ...</td>\n",
       "      <td>[reported, signal, loss, one, hour, occurred, ...</td>\n",
       "      <td>[reported, signal, loss, one, hour, occurred, ...</td>\n",
       "      <td>[(reported, VBN), (signal, JJ), (loss, NN), (o...</td>\n",
       "      <td>[report, signal, loss, one, hour, occur, produ...</td>\n",
       "      <td>[report, signal, loss, one, hour, occur, produ...</td>\n",
       "    </tr>\n",
       "    <tr>\n",
       "      <th>2</th>\n",
       "      <td>2609625</td>\n",
       "      <td>IT WAS REPORTED THAT TRANSMITTER FAILED ERROR ...</td>\n",
       "      <td>1435</td>\n",
       "      <td>No Device Output</td>\n",
       "      <td>CONTINUOUS GLUCOSE MONITOR</td>\n",
       "      <td>QBJ</td>\n",
       "      <td>00386270000385</td>\n",
       "      <td>00386270000385</td>\n",
       "      <td>10/05/2020</td>\n",
       "      <td>000</td>\n",
       "      <td></td>\n",
       "      <td>I</td>\n",
       "      <td>CONSUMER</td>\n",
       "      <td>[it, was, reported, that, transmitter, failed,...</td>\n",
       "      <td>[it, was, reported, that, transmitter, failed,...</td>\n",
       "      <td>[reported, transmitter, failed, error, occurre...</td>\n",
       "      <td>[reported, transmitter, failed, error, occurre...</td>\n",
       "      <td>[(reported, VBN), (transmitter, NN), (failed, ...</td>\n",
       "      <td>[report, transmitter, fail, error, occur, data...</td>\n",
       "      <td>[report, transmitt, fail, error, occur, data, ...</td>\n",
       "    </tr>\n",
       "    <tr>\n",
       "      <th>3</th>\n",
       "      <td>2813837</td>\n",
       "      <td>IT WAS REPORTED THAT SIGNAL LOSS OVER ONE HOUR...</td>\n",
       "      <td>3283</td>\n",
       "      <td>Wireless Communication Problem</td>\n",
       "      <td>CONTINUOUS GLUCOSE MONITOR</td>\n",
       "      <td>QBJ</td>\n",
       "      <td>00386270000385</td>\n",
       "      <td>00386270000385</td>\n",
       "      <td>10/23/2020</td>\n",
       "      <td>000</td>\n",
       "      <td></td>\n",
       "      <td>I</td>\n",
       "      <td>CONSUMER</td>\n",
       "      <td>[it, was, reported, that, signal, loss, over, ...</td>\n",
       "      <td>[it, was, reported, that, signal, loss, over, ...</td>\n",
       "      <td>[reported, signal, loss, one, hour, occurred, ...</td>\n",
       "      <td>[reported, signal, loss, one, hour, occurred, ...</td>\n",
       "      <td>[(reported, VBN), (signal, JJ), (loss, NN), (o...</td>\n",
       "      <td>[report, signal, loss, one, hour, occur, revie...</td>\n",
       "      <td>[report, signal, loss, one, hour, occur, revie...</td>\n",
       "    </tr>\n",
       "  </tbody>\n",
       "</table>\n",
       "</div>"
      ],
      "text/plain": [
       "    ROW_ID                                           FOI_TEXT  \\\n",
       "0  1969025  IT WAS REPORTED THAT THE TRANSMITTER LOST CONN...   \n",
       "1  1426265  IT WAS REPORTED THAT SIGNAL LOSS OVER ONE HOUR...   \n",
       "2  2609625  IT WAS REPORTED THAT TRANSMITTER FAILED ERROR ...   \n",
       "3  2813837  IT WAS REPORTED THAT SIGNAL LOSS OVER ONE HOUR...   \n",
       "\n",
       "  DEVICE_PROBLEM_CODE             DEVICE_PROBLEM_TEXT  \\\n",
       "0                3283  Wireless Communication Problem   \n",
       "1                3283  Wireless Communication Problem   \n",
       "2                1435                No Device Output   \n",
       "3                3283  Wireless Communication Problem   \n",
       "\n",
       "                 GENERIC_NAME DEVICE_REPORT_PRODUCT_CODE          UDI-DI  \\\n",
       "0  CONTINUOUS GLUCOSE MONITOR                        QBJ                   \n",
       "1  CONTINUOUS GLUCOSE MONITOR                        QBJ  00386270000385   \n",
       "2  CONTINUOUS GLUCOSE MONITOR                        QBJ  00386270000385   \n",
       "3  CONTINUOUS GLUCOSE MONITOR                        QBJ  00386270000385   \n",
       "\n",
       "       UDI-PUBLIC DATE_OF_EVENT REPORTER_OCCUPATION_CODE REPORT_DATE  \\\n",
       "0                    07/30/2020                      000               \n",
       "1  00386270000385    06/05/2020                      000               \n",
       "2  00386270000385    10/05/2020                      000               \n",
       "3  00386270000385    10/23/2020                      000               \n",
       "\n",
       "  EVENT_LOCATION SOURCE_TYPE  \\\n",
       "0              I    CONSUMER   \n",
       "1              I    CONSUMER   \n",
       "2              I    CONSUMER   \n",
       "3              I    CONSUMER   \n",
       "\n",
       "                                      TOKENIZED_TEXT  \\\n",
       "0  [it, was, reported, that, the, transmitter, lo...   \n",
       "1  [it, was, reported, that, signal, loss, over, ...   \n",
       "2  [it, was, reported, that, transmitter, failed,...   \n",
       "3  [it, was, reported, that, signal, loss, over, ...   \n",
       "\n",
       "                                        NOPUNCT_TEXT  \\\n",
       "0  [it, was, reported, that, the, transmitter, lo...   \n",
       "1  [it, was, reported, that, signal, loss, over, ...   \n",
       "2  [it, was, reported, that, transmitter, failed,...   \n",
       "3  [it, was, reported, that, signal, loss, over, ...   \n",
       "\n",
       "                                    NOSTOPWORDS_TEXT  \\\n",
       "0  [reported, transmitter, lost, connection, pump...   \n",
       "1  [reported, signal, loss, one, hour, occurred, ...   \n",
       "2  [reported, transmitter, failed, error, occurre...   \n",
       "3  [reported, signal, loss, one, hour, occurred, ...   \n",
       "\n",
       "                                       NODIGITS_TEXT  \\\n",
       "0  [reported, transmitter, lost, connection, pump...   \n",
       "1  [reported, signal, loss, one, hour, occurred, ...   \n",
       "2  [reported, transmitter, failed, error, occurre...   \n",
       "3  [reported, signal, loss, one, hour, occurred, ...   \n",
       "\n",
       "                                            POS_TEXT  \\\n",
       "0  [(reported, VBN), (transmitter, NN), (lost, VB...   \n",
       "1  [(reported, VBN), (signal, JJ), (loss, NN), (o...   \n",
       "2  [(reported, VBN), (transmitter, NN), (failed, ...   \n",
       "3  [(reported, VBN), (signal, JJ), (loss, NN), (o...   \n",
       "\n",
       "                                     LEMMATIZED_TEXT  \\\n",
       "0  [report, transmitter, lose, connection, pump, ...   \n",
       "1  [report, signal, loss, one, hour, occur, produ...   \n",
       "2  [report, transmitter, fail, error, occur, data...   \n",
       "3  [report, signal, loss, one, hour, occur, revie...   \n",
       "\n",
       "                                        STEMMED_TEXT  \n",
       "0  [report, transmitt, lost, connect, pump, great...  \n",
       "1  [report, signal, loss, one, hour, occur, produ...  \n",
       "2  [report, transmitt, fail, error, occur, data, ...  \n",
       "3  [report, signal, loss, one, hour, occur, revie...  "
      ]
     },
     "execution_count": 6,
     "metadata": {},
     "output_type": "execute_result"
    }
   ],
   "source": [
    "df.head(4)"
   ]
  },
  {
   "cell_type": "code",
   "execution_count": 7,
   "id": "d731915e-8847-49df-9079-ca4345cb5eed",
   "metadata": {},
   "outputs": [],
   "source": [
    "bag_of_words_file = \"./21-data_preprocessing/bag_of_words_data.csv\"\n",
    "\n",
    "# Read the data into a pandas dataframe\n",
    "bow_df = pd.read_csv(bag_of_words_file, # The data file being read, from the variable assignment above\n",
    "                 on_bad_lines='warn',           # This tells Pandas to only warn on bad lines vs causing an error\n",
    "                 dtype='str')                   # This tells Pandas to treat all numbers as words\n",
    "\n",
    "bow_df.fillna(\"\", inplace=True)"
   ]
  },
  {
   "cell_type": "code",
   "execution_count": 8,
   "id": "4a53e6b1-bce3-4412-9fa0-c09047394264",
   "metadata": {
    "tags": []
   },
   "outputs": [],
   "source": [
    "max_topics = 15"
   ]
  },
  {
   "cell_type": "code",
   "execution_count": 9,
   "id": "955168a9-17a7-46c0-966d-9dd46a2ad99f",
   "metadata": {
    "tags": []
   },
   "outputs": [
    {
     "data": {
      "text/plain": [
       "(5736, 922)"
      ]
     },
     "execution_count": 9,
     "metadata": {},
     "output_type": "execute_result"
    }
   ],
   "source": [
    "bow_df.shape"
   ]
  },
  {
   "cell_type": "code",
   "execution_count": 10,
   "id": "0214b3ee-a43b-43e2-8665-232100803897",
   "metadata": {
    "tags": []
   },
   "outputs": [
    {
     "data": {
      "text/html": [
       "<div>\n",
       "<style scoped>\n",
       "    .dataframe tbody tr th:only-of-type {\n",
       "        vertical-align: middle;\n",
       "    }\n",
       "\n",
       "    .dataframe tbody tr th {\n",
       "        vertical-align: top;\n",
       "    }\n",
       "\n",
       "    .dataframe thead th {\n",
       "        text-align: right;\n",
       "    }\n",
       "</style>\n",
       "<table border=\"1\" class=\"dataframe\">\n",
       "  <thead>\n",
       "    <tr style=\"text-align: right;\">\n",
       "      <th></th>\n",
       "      <th>abbott</th>\n",
       "      <th>abdomen</th>\n",
       "      <th>abdominal</th>\n",
       "      <th>aberration</th>\n",
       "      <th>able</th>\n",
       "      <th>accessory</th>\n",
       "      <th>accuracy</th>\n",
       "      <th>accurate</th>\n",
       "      <th>acetaminophen</th>\n",
       "      <th>actually</th>\n",
       "      <th>...</th>\n",
       "      <th>work</th>\n",
       "      <th>would</th>\n",
       "      <th>x2</th>\n",
       "      <th>xray</th>\n",
       "      <th>year</th>\n",
       "      <th>yellow</th>\n",
       "      <th>yes</th>\n",
       "      <th>yet</th>\n",
       "      <th>zero</th>\n",
       "      <th>zone</th>\n",
       "    </tr>\n",
       "  </thead>\n",
       "  <tbody>\n",
       "    <tr>\n",
       "      <th>0</th>\n",
       "      <td>0</td>\n",
       "      <td>0</td>\n",
       "      <td>0</td>\n",
       "      <td>0</td>\n",
       "      <td>0</td>\n",
       "      <td>0</td>\n",
       "      <td>0</td>\n",
       "      <td>0</td>\n",
       "      <td>0</td>\n",
       "      <td>0</td>\n",
       "      <td>...</td>\n",
       "      <td>0</td>\n",
       "      <td>0</td>\n",
       "      <td>0</td>\n",
       "      <td>0</td>\n",
       "      <td>0</td>\n",
       "      <td>0</td>\n",
       "      <td>0</td>\n",
       "      <td>0</td>\n",
       "      <td>0</td>\n",
       "      <td>0</td>\n",
       "    </tr>\n",
       "    <tr>\n",
       "      <th>1</th>\n",
       "      <td>0</td>\n",
       "      <td>0</td>\n",
       "      <td>0</td>\n",
       "      <td>0</td>\n",
       "      <td>0</td>\n",
       "      <td>0</td>\n",
       "      <td>0</td>\n",
       "      <td>0</td>\n",
       "      <td>0</td>\n",
       "      <td>0</td>\n",
       "      <td>...</td>\n",
       "      <td>0</td>\n",
       "      <td>0</td>\n",
       "      <td>0</td>\n",
       "      <td>0</td>\n",
       "      <td>0</td>\n",
       "      <td>0</td>\n",
       "      <td>0</td>\n",
       "      <td>0</td>\n",
       "      <td>0</td>\n",
       "      <td>0</td>\n",
       "    </tr>\n",
       "    <tr>\n",
       "      <th>2</th>\n",
       "      <td>0</td>\n",
       "      <td>0</td>\n",
       "      <td>0</td>\n",
       "      <td>0</td>\n",
       "      <td>0</td>\n",
       "      <td>0</td>\n",
       "      <td>0</td>\n",
       "      <td>0</td>\n",
       "      <td>0</td>\n",
       "      <td>0</td>\n",
       "      <td>...</td>\n",
       "      <td>0</td>\n",
       "      <td>0</td>\n",
       "      <td>0</td>\n",
       "      <td>0</td>\n",
       "      <td>0</td>\n",
       "      <td>0</td>\n",
       "      <td>0</td>\n",
       "      <td>0</td>\n",
       "      <td>0</td>\n",
       "      <td>0</td>\n",
       "    </tr>\n",
       "    <tr>\n",
       "      <th>3</th>\n",
       "      <td>0</td>\n",
       "      <td>0</td>\n",
       "      <td>0</td>\n",
       "      <td>0</td>\n",
       "      <td>0</td>\n",
       "      <td>0</td>\n",
       "      <td>0</td>\n",
       "      <td>0</td>\n",
       "      <td>0</td>\n",
       "      <td>0</td>\n",
       "      <td>...</td>\n",
       "      <td>0</td>\n",
       "      <td>0</td>\n",
       "      <td>0</td>\n",
       "      <td>0</td>\n",
       "      <td>0</td>\n",
       "      <td>0</td>\n",
       "      <td>0</td>\n",
       "      <td>0</td>\n",
       "      <td>0</td>\n",
       "      <td>0</td>\n",
       "    </tr>\n",
       "  </tbody>\n",
       "</table>\n",
       "<p>4 rows × 922 columns</p>\n",
       "</div>"
      ],
      "text/plain": [
       "   abbott  abdomen  abdominal  aberration  able  accessory  accuracy  \\\n",
       "0       0        0          0           0     0          0         0   \n",
       "1       0        0          0           0     0          0         0   \n",
       "2       0        0          0           0     0          0         0   \n",
       "3       0        0          0           0     0          0         0   \n",
       "\n",
       "   accurate  acetaminophen  actually  ...  work  would  x2  xray  year  \\\n",
       "0         0              0         0  ...     0      0   0     0     0   \n",
       "1         0              0         0  ...     0      0   0     0     0   \n",
       "2         0              0         0  ...     0      0   0     0     0   \n",
       "3         0              0         0  ...     0      0   0     0     0   \n",
       "\n",
       "   yellow  yes  yet  zero  zone  \n",
       "0       0    0    0     0     0  \n",
       "1       0    0    0     0     0  \n",
       "2       0    0    0     0     0  \n",
       "3       0    0    0     0     0  \n",
       "\n",
       "[4 rows x 922 columns]"
      ]
     },
     "execution_count": 10,
     "metadata": {},
     "output_type": "execute_result"
    }
   ],
   "source": [
    "bow_df.head(4)"
   ]
  },
  {
   "cell_type": "code",
   "execution_count": 11,
   "id": "5a752563-7282-4b10-8740-d5b226dcbf11",
   "metadata": {
    "tags": []
   },
   "outputs": [
    {
     "name": "stderr",
     "output_type": "stream",
     "text": [
      "/home/ec2-user/anaconda3/envs/amazonei_pytorch_latest_p37/lib/python3.7/site-packages/sklearn/decomposition/_nmf.py:294: FutureWarning: The 'init' value, when 'init=None' and n_components is less than n_samples and n_features, will be changed from 'nndsvd' to 'nndsvda' in 1.1 (renaming of 0.26).\n",
      "  FutureWarning,\n"
     ]
    }
   ],
   "source": [
    "from sklearn.decomposition import NMF\n",
    "\n",
    "num_topics = 15 # or the number of topics you want to extract\n",
    "nmf_model = NMF(n_components=num_topics)\n",
    "nmf_model.fit(bow_df)\n",
    "doc_topic_matrix = nmf_model.transform(bow_df)\n",
    "topic_word_matrix = nmf_model.components_\n",
    "num_top_words = 10 # or the number of top words you want to display for each topic"
   ]
  },
  {
   "cell_type": "code",
   "execution_count": 12,
   "id": "da7ebd53-4d12-4803-a0c2-f0cc61c3f67f",
   "metadata": {
    "tags": []
   },
   "outputs": [
    {
     "data": {
      "text/plain": [
       "array([[0.        , 0.        , 0.        , ..., 0.        , 0.        ,\n",
       "        0.        ],\n",
       "       [0.        , 0.        , 0.        , ..., 0.00507946, 0.23390649,\n",
       "        0.        ],\n",
       "       [0.2013439 , 0.00220656, 0.        , ..., 0.        , 0.01352555,\n",
       "        0.        ],\n",
       "       ...,\n",
       "       [0.        , 0.        , 0.        , ..., 0.        , 0.23885901,\n",
       "        0.        ],\n",
       "       [0.2013439 , 0.00220656, 0.        , ..., 0.        , 0.01352555,\n",
       "        0.        ],\n",
       "       [0.        , 0.        , 0.07333078, ..., 0.00661048, 0.18055754,\n",
       "        0.        ]])"
      ]
     },
     "execution_count": 12,
     "metadata": {},
     "output_type": "execute_result"
    }
   ],
   "source": [
    "doc_topic_matrix"
   ]
  },
  {
   "cell_type": "code",
   "execution_count": 13,
   "id": "ba3ade3d-bc4f-41e2-bd52-4eaf86afefbf",
   "metadata": {
    "tags": []
   },
   "outputs": [
    {
     "data": {
      "text/plain": [
       "array([[0.00000000e+00, 0.00000000e+00, 0.00000000e+00, ...,\n",
       "        0.00000000e+00, 0.00000000e+00, 2.02653772e-02],\n",
       "       [0.00000000e+00, 0.00000000e+00, 0.00000000e+00, ...,\n",
       "        0.00000000e+00, 0.00000000e+00, 0.00000000e+00],\n",
       "       [0.00000000e+00, 0.00000000e+00, 0.00000000e+00, ...,\n",
       "        0.00000000e+00, 0.00000000e+00, 0.00000000e+00],\n",
       "       ...,\n",
       "       [4.67378213e-04, 0.00000000e+00, 2.35078607e-05, ...,\n",
       "        0.00000000e+00, 5.71510480e-04, 0.00000000e+00],\n",
       "       [0.00000000e+00, 1.59056010e-01, 0.00000000e+00, ...,\n",
       "        0.00000000e+00, 0.00000000e+00, 0.00000000e+00],\n",
       "       [0.00000000e+00, 0.00000000e+00, 0.00000000e+00, ...,\n",
       "        0.00000000e+00, 0.00000000e+00, 0.00000000e+00]])"
      ]
     },
     "execution_count": 13,
     "metadata": {},
     "output_type": "execute_result"
    }
   ],
   "source": [
    "topic_word_matrix"
   ]
  },
  {
   "cell_type": "code",
   "execution_count": 14,
   "id": "3574a3f2-0431-4c30-a014-541930366204",
   "metadata": {
    "tags": []
   },
   "outputs": [
    {
     "data": {
      "text/plain": [
       "922"
      ]
     },
     "execution_count": 14,
     "metadata": {},
     "output_type": "execute_result"
    }
   ],
   "source": [
    "terms = bow_df.columns\n",
    "len(terms)"
   ]
  },
  {
   "cell_type": "code",
   "execution_count": 17,
   "id": "8576fb0b-116a-4f40-b30e-73b11c79b045",
   "metadata": {},
   "outputs": [
    {
     "name": "stdout",
     "output_type": "stream",
     "text": [
      "\n",
      "Topic #0:\n",
      "report data confirm evaluate probable determine injury intervention medical allegation\n",
      "\n",
      "Topic #1:\n",
      "read bg mgdl cgm meter glucose reportedly customer inaccuracy monitor\n",
      "\n",
      "Topic #2:\n",
      "within share log report investigation review find window perform confirm\n",
      "\n",
      "Topic #3:\n",
      "transmitter fail error report battery low occur allegation medical intervention\n",
      "\n",
      "Topic #4:\n",
      "new evaluation submit return product become information available relevant supplemental\n",
      "\n",
      "Topic #5:\n",
      "perform pass inspection visual test voltage product evaluate external pair\n",
      "\n",
      "Topic #6:\n",
      "glucose report value data parkes grid fall within zone error\n",
      "\n",
      "Topic #7:\n",
      "transmitter customer could root replacement send determine additional information available\n",
      "\n",
      "Topic #8:\n",
      "device receive however report yet expect submit return supplemental evaluation\n",
      "\n",
      "Topic #9:\n",
      "sensor report expiration early patient alert replace insert b6 occur\n",
      "\n",
      "Topic #10:\n",
      "transmitter connection pump patient additional information report available lose event\n",
      "\n",
      "Topic #11:\n",
      "signal loss hour one report occur probable app allegation medical\n",
      "\n",
      "Topic #12:\n",
      "data cannot support share report session undetermined per investigation complaint\n",
      "\n",
      "Topic #13:\n",
      "report evaluation could provide determine confirmation product injury intervention medical\n",
      "\n",
      "Topic #14:\n",
      "device system mobile operating indicate smart support loss relate application\n"
     ]
    }
   ],
   "source": [
    "num_top_words = 10 # or the number of top words you want to display for each topic\n",
    "for topic_idx, topic in enumerate(topic_word_matrix):\n",
    "    print(\"\\nTopic #%d:\" % topic_idx)\n",
    "    print(\" \".join([terms[i] for i in topic.argsort()[:-num_top_words - 1:-1]]))"
   ]
  },
  {
   "cell_type": "code",
   "execution_count": 18,
   "id": "5f77a6ff-326e-4ee0-9560-21ea5c3620f1",
   "metadata": {},
   "outputs": [
    {
     "name": "stdout",
     "output_type": "stream",
     "text": [
      "Note: you may need to restart the kernel to use updated packages.\n"
     ]
    }
   ],
   "source": [
    "%pip install --upgrade --quiet gensim"
   ]
  },
  {
   "cell_type": "code",
   "execution_count": 38,
   "id": "82c00efc-6dcd-4209-a5a7-f50db458887a",
   "metadata": {
    "tags": []
   },
   "outputs": [],
   "source": [
    "texts = [word for row in df['LEMMATIZED_TEXT'] for word in row]"
   ]
  },
  {
   "cell_type": "code",
   "execution_count": 27,
   "id": "643eebb2-7e0d-44a2-94d0-f0a3c3a30f02",
   "metadata": {},
   "outputs": [],
   "source": [
    "from gensim import corpora\n",
    "\n",
    "# Create a dictionary\n",
    "# In gensim a dictionary is a mapping between words and their integer id\n",
    "dictionary = corpora.Dictionary([texts])\n",
    "\n",
    "# Filter out extremes to limit the number of features\n",
    "dictionary.filter_extremes(\n",
    "    no_below=3,\n",
    "    no_above=0.85,\n",
    "    keep_n=5000\n",
    ")"
   ]
  }
 ],
 "metadata": {
  "kernelspec": {
   "display_name": "conda_amazonei_pytorch_latest_p37",
   "language": "python",
   "name": "conda_amazonei_pytorch_latest_p37"
  },
  "language_info": {
   "codemirror_mode": {
    "name": "ipython",
    "version": 3
   },
   "file_extension": ".py",
   "mimetype": "text/x-python",
   "name": "python",
   "nbconvert_exporter": "python",
   "pygments_lexer": "ipython3",
   "version": "3.7.10"
  }
 },
 "nbformat": 4,
 "nbformat_minor": 5
}
