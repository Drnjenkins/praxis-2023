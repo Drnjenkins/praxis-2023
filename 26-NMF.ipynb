{
 "cells": [
  {
   "cell_type": "markdown",
   "id": "628bffb8-ff94-4c3d-96c0-1f06de4ac7f8",
   "metadata": {},
   "source": [
    "# NMF"
   ]
  },
  {
   "cell_type": "code",
   "execution_count": 1,
   "id": "f2cc4c2d-183c-40e3-9a01-dc77136fc7c3",
   "metadata": {},
   "outputs": [],
   "source": [
    "import pandas as pd\n",
    "import os\n",
    "import csv\n",
    "\n",
    "# Identify the working directory and data files\n",
    "working_directory = './26-NMF'\n",
    "\n",
    "# Create the working directory if needed\n",
    "try:\n",
    "    os.makedirs(working_directory, exist_ok=True)\n",
    "except OSError as error:\n",
    "    print(f\"Error creating {working_directory}: {error}\")"
   ]
  },
  {
   "cell_type": "code",
   "execution_count": 2,
   "id": "f8010892-3425-41c1-9886-e29909757bc8",
   "metadata": {
    "tags": []
   },
   "outputs": [],
   "source": [
    "! pip install --quiet --upgrade nltk"
   ]
  },
  {
   "cell_type": "code",
   "execution_count": 3,
   "id": "290cc46f-fc36-4898-893f-a28fa2749e96",
   "metadata": {
    "tags": []
   },
   "outputs": [
    {
     "name": "stdout",
     "output_type": "stream",
     "text": [
      "/home/ec2-user/anaconda3/envs/amazonei_pytorch_latest_p37/lib/python3.7/runpy.py:125: RuntimeWarning: 'nltk.downloader' found in sys.modules after import of package 'nltk', but prior to execution of 'nltk.downloader'; this may result in unpredictable behaviour\n",
      "  warn(RuntimeWarning(msg))\n"
     ]
    }
   ],
   "source": [
    "! python -m nltk.downloader --quiet 'all'"
   ]
  },
  {
   "cell_type": "code",
   "execution_count": 4,
   "id": "a5c19b5b-a9f2-4aae-b01a-799379ec1d54",
   "metadata": {
    "tags": []
   },
   "outputs": [],
   "source": [
    "# Read the preprocessed data into a dataframe\n",
    "import pickle\n",
    "\n",
    "with open('./21-data_preprocessing/dataframe.pickle', 'rb') as f:\n",
    "    df = pickle.load(f)"
   ]
  },
  {
   "cell_type": "code",
   "execution_count": 5,
   "id": "9a074add-a605-4ebb-a8d0-edc752cd5964",
   "metadata": {
    "tags": []
   },
   "outputs": [
    {
     "data": {
      "text/plain": [
       "(5736, 20)"
      ]
     },
     "execution_count": 5,
     "metadata": {},
     "output_type": "execute_result"
    }
   ],
   "source": [
    "df.shape"
   ]
  },
  {
   "cell_type": "code",
   "execution_count": 6,
   "id": "cb9e03ea-d1a6-45e2-9274-228384d572ee",
   "metadata": {
    "tags": []
   },
   "outputs": [
    {
     "data": {
      "text/html": [
       "<div>\n",
       "<style scoped>\n",
       "    .dataframe tbody tr th:only-of-type {\n",
       "        vertical-align: middle;\n",
       "    }\n",
       "\n",
       "    .dataframe tbody tr th {\n",
       "        vertical-align: top;\n",
       "    }\n",
       "\n",
       "    .dataframe thead th {\n",
       "        text-align: right;\n",
       "    }\n",
       "</style>\n",
       "<table border=\"1\" class=\"dataframe\">\n",
       "  <thead>\n",
       "    <tr style=\"text-align: right;\">\n",
       "      <th></th>\n",
       "      <th>ROW_ID</th>\n",
       "      <th>FOI_TEXT</th>\n",
       "      <th>DEVICE_PROBLEM_CODE</th>\n",
       "      <th>DEVICE_PROBLEM_TEXT</th>\n",
       "      <th>GENERIC_NAME</th>\n",
       "      <th>DEVICE_REPORT_PRODUCT_CODE</th>\n",
       "      <th>UDI-DI</th>\n",
       "      <th>UDI-PUBLIC</th>\n",
       "      <th>DATE_OF_EVENT</th>\n",
       "      <th>REPORTER_OCCUPATION_CODE</th>\n",
       "      <th>REPORT_DATE</th>\n",
       "      <th>EVENT_LOCATION</th>\n",
       "      <th>SOURCE_TYPE</th>\n",
       "      <th>TOKENIZED_TEXT</th>\n",
       "      <th>NOPUNCT_TEXT</th>\n",
       "      <th>NOSTOPWORDS_TEXT</th>\n",
       "      <th>NODIGITS_TEXT</th>\n",
       "      <th>POS_TEXT</th>\n",
       "      <th>LEMMATIZED_TEXT</th>\n",
       "      <th>STEMMED_TEXT</th>\n",
       "    </tr>\n",
       "  </thead>\n",
       "  <tbody>\n",
       "    <tr>\n",
       "      <th>0</th>\n",
       "      <td>1969025</td>\n",
       "      <td>IT WAS REPORTED THAT THE TRANSMITTER LOST CONN...</td>\n",
       "      <td>3283</td>\n",
       "      <td>Wireless Communication Problem</td>\n",
       "      <td>CONTINUOUS GLUCOSE MONITOR</td>\n",
       "      <td>QBJ</td>\n",
       "      <td></td>\n",
       "      <td></td>\n",
       "      <td>07/30/2020</td>\n",
       "      <td>000</td>\n",
       "      <td></td>\n",
       "      <td>I</td>\n",
       "      <td>CONSUMER</td>\n",
       "      <td>[it, was, reported, that, the, transmitter, lo...</td>\n",
       "      <td>[it, was, reported, that, the, transmitter, lo...</td>\n",
       "      <td>[reported, transmitter, lost, connection, pump...</td>\n",
       "      <td>[reported, transmitter, lost, connection, pump...</td>\n",
       "      <td>[(reported, VBN), (transmitter, NN), (lost, VB...</td>\n",
       "      <td>[report, transmitter, lose, connection, pump, ...</td>\n",
       "      <td>[report, transmitt, lost, connect, pump, great...</td>\n",
       "    </tr>\n",
       "    <tr>\n",
       "      <th>1</th>\n",
       "      <td>1426265</td>\n",
       "      <td>IT WAS REPORTED THAT SIGNAL LOSS OVER ONE HOUR...</td>\n",
       "      <td>3283</td>\n",
       "      <td>Wireless Communication Problem</td>\n",
       "      <td>CONTINUOUS GLUCOSE MONITOR</td>\n",
       "      <td>QBJ</td>\n",
       "      <td>00386270000385</td>\n",
       "      <td>00386270000385</td>\n",
       "      <td>06/05/2020</td>\n",
       "      <td>000</td>\n",
       "      <td></td>\n",
       "      <td>I</td>\n",
       "      <td>CONSUMER</td>\n",
       "      <td>[it, was, reported, that, signal, loss, over, ...</td>\n",
       "      <td>[it, was, reported, that, signal, loss, over, ...</td>\n",
       "      <td>[reported, signal, loss, one, hour, occurred, ...</td>\n",
       "      <td>[reported, signal, loss, one, hour, occurred, ...</td>\n",
       "      <td>[(reported, VBN), (signal, JJ), (loss, NN), (o...</td>\n",
       "      <td>[report, signal, loss, one, hour, occur, produ...</td>\n",
       "      <td>[report, signal, loss, one, hour, occur, produ...</td>\n",
       "    </tr>\n",
       "    <tr>\n",
       "      <th>2</th>\n",
       "      <td>2609625</td>\n",
       "      <td>IT WAS REPORTED THAT TRANSMITTER FAILED ERROR ...</td>\n",
       "      <td>1435</td>\n",
       "      <td>No Device Output</td>\n",
       "      <td>CONTINUOUS GLUCOSE MONITOR</td>\n",
       "      <td>QBJ</td>\n",
       "      <td>00386270000385</td>\n",
       "      <td>00386270000385</td>\n",
       "      <td>10/05/2020</td>\n",
       "      <td>000</td>\n",
       "      <td></td>\n",
       "      <td>I</td>\n",
       "      <td>CONSUMER</td>\n",
       "      <td>[it, was, reported, that, transmitter, failed,...</td>\n",
       "      <td>[it, was, reported, that, transmitter, failed,...</td>\n",
       "      <td>[reported, transmitter, failed, error, occurre...</td>\n",
       "      <td>[reported, transmitter, failed, error, occurre...</td>\n",
       "      <td>[(reported, VBN), (transmitter, NN), (failed, ...</td>\n",
       "      <td>[report, transmitter, fail, error, occur, data...</td>\n",
       "      <td>[report, transmitt, fail, error, occur, data, ...</td>\n",
       "    </tr>\n",
       "    <tr>\n",
       "      <th>3</th>\n",
       "      <td>2813837</td>\n",
       "      <td>IT WAS REPORTED THAT SIGNAL LOSS OVER ONE HOUR...</td>\n",
       "      <td>3283</td>\n",
       "      <td>Wireless Communication Problem</td>\n",
       "      <td>CONTINUOUS GLUCOSE MONITOR</td>\n",
       "      <td>QBJ</td>\n",
       "      <td>00386270000385</td>\n",
       "      <td>00386270000385</td>\n",
       "      <td>10/23/2020</td>\n",
       "      <td>000</td>\n",
       "      <td></td>\n",
       "      <td>I</td>\n",
       "      <td>CONSUMER</td>\n",
       "      <td>[it, was, reported, that, signal, loss, over, ...</td>\n",
       "      <td>[it, was, reported, that, signal, loss, over, ...</td>\n",
       "      <td>[reported, signal, loss, one, hour, occurred, ...</td>\n",
       "      <td>[reported, signal, loss, one, hour, occurred, ...</td>\n",
       "      <td>[(reported, VBN), (signal, JJ), (loss, NN), (o...</td>\n",
       "      <td>[report, signal, loss, one, hour, occur, revie...</td>\n",
       "      <td>[report, signal, loss, one, hour, occur, revie...</td>\n",
       "    </tr>\n",
       "  </tbody>\n",
       "</table>\n",
       "</div>"
      ],
      "text/plain": [
       "    ROW_ID                                           FOI_TEXT  \\\n",
       "0  1969025  IT WAS REPORTED THAT THE TRANSMITTER LOST CONN...   \n",
       "1  1426265  IT WAS REPORTED THAT SIGNAL LOSS OVER ONE HOUR...   \n",
       "2  2609625  IT WAS REPORTED THAT TRANSMITTER FAILED ERROR ...   \n",
       "3  2813837  IT WAS REPORTED THAT SIGNAL LOSS OVER ONE HOUR...   \n",
       "\n",
       "  DEVICE_PROBLEM_CODE             DEVICE_PROBLEM_TEXT  \\\n",
       "0                3283  Wireless Communication Problem   \n",
       "1                3283  Wireless Communication Problem   \n",
       "2                1435                No Device Output   \n",
       "3                3283  Wireless Communication Problem   \n",
       "\n",
       "                 GENERIC_NAME DEVICE_REPORT_PRODUCT_CODE          UDI-DI  \\\n",
       "0  CONTINUOUS GLUCOSE MONITOR                        QBJ                   \n",
       "1  CONTINUOUS GLUCOSE MONITOR                        QBJ  00386270000385   \n",
       "2  CONTINUOUS GLUCOSE MONITOR                        QBJ  00386270000385   \n",
       "3  CONTINUOUS GLUCOSE MONITOR                        QBJ  00386270000385   \n",
       "\n",
       "       UDI-PUBLIC DATE_OF_EVENT REPORTER_OCCUPATION_CODE REPORT_DATE  \\\n",
       "0                    07/30/2020                      000               \n",
       "1  00386270000385    06/05/2020                      000               \n",
       "2  00386270000385    10/05/2020                      000               \n",
       "3  00386270000385    10/23/2020                      000               \n",
       "\n",
       "  EVENT_LOCATION SOURCE_TYPE  \\\n",
       "0              I    CONSUMER   \n",
       "1              I    CONSUMER   \n",
       "2              I    CONSUMER   \n",
       "3              I    CONSUMER   \n",
       "\n",
       "                                      TOKENIZED_TEXT  \\\n",
       "0  [it, was, reported, that, the, transmitter, lo...   \n",
       "1  [it, was, reported, that, signal, loss, over, ...   \n",
       "2  [it, was, reported, that, transmitter, failed,...   \n",
       "3  [it, was, reported, that, signal, loss, over, ...   \n",
       "\n",
       "                                        NOPUNCT_TEXT  \\\n",
       "0  [it, was, reported, that, the, transmitter, lo...   \n",
       "1  [it, was, reported, that, signal, loss, over, ...   \n",
       "2  [it, was, reported, that, transmitter, failed,...   \n",
       "3  [it, was, reported, that, signal, loss, over, ...   \n",
       "\n",
       "                                    NOSTOPWORDS_TEXT  \\\n",
       "0  [reported, transmitter, lost, connection, pump...   \n",
       "1  [reported, signal, loss, one, hour, occurred, ...   \n",
       "2  [reported, transmitter, failed, error, occurre...   \n",
       "3  [reported, signal, loss, one, hour, occurred, ...   \n",
       "\n",
       "                                       NODIGITS_TEXT  \\\n",
       "0  [reported, transmitter, lost, connection, pump...   \n",
       "1  [reported, signal, loss, one, hour, occurred, ...   \n",
       "2  [reported, transmitter, failed, error, occurre...   \n",
       "3  [reported, signal, loss, one, hour, occurred, ...   \n",
       "\n",
       "                                            POS_TEXT  \\\n",
       "0  [(reported, VBN), (transmitter, NN), (lost, VB...   \n",
       "1  [(reported, VBN), (signal, JJ), (loss, NN), (o...   \n",
       "2  [(reported, VBN), (transmitter, NN), (failed, ...   \n",
       "3  [(reported, VBN), (signal, JJ), (loss, NN), (o...   \n",
       "\n",
       "                                     LEMMATIZED_TEXT  \\\n",
       "0  [report, transmitter, lose, connection, pump, ...   \n",
       "1  [report, signal, loss, one, hour, occur, produ...   \n",
       "2  [report, transmitter, fail, error, occur, data...   \n",
       "3  [report, signal, loss, one, hour, occur, revie...   \n",
       "\n",
       "                                        STEMMED_TEXT  \n",
       "0  [report, transmitt, lost, connect, pump, great...  \n",
       "1  [report, signal, loss, one, hour, occur, produ...  \n",
       "2  [report, transmitt, fail, error, occur, data, ...  \n",
       "3  [report, signal, loss, one, hour, occur, revie...  "
      ]
     },
     "execution_count": 6,
     "metadata": {},
     "output_type": "execute_result"
    }
   ],
   "source": [
    "df.head(4)"
   ]
  },
  {
   "cell_type": "code",
   "execution_count": 7,
   "id": "d731915e-8847-49df-9079-ca4345cb5eed",
   "metadata": {},
   "outputs": [],
   "source": [
    "bag_of_words_file = \"./21-data_preprocessing/bag_of_words_data.csv\"\n",
    "\n",
    "# Read the data into a pandas dataframe\n",
    "bow_df = pd.read_csv(bag_of_words_file, # The data file being read, from the variable assignment above\n",
    "                 on_bad_lines='warn',           # This tells Pandas to only warn on bad lines vs causing an error\n",
    "                 dtype='str')                   # This tells Pandas to treat all numbers as words\n",
    "\n",
    "bow_df.fillna(\"\", inplace=True)"
   ]
  },
  {
   "cell_type": "code",
   "execution_count": 8,
   "id": "955168a9-17a7-46c0-966d-9dd46a2ad99f",
   "metadata": {
    "tags": []
   },
   "outputs": [
    {
     "data": {
      "text/plain": [
       "(5736, 922)"
      ]
     },
     "execution_count": 8,
     "metadata": {},
     "output_type": "execute_result"
    }
   ],
   "source": [
    "bow_df.shape"
   ]
  },
  {
   "cell_type": "code",
   "execution_count": 9,
   "id": "0214b3ee-a43b-43e2-8665-232100803897",
   "metadata": {
    "tags": []
   },
   "outputs": [
    {
     "data": {
      "text/html": [
       "<div>\n",
       "<style scoped>\n",
       "    .dataframe tbody tr th:only-of-type {\n",
       "        vertical-align: middle;\n",
       "    }\n",
       "\n",
       "    .dataframe tbody tr th {\n",
       "        vertical-align: top;\n",
       "    }\n",
       "\n",
       "    .dataframe thead th {\n",
       "        text-align: right;\n",
       "    }\n",
       "</style>\n",
       "<table border=\"1\" class=\"dataframe\">\n",
       "  <thead>\n",
       "    <tr style=\"text-align: right;\">\n",
       "      <th></th>\n",
       "      <th>abbott</th>\n",
       "      <th>abdomen</th>\n",
       "      <th>abdominal</th>\n",
       "      <th>aberration</th>\n",
       "      <th>able</th>\n",
       "      <th>accessory</th>\n",
       "      <th>accuracy</th>\n",
       "      <th>accurate</th>\n",
       "      <th>acetaminophen</th>\n",
       "      <th>actually</th>\n",
       "      <th>...</th>\n",
       "      <th>work</th>\n",
       "      <th>would</th>\n",
       "      <th>x2</th>\n",
       "      <th>xray</th>\n",
       "      <th>year</th>\n",
       "      <th>yellow</th>\n",
       "      <th>yes</th>\n",
       "      <th>yet</th>\n",
       "      <th>zero</th>\n",
       "      <th>zone</th>\n",
       "    </tr>\n",
       "  </thead>\n",
       "  <tbody>\n",
       "    <tr>\n",
       "      <th>0</th>\n",
       "      <td>0</td>\n",
       "      <td>0</td>\n",
       "      <td>0</td>\n",
       "      <td>0</td>\n",
       "      <td>0</td>\n",
       "      <td>0</td>\n",
       "      <td>0</td>\n",
       "      <td>0</td>\n",
       "      <td>0</td>\n",
       "      <td>0</td>\n",
       "      <td>...</td>\n",
       "      <td>0</td>\n",
       "      <td>0</td>\n",
       "      <td>0</td>\n",
       "      <td>0</td>\n",
       "      <td>0</td>\n",
       "      <td>0</td>\n",
       "      <td>0</td>\n",
       "      <td>0</td>\n",
       "      <td>0</td>\n",
       "      <td>0</td>\n",
       "    </tr>\n",
       "    <tr>\n",
       "      <th>1</th>\n",
       "      <td>0</td>\n",
       "      <td>0</td>\n",
       "      <td>0</td>\n",
       "      <td>0</td>\n",
       "      <td>0</td>\n",
       "      <td>0</td>\n",
       "      <td>0</td>\n",
       "      <td>0</td>\n",
       "      <td>0</td>\n",
       "      <td>0</td>\n",
       "      <td>...</td>\n",
       "      <td>0</td>\n",
       "      <td>0</td>\n",
       "      <td>0</td>\n",
       "      <td>0</td>\n",
       "      <td>0</td>\n",
       "      <td>0</td>\n",
       "      <td>0</td>\n",
       "      <td>0</td>\n",
       "      <td>0</td>\n",
       "      <td>0</td>\n",
       "    </tr>\n",
       "    <tr>\n",
       "      <th>2</th>\n",
       "      <td>0</td>\n",
       "      <td>0</td>\n",
       "      <td>0</td>\n",
       "      <td>0</td>\n",
       "      <td>0</td>\n",
       "      <td>0</td>\n",
       "      <td>0</td>\n",
       "      <td>0</td>\n",
       "      <td>0</td>\n",
       "      <td>0</td>\n",
       "      <td>...</td>\n",
       "      <td>0</td>\n",
       "      <td>0</td>\n",
       "      <td>0</td>\n",
       "      <td>0</td>\n",
       "      <td>0</td>\n",
       "      <td>0</td>\n",
       "      <td>0</td>\n",
       "      <td>0</td>\n",
       "      <td>0</td>\n",
       "      <td>0</td>\n",
       "    </tr>\n",
       "    <tr>\n",
       "      <th>3</th>\n",
       "      <td>0</td>\n",
       "      <td>0</td>\n",
       "      <td>0</td>\n",
       "      <td>0</td>\n",
       "      <td>0</td>\n",
       "      <td>0</td>\n",
       "      <td>0</td>\n",
       "      <td>0</td>\n",
       "      <td>0</td>\n",
       "      <td>0</td>\n",
       "      <td>...</td>\n",
       "      <td>0</td>\n",
       "      <td>0</td>\n",
       "      <td>0</td>\n",
       "      <td>0</td>\n",
       "      <td>0</td>\n",
       "      <td>0</td>\n",
       "      <td>0</td>\n",
       "      <td>0</td>\n",
       "      <td>0</td>\n",
       "      <td>0</td>\n",
       "    </tr>\n",
       "  </tbody>\n",
       "</table>\n",
       "<p>4 rows × 922 columns</p>\n",
       "</div>"
      ],
      "text/plain": [
       "  abbott abdomen abdominal aberration able accessory accuracy accurate  \\\n",
       "0      0       0         0          0    0         0        0        0   \n",
       "1      0       0         0          0    0         0        0        0   \n",
       "2      0       0         0          0    0         0        0        0   \n",
       "3      0       0         0          0    0         0        0        0   \n",
       "\n",
       "  acetaminophen actually  ... work would x2 xray year yellow yes yet zero zone  \n",
       "0             0        0  ...    0     0  0    0    0      0   0   0    0    0  \n",
       "1             0        0  ...    0     0  0    0    0      0   0   0    0    0  \n",
       "2             0        0  ...    0     0  0    0    0      0   0   0    0    0  \n",
       "3             0        0  ...    0     0  0    0    0      0   0   0    0    0  \n",
       "\n",
       "[4 rows x 922 columns]"
      ]
     },
     "execution_count": 9,
     "metadata": {},
     "output_type": "execute_result"
    }
   ],
   "source": [
    "bow_df.head(4)"
   ]
  },
  {
   "cell_type": "code",
   "execution_count": 10,
   "id": "909b6eb7-bf86-43cc-a259-9613ac8c82ed",
   "metadata": {},
   "outputs": [],
   "source": [
    "# The number of topics you want to extract\n",
    "num_topics = 15 \n",
    "\n",
    "max_topics = 15"
   ]
  },
  {
   "cell_type": "code",
   "execution_count": 11,
   "id": "5a752563-7282-4b10-8740-d5b226dcbf11",
   "metadata": {
    "tags": []
   },
   "outputs": [],
   "source": [
    "from sklearn.decomposition import NMF\n",
    "\n",
    "nmf_model = NMF(n_components=num_topics, init='nndsvda')\n",
    "nmf_model.fit(bow_df)\n",
    "doc_topic_matrix = nmf_model.transform(bow_df)\n",
    "topic_word_matrix = nmf_model.components_\n",
    "num_top_words = 10 # or the number of top words you want to display for each topic"
   ]
  },
  {
   "cell_type": "code",
   "execution_count": 12,
   "id": "da7ebd53-4d12-4803-a0c2-f0cc61c3f67f",
   "metadata": {
    "tags": []
   },
   "outputs": [
    {
     "data": {
      "text/plain": [
       "array([[0.        , 0.        , 0.        , ..., 0.        , 0.        ,\n",
       "        0.        ],\n",
       "       [0.        , 0.        , 0.        , ..., 0.00495686, 0.27846199,\n",
       "        0.        ],\n",
       "       [0.17248792, 0.0020364 , 0.        , ..., 0.        , 0.01604901,\n",
       "        0.        ],\n",
       "       ...,\n",
       "       [0.        , 0.        , 0.        , ..., 0.        , 0.28438878,\n",
       "        0.        ],\n",
       "       [0.17248792, 0.0020364 , 0.        , ..., 0.        , 0.01604901,\n",
       "        0.        ],\n",
       "       [0.        , 0.        , 0.06591649, ..., 0.00646953, 0.21500768,\n",
       "        0.        ]])"
      ]
     },
     "execution_count": 12,
     "metadata": {},
     "output_type": "execute_result"
    }
   ],
   "source": [
    "doc_topic_matrix"
   ]
  },
  {
   "cell_type": "code",
   "execution_count": 13,
   "id": "ba3ade3d-bc4f-41e2-bd52-4eaf86afefbf",
   "metadata": {
    "tags": []
   },
   "outputs": [
    {
     "data": {
      "text/plain": [
       "array([[0.00000000e+00, 0.00000000e+00, 0.00000000e+00, ...,\n",
       "        0.00000000e+00, 0.00000000e+00, 2.37649387e-02],\n",
       "       [0.00000000e+00, 0.00000000e+00, 0.00000000e+00, ...,\n",
       "        0.00000000e+00, 0.00000000e+00, 0.00000000e+00],\n",
       "       [0.00000000e+00, 0.00000000e+00, 0.00000000e+00, ...,\n",
       "        0.00000000e+00, 0.00000000e+00, 0.00000000e+00],\n",
       "       ...,\n",
       "       [4.76783657e-04, 0.00000000e+00, 2.36689467e-05, ...,\n",
       "        0.00000000e+00, 5.84931956e-04, 0.00000000e+00],\n",
       "       [0.00000000e+00, 1.33610547e-01, 0.00000000e+00, ...,\n",
       "        0.00000000e+00, 0.00000000e+00, 0.00000000e+00],\n",
       "       [0.00000000e+00, 0.00000000e+00, 0.00000000e+00, ...,\n",
       "        0.00000000e+00, 0.00000000e+00, 0.00000000e+00]])"
      ]
     },
     "execution_count": 13,
     "metadata": {},
     "output_type": "execute_result"
    }
   ],
   "source": [
    "topic_word_matrix"
   ]
  },
  {
   "cell_type": "code",
   "execution_count": 14,
   "id": "3574a3f2-0431-4c30-a014-541930366204",
   "metadata": {
    "tags": []
   },
   "outputs": [
    {
     "data": {
      "text/plain": [
       "922"
      ]
     },
     "execution_count": 14,
     "metadata": {},
     "output_type": "execute_result"
    }
   ],
   "source": [
    "terms = bow_df.columns\n",
    "len(terms)"
   ]
  },
  {
   "cell_type": "code",
   "execution_count": 15,
   "id": "8576fb0b-116a-4f40-b30e-73b11c79b045",
   "metadata": {},
   "outputs": [
    {
     "name": "stdout",
     "output_type": "stream",
     "text": [
      "\n",
      "Topic #0:\n",
      "report data confirm evaluate probable determine injury intervention medical allegation\n",
      "\n",
      "Topic #1:\n",
      "read bg mgdl cgm meter glucose reportedly customer inaccuracy monitor\n",
      "\n",
      "Topic #2:\n",
      "within share log report investigation review find window perform confirm\n",
      "\n",
      "Topic #3:\n",
      "transmitter fail error report battery low occur allegation medical intervention\n",
      "\n",
      "Topic #4:\n",
      "new evaluation submit return product become information available relevant supplemental\n",
      "\n",
      "Topic #5:\n",
      "perform pass inspection visual test voltage product evaluate external pair\n",
      "\n",
      "Topic #6:\n",
      "glucose report value data parkes grid fall within zone error\n",
      "\n",
      "Topic #7:\n",
      "transmitter customer could root replacement send determine additional information available\n",
      "\n",
      "Topic #8:\n",
      "device receive however report yet expect submit return supplemental evaluation\n",
      "\n",
      "Topic #9:\n",
      "sensor report expiration early patient alert replace insert b6 occur\n",
      "\n",
      "Topic #10:\n",
      "transmitter connection pump patient additional information report available lose event\n",
      "\n",
      "Topic #11:\n",
      "signal loss hour one report occur probable app allegation medical\n",
      "\n",
      "Topic #12:\n",
      "data cannot support share report session undetermined per investigation complaint\n",
      "\n",
      "Topic #13:\n",
      "report evaluation could provide determine confirmation product injury intervention medical\n",
      "\n",
      "Topic #14:\n",
      "device system mobile operating indicate smart support loss relate application\n"
     ]
    }
   ],
   "source": [
    "num_top_words = 10 # or the number of top words you want to display for each topic\n",
    "for topic_idx, topic in enumerate(topic_word_matrix):\n",
    "    print(\"\\nTopic #%d:\" % topic_idx)\n",
    "    print(\" \".join([terms[i] for i in topic.argsort()[:-num_top_words - 1:-1]]))"
   ]
  },
  {
   "cell_type": "code",
   "execution_count": 16,
   "id": "5f77a6ff-326e-4ee0-9560-21ea5c3620f1",
   "metadata": {},
   "outputs": [
    {
     "name": "stdout",
     "output_type": "stream",
     "text": [
      "Note: you may need to restart the kernel to use updated packages.\n"
     ]
    }
   ],
   "source": [
    "%pip install --upgrade --quiet gensim"
   ]
  },
  {
   "cell_type": "code",
   "execution_count": 17,
   "id": "82c00efc-6dcd-4209-a5a7-f50db458887a",
   "metadata": {
    "tags": []
   },
   "outputs": [],
   "source": [
    "texts = [word for row in df['LEMMATIZED_TEXT'] for word in row]"
   ]
  },
  {
   "cell_type": "code",
   "execution_count": 18,
   "id": "643eebb2-7e0d-44a2-94d0-f0a3c3a30f02",
   "metadata": {},
   "outputs": [],
   "source": [
    "from gensim import corpora\n",
    "\n",
    "# Create a dictionary\n",
    "# In gensim a dictionary is a mapping between words and their integer id\n",
    "dictionary = corpora.Dictionary([texts])\n",
    "\n",
    "# Filter out extremes to limit the number of features\n",
    "dictionary.filter_extremes(\n",
    "    no_below=3,\n",
    "    no_above=0.85,\n",
    "    keep_n=5000\n",
    ")"
   ]
  },
  {
   "cell_type": "code",
   "execution_count": 19,
   "id": "b4e61cae-561c-414a-b2e2-9dacba46a64a",
   "metadata": {
    "tags": []
   },
   "outputs": [],
   "source": [
    "bow_corpus = [dictionary.doc2bow(row, allow_update=True) for row in df['LEMMATIZED_TEXT']]"
   ]
  },
  {
   "cell_type": "code",
   "execution_count": 20,
   "id": "34b298dd-0cab-4aa0-82c9-74b39736050a",
   "metadata": {
    "tags": []
   },
   "outputs": [],
   "source": [
    "from gensim.models import Nmf\n",
    "\n",
    "nmf = Nmf(bow_corpus, num_topics=num_topics)"
   ]
  },
  {
   "cell_type": "code",
   "execution_count": 21,
   "id": "c6a80dd9-fc7b-45d1-bb01-c77255523314",
   "metadata": {
    "tags": []
   },
   "outputs": [],
   "source": [
    "vocab = set()\n",
    "for tok in texts:\n",
    "    vocab.add(tok)"
   ]
  },
  {
   "cell_type": "markdown",
   "id": "44bfec42-9e8f-4bda-a174-1247b550176b",
   "metadata": {},
   "source": [
    "- Parameters\n",
    "\n",
    "        corpus (iterable of list of (int, float) or csc_matrix with the shape (n_tokens, n_documents)) – Training corpus. Can be either iterable of documents, which are lists of (word_id, word_count), or a sparse csc matrix of BOWs for each document. If not specified, the model is left uninitialized (presumably, to be trained later with self.train()).\n",
    "\n",
    "        texts (list of list of str, optional) – Tokenized texts, needed for coherence models that use sliding window based (i.e. coherence=`c_something`) probability estimator .\n",
    "\n",
    "        dictionary ({dict of (int, str), gensim.corpora.dictionary.Dictionary}, optional) – Dictionary mapping of id word to create corpus. If model.id2word is present, this is not needed. If both are provided, passed dictionary will be used.\n",
    "\n",
    "        window_size (int, optional) – Is the size of the window to be used for coherence measures using boolean sliding window as their probability estimator. For ‘u_mass’ this doesn’t matter. If None - the default window sizes are used which are: ‘c_v’ - 110, ‘c_uci’ - 10, ‘c_npmi’ - 10.\n",
    "\n",
    "        coherence ({'u_mass', 'c_v', 'c_uci', 'c_npmi'}, optional) – Coherence measure to be used. Fastest method - ‘u_mass’, ‘c_uci’ also known as c_pmi. For ‘u_mass’ corpus should be provided, if texts is provided, it will be converted to corpus using the dictionary. For ‘c_v’, ‘c_uci’ and ‘c_npmi’ texts should be provided (corpus isn’t needed)\n",
    "\n",
    "        topn (int, optional) – Integer corresponding to the number of top words to be extracted from each topic.\n",
    "\n",
    "        processes (int, optional) – Number of processes to use for probability estimation phase, any value less than 1 will be interpreted as num_cpus - 1.\n",
    "\n",
    "\n",
    "- Returns\n",
    "Each element in the list is a pair of a topic representation and its coherence score. Topic representations are distributions of words, represented as a list of pairs of word IDs and their probabilities.\n",
    "\n",
    "- Return type\n",
    "list of (list of (int, str), float)"
   ]
  },
  {
   "cell_type": "code",
   "execution_count": 22,
   "id": "6709ea0a-ec38-4800-9448-9243ecf5dc80",
   "metadata": {},
   "outputs": [],
   "source": [
    "# Each element in the list returned is a pair of a topic representation and its coherence score. \n",
    "# Topic representations are distributions of words, represented as a list of pairs of word IDs and their probabilities.\n",
    "\n",
    "umass_top_topics = nmf.top_topics(corpus=bow_corpus, texts=texts, dictionary=dictionary, window_size=None, coherence='u_mass', topn=num_top_words)"
   ]
  },
  {
   "cell_type": "code",
   "execution_count": 23,
   "id": "44d03997-24b9-4632-aa61-d0a1057feedd",
   "metadata": {
    "tags": []
   },
   "outputs": [],
   "source": [
    "# Each element in the list returned is a pair of a topic representation and its coherence score. \n",
    "# Topic representations are distributions of words, represented as a list of pairs of word IDs and their probabilities.\n",
    "\n",
    "# cv_top_topics = nmf.top_topics(corpus=bow_corpus, texts=texts, dictionary=dictionary, window_size=None, coherence='c_v', topn=num_top_words)"
   ]
  },
  {
   "cell_type": "code",
   "execution_count": 24,
   "id": "6be2112f-94bf-401e-a3dc-6062ac08b808",
   "metadata": {
    "tags": []
   },
   "outputs": [
    {
     "name": "stdout",
     "output_type": "stream",
     "text": [
      "Topic #0:\n",
      "\tScore('u_mass'): -0.20708375135597937\n",
      "\tWords          : report data confirm evaluate probable determine injury intervention medical allegation\n",
      "Topic #1:\n",
      "\tScore('u_mass'): -0.2100593949774951\n",
      "\tWords          : read bg mgdl cgm meter glucose reportedly customer inaccuracy monitor\n",
      "Topic #2:\n",
      "\tScore('u_mass'): -0.24837196999668604\n",
      "\tWords          : within share log report investigation review find window perform confirm\n",
      "Topic #3:\n",
      "\tScore('u_mass'): -0.25214477152083364\n",
      "\tWords          : transmitter fail error report battery low occur allegation medical intervention\n",
      "Topic #4:\n",
      "\tScore('u_mass'): -0.33553134526336637\n",
      "\tWords          : new evaluation submit return product become information available relevant supplemental\n",
      "Topic #5:\n",
      "\tScore('u_mass'): -0.39459399252904476\n",
      "\tWords          : perform pass inspection visual test voltage product evaluate external pair\n",
      "Topic #6:\n",
      "\tScore('u_mass'): -0.4172447356102436\n",
      "\tWords          : glucose report value data parkes grid fall within zone error\n",
      "Topic #7:\n",
      "\tScore('u_mass'): -0.4768398266312724\n",
      "\tWords          : transmitter customer could root replacement send determine additional information available\n",
      "Topic #8:\n",
      "\tScore('u_mass'): -0.4893261468690137\n",
      "\tWords          : device receive however report yet expect submit return supplemental evaluation\n",
      "Topic #9:\n",
      "\tScore('u_mass'): -0.6366161928611977\n",
      "\tWords          : sensor report expiration early patient alert replace insert b6 occur\n",
      "Topic #10:\n",
      "\tScore('u_mass'): -0.7491437952797351\n",
      "\tWords          : transmitter connection pump patient additional information report available lose event\n",
      "Topic #11:\n",
      "\tScore('u_mass'): -1.0999511271340112\n",
      "\tWords          : signal loss hour one report occur probable app allegation medical\n",
      "Topic #12:\n",
      "\tScore('u_mass'): -2.1574029039332174\n",
      "\tWords          : data cannot support share report session undetermined per investigation complaint\n",
      "Topic #13:\n",
      "\tScore('u_mass'): -4.9394628526671776\n",
      "\tWords          : report evaluation could provide determine confirmation product injury intervention medical\n",
      "Topic #14:\n",
      "\tScore('u_mass'): -5.6173646771826355\n",
      "\tWords          : device system mobile operating indicate smart support loss relate application\n"
     ]
    }
   ],
   "source": [
    "num_top_words = 10 # or the number of top words you want to display for each topic\n",
    "\n",
    "coherence_score = []\n",
    "\n",
    "for topic_index, topic in enumerate(topic_word_matrix):\n",
    "    print(f\"Topic #{topic_index}:\")\n",
    "    print(f\"\\tScore('u_mass'): {umass_top_topics[topic_index][1]}\")\n",
    "    #print(f\"\\tScore('c_v)   : {cv_top_topics[topic_index][1]}\")\n",
    "    print(\"\\tWords          : \" + \" \".join([terms[i] for i in topic.argsort()[:-num_top_words - 1:-1]]))\n",
    "    coherence_score.append(umass_top_topics[topic_index][1])"
   ]
  },
  {
   "cell_type": "code",
   "execution_count": 25,
   "id": "549e62f5-c6cf-4ed0-8767-9d9a86963d9c",
   "metadata": {
    "tags": []
   },
   "outputs": [
    {
     "data": {
      "text/plain": [
       "[-0.20708375135597937,\n",
       " -0.2100593949774951,\n",
       " -0.24837196999668604,\n",
       " -0.25214477152083364,\n",
       " -0.33553134526336637,\n",
       " -0.39459399252904476,\n",
       " -0.4172447356102436,\n",
       " -0.4768398266312724,\n",
       " -0.4893261468690137,\n",
       " -0.6366161928611977,\n",
       " -0.7491437952797351,\n",
       " -1.0999511271340112,\n",
       " -2.1574029039332174,\n",
       " -4.9394628526671776,\n",
       " -5.6173646771826355]"
      ]
     },
     "execution_count": 25,
     "metadata": {},
     "output_type": "execute_result"
    }
   ],
   "source": [
    "coherence_score"
   ]
  },
  {
   "cell_type": "code",
   "execution_count": 26,
   "id": "3671dae3-c844-4854-9614-2527373f920a",
   "metadata": {
    "tags": []
   },
   "outputs": [
    {
     "data": {
      "image/png": "[encoded data removed]",
      "text/plain": [
       "<Figure size 640x480 with 1 Axes>"
      ]
     },
     "metadata": {},
     "output_type": "display_data"
    }
   ],
   "source": [
    "import matplotlib.pyplot as plt\n",
    "plt.plot(coherence_score)\n",
    "plt.show()"
   ]
  },
  {
   "cell_type": "code",
   "execution_count": 53,
   "id": "5968c9d0-74c1-4fa9-9fe4-d60755fd29b1",
   "metadata": {
    "tags": []
   },
   "outputs": [],
   "source": [
    "from gensim.models import Nmf\n",
    "from gensim.corpora.dictionary import Dictionary\n",
    "\n",
    "common_dictionary = Dictionary(df['LEMMATIZED_TEXT'].tolist())\n",
    "common_corpus = [common_dictionary.doc2bow(text) for text in df['LEMMATIZED_TEXT']]\n",
    "\n",
    "# Train the model on the corpus.\n",
    "nmf = Nmf(common_corpus, num_topics=num_topics)"
   ]
  },
  {
   "cell_type": "code",
   "execution_count": 54,
   "id": "f08aca3c-50dd-4dfb-984f-2bc66603374e",
   "metadata": {
    "tags": []
   },
   "outputs": [],
   "source": [
    "from gensim.test.utils import common_corpus, common_dictionary\n",
    "from gensim.models.ldamodel import LdaModel\n",
    "from gensim.models.coherencemodel import CoherenceModel\n",
    "\n",
    "\n",
    "cm = CoherenceModel(model=nmf, texts=texts, dictionary=common_dictionary, coherence='c_v', topn=10)"
   ]
  },
  {
   "cell_type": "code",
   "execution_count": 55,
   "id": "e9c71754-47e1-4165-9f43-f6d0fa337889",
   "metadata": {
    "tags": []
   },
   "outputs": [
    {
     "ename": "KeyError",
     "evalue": "12",
     "output_type": "error",
     "traceback": [
      "\u001b[0;31m---------------------------------------------------------------------------\u001b[0m",
      "\u001b[0;31mKeyError\u001b[0m                                  Traceback (most recent call last)",
      "\u001b[0;32m/tmp/ipykernel_15710/2301412377.py\u001b[0m in \u001b[0;36m<module>\u001b[0;34m\u001b[0m\n\u001b[0;32m----> 1\u001b[0;31m \u001b[0mcm\u001b[0m\u001b[0;34m.\u001b[0m\u001b[0mget_coherence\u001b[0m\u001b[0;34m(\u001b[0m\u001b[0;34m)\u001b[0m\u001b[0;34m\u001b[0m\u001b[0;34m\u001b[0m\u001b[0m\n\u001b[0m",
      "\u001b[0;32m~/anaconda3/envs/amazonei_pytorch_latest_p37/lib/python3.7/site-packages/gensim/models/coherencemodel.py\u001b[0m in \u001b[0;36mget_coherence\u001b[0;34m(self)\u001b[0m\n\u001b[1;32m    613\u001b[0m \u001b[0;34m\u001b[0m\u001b[0m\n\u001b[1;32m    614\u001b[0m         \"\"\"\n\u001b[0;32m--> 615\u001b[0;31m         \u001b[0mconfirmed_measures\u001b[0m \u001b[0;34m=\u001b[0m \u001b[0mself\u001b[0m\u001b[0;34m.\u001b[0m\u001b[0mget_coherence_per_topic\u001b[0m\u001b[0;34m(\u001b[0m\u001b[0;34m)\u001b[0m\u001b[0;34m\u001b[0m\u001b[0;34m\u001b[0m\u001b[0m\n\u001b[0m\u001b[1;32m    616\u001b[0m         \u001b[0;32mreturn\u001b[0m \u001b[0mself\u001b[0m\u001b[0;34m.\u001b[0m\u001b[0maggregate_measures\u001b[0m\u001b[0;34m(\u001b[0m\u001b[0mconfirmed_measures\u001b[0m\u001b[0;34m)\u001b[0m\u001b[0;34m\u001b[0m\u001b[0;34m\u001b[0m\u001b[0m\n\u001b[1;32m    617\u001b[0m \u001b[0;34m\u001b[0m\u001b[0m\n",
      "\u001b[0;32m~/anaconda3/envs/amazonei_pytorch_latest_p37/lib/python3.7/site-packages/gensim/models/coherencemodel.py\u001b[0m in \u001b[0;36mget_coherence_per_topic\u001b[0;34m(self, segmented_topics, with_std, with_support)\u001b[0m\n\u001b[1;32m    573\u001b[0m             \u001b[0msegmented_topics\u001b[0m \u001b[0;34m=\u001b[0m \u001b[0mmeasure\u001b[0m\u001b[0;34m.\u001b[0m\u001b[0mseg\u001b[0m\u001b[0;34m(\u001b[0m\u001b[0mself\u001b[0m\u001b[0;34m.\u001b[0m\u001b[0mtopics\u001b[0m\u001b[0;34m)\u001b[0m\u001b[0;34m\u001b[0m\u001b[0;34m\u001b[0m\u001b[0m\n\u001b[1;32m    574\u001b[0m         \u001b[0;32mif\u001b[0m \u001b[0mself\u001b[0m\u001b[0;34m.\u001b[0m\u001b[0m_accumulator\u001b[0m \u001b[0;32mis\u001b[0m \u001b[0;32mNone\u001b[0m\u001b[0;34m:\u001b[0m\u001b[0;34m\u001b[0m\u001b[0;34m\u001b[0m\u001b[0m\n\u001b[0;32m--> 575\u001b[0;31m             \u001b[0mself\u001b[0m\u001b[0;34m.\u001b[0m\u001b[0mestimate_probabilities\u001b[0m\u001b[0;34m(\u001b[0m\u001b[0msegmented_topics\u001b[0m\u001b[0;34m)\u001b[0m\u001b[0;34m\u001b[0m\u001b[0;34m\u001b[0m\u001b[0m\n\u001b[0m\u001b[1;32m    576\u001b[0m \u001b[0;34m\u001b[0m\u001b[0m\n\u001b[1;32m    577\u001b[0m         \u001b[0mkwargs\u001b[0m \u001b[0;34m=\u001b[0m \u001b[0mdict\u001b[0m\u001b[0;34m(\u001b[0m\u001b[0mwith_std\u001b[0m\u001b[0;34m=\u001b[0m\u001b[0mwith_std\u001b[0m\u001b[0;34m,\u001b[0m \u001b[0mwith_support\u001b[0m\u001b[0;34m=\u001b[0m\u001b[0mwith_support\u001b[0m\u001b[0;34m)\u001b[0m\u001b[0;34m\u001b[0m\u001b[0;34m\u001b[0m\u001b[0m\n",
      "\u001b[0;32m~/anaconda3/envs/amazonei_pytorch_latest_p37/lib/python3.7/site-packages/gensim/models/coherencemodel.py\u001b[0m in \u001b[0;36mestimate_probabilities\u001b[0;34m(self, segmented_topics)\u001b[0m\n\u001b[1;32m    545\u001b[0m                 \u001b[0mkwargs\u001b[0m\u001b[0;34m[\u001b[0m\u001b[0;34m'model'\u001b[0m\u001b[0;34m]\u001b[0m \u001b[0;34m=\u001b[0m \u001b[0mself\u001b[0m\u001b[0;34m.\u001b[0m\u001b[0mkeyed_vectors\u001b[0m\u001b[0;34m\u001b[0m\u001b[0;34m\u001b[0m\u001b[0m\n\u001b[1;32m    546\u001b[0m \u001b[0;34m\u001b[0m\u001b[0m\n\u001b[0;32m--> 547\u001b[0;31m             \u001b[0mself\u001b[0m\u001b[0;34m.\u001b[0m\u001b[0m_accumulator\u001b[0m \u001b[0;34m=\u001b[0m \u001b[0mself\u001b[0m\u001b[0;34m.\u001b[0m\u001b[0mmeasure\u001b[0m\u001b[0;34m.\u001b[0m\u001b[0mprob\u001b[0m\u001b[0;34m(\u001b[0m\u001b[0;34m**\u001b[0m\u001b[0mkwargs\u001b[0m\u001b[0;34m)\u001b[0m\u001b[0;34m\u001b[0m\u001b[0;34m\u001b[0m\u001b[0m\n\u001b[0m\u001b[1;32m    548\u001b[0m \u001b[0;34m\u001b[0m\u001b[0m\n\u001b[1;32m    549\u001b[0m         \u001b[0;32mreturn\u001b[0m \u001b[0mself\u001b[0m\u001b[0;34m.\u001b[0m\u001b[0m_accumulator\u001b[0m\u001b[0;34m\u001b[0m\u001b[0;34m\u001b[0m\u001b[0m\n",
      "\u001b[0;32m~/anaconda3/envs/amazonei_pytorch_latest_p37/lib/python3.7/site-packages/gensim/topic_coherence/probability_estimation.py\u001b[0m in \u001b[0;36mp_boolean_sliding_window\u001b[0;34m(texts, segmented_topics, dictionary, window_size, processes)\u001b[0m\n\u001b[1;32m    152\u001b[0m         \u001b[0maccumulator\u001b[0m \u001b[0;34m=\u001b[0m \u001b[0mWordOccurrenceAccumulator\u001b[0m\u001b[0;34m(\u001b[0m\u001b[0mtop_ids\u001b[0m\u001b[0;34m,\u001b[0m \u001b[0mdictionary\u001b[0m\u001b[0;34m)\u001b[0m\u001b[0;34m\u001b[0m\u001b[0;34m\u001b[0m\u001b[0m\n\u001b[1;32m    153\u001b[0m     \u001b[0;32melse\u001b[0m\u001b[0;34m:\u001b[0m\u001b[0;34m\u001b[0m\u001b[0;34m\u001b[0m\u001b[0m\n\u001b[0;32m--> 154\u001b[0;31m         \u001b[0maccumulator\u001b[0m \u001b[0;34m=\u001b[0m \u001b[0mParallelWordOccurrenceAccumulator\u001b[0m\u001b[0;34m(\u001b[0m\u001b[0mprocesses\u001b[0m\u001b[0;34m,\u001b[0m \u001b[0mtop_ids\u001b[0m\u001b[0;34m,\u001b[0m \u001b[0mdictionary\u001b[0m\u001b[0;34m)\u001b[0m\u001b[0;34m\u001b[0m\u001b[0;34m\u001b[0m\u001b[0m\n\u001b[0m\u001b[1;32m    155\u001b[0m     \u001b[0mlogger\u001b[0m\u001b[0;34m.\u001b[0m\u001b[0minfo\u001b[0m\u001b[0;34m(\u001b[0m\u001b[0;34m\"using %s to estimate probabilities from sliding windows\"\u001b[0m\u001b[0;34m,\u001b[0m \u001b[0maccumulator\u001b[0m\u001b[0;34m)\u001b[0m\u001b[0;34m\u001b[0m\u001b[0;34m\u001b[0m\u001b[0m\n\u001b[1;32m    156\u001b[0m     \u001b[0;32mreturn\u001b[0m \u001b[0maccumulator\u001b[0m\u001b[0;34m.\u001b[0m\u001b[0maccumulate\u001b[0m\u001b[0;34m(\u001b[0m\u001b[0mtexts\u001b[0m\u001b[0;34m,\u001b[0m \u001b[0mwindow_size\u001b[0m\u001b[0;34m)\u001b[0m\u001b[0;34m\u001b[0m\u001b[0;34m\u001b[0m\u001b[0m\n",
      "\u001b[0;32m~/anaconda3/envs/amazonei_pytorch_latest_p37/lib/python3.7/site-packages/gensim/topic_coherence/text_analysis.py\u001b[0m in \u001b[0;36m__init__\u001b[0;34m(self, processes, *args, **kwargs)\u001b[0m\n\u001b[1;32m    422\u001b[0m \u001b[0;34m\u001b[0m\u001b[0m\n\u001b[1;32m    423\u001b[0m     \u001b[0;32mdef\u001b[0m \u001b[0m__init__\u001b[0m\u001b[0;34m(\u001b[0m\u001b[0mself\u001b[0m\u001b[0;34m,\u001b[0m \u001b[0mprocesses\u001b[0m\u001b[0;34m,\u001b[0m \u001b[0;34m*\u001b[0m\u001b[0margs\u001b[0m\u001b[0;34m,\u001b[0m \u001b[0;34m**\u001b[0m\u001b[0mkwargs\u001b[0m\u001b[0;34m)\u001b[0m\u001b[0;34m:\u001b[0m\u001b[0;34m\u001b[0m\u001b[0;34m\u001b[0m\u001b[0m\n\u001b[0;32m--> 424\u001b[0;31m         \u001b[0msuper\u001b[0m\u001b[0;34m(\u001b[0m\u001b[0mParallelWordOccurrenceAccumulator\u001b[0m\u001b[0;34m,\u001b[0m \u001b[0mself\u001b[0m\u001b[0;34m)\u001b[0m\u001b[0;34m.\u001b[0m\u001b[0m__init__\u001b[0m\u001b[0;34m(\u001b[0m\u001b[0;34m*\u001b[0m\u001b[0margs\u001b[0m\u001b[0;34m)\u001b[0m\u001b[0;34m\u001b[0m\u001b[0;34m\u001b[0m\u001b[0m\n\u001b[0m\u001b[1;32m    425\u001b[0m         \u001b[0;32mif\u001b[0m \u001b[0mprocesses\u001b[0m \u001b[0;34m<\u001b[0m \u001b[0;36m2\u001b[0m\u001b[0;34m:\u001b[0m\u001b[0;34m\u001b[0m\u001b[0;34m\u001b[0m\u001b[0m\n\u001b[1;32m    426\u001b[0m             raise ValueError(\n",
      "\u001b[0;32m~/anaconda3/envs/amazonei_pytorch_latest_p37/lib/python3.7/site-packages/gensim/topic_coherence/text_analysis.py\u001b[0m in \u001b[0;36m__init__\u001b[0;34m(self, relevant_ids, dictionary)\u001b[0m\n\u001b[1;32m    285\u001b[0m \u001b[0;34m\u001b[0m\u001b[0m\n\u001b[1;32m    286\u001b[0m         \"\"\"\n\u001b[0;32m--> 287\u001b[0;31m         \u001b[0msuper\u001b[0m\u001b[0;34m(\u001b[0m\u001b[0mWindowedTextsAnalyzer\u001b[0m\u001b[0;34m,\u001b[0m \u001b[0mself\u001b[0m\u001b[0;34m)\u001b[0m\u001b[0;34m.\u001b[0m\u001b[0m__init__\u001b[0m\u001b[0;34m(\u001b[0m\u001b[0mrelevant_ids\u001b[0m\u001b[0;34m,\u001b[0m \u001b[0mdictionary\u001b[0m\u001b[0;34m)\u001b[0m\u001b[0;34m\u001b[0m\u001b[0;34m\u001b[0m\u001b[0m\n\u001b[0m\u001b[1;32m    288\u001b[0m         \u001b[0mself\u001b[0m\u001b[0;34m.\u001b[0m\u001b[0m_none_token\u001b[0m \u001b[0;34m=\u001b[0m \u001b[0mself\u001b[0m\u001b[0;34m.\u001b[0m\u001b[0m_vocab_size\u001b[0m  \u001b[0;31m# see _iter_texts for use of none token\u001b[0m\u001b[0;34m\u001b[0m\u001b[0;34m\u001b[0m\u001b[0m\n\u001b[1;32m    289\u001b[0m \u001b[0;34m\u001b[0m\u001b[0m\n",
      "\u001b[0;32m~/anaconda3/envs/amazonei_pytorch_latest_p37/lib/python3.7/site-packages/gensim/topic_coherence/text_analysis.py\u001b[0m in \u001b[0;36m__init__\u001b[0;34m(self, relevant_ids, dictionary)\u001b[0m\n\u001b[1;32m    188\u001b[0m         \"\"\"\n\u001b[1;32m    189\u001b[0m         \u001b[0msuper\u001b[0m\u001b[0;34m(\u001b[0m\u001b[0mUsesDictionary\u001b[0m\u001b[0;34m,\u001b[0m \u001b[0mself\u001b[0m\u001b[0;34m)\u001b[0m\u001b[0;34m.\u001b[0m\u001b[0m__init__\u001b[0m\u001b[0;34m(\u001b[0m\u001b[0mrelevant_ids\u001b[0m\u001b[0;34m)\u001b[0m\u001b[0;34m\u001b[0m\u001b[0;34m\u001b[0m\u001b[0m\n\u001b[0;32m--> 190\u001b[0;31m         \u001b[0mself\u001b[0m\u001b[0;34m.\u001b[0m\u001b[0mrelevant_words\u001b[0m \u001b[0;34m=\u001b[0m \u001b[0m_ids_to_words\u001b[0m\u001b[0;34m(\u001b[0m\u001b[0mself\u001b[0m\u001b[0;34m.\u001b[0m\u001b[0mrelevant_ids\u001b[0m\u001b[0;34m,\u001b[0m \u001b[0mdictionary\u001b[0m\u001b[0;34m)\u001b[0m\u001b[0;34m\u001b[0m\u001b[0;34m\u001b[0m\u001b[0m\n\u001b[0m\u001b[1;32m    191\u001b[0m         \u001b[0mself\u001b[0m\u001b[0;34m.\u001b[0m\u001b[0mdictionary\u001b[0m \u001b[0;34m=\u001b[0m \u001b[0mdictionary\u001b[0m\u001b[0;34m\u001b[0m\u001b[0;34m\u001b[0m\u001b[0m\n\u001b[1;32m    192\u001b[0m         \u001b[0mself\u001b[0m\u001b[0;34m.\u001b[0m\u001b[0mtoken2id\u001b[0m \u001b[0;34m=\u001b[0m \u001b[0mdictionary\u001b[0m\u001b[0;34m.\u001b[0m\u001b[0mtoken2id\u001b[0m\u001b[0;34m\u001b[0m\u001b[0;34m\u001b[0m\u001b[0m\n",
      "\u001b[0;32m~/anaconda3/envs/amazonei_pytorch_latest_p37/lib/python3.7/site-packages/gensim/topic_coherence/text_analysis.py\u001b[0m in \u001b[0;36m_ids_to_words\u001b[0;34m(ids, dictionary)\u001b[0m\n\u001b[1;32m     59\u001b[0m     \u001b[0mtop_words\u001b[0m \u001b[0;34m=\u001b[0m \u001b[0mset\u001b[0m\u001b[0;34m(\u001b[0m\u001b[0;34m)\u001b[0m\u001b[0;34m\u001b[0m\u001b[0;34m\u001b[0m\u001b[0m\n\u001b[1;32m     60\u001b[0m     \u001b[0;32mfor\u001b[0m \u001b[0mword_id\u001b[0m \u001b[0;32min\u001b[0m \u001b[0mids\u001b[0m\u001b[0;34m:\u001b[0m\u001b[0;34m\u001b[0m\u001b[0;34m\u001b[0m\u001b[0m\n\u001b[0;32m---> 61\u001b[0;31m         \u001b[0mword\u001b[0m \u001b[0;34m=\u001b[0m \u001b[0mdictionary\u001b[0m\u001b[0;34m.\u001b[0m\u001b[0mid2token\u001b[0m\u001b[0;34m[\u001b[0m\u001b[0mword_id\u001b[0m\u001b[0;34m]\u001b[0m\u001b[0;34m\u001b[0m\u001b[0;34m\u001b[0m\u001b[0m\n\u001b[0m\u001b[1;32m     62\u001b[0m         \u001b[0;32mif\u001b[0m \u001b[0misinstance\u001b[0m\u001b[0;34m(\u001b[0m\u001b[0mword\u001b[0m\u001b[0;34m,\u001b[0m \u001b[0mset\u001b[0m\u001b[0;34m)\u001b[0m\u001b[0;34m:\u001b[0m\u001b[0;34m\u001b[0m\u001b[0;34m\u001b[0m\u001b[0m\n\u001b[1;32m     63\u001b[0m             \u001b[0mtop_words\u001b[0m \u001b[0;34m=\u001b[0m \u001b[0mtop_words\u001b[0m\u001b[0;34m.\u001b[0m\u001b[0munion\u001b[0m\u001b[0;34m(\u001b[0m\u001b[0mword\u001b[0m\u001b[0;34m)\u001b[0m\u001b[0;34m\u001b[0m\u001b[0;34m\u001b[0m\u001b[0m\n",
      "\u001b[0;31mKeyError\u001b[0m: 12"
     ]
    }
   ],
   "source": [
    "cm.get_coherence()"
   ]
  }
 ],
 "metadata": {
  "kernelspec": {
   "display_name": "conda_amazonei_pytorch_latest_p37",
   "language": "python",
   "name": "conda_amazonei_pytorch_latest_p37"
  },
  "language_info": {
   "codemirror_mode": {
    "name": "ipython",
    "version": 3
   },
   "file_extension": ".py",
   "mimetype": "text/x-python",
   "name": "python",
   "nbconvert_exporter": "python",
   "pygments_lexer": "ipython3",
   "version": "3.7.10"
  }
 },
 "nbformat": 4,
 "nbformat_minor": 5
}
