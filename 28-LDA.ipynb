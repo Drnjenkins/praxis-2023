{
 "cells": [
  {
   "cell_type": "markdown",
   "id": "19d7a77d-2710-4113-a4e6-95f0fe329bb0",
   "metadata": {},
   "source": [
    "# LDA"
   ]
  },
  {
   "cell_type": "code",
   "execution_count": 1,
   "id": "06244427-b4c1-4d71-b458-0dc66b1dba92",
   "metadata": {
    "tags": []
   },
   "outputs": [],
   "source": [
    "import pandas as pd\n",
    "import os\n",
    "import csv\n",
    "\n",
    "# Identify the working directory and data files\n",
    "working_directory = './28-LDA'\n",
    "\n",
    "# Create the working directory if needed\n",
    "try:\n",
    "    os.makedirs(working_directory, exist_ok=True)\n",
    "except OSError as error:\n",
    "    print(f\"Error creating {working_directory}: {error}\")"
   ]
  },
  {
   "cell_type": "code",
   "execution_count": 2,
   "id": "181ae050-e89d-495e-a868-af9323d48a31",
   "metadata": {
    "tags": []
   },
   "outputs": [
    {
     "name": "stdout",
     "output_type": "stream",
     "text": [
      "Note: you may need to restart the kernel to use updated packages.\n"
     ]
    }
   ],
   "source": [
    "%pip install --quiet --upgrade nltk gensim spacy"
   ]
  },
  {
   "cell_type": "code",
   "execution_count": 3,
   "id": "96bb5b79-b64b-43b4-8664-272dd9f6a0fc",
   "metadata": {
    "tags": []
   },
   "outputs": [
    {
     "name": "stdout",
     "output_type": "stream",
     "text": [
      "/home/ec2-user/anaconda3/envs/amazonei_pytorch_latest_p37/lib/python3.7/runpy.py:125: RuntimeWarning: 'nltk.downloader' found in sys.modules after import of package 'nltk', but prior to execution of 'nltk.downloader'; this may result in unpredictable behaviour\n",
      "  warn(RuntimeWarning(msg))\n"
     ]
    }
   ],
   "source": [
    "!python -m nltk.downloader --quiet 'all'\n",
    "!python -m spacy download en_core_web_sm > /dev/null"
   ]
  },
  {
   "cell_type": "code",
   "execution_count": 4,
   "id": "f8a0828c-e6c6-47e2-95d8-65d25ddf699a",
   "metadata": {
    "tags": []
   },
   "outputs": [],
   "source": [
    "# Read the preprocessed data into a dataframe\n",
    "import pickle\n",
    "\n",
    "with open('./21-data_preprocessing/dataframe.pickle', 'rb') as f:\n",
    "    df = pickle.load(f)"
   ]
  },
  {
   "cell_type": "code",
   "execution_count": 5,
   "id": "699caf8a-3dba-41a2-b639-ec5e74a31012",
   "metadata": {
    "tags": []
   },
   "outputs": [
    {
     "data": {
      "text/plain": [
       "(5736, 20)"
      ]
     },
     "execution_count": 5,
     "metadata": {},
     "output_type": "execute_result"
    }
   ],
   "source": [
    "df.shape"
   ]
  },
  {
   "cell_type": "code",
   "execution_count": 6,
   "id": "526595ac-b49e-4cc7-b5e4-e85a32aa6c90",
   "metadata": {
    "tags": []
   },
   "outputs": [
    {
     "data": {
      "text/html": [
       "<div>\n",
       "<style scoped>\n",
       "    .dataframe tbody tr th:only-of-type {\n",
       "        vertical-align: middle;\n",
       "    }\n",
       "\n",
       "    .dataframe tbody tr th {\n",
       "        vertical-align: top;\n",
       "    }\n",
       "\n",
       "    .dataframe thead th {\n",
       "        text-align: right;\n",
       "    }\n",
       "</style>\n",
       "<table border=\"1\" class=\"dataframe\">\n",
       "  <thead>\n",
       "    <tr style=\"text-align: right;\">\n",
       "      <th></th>\n",
       "      <th>ROW_ID</th>\n",
       "      <th>FOI_TEXT</th>\n",
       "      <th>DEVICE_PROBLEM_CODE</th>\n",
       "      <th>DEVICE_PROBLEM_TEXT</th>\n",
       "      <th>GENERIC_NAME</th>\n",
       "      <th>DEVICE_REPORT_PRODUCT_CODE</th>\n",
       "      <th>UDI-DI</th>\n",
       "      <th>UDI-PUBLIC</th>\n",
       "      <th>DATE_OF_EVENT</th>\n",
       "      <th>REPORTER_OCCUPATION_CODE</th>\n",
       "      <th>REPORT_DATE</th>\n",
       "      <th>EVENT_LOCATION</th>\n",
       "      <th>SOURCE_TYPE</th>\n",
       "      <th>TOKENIZED_TEXT</th>\n",
       "      <th>NOPUNCT_TEXT</th>\n",
       "      <th>NOSTOPWORDS_TEXT</th>\n",
       "      <th>NODIGITS_TEXT</th>\n",
       "      <th>POS_TEXT</th>\n",
       "      <th>LEMMATIZED_TEXT</th>\n",
       "      <th>STEMMED_TEXT</th>\n",
       "    </tr>\n",
       "  </thead>\n",
       "  <tbody>\n",
       "    <tr>\n",
       "      <th>0</th>\n",
       "      <td>1969025</td>\n",
       "      <td>IT WAS REPORTED THAT THE TRANSMITTER LOST CONN...</td>\n",
       "      <td>3283</td>\n",
       "      <td>Wireless Communication Problem</td>\n",
       "      <td>CONTINUOUS GLUCOSE MONITOR</td>\n",
       "      <td>QBJ</td>\n",
       "      <td></td>\n",
       "      <td></td>\n",
       "      <td>07/30/2020</td>\n",
       "      <td>000</td>\n",
       "      <td></td>\n",
       "      <td>I</td>\n",
       "      <td>CONSUMER</td>\n",
       "      <td>[it, was, reported, that, the, transmitter, lo...</td>\n",
       "      <td>[it, was, reported, that, the, transmitter, lo...</td>\n",
       "      <td>[reported, transmitter, lost, connection, pump...</td>\n",
       "      <td>[reported, transmitter, lost, connection, pump...</td>\n",
       "      <td>[(reported, VBN), (transmitter, NN), (lost, VB...</td>\n",
       "      <td>[report, transmitter, lose, connection, pump, ...</td>\n",
       "      <td>[report, transmitt, lost, connect, pump, great...</td>\n",
       "    </tr>\n",
       "  </tbody>\n",
       "</table>\n",
       "</div>"
      ],
      "text/plain": [
       "    ROW_ID                                           FOI_TEXT  \\\n",
       "0  1969025  IT WAS REPORTED THAT THE TRANSMITTER LOST CONN...   \n",
       "\n",
       "  DEVICE_PROBLEM_CODE             DEVICE_PROBLEM_TEXT  \\\n",
       "0                3283  Wireless Communication Problem   \n",
       "\n",
       "                 GENERIC_NAME DEVICE_REPORT_PRODUCT_CODE UDI-DI UDI-PUBLIC  \\\n",
       "0  CONTINUOUS GLUCOSE MONITOR                        QBJ                     \n",
       "\n",
       "  DATE_OF_EVENT REPORTER_OCCUPATION_CODE REPORT_DATE EVENT_LOCATION  \\\n",
       "0    07/30/2020                      000                          I   \n",
       "\n",
       "  SOURCE_TYPE                                     TOKENIZED_TEXT  \\\n",
       "0    CONSUMER  [it, was, reported, that, the, transmitter, lo...   \n",
       "\n",
       "                                        NOPUNCT_TEXT  \\\n",
       "0  [it, was, reported, that, the, transmitter, lo...   \n",
       "\n",
       "                                    NOSTOPWORDS_TEXT  \\\n",
       "0  [reported, transmitter, lost, connection, pump...   \n",
       "\n",
       "                                       NODIGITS_TEXT  \\\n",
       "0  [reported, transmitter, lost, connection, pump...   \n",
       "\n",
       "                                            POS_TEXT  \\\n",
       "0  [(reported, VBN), (transmitter, NN), (lost, VB...   \n",
       "\n",
       "                                     LEMMATIZED_TEXT  \\\n",
       "0  [report, transmitter, lose, connection, pump, ...   \n",
       "\n",
       "                                        STEMMED_TEXT  \n",
       "0  [report, transmitt, lost, connect, pump, great...  "
      ]
     },
     "execution_count": 6,
     "metadata": {},
     "output_type": "execute_result"
    }
   ],
   "source": [
    "df.head(1)"
   ]
  },
  {
   "cell_type": "code",
   "execution_count": 26,
   "id": "53d52aa9-a028-4efa-86d6-fcfdf16ab2df",
   "metadata": {
    "tags": []
   },
   "outputs": [
    {
     "name": "stdout",
     "output_type": "stream",
     "text": [
      "['it', 'was', 'reported', 'that', 'the', 'transmitter', 'lost', 'connection', 'with', 'the', 'pump', 'for', 'greater', 'than', 'hour', 'the', 'transmitter', 'ultimately', 'regained', 'connection', 'with', 'the', 'pump', 'no', 'additional', 'patient', 'or', 'event', 'information', 'was']\n"
     ]
    }
   ],
   "source": [
    "import gensim\n",
    "from gensim.utils import simple_preprocess\n",
    "\n",
    "def sent_to_words(sentences):\n",
    "    for sentence in sentences:\n",
    "        yield(gensim.utils.simple_preprocess(str(sentence), deacc=True))  # deacc=True removes punctuations\n",
    "\n",
    "data = df['FOI_TEXT'].tolist()\n",
    "data_words = list(sent_to_words(data))\n",
    "\n",
    "print(data_words[:1][0][:30])"
   ]
  },
  {
   "cell_type": "code",
   "execution_count": 27,
   "id": "e0c6dce8-129c-47cb-99ef-3ec2dab1d416",
   "metadata": {
    "tags": []
   },
   "outputs": [],
   "source": [
    "# Build the bigram and trigram models\n",
    "bigram = gensim.models.Phrases(data_words, min_count=5, threshold=100) # higher threshold fewer phrases.\n",
    "trigram = gensim.models.Phrases(bigram[data_words], threshold=100)  \n",
    "\n",
    "# Faster way to get a sentence clubbed as a trigram/bigram\n",
    "bigram_mod = gensim.models.phrases.Phraser(bigram)\n",
    "trigram_mod = gensim.models.phrases.Phraser(trigram)"
   ]
  },
  {
   "cell_type": "code",
   "execution_count": 28,
   "id": "448dd175-aee8-4cd8-89cc-97eb0b3f422e",
   "metadata": {
    "tags": []
   },
   "outputs": [],
   "source": [
    "# NLTK Stop words\n",
    "import nltk\n",
    "nltk.download('stopwords')\n",
    "from nltk.corpus import stopwords\n",
    "\n",
    "stop_words = stopwords.words('english')\n",
    "stop_words.extend(['from', 'subject', 're', 'edu', 'use'])\n",
    "\n",
    "# Define functions for stopwords, bigrams, trigrams and lemmatization\n",
    "def remove_stopwords(texts):\n",
    "    return [[word for word in simple_preprocess(str(doc)) if word not in stop_words] for doc in texts]\n",
    "\n",
    "def make_bigrams(texts):\n",
    "    return [bigram_mod[doc] for doc in texts]\n",
    "\n",
    "def make_trigrams(texts):\n",
    "    return [trigram_mod[bigram_mod[doc]] for doc in texts]\n",
    "\n",
    "def lemmatization(texts, allowed_postags=['NOUN', 'ADJ', 'VERB', 'ADV']):\n",
    "    \"\"\"https://spacy.io/api/annotation\"\"\"\n",
    "    texts_out = []\n",
    "    for sent in texts:\n",
    "        doc = nlp(\" \".join(sent)) \n",
    "        texts_out.append([token.lemma_ for token in doc if token.pos_ in allowed_postags])\n",
    "    return texts_out"
   ]
  },
  {
   "cell_type": "code",
   "execution_count": 35,
   "id": "a2e49f96-dbb0-43ab-9ffe-1022de301796",
   "metadata": {
    "tags": []
   },
   "outputs": [
    {
     "name": "stdout",
     "output_type": "stream",
     "text": [
      "['report', 'transmitter', 'lose', 'connection', 'pump', 'great', 'hour', 'transmitter', 'ultimately', 'regain', 'connection', 'pump', 'additional', 'patient', 'event', 'information', 'available']\n"
     ]
    }
   ],
   "source": [
    "import spacy\n",
    "\n",
    "# Remove Stop Words\n",
    "data_words_nostops = remove_stopwords(data_words)\n",
    "\n",
    "# Form Bigrams\n",
    "data_words_bigrams = make_bigrams(data_words_nostops)\n",
    "\n",
    "# Initialize spacy 'en' model, keeping only tagger component (for efficiency)\n",
    "nlp = spacy.load(\"en_core_web_sm\", disable=['parser', 'ner'])\n",
    "\n",
    "# Do lemmatization keeping only noun, adj, vb, adv\n",
    "data_lemmatized = lemmatization(data_words_bigrams, allowed_postags=['NOUN', 'ADJ', 'VERB', 'ADV'])\n",
    "\n",
    "print(data_lemmatized[:1][0][:30])"
   ]
  },
  {
   "cell_type": "code",
   "execution_count": 36,
   "id": "d6a6de27-4e41-42e4-9280-7da6f2cbe50c",
   "metadata": {
    "tags": []
   },
   "outputs": [
    {
     "data": {
      "text/plain": [
       "['reported',\n",
       " 'transmitter',\n",
       " 'lost',\n",
       " 'connection',\n",
       " 'pump',\n",
       " 'greater',\n",
       " 'hour',\n",
       " 'transmitter',\n",
       " 'ultimately',\n",
       " 'regained',\n",
       " 'connection',\n",
       " 'pump',\n",
       " 'additional',\n",
       " 'patient',\n",
       " 'event',\n",
       " 'information',\n",
       " 'available']"
      ]
     },
     "execution_count": 36,
     "metadata": {},
     "output_type": "execute_result"
    }
   ],
   "source": [
    "data_words_bigrams[0]"
   ]
  },
  {
   "cell_type": "code",
   "execution_count": 37,
   "id": "6d5a5d3b-b3f7-45fe-8238-4bc792d1e816",
   "metadata": {
    "tags": []
   },
   "outputs": [
    {
     "name": "stdout",
     "output_type": "stream",
     "text": [
      "[(0, 1), (1, 1), (2, 2), (3, 1), (4, 1), (5, 1), (6, 1), (7, 1), (8, 1), (9, 2), (10, 1), (11, 1), (12, 2), (13, 1)]\n"
     ]
    }
   ],
   "source": [
    "import gensim.corpora as corpora\n",
    "\n",
    "# Create Dictionary\n",
    "id2word = corpora.Dictionary(data_lemmatized)\n",
    "\n",
    "# Create Corpus\n",
    "texts = data_lemmatized\n",
    "\n",
    "# Term Document Frequency\n",
    "corpus = [id2word.doc2bow(text) for text in texts]\n",
    "\n",
    "# View\n",
    "print(corpus[:1][0][:30])"
   ]
  },
  {
   "cell_type": "code",
   "execution_count": 38,
   "id": "80260b3e-2549-4564-83d8-01dac83f2345",
   "metadata": {
    "tags": []
   },
   "outputs": [],
   "source": [
    "# Build LDA model\n",
    "lda_model = gensim.models.LdaMulticore(corpus=corpus,\n",
    "                                       id2word=id2word,\n",
    "                                       num_topics=10, \n",
    "                                       random_state=100,\n",
    "                                       chunksize=100,\n",
    "                                       passes=10,\n",
    "                                       per_word_topics=True)"
   ]
  },
  {
   "cell_type": "code",
   "execution_count": 39,
   "id": "1b65d281-b7d3-4551-a140-551841d8e4e6",
   "metadata": {},
   "outputs": [
    {
     "name": "stdout",
     "output_type": "stream",
     "text": [
      "[(0,\n",
      "  '0.091*\"perform\" + 0.063*\"pass\" + 0.055*\"transmitter\" + 0.050*\"report\" + '\n",
      "  '0.050*\"fail\" + 0.037*\"evaluate\" + 0.033*\"test\" + 0.033*\"inspection\" + '\n",
      "  '0.033*\"visual\" + 0.032*\"error\"'),\n",
      " (1,\n",
      "  '0.092*\"transmitter\" + 0.069*\"pump\" + 0.066*\"connection\" + 0.058*\"patient\" + '\n",
      "  '0.052*\"report\" + 0.051*\"information\" + 0.050*\"additional\" + 0.048*\"event\" + '\n",
      "  '0.048*\"available\" + 0.044*\"lose\"'),\n",
      " (2,\n",
      "  '0.061*\"device\" + 0.054*\"report\" + 0.041*\"loss\" + 0.037*\"operate\" + '\n",
      "  '0.031*\"system\" + 0.030*\"mobile\" + 0.029*\"share\" + 0.026*\"support\" + '\n",
      "  '0.026*\"determined\" + 0.025*\"signal\"'),\n",
      " (3,\n",
      "  '0.098*\"loss\" + 0.087*\"signal\" + 0.079*\"report\" + 0.056*\"hour\" + '\n",
      "  '0.040*\"probable\" + 0.040*\"cause\" + 0.040*\"allegation\" + '\n",
      "  '0.040*\"intervention\" + 0.040*\"occur\" + 0.039*\"medical\"'),\n",
      " (4,\n",
      "  '0.089*\"glucose\" + 0.077*\"bg\" + 0.059*\"reading\" + 0.057*\"read\" + '\n",
      "  '0.044*\"blood\" + 0.043*\"meter\" + 0.040*\"monitor\" + 0.039*\"continuous\" + '\n",
      "  '0.039*\"inaccuracy\" + 0.039*\"sensor\"'),\n",
      " (5,\n",
      "  '0.083*\"report\" + 0.064*\"evaluation\" + 0.061*\"return\" + 0.060*\"become\" + '\n",
      "  '0.060*\"available\" + 0.060*\"new\" + 0.060*\"product\" + 0.060*\"relevant\" + '\n",
      "  '0.060*\"information\" + 0.060*\"submit\"'),\n",
      " (6,\n",
      "  '0.110*\"transmitter\" + 0.088*\"customer\" + 0.046*\"event\" + 0.045*\"root\" + '\n",
      "  '0.045*\"patient\" + 0.045*\"available\" + 0.045*\"receive\" + 0.045*\"replacement\" '\n",
      "  '+ 0.045*\"additional\" + 0.045*\"information\"'),\n",
      " (7,\n",
      "  '0.113*\"report\" + 0.063*\"datum\" + 0.055*\"probable\" + 0.055*\"cause\" + '\n",
      "  '0.055*\"allegation\" + 0.054*\"intervention\" + 0.054*\"occur\" + 0.053*\"medical\" '\n",
      "  '+ 0.053*\"injury\" + 0.052*\"transmitter\"'),\n",
      " (8,\n",
      "  '0.177*\"device\" + 0.143*\"receive\" + 0.070*\"however\" + 0.067*\"report\" + '\n",
      "  '0.064*\"submit\" + 0.057*\"return\" + 0.053*\"supplemental\" + 0.053*\"evaluation\" '\n",
      "  '+ 0.051*\"expect\" + 0.051*\"yet\"'),\n",
      " (9,\n",
      "  '0.116*\"report\" + 0.067*\"evaluation\" + 0.066*\"datum\" + 0.065*\"provide\" + '\n",
      "  '0.061*\"product\" + 0.060*\"confirmation\" + 0.057*\"determined\" + '\n",
      "  '0.057*\"medical\" + 0.057*\"injury\" + 0.057*\"intervention\"')]\n"
     ]
    }
   ],
   "source": [
    "from pprint import pprint\n",
    "\n",
    "# Print the Keyword in the 10 topics\n",
    "pprint(lda_model.print_topics())\n",
    "doc_lda = lda_model[corpus]"
   ]
  },
  {
   "cell_type": "code",
   "execution_count": 40,
   "id": "6b3ad16c-2465-4239-b79f-5d668a970459",
   "metadata": {},
   "outputs": [
    {
     "name": "stdout",
     "output_type": "stream",
     "text": [
      "Coherence Score:  0.6147046874725499\n"
     ]
    }
   ],
   "source": [
    "from gensim.models import CoherenceModel\n",
    "\n",
    "# Compute Coherence Score\n",
    "coherence_model_lda = CoherenceModel(model=lda_model, texts=data_lemmatized, dictionary=id2word, coherence='c_v')\n",
    "coherence_lda = coherence_model_lda.get_coherence()\n",
    "print('Coherence Score: ', coherence_lda)"
   ]
  },
  {
   "cell_type": "code",
   "execution_count": 41,
   "id": "0c0fbb86-5174-4c1d-a43c-aa7a36b4e51c",
   "metadata": {},
   "outputs": [],
   "source": [
    "# supporting function\n",
    "def compute_coherence_values(corpus, dictionary, k, a, b):\n",
    "    \n",
    "    lda_model = gensim.models.LdaMulticore(corpus=corpus,\n",
    "                                           id2word=dictionary,\n",
    "                                           num_topics=k, \n",
    "                                           random_state=100,\n",
    "                                           chunksize=100,\n",
    "                                           passes=10,\n",
    "                                           alpha=a,\n",
    "                                           eta=b)\n",
    "    \n",
    "    coherence_model_lda = CoherenceModel(model=lda_model, texts=data_lemmatized, dictionary=id2word, coherence='c_v')\n",
    "    \n",
    "    return coherence_model_lda.get_coherence()"
   ]
  },
  {
   "cell_type": "code",
   "execution_count": 42,
   "id": "4177c91a-ad86-4707-a785-2ebc77f1d733",
   "metadata": {
    "tags": []
   },
   "outputs": [
    {
     "name": "stderr",
     "output_type": "stream",
     "text": [
      "100%|██████████| 540/540 [49:47<00:00,  5.53s/it]\n"
     ]
    }
   ],
   "source": [
    "import numpy as np\n",
    "import tqdm\n",
    "\n",
    "grid = {}\n",
    "grid['Validation_Set'] = {}\n",
    "\n",
    "# Topics range\n",
    "min_topics = 1\n",
    "max_topics = 25\n",
    "step_size = 1\n",
    "topics_range = range(min_topics, max_topics, step_size)\n",
    "\n",
    "# Alpha parameter\n",
    "alpha = list(np.arange(0.01, 1, 0.3))\n",
    "alpha.append('symmetric')\n",
    "alpha.append('asymmetric')\n",
    "\n",
    "# Beta parameter\n",
    "beta = list(np.arange(0.01, 1, 0.3))\n",
    "beta.append('symmetric')\n",
    "\n",
    "# Validation sets\n",
    "num_of_docs = len(corpus)\n",
    "corpus_sets = [gensim.utils.ClippedCorpus(corpus, int(num_of_docs*0.75)), \n",
    "               corpus]\n",
    "\n",
    "corpus_title = ['75% Corpus', '100% Corpus']\n",
    "\n",
    "model_results = {\n",
    "    'Validation_Set': [],\n",
    "    'Topics': [],\n",
    "    'Alpha': [],\n",
    "    'Beta': [],\n",
    "    'Coherence': []\n",
    "}\n",
    "\n",
    "# Can take a long time to run\n",
    "if True:\n",
    "    pbar = tqdm.tqdm(total=(len(beta)*len(alpha)*len(topics_range)*len(corpus_title)))\n",
    "    \n",
    "    # iterate through validation corpuses\n",
    "    for i in range(len(corpus_sets)):\n",
    "        # iterate through number of topics\n",
    "        for k in topics_range:\n",
    "            # iterate through alpha values\n",
    "            for a in alpha:\n",
    "                # iterare through beta values\n",
    "                for b in beta:\n",
    "                    # get the coherence score for the given parameters\n",
    "                    cv = compute_coherence_values(corpus=corpus_sets[i], dictionary=id2word, \n",
    "                                                  k=k, a=a, b=b)\n",
    "                    # Save the model results\n",
    "                    model_results['Validation_Set'].append(corpus_title[i])\n",
    "                    model_results['Topics'].append(k)\n",
    "                    model_results['Alpha'].append(a)\n",
    "                    model_results['Beta'].append(b)\n",
    "                    model_results['Coherence'].append(cv)\n",
    "                    \n",
    "                    pbar.update(1)\n",
    "    pd.DataFrame(model_results).to_csv(f\"{working_directory}/lda_tuning_results.csv\", index=False)\n",
    "    pbar.close()"
   ]
  },
  {
   "cell_type": "code",
   "execution_count": 43,
   "id": "3b9be61b-b1ec-4f7a-9c33-a5b55a73294a",
   "metadata": {
    "tags": []
   },
   "outputs": [],
   "source": [
    "model_results_df = pd.DataFrame(model_results)"
   ]
  },
  {
   "cell_type": "code",
   "execution_count": 51,
   "id": "dd8deed7-cc52-4cbe-a84b-02fd0eb3c6fb",
   "metadata": {
    "tags": []
   },
   "outputs": [
    {
     "name": "stderr",
     "output_type": "stream",
     "text": [
      "/home/ec2-user/anaconda3/envs/amazonei_pytorch_latest_p37/lib/python3.7/site-packages/past/builtins/misc.py:45: DeprecationWarning: the imp module is deprecated in favour of importlib; see the module's documentation for alternative uses\n",
      "  from imp import reload\n",
      "/home/ec2-user/anaconda3/envs/amazonei_pytorch_latest_p37/lib/python3.7/site-packages/past/builtins/misc.py:45: DeprecationWarning: the imp module is deprecated in favour of importlib; see the module's documentation for alternative uses\n",
      "  from imp import reload\n",
      "/home/ec2-user/anaconda3/envs/amazonei_pytorch_latest_p37/lib/python3.7/site-packages/past/builtins/misc.py:45: DeprecationWarning: the imp module is deprecated in favour of importlib; see the module's documentation for alternative uses\n",
      "  from imp import reload\n",
      "/home/ec2-user/anaconda3/envs/amazonei_pytorch_latest_p37/lib/python3.7/site-packages/past/builtins/misc.py:45: DeprecationWarning: the imp module is deprecated in favour of importlib; see the module's documentation for alternative uses\n",
      "  from imp import reload\n",
      "/home/ec2-user/anaconda3/envs/amazonei_pytorch_latest_p37/lib/python3.7/site-packages/past/builtins/misc.py:45: DeprecationWarning: the imp module is deprecated in favour of importlib; see the module's documentation for alternative uses\n",
      "  from imp import reload\n",
      "/home/ec2-user/anaconda3/envs/amazonei_pytorch_latest_p37/lib/python3.7/site-packages/past/builtins/misc.py:45: DeprecationWarning: the imp module is deprecated in favour of importlib; see the module's documentation for alternative uses\n",
      "  from imp import reload\n"
     ]
    }
   ],
   "source": [
    "import pickle\n",
    "import datetime\n",
    "\n",
    "with open(f\"{working_directory}/model_results_df-{datetime.datetime.now():%Y-%m-%d-%s}.pickle\", 'wb') as f:\n",
    "    pickle.dump(model_results_df, f)"
   ]
  },
  {
   "cell_type": "code",
   "execution_count": 44,
   "id": "f58dc6ad-9079-4033-9846-c9a82e476776",
   "metadata": {
    "tags": []
   },
   "outputs": [
    {
     "data": {
      "text/html": [
       "<div>\n",
       "<style scoped>\n",
       "    .dataframe tbody tr th:only-of-type {\n",
       "        vertical-align: middle;\n",
       "    }\n",
       "\n",
       "    .dataframe tbody tr th {\n",
       "        vertical-align: top;\n",
       "    }\n",
       "\n",
       "    .dataframe thead th {\n",
       "        text-align: right;\n",
       "    }\n",
       "</style>\n",
       "<table border=\"1\" class=\"dataframe\">\n",
       "  <thead>\n",
       "    <tr style=\"text-align: right;\">\n",
       "      <th></th>\n",
       "      <th>Validation_Set</th>\n",
       "      <th>Topics</th>\n",
       "      <th>Alpha</th>\n",
       "      <th>Beta</th>\n",
       "      <th>Coherence</th>\n",
       "    </tr>\n",
       "  </thead>\n",
       "  <tbody>\n",
       "    <tr>\n",
       "      <th>0</th>\n",
       "      <td>75% Corpus</td>\n",
       "      <td>2</td>\n",
       "      <td>0.01</td>\n",
       "      <td>0.01</td>\n",
       "      <td>0.548065</td>\n",
       "    </tr>\n",
       "    <tr>\n",
       "      <th>1</th>\n",
       "      <td>75% Corpus</td>\n",
       "      <td>2</td>\n",
       "      <td>0.01</td>\n",
       "      <td>0.31</td>\n",
       "      <td>0.550543</td>\n",
       "    </tr>\n",
       "    <tr>\n",
       "      <th>2</th>\n",
       "      <td>75% Corpus</td>\n",
       "      <td>2</td>\n",
       "      <td>0.01</td>\n",
       "      <td>0.61</td>\n",
       "      <td>0.570513</td>\n",
       "    </tr>\n",
       "    <tr>\n",
       "      <th>3</th>\n",
       "      <td>75% Corpus</td>\n",
       "      <td>2</td>\n",
       "      <td>0.01</td>\n",
       "      <td>0.91</td>\n",
       "      <td>0.591976</td>\n",
       "    </tr>\n",
       "    <tr>\n",
       "      <th>4</th>\n",
       "      <td>75% Corpus</td>\n",
       "      <td>2</td>\n",
       "      <td>0.01</td>\n",
       "      <td>symmetric</td>\n",
       "      <td>0.570513</td>\n",
       "    </tr>\n",
       "    <tr>\n",
       "      <th>...</th>\n",
       "      <td>...</td>\n",
       "      <td>...</td>\n",
       "      <td>...</td>\n",
       "      <td>...</td>\n",
       "      <td>...</td>\n",
       "    </tr>\n",
       "    <tr>\n",
       "      <th>535</th>\n",
       "      <td>100% Corpus</td>\n",
       "      <td>10</td>\n",
       "      <td>asymmetric</td>\n",
       "      <td>0.01</td>\n",
       "      <td>0.639115</td>\n",
       "    </tr>\n",
       "    <tr>\n",
       "      <th>536</th>\n",
       "      <td>100% Corpus</td>\n",
       "      <td>10</td>\n",
       "      <td>asymmetric</td>\n",
       "      <td>0.31</td>\n",
       "      <td>0.617715</td>\n",
       "    </tr>\n",
       "    <tr>\n",
       "      <th>537</th>\n",
       "      <td>100% Corpus</td>\n",
       "      <td>10</td>\n",
       "      <td>asymmetric</td>\n",
       "      <td>0.61</td>\n",
       "      <td>0.656768</td>\n",
       "    </tr>\n",
       "    <tr>\n",
       "      <th>538</th>\n",
       "      <td>100% Corpus</td>\n",
       "      <td>10</td>\n",
       "      <td>asymmetric</td>\n",
       "      <td>0.91</td>\n",
       "      <td>0.656947</td>\n",
       "    </tr>\n",
       "    <tr>\n",
       "      <th>539</th>\n",
       "      <td>100% Corpus</td>\n",
       "      <td>10</td>\n",
       "      <td>asymmetric</td>\n",
       "      <td>symmetric</td>\n",
       "      <td>0.656568</td>\n",
       "    </tr>\n",
       "  </tbody>\n",
       "</table>\n",
       "<p>540 rows × 5 columns</p>\n",
       "</div>"
      ],
      "text/plain": [
       "    Validation_Set  Topics       Alpha       Beta  Coherence\n",
       "0       75% Corpus       2        0.01       0.01   0.548065\n",
       "1       75% Corpus       2        0.01       0.31   0.550543\n",
       "2       75% Corpus       2        0.01       0.61   0.570513\n",
       "3       75% Corpus       2        0.01       0.91   0.591976\n",
       "4       75% Corpus       2        0.01  symmetric   0.570513\n",
       "..             ...     ...         ...        ...        ...\n",
       "535    100% Corpus      10  asymmetric       0.01   0.639115\n",
       "536    100% Corpus      10  asymmetric       0.31   0.617715\n",
       "537    100% Corpus      10  asymmetric       0.61   0.656768\n",
       "538    100% Corpus      10  asymmetric       0.91   0.656947\n",
       "539    100% Corpus      10  asymmetric  symmetric   0.656568\n",
       "\n",
       "[540 rows x 5 columns]"
      ]
     },
     "execution_count": 44,
     "metadata": {},
     "output_type": "execute_result"
    }
   ],
   "source": [
    "model_results_df"
   ]
  },
  {
   "cell_type": "code",
   "execution_count": 46,
   "id": "fcfa2d90-e160-4a3c-b9a7-75a2f6022a11",
   "metadata": {
    "tags": []
   },
   "outputs": [],
   "source": [
    "num_topics = 8\n",
    "alpha      = 0.01\n",
    "beta       = 0.9\n",
    "\n",
    "lda_model = gensim.models.LdaMulticore(corpus=corpus,\n",
    "                                           id2word=id2word,\n",
    "                                           num_topics=num_topics, \n",
    "                                           random_state=100,\n",
    "                                           chunksize=100,\n",
    "                                           passes=10,\n",
    "                                           alpha=alpha,\n",
    "                                           eta=beta)"
   ]
  },
  {
   "cell_type": "code",
   "execution_count": 48,
   "id": "5f72c25e-79b4-43cc-b81e-44e56bc86299",
   "metadata": {
    "tags": []
   },
   "outputs": [
    {
     "name": "stdout",
     "output_type": "stream",
     "text": [
      "Note: you may need to restart the kernel to use updated packages.\n"
     ]
    }
   ],
   "source": [
    "%pip install --upgrade --quiet pyldavis"
   ]
  },
  {
   "cell_type": "code",
   "execution_count": 49,
   "id": "e8327b23-62a6-42ba-a19d-0dc07401c49d",
   "metadata": {
    "tags": []
   },
   "outputs": [
    {
     "name": "stderr",
     "output_type": "stream",
     "text": [
      "/home/ec2-user/anaconda3/envs/amazonei_pytorch_latest_p37/lib/python3.7/site-packages/past/builtins/misc.py:45: DeprecationWarning: the imp module is deprecated in favour of importlib; see the module's documentation for alternative uses\n",
      "  from imp import reload\n",
      "/home/ec2-user/anaconda3/envs/amazonei_pytorch_latest_p37/lib/python3.7/site-packages/pyLDAvis/_prepare.py:247: FutureWarning: In a future version of pandas all arguments of DataFrame.drop except for the argument 'labels' will be keyword-only\n",
      "  by='saliency', ascending=False).head(R).drop('saliency', 1)\n"
     ]
    },
    {
     "data": {
      "text/html": [
       "\n",
       "<link rel=\"stylesheet\" type=\"text/css\" href=\"https://cdn.jsdelivr.net/gh/bmabey/pyLDAvis@3.3.1/pyLDAvis/js/ldavis.v1.0.0.css\">\n",
       "\n",
       "\n",
       "<div id=\"ldavis_el72141402961953204006849282268\"></div>\n",
       "<script type=\"text/javascript\">\n",
       "\n",
       "var ldavis_el72141402961953204006849282268_data = {\"mdsDat\": {\"x\": [-0.24932879761274077, -0.22009965991582978, -0.1790473580878338, 0.09890399885553228, 0.22786029099835264, 0.1715235747651122, -0.03958176113942065, 0.1897697121368273], \"y\": [-0.009077240903418585, 0.021248423026457245, -0.1209121423427602, -0.15325644184129367, -0.14736212292085837, 0.26894963976802533, 0.18869092877789073, -0.04828104356404241], \"topics\": [1, 2, 3, 4, 5, 6, 7, 8], \"cluster\": [1, 1, 1, 1, 1, 1, 1, 1], \"Freq\": [28.259379326306057, 21.419694958817853, 20.035884888695005, 7.393600259716142, 7.189952686353418, 6.220323563139281, 5.427261415358112, 4.053902901614139]}, \"tinfo\": {\"Term\": [\"transmitter\", \"evaluation\", \"product\", \"device\", \"datum\", \"perform\", \"information\", \"connection\", \"available\", \"error\", \"glucose\", \"fail\", \"submit\", \"return\", \"loss\", \"confirmation\", \"provide\", \"supplemental\", \"hour\", \"relevant\", \"new\", \"become\", \"bg\", \"signal\", \"patient\", \"customer\", \"report\", \"event\", \"additional\", \"reading\", \"establish\", \"window\", \"review\", \"log\", \"download\", \"exterior\", \"share\", \"pass\", \"defective\", \"perform\", \"check\", \"find\", \"restore\", \"measurement\", \"investigation\", \"visual\", \"inspection\", \"external\", \"pair\", \"voltage\", \"loss\", \"signal\", \"test\", \"nordic\", \"testing\", \"present\", \"unable\", \"allege\", \"physical\", \"connection\", \"hour\", \"confirm\", \"allegation\", \"probable\", \"intervention\", \"injury\", \"medical\", \"occur\", \"report\", \"cause\", \"determined\", \"transmitter\", \"evaluate\", \"product\", \"confirmation\", \"provide\", \"miss\", \"ambiguity\", \"line\", \"wire\", \"tool\", \"com\", \"icon\", \"case\", \"service\", \"pende\", \"shutdown\", \"audio_output\", \"display\", \"complaint\", \"detached\", \"complete\", \"broken\", \"follow\", \"frozen\", \"unexpected\", \"undetermined\", \"evaluation\", \"upon_completion\", \"product\", \"vibration\", \"datum\", \"receiver\", \"deploy\", \"determined\", \"injury\", \"medical\", \"intervention\", \"probable\", \"occur\", \"allegation\", \"report\", \"cause\", \"hour\", \"fail\", \"error\", \"signal\", \"loss\", \"transmitter\", \"sensor\", \"support\", \"early\", \"expiration\", \"insert\", \"share\", \"zone\", \"grid\", \"parke\", \"fall\", \"difference\", \"compare\", \"potential\", \"value\", \"accurate\", \"low\", \"range\", \"evaluate\", \"determine\", \"insert\", \"arm\", \"pod\", \"lead\", \"remove\", \"command\", \"early\", \"upper_buttock\", \"calibration\", \"counts_aberration\", \"stopped_worke\", \"misuse\", \"progressive\", \"data\", \"unknown\", \"expiration\", \"error\", \"glucose\", \"datum\", \"confirm\", \"fail\", \"blood\", \"sensor\", \"transmitter\", \"report\", \"allegation\", \"probable\", \"intervention\", \"medical\", \"injury\", \"occur\", \"cause\", \"inaccuracy\", \"determined\", \"continuous\", \"monitor\", \"meter\", \"invalid\", \"month\", \"start\", \"less\", \"attempt\", \"battery\", \"initiate\", \"multiple\", \"alert\", \"finding\", \"due\", \"customer\", \"send\", \"replacement\", \"root\", \"message\", \"additionally\", \"session\", \"addition\", \"end\", \"event\", \"receive\", \"additional\", \"intermittent\", \"reportable\", \"long\", \"transmitter\", \"base\", \"patient\", \"malfunction\", \"fail\", \"unable\", \"error\", \"available\", \"information\", \"test\", \"determined\", \"voltage\", \"cause\", \"report\", \"sensor\", \"external\", \"perform\", \"read\", \"reading\", \"reportedly\", \"second\", \"bg\", \"continued\", \"value_resolve\", \"state\", \"reaction\", \"hospital\", \"correction\", \"enter\", \"address\", \"consciousness\", \"instruct\", \"insulin\", \"meter\", \"take\", \"know\", \"call\", \"administer\", \"monitor\", \"continuous\", \"inaccuracy\", \"third\", \"emergency\", \"require\", \"period\", \"prior\", \"blood\", \"glucose\", \"root\", \"replacement\", \"send\", \"additional\", \"patient\", \"customer\", \"event\", \"skin\", \"sensor\", \"information\", \"available\", \"calibration\", \"cause\", \"determined\", \"report\", \"issue\", \"value\", \"technical\", \"determine\", \"relevant\", \"become\", \"new\", \"user_guide\", \"supplemental\", \"return\", \"submit\", \"portion\", \"upper_right\", \"states_make\", \"sure\", \"calibrate\", \"cgm\", \"without_obstruction\", \"foot\", \"show\", \"labeling\", \"discoloration\", \"bruise\", \"bleed\", \"swell\", \"irritation\", \"keep\", \"infection\", \"available\", \"itching\", \"information\", \"pain\", \"redness\", \"patch\", \"tandem\", \"evaluation\", \"product\", \"skin\", \"report\", \"sensor\", \"glucose\", \"reading\", \"cause\", \"insert\", \"state\", \"system\", \"expect\", \"yet\", \"smart\", \"operate\", \"prematurely\", \"impact\", \"indicate\", \"adverse\", \"relate\", \"device\", \"application\", \"functional\", \"usage\", \"label\", \"charge\", \"boot\", \"however\", \"internal\", \"expire\", \"specification\", \"receive\", \"manually\", \"mobile\", \"crash\", \"resistance\", \"speaker\", \"support\", \"file\", \"receiver\", \"misuse\", \"alert\", \"submit\", \"return\", \"supplemental\", \"resolve\", \"replace\", \"report\", \"perform\", \"sensor\", \"evaluation\", \"expiration\", \"loss\", \"occur\", \"determined\", \"connection\", \"pump\", \"great\", \"regain\", \"ultimately\", \"lose\", \"duration\", \"unspecified\", \"regard\", \"declined_assistance\", \"unsupported\", \"replace\", \"respond\", \"issue\", \"time\", \"operating\", \"contact\", \"make\", \"technical\", \"obtain\", \"identify\", \"number\", \"resolve\", \"incorrectly\", \"side\", \"opposite\", \"use\", \"reset\", \"tandem\", \"code\", \"select\", \"connection\", \"additional\", \"event\", \"patient\", \"information\", \"available\", \"transmitter\", \"hour\", \"report\", \"customer\", \"intermittent\", \"support\", \"reportedly\", \"multiple\", \"occur\", \"loss\"], \"Freq\": [3647.0, 2242.0, 2313.0, 1084.0, 2904.0, 2302.0, 1361.0, 1101.0, 1346.0, 2130.0, 1138.0, 2034.0, 777.0, 772.0, 3033.0, 1331.0, 1454.0, 744.0, 1853.0, 608.0, 690.0, 613.0, 748.0, 2570.0, 959.0, 842.0, 9742.0, 802.0, 760.0, 540.0, 293.6974244276643, 1235.450332036721, 1167.5547995279035, 1169.0581396172663, 127.02054512528343, 74.49740341264994, 1147.399754311278, 700.229291059158, 50.62777645568215, 2050.361567257783, 76.24143315752067, 1254.0801981463208, 41.82998245881685, 40.56578619088044, 1237.673175665834, 329.91552759658555, 331.0097478957238, 307.7723753006367, 223.9538966094692, 300.9324212806787, 2346.0191093008684, 1969.4660305842422, 301.0222769979303, 20.46172060885968, 33.165286420878395, 61.45074877100234, 340.6019114925128, 55.66947731135001, 13.419325020944992, 712.4925572786261, 1107.9511210325861, 1219.0767258844655, 1294.026918900144, 1297.58720502059, 1260.5687544784616, 1206.1984150410565, 1208.8435673852175, 1225.7736738068356, 2414.266565738893, 1258.8420249192695, 758.9640134601161, 511.09432043427506, 330.39213784500936, 319.7559771116895, 1277.0658259212362, 1376.7953802328711, 98.05192790501005, 47.10841486962335, 47.1028555640534, 79.79256950024667, 46.77534266304313, 30.350209197868235, 30.498063666129262, 47.5261823486732, 47.4397513513143, 36.976399728624585, 24.398389855331004, 24.56551647902779, 58.88758618750322, 62.09882057798345, 17.759603633367394, 45.459501154434264, 14.807596794707715, 36.45217653383437, 14.466558015992074, 29.711618248749023, 111.6584778652042, 1456.8227556045842, 31.909413670485645, 1349.1285861328074, 8.806003125913476, 1479.9140667132249, 48.05236251874253, 5.16428052754384, 1379.681432641941, 1400.581529748892, 1401.9809789752373, 1402.7203915456628, 1371.7699674346024, 1357.160311833731, 1341.863296711896, 2814.2100267114492, 1367.7016526607363, 554.4087033281687, 537.218782054196, 539.5532915196351, 550.8277127932329, 566.0024231925288, 506.0834300116652, 278.14641712678855, 87.85911564984659, 77.6312835090356, 76.16550902498231, 73.96134408498057, 82.84839263098205, 247.41238850717423, 255.0170818188162, 253.47625200338283, 252.02590011766495, 67.43486249956445, 44.28063918273259, 48.89841818011453, 344.6636872574215, 42.967129335945906, 272.1128866385602, 43.231477047542846, 1083.3335738474782, 513.950645403503, 217.42902863783522, 41.26112191602837, 14.115641371631595, 17.630873631898062, 23.828810029369354, 10.42121238307405, 141.6552432610348, 13.357544754217026, 84.27727664823345, 10.112595633523764, 8.257437357738638, 59.94920129932268, 7.441459933289252, 19.284303872136363, 23.745098997651098, 139.3032484909317, 1092.769955535724, 582.7059435089071, 1387.7477809660938, 1060.218514881924, 821.1947596454576, 221.88154549916206, 519.6001059901821, 1121.4198386182456, 2603.86657791161, 1161.9466755859266, 1168.455676504903, 1145.143524894515, 1124.8922323187808, 1116.4427129979472, 1143.259904984541, 1150.6723793336455, 179.34576036551317, 656.9937338258736, 179.23266295336882, 179.77101829470305, 178.80227483228785, 124.63133398643424, 140.01745991289806, 99.8236977658779, 130.59713712929366, 114.77288867391228, 37.18803541928858, 22.803116365373057, 118.90064070991974, 165.93361135864114, 31.069508101482622, 78.64112662348295, 497.4120018374101, 257.2912370695797, 258.02210674925686, 260.72746216468937, 31.01332723844553, 7.495490905775916, 141.77074170222699, 22.662254387584714, 17.773009099802316, 299.86464115750556, 240.9890758787813, 267.92463623736205, 32.9128148027592, 32.977183464560184, 3.678305669532531, 1079.7347898385897, 32.59260862324962, 260.61000188815, 2.452086534540526, 506.5521495921614, 121.66562980421068, 454.4505227640358, 272.71939054114375, 268.4350075927869, 86.70875448907418, 304.7885759500351, 77.34724789522409, 325.21819660179324, 374.73080962172537, 125.75254180560601, 67.91011495409442, 74.6200526129889, 502.33681975084033, 521.7946640916184, 297.7332558327694, 24.457074164364332, 564.3057366904369, 15.964365422208592, 15.963431329664475, 35.54871706474524, 14.674917087091014, 12.767282540619004, 11.908682037938169, 39.782275518586644, 15.132103609629477, 9.513195955463758, 15.129808649896228, 11.786770931743765, 285.60632877268733, 9.150902984447844, 8.404879461626122, 8.555763649940557, 8.290416514401903, 256.13636799609617, 253.62273228199473, 250.64883266543902, 7.9477279806332675, 8.05864807069408, 9.356845809042627, 7.400339812626715, 7.952156290583451, 265.00179953766354, 535.6255767872947, 224.65847435535656, 195.2515088636219, 193.53736431785026, 260.892495266499, 309.66165736974637, 274.0276648732358, 256.6924135179005, 18.536130353400317, 274.87257825280375, 264.41745299920353, 259.14089496952954, 46.79105743953339, 238.87276457234182, 198.64416645637147, 280.05312035547945, 43.688602421329506, 47.642343150320606, 21.35931366725562, 33.54566700462357, 599.3389851554643, 597.9550606516359, 602.9557222758066, 33.243255139815886, 596.2857216278298, 610.789273594715, 609.042267998001, 12.133955904074107, 12.133145067369625, 9.794181618896403, 9.793676655859459, 13.446138553637804, 12.07870588920944, 8.16626042353975, 8.166206126439004, 12.147788995440973, 6.9038532836579485, 6.903595824905242, 6.903589037767649, 6.903506234689011, 6.903297190851136, 6.901977771302994, 8.082017566779776, 6.9056174869563725, 595.3560394292336, 6.903704871582574, 595.9538577480668, 7.036240474698224, 6.903214840248337, 6.900756539012036, 29.806274001205328, 603.8353063494471, 601.8506676814125, 13.631217461145903, 606.7605735115885, 22.177873418047618, 14.664065961063859, 11.031055999627972, 10.224146785433266, 8.208499043162183, 7.240531506353817, 227.4978355508729, 137.67729740294317, 136.33865898588448, 106.32734630343893, 261.7707538257014, 53.44010636856012, 52.44281367326321, 138.91067605432235, 54.213712586893166, 117.28424109118525, 887.6268508276651, 108.9627946348961, 16.147046396371106, 101.65795386799684, 101.65374069806715, 15.692227754205566, 14.115791583387034, 287.69075635999826, 8.921273627365105, 11.271991102777903, 127.86788818606054, 329.9174825360223, 6.053327956266899, 110.54487468477336, 14.234107754230951, 4.680504908004003, 4.680423976610113, 109.14443468661719, 4.256555473404221, 38.50544857307893, 32.04784659103492, 64.3277775742084, 158.322613316368, 151.81800953905147, 140.17683784203595, 47.36055585109856, 42.263719323989825, 401.77695512728684, 165.73748919597352, 117.87106554816788, 126.12335790492153, 48.40274691500146, 86.99814382361065, 87.3453797716984, 70.84318273170447, 54.724144124641036, 325.17732649730385, 161.43223403367813, 81.71798765072714, 65.50621833289527, 198.75397463745074, 37.0390429658331, 33.98535031380088, 28.84300542554176, 16.772920578701257, 20.36728045473298, 121.09823831186146, 12.572471008270895, 198.7056037181855, 35.81340493021529, 18.257556766551478, 12.013337954650403, 13.195754979155327, 34.949281954145086, 12.836857337424975, 7.118948876624537, 11.937112000795597, 100.00246878820985, 5.680908387753418, 5.471199433186755, 5.471146943284607, 19.967809887964425, 5.054378889548506, 34.36324930010897, 9.157280400142342, 4.358680380456844, 318.3852794232922, 223.94690068139477, 222.5109468135776, 249.67890863633855, 225.17347999660615, 211.47658327954326, 417.63764981657533, 167.93869829445464, 246.74153124837056, 64.01968071308409, 24.641029519529827, 35.89140610435624, 32.66247031114672, 25.9106835818571, 32.16408517776324, 27.55580911996164], \"Total\": [3647.0, 2242.0, 2313.0, 1084.0, 2904.0, 2302.0, 1361.0, 1101.0, 1346.0, 2130.0, 1138.0, 2034.0, 777.0, 772.0, 3033.0, 1331.0, 1454.0, 744.0, 1853.0, 608.0, 690.0, 613.0, 748.0, 2570.0, 959.0, 842.0, 9742.0, 802.0, 760.0, 540.0, 300.1211968320342, 1268.6426413415068, 1202.310293734113, 1205.0522362922516, 136.6225797673488, 82.03113752756695, 1270.1558517035016, 784.4111498038922, 56.84642958233291, 2302.3716184898653, 86.0023637140992, 1431.717311639033, 47.88817972917456, 46.74984997506704, 1452.2021555162632, 406.57226669778316, 408.13334673583626, 384.3969414045375, 285.91266124491864, 385.64280403793566, 3033.9409710355594, 2570.45269786821, 403.3659188653977, 27.547166894787573, 45.85208233212757, 85.76896672286637, 476.928321174859, 79.5426306008778, 19.780478450736258, 1101.2054652595275, 1853.4241107038924, 2338.1242872378, 3856.497734060434, 3895.1462870823307, 3864.580878189641, 3778.876225553814, 3793.757944947596, 3900.7188997783132, 9742.406160226403, 4407.173690733173, 3379.543788332563, 3647.252751710478, 1498.516061482774, 2313.6091710025444, 1331.3361916098656, 1454.308292765995, 106.3898873295933, 53.40393461225755, 53.40340713635282, 91.4484069978094, 54.083693881351344, 36.2844238552456, 36.57382120693265, 57.3688110460423, 57.77324276476254, 45.52799828174846, 30.36822838310308, 30.617761696459993, 73.52448565932814, 83.71200167324136, 24.419094141379638, 64.43930619020638, 21.100704077084448, 52.23989227346546, 20.756292593062774, 44.43265131575976, 169.85784973035314, 2242.284541753031, 49.577538178130375, 2313.6091710025444, 15.440421607598418, 2904.07865890583, 95.39778369210833, 11.177696875698642, 3379.543788332563, 3778.876225553814, 3793.757944947596, 3864.580878189641, 3895.1462870823307, 3900.7188997783132, 3856.497734060434, 9742.406160226403, 4407.173690733173, 1853.4241107038924, 2034.5932962290806, 2130.7534221059655, 2570.45269786821, 3033.9409710355594, 3647.252751710478, 1346.5790098684915, 258.2027534923834, 225.20195522096193, 269.93970374844844, 318.78201219572094, 1270.1558517035016, 254.28373613331146, 262.2065152811101, 260.66888765366696, 259.1781701998757, 73.88688764960727, 50.43664043736563, 56.18718362794628, 398.7605029916346, 55.73231307666663, 359.5722758693995, 58.73905629477243, 1498.516061482774, 716.012983473188, 318.78201219572094, 61.21006210896464, 21.08853439837491, 26.532552807477828, 36.4454794696027, 16.347388966989758, 225.20195522096193, 21.251403565422297, 136.55525372964155, 16.74666394508216, 14.56968983565849, 105.83655295649783, 13.352228106018567, 35.01778341101885, 43.303704857778605, 269.93970374844844, 2130.7534221059655, 1138.7113068702631, 2904.07865890583, 2338.1242872378, 2034.5932962290806, 494.1447682742522, 1346.5790098684915, 3647.252751710478, 9742.406160226403, 3856.497734060434, 3895.1462870823307, 3864.580878189641, 3793.757944947596, 3778.876225553814, 3900.7188997783132, 4407.173690733173, 436.7169408945376, 3379.543788332563, 439.9300349374402, 442.87295142516103, 471.67565299797457, 131.21500447293525, 148.102798367708, 110.50226094327391, 148.22612490343917, 137.2213308591671, 45.654343020095254, 28.924538931188895, 158.1870979008953, 248.49036769939244, 47.83179109261903, 128.1029401249751, 842.3426937985737, 458.9209854314824, 461.39333583353243, 506.0890079685261, 62.60354401262997, 15.623791219398894, 315.4475479127818, 52.83746308529179, 43.1577232361676, 802.6175336020482, 665.3949203338614, 760.1964674347685, 99.17211035789634, 108.05700785575138, 12.418706045067069, 3647.252751710478, 111.00216180952593, 959.1803481485645, 9.10636191719461, 2034.5932962290806, 476.928321174859, 2130.7534221059655, 1346.192828172217, 1361.344693549268, 403.3659188653977, 3379.543788332563, 385.64280403793566, 4407.173690733173, 9742.406160226403, 1346.5790098684915, 384.3969414045375, 2302.3716184898653, 510.934047490695, 540.1551035143525, 344.741684096798, 30.478637708268014, 748.9256598796727, 21.925649728984947, 21.92562584566686, 50.160536268040964, 20.707473898346574, 18.906405256078585, 17.865384223153733, 59.720669383680445, 23.21532340416865, 15.56826322759091, 24.77536304934677, 19.321367787327784, 471.67565299797457, 15.405728793835882, 14.35837943658338, 14.630836731087799, 14.286526974366868, 442.87295142516103, 439.9300349374402, 436.7169408945376, 13.875489669441293, 14.15930861327968, 16.502290948423425, 13.354182366251202, 14.744507026783925, 494.1447682742522, 1138.7113068702631, 506.0890079685261, 461.39333583353243, 458.9209854314824, 760.1964674347685, 959.1803481485645, 842.3426937985737, 802.6175336020482, 37.72515290217431, 1346.5790098684915, 1361.344693549268, 1346.192828172217, 136.55525372964155, 4407.173690733173, 3379.543788332563, 9742.406160226403, 304.1288138538687, 398.7605029916346, 62.055693099474105, 716.012983473188, 608.4648988314284, 613.1060509247089, 690.2070701758215, 39.42572290632376, 744.3533995891007, 772.1962244596066, 777.267514017274, 18.091734191218826, 18.091761962586006, 15.75080208953823, 15.750820173004506, 22.016532942913358, 20.88500634771595, 14.218527049915743, 14.218504757414806, 21.37210826099699, 12.848256860804801, 12.848265499078476, 12.848266070314478, 12.848268774370032, 12.84827673095625, 13.607288728100569, 16.658476030137525, 14.369093501900991, 1346.192828172217, 15.684800476790777, 1361.344693549268, 16.219850098818895, 16.4350457325686, 17.10051609427777, 76.3618648444508, 2242.284541753031, 2313.6091710025444, 37.72515290217431, 9742.406160226403, 1346.5790098684915, 1138.7113068702631, 540.1551035143525, 4407.173690733173, 318.78201219572094, 50.160536268040964, 236.81719436550856, 144.89796108837317, 143.50899608774753, 112.96626356282232, 288.8422762251653, 59.95765155266088, 59.842217532510006, 160.62094509562357, 63.09990918794966, 142.2199486877331, 1084.7912728263384, 134.77043295981733, 23.0698347655949, 146.83628618841962, 146.8364608245461, 22.6684729545205, 21.11221334076323, 450.29803189708326, 15.317655512571024, 20.70493483979182, 235.3770053382594, 665.3949203338614, 12.879800263936293, 238.5919260067989, 32.2340125764154, 10.838952359120137, 10.838957997754646, 258.2027534923834, 10.396364468454856, 95.39778369210833, 105.83655295649783, 248.49036769939244, 777.267514017274, 772.1962244596066, 744.3533995891007, 196.350823753923, 174.18509745393675, 9742.406160226403, 2302.3716184898653, 1346.5790098684915, 2242.284541753031, 269.93970374844844, 3033.9409710355594, 3900.7188997783132, 3379.543788332563, 1101.2054652595275, 335.44703253979884, 170.79347892818097, 88.25141015780001, 71.74483835471975, 220.39006881764973, 43.40109119466173, 42.44761054959211, 36.51524172326362, 22.787992854973155, 27.77110426532762, 174.18509745393675, 18.995004251594438, 304.1288138538687, 56.32826454144504, 29.34065211044176, 19.674202207900386, 23.00531122912711, 62.055693099474105, 22.865626280144173, 13.366449632790019, 22.70207257617676, 196.350823753923, 11.776731047158599, 11.489275998651255, 11.48928344322376, 43.163864244651606, 11.0594926048418, 76.3618648444508, 21.49532833947785, 10.563912213525056, 1101.2054652595275, 760.1964674347685, 802.6175336020482, 959.1803481485645, 1361.344693549268, 1346.192828172217, 3647.252751710478, 1853.4241107038924, 9742.406160226403, 842.3426937985737, 99.17211035789634, 258.2027534923834, 344.741684096798, 158.1870979008953, 3900.7188997783132, 3033.9409710355594], \"Category\": [\"Default\", \"Default\", \"Default\", \"Default\", \"Default\", \"Default\", \"Default\", \"Default\", \"Default\", \"Default\", \"Default\", \"Default\", \"Default\", \"Default\", \"Default\", \"Default\", \"Default\", \"Default\", \"Default\", \"Default\", \"Default\", \"Default\", \"Default\", \"Default\", \"Default\", \"Default\", \"Default\", \"Default\", \"Default\", \"Default\", \"Topic1\", \"Topic1\", \"Topic1\", \"Topic1\", \"Topic1\", \"Topic1\", \"Topic1\", \"Topic1\", \"Topic1\", \"Topic1\", \"Topic1\", \"Topic1\", \"Topic1\", \"Topic1\", \"Topic1\", \"Topic1\", \"Topic1\", \"Topic1\", \"Topic1\", \"Topic1\", \"Topic1\", \"Topic1\", \"Topic1\", \"Topic1\", \"Topic1\", \"Topic1\", \"Topic1\", \"Topic1\", \"Topic1\", \"Topic1\", \"Topic1\", \"Topic1\", \"Topic1\", \"Topic1\", \"Topic1\", \"Topic1\", \"Topic1\", \"Topic1\", \"Topic1\", \"Topic1\", \"Topic1\", \"Topic1\", \"Topic1\", \"Topic1\", \"Topic2\", \"Topic2\", \"Topic2\", \"Topic2\", \"Topic2\", \"Topic2\", \"Topic2\", \"Topic2\", \"Topic2\", \"Topic2\", \"Topic2\", \"Topic2\", \"Topic2\", \"Topic2\", \"Topic2\", \"Topic2\", \"Topic2\", \"Topic2\", \"Topic2\", \"Topic2\", \"Topic2\", \"Topic2\", \"Topic2\", \"Topic2\", \"Topic2\", \"Topic2\", \"Topic2\", \"Topic2\", \"Topic2\", \"Topic2\", \"Topic2\", \"Topic2\", \"Topic2\", \"Topic2\", \"Topic2\", \"Topic2\", \"Topic2\", \"Topic2\", \"Topic2\", \"Topic2\", \"Topic2\", \"Topic2\", \"Topic2\", \"Topic2\", \"Topic2\", \"Topic2\", \"Topic2\", \"Topic2\", \"Topic2\", \"Topic2\", \"Topic2\", \"Topic3\", \"Topic3\", \"Topic3\", \"Topic3\", \"Topic3\", \"Topic3\", \"Topic3\", \"Topic3\", \"Topic3\", \"Topic3\", \"Topic3\", \"Topic3\", \"Topic3\", \"Topic3\", \"Topic3\", \"Topic3\", \"Topic3\", \"Topic3\", \"Topic3\", \"Topic3\", \"Topic3\", \"Topic3\", \"Topic3\", \"Topic3\", \"Topic3\", \"Topic3\", \"Topic3\", \"Topic3\", \"Topic3\", \"Topic3\", \"Topic3\", \"Topic3\", \"Topic3\", \"Topic3\", \"Topic3\", \"Topic3\", \"Topic3\", \"Topic3\", \"Topic3\", \"Topic3\", \"Topic3\", \"Topic3\", \"Topic3\", \"Topic3\", \"Topic3\", \"Topic3\", \"Topic3\", \"Topic3\", \"Topic3\", \"Topic3\", \"Topic4\", \"Topic4\", \"Topic4\", \"Topic4\", \"Topic4\", \"Topic4\", \"Topic4\", \"Topic4\", \"Topic4\", \"Topic4\", \"Topic4\", \"Topic4\", \"Topic4\", \"Topic4\", \"Topic4\", \"Topic4\", \"Topic4\", \"Topic4\", \"Topic4\", \"Topic4\", \"Topic4\", \"Topic4\", \"Topic4\", \"Topic4\", \"Topic4\", \"Topic4\", \"Topic4\", \"Topic4\", \"Topic4\", \"Topic4\", \"Topic4\", \"Topic4\", \"Topic4\", \"Topic4\", \"Topic4\", \"Topic4\", \"Topic4\", \"Topic4\", \"Topic4\", \"Topic4\", \"Topic4\", \"Topic4\", \"Topic4\", \"Topic5\", \"Topic5\", \"Topic5\", \"Topic5\", \"Topic5\", \"Topic5\", \"Topic5\", \"Topic5\", \"Topic5\", \"Topic5\", \"Topic5\", \"Topic5\", \"Topic5\", \"Topic5\", \"Topic5\", \"Topic5\", \"Topic5\", \"Topic5\", \"Topic5\", \"Topic5\", \"Topic5\", \"Topic5\", \"Topic5\", \"Topic5\", \"Topic5\", \"Topic5\", \"Topic5\", \"Topic5\", \"Topic5\", \"Topic5\", \"Topic5\", \"Topic5\", \"Topic5\", \"Topic5\", \"Topic5\", \"Topic5\", \"Topic5\", \"Topic5\", \"Topic5\", \"Topic5\", \"Topic5\", \"Topic5\", \"Topic5\", \"Topic5\", \"Topic5\", \"Topic5\", \"Topic5\", \"Topic5\", \"Topic5\", \"Topic5\", \"Topic6\", \"Topic6\", \"Topic6\", \"Topic6\", \"Topic6\", \"Topic6\", \"Topic6\", \"Topic6\", \"Topic6\", \"Topic6\", \"Topic6\", \"Topic6\", \"Topic6\", \"Topic6\", \"Topic6\", \"Topic6\", \"Topic6\", \"Topic6\", \"Topic6\", \"Topic6\", \"Topic6\", \"Topic6\", \"Topic6\", \"Topic6\", \"Topic6\", \"Topic6\", \"Topic6\", \"Topic6\", \"Topic6\", \"Topic6\", \"Topic6\", \"Topic6\", \"Topic6\", \"Topic6\", \"Topic6\", \"Topic6\", \"Topic6\", \"Topic6\", \"Topic6\", \"Topic6\", \"Topic6\", \"Topic7\", \"Topic7\", \"Topic7\", \"Topic7\", \"Topic7\", \"Topic7\", \"Topic7\", \"Topic7\", \"Topic7\", \"Topic7\", \"Topic7\", \"Topic7\", \"Topic7\", \"Topic7\", \"Topic7\", \"Topic7\", \"Topic7\", \"Topic7\", \"Topic7\", \"Topic7\", \"Topic7\", \"Topic7\", \"Topic7\", \"Topic7\", \"Topic7\", \"Topic7\", \"Topic7\", \"Topic7\", \"Topic7\", \"Topic7\", \"Topic7\", \"Topic7\", \"Topic7\", \"Topic7\", \"Topic7\", \"Topic7\", \"Topic7\", \"Topic7\", \"Topic7\", \"Topic7\", \"Topic7\", \"Topic7\", \"Topic7\", \"Topic7\", \"Topic7\", \"Topic7\", \"Topic8\", \"Topic8\", \"Topic8\", \"Topic8\", \"Topic8\", \"Topic8\", \"Topic8\", \"Topic8\", \"Topic8\", \"Topic8\", \"Topic8\", \"Topic8\", \"Topic8\", \"Topic8\", \"Topic8\", \"Topic8\", \"Topic8\", \"Topic8\", \"Topic8\", \"Topic8\", \"Topic8\", \"Topic8\", \"Topic8\", \"Topic8\", \"Topic8\", \"Topic8\", \"Topic8\", \"Topic8\", \"Topic8\", \"Topic8\", \"Topic8\", \"Topic8\", \"Topic8\", \"Topic8\", \"Topic8\", \"Topic8\", \"Topic8\", \"Topic8\", \"Topic8\", \"Topic8\", \"Topic8\", \"Topic8\", \"Topic8\", \"Topic8\", \"Topic8\", \"Topic8\"], \"logprob\": [30.0, 29.0, 28.0, 27.0, 26.0, 25.0, 24.0, 23.0, 22.0, 21.0, 20.0, 19.0, 18.0, 17.0, 16.0, 15.0, 14.0, 13.0, 12.0, 11.0, 10.0, 9.0, 8.0, 7.0, 6.0, 5.0, 4.0, 3.0, 2.0, 1.0, -4.7895, -3.3529, -3.4094, -3.4081, -5.6277, -6.1613, -3.4268, -3.9207, -6.5476, -2.8463, -6.1382, -3.3379, -6.7385, -6.7692, -3.3511, -4.6732, -4.6699, -4.7427, -5.0606, -4.7652, -2.7116, -2.8866, -4.7649, -7.4535, -6.9706, -6.3538, -4.6414, -6.4526, -7.8754, -3.9033, -3.4618, -3.3662, -3.3066, -3.3038, -3.3328, -3.3768, -3.3747, -3.3607, -2.6829, -3.3341, -3.8401, -4.2355, -4.6718, -4.7045, -3.0426, -2.9674, -5.6095, -6.3425, -6.3426, -5.8155, -6.3496, -6.7822, -6.7773, -6.3337, -6.3355, -6.5847, -7.0004, -6.9936, -6.1193, -6.0662, -7.318, -6.3781, -7.4998, -6.599, -7.5231, -6.8034, -5.4795, -2.9109, -6.7321, -2.9877, -8.0195, -2.8952, -6.3227, -8.5532, -2.9654, -2.9503, -2.9493, -2.9488, -2.9711, -2.9818, -2.9931, -2.2525, -2.9741, -3.8771, -3.9086, -3.9042, -3.8835, -3.8564, -3.9683, -4.5668, -5.7192, -5.843, -5.8621, -5.8914, -5.7779, -4.6171, -4.5868, -4.5929, -4.5986, -5.917, -6.3376, -6.2384, -4.2856, -6.3677, -4.522, -6.3616, -3.1404, -3.886, -4.7463, -6.4083, -7.4809, -7.2585, -6.9573, -7.7843, -5.1748, -7.5361, -5.6941, -7.8144, -8.0171, -6.0347, -8.1211, -7.1689, -6.9608, -5.1915, -3.1317, -3.7605, -2.8927, -3.1619, -3.4174, -4.726, -3.8751, -3.1058, -2.2634, -3.0703, -3.0647, -3.0849, -3.1027, -3.1103, -3.0865, -3.0801, -4.9389, -3.6405, -4.9395, -4.9365, -4.9419, -4.3059, -4.1895, -4.5279, -4.2591, -4.3883, -5.5153, -6.0044, -4.353, -4.0197, -5.695, -4.7664, -2.9218, -3.5811, -3.5782, -3.5678, -5.6968, -7.117, -4.1771, -6.0106, -6.2536, -3.4279, -3.6465, -3.5406, -5.6374, -5.6354, -7.8288, -2.1468, -5.6472, -3.5682, -8.2343, -2.9036, -4.33, -3.0122, -3.5228, -3.5387, -4.6687, -3.4116, -4.783, -3.3468, -3.2051, -4.2969, -4.9131, -4.8189, -2.8841, -2.8461, -3.4071, -5.9064, -2.7677, -6.333, -6.333, -5.5324, -6.4172, -6.5564, -6.6261, -5.4199, -6.3865, -6.8507, -6.3867, -6.6364, -3.4487, -6.8895, -6.9745, -6.9567, -6.9882, -3.5576, -3.5675, -3.5793, -7.0304, -7.0166, -6.8672, -7.1018, -7.0299, -3.5236, -2.8199, -3.6888, -3.829, -3.8379, -3.5392, -3.3679, -3.4901, -3.5555, -6.1836, -3.487, -3.5258, -3.546, -5.2576, -3.6274, -3.8118, -3.4684, -5.3262, -5.2396, -6.0418, -5.5904, -2.5626, -2.565, -2.5566, -5.4546, -2.5678, -2.5437, -2.5466, -6.4625, -6.4625, -6.6767, -6.6767, -6.3598, -6.467, -6.8585, -6.8585, -6.4613, -7.0264, -7.0264, -7.0264, -7.0264, -7.0265, -7.0267, -6.8688, -7.0261, -2.5693, -7.0264, -2.5683, -7.0074, -7.0265, -7.0268, -5.5638, -2.5552, -2.5585, -6.3461, -2.5503, -5.8594, -6.2731, -6.5578, -6.6337, -6.8533, -6.9788, -3.3949, -3.8972, -3.9069, -4.1556, -3.2546, -4.8435, -4.8624, -3.8883, -4.8292, -4.0575, -2.0335, -4.1311, -6.0403, -4.2005, -4.2005, -6.0689, -6.1748, -3.1602, -6.6336, -6.3998, -3.9711, -3.0232, -7.0215, -4.1167, -6.1664, -7.2787, -7.2787, -4.1294, -7.3736, -5.1713, -5.3549, -4.6581, -3.7575, -3.7994, -3.8792, -4.9643, -5.0782, -2.8262, -3.7117, -4.0525, -3.9848, -4.9425, -4.3562, -4.3522, -4.5616, -4.8198, -2.746, -3.4462, -4.1271, -4.3482, -3.2383, -4.9184, -5.0044, -5.1685, -5.7106, -5.5164, -3.7337, -5.9988, -3.2385, -4.952, -5.6258, -6.0443, -5.9504, -4.9764, -5.978, -6.5676, -6.0507, -3.9251, -6.7932, -6.8308, -6.8308, -5.5362, -6.9101, -4.9933, -6.3158, -7.0582, -2.7671, -3.1189, -3.1254, -3.0102, -3.1135, -3.1762, -2.4957, -3.4067, -3.022, -4.3711, -5.3259, -4.9498, -5.0441, -5.2757, -5.0595, -5.2141], \"loglift\": [30.0, 29.0, 28.0, 27.0, 26.0, 25.0, 24.0, 23.0, 22.0, 21.0, 20.0, 19.0, 18.0, 17.0, 16.0, 15.0, 14.0, 13.0, 12.0, 11.0, 10.0, 9.0, 8.0, 7.0, 6.0, 5.0, 4.0, 3.0, 2.0, 1.0, 1.2421, 1.2372, 1.2344, 1.2334, 1.1909, 1.1674, 1.1621, 1.1502, 1.1479, 1.1478, 1.1433, 1.1313, 1.1285, 1.1219, 1.1039, 1.0548, 1.0543, 1.0414, 1.0195, 1.0157, 1.0066, 0.9974, 0.9711, 0.9664, 0.9398, 0.9303, 0.9271, 0.9069, 0.8757, 0.8284, 0.7492, 0.6125, 0.1717, 0.1645, 0.1435, 0.1218, 0.1201, 0.1062, -0.1313, 0.0107, -0.2298, -0.7014, -0.2482, -0.7153, 1.4992, 1.4861, 1.4592, 1.4154, 1.4153, 1.4045, 1.3957, 1.3623, 1.3592, 1.3526, 1.3438, 1.3328, 1.322, 1.3206, 1.3189, 1.2422, 1.2224, 1.192, 1.1867, 1.181, 1.1798, 1.1384, 1.1213, 1.1096, 1.1002, 1.0015, 0.9793, 0.8667, 0.8551, 0.7687, 0.645, 0.5483, 0.5454, 0.5274, 0.4972, 0.4851, 0.4852, 0.2991, 0.3708, 0.334, 0.2092, 0.1674, 0.0004, -0.1382, -0.4342, -0.0363, 0.4628, 0.4758, 0.2756, 0.0799, -1.189, 1.5803, 1.5798, 1.5797, 1.5797, 1.5163, 1.4775, 1.4687, 1.4619, 1.3475, 1.3289, 1.3011, 1.2832, 1.2761, 1.225, 1.2133, 1.2062, 1.1989, 1.1827, 1.1574, 1.144, 1.1433, 1.125, 1.1032, 1.0398, 1.0392, 1.023, 1.0111, 1.0068, 0.9461, 0.9399, 0.9377, 0.8692, 0.8168, 0.7004, 0.807, 0.6554, 0.4283, 0.2882, 0.408, 0.4036, 0.3913, 0.392, 0.3884, 0.3804, 0.2648, 0.7177, -0.0302, 0.7097, 0.706, 0.6376, 2.5531, 2.5484, 2.5029, 2.4779, 2.4259, 2.3994, 2.3668, 2.3191, 2.2007, 2.1731, 2.1166, 2.0778, 2.0259, 2.0233, 1.9413, 1.9022, 1.8701, 1.8048, 1.758, 1.7174, 1.62, 1.5889, 1.5617, 1.5016, 1.4177, 1.3878, 1.3873, 1.3791, 1.3015, 1.2925, 1.2141, 1.2385, 1.0594, 1.008, 0.9809, 1.0673, 0.1987, 0.9979, -0.0019, -0.6535, 0.2335, 0.8711, -0.8247, 2.6155, 2.5979, 2.4859, 2.4124, 2.3494, 2.3152, 2.3151, 2.2882, 2.2881, 2.2399, 2.2269, 2.2262, 2.2045, 2.1399, 2.1393, 2.1383, 2.1308, 2.1116, 2.097, 2.096, 2.0883, 2.0849, 2.0817, 2.0773, 2.0752, 2.0689, 2.0651, 2.0422, 2.0151, 2.0094, 1.8783, 1.8204, 1.7725, 1.7691, 1.563, 1.5019, 1.5095, 1.4925, 1.9219, 1.0435, 0.9938, 0.9848, 1.5614, -0.2826, -0.2015, -0.9168, 0.6921, 0.5078, 1.5659, -0.4283, 2.7622, 2.7523, 2.6422, 2.6068, 2.5556, 2.5429, 2.5335, 2.3779, 2.3778, 2.3022, 2.3022, 2.2842, 2.2298, 2.2228, 2.2228, 2.2124, 2.1562, 2.1562, 2.1562, 2.1562, 2.1561, 2.0986, 2.0541, 2.0446, 1.9615, 1.9567, 1.9513, 1.9422, 1.9099, 1.8699, 1.8366, 1.4654, 1.4308, 1.7594, 0.0012, -1.3289, -1.5749, -1.1138, -3.2889, -0.882, 0.8418, 2.8736, 2.8626, 2.8625, 2.8532, 2.8153, 2.7987, 2.7817, 2.7685, 2.762, 2.721, 2.7131, 2.7012, 2.5569, 2.546, 2.546, 2.5459, 2.5112, 2.4657, 2.3732, 2.3057, 2.3035, 2.2122, 2.1587, 2.1444, 2.0964, 2.074, 2.074, 2.0527, 2.0207, 2.0065, 1.7191, 1.5623, 1.3226, 1.2872, 1.2441, 1.4916, 1.4975, -0.2746, 0.2824, 0.478, 0.0357, 1.1951, -0.638, -0.8853, -0.9513, -0.0881, 3.1744, 3.1491, 3.1286, 3.1145, 3.1022, 3.047, 2.9831, 2.9696, 2.899, 2.8954, 2.842, 2.7928, 2.7799, 2.7526, 2.7311, 2.7122, 2.6497, 2.6314, 2.6282, 2.5755, 2.5627, 2.5308, 2.4765, 2.4636, 2.4636, 2.4346, 2.4225, 2.407, 2.3522, 2.3202, 1.9646, 1.9833, 1.9226, 1.8596, 1.4061, 1.3546, 1.0384, 0.8043, -0.4704, 0.6285, 1.813, 1.2322, 0.8489, 1.3964, -1.5926, -1.4959]}, \"token.table\": {\"Topic\": [1, 2, 3, 4, 5, 6, 7, 8, 1, 2, 3, 4, 5, 6, 7, 8, 1, 2, 3, 4, 5, 6, 7, 8, 1, 2, 3, 4, 5, 6, 7, 8, 1, 2, 3, 4, 5, 6, 7, 8, 1, 2, 3, 4, 5, 6, 7, 8, 1, 2, 3, 4, 5, 6, 7, 8, 1, 2, 3, 4, 5, 6, 7, 8, 1, 2, 3, 4, 5, 6, 7, 8, 1, 2, 3, 4, 5, 6, 7, 8, 1, 2, 3, 4, 5, 6, 7, 8, 1, 2, 3, 4, 5, 6, 7, 8, 1, 2, 3, 4, 5, 6, 7, 8, 1, 2, 3, 4, 5, 6, 7, 8, 1, 2, 3, 4, 5, 6, 7, 8, 1, 2, 3, 4, 5, 6, 7, 8, 1, 2, 3, 4, 5, 6, 7, 8, 1, 2, 3, 4, 5, 6, 7, 8, 1, 2, 3, 4, 5, 6, 7, 8, 1, 2, 3, 4, 5, 6, 7, 8, 1, 2, 3, 4, 5, 6, 7, 8, 1, 2, 3, 4, 5, 6, 7, 8, 1, 2, 3, 4, 5, 6, 7, 8, 1, 2, 3, 4, 5, 6, 7, 8, 1, 2, 3, 4, 5, 6, 7, 8, 1, 2, 3, 4, 5, 6, 7, 8, 1, 2, 3, 4, 5, 6, 7, 8, 1, 2, 3, 4, 5, 6, 7, 8, 1, 2, 3, 4, 5, 6, 7, 8, 1, 2, 3, 4, 5, 6, 7, 8, 1, 2, 3, 4, 5, 6, 7, 8, 1, 2, 3, 4, 5, 6, 7, 8, 1, 2, 3, 4, 5, 6, 7, 8, 1, 2, 3, 4, 5, 6, 7, 8, 1, 2, 3, 4, 5, 6, 7, 8, 1, 2, 3, 4, 5, 6, 7, 8, 1, 2, 3, 4, 5, 6, 7, 8, 1, 2, 3, 4, 5, 6, 7, 8, 1, 2, 3, 4, 5, 6, 7, 8, 1, 2, 3, 4, 5, 6, 7, 8, 1, 2, 3, 4, 5, 6, 7, 8, 1, 2, 3, 4, 5, 6, 7, 8, 1, 2, 3, 4, 5, 6, 7, 8, 1, 2, 3, 4, 5, 6, 7, 8, 1, 2, 3, 4, 5, 6, 7, 8, 1, 2, 3, 4, 5, 6, 7, 8, 1, 2, 3, 4, 5, 6, 7, 8, 1, 2, 3, 4, 5, 6, 7, 8, 1, 2, 3, 4, 5, 6, 7, 8, 1, 2, 3, 4, 5, 6, 7, 8, 1, 2, 3, 4, 5, 6, 7, 8, 1, 2, 3, 4, 5, 6, 7, 8, 1, 2, 3, 4, 5, 6, 7, 8, 1, 2, 3, 4, 5, 6, 7, 8, 1, 2, 3, 4, 5, 6, 7, 8, 1, 2, 3, 4, 5, 6, 7, 8, 1, 2, 3, 4, 5, 6, 7, 8, 1, 2, 3, 4, 5, 6, 7, 8, 1, 2, 3, 4, 5, 6, 7, 8, 1, 2, 3, 4, 5, 6, 7, 8, 1, 2, 3, 4, 5, 6, 7, 8, 1, 2, 3, 4, 5, 6, 7, 8, 1, 2, 3, 4, 5, 6, 7, 8, 1, 2, 3, 4, 5, 6, 7, 8, 1, 2, 3, 4, 5, 6, 7, 8, 1, 2, 3, 4, 5, 6, 7, 8, 1, 2, 3, 4, 5, 6, 7, 8, 1, 2, 3, 4, 5, 6, 7, 8, 1, 2, 3, 4, 5, 6, 7, 8, 1, 2, 3, 4, 5, 6, 7, 8, 1, 2, 3, 4, 5, 6, 7, 8, 1, 2, 3, 4, 5, 6, 7, 8, 1, 2, 3, 4, 5, 6, 7, 8, 1, 2, 3, 4, 5, 6, 7, 8, 1, 2, 3, 4, 5, 6, 7, 8, 1, 2, 3, 4, 5, 6, 7, 8, 1, 2, 3, 4, 5, 6, 7, 8, 1, 2, 3, 4, 5, 6, 7, 8, 1, 2, 3, 4, 5, 6, 7, 8, 1, 2, 3, 4, 5, 6, 7, 8, 1, 2, 3, 4, 5, 6, 7, 8, 1, 2, 3, 4, 5, 6, 7, 8, 1, 2, 3, 4, 5, 6, 7, 8, 1, 2, 3, 4, 5, 6, 7, 8, 1, 2, 3, 4, 5, 6, 7, 8, 1, 2, 3, 4, 5, 6, 7, 8, 1, 2, 3, 4, 5, 6, 7, 8, 1, 2, 3, 4, 5, 6, 7, 8, 1, 2, 3, 4, 5, 6, 7, 8, 1, 2, 3, 4, 5, 6, 7, 8, 1, 2, 3, 4, 5, 6, 7, 8, 1, 2, 3, 4, 5, 6, 7, 8, 1, 2, 3, 4, 5, 6, 7, 8, 1, 2, 3, 4, 5, 6, 7, 8, 1, 2, 3, 4, 5, 6, 7, 8, 1, 2, 3, 4, 5, 6, 7, 8, 1, 2, 3, 4, 5, 6, 7, 8, 1, 2, 3, 4, 5, 6, 7, 8, 1, 2, 3, 4, 5, 6, 7, 8, 1, 2, 3, 4, 5, 6, 7, 8, 1, 2, 3, 4, 5, 6, 7, 8, 1, 2, 3, 4, 5, 6, 7, 8, 1, 2, 3, 4, 5, 6, 7, 8, 1, 2, 3, 4, 5, 6, 7, 8, 1, 2, 3, 4, 5, 6, 7, 8, 1, 2, 3, 4, 5, 6, 7, 8, 1, 2, 3, 4, 5, 6, 7, 8, 1, 2, 3, 4, 5, 6, 7, 8, 1, 2, 3, 4, 5, 6, 7, 8, 1, 2, 3, 4, 5, 6, 7, 8, 1, 2, 3, 4, 5, 6, 7, 8, 1, 2, 3, 4, 5, 6, 7, 8, 1, 2, 3, 4, 5, 6, 7, 8, 1, 2, 3, 4, 5, 6, 7, 8, 1, 2, 3, 4, 5, 6, 7, 8, 1, 2, 3, 4, 5, 6, 7, 8, 1, 2, 3, 4, 5, 6, 7, 8, 1, 2, 3, 4, 5, 6, 7, 8, 1, 2, 3, 4, 5, 6, 7, 8, 1, 2, 3, 4, 5, 6, 7, 8, 1, 2, 3, 4, 5, 6, 7, 8, 1, 2, 3, 4, 5, 6, 7, 8, 1, 2, 3, 4, 5, 6, 7, 8, 1, 2, 3, 4, 5, 6, 7, 8, 1, 2, 3, 4, 5, 6, 7, 8, 1, 2, 3, 4, 5, 6, 7, 8, 1, 2, 3, 4, 5, 6, 7, 8, 1, 2, 3, 4, 5, 6, 7, 8, 1, 2, 3, 4, 5, 6, 7, 8, 1, 2, 3, 4, 5, 6, 7, 8, 1, 2, 3, 4, 5, 6, 7, 8, 1, 2, 3, 4, 5, 6, 7, 8, 1, 2, 3, 4, 5, 6, 7, 8, 1, 2, 3, 4, 5, 6, 7, 8, 1, 2, 3, 4, 5, 6, 7, 8, 1, 2, 3, 4, 5, 6, 7, 8, 1, 2, 3, 4, 5, 6, 7, 8, 1, 2, 3, 4, 5, 6, 7, 8, 1, 2, 3, 4, 5, 6, 7, 8, 1, 2, 3, 4, 5, 6, 7, 8, 1, 2, 3, 4, 5, 6, 7, 8, 1, 2, 3, 4, 5, 6, 7, 8, 1, 2, 3, 4, 5, 6, 7, 8, 1, 2, 3, 4, 5, 6, 7, 8, 1, 2, 3, 4, 5, 6, 7, 8, 1, 2, 3, 4, 5, 6, 7, 8, 1, 2, 3, 4, 5, 6, 7, 8, 1, 2, 3, 4, 5, 6, 7, 8, 1, 2, 3, 4, 5, 6, 7, 8, 1, 2, 3, 4, 5, 6, 7, 8, 1, 2, 3, 4, 5, 6, 7, 8, 1, 2, 3, 4, 5, 6, 7, 8, 1, 2, 3, 4, 5, 6, 7, 8, 1, 2, 3, 4, 5, 6, 7, 8, 1, 2, 3, 4, 5, 6, 7, 8, 1, 2, 3, 4, 5, 6, 7, 8, 1, 2, 3, 4, 5, 6, 7, 8, 1, 2, 3, 4, 5, 6, 7, 8, 1, 2, 3, 4, 5, 6, 7, 8, 1, 2, 3, 4, 5, 6, 7, 8, 1, 2, 3, 4, 5, 6, 7, 8, 1, 2, 3, 4, 5, 6, 7, 8, 1, 2, 3, 4, 5, 6, 7, 8, 1, 2, 3, 4, 5, 6, 7, 8, 1, 2, 3, 4, 5, 6, 7, 8, 1, 2, 3, 4, 5, 6, 7, 8, 1, 2, 3, 4, 5, 6, 7, 8, 1, 2, 3, 4, 5, 6, 7, 8, 1, 2, 3, 4, 5, 6, 7, 8, 1, 2, 3, 4, 5, 6, 7, 8, 1, 2, 3, 4, 5, 6, 7, 8, 1, 2, 3, 4, 5, 6, 7, 8, 1, 2, 3, 4, 5, 6, 7, 8, 1, 2, 3, 4, 5, 6, 7, 8, 1, 2, 3, 4, 5, 6, 7, 8, 1, 2, 3, 4, 5, 6, 7, 8, 1, 2, 3, 4, 5, 6, 7, 8, 1, 2, 3, 4, 5, 6, 7, 8, 1, 2, 3, 4, 5, 6, 7, 8, 1, 2, 3, 4, 5, 6, 7, 8, 1, 2, 3, 4, 5, 6, 7, 8, 1, 2, 3, 4, 5, 6, 7, 8, 1, 2, 3, 4, 5, 6, 7, 8, 1, 2, 3, 4, 5, 6, 7, 8, 1, 2, 3, 4, 5, 6, 7, 8, 1, 2, 3, 4, 5, 6, 7, 8, 1, 2, 3, 4, 5, 6, 7, 8, 1, 2, 3, 4, 5, 6, 7, 8, 1, 2, 3, 4, 5, 6, 7, 8, 1, 2, 3, 4, 5, 6, 7, 8, 1, 2, 3, 4, 5, 6, 7, 8, 1, 2, 3, 4, 5, 6, 7, 8, 1, 2, 3, 4, 5, 6, 7, 8, 1, 2, 3, 4, 5, 6, 7, 8, 1, 2, 3, 4, 5, 6, 7, 8, 1, 2, 3, 4, 5, 6, 7, 8, 1, 2, 3, 4, 5, 6, 7, 8, 1, 2, 3, 4, 5, 6, 7, 8, 1, 2, 3, 4, 5, 6, 7, 8, 1, 2, 3, 4, 5, 6, 7, 8, 1, 2, 3, 4, 5, 6, 7, 8, 1, 2, 3, 4, 5, 6, 7, 8, 1, 2, 3, 4, 5, 6, 7, 8, 1, 2, 3, 4, 5, 6, 7, 8, 1, 2, 3, 4, 5, 6, 7, 8, 1, 2, 3, 4, 5, 6, 7, 8, 1, 2, 3, 4, 5, 6, 7, 8, 1, 2, 3, 4, 5, 6, 7, 8, 1, 2, 3, 4, 5, 6, 7, 8, 1, 2, 3, 4, 5, 6, 7, 8, 1, 2, 3, 4, 5, 6, 7, 8, 1, 2, 3, 4, 5, 6, 7, 8, 1, 2, 3, 4, 5, 6, 7, 8, 1, 2, 3, 4, 5, 6, 7, 8, 1, 2, 3, 4, 5, 6, 7, 8, 1, 2, 3, 4, 5, 6, 7, 8, 1, 2, 3, 4, 5, 6, 7, 8, 1, 2, 3, 4, 5, 6, 7, 8, 1, 2, 3, 4, 5, 6, 7, 8, 1, 2, 3, 4, 5, 6, 7, 8, 1, 2, 3, 4, 5, 6, 7, 8, 1, 2, 3, 4, 5, 6, 7, 8, 1, 2, 3, 4, 5, 6, 7, 8, 1, 2, 3, 4, 5, 6, 7, 8, 1, 2, 3, 4, 5, 6, 7, 8, 1, 2, 3, 4, 5, 6, 7, 8, 1, 2, 3, 4, 5, 6, 7, 8, 1, 2, 3, 4, 5, 6, 7, 8, 1, 2, 3, 4, 5, 6, 7, 8, 1, 2, 3, 4, 5, 6, 7, 8, 1, 2, 3, 4, 5, 6, 7, 8, 1, 2, 3, 4, 5, 6, 7, 8, 1, 2, 3, 4, 5, 6, 7, 8, 1, 2, 3, 4, 5, 6, 7, 8, 1, 2, 3, 4, 5, 6, 7, 8, 1, 2, 3, 4, 5, 6, 7, 8, 1, 2, 3, 4, 5, 6, 7, 8, 1, 2, 3, 4, 5, 6, 7, 8, 1, 2, 3, 4, 5, 6, 7, 8, 1, 2, 3, 4, 5, 6, 7, 8, 1, 2, 3, 4, 5, 6, 7, 8, 1, 2, 3, 4, 5, 6, 7, 8, 1, 2, 3, 4, 5, 6, 7, 8, 1, 2, 3, 4, 5, 6, 7, 8, 1, 2, 3, 4, 5, 6, 7, 8, 1, 2, 3, 4, 5, 6, 7, 8, 1, 2, 3, 4, 5, 6, 7, 8, 1, 2, 3, 4, 5, 6, 7, 8, 1, 2, 3, 4, 5, 6, 7, 8, 1, 2, 3, 4, 5, 6, 7, 8, 1, 2, 3, 4, 5, 6, 7, 8, 1, 2, 3, 4, 5, 6, 7, 8, 1, 2, 3, 4, 5, 6, 7, 8], \"Freq\": [0.01794291219573782, 0.01794291219573782, 0.7715452244167262, 0.01794291219573782, 0.14354329756590256, 0.01794291219573782, 0.01794291219573782, 0.01794291219573782, 0.39744527412493635, 0.01892596543452078, 0.07570386173808312, 0.4352972049939779, 0.01892596543452078, 0.01892596543452078, 0.01892596543452078, 0.03785193086904156, 0.002630898834282754, 0.001315449417141377, 0.001315449417141377, 0.35254044379388905, 0.3433322978738994, 0.002630898834282754, 0.001315449417141377, 0.29466066943966845, 0.0640049515484036, 0.0640049515484036, 0.0640049515484036, 0.44803466083882526, 0.0640049515484036, 0.0640049515484036, 0.0640049515484036, 0.1280099030968072, 0.04307499760354126, 0.04307499760354126, 0.04307499760354126, 0.04307499760354126, 0.6461249640531189, 0.04307499760354126, 0.04307499760354126, 0.1292249928106238, 0.06999601805212821, 0.06999601805212821, 0.06999601805212821, 0.06999601805212821, 0.5599681444170257, 0.06999601805212821, 0.06999601805212821, 0.06999601805212821, 0.01584788334673186, 0.01584788334673186, 0.01584788334673186, 0.01584788334673186, 0.047543650040195576, 0.01584788334673186, 0.8557857007235203, 0.01584788334673186, 0.004024300858251919, 0.024145805149511517, 0.012072902574755759, 0.6680339424698186, 0.008048601716503838, 0.004024300858251919, 0.2575552549281228, 0.020121504291259598, 0.3355376015319401, 0.34798412770932274, 0.3013096545441379, 0.003889539430432073, 0.000518605257390943, 0.0007779078860864145, 0.009075592004341503, 0.001037210514781886, 0.7040249936036439, 0.18857812328669032, 0.012571874885779355, 0.012571874885779355, 0.02514374977155871, 0.012571874885779355, 0.03771562465733806, 0.012571874885779355, 0.018725212051519415, 0.8800849664214125, 0.018725212051519415, 0.018725212051519415, 0.018725212051519415, 0.018725212051519415, 0.018725212051519415, 0.018725212051519415, 0.1484005026975251, 0.007420025134876256, 0.007420025134876256, 0.007420025134876256, 0.007420025134876256, 0.007420025134876256, 0.8087827397015119, 0.007420025134876256, 0.016337183226833273, 0.13069746581466618, 0.6698245123001642, 0.016337183226833273, 0.1143602825878329, 0.016337183226833273, 0.016337183226833273, 0.016337183226833273, 0.007287496730565304, 0.007287496730565304, 0.007287496730565304, 0.8380621240150099, 0.029149986922261215, 0.007287496730565304, 0.007287496730565304, 0.10202495422791424, 0.03266078069043236, 0.816519517260809, 0.03266078069043236, 0.03266078069043236, 0.03266078069043236, 0.03266078069043236, 0.03266078069043236, 0.03266078069043236, 0.0029713425270813314, 0.0007428356317703328, 0.0007428356317703328, 0.20279412747330086, 0.1923944286285162, 0.44198720090334803, 0.0007428356317703328, 0.15673831830354024, 0.23422967243299891, 0.009008833555115343, 0.3963886764250751, 0.2972915073188063, 0.027026500665346027, 0.009008833555115343, 0.009008833555115343, 0.027026500665346027, 0.021903721176314797, 0.021903721176314797, 0.021903721176314797, 0.8104376835236474, 0.021903721176314797, 0.043807442352629594, 0.021903721176314797, 0.021903721176314797, 0.003262078390815956, 0.001631039195407978, 0.001631039195407978, 0.001631039195407978, 0.0146793527586718, 0.9753614388539708, 0.001631039195407978, 0.001631039195407978, 0.002670492022294086, 0.001335246011147043, 0.23633854397302662, 0.001335246011147043, 0.7530787502869323, 0.004005738033441129, 0.001335246011147043, 0.001335246011147043, 0.07783149757847678, 0.07783149757847678, 0.07783149757847678, 0.07783149757847678, 0.07783149757847678, 0.5448204830493375, 0.07783149757847678, 0.07783149757847678, 0.002023698446696892, 0.002023698446696892, 0.4492610551667101, 0.002023698446696892, 0.5362800883746764, 0.004047396893393784, 0.002023698446696892, 0.002023698446696892, 0.09473189606977028, 0.04736594803488514, 0.04736594803488514, 0.04736594803488514, 0.04736594803488514, 0.04736594803488514, 0.663123272488392, 0.04736594803488514, 0.047391783532285486, 0.7108767529842823, 0.047391783532285486, 0.047391783532285486, 0.047391783532285486, 0.047391783532285486, 0.047391783532285486, 0.047391783532285486, 0.07783151395895117, 0.07783151395895117, 0.07783151395895117, 0.07783151395895117, 0.07783151395895117, 0.5448205977126582, 0.07783151395895117, 0.07783151395895117, 0.04542041213268678, 0.04542041213268678, 0.04542041213268678, 0.04542041213268678, 0.13626123639806034, 0.5904653577249281, 0.04542041213268678, 0.04542041213268678, 0.007323043037068691, 0.007323043037068691, 0.6151356151137701, 0.007323043037068691, 0.3441830227422285, 0.007323043037068691, 0.007323043037068691, 0.007323043037068691, 0.06834879087094087, 0.06834879087094087, 0.06834879087094087, 0.06834879087094087, 0.6151391178384678, 0.06834879087094087, 0.06834879087094087, 0.06834879087094087, 0.017431074163231884, 0.8366915598351305, 0.017431074163231884, 0.017431074163231884, 0.03486214832646377, 0.017431074163231884, 0.05229322248969566, 0.017431074163231884, 0.285670610769723, 0.310403014720398, 0.2611651096075863, 0.07374340627494835, 0.05422976646065433, 0.0022690278853830263, 0.008168500387378895, 0.004538055770766053, 0.0478812399360062, 0.0478812399360062, 0.0478812399360062, 0.0478812399360062, 0.1436437198080186, 0.5745748792320744, 0.0478812399360062, 0.0478812399360062, 0.08822826328057375, 0.04411413164028687, 0.04411413164028687, 0.04411413164028687, 0.04411413164028687, 0.04411413164028687, 0.70582610624459, 0.04411413164028687, 0.883696641788237, 0.011627587391950488, 0.011627587391950488, 0.011627587391950488, 0.04651034956780195, 0.011627587391950488, 0.011627587391950488, 0.011627587391950488, 0.04652173645393552, 0.04652173645393552, 0.2326086822696776, 0.04652173645393552, 0.04652173645393552, 0.09304347290787104, 0.04652173645393552, 0.41869562808541966, 0.02756003523686738, 0.8268010571060214, 0.02756003523686738, 0.02756003523686738, 0.02756003523686738, 0.02756003523686738, 0.02756003523686738, 0.02756003523686738, 0.06117184842296819, 0.06117184842296819, 0.6117184842296819, 0.06117184842296819, 0.06117184842296819, 0.06117184842296819, 0.06117184842296819, 0.06117184842296819, 0.01982685585971656, 0.01982685585971656, 0.8723816578275286, 0.01982685585971656, 0.01982685585971656, 0.01982685585971656, 0.01982685585971656, 0.01982685585971656, 0.02389143683132478, 0.7406345417710681, 0.02389143683132478, 0.02389143683132478, 0.01194571841566239, 0.01194571841566239, 0.15529433940361104, 0.01194571841566239, 0.09311087214827729, 0.6983315411120797, 0.01551847869137955, 0.01551847869137955, 0.01551847869137955, 0.01551847869137955, 0.1241478295310364, 0.0310369573827591, 0.52135808462094, 0.0008553865211172108, 0.45335485619212174, 0.004276932605586054, 0.0008553865211172108, 0.0008553865211172108, 0.017107730422344217, 0.0017107730422344215, 0.012018001238779991, 0.959186723870128, 0.021782627245288733, 0.0015022501548474989, 0.0007511250774237494, 0.0015022501548474989, 0.0015022501548474989, 0.0015022501548474989, 0.6465641721385743, 0.0018161914947712762, 0.0027242872421569145, 0.007264765979085105, 0.0009080957473856381, 0.0009080957473856381, 0.0499452661062101, 0.2887744476686329, 0.06423324075274797, 0.06423324075274797, 0.06423324075274797, 0.06423324075274797, 0.6423324075274797, 0.06423324075274797, 0.06423324075274797, 0.06423324075274797, 0.0508279822191946, 0.0508279822191946, 0.0508279822191946, 0.0508279822191946, 0.1016559644383892, 0.0508279822191946, 0.0508279822191946, 0.6099357866303352, 0.04560868263247108, 0.04560868263247108, 0.04560868263247108, 0.04560868263247108, 0.7297389221195373, 0.04560868263247108, 0.04560868263247108, 0.04560868263247108, 0.0022730887199874953, 0.0022730887199874953, 0.40688288087776164, 0.0022730887199874953, 0.5773645348768238, 0.004546177439974991, 0.0022730887199874953, 0.0022730887199874953, 0.055974166998546224, 0.055974166998546224, 0.055974166998546224, 0.055974166998546224, 0.6716900039825546, 0.055974166998546224, 0.055974166998546224, 0.055974166998546224, 0.05971338550049909, 0.05971338550049909, 0.5971338550049908, 0.05971338550049909, 0.05971338550049909, 0.05971338550049909, 0.05971338550049909, 0.05971338550049909, 0.031023131160892704, 0.21716191812624894, 0.06204626232178541, 0.031023131160892704, 0.06204626232178541, 0.031023131160892704, 0.4343238362524979, 0.09306939348267812, 0.0011871652800720157, 0.0011871652800720157, 0.0011871652800720157, 0.5900211441957919, 0.32528328673973234, 0.0023743305601440314, 0.0011871652800720157, 0.075978577924609, 0.17134151324129826, 0.14278459436774854, 0.5425814585974444, 0.02855691887354971, 0.02855691887354971, 0.02855691887354971, 0.02855691887354971, 0.02855691887354971, 0.0072312090912551846, 0.5096280692884606, 0.4779484866029617, 0.0013773731602390827, 0.0006886865801195414, 0.0013773731602390827, 0.001033029870179312, 0.001033029870179312, 0.04388275906369543, 0.04388275906369543, 0.04388275906369543, 0.04388275906369543, 0.04388275906369543, 0.04388275906369543, 0.04388275906369543, 0.7460069040828224, 0.8971539703497948, 0.017591254320584213, 0.017591254320584213, 0.017591254320584213, 0.017591254320584213, 0.017591254320584213, 0.017591254320584213, 0.017591254320584213, 0.089463868194001, 0.447319340970005, 0.089463868194001, 0.089463868194001, 0.089463868194001, 0.089463868194001, 0.089463868194001, 0.089463868194001, 0.04095156004601495, 0.737128080828269, 0.04095156004601495, 0.04095156004601495, 0.04095156004601495, 0.04095156004601495, 0.04095156004601495, 0.04095156004601495, 0.1089365721018672, 0.0013966227192547078, 0.7178640776969198, 0.051675040612424186, 0.047485172454660066, 0.0027932454385094156, 0.051675040612424186, 0.01955271806956591, 0.2245865263294854, 0.4083391387808825, 0.19440493781089843, 0.0902488676291081, 0.058883687403909875, 0.0008876937799584403, 0.021008752792349754, 0.0017753875599168807, 0.08480894187164802, 0.0018436726493836525, 0.08204343289757254, 0.0018436726493836525, 0.0018436726493836525, 0.003687345298767305, 0.8185906563263418, 0.005531017948150958, 0.013534201152744254, 0.013534201152744254, 0.9067914772338651, 0.013534201152744254, 0.013534201152744254, 0.013534201152744254, 0.013534201152744254, 0.013534201152744254, 0.07783151741935311, 0.07783151741935311, 0.07783151741935311, 0.07783151741935311, 0.07783151741935311, 0.5448206219354718, 0.07783151741935311, 0.07783151741935311, 0.013600911193496107, 0.8024537604162703, 0.06800455596748053, 0.013600911193496107, 0.054403644773984426, 0.013600911193496107, 0.027201822386992213, 0.013600911193496107, 0.9295681593501245, 0.007319434325591532, 0.007319434325591532, 0.014638868651183063, 0.007319434325591532, 0.007319434325591532, 0.021958302976774594, 0.007319434325591532, 0.24199288454860532, 0.01561244416442615, 0.01561244416442615, 0.6166915444948329, 0.05464355457549152, 0.007806222082213075, 0.03903111041106537, 0.007806222082213075, 0.02304089534327189, 0.02304089534327189, 0.02304089534327189, 0.02304089534327189, 0.02304089534327189, 0.02304089534327189, 0.02304089534327189, 0.8525131277010598, 0.004440458782956958, 0.34635578507064274, 0.6305451471798881, 0.004440458782956958, 0.004440458782956958, 0.004440458782956958, 0.004440458782956958, 0.004440458782956958, 0.07062491731143734, 0.07062491731143734, 0.07062491731143734, 0.07062491731143734, 0.5649993384914987, 0.07062491731143734, 0.07062491731143734, 0.07062491731143734, 0.023170823783446644, 0.023170823783446644, 0.46341647566893285, 0.41707482810203955, 0.023170823783446644, 0.023170823783446644, 0.023170823783446644, 0.023170823783446644, 0.016744621423705353, 0.016744621423705353, 0.016744621423705353, 0.033489242847410707, 0.6697848569482142, 0.05023386427111606, 0.016744621423705353, 0.20093545708446425, 0.015018161964687715, 0.2534314831541052, 0.5129640946063648, 0.21307017287400698, 0.0014079526841894734, 0.0018772702455859644, 0.0014079526841894734, 0.0009386351227929822, 0.9796042502274174, 0.0033319872456714877, 0.0033319872456714877, 0.0033319872456714877, 0.0033319872456714877, 0.0033319872456714877, 0.0033319872456714877, 0.0033319872456714877, 0.22021785984293468, 0.001334653696017786, 0.7227149763936311, 0.04804753305664029, 0.001334653696017786, 0.001334653696017786, 0.003336634240044465, 0.0020019805440266787, 0.004905711026041385, 0.6497837240856635, 0.01650102799668466, 0.0008919474592802519, 0.0008919474592802519, 0.26936813270263604, 0.05619268993465587, 0.0013379211889203778, 0.014951081302878451, 0.0012459234419065375, 0.008721464093345763, 0.37377703257196127, 0.32020232456998016, 0.002491846883813075, 0.0012459234419065375, 0.2778409275451579, 0.00690140835998445, 0.00690140835998445, 0.00690140835998445, 0.00690140835998445, 0.00690140835998445, 0.00690140835998445, 0.952394353677854, 0.00690140835998445, 0.003704530997529287, 0.28154435581222587, 0.5149298086565709, 0.003704530997529287, 0.003704530997529287, 0.003704530997529287, 0.1778174878814058, 0.007409061995058574, 0.048297664674517495, 0.048297664674517495, 0.09659532934903499, 0.048297664674517495, 0.09659532934903499, 0.048297664674517495, 0.5312743114196924, 0.09659532934903499, 0.9020964749529646, 0.012190492904769793, 0.012190492904769793, 0.012190492904769793, 0.012190492904769793, 0.012190492904769793, 0.024380985809539586, 0.012190492904769793, 0.8012550747011857, 0.00260147751526359, 0.00260147751526359, 0.17690047103792414, 0.00260147751526359, 0.00260147751526359, 0.00780443254579077, 0.00260147751526359, 0.07814829641613925, 0.2639348124243194, 0.4035204487902536, 0.24918985083636855, 0.0019659948783934404, 0.0009829974391967202, 0.0009829974391967202, 0.0009829974391967202, 0.003858349641209403, 0.003858349641209403, 0.9723041095847695, 0.003858349641209403, 0.003858349641209403, 0.007716699282418806, 0.003858349641209403, 0.003858349641209403, 0.09618747044067642, 0.09618747044067642, 0.09618747044067642, 0.09618747044067642, 0.09618747044067642, 0.09618747044067642, 0.3847498817627057, 0.09618747044067642, 0.8758712280739402, 0.0006984619043651836, 0.09568928089803015, 0.005587695234921469, 0.0013969238087303672, 0.0006984619043651836, 0.018858471417859957, 0.0013969238087303672, 0.02090659741475395, 0.02090659741475395, 0.22997257156229345, 0.6481045198573725, 0.02090659741475395, 0.02090659741475395, 0.02090659741475395, 0.02090659741475395, 0.019142459076393163, 0.6891285267501539, 0.019142459076393163, 0.019142459076393163, 0.17228213168753848, 0.019142459076393163, 0.038284918152786326, 0.019142459076393163, 0.07033088338480248, 0.07033088338480248, 0.07033088338480248, 0.07033088338480248, 0.07033088338480248, 0.5626470670784198, 0.07033088338480248, 0.07033088338480248, 0.04817816069591459, 0.6744942497428043, 0.04817816069591459, 0.04817816069591459, 0.04817816069591459, 0.04817816069591459, 0.04817816069591459, 0.04817816069591459, 0.08669329539293846, 0.04334664769646923, 0.04334664769646923, 0.04334664769646923, 0.04334664769646923, 0.04334664769646923, 0.6935463631435077, 0.04334664769646923, 0.0017563714243753147, 0.0008781857121876573, 0.5119822702054042, 0.0008781857121876573, 0.47070754173258433, 0.01317278568281486, 0.0008781857121876573, 0.0008781857121876573, 0.023420097916513595, 0.005855024479128399, 0.005855024479128399, 0.005855024479128399, 0.005855024479128399, 0.005855024479128399, 0.005855024479128399, 0.9426589411396722, 0.003813787765448565, 0.003813787765448565, 0.9725158801893841, 0.003813787765448565, 0.003813787765448565, 0.00762757553089713, 0.003813787765448565, 0.003813787765448565, 0.052892127639043954, 0.052892127639043954, 0.052892127639043954, 0.052892127639043954, 0.6875976593075713, 0.052892127639043954, 0.052892127639043954, 0.052892127639043954, 0.5978124454090566, 0.2989062227045283, 0.0010790838364784416, 0.0005395419182392208, 0.0010790838364784416, 0.0010790838364784416, 0.008632670691827533, 0.0906430422641891, 0.24650340915851332, 0.0066622543015814415, 0.062181040148093454, 0.0022207514338604805, 0.008883005735441922, 0.0022207514338604805, 0.6395764129518183, 0.03553202294176769, 0.02734196118972791, 0.8202588356918372, 0.02734196118972791, 0.02734196118972791, 0.02734196118972791, 0.02734196118972791, 0.02734196118972791, 0.02734196118972791, 0.07481418233506387, 0.07481418233506387, 0.07481418233506387, 0.07481418233506387, 0.07481418233506387, 0.07481418233506387, 0.07481418233506387, 0.5236992763454471, 0.01671061068979835, 0.01671061068979835, 0.01671061068979835, 0.01671061068979835, 0.01671061068979835, 0.01671061068979835, 0.8689517558695142, 0.0334212213795967, 0.0022898127055746374, 0.0022898127055746374, 0.40987647429786006, 0.0022898127055746374, 0.5747429890992339, 0.004579625411149275, 0.0022898127055746374, 0.0022898127055746374, 0.08491320689889344, 0.08491320689889344, 0.08491320689889344, 0.08491320689889344, 0.08491320689889344, 0.08491320689889344, 0.08491320689889344, 0.5094792413933606, 0.006225838102276532, 0.006225838102276532, 0.04358086671593572, 0.006225838102276532, 0.006225838102276532, 0.04358086671593572, 0.8653914962164378, 0.018677514306829596, 0.06959381257194149, 0.06959381257194149, 0.06959381257194149, 0.06959381257194149, 0.13918762514388297, 0.48715668800359047, 0.06959381257194149, 0.06959381257194149, 0.0029382712688079664, 0.0007345678172019916, 0.0007345678172019916, 0.19686417501013376, 0.1939259037413258, 0.43780241905238704, 0.0007345678172019916, 0.16527775887044813, 0.03457272049794768, 0.03457272049794768, 0.03457272049794768, 0.7951725714527966, 0.03457272049794768, 0.03457272049794768, 0.03457272049794768, 0.03457272049794768, 0.3191424984614981, 0.37074514124756125, 0.29532589409869975, 0.0029109183110086895, 0.0005292578747288526, 0.000793886812093279, 0.009526641745119347, 0.0010585157494577052, 0.0031369398577797895, 0.23213354947570444, 0.6807159491382143, 0.0031369398577797895, 0.04705409786669684, 0.025095518862238316, 0.0031369398577797895, 0.0031369398577797895, 0.811009447395729, 0.002450179599382867, 0.004900359198765734, 0.16171185355926923, 0.002450179599382867, 0.002450179599382867, 0.012250897996914334, 0.002450179599382867, 0.040362677955848004, 0.040362677955848004, 0.040362677955848004, 0.121088033867544, 0.60544016933772, 0.040362677955848004, 0.040362677955848004, 0.08072535591169601, 0.05175617021564412, 0.05175617021564412, 0.05175617021564412, 0.05175617021564412, 0.6210740425877295, 0.10351234043128824, 0.05175617021564412, 0.05175617021564412, 0.01008348008720556, 0.18150264156970009, 0.01008348008720556, 0.33275484287778345, 0.2016696017441112, 0.01008348008720556, 0.01008348008720556, 0.25208700218013896, 0.06528414215734983, 0.06528414215734983, 0.06528414215734983, 0.06528414215734983, 0.06528414215734983, 0.06528414215734983, 0.5875572794161484, 0.06528414215734983, 0.3262967032509652, 0.36304066190412704, 0.2962805116751429, 0.002846362994259015, 0.00051752054441073, 0.00103504108882146, 0.009315369799393139, 0.00103504108882146, 0.007621079647230912, 0.007621079647230912, 0.007621079647230912, 0.952634955903864, 0.007621079647230912, 0.007621079647230912, 0.007621079647230912, 0.007621079647230912, 0.85249839032217, 0.036496296193113904, 0.08194451409397273, 0.0020658280864026737, 0.0013772187242684492, 0.0006886093621342246, 0.02410132767469786, 0.0006886093621342246, 0.0734900258223292, 0.0734900258223292, 0.0734900258223292, 0.0734900258223292, 0.1469800516446584, 0.5144301807563044, 0.0734900258223292, 0.0734900258223292, 0.006576160853213281, 0.00986424127981992, 0.0032880804266066403, 0.01972848255963984, 0.14467553877069217, 0.0032880804266066403, 0.16111594090372539, 0.6543280048947214, 0.06375599112527616, 0.06375599112527616, 0.06375599112527616, 0.06375599112527616, 0.25502396450110465, 0.4462919378769331, 0.06375599112527616, 0.06375599112527616, 0.12005900157863894, 0.06002950078931947, 0.06002950078931947, 0.06002950078931947, 0.12005900157863894, 0.48023600631455576, 0.06002950078931947, 0.12005900157863894, 0.06964574271189151, 0.06964574271189151, 0.06964574271189151, 0.06964574271189151, 0.5571659416951321, 0.06964574271189151, 0.06964574271189151, 0.06964574271189151, 0.006810297622161387, 0.006810297622161387, 0.2587913096421327, 0.006810297622161387, 0.013620595244322775, 0.006810297622161387, 0.6946503574604616, 0.006810297622161387, 0.07783156974784836, 0.07783156974784836, 0.07783156974784836, 0.07783156974784836, 0.07783156974784836, 0.5448209882349385, 0.07783156974784836, 0.07783156974784836, 0.03768955091717236, 0.03768955091717236, 0.6784119165091025, 0.07537910183434472, 0.03768955091717236, 0.03768955091717236, 0.03768955091717236, 0.07537910183434472, 0.006746449053103444, 0.006746449053103444, 0.006746449053103444, 0.8837848259565512, 0.08095738863724132, 0.006746449053103444, 0.006746449053103444, 0.006746449053103444, 0.018725397004103864, 0.8800936591928816, 0.018725397004103864, 0.018725397004103864, 0.018725397004103864, 0.018725397004103864, 0.018725397004103864, 0.018725397004103864, 0.9700824286230293, 0.0008298395454431389, 0.0008298395454431389, 0.0024895186363294167, 0.0008298395454431389, 0.0008298395454431389, 0.021575828181521612, 0.0008298395454431389, 0.08052368711933702, 0.08052368711933702, 0.08052368711933702, 0.3220947484773481, 0.2415710613580111, 0.08052368711933702, 0.08052368711933702, 0.16104737423867405, 0.06806114304728934, 0.0045374095364859555, 0.0045374095364859555, 0.0045374095364859555, 0.0045374095364859555, 0.0045374095364859555, 0.0045374095364859555, 0.9029444977607052, 0.7732516955329068, 0.1865560356656544, 0.0009888129098886277, 0.0003296043032962092, 0.0006592086065924184, 0.0006592086065924184, 0.0286755743867702, 0.009228920492293858, 0.011124328176660769, 0.002781082044165192, 0.7564543160129323, 0.15852167651741594, 0.061183804971634226, 0.002781082044165192, 0.002781082044165192, 0.002781082044165192, 0.04346822305685203, 0.04346822305685203, 0.04346822305685203, 0.04346822305685203, 0.21734111528426017, 0.04346822305685203, 0.04346822305685203, 0.5650868997390764, 0.10981333809188965, 0.10981333809188965, 0.10981333809188965, 0.2196266761837793, 0.10981333809188965, 0.10981333809188965, 0.10981333809188965, 0.10981333809188965, 0.0776409555666807, 0.0776409555666807, 0.0776409555666807, 0.0776409555666807, 0.0776409555666807, 0.0776409555666807, 0.46584573340008417, 0.0776409555666807, 0.877008161991245, 0.02139044297539622, 0.02139044297539622, 0.02139044297539622, 0.02139044297539622, 0.02139044297539622, 0.02139044297539622, 0.02139044297539622, 0.31868137544465824, 0.3695544155280487, 0.29653974141872663, 0.002899499693871994, 0.0007907726437832711, 0.0010543635250443615, 0.009752862606660343, 0.0010543635250443615, 0.015973536574834402, 0.031947073149668805, 0.3833648777960256, 0.49517963381986646, 0.015973536574834402, 0.015973536574834402, 0.015973536574834402, 0.031947073149668805, 0.002120100949972701, 0.002120100949972701, 0.3794980700451135, 0.002120100949972701, 0.6063488716921925, 0.004240201899945402, 0.002120100949972701, 0.002120100949972701, 0.009399389595197373, 0.9211401803293425, 0.02819816878559212, 0.009399389595197373, 0.009399389595197373, 0.009399389595197373, 0.009399389595197373, 0.009399389595197373, 0.009448531457851161, 0.009448531457851161, 0.5669118874710697, 0.009448531457851161, 0.009448531457851161, 0.009448531457851161, 0.30235300665123716, 0.08503678312066044, 0.5071420564187574, 0.0041912566646178295, 0.0041912566646178295, 0.0041912566646178295, 0.0041912566646178295, 0.0041912566646178295, 0.4652294897725791, 0.008382513329235659, 0.002257983913404531, 0.002257983913404531, 0.4064371044128156, 0.002257983913404531, 0.57804388183156, 0.004515967826809062, 0.002257983913404531, 0.002257983913404531, 0.006752066882066678, 0.006752066882066678, 0.006752066882066678, 0.9452893634893349, 0.006752066882066678, 0.006752066882066678, 0.006752066882066678, 0.013504133764133355, 0.00632162808010109, 0.00632162808010109, 0.00632162808010109, 0.7522737415320297, 0.04425139656070763, 0.00632162808010109, 0.01896488424030327, 0.16436233008262835, 0.0028976811255939836, 0.0014488405627969918, 0.02318144900475187, 0.09272579601900748, 0.0028976811255939836, 0.873650859366586, 0.0014488405627969918, 0.0014488405627969918, 0.7260274741278155, 0.03630137370639078, 0.03630137370639078, 0.07260274741278155, 0.03630137370639078, 0.03630137370639078, 0.03630137370639078, 0.03630137370639078, 0.04404884164846632, 0.04404884164846632, 0.04404884164846632, 0.08809768329693264, 0.04404884164846632, 0.2202442082423316, 0.04404884164846632, 0.5285860997815959, 0.04373376822258178, 0.04373376822258178, 0.04373376822258178, 0.04373376822258178, 0.21866884111290888, 0.04373376822258178, 0.04373376822258178, 0.5685389868935631, 0.3143010382187951, 0.3478845912421737, 0.2930229092039827, 0.011792698008209278, 0.0012818150008923129, 0.0010254520007138503, 0.022303581015526243, 0.008203616005710802, 0.07270403860004751, 0.0034620970761927382, 0.0034620970761927382, 0.0034620970761927382, 0.0034620970761927382, 0.0034620970761927382, 0.9070694339624974, 0.0034620970761927382, 0.034082405402438884, 0.034082405402438884, 0.034082405402438884, 0.034082405402438884, 0.034082405402438884, 0.034082405402438884, 0.1704120270121944, 0.6134832972438998, 0.08703762988716131, 0.08703762988716131, 0.08703762988716131, 0.08703762988716131, 0.08703762988716131, 0.08703762988716131, 0.08703762988716131, 0.4351881494358066, 0.06165285091462211, 0.06165285091462211, 0.06165285091462211, 0.06165285091462211, 0.18495855274386633, 0.43156995640235474, 0.06165285091462211, 0.06165285091462211, 0.7834560352264953, 0.0034975715858325683, 0.006995143171665137, 0.1888688656349587, 0.0034975715858325683, 0.0034975715858325683, 0.006995143171665137, 0.0034975715858325683, 0.003836284448831623, 0.003836284448831623, 0.9705799655544006, 0.003836284448831623, 0.003836284448831623, 0.007672568897663246, 0.003836284448831623, 0.003836284448831623, 0.8923891509892542, 0.001274841644270363, 0.001274841644270363, 0.08031502358903288, 0.001274841644270363, 0.001274841644270363, 0.019122624664055447, 0.001274841644270363, 0.058477767249061174, 0.058477767249061174, 0.058477767249061174, 0.058477767249061174, 0.29238883624530587, 0.4093443707434282, 0.058477767249061174, 0.058477767249061174, 0.06880874918610975, 0.0020851136117002954, 0.04900016987495694, 0.27210732632688855, 0.3231926098135458, 0.0020851136117002954, 0.02293624972870325, 0.26063920146253694, 0.021964506188291745, 0.8126867289667946, 0.021964506188291745, 0.021964506188291745, 0.04392901237658349, 0.021964506188291745, 0.021964506188291745, 0.021964506188291745, 0.8903862363212256, 0.0008686694988499763, 0.0013030042482749644, 0.03257510620687411, 0.0013030042482749644, 0.00043433474942498814, 0.07209956840454802, 0.0008686694988499763, 0.07488290728507709, 0.07488290728507709, 0.07488290728507709, 0.07488290728507709, 0.5241803509955396, 0.07488290728507709, 0.07488290728507709, 0.07488290728507709, 0.6572136276873587, 0.05055489443748913, 0.05055489443748913, 0.05055489443748913, 0.05055489443748913, 0.05055489443748913, 0.05055489443748913, 0.05055489443748913, 0.04741913217435633, 0.04741913217435633, 0.6638678504409886, 0.04741913217435633, 0.04741913217435633, 0.04741913217435633, 0.04741913217435633, 0.04741913217435633, 0.05527386094835338, 0.05527386094835338, 0.05527386094835338, 0.05527386094835338, 0.05527386094835338, 0.6632863313802406, 0.05527386094835338, 0.05527386094835338, 0.017797653048810615, 0.017797653048810615, 0.8720849993917201, 0.017797653048810615, 0.017797653048810615, 0.017797653048810615, 0.017797653048810615, 0.03559530609762123, 0.016678438432861212, 0.016678438432861212, 0.016678438432861212, 0.016678438432861212, 0.016678438432861212, 0.016678438432861212, 0.8839572369416443, 0.016678438432861212, 0.7112129518489015, 0.09327382975067562, 0.011659228718834453, 0.011659228718834453, 0.11659228718834452, 0.011659228718834453, 0.03497768615650336, 0.011659228718834453, 0.06782186736955424, 0.06782186736955424, 0.06782186736955424, 0.06782186736955424, 0.5425749389564339, 0.06782186736955424, 0.06782186736955424, 0.13564373473910848, 0.3332352379946865, 0.35223324077712626, 0.29986036824175183, 0.0030807572079632035, 0.0005134595346605339, 0.0010269190693210678, 0.00924227162388961, 0.0010269190693210678, 0.138312038182895, 0.5830716859647668, 0.0012966753579646407, 0.012534528460324861, 0.0017289004772861878, 0.26019952183157125, 0.0021611255966077344, 0.0008644502386430939, 0.07489386730513137, 0.07489386730513137, 0.5242570711359196, 0.07489386730513137, 0.07489386730513137, 0.07489386730513137, 0.07489386730513137, 0.07489386730513137, 0.004125672685664475, 0.9468418813599969, 0.028879708799651325, 0.001375224228554825, 0.012377018056993424, 0.0020628363428322376, 0.0006876121142774125, 0.0034380605713870624, 0.0029810965756012636, 0.0029810965756012636, 0.0029810965756012636, 0.0029810965756012636, 0.005962193151202527, 0.00894328972680379, 0.0029810965756012636, 0.9688563870704107, 0.017024447838958498, 0.017024447838958498, 0.7320512570752153, 0.017024447838958498, 0.11917113487270947, 0.017024447838958498, 0.017024447838958498, 0.06809779135583399, 0.04829174262920823, 0.04829174262920823, 0.04829174262920823, 0.04829174262920823, 0.7243761394381235, 0.04829174262920823, 0.04829174262920823, 0.04829174262920823, 0.003914399539084198, 0.001957199769542099, 0.001957199769542099, 0.001957199769542099, 0.9825142843101337, 0.003914399539084198, 0.001957199769542099, 0.001957199769542099, 0.003702640199060635, 0.0018513200995303174, 0.0018513200995303174, 0.0018513200995303174, 0.9663890919548257, 0.020364521094833492, 0.0018513200995303174, 0.0018513200995303174, 0.04658887384419132, 0.07213761111358656, 0.00300573379639944, 0.3621909224661325, 0.00601146759279888, 0.0075143344909985995, 0.4959460764059076, 0.00601146759279888, 0.03144727145530291, 0.5031563432848466, 0.010482423818434304, 0.010482423818434304, 0.010482423818434304, 0.010482423818434304, 0.4088145289189378, 0.020964847636868608, 0.06084558669759856, 0.06084558669759856, 0.06084558669759856, 0.06084558669759856, 0.24338234679039425, 0.4259191068831899, 0.06084558669759856, 0.06084558669759856, 0.011331263695525392, 0.011331263695525392, 0.011331263695525392, 0.011331263695525392, 0.011331263695525392, 0.011331263695525392, 0.011331263695525392, 0.9291636230330821, 0.027385824461430487, 0.027385824461430487, 0.027385824461430487, 0.027385824461430487, 0.08215747338429145, 0.027385824461430487, 0.027385824461430487, 0.7941889093814841, 0.13359588563568936, 0.007031362401878387, 0.007031362401878387, 0.007031362401878387, 0.007031362401878387, 0.007031362401878387, 0.8226694010197713, 0.007031362401878387, 0.003286960355216954, 0.001643480177608477, 0.001643480177608477, 0.001643480177608477, 0.001643480177608477, 0.9844446263874778, 0.003286960355216954, 0.001643480177608477, 0.027438245141871393, 0.027438245141871393, 0.6585178834049135, 0.027438245141871393, 0.16462947085122837, 0.027438245141871393, 0.027438245141871393, 0.054876490283742786, 0.005741019264087446, 0.005741019264087446, 0.01722305779226234, 0.005741019264087446, 0.005741019264087446, 0.022964077056349785, 0.24112280909167272, 0.694663330954581, 0.0021673481655157525, 0.0021673481655157525, 0.0021673481655157525, 0.5591758267030641, 0.4226328922755717, 0.0021673481655157525, 0.0021673481655157525, 0.004334696331031505, 0.24778273049785282, 0.2888403494701565, 0.2672850995096971, 0.03849151778653472, 0.02874033328061259, 0.06230493679047087, 0.04126290706716522, 0.025353079715397533, 0.24986810699073891, 0.009254374332990329, 0.3979380963185842, 0.3053943529886809, 0.009254374332990329, 0.009254374332990329, 0.009254374332990329, 0.018508748665980658, 0.002900722616761412, 0.002900722616761412, 0.002900722616761412, 0.023205780934091296, 0.8644153397949008, 0.002900722616761412, 0.002900722616761412, 0.0957238463531266, 0.06059764690402194, 0.06059764690402194, 0.06059764690402194, 0.06059764690402194, 0.5453788221361974, 0.12119529380804388, 0.06059764690402194, 0.06059764690402194, 0.09042006136540152, 0.09042006136540152, 0.09042006136540152, 0.09042006136540152, 0.09042006136540152, 0.09042006136540152, 0.09042006136540152, 0.45210030682700764, 0.09225983903864819, 0.09225983903864819, 0.09225983903864819, 0.09225983903864819, 0.09225983903864819, 0.09225983903864819, 0.461299195193241, 0.09225983903864819, 0.0050929249028934635, 0.21899577082441896, 0.0050929249028934635, 0.0050929249028934635, 0.010185849805786927, 0.0050929249028934635, 0.2393674704359928, 0.5092924902893464, 0.05264542122521821, 0.05264542122521821, 0.05264542122521821, 0.05264542122521821, 0.05264542122521821, 0.05264542122521821, 0.05264542122521821, 0.6843904759278368, 0.8770431500534286, 0.02088197976317687, 0.02088197976317687, 0.02088197976317687, 0.02088197976317687, 0.02088197976317687, 0.02088197976317687, 0.02088197976317687, 0.002590015253441089, 0.0012950076267205445, 0.002590015253441089, 0.0012950076267205445, 0.0012950076267205445, 0.7912496599262527, 0.19684115926152276, 0.002590015253441089, 0.9714630292089136, 0.0008317320455555766, 0.0008317320455555766, 0.0033269281822223065, 0.0008317320455555766, 0.0008317320455555766, 0.020793301138889417, 0.0008317320455555766, 0.001975937007630465, 0.001975937007630465, 0.001975937007630465, 0.5157195589915513, 0.4445858267168546, 0.001975937007630465, 0.001975937007630465, 0.029639055114456973, 0.03280986537428894, 0.03280986537428894, 0.03280986537428894, 0.03280986537428894, 0.7874367689829346, 0.03280986537428894, 0.03280986537428894, 0.03280986537428894, 0.09466189985180798, 0.09466189985180798, 0.09466189985180798, 0.09466189985180798, 0.09466189985180798, 0.09466189985180798, 0.09466189985180798, 0.3786475994072319, 0.002179024345682927, 0.002179024345682927, 0.002179024345682927, 0.5600092568405123, 0.4227307230624878, 0.002179024345682927, 0.002179024345682927, 0.004358048691365854, 0.0014852451919589347, 0.20644908168229192, 0.386163749909323, 0.09357044709341289, 0.20422121389435352, 0.016337697111548283, 0.08762946632557715, 0.004455735575876804, 0.017309050905654322, 0.8135253925657531, 0.034618101811308644, 0.017309050905654322, 0.06923620362261729, 0.017309050905654322, 0.017309050905654322, 0.017309050905654322, 0.003170099138879629, 0.17752555177725923, 0.3423707069989999, 0.4501540777209073, 0.009510297416638887, 0.009510297416638887, 0.006340198277759258, 0.003170099138879629, 0.9030387872965919, 0.0653463115480533, 0.0015746099168205613, 0.002361914875230842, 0.0007873049584102807, 0.0007873049584102807, 0.02519375866912898, 0.0007873049584102807, 0.046789955758597256, 0.046789955758597256, 0.046789955758597256, 0.046789955758597256, 0.14036986727579176, 0.561479469103167, 0.09357991151719451, 0.046789955758597256, 0.032929151723463765, 0.7902996413631304, 0.032929151723463765, 0.032929151723463765, 0.032929151723463765, 0.032929151723463765, 0.032929151723463765, 0.032929151723463765, 0.08703768628392178, 0.08703768628392178, 0.08703768628392178, 0.08703768628392178, 0.08703768628392178, 0.08703768628392178, 0.08703768628392178, 0.4351884314196089, 0.7660129290194597, 0.21435912843561317, 0.0007780730614722801, 0.00038903653073614003, 0.0007780730614722801, 0.0007780730614722801, 0.01595049776018174, 0.0007780730614722801, 0.026507513504136507, 0.026507513504136507, 0.026507513504136507, 0.026507513504136507, 0.5036427565785936, 0.37110518905791107, 0.026507513504136507, 0.026507513504136507, 0.008852200369041012, 0.008852200369041012, 0.008852200369041012, 0.008852200369041012, 0.008852200369041012, 0.008852200369041012, 0.9383332391183473, 0.008852200369041012, 0.09225979104330471, 0.09225979104330471, 0.09225979104330471, 0.09225979104330471, 0.09225979104330471, 0.09225979104330471, 0.46129895521652353, 0.09225979104330471, 0.25491020209800963, 0.004248503368300161, 0.1826856448369069, 0.004248503368300161, 0.004248503368300161, 0.004248503368300161, 0.5438084311424206, 0.004248503368300161, 0.009049588591796758, 0.009049588591796758, 0.009049588591796758, 0.9049588591796758, 0.04524794295898379, 0.009049588591796758, 0.009049588591796758, 0.009049588591796758, 0.0199359910080773, 0.0199359910080773, 0.0199359910080773, 0.0398719820161546, 0.7176956762907828, 0.13955193705654112, 0.0398719820161546, 0.0199359910080773, 0.06348883023958542, 0.06348883023958542, 0.06348883023958542, 0.06348883023958542, 0.06348883023958542, 0.6348883023958543, 0.06348883023958542, 0.06348883023958542, 0.06863564092850877, 0.06863564092850877, 0.5490851274280701, 0.06863564092850877, 0.06863564092850877, 0.06863564092850877, 0.06863564092850877, 0.06863564092850877, 0.0025731166733871137, 0.0025731166733871137, 0.0012865583366935569, 0.0012865583366935569, 0.0025731166733871137, 0.7835140270463762, 0.203276217197582, 0.0012865583366935569, 0.002686895769004405, 0.0013434478845022026, 0.002686895769004405, 0.0013434478845022026, 0.0013434478845022026, 0.8006949391633127, 0.18808270383030837, 0.0013434478845022026, 0.003872925390896339, 0.3408174343988778, 0.003872925390896339, 0.007745850781792678, 0.07745850781792678, 0.003872925390896339, 0.42214886760770093, 0.13942531407226819, 0.06348875734826244, 0.06348875734826244, 0.06348875734826244, 0.06348875734826244, 0.06348875734826244, 0.6348875734826244, 0.06348875734826244, 0.06348875734826244, 0.07783144937955999, 0.07783144937955999, 0.07783144937955999, 0.07783144937955999, 0.07783144937955999, 0.5448201456569199, 0.07783144937955999, 0.07783144937955999, 0.004222666359506732, 0.004222666359506732, 0.004222666359506732, 0.004222666359506732, 0.004222666359506732, 0.004222666359506732, 0.9585452636080279, 0.012667999078520193, 0.06491091809951365, 0.06491091809951365, 0.06491091809951365, 0.06491091809951365, 0.5841982628956227, 0.06491091809951365, 0.06491091809951365, 0.06491091809951365, 0.013095541891715204, 0.013095541891715204, 0.013095541891715204, 0.013095541891715204, 0.10476433513372163, 0.3928662567514561, 0.013095541891715204, 0.4452484243183169, 0.016114556941568905, 0.016114556941568905, 0.016114556941568905, 0.016114556941568905, 0.338405695772947, 0.016114556941568905, 0.016114556941568905, 0.5640094929549117, 0.7462207041354999, 0.0024791385519451824, 0.004958277103890365, 0.21568505401923088, 0.0074374156558355475, 0.0024791385519451824, 0.01983310841556146, 0.0024791385519451824, 0.7197055907072208, 0.04361852064892248, 0.02180926032446124, 0.08723704129784496, 0.04361852064892248, 0.02180926032446124, 0.04361852064892248, 0.02180926032446124, 0.07206952863093197, 0.07206952863093197, 0.07206952863093197, 0.07206952863093197, 0.5765562290474557, 0.07206952863093197, 0.07206952863093197, 0.07206952863093197, 0.017753076686114182, 0.017753076686114182, 0.017753076686114182, 0.017753076686114182, 0.2662961502917127, 0.017753076686114182, 0.017753076686114182, 0.6391107607001105, 0.018489861328514233, 0.8690234824401689, 0.018489861328514233, 0.018489861328514233, 0.018489861328514233, 0.018489861328514233, 0.036979722657028466, 0.018489861328514233, 0.14010545327859517, 0.13873455843242494, 0.3073546245113604, 0.2961132867727647, 0.0008225369077021242, 0.0016450738154042484, 0.0005483579384680828, 0.1146068091398293, 0.01393828494052513, 0.01393828494052513, 0.01393828494052513, 0.01393828494052513, 0.01393828494052513, 0.01393828494052513, 0.01393828494052513, 0.9199268060746586, 0.7149921379380135, 0.0020967511376481338, 0.0020967511376481338, 0.2558036387930723, 0.006290253412944401, 0.0020967511376481338, 0.0020967511376481338, 0.01677400910118507, 0.011774551503948572, 0.65937488422112, 0.27670196034279143, 0.023549103007897143, 0.005887275751974286, 0.005887275751974286, 0.005887275751974286, 0.005887275751974286, 0.022505971856001113, 0.6751791556800334, 0.022505971856001113, 0.022505971856001113, 0.022505971856001113, 0.022505971856001113, 0.20255374670401, 0.022505971856001113, 0.046185424701386535, 0.023092712350693267, 0.5542250964166384, 0.25401983585762594, 0.023092712350693267, 0.023092712350693267, 0.023092712350693267, 0.046185424701386535, 0.02355845210254383, 0.02355845210254383, 0.02355845210254383, 0.02355845210254383, 0.0706753563076315, 0.02355845210254383, 0.02355845210254383, 0.8009873714864902, 0.03600865095049554, 0.03600865095049554, 0.03600865095049554, 0.03600865095049554, 0.03600865095049554, 0.03600865095049554, 0.07201730190099108, 0.7201730190099107, 0.02017042468722498, 0.6454535899911994, 0.02017042468722498, 0.02017042468722498, 0.06051127406167495, 0.02017042468722498, 0.20170424687224983, 0.02017042468722498, 0.04705571549293236, 0.04705571549293236, 0.6117243014081207, 0.04705571549293236, 0.04705571549293236, 0.09411143098586472, 0.04705571549293236, 0.04705571549293236, 0.05527377610141084, 0.05527377610141084, 0.05527377610141084, 0.05527377610141084, 0.05527377610141084, 0.6632853132169301, 0.05527377610141084, 0.05527377610141084, 0.006810305721821408, 0.006810305721821408, 0.2587916174292135, 0.006810305721821408, 0.013620611443642816, 0.006810305721821408, 0.6946511836257837, 0.006810305721821408, 0.023167527224440036, 0.023167527224440036, 0.11583763612220019, 0.023167527224440036, 0.13900516334664023, 0.023167527224440036, 0.1853402177955203, 0.46335054448880075, 0.025364151276972606, 0.025364151276972606, 0.025364151276972606, 0.025364151276972606, 0.025364151276972606, 0.837016992140096, 0.025364151276972606, 0.025364151276972606, 0.002507770936433437, 0.002507770936433437, 0.8651809730695359, 0.002507770936433437, 0.12037300494880498, 0.005015541872866874, 0.002507770936433437, 0.002507770936433437, 0.04560873231345544, 0.04560873231345544, 0.04560873231345544, 0.04560873231345544, 0.7297397170152871, 0.04560873231345544, 0.04560873231345544, 0.04560873231345544, 0.06476507089080313, 0.5828856380172281, 0.06476507089080313, 0.06476507089080313, 0.06476507089080313, 0.06476507089080313, 0.06476507089080313, 0.06476507089080313, 0.8116638222284317, 0.0024595873400861568, 0.0049191746801723136, 0.16233276444568634, 0.0024595873400861568, 0.0024595873400861568, 0.012297936700430783, 0.0024595873400861568, 0.7805150176493132, 0.0025930731483365887, 0.0025930731483365887, 0.19966663242191734, 0.0025930731483365887, 0.0025930731483365887, 0.005186146296673177, 0.0025930731483365887, 0.9734813884972904, 0.0007882440392690611, 0.0015764880785381222, 0.0023647321178071833, 0.0007882440392690611, 0.0007882440392690611, 0.018917856942457466, 0.0007882440392690611, 0.010935127607241475, 0.8748102085793179, 0.05467563803620737, 0.010935127607241475, 0.010935127607241475, 0.010935127607241475, 0.010935127607241475, 0.02187025521448295, 0.07033077311660957, 0.07033077311660957, 0.07033077311660957, 0.07033077311660957, 0.07033077311660957, 0.5626461849328765, 0.07033077311660957, 0.07033077311660957, 0.006968204274724055, 0.006968204274724055, 0.006968204274724055, 0.006968204274724055, 0.006968204274724055, 0.006968204274724055, 0.9476757813624714, 0.006968204274724055, 0.00393261486246111, 0.00393261486246111, 0.9713558710278943, 0.00393261486246111, 0.00393261486246111, 0.00393261486246111, 0.00393261486246111, 0.00393261486246111], \"Term\": [\"accurate\", \"accurate\", \"accurate\", \"accurate\", \"accurate\", \"accurate\", \"accurate\", \"accurate\", \"addition\", \"addition\", \"addition\", \"addition\", \"addition\", \"addition\", \"addition\", \"addition\", \"additional\", \"additional\", \"additional\", \"additional\", \"additional\", \"additional\", \"additional\", \"additional\", \"additionally\", \"additionally\", \"additionally\", \"additionally\", \"additionally\", \"additionally\", \"additionally\", \"additionally\", \"address\", \"address\", \"address\", \"address\", \"address\", \"address\", \"address\", \"address\", \"administer\", \"administer\", \"administer\", \"administer\", \"administer\", \"administer\", \"administer\", \"administer\", \"adverse\", \"adverse\", \"adverse\", \"adverse\", \"adverse\", \"adverse\", \"adverse\", \"adverse\", \"alert\", \"alert\", \"alert\", \"alert\", \"alert\", \"alert\", \"alert\", \"alert\", \"allegation\", \"allegation\", \"allegation\", \"allegation\", \"allegation\", \"allegation\", \"allegation\", \"allegation\", \"allege\", \"allege\", \"allege\", \"allege\", \"allege\", \"allege\", \"allege\", \"allege\", \"ambiguity\", \"ambiguity\", \"ambiguity\", \"ambiguity\", \"ambiguity\", \"ambiguity\", \"ambiguity\", \"ambiguity\", \"application\", \"application\", \"application\", \"application\", \"application\", \"application\", \"application\", \"application\", \"arm\", \"arm\", \"arm\", \"arm\", \"arm\", \"arm\", \"arm\", \"arm\", \"attempt\", \"attempt\", \"attempt\", \"attempt\", \"attempt\", \"attempt\", \"attempt\", \"attempt\", \"audio_output\", \"audio_output\", \"audio_output\", \"audio_output\", \"audio_output\", \"audio_output\", \"audio_output\", \"audio_output\", \"available\", \"available\", \"available\", \"available\", \"available\", \"available\", \"available\", \"available\", \"base\", \"base\", \"base\", \"base\", \"base\", \"base\", \"base\", \"base\", \"battery\", \"battery\", \"battery\", \"battery\", \"battery\", \"battery\", \"battery\", \"battery\", \"become\", \"become\", \"become\", \"become\", \"become\", \"become\", \"become\", \"become\", \"bg\", \"bg\", \"bg\", \"bg\", \"bg\", \"bg\", \"bg\", \"bg\", \"bleed\", \"bleed\", \"bleed\", \"bleed\", \"bleed\", \"bleed\", \"bleed\", \"bleed\", \"blood\", \"blood\", \"blood\", \"blood\", \"blood\", \"blood\", \"blood\", \"blood\", \"boot\", \"boot\", \"boot\", \"boot\", \"boot\", \"boot\", \"boot\", \"boot\", \"broken\", \"broken\", \"broken\", \"broken\", \"broken\", \"broken\", \"broken\", \"broken\", \"bruise\", \"bruise\", \"bruise\", \"bruise\", \"bruise\", \"bruise\", \"bruise\", \"bruise\", \"calibrate\", \"calibrate\", \"calibrate\", \"calibrate\", \"calibrate\", \"calibrate\", \"calibrate\", \"calibrate\", \"calibration\", \"calibration\", \"calibration\", \"calibration\", \"calibration\", \"calibration\", \"calibration\", \"calibration\", \"call\", \"call\", \"call\", \"call\", \"call\", \"call\", \"call\", \"call\", \"case\", \"case\", \"case\", \"case\", \"case\", \"case\", \"case\", \"case\", \"cause\", \"cause\", \"cause\", \"cause\", \"cause\", \"cause\", \"cause\", \"cause\", \"cgm\", \"cgm\", \"cgm\", \"cgm\", \"cgm\", \"cgm\", \"cgm\", \"cgm\", \"charge\", \"charge\", \"charge\", \"charge\", \"charge\", \"charge\", \"charge\", \"charge\", \"check\", \"check\", \"check\", \"check\", \"check\", \"check\", \"check\", \"check\", \"code\", \"code\", \"code\", \"code\", \"code\", \"code\", \"code\", \"code\", \"com\", \"com\", \"com\", \"com\", \"com\", \"com\", \"com\", \"com\", \"command\", \"command\", \"command\", \"command\", \"command\", \"command\", \"command\", \"command\", \"compare\", \"compare\", \"compare\", \"compare\", \"compare\", \"compare\", \"compare\", \"compare\", \"complaint\", \"complaint\", \"complaint\", \"complaint\", \"complaint\", \"complaint\", \"complaint\", \"complaint\", \"complete\", \"complete\", \"complete\", \"complete\", \"complete\", \"complete\", \"complete\", \"complete\", \"confirm\", \"confirm\", \"confirm\", \"confirm\", \"confirm\", \"confirm\", \"confirm\", \"confirm\", \"confirmation\", \"confirmation\", \"confirmation\", \"confirmation\", \"confirmation\", \"confirmation\", \"confirmation\", \"confirmation\", \"connection\", \"connection\", \"connection\", \"connection\", \"connection\", \"connection\", \"connection\", \"connection\", \"consciousness\", \"consciousness\", \"consciousness\", \"consciousness\", \"consciousness\", \"consciousness\", \"consciousness\", \"consciousness\", \"contact\", \"contact\", \"contact\", \"contact\", \"contact\", \"contact\", \"contact\", \"contact\", \"continued\", \"continued\", \"continued\", \"continued\", \"continued\", \"continued\", \"continued\", \"continued\", \"continuous\", \"continuous\", \"continuous\", \"continuous\", \"continuous\", \"continuous\", \"continuous\", \"continuous\", \"correction\", \"correction\", \"correction\", \"correction\", \"correction\", \"correction\", \"correction\", \"correction\", \"counts_aberration\", \"counts_aberration\", \"counts_aberration\", \"counts_aberration\", \"counts_aberration\", \"counts_aberration\", \"counts_aberration\", \"counts_aberration\", \"crash\", \"crash\", \"crash\", \"crash\", \"crash\", \"crash\", \"crash\", \"crash\", \"customer\", \"customer\", \"customer\", \"customer\", \"customer\", \"customer\", \"customer\", \"customer\", \"data\", \"data\", \"data\", \"data\", \"data\", \"data\", \"data\", \"data\", \"datum\", \"datum\", \"datum\", \"datum\", \"datum\", \"datum\", \"datum\", \"datum\", \"declined_assistance\", \"declined_assistance\", \"declined_assistance\", \"declined_assistance\", \"declined_assistance\", \"declined_assistance\", \"declined_assistance\", \"declined_assistance\", \"defective\", \"defective\", \"defective\", \"defective\", \"defective\", \"defective\", \"defective\", \"defective\", \"deploy\", \"deploy\", \"deploy\", \"deploy\", \"deploy\", \"deploy\", \"deploy\", \"deploy\", \"detached\", \"detached\", \"detached\", \"detached\", \"detached\", \"detached\", \"detached\", \"detached\", \"determine\", \"determine\", \"determine\", \"determine\", \"determine\", \"determine\", \"determine\", \"determine\", \"determined\", \"determined\", \"determined\", \"determined\", \"determined\", \"determined\", \"determined\", \"determined\", \"device\", \"device\", \"device\", \"device\", \"device\", \"device\", \"device\", \"device\", \"difference\", \"difference\", \"difference\", \"difference\", \"difference\", \"difference\", \"difference\", \"difference\", \"discoloration\", \"discoloration\", \"discoloration\", \"discoloration\", \"discoloration\", \"discoloration\", \"discoloration\", \"discoloration\", \"display\", \"display\", \"display\", \"display\", \"display\", \"display\", \"display\", \"display\", \"download\", \"download\", \"download\", \"download\", \"download\", \"download\", \"download\", \"download\", \"due\", \"due\", \"due\", \"due\", \"due\", \"due\", \"due\", \"due\", \"duration\", \"duration\", \"duration\", \"duration\", \"duration\", \"duration\", \"duration\", \"duration\", \"early\", \"early\", \"early\", \"early\", \"early\", \"early\", \"early\", \"early\", \"emergency\", \"emergency\", \"emergency\", \"emergency\", \"emergency\", \"emergency\", \"emergency\", \"emergency\", \"end\", \"end\", \"end\", \"end\", \"end\", \"end\", \"end\", \"end\", \"enter\", \"enter\", \"enter\", \"enter\", \"enter\", \"enter\", \"enter\", \"enter\", \"error\", \"error\", \"error\", \"error\", \"error\", \"error\", \"error\", \"error\", \"establish\", \"establish\", \"establish\", \"establish\", \"establish\", \"establish\", \"establish\", \"establish\", \"evaluate\", \"evaluate\", \"evaluate\", \"evaluate\", \"evaluate\", \"evaluate\", \"evaluate\", \"evaluate\", \"evaluation\", \"evaluation\", \"evaluation\", \"evaluation\", \"evaluation\", \"evaluation\", \"evaluation\", \"evaluation\", \"event\", \"event\", \"event\", \"event\", \"event\", \"event\", \"event\", \"event\", \"expect\", \"expect\", \"expect\", \"expect\", \"expect\", \"expect\", \"expect\", \"expect\", \"expiration\", \"expiration\", \"expiration\", \"expiration\", \"expiration\", \"expiration\", \"expiration\", \"expiration\", \"expire\", \"expire\", \"expire\", \"expire\", \"expire\", \"expire\", \"expire\", \"expire\", \"exterior\", \"exterior\", \"exterior\", \"exterior\", \"exterior\", \"exterior\", \"exterior\", \"exterior\", \"external\", \"external\", \"external\", \"external\", \"external\", \"external\", \"external\", \"external\", \"fail\", \"fail\", \"fail\", \"fail\", \"fail\", \"fail\", \"fail\", \"fail\", \"fall\", \"fall\", \"fall\", \"fall\", \"fall\", \"fall\", \"fall\", \"fall\", \"file\", \"file\", \"file\", \"file\", \"file\", \"file\", \"file\", \"file\", \"find\", \"find\", \"find\", \"find\", \"find\", \"find\", \"find\", \"find\", \"finding\", \"finding\", \"finding\", \"finding\", \"finding\", \"finding\", \"finding\", \"finding\", \"follow\", \"follow\", \"follow\", \"follow\", \"follow\", \"follow\", \"follow\", \"follow\", \"foot\", \"foot\", \"foot\", \"foot\", \"foot\", \"foot\", \"foot\", \"foot\", \"frozen\", \"frozen\", \"frozen\", \"frozen\", \"frozen\", \"frozen\", \"frozen\", \"frozen\", \"functional\", \"functional\", \"functional\", \"functional\", \"functional\", \"functional\", \"functional\", \"functional\", \"glucose\", \"glucose\", \"glucose\", \"glucose\", \"glucose\", \"glucose\", \"glucose\", \"glucose\", \"great\", \"great\", \"great\", \"great\", \"great\", \"great\", \"great\", \"great\", \"grid\", \"grid\", \"grid\", \"grid\", \"grid\", \"grid\", \"grid\", \"grid\", \"hospital\", \"hospital\", \"hospital\", \"hospital\", \"hospital\", \"hospital\", \"hospital\", \"hospital\", \"hour\", \"hour\", \"hour\", \"hour\", \"hour\", \"hour\", \"hour\", \"hour\", \"however\", \"however\", \"however\", \"however\", \"however\", \"however\", \"however\", \"however\", \"icon\", \"icon\", \"icon\", \"icon\", \"icon\", \"icon\", \"icon\", \"icon\", \"identify\", \"identify\", \"identify\", \"identify\", \"identify\", \"identify\", \"identify\", \"identify\", \"impact\", \"impact\", \"impact\", \"impact\", \"impact\", \"impact\", \"impact\", \"impact\", \"inaccuracy\", \"inaccuracy\", \"inaccuracy\", \"inaccuracy\", \"inaccuracy\", \"inaccuracy\", \"inaccuracy\", \"inaccuracy\", \"incorrectly\", \"incorrectly\", \"incorrectly\", \"incorrectly\", \"incorrectly\", \"incorrectly\", \"incorrectly\", \"incorrectly\", \"indicate\", \"indicate\", \"indicate\", \"indicate\", \"indicate\", \"indicate\", \"indicate\", \"indicate\", \"infection\", \"infection\", \"infection\", \"infection\", \"infection\", \"infection\", \"infection\", \"infection\", \"information\", \"information\", \"information\", \"information\", \"information\", \"information\", \"information\", \"information\", \"initiate\", \"initiate\", \"initiate\", \"initiate\", \"initiate\", \"initiate\", \"initiate\", \"initiate\", \"injury\", \"injury\", \"injury\", \"injury\", \"injury\", \"injury\", \"injury\", \"injury\", \"insert\", \"insert\", \"insert\", \"insert\", \"insert\", \"insert\", \"insert\", \"insert\", \"inspection\", \"inspection\", \"inspection\", \"inspection\", \"inspection\", \"inspection\", \"inspection\", \"inspection\", \"instruct\", \"instruct\", \"instruct\", \"instruct\", \"instruct\", \"instruct\", \"instruct\", \"instruct\", \"insulin\", \"insulin\", \"insulin\", \"insulin\", \"insulin\", \"insulin\", \"insulin\", \"insulin\", \"intermittent\", \"intermittent\", \"intermittent\", \"intermittent\", \"intermittent\", \"intermittent\", \"intermittent\", \"intermittent\", \"internal\", \"internal\", \"internal\", \"internal\", \"internal\", \"internal\", \"internal\", \"internal\", \"intervention\", \"intervention\", \"intervention\", \"intervention\", \"intervention\", \"intervention\", \"intervention\", \"intervention\", \"invalid\", \"invalid\", \"invalid\", \"invalid\", \"invalid\", \"invalid\", \"invalid\", \"invalid\", \"investigation\", \"investigation\", \"investigation\", \"investigation\", \"investigation\", \"investigation\", \"investigation\", \"investigation\", \"irritation\", \"irritation\", \"irritation\", \"irritation\", \"irritation\", \"irritation\", \"irritation\", \"irritation\", \"issue\", \"issue\", \"issue\", \"issue\", \"issue\", \"issue\", \"issue\", \"issue\", \"itching\", \"itching\", \"itching\", \"itching\", \"itching\", \"itching\", \"itching\", \"itching\", \"keep\", \"keep\", \"keep\", \"keep\", \"keep\", \"keep\", \"keep\", \"keep\", \"know\", \"know\", \"know\", \"know\", \"know\", \"know\", \"know\", \"know\", \"label\", \"label\", \"label\", \"label\", \"label\", \"label\", \"label\", \"label\", \"labeling\", \"labeling\", \"labeling\", \"labeling\", \"labeling\", \"labeling\", \"labeling\", \"labeling\", \"lead\", \"lead\", \"lead\", \"lead\", \"lead\", \"lead\", \"lead\", \"lead\", \"less\", \"less\", \"less\", \"less\", \"less\", \"less\", \"less\", \"less\", \"line\", \"line\", \"line\", \"line\", \"line\", \"line\", \"line\", \"line\", \"log\", \"log\", \"log\", \"log\", \"log\", \"log\", \"log\", \"log\", \"long\", \"long\", \"long\", \"long\", \"long\", \"long\", \"long\", \"long\", \"lose\", \"lose\", \"lose\", \"lose\", \"lose\", \"lose\", \"lose\", \"lose\", \"loss\", \"loss\", \"loss\", \"loss\", \"loss\", \"loss\", \"loss\", \"loss\", \"low\", \"low\", \"low\", \"low\", \"low\", \"low\", \"low\", \"low\", \"make\", \"make\", \"make\", \"make\", \"make\", \"make\", \"make\", \"make\", \"malfunction\", \"malfunction\", \"malfunction\", \"malfunction\", \"malfunction\", \"malfunction\", \"malfunction\", \"malfunction\", \"manually\", \"manually\", \"manually\", \"manually\", \"manually\", \"manually\", \"manually\", \"manually\", \"measurement\", \"measurement\", \"measurement\", \"measurement\", \"measurement\", \"measurement\", \"measurement\", \"measurement\", \"medical\", \"medical\", \"medical\", \"medical\", \"medical\", \"medical\", \"medical\", \"medical\", \"message\", \"message\", \"message\", \"message\", \"message\", \"message\", \"message\", \"message\", \"meter\", \"meter\", \"meter\", \"meter\", \"meter\", \"meter\", \"meter\", \"meter\", \"miss\", \"miss\", \"miss\", \"miss\", \"miss\", \"miss\", \"miss\", \"miss\", \"misuse\", \"misuse\", \"misuse\", \"misuse\", \"misuse\", \"misuse\", \"misuse\", \"misuse\", \"mobile\", \"mobile\", \"mobile\", \"mobile\", \"mobile\", \"mobile\", \"mobile\", \"mobile\", \"monitor\", \"monitor\", \"monitor\", \"monitor\", \"monitor\", \"monitor\", \"monitor\", \"monitor\", \"month\", \"month\", \"month\", \"month\", \"month\", \"month\", \"month\", \"month\", \"multiple\", \"multiple\", \"multiple\", \"multiple\", \"multiple\", \"multiple\", \"multiple\", \"multiple\", \"new\", \"new\", \"new\", \"new\", \"new\", \"new\", \"new\", \"new\", \"nordic\", \"nordic\", \"nordic\", \"nordic\", \"nordic\", \"nordic\", \"nordic\", \"nordic\", \"number\", \"number\", \"number\", \"number\", \"number\", \"number\", \"number\", \"number\", \"obtain\", \"obtain\", \"obtain\", \"obtain\", \"obtain\", \"obtain\", \"obtain\", \"obtain\", \"occur\", \"occur\", \"occur\", \"occur\", \"occur\", \"occur\", \"occur\", \"occur\", \"operate\", \"operate\", \"operate\", \"operate\", \"operate\", \"operate\", \"operate\", \"operate\", \"operating\", \"operating\", \"operating\", \"operating\", \"operating\", \"operating\", \"operating\", \"operating\", \"opposite\", \"opposite\", \"opposite\", \"opposite\", \"opposite\", \"opposite\", \"opposite\", \"opposite\", \"pain\", \"pain\", \"pain\", \"pain\", \"pain\", \"pain\", \"pain\", \"pain\", \"pair\", \"pair\", \"pair\", \"pair\", \"pair\", \"pair\", \"pair\", \"pair\", \"parke\", \"parke\", \"parke\", \"parke\", \"parke\", \"parke\", \"parke\", \"parke\", \"pass\", \"pass\", \"pass\", \"pass\", \"pass\", \"pass\", \"pass\", \"pass\", \"patch\", \"patch\", \"patch\", \"patch\", \"patch\", \"patch\", \"patch\", \"patch\", \"patient\", \"patient\", \"patient\", \"patient\", \"patient\", \"patient\", \"patient\", \"patient\", \"pende\", \"pende\", \"pende\", \"pende\", \"pende\", \"pende\", \"pende\", \"pende\", \"perform\", \"perform\", \"perform\", \"perform\", \"perform\", \"perform\", \"perform\", \"perform\", \"period\", \"period\", \"period\", \"period\", \"period\", \"period\", \"period\", \"period\", \"physical\", \"physical\", \"physical\", \"physical\", \"physical\", \"physical\", \"physical\", \"physical\", \"pod\", \"pod\", \"pod\", \"pod\", \"pod\", \"pod\", \"pod\", \"pod\", \"portion\", \"portion\", \"portion\", \"portion\", \"portion\", \"portion\", \"portion\", \"portion\", \"potential\", \"potential\", \"potential\", \"potential\", \"potential\", \"potential\", \"potential\", \"potential\", \"prematurely\", \"prematurely\", \"prematurely\", \"prematurely\", \"prematurely\", \"prematurely\", \"prematurely\", \"prematurely\", \"present\", \"present\", \"present\", \"present\", \"present\", \"present\", \"present\", \"present\", \"prior\", \"prior\", \"prior\", \"prior\", \"prior\", \"prior\", \"prior\", \"prior\", \"probable\", \"probable\", \"probable\", \"probable\", \"probable\", \"probable\", \"probable\", \"probable\", \"product\", \"product\", \"product\", \"product\", \"product\", \"product\", \"product\", \"product\", \"progressive\", \"progressive\", \"progressive\", \"progressive\", \"progressive\", \"progressive\", \"progressive\", \"progressive\", \"provide\", \"provide\", \"provide\", \"provide\", \"provide\", \"provide\", \"provide\", \"provide\", \"pump\", \"pump\", \"pump\", \"pump\", \"pump\", \"pump\", \"pump\", \"pump\", \"range\", \"range\", \"range\", \"range\", \"range\", \"range\", \"range\", \"range\", \"reaction\", \"reaction\", \"reaction\", \"reaction\", \"reaction\", \"reaction\", \"reaction\", \"reaction\", \"read\", \"read\", \"read\", \"read\", \"read\", \"read\", \"read\", \"read\", \"reading\", \"reading\", \"reading\", \"reading\", \"reading\", \"reading\", \"reading\", \"reading\", \"receive\", \"receive\", \"receive\", \"receive\", \"receive\", \"receive\", \"receive\", \"receive\", \"receiver\", \"receiver\", \"receiver\", \"receiver\", \"receiver\", \"receiver\", \"receiver\", \"receiver\", \"redness\", \"redness\", \"redness\", \"redness\", \"redness\", \"redness\", \"redness\", \"redness\", \"regain\", \"regain\", \"regain\", \"regain\", \"regain\", \"regain\", \"regain\", \"regain\", \"regard\", \"regard\", \"regard\", \"regard\", \"regard\", \"regard\", \"regard\", \"regard\", \"relate\", \"relate\", \"relate\", \"relate\", \"relate\", \"relate\", \"relate\", \"relate\", \"relevant\", \"relevant\", \"relevant\", \"relevant\", \"relevant\", \"relevant\", \"relevant\", \"relevant\", \"remove\", \"remove\", \"remove\", \"remove\", \"remove\", \"remove\", \"remove\", \"remove\", \"replace\", \"replace\", \"replace\", \"replace\", \"replace\", \"replace\", \"replace\", \"replace\", \"replacement\", \"replacement\", \"replacement\", \"replacement\", \"replacement\", \"replacement\", \"replacement\", \"replacement\", \"report\", \"report\", \"report\", \"report\", \"report\", \"report\", \"report\", \"report\", \"reportable\", \"reportable\", \"reportable\", \"reportable\", \"reportable\", \"reportable\", \"reportable\", \"reportable\", \"reportedly\", \"reportedly\", \"reportedly\", \"reportedly\", \"reportedly\", \"reportedly\", \"reportedly\", \"reportedly\", \"require\", \"require\", \"require\", \"require\", \"require\", \"require\", \"require\", \"require\", \"reset\", \"reset\", \"reset\", \"reset\", \"reset\", \"reset\", \"reset\", \"reset\", \"resistance\", \"resistance\", \"resistance\", \"resistance\", \"resistance\", \"resistance\", \"resistance\", \"resistance\", \"resolve\", \"resolve\", \"resolve\", \"resolve\", \"resolve\", \"resolve\", \"resolve\", \"resolve\", \"respond\", \"respond\", \"respond\", \"respond\", \"respond\", \"respond\", \"respond\", \"respond\", \"restore\", \"restore\", \"restore\", \"restore\", \"restore\", \"restore\", \"restore\", \"restore\", \"return\", \"return\", \"return\", \"return\", \"return\", \"return\", \"return\", \"return\", \"review\", \"review\", \"review\", \"review\", \"review\", \"review\", \"review\", \"review\", \"root\", \"root\", \"root\", \"root\", \"root\", \"root\", \"root\", \"root\", \"second\", \"second\", \"second\", \"second\", \"second\", \"second\", \"second\", \"second\", \"select\", \"select\", \"select\", \"select\", \"select\", \"select\", \"select\", \"select\", \"send\", \"send\", \"send\", \"send\", \"send\", \"send\", \"send\", \"send\", \"sensor\", \"sensor\", \"sensor\", \"sensor\", \"sensor\", \"sensor\", \"sensor\", \"sensor\", \"service\", \"service\", \"service\", \"service\", \"service\", \"service\", \"service\", \"service\", \"session\", \"session\", \"session\", \"session\", \"session\", \"session\", \"session\", \"session\", \"share\", \"share\", \"share\", \"share\", \"share\", \"share\", \"share\", \"share\", \"show\", \"show\", \"show\", \"show\", \"show\", \"show\", \"show\", \"show\", \"shutdown\", \"shutdown\", \"shutdown\", \"shutdown\", \"shutdown\", \"shutdown\", \"shutdown\", \"shutdown\", \"side\", \"side\", \"side\", \"side\", \"side\", \"side\", \"side\", \"side\", \"signal\", \"signal\", \"signal\", \"signal\", \"signal\", \"signal\", \"signal\", \"signal\", \"skin\", \"skin\", \"skin\", \"skin\", \"skin\", \"skin\", \"skin\", \"skin\", \"smart\", \"smart\", \"smart\", \"smart\", \"smart\", \"smart\", \"smart\", \"smart\", \"speaker\", \"speaker\", \"speaker\", \"speaker\", \"speaker\", \"speaker\", \"speaker\", \"speaker\", \"specification\", \"specification\", \"specification\", \"specification\", \"specification\", \"specification\", \"specification\", \"specification\", \"start\", \"start\", \"start\", \"start\", \"start\", \"start\", \"start\", \"start\", \"state\", \"state\", \"state\", \"state\", \"state\", \"state\", \"state\", \"state\", \"states_make\", \"states_make\", \"states_make\", \"states_make\", \"states_make\", \"states_make\", \"states_make\", \"states_make\", \"stopped_worke\", \"stopped_worke\", \"stopped_worke\", \"stopped_worke\", \"stopped_worke\", \"stopped_worke\", \"stopped_worke\", \"stopped_worke\", \"submit\", \"submit\", \"submit\", \"submit\", \"submit\", \"submit\", \"submit\", \"submit\", \"supplemental\", \"supplemental\", \"supplemental\", \"supplemental\", \"supplemental\", \"supplemental\", \"supplemental\", \"supplemental\", \"support\", \"support\", \"support\", \"support\", \"support\", \"support\", \"support\", \"support\", \"sure\", \"sure\", \"sure\", \"sure\", \"sure\", \"sure\", \"sure\", \"sure\", \"swell\", \"swell\", \"swell\", \"swell\", \"swell\", \"swell\", \"swell\", \"swell\", \"system\", \"system\", \"system\", \"system\", \"system\", \"system\", \"system\", \"system\", \"take\", \"take\", \"take\", \"take\", \"take\", \"take\", \"take\", \"take\", \"tandem\", \"tandem\", \"tandem\", \"tandem\", \"tandem\", \"tandem\", \"tandem\", \"tandem\", \"technical\", \"technical\", \"technical\", \"technical\", \"technical\", \"technical\", \"technical\", \"technical\", \"test\", \"test\", \"test\", \"test\", \"test\", \"test\", \"test\", \"test\", \"testing\", \"testing\", \"testing\", \"testing\", \"testing\", \"testing\", \"testing\", \"testing\", \"third\", \"third\", \"third\", \"third\", \"third\", \"third\", \"third\", \"third\", \"time\", \"time\", \"time\", \"time\", \"time\", \"time\", \"time\", \"time\", \"tool\", \"tool\", \"tool\", \"tool\", \"tool\", \"tool\", \"tool\", \"tool\", \"transmitter\", \"transmitter\", \"transmitter\", \"transmitter\", \"transmitter\", \"transmitter\", \"transmitter\", \"transmitter\", \"ultimately\", \"ultimately\", \"ultimately\", \"ultimately\", \"ultimately\", \"ultimately\", \"ultimately\", \"ultimately\", \"unable\", \"unable\", \"unable\", \"unable\", \"unable\", \"unable\", \"unable\", \"unable\", \"undetermined\", \"undetermined\", \"undetermined\", \"undetermined\", \"undetermined\", \"undetermined\", \"undetermined\", \"undetermined\", \"unexpected\", \"unexpected\", \"unexpected\", \"unexpected\", \"unexpected\", \"unexpected\", \"unexpected\", \"unexpected\", \"unknown\", \"unknown\", \"unknown\", \"unknown\", \"unknown\", \"unknown\", \"unknown\", \"unknown\", \"unspecified\", \"unspecified\", \"unspecified\", \"unspecified\", \"unspecified\", \"unspecified\", \"unspecified\", \"unspecified\", \"unsupported\", \"unsupported\", \"unsupported\", \"unsupported\", \"unsupported\", \"unsupported\", \"unsupported\", \"unsupported\", \"upon_completion\", \"upon_completion\", \"upon_completion\", \"upon_completion\", \"upon_completion\", \"upon_completion\", \"upon_completion\", \"upon_completion\", \"upper_buttock\", \"upper_buttock\", \"upper_buttock\", \"upper_buttock\", \"upper_buttock\", \"upper_buttock\", \"upper_buttock\", \"upper_buttock\", \"upper_right\", \"upper_right\", \"upper_right\", \"upper_right\", \"upper_right\", \"upper_right\", \"upper_right\", \"upper_right\", \"usage\", \"usage\", \"usage\", \"usage\", \"usage\", \"usage\", \"usage\", \"usage\", \"use\", \"use\", \"use\", \"use\", \"use\", \"use\", \"use\", \"use\", \"user_guide\", \"user_guide\", \"user_guide\", \"user_guide\", \"user_guide\", \"user_guide\", \"user_guide\", \"user_guide\", \"value\", \"value\", \"value\", \"value\", \"value\", \"value\", \"value\", \"value\", \"value_resolve\", \"value_resolve\", \"value_resolve\", \"value_resolve\", \"value_resolve\", \"value_resolve\", \"value_resolve\", \"value_resolve\", \"vibration\", \"vibration\", \"vibration\", \"vibration\", \"vibration\", \"vibration\", \"vibration\", \"vibration\", \"visual\", \"visual\", \"visual\", \"visual\", \"visual\", \"visual\", \"visual\", \"visual\", \"voltage\", \"voltage\", \"voltage\", \"voltage\", \"voltage\", \"voltage\", \"voltage\", \"voltage\", \"window\", \"window\", \"window\", \"window\", \"window\", \"window\", \"window\", \"window\", \"wire\", \"wire\", \"wire\", \"wire\", \"wire\", \"wire\", \"wire\", \"wire\", \"without_obstruction\", \"without_obstruction\", \"without_obstruction\", \"without_obstruction\", \"without_obstruction\", \"without_obstruction\", \"without_obstruction\", \"without_obstruction\", \"yet\", \"yet\", \"yet\", \"yet\", \"yet\", \"yet\", \"yet\", \"yet\", \"zone\", \"zone\", \"zone\", \"zone\", \"zone\", \"zone\", \"zone\", \"zone\"]}, \"R\": 30, \"lambda.step\": 0.01, \"plot.opts\": {\"xlab\": \"PC1\", \"ylab\": \"PC2\"}, \"topic.order\": [4, 7, 8, 1, 5, 6, 3, 2]};\n",
       "\n",
       "function LDAvis_load_lib(url, callback){\n",
       "  var s = document.createElement('script');\n",
       "  s.src = url;\n",
       "  s.async = true;\n",
       "  s.onreadystatechange = s.onload = callback;\n",
       "  s.onerror = function(){console.warn(\"failed to load library \" + url);};\n",
       "  document.getElementsByTagName(\"head\")[0].appendChild(s);\n",
       "}\n",
       "\n",
       "if(typeof(LDAvis) !== \"undefined\"){\n",
       "   // already loaded: just create the visualization\n",
       "   !function(LDAvis){\n",
       "       new LDAvis(\"#\" + \"ldavis_el72141402961953204006849282268\", ldavis_el72141402961953204006849282268_data);\n",
       "   }(LDAvis);\n",
       "}else if(typeof define === \"function\" && define.amd){\n",
       "   // require.js is available: use it to load d3/LDAvis\n",
       "   require.config({paths: {d3: \"https://d3js.org/d3.v5\"}});\n",
       "   require([\"d3\"], function(d3){\n",
       "      window.d3 = d3;\n",
       "      LDAvis_load_lib(\"https://cdn.jsdelivr.net/gh/bmabey/pyLDAvis@3.3.1/pyLDAvis/js/ldavis.v3.0.0.js\", function(){\n",
       "        new LDAvis(\"#\" + \"ldavis_el72141402961953204006849282268\", ldavis_el72141402961953204006849282268_data);\n",
       "      });\n",
       "    });\n",
       "}else{\n",
       "    // require.js not available: dynamically load d3 & LDAvis\n",
       "    LDAvis_load_lib(\"https://d3js.org/d3.v5.js\", function(){\n",
       "         LDAvis_load_lib(\"https://cdn.jsdelivr.net/gh/bmabey/pyLDAvis@3.3.1/pyLDAvis/js/ldavis.v3.0.0.js\", function(){\n",
       "                 new LDAvis(\"#\" + \"ldavis_el72141402961953204006849282268\", ldavis_el72141402961953204006849282268_data);\n",
       "            })\n",
       "         });\n",
       "}\n",
       "</script>"
      ],
      "text/plain": [
       "PreparedData(topic_coordinates=              x         y  topics  cluster       Freq\n",
       "topic                                                \n",
       "3     -0.249329 -0.009077       1        1  28.259379\n",
       "6     -0.220100  0.021248       2        1  21.419695\n",
       "7     -0.179047 -0.120912       3        1  20.035885\n",
       "0      0.098904 -0.153256       4        1   7.393600\n",
       "4      0.227860 -0.147362       5        1   7.189953\n",
       "5      0.171524  0.268950       6        1   6.220324\n",
       "2     -0.039582  0.188691       7        1   5.427261\n",
       "1      0.189770 -0.048281       8        1   4.053903, topic_info=            Term         Freq        Total Category  logprob  loglift\n",
       "12   transmitter  3647.000000  3647.000000  Default  30.0000  30.0000\n",
       "19    evaluation  2242.000000  2242.000000  Default  29.0000  29.0000\n",
       "26       product  2313.000000  2313.000000  Default  28.0000  28.0000\n",
       "47        device  1084.000000  1084.000000  Default  27.0000  27.0000\n",
       "17         datum  2904.000000  2904.000000  Default  26.0000  26.0000\n",
       "..           ...          ...          ...      ...      ...      ...\n",
       "185      support    35.891406   258.202753   Topic8  -4.9498   1.2322\n",
       "204   reportedly    32.662470   344.741684   Topic8  -5.0441   0.8489\n",
       "143     multiple    25.910684   158.187098   Topic8  -5.2757   1.3964\n",
       "24         occur    32.164085  3900.718900   Topic8  -5.0595  -1.5926\n",
       "22          loss    27.555809  3033.940971   Topic8  -5.2141  -1.4959\n",
       "\n",
       "[401 rows x 6 columns], token_table=      Topic      Freq      Term\n",
       "term                           \n",
       "341       1  0.017943  accurate\n",
       "341       2  0.017943  accurate\n",
       "341       3  0.771545  accurate\n",
       "341       4  0.017943  accurate\n",
       "341       5  0.143543  accurate\n",
       "...     ...       ...       ...\n",
       "173       4  0.003933      zone\n",
       "173       5  0.003933      zone\n",
       "173       6  0.003933      zone\n",
       "173       7  0.003933      zone\n",
       "173       8  0.003933      zone\n",
       "\n",
       "[2024 rows x 3 columns], R=30, lambda_step=0.01, plot_opts={'xlab': 'PC1', 'ylab': 'PC2'}, topic_order=[4, 7, 8, 1, 5, 6, 3, 2])"
      ]
     },
     "execution_count": 49,
     "metadata": {},
     "output_type": "execute_result"
    }
   ],
   "source": [
    "import pyLDAvis.gensim_models as gensimvis\n",
    "import pickle \n",
    "import pyLDAvis\n",
    "\n",
    "# Visualize the topics\n",
    "pyLDAvis.enable_notebook()\n",
    "\n",
    "LDAvis_data_filepath = os.path.join(f\"{working_directory}//ldavis_tuned_\"+str(num_topics))\n",
    "\n",
    "# # this is a bit time consuming - make the if statement True\n",
    "# # if you want to execute visualization prep yourself\n",
    "if 1 == 1:\n",
    "    LDAvis_prepared = gensimvis.prepare(lda_model, corpus, id2word)\n",
    "    with open(LDAvis_data_filepath, 'wb') as f:\n",
    "        pickle.dump(LDAvis_prepared, f)\n",
    "\n",
    "# load the pre-prepared pyLDAvis data from disk\n",
    "with open(LDAvis_data_filepath, 'rb') as f:\n",
    "    LDAvis_prepared = pickle.load(f)\n",
    "\n",
    "pyLDAvis.save_html(LDAvis_prepared, f\"{working_directory}/ldavis_tuned_\"+ str(num_topics) +'.html')\n",
    "\n",
    "LDAvis_prepared"
   ]
  }
 ],
 "metadata": {
  "kernelspec": {
   "display_name": "conda_amazonei_pytorch_latest_p37",
   "language": "python",
   "name": "conda_amazonei_pytorch_latest_p37"
  },
  "language_info": {
   "codemirror_mode": {
    "name": "ipython",
    "version": 3
   },
   "file_extension": ".py",
   "mimetype": "text/x-python",
   "name": "python",
   "nbconvert_exporter": "python",
   "pygments_lexer": "ipython3",
   "version": "3.7.10"
  }
 },
 "nbformat": 4,
 "nbformat_minor": 5
}
