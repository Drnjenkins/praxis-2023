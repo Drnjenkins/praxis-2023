{
 "cells": [
  {
   "cell_type": "markdown",
   "id": "19d7a77d-2710-4113-a4e6-95f0fe329bb0",
   "metadata": {},
   "source": [
    "# LDA"
   ]
  },
  {
   "cell_type": "code",
   "execution_count": 1,
   "id": "06244427-b4c1-4d71-b458-0dc66b1dba92",
   "metadata": {
    "tags": []
   },
   "outputs": [],
   "source": [
    "import pandas as pd\n",
    "import os\n",
    "import csv\n",
    "\n",
    "# Identify the working directory and data files\n",
    "working_directory = './28-LDA'\n",
    "\n",
    "# Create the working directory if needed\n",
    "try:\n",
    "    os.makedirs(working_directory, exist_ok=True)\n",
    "except OSError as error:\n",
    "    print(f\"Error creating {working_directory}: {error}\")"
   ]
  },
  {
   "cell_type": "code",
   "execution_count": 2,
   "id": "181ae050-e89d-495e-a868-af9323d48a31",
   "metadata": {
    "tags": []
   },
   "outputs": [
    {
     "name": "stdout",
     "output_type": "stream",
     "text": [
      "Note: you may need to restart the kernel to use updated packages.\n"
     ]
    }
   ],
   "source": [
    "%pip install --quiet --upgrade nltk gensim spacy pyldavis"
   ]
  },
  {
   "cell_type": "code",
   "execution_count": 3,
   "id": "96bb5b79-b64b-43b4-8664-272dd9f6a0fc",
   "metadata": {
    "tags": []
   },
   "outputs": [
    {
     "name": "stdout",
     "output_type": "stream",
     "text": [
      "/home/ec2-user/anaconda3/envs/amazonei_pytorch_latest_p37/lib/python3.7/runpy.py:125: RuntimeWarning: 'nltk.downloader' found in sys.modules after import of package 'nltk', but prior to execution of 'nltk.downloader'; this may result in unpredictable behaviour\n",
      "  warn(RuntimeWarning(msg))\n"
     ]
    }
   ],
   "source": [
    "!python -m nltk.downloader --quiet 'all'\n",
    "!python -m spacy download en_core_web_sm > /dev/null"
   ]
  },
  {
   "cell_type": "code",
   "execution_count": 4,
   "id": "f8a0828c-e6c6-47e2-95d8-65d25ddf699a",
   "metadata": {
    "tags": []
   },
   "outputs": [],
   "source": [
    "# Read the preprocessed data into a dataframe\n",
    "import pickle\n",
    "\n",
    "with open('./21-data_preprocessing/dataframe.pickle', 'rb') as f:\n",
    "    df = pickle.load(f)"
   ]
  },
  {
   "cell_type": "code",
   "execution_count": 5,
   "id": "699caf8a-3dba-41a2-b639-ec5e74a31012",
   "metadata": {
    "tags": []
   },
   "outputs": [
    {
     "data": {
      "text/plain": [
       "(5736, 20)"
      ]
     },
     "execution_count": 5,
     "metadata": {},
     "output_type": "execute_result"
    }
   ],
   "source": [
    "df.shape"
   ]
  },
  {
   "cell_type": "code",
   "execution_count": 6,
   "id": "526595ac-b49e-4cc7-b5e4-e85a32aa6c90",
   "metadata": {
    "tags": []
   },
   "outputs": [
    {
     "data": {
      "text/html": [
       "<div>\n",
       "<style scoped>\n",
       "    .dataframe tbody tr th:only-of-type {\n",
       "        vertical-align: middle;\n",
       "    }\n",
       "\n",
       "    .dataframe tbody tr th {\n",
       "        vertical-align: top;\n",
       "    }\n",
       "\n",
       "    .dataframe thead th {\n",
       "        text-align: right;\n",
       "    }\n",
       "</style>\n",
       "<table border=\"1\" class=\"dataframe\">\n",
       "  <thead>\n",
       "    <tr style=\"text-align: right;\">\n",
       "      <th></th>\n",
       "      <th>ROW_ID</th>\n",
       "      <th>FOI_TEXT</th>\n",
       "      <th>DEVICE_PROBLEM_CODE</th>\n",
       "      <th>DEVICE_PROBLEM_TEXT</th>\n",
       "      <th>GENERIC_NAME</th>\n",
       "      <th>DEVICE_REPORT_PRODUCT_CODE</th>\n",
       "      <th>UDI-DI</th>\n",
       "      <th>UDI-PUBLIC</th>\n",
       "      <th>DATE_OF_EVENT</th>\n",
       "      <th>REPORTER_OCCUPATION_CODE</th>\n",
       "      <th>REPORT_DATE</th>\n",
       "      <th>EVENT_LOCATION</th>\n",
       "      <th>SOURCE_TYPE</th>\n",
       "      <th>TOKENIZED_TEXT</th>\n",
       "      <th>NOPUNCT_TEXT</th>\n",
       "      <th>NOSTOPWORDS_TEXT</th>\n",
       "      <th>NODIGITS_TEXT</th>\n",
       "      <th>POS_TEXT</th>\n",
       "      <th>LEMMATIZED_TEXT</th>\n",
       "      <th>STEMMED_TEXT</th>\n",
       "    </tr>\n",
       "  </thead>\n",
       "  <tbody>\n",
       "    <tr>\n",
       "      <th>0</th>\n",
       "      <td>1969025</td>\n",
       "      <td>IT WAS REPORTED THAT THE TRANSMITTER LOST CONN...</td>\n",
       "      <td>3283</td>\n",
       "      <td>Wireless Communication Problem</td>\n",
       "      <td>CONTINUOUS GLUCOSE MONITOR</td>\n",
       "      <td>QBJ</td>\n",
       "      <td></td>\n",
       "      <td></td>\n",
       "      <td>07/30/2020</td>\n",
       "      <td>000</td>\n",
       "      <td></td>\n",
       "      <td>I</td>\n",
       "      <td>CONSUMER</td>\n",
       "      <td>[it, was, reported, that, the, transmitter, lo...</td>\n",
       "      <td>[it, was, reported, that, the, transmitter, lo...</td>\n",
       "      <td>[reported, transmitter, lost, connection, pump...</td>\n",
       "      <td>[reported, transmitter, lost, connection, pump...</td>\n",
       "      <td>[(reported, VBN), (transmitter, NN), (lost, VB...</td>\n",
       "      <td>[report, transmitter, lose, connection, pump, ...</td>\n",
       "      <td>[report, transmitt, lost, connect, pump, great...</td>\n",
       "    </tr>\n",
       "  </tbody>\n",
       "</table>\n",
       "</div>"
      ],
      "text/plain": [
       "    ROW_ID                                           FOI_TEXT  \\\n",
       "0  1969025  IT WAS REPORTED THAT THE TRANSMITTER LOST CONN...   \n",
       "\n",
       "  DEVICE_PROBLEM_CODE             DEVICE_PROBLEM_TEXT  \\\n",
       "0                3283  Wireless Communication Problem   \n",
       "\n",
       "                 GENERIC_NAME DEVICE_REPORT_PRODUCT_CODE UDI-DI UDI-PUBLIC  \\\n",
       "0  CONTINUOUS GLUCOSE MONITOR                        QBJ                     \n",
       "\n",
       "  DATE_OF_EVENT REPORTER_OCCUPATION_CODE REPORT_DATE EVENT_LOCATION  \\\n",
       "0    07/30/2020                      000                          I   \n",
       "\n",
       "  SOURCE_TYPE                                     TOKENIZED_TEXT  \\\n",
       "0    CONSUMER  [it, was, reported, that, the, transmitter, lo...   \n",
       "\n",
       "                                        NOPUNCT_TEXT  \\\n",
       "0  [it, was, reported, that, the, transmitter, lo...   \n",
       "\n",
       "                                    NOSTOPWORDS_TEXT  \\\n",
       "0  [reported, transmitter, lost, connection, pump...   \n",
       "\n",
       "                                       NODIGITS_TEXT  \\\n",
       "0  [reported, transmitter, lost, connection, pump...   \n",
       "\n",
       "                                            POS_TEXT  \\\n",
       "0  [(reported, VBN), (transmitter, NN), (lost, VB...   \n",
       "\n",
       "                                     LEMMATIZED_TEXT  \\\n",
       "0  [report, transmitter, lose, connection, pump, ...   \n",
       "\n",
       "                                        STEMMED_TEXT  \n",
       "0  [report, transmitt, lost, connect, pump, great...  "
      ]
     },
     "execution_count": 6,
     "metadata": {},
     "output_type": "execute_result"
    }
   ],
   "source": [
    "df.head(1)"
   ]
  },
  {
   "cell_type": "code",
   "execution_count": 7,
   "id": "53d52aa9-a028-4efa-86d6-fcfdf16ab2df",
   "metadata": {
    "tags": []
   },
   "outputs": [
    {
     "name": "stdout",
     "output_type": "stream",
     "text": [
      "['it', 'was', 'reported', 'that', 'the', 'transmitter', 'lost', 'connection', 'with', 'the', 'pump', 'for', 'greater', 'than', 'hour', 'the', 'transmitter', 'ultimately', 'regained', 'connection', 'with', 'the', 'pump', 'no', 'additional', 'patient', 'or', 'event', 'information', 'was']\n"
     ]
    }
   ],
   "source": [
    "import gensim\n",
    "from gensim.utils import simple_preprocess\n",
    "\n",
    "def sent_to_words(sentences):\n",
    "    for sentence in sentences:\n",
    "        yield(gensim.utils.simple_preprocess(str(sentence), deacc=True))  # deacc=True removes punctuations\n",
    "\n",
    "data = df['FOI_TEXT'].tolist()\n",
    "data_words = list(sent_to_words(data))\n",
    "\n",
    "print(data_words[:1][0][:30])"
   ]
  },
  {
   "cell_type": "code",
   "execution_count": 8,
   "id": "e0c6dce8-129c-47cb-99ef-3ec2dab1d416",
   "metadata": {
    "tags": []
   },
   "outputs": [],
   "source": [
    "# Build the bigram and trigram models\n",
    "bigram = gensim.models.Phrases(data_words, min_count=5, threshold=100) # higher threshold fewer phrases.\n",
    "trigram = gensim.models.Phrases(bigram[data_words], threshold=100)  \n",
    "\n",
    "# Faster way to get a sentence clubbed as a trigram/bigram\n",
    "bigram_mod = gensim.models.phrases.Phraser(bigram)\n",
    "trigram_mod = gensim.models.phrases.Phraser(trigram)"
   ]
  },
  {
   "cell_type": "code",
   "execution_count": 9,
   "id": "448dd175-aee8-4cd8-89cc-97eb0b3f422e",
   "metadata": {
    "tags": []
   },
   "outputs": [
    {
     "name": "stderr",
     "output_type": "stream",
     "text": [
      "[nltk_data] Downloading package stopwords to\n",
      "[nltk_data]     /home/ec2-user/nltk_data...\n",
      "[nltk_data]   Package stopwords is already up-to-date!\n"
     ]
    }
   ],
   "source": [
    "# NLTK Stop words\n",
    "import nltk\n",
    "nltk.download('stopwords')\n",
    "from nltk.corpus import stopwords\n",
    "\n",
    "stop_words = stopwords.words('english')\n",
    "stop_words.extend(['from', 'subject', 're', 'edu', 'use'])\n",
    "\n",
    "# Define functions for stopwords, bigrams, trigrams and lemmatization\n",
    "def remove_stopwords(texts):\n",
    "    return [[word for word in simple_preprocess(str(doc)) if word not in stop_words] for doc in texts]\n",
    "\n",
    "def make_bigrams(texts):\n",
    "    return [bigram_mod[doc] for doc in texts]\n",
    "\n",
    "def make_trigrams(texts):\n",
    "    return [trigram_mod[bigram_mod[doc]] for doc in texts]\n",
    "\n",
    "def lemmatization(texts, allowed_postags=['NOUN', 'ADJ', 'VERB', 'ADV']):\n",
    "    \"\"\"https://spacy.io/api/annotation\"\"\"\n",
    "    texts_out = []\n",
    "    for sent in texts:\n",
    "        doc = nlp(\" \".join(sent)) \n",
    "        texts_out.append([token.lemma_ for token in doc if token.pos_ in allowed_postags])\n",
    "    return texts_out"
   ]
  },
  {
   "cell_type": "code",
   "execution_count": 10,
   "id": "a2e49f96-dbb0-43ab-9ffe-1022de301796",
   "metadata": {
    "tags": []
   },
   "outputs": [
    {
     "name": "stdout",
     "output_type": "stream",
     "text": [
      "['report', 'transmitter', 'lose', 'connection', 'pump', 'great', 'hour', 'transmitter', 'ultimately', 'regain', 'connection', 'pump', 'additional', 'patient', 'event', 'information', 'available']\n"
     ]
    }
   ],
   "source": [
    "import spacy\n",
    "\n",
    "# Remove Stop Words\n",
    "data_words_nostops = remove_stopwords(data_words)\n",
    "\n",
    "# Form Bigrams\n",
    "data_words_bigrams = make_bigrams(data_words_nostops)\n",
    "\n",
    "# Initialize spacy 'en' model, keeping only tagger component (for efficiency)\n",
    "nlp = spacy.load(\"en_core_web_sm\", disable=['parser', 'ner'])\n",
    "\n",
    "# Do lemmatization keeping only noun, adj, vb, adv\n",
    "data_lemmatized = lemmatization(data_words_bigrams, allowed_postags=['NOUN', 'ADJ', 'VERB', 'ADV'])\n",
    "\n",
    "print(data_lemmatized[:1][0][:30])"
   ]
  },
  {
   "cell_type": "code",
   "execution_count": 11,
   "id": "d6a6de27-4e41-42e4-9280-7da6f2cbe50c",
   "metadata": {
    "tags": []
   },
   "outputs": [
    {
     "data": {
      "text/plain": [
       "['reported',\n",
       " 'transmitter',\n",
       " 'lost',\n",
       " 'connection',\n",
       " 'pump',\n",
       " 'greater',\n",
       " 'hour',\n",
       " 'transmitter',\n",
       " 'ultimately',\n",
       " 'regained',\n",
       " 'connection',\n",
       " 'pump',\n",
       " 'additional',\n",
       " 'patient',\n",
       " 'event',\n",
       " 'information',\n",
       " 'available']"
      ]
     },
     "execution_count": 11,
     "metadata": {},
     "output_type": "execute_result"
    }
   ],
   "source": [
    "data_words_bigrams[0]"
   ]
  },
  {
   "cell_type": "code",
   "execution_count": 12,
   "id": "6d5a5d3b-b3f7-45fe-8238-4bc792d1e816",
   "metadata": {
    "tags": []
   },
   "outputs": [
    {
     "name": "stdout",
     "output_type": "stream",
     "text": [
      "[(0, 1), (1, 1), (2, 2), (3, 1), (4, 1), (5, 1), (6, 1), (7, 1), (8, 1), (9, 2), (10, 1), (11, 1), (12, 2), (13, 1)]\n"
     ]
    }
   ],
   "source": [
    "import gensim.corpora as corpora\n",
    "\n",
    "# Create Dictionary\n",
    "id2word = corpora.Dictionary(data_lemmatized)\n",
    "\n",
    "# Create Corpus\n",
    "texts = data_lemmatized\n",
    "\n",
    "# Term Document Frequency\n",
    "corpus = [id2word.doc2bow(text) for text in texts]\n",
    "\n",
    "# View\n",
    "print(corpus[:1][0][:30])"
   ]
  },
  {
   "cell_type": "code",
   "execution_count": 13,
   "id": "80260b3e-2549-4564-83d8-01dac83f2345",
   "metadata": {
    "tags": []
   },
   "outputs": [],
   "source": [
    "# Build LDA model\n",
    "lda_model = gensim.models.LdaMulticore(corpus=corpus,\n",
    "                                       id2word=id2word,\n",
    "                                       num_topics=10, \n",
    "                                       random_state=100,\n",
    "                                       chunksize=100,\n",
    "                                       passes=10,\n",
    "                                       per_word_topics=True)"
   ]
  },
  {
   "cell_type": "code",
   "execution_count": 14,
   "id": "1b65d281-b7d3-4551-a140-551841d8e4e6",
   "metadata": {},
   "outputs": [
    {
     "name": "stdout",
     "output_type": "stream",
     "text": [
      "[(0,\n",
      "  '0.089*\"perform\" + 0.060*\"pass\" + 0.059*\"transmitter\" + 0.052*\"fail\" + '\n",
      "  '0.052*\"report\" + 0.037*\"evaluate\" + 0.034*\"error\" + 0.033*\"test\" + '\n",
      "  '0.032*\"inspection\" + 0.032*\"visual\"'),\n",
      " (1,\n",
      "  '0.091*\"transmitter\" + 0.071*\"pump\" + 0.068*\"connection\" + 0.065*\"patient\" + '\n",
      "  '0.051*\"report\" + 0.051*\"information\" + 0.051*\"additional\" + 0.051*\"event\" + '\n",
      "  '0.049*\"available\" + 0.045*\"lose\"'),\n",
      " (2,\n",
      "  '0.056*\"report\" + 0.046*\"device\" + 0.040*\"system\" + 0.036*\"support\" + '\n",
      "  '0.035*\"sensor\" + 0.032*\"loss\" + 0.026*\"share\" + 0.025*\"mobile\" + '\n",
      "  '0.024*\"occur\" + 0.024*\"indicate\"'),\n",
      " (3,\n",
      "  '0.096*\"loss\" + 0.083*\"signal\" + 0.076*\"report\" + 0.052*\"hour\" + '\n",
      "  '0.039*\"probable\" + 0.039*\"cause\" + 0.038*\"allegation\" + '\n",
      "  '0.038*\"intervention\" + 0.038*\"occur\" + 0.038*\"medical\"'),\n",
      " (4,\n",
      "  '0.096*\"glucose\" + 0.077*\"bg\" + 0.058*\"reading\" + 0.056*\"read\" + '\n",
      "  '0.047*\"blood\" + 0.044*\"meter\" + 0.041*\"monitor\" + 0.041*\"continuous\" + '\n",
      "  '0.041*\"inaccuracy\" + 0.039*\"sensor\"'),\n",
      " (5,\n",
      "  '0.083*\"report\" + 0.064*\"evaluation\" + 0.061*\"return\" + 0.061*\"become\" + '\n",
      "  '0.061*\"available\" + 0.060*\"new\" + 0.060*\"product\" + 0.060*\"information\" + '\n",
      "  '0.060*\"relevant\" + 0.060*\"submit\"'),\n",
      " (6,\n",
      "  '0.104*\"transmitter\" + 0.082*\"customer\" + 0.047*\"report\" + 0.042*\"cause\" + '\n",
      "  '0.042*\"event\" + 0.042*\"patient\" + 0.042*\"root\" + 0.042*\"determined\" + '\n",
      "  '0.041*\"replacement\" + 0.041*\"available\"'),\n",
      " (7,\n",
      "  '0.113*\"report\" + 0.064*\"datum\" + 0.054*\"probable\" + 0.053*\"cause\" + '\n",
      "  '0.053*\"allegation\" + 0.053*\"intervention\" + 0.053*\"occur\" + 0.052*\"medical\" '\n",
      "  '+ 0.052*\"injury\" + 0.049*\"transmitter\"'),\n",
      " (8,\n",
      "  '0.166*\"device\" + 0.135*\"receive\" + 0.064*\"report\" + 0.062*\"submit\" + '\n",
      "  '0.061*\"however\" + 0.053*\"return\" + 0.050*\"supplemental\" + '\n",
      "  '0.050*\"evaluation\" + 0.048*\"expect\" + 0.048*\"yet\"'),\n",
      " (9,\n",
      "  '0.117*\"report\" + 0.068*\"evaluation\" + 0.066*\"provide\" + 0.066*\"datum\" + '\n",
      "  '0.063*\"product\" + 0.061*\"confirmation\" + 0.059*\"medical\" + 0.059*\"injury\" + '\n",
      "  '0.059*\"intervention\" + 0.058*\"probable\"')]\n"
     ]
    }
   ],
   "source": [
    "from pprint import pprint\n",
    "\n",
    "# Print the Keyword in the 10 topics\n",
    "pprint(lda_model.print_topics())\n",
    "doc_lda = lda_model[corpus]"
   ]
  },
  {
   "cell_type": "code",
   "execution_count": 15,
   "id": "6b3ad16c-2465-4239-b79f-5d668a970459",
   "metadata": {},
   "outputs": [
    {
     "name": "stdout",
     "output_type": "stream",
     "text": [
      "Coherence Score:  0.6119352495876512\n"
     ]
    }
   ],
   "source": [
    "from gensim.models import CoherenceModel\n",
    "\n",
    "# Compute Coherence Score\n",
    "# TODO: Pickle these as the baseline models\n",
    "coherence_model_lda = CoherenceModel(model=lda_model, texts=data_lemmatized, dictionary=id2word, coherence='c_v')\n",
    "coherence_lda = coherence_model_lda.get_coherence()\n",
    "print('Coherence Score: ', coherence_lda)"
   ]
  },
  {
   "cell_type": "code",
   "execution_count": 16,
   "id": "0c0fbb86-5174-4c1d-a43c-aa7a36b4e51c",
   "metadata": {},
   "outputs": [],
   "source": [
    "# supporting function\n",
    "def compute_coherence_values(corpus, dictionary, k, a, b):\n",
    "    # TODO: Pickle each lda_model and coherence_model_lda\n",
    "    lda_model = gensim.models.LdaMulticore(corpus=corpus,\n",
    "                                           id2word=dictionary,\n",
    "                                           num_topics=k, \n",
    "                                           random_state=100,\n",
    "                                           chunksize=100,\n",
    "                                           passes=10,\n",
    "                                           alpha=a,\n",
    "                                           eta=b)\n",
    "    \n",
    "    coherence_model_lda = CoherenceModel(model=lda_model, texts=data_lemmatized, dictionary=id2word, coherence='c_v')\n",
    "    \n",
    "    return coherence_model_lda.get_coherence()"
   ]
  },
  {
   "cell_type": "code",
   "execution_count": 17,
   "id": "4177c91a-ad86-4707-a785-2ebc77f1d733",
   "metadata": {
    "tags": []
   },
   "outputs": [
    {
     "name": "stderr",
     "output_type": "stream",
     "text": [
      " 39%|███▉      | 568/1440 [48:37<58:34,  4.03s/it]  /home/ec2-user/anaconda3/envs/amazonei_pytorch_latest_p37/lib/python3.7/site-packages/gensim/topic_coherence/direct_confirmation_measure.py:204: RuntimeWarning: divide by zero encountered in double_scalars\n",
      "  m_lr_i = np.log(numerator / denominator)\n",
      "/home/ec2-user/anaconda3/envs/amazonei_pytorch_latest_p37/lib/python3.7/site-packages/gensim/topic_coherence/indirect_confirmation_measure.py:323: RuntimeWarning: invalid value encountered in double_scalars\n",
      "  return cv1.T.dot(cv2)[0, 0] / (_magnitude(cv1) * _magnitude(cv2))\n",
      "100%|██████████| 1440/1440 [2:05:15<00:00,  5.22s/it] \n"
     ]
    }
   ],
   "source": [
    "import numpy as np\n",
    "import tqdm\n",
    "\n",
    "grid = {}\n",
    "grid['Validation_Set'] = {}\n",
    "\n",
    "# Topics range\n",
    "min_topics = 1\n",
    "max_topics = 25\n",
    "step_size = 1\n",
    "topics_range = range(min_topics, max_topics, step_size)\n",
    "\n",
    "# Alpha parameter\n",
    "alpha = list(np.arange(0.01, 1, 0.3))\n",
    "alpha.append('symmetric')\n",
    "alpha.append('asymmetric')\n",
    "\n",
    "# Beta parameter\n",
    "beta = list(np.arange(0.01, 1, 0.3))\n",
    "beta.append('symmetric')\n",
    "\n",
    "# Validation sets\n",
    "num_of_docs = len(corpus)\n",
    "corpus_sets = [gensim.utils.ClippedCorpus(corpus, int(num_of_docs*0.75)), \n",
    "               corpus]\n",
    "\n",
    "corpus_title = ['75% Corpus', '100% Corpus']\n",
    "\n",
    "model_results = {\n",
    "    'Validation_Set': [],\n",
    "    'Topics': [],\n",
    "    'Alpha': [],\n",
    "    'Beta': [],\n",
    "    'Coherence': []\n",
    "}\n",
    "\n",
    "# Can take a long time to run\n",
    "if True:\n",
    "    pbar = tqdm.tqdm(total=(len(beta)*len(alpha)*len(topics_range)*len(corpus_title)))\n",
    "    \n",
    "    # iterate through validation corpuses\n",
    "    for i in range(len(corpus_sets)):\n",
    "        # iterate through number of topics\n",
    "        for k in topics_range:\n",
    "            # iterate through alpha values\n",
    "            for a in alpha:\n",
    "                # iterare through beta values\n",
    "                for b in beta:\n",
    "                    # get the coherence score for the given parameters\n",
    "                    cv = compute_coherence_values(corpus=corpus_sets[i], dictionary=id2word, \n",
    "                                                  k=k, a=a, b=b)\n",
    "                    # Save the model results\n",
    "                    model_results['Validation_Set'].append(corpus_title[i])\n",
    "                    model_results['Topics'].append(k)\n",
    "                    model_results['Alpha'].append(a)\n",
    "                    model_results['Beta'].append(b)\n",
    "                    model_results['Coherence'].append(cv)\n",
    "                    \n",
    "                    pbar.update(1)\n",
    "    pd.DataFrame(model_results).to_csv(f\"{working_directory}/lda_tuning_results.csv\", index=False)\n",
    "    pbar.close()"
   ]
  },
  {
   "cell_type": "code",
   "execution_count": 18,
   "id": "3b9be61b-b1ec-4f7a-9c33-a5b55a73294a",
   "metadata": {
    "tags": []
   },
   "outputs": [],
   "source": [
    "model_results_df = pd.DataFrame(model_results)"
   ]
  },
  {
   "cell_type": "code",
   "execution_count": 26,
   "id": "dd8deed7-cc52-4cbe-a84b-02fd0eb3c6fb",
   "metadata": {
    "tags": []
   },
   "outputs": [],
   "source": [
    "import pickle\n",
    "import datetime\n",
    "\n",
    "TAG = f\"{datetime.datetime.now():%Y-%m-%d-%s}\"\n",
    "\n",
    "with open(f\"{working_directory}/model_results_df-{max_topics}-topics-{TAG}.pickle\", 'wb') as f:\n",
    "    pickle.dump(model_results_df, f)"
   ]
  },
  {
   "cell_type": "code",
   "execution_count": 20,
   "id": "f58dc6ad-9079-4033-9846-c9a82e476776",
   "metadata": {
    "tags": []
   },
   "outputs": [
    {
     "data": {
      "text/html": [
       "<div>\n",
       "<style scoped>\n",
       "    .dataframe tbody tr th:only-of-type {\n",
       "        vertical-align: middle;\n",
       "    }\n",
       "\n",
       "    .dataframe tbody tr th {\n",
       "        vertical-align: top;\n",
       "    }\n",
       "\n",
       "    .dataframe thead th {\n",
       "        text-align: right;\n",
       "    }\n",
       "</style>\n",
       "<table border=\"1\" class=\"dataframe\">\n",
       "  <thead>\n",
       "    <tr style=\"text-align: right;\">\n",
       "      <th></th>\n",
       "      <th>Validation_Set</th>\n",
       "      <th>Topics</th>\n",
       "      <th>Alpha</th>\n",
       "      <th>Beta</th>\n",
       "      <th>Coherence</th>\n",
       "    </tr>\n",
       "  </thead>\n",
       "  <tbody>\n",
       "    <tr>\n",
       "      <th>0</th>\n",
       "      <td>75% Corpus</td>\n",
       "      <td>1</td>\n",
       "      <td>0.01</td>\n",
       "      <td>0.01</td>\n",
       "      <td>0.573277</td>\n",
       "    </tr>\n",
       "    <tr>\n",
       "      <th>1</th>\n",
       "      <td>75% Corpus</td>\n",
       "      <td>1</td>\n",
       "      <td>0.01</td>\n",
       "      <td>0.31</td>\n",
       "      <td>0.573277</td>\n",
       "    </tr>\n",
       "    <tr>\n",
       "      <th>2</th>\n",
       "      <td>75% Corpus</td>\n",
       "      <td>1</td>\n",
       "      <td>0.01</td>\n",
       "      <td>0.61</td>\n",
       "      <td>0.573277</td>\n",
       "    </tr>\n",
       "    <tr>\n",
       "      <th>3</th>\n",
       "      <td>75% Corpus</td>\n",
       "      <td>1</td>\n",
       "      <td>0.01</td>\n",
       "      <td>0.91</td>\n",
       "      <td>0.573277</td>\n",
       "    </tr>\n",
       "    <tr>\n",
       "      <th>4</th>\n",
       "      <td>75% Corpus</td>\n",
       "      <td>1</td>\n",
       "      <td>0.01</td>\n",
       "      <td>symmetric</td>\n",
       "      <td>0.573277</td>\n",
       "    </tr>\n",
       "    <tr>\n",
       "      <th>...</th>\n",
       "      <td>...</td>\n",
       "      <td>...</td>\n",
       "      <td>...</td>\n",
       "      <td>...</td>\n",
       "      <td>...</td>\n",
       "    </tr>\n",
       "    <tr>\n",
       "      <th>1435</th>\n",
       "      <td>100% Corpus</td>\n",
       "      <td>24</td>\n",
       "      <td>asymmetric</td>\n",
       "      <td>0.01</td>\n",
       "      <td>0.574216</td>\n",
       "    </tr>\n",
       "    <tr>\n",
       "      <th>1436</th>\n",
       "      <td>100% Corpus</td>\n",
       "      <td>24</td>\n",
       "      <td>asymmetric</td>\n",
       "      <td>0.31</td>\n",
       "      <td>0.585426</td>\n",
       "    </tr>\n",
       "    <tr>\n",
       "      <th>1437</th>\n",
       "      <td>100% Corpus</td>\n",
       "      <td>24</td>\n",
       "      <td>asymmetric</td>\n",
       "      <td>0.61</td>\n",
       "      <td>0.539901</td>\n",
       "    </tr>\n",
       "    <tr>\n",
       "      <th>1438</th>\n",
       "      <td>100% Corpus</td>\n",
       "      <td>24</td>\n",
       "      <td>asymmetric</td>\n",
       "      <td>0.91</td>\n",
       "      <td>0.524498</td>\n",
       "    </tr>\n",
       "    <tr>\n",
       "      <th>1439</th>\n",
       "      <td>100% Corpus</td>\n",
       "      <td>24</td>\n",
       "      <td>asymmetric</td>\n",
       "      <td>symmetric</td>\n",
       "      <td>0.584984</td>\n",
       "    </tr>\n",
       "  </tbody>\n",
       "</table>\n",
       "<p>1440 rows × 5 columns</p>\n",
       "</div>"
      ],
      "text/plain": [
       "     Validation_Set  Topics       Alpha       Beta  Coherence\n",
       "0        75% Corpus       1        0.01       0.01   0.573277\n",
       "1        75% Corpus       1        0.01       0.31   0.573277\n",
       "2        75% Corpus       1        0.01       0.61   0.573277\n",
       "3        75% Corpus       1        0.01       0.91   0.573277\n",
       "4        75% Corpus       1        0.01  symmetric   0.573277\n",
       "...             ...     ...         ...        ...        ...\n",
       "1435    100% Corpus      24  asymmetric       0.01   0.574216\n",
       "1436    100% Corpus      24  asymmetric       0.31   0.585426\n",
       "1437    100% Corpus      24  asymmetric       0.61   0.539901\n",
       "1438    100% Corpus      24  asymmetric       0.91   0.524498\n",
       "1439    100% Corpus      24  asymmetric  symmetric   0.584984\n",
       "\n",
       "[1440 rows x 5 columns]"
      ]
     },
     "execution_count": 20,
     "metadata": {},
     "output_type": "execute_result"
    }
   ],
   "source": [
    "# TODO: Graph the coherence scores based on some common criteria\n",
    "model_results_df"
   ]
  },
  {
   "cell_type": "code",
   "execution_count": 21,
   "id": "fcfa2d90-e160-4a3c-b9a7-75a2f6022a11",
   "metadata": {
    "tags": []
   },
   "outputs": [],
   "source": [
    "num_topics = 8\n",
    "alpha      = 0.01\n",
    "beta       = 0.9\n",
    "\n",
    "lda_model = gensim.models.LdaMulticore(corpus=corpus,\n",
    "                                           id2word=id2word,\n",
    "                                           num_topics=num_topics, \n",
    "                                           random_state=100,\n",
    "                                           chunksize=100,\n",
    "                                           passes=10,\n",
    "                                           alpha=alpha,\n",
    "                                           eta=beta)"
   ]
  },
  {
   "cell_type": "code",
   "execution_count": 28,
   "id": "e8327b23-62a6-42ba-a19d-0dc07401c49d",
   "metadata": {
    "tags": []
   },
   "outputs": [
    {
     "name": "stderr",
     "output_type": "stream",
     "text": [
      "/home/ec2-user/anaconda3/envs/amazonei_pytorch_latest_p37/lib/python3.7/site-packages/pyLDAvis/_prepare.py:247: FutureWarning: In a future version of pandas all arguments of DataFrame.drop except for the argument 'labels' will be keyword-only\n",
      "  by='saliency', ascending=False).head(R).drop('saliency', 1)\n"
     ]
    },
    {
     "data": {
      "text/html": [
       "\n",
       "<link rel=\"stylesheet\" type=\"text/css\" href=\"https://cdn.jsdelivr.net/gh/bmabey/pyLDAvis@3.3.1/pyLDAvis/js/ldavis.v1.0.0.css\">\n",
       "\n",
       "\n",
       "<div id=\"ldavis_el165121398402002966564818819811\"></div>\n",
       "<script type=\"text/javascript\">\n",
       "\n",
       "var ldavis_el165121398402002966564818819811_data = {\"mdsDat\": {\"x\": [-0.24833016490033055, -0.22125823853669274, -0.1848683473023033, 0.08246518484669586, 0.22392958721623135, 0.18046184767948317, -0.021266229218532263, 0.18886636021544861], \"y\": [-0.0026069913845707046, 0.029570905251203282, -0.11453739940402696, -0.15439231375408244, -0.15561788948386274, 0.2633012583303645, 0.19310071340893695, -0.05881828296396156], \"topics\": [1, 2, 3, 4, 5, 6, 7, 8], \"cluster\": [1, 1, 1, 1, 1, 1, 1, 1], \"Freq\": [28.030107883301785, 21.3606456155544, 19.671027797629936, 8.032057677132585, 7.360167233626055, 6.203052980677769, 5.2985784226485855, 4.044362389428888]}, \"tinfo\": {\"Term\": [\"transmitter\", \"evaluation\", \"device\", \"product\", \"datum\", \"connection\", \"information\", \"perform\", \"available\", \"glucose\", \"error\", \"fail\", \"loss\", \"submit\", \"return\", \"provide\", \"confirmation\", \"hour\", \"supplemental\", \"new\", \"relevant\", \"become\", \"bg\", \"signal\", \"patient\", \"customer\", \"report\", \"event\", \"confirm\", \"additional\", \"establish\", \"window\", \"review\", \"log\", \"download\", \"share\", \"exterior\", \"defective\", \"check\", \"find\", \"restore\", \"measurement\", \"perform\", \"investigation\", \"pass\", \"loss\", \"signal\", \"pair\", \"allege\", \"present\", \"visual\", \"inspection\", \"unable\", \"external\", \"nordic\", \"voltage\", \"testing\", \"physical\", \"connection\", \"full\", \"test\", \"hour\", \"confirm\", \"mobile\", \"allegation\", \"probable\", \"intervention\", \"injury\", \"medical\", \"occur\", \"report\", \"cause\", \"determined\", \"transmitter\", \"evaluate\", \"product\", \"confirmation\", \"provide\", \"miss\", \"ambiguity\", \"line\", \"wire\", \"tool\", \"icon\", \"case\", \"display\", \"service\", \"audio_output\", \"shutdown\", \"complaint\", \"detached\", \"complete\", \"frozen\", \"broken\", \"unexpected\", \"undetermined\", \"evaluation\", \"product\", \"pende\", \"vibration\", \"datum\", \"receiver\", \"deploy\", \"follow\", \"determined\", \"freeze\", \"injury\", \"medical\", \"intervention\", \"probable\", \"allegation\", \"occur\", \"report\", \"cause\", \"hour\", \"fail\", \"error\", \"signal\", \"loss\", \"sensor\", \"transmitter\", \"support\", \"early\", \"expiration\", \"insert\", \"share\", \"zone\", \"grid\", \"parke\", \"fall\", \"difference\", \"compare\", \"potential\", \"value\", \"accurate\", \"low\", \"range\", \"evaluate\", \"determine\", \"insert\", \"lead\", \"arm\", \"pod\", \"remove\", \"command\", \"early\", \"upper_buttock\", \"counts_aberration\", \"calibration\", \"misuse\", \"stopped_worke\", \"data\", \"progressive\", \"thigh\", \"expiration\", \"error\", \"glucose\", \"datum\", \"confirm\", \"fail\", \"blood\", \"sensor\", \"report\", \"transmitter\", \"allegation\", \"probable\", \"intervention\", \"medical\", \"injury\", \"occur\", \"cause\", \"determined\", \"inaccuracy\", \"continuous\", \"monitor\", \"meter\", \"invalid\", \"month\", \"start\", \"less\", \"attempt\", \"battery\", \"initiate\", \"multiple\", \"finding\", \"due\", \"alert\", \"customer\", \"send\", \"replacement\", \"end\", \"root\", \"message\", \"additionally\", \"session\", \"addition\", \"event\", \"receive\", \"additional\", \"unknown\", \"intermittent\", \"reportable\", \"base\", \"test\", \"transmitter\", \"fatal\", \"voltage\", \"fail\", \"patient\", \"error\", \"unable\", \"external\", \"available\", \"information\", \"visual\", \"inspection\", \"determined\", \"cause\", \"report\", \"sensor\", \"perform\", \"pass\", \"evaluate\", \"read\", \"reading\", \"reportedly\", \"second\", \"bg\", \"continued\", \"value_resolve\", \"reaction\", \"state\", \"enter\", \"hospital\", \"correction\", \"address\", \"instruct\", \"meter\", \"insulin\", \"consciousness\", \"administer\", \"monitor\", \"continuous\", \"take\", \"inaccuracy\", \"call\", \"code\", \"know\", \"require\", \"emergency\", \"third\", \"period\", \"blood\", \"glucose\", \"root\", \"replacement\", \"send\", \"additional\", \"patient\", \"customer\", \"event\", \"skin\", \"sensor\", \"information\", \"available\", \"calibration\", \"cause\", \"determined\", \"report\", \"issue\", \"value\", \"technical\", \"determine\", \"relevant\", \"become\", \"new\", \"user_guide\", \"supplemental\", \"return\", \"submit\", \"portion\", \"upper_right\", \"states_make\", \"sure\", \"calibrate\", \"cgm\", \"show\", \"without_obstruction\", \"foot\", \"labeling\", \"discoloration\", \"bruise\", \"bleed\", \"swell\", \"irritation\", \"infection\", \"keep\", \"pain\", \"itching\", \"available\", \"information\", \"redness\", \"medwatch\", \"tandem\", \"evaluation\", \"product\", \"skin\", \"report\", \"sensor\", \"glucose\", \"reading\", \"cause\", \"insert\", \"indicate\", \"system\", \"expect\", \"yet\", \"smart\", \"prematurely\", \"impact\", \"indicate\", \"operate\", \"adverse\", \"device\", \"com\", \"functional\", \"relate\", \"charge\", \"usage\", \"label\", \"application\", \"boot\", \"internal\", \"however\", \"expire\", \"receive\", \"upon_completion\", \"manually\", \"resistance\", \"speaker\", \"mobile\", \"specification\", \"support\", \"receiver\", \"crash\", \"submit\", \"return\", \"alert\", \"supplemental\", \"resolve\", \"report\", \"perform\", \"sensor\", \"replace\", \"evaluation\", \"expiration\", \"occur\", \"loss\", \"determined\", \"pump\", \"great\", \"regain\", \"ultimately\", \"lose\", \"duration\", \"unspecified\", \"regard\", \"unsupported\", \"declined_assistance\", \"replace\", \"respond\", \"issue\", \"operating\", \"time\", \"contact\", \"make\", \"technical\", \"obtain\", \"resolve\", \"number\", \"use\", \"incorrectly\", \"opposite\", \"side\", \"tandem\", \"reset\", \"correct\", \"wear\", \"investigate\", \"connection\", \"additional\", \"event\", \"patient\", \"information\", \"available\", \"transmitter\", \"hour\", \"report\", \"customer\", \"intermittent\", \"support\", \"multiple\", \"reportedly\", \"occur\", \"loss\"], \"Freq\": [3670.0, 2241.0, 1084.0, 2315.0, 2888.0, 1097.0, 1369.0, 2306.0, 1353.0, 1132.0, 2136.0, 2047.0, 3023.0, 777.0, 772.0, 1453.0, 1330.0, 1848.0, 743.0, 691.0, 607.0, 611.0, 749.0, 2561.0, 969.0, 856.0, 9722.0, 813.0, 2327.0, 769.0, 290.0568029317791, 1237.7412185090395, 1168.9524945923029, 1170.1621645516273, 123.68054043877288, 1150.343803631185, 74.06954660621226, 49.95066706925123, 74.47371600011927, 1252.8791875814675, 42.272117361559644, 40.69340508839016, 1985.556838489782, 1240.2945747219958, 649.9385745642213, 2353.8708057459176, 1968.8359895245162, 216.98360287971278, 59.66626118808535, 64.15997874494558, 294.5754161031946, 295.5104962014718, 337.3852379600907, 273.9706718394535, 18.930859787410586, 269.83614845407106, 31.93824340783167, 13.319281221626078, 720.7818452635456, 14.677283982841633, 261.30185838221973, 1109.6350819288277, 1220.7679961132094, 128.70102962567515, 1292.364537561207, 1296.0989857700474, 1260.8707083990507, 1208.0313589276736, 1210.699157487375, 1224.437067337193, 2409.126754783285, 1250.8098298452248, 765.3583137576398, 487.28791122459523, 302.49519840296347, 305.72023462650577, 1283.9638428537146, 1385.3244005784993, 96.57237402760643, 45.73344535777188, 45.72854776127166, 79.21063061286956, 45.449092645232334, 31.268372341114482, 46.257798944493715, 61.20119870665173, 46.07990991120591, 24.647889337548524, 23.59710938690584, 61.363304178629534, 18.286205153107616, 44.29795858051521, 14.650648728208695, 13.672905428420204, 28.584623086314487, 110.8714042278915, 1463.4262973846778, 1351.6916855584002, 26.540861660477987, 8.497724594589286, 1480.9467651895445, 47.43355151141558, 5.553053244770349, 22.19158465067505, 1378.6009204368593, 3.7113541890084685, 1405.3340407284786, 1406.7648350116265, 1407.7877117141884, 1377.8388842545016, 1346.587146960383, 1359.7360748231326, 2814.0782008312767, 1368.5418041651365, 552.0539947526971, 531.3011629794829, 536.7972109667654, 549.1580981500038, 564.5515671418144, 278.4217728995761, 504.2090016286959, 85.64012444479324, 78.3934032415247, 76.65392985915975, 74.65940854534473, 80.56301984544625, 243.45851316687137, 250.81645596685692, 249.3300364081672, 248.45666046169208, 66.50939957438212, 43.69077595719931, 47.86966396679794, 338.6952057796932, 42.17454215329887, 268.0835114438233, 42.36841773940399, 1069.2648211924984, 504.0430980349307, 213.20398556060437, 18.0296396506361, 40.14943144014251, 13.57026507161706, 23.80028439858611, 10.57380250053696, 141.11631151693055, 12.577305898959027, 10.23590891389971, 81.41348867042116, 59.10126078082817, 8.21962828843748, 19.444670146751154, 7.230374432921563, 6.399308071276178, 138.6746799438021, 1072.811256853943, 561.7794570608834, 1372.1517276387615, 1053.6662187268387, 806.1934913167262, 213.37361024308927, 507.09258763644567, 2564.6349036193365, 1105.7704155663448, 1146.6139511385325, 1154.044652372981, 1130.6053555815054, 1111.767010968582, 1102.5282924004584, 1128.691382919103, 1134.8732398857442, 649.5849218678303, 171.7809810282287, 171.63745597295838, 172.17921784014442, 170.9005536035237, 127.14154332162485, 144.0614684258409, 100.94964535437973, 134.20519402332346, 116.40985426299916, 38.131179219877325, 23.61189967465076, 120.56801077898544, 35.19115736015853, 89.66049351410311, 168.21815468721832, 509.21826816344407, 263.74175293462133, 264.4015881429799, 24.530337205456778, 266.7888260083336, 32.831286427430776, 7.242646449909916, 147.49503456957444, 23.491695506189362, 306.67406201557316, 245.26653536865402, 274.7768667239636, 15.528110919207023, 34.03102844836381, 37.087323547365806, 36.747840370578636, 128.61818915513285, 1144.8012233427635, 3.075376581765243, 112.02159115552264, 567.4415645597122, 266.65032268680125, 492.9961788076804, 123.64408205082097, 104.03696254250869, 279.720694923143, 275.2556080915606, 103.15091895304582, 103.22197482149666, 322.79881763862926, 347.59169744393796, 404.5292387886697, 129.3915211795501, 141.28819555355687, 111.1330983307573, 106.38589137629923, 506.0946837292369, 525.9910368431915, 300.1603258761305, 24.369986839047577, 575.5039206654795, 16.02667978329539, 16.026025536948513, 15.285975477686755, 36.73575462765696, 41.681544342389074, 12.983454506972244, 12.304663749682273, 15.61923850145685, 16.594345031782144, 292.77187797889826, 11.751807383318747, 9.275464615581264, 8.94976076052765, 262.79290978531026, 260.1991731648831, 9.130297951927757, 257.1641040169137, 8.673120027591622, 13.918615603631086, 8.149909265744629, 9.583610361841272, 8.189270053739403, 7.5825529371778, 7.514951407525907, 272.1053173685078, 551.9048630283307, 226.37749387142864, 196.73036456471817, 195.01324523609048, 265.6883835359809, 317.394875050872, 276.98154495610663, 264.26083728113116, 19.187366371424147, 282.46885362260207, 267.9759285829517, 261.702770471354, 49.28267048743878, 240.99802157665098, 200.26443414736127, 285.1403202770921, 47.45760800703393, 49.13772119204782, 21.763777777624686, 33.90245462475222, 598.3483702288871, 597.1702612504042, 602.8319764647744, 33.859027764540876, 595.1851262519025, 610.1129995245082, 600.9508024507452, 12.409098960318367, 12.408443789530807, 10.019634244420674, 10.01922904926418, 13.70843709547757, 12.342333808285156, 12.571211315601909, 8.259214704100488, 8.259214704100488, 7.153261597622537, 7.152965597597303, 7.1529561219867395, 7.152860463441999, 7.1526181585432935, 7.1462568653180645, 7.155240195352189, 8.161168305498101, 7.259210655435213, 7.153091036632387, 594.1987675336688, 594.8153716837954, 7.150451402261016, 4.8321038509626675, 30.205864038473443, 602.1128552327374, 600.432903479765, 14.118042471859964, 604.5222088039891, 21.547866910132736, 13.281707937147564, 9.670770239070158, 10.122121545840674, 8.458284647900527, 7.381393690241597, 225.81793294046918, 138.45265472009896, 137.08511149120667, 105.22020352809265, 53.117791966256775, 52.1054333070814, 139.15360094782832, 251.67299662081734, 53.85770637399936, 891.6980281272764, 26.78859487299105, 16.602673993601027, 101.7347067229576, 16.00833216306162, 101.77019064569791, 101.76849476826419, 94.49923640177963, 14.398415673049815, 9.130546289108516, 265.1051105823779, 11.506063563156635, 326.74434747755686, 22.862786617793727, 5.8780684393393035, 4.82809329155072, 4.828070551376041, 101.4238986405607, 101.52680448323841, 107.87103879497032, 39.228805540640344, 12.35181536897713, 167.13914303012066, 153.37566078483954, 62.17778589985593, 140.92473833863622, 46.49752739317316, 392.05479517393, 168.50764828402987, 118.36932179716922, 41.64793769887005, 128.775127061201, 48.1444217197737, 82.10483909214871, 71.34190054105804, 57.6195571989053, 324.0889923815873, 159.68771292061163, 81.4361801393309, 65.27380907688853, 198.00251838208393, 37.26141529740307, 34.20952904755572, 28.715529407527768, 20.68031095964983, 16.686903236812626, 124.26317343453766, 12.715768285119696, 199.83811386504587, 18.962207963049032, 36.50594860089847, 11.964608575585455, 14.07984872048071, 34.92068320270624, 12.957892735970203, 100.6853711169764, 11.944857627686398, 21.590852722535384, 5.7622919786544005, 5.6146270480527845, 5.6146270480527845, 35.21253687825088, 4.506196591271949, 4.657470682812937, 7.233591677357104, 6.387153413986166, 318.69745431410286, 222.361311589425, 219.89425062444337, 248.99413743204207, 224.86962548753036, 211.4874074538222, 418.49735598086875, 166.83701003767885, 248.82953992343047, 64.14341092720716, 24.724715291051954, 35.92518318079987, 28.336622817196382, 32.57169957996674, 32.67378223179869, 27.17931188281223], \"Total\": [3670.0, 2241.0, 1084.0, 2315.0, 2888.0, 1097.0, 1369.0, 2306.0, 1353.0, 1132.0, 2136.0, 2047.0, 3023.0, 777.0, 772.0, 1453.0, 1330.0, 1848.0, 743.0, 691.0, 607.0, 611.0, 749.0, 2561.0, 969.0, 856.0, 9722.0, 813.0, 2327.0, 769.0, 296.39279991154524, 1266.3940178237037, 1200.407985931724, 1202.8317728071713, 135.19999799267086, 1265.7857104102172, 82.23798568787805, 56.7494644361978, 84.81579682936685, 1427.7981420635708, 48.34313721403516, 47.03662497838857, 2306.535028063465, 1447.7424617866473, 788.6138324591137, 3023.7825903804946, 2561.296502346422, 286.54362252357197, 78.93891084807736, 85.60006047047534, 410.0437164007958, 411.61757292483367, 476.7300604645219, 387.56394912453345, 27.29606074611848, 389.5911537595562, 46.74838491924348, 19.80140050722056, 1097.6186020066257, 22.61787565699115, 407.87309511745707, 1848.438220123141, 2327.9825452356, 237.03801953743175, 3842.415173552049, 3882.19954719825, 3851.9804786790955, 3767.181214836475, 3782.804572227874, 3886.853162193006, 9722.91596220101, 4403.316609445053, 3383.537161110589, 3670.9601311630504, 1492.4733242335221, 2315.9533454928765, 1330.459341027806, 1453.7545584849083, 104.81042964873221, 52.00371549338425, 52.00327422208769, 90.62051717503216, 52.69041719981259, 37.35211457373679, 56.04829889788737, 75.62735620915615, 57.022393681733305, 30.731433785004572, 29.609141681294197, 82.43837593793856, 24.97640246040174, 63.18826117445448, 21.02712041027186, 19.946979964718754, 43.375479501175136, 169.79124597209875, 2241.4474958414194, 2315.9533454928765, 46.17931161539277, 15.16377768234964, 2888.2103253792643, 94.85665876282341, 11.605565817800489, 52.612834142899544, 3383.537161110589, 9.70059287599761, 3767.181214836475, 3782.804572227874, 3851.9804786790955, 3882.19954719825, 3842.415173552049, 3886.853162193006, 9722.91596220101, 4403.316609445053, 1848.438220123141, 2047.4077025707209, 2136.339415142866, 2561.296502346422, 3023.7825903804946, 1345.9677025955841, 3670.9601311630504, 254.86701936496792, 225.47314521035497, 269.71795394479994, 315.6867981831494, 1265.7857104102172, 250.29067329107113, 257.87920912107035, 256.3944943617706, 255.5262288402424, 72.85415272087975, 49.90716668318689, 55.183361653213595, 394.2628916544065, 54.92369808776081, 361.3387571190673, 58.27144929646928, 1492.4733242335221, 712.3159375408525, 315.6867981831494, 27.011973356437395, 60.832421847815276, 20.72138884397817, 36.77547728395593, 16.519553107676032, 225.47314521035497, 20.558952412236483, 16.84144678052032, 136.16731495981782, 104.7906788636555, 14.606438911079469, 35.215120361435964, 13.172045807470337, 12.355717238130124, 269.71795394479994, 2136.339415142866, 1132.528378316904, 2888.2103253792643, 2327.9825452356, 2047.4077025707209, 492.5147149971281, 1345.9677025955841, 9722.91596220101, 3670.9601311630504, 3842.415173552049, 3882.19954719825, 3851.9804786790955, 3782.804572227874, 3767.181214836475, 3886.853162193006, 4403.316609445053, 3383.537161110589, 435.53897401544134, 438.75662721435714, 441.7688837956624, 470.6698254137832, 133.77447706505532, 152.08405813553088, 111.753428803332, 151.34679252625324, 139.90782570605276, 47.06641829707191, 29.749458501201076, 161.61395158828006, 49.13206291208666, 131.28443581201148, 251.1801043284715, 856.9348353764238, 466.6798038441925, 469.0839721430147, 44.01609489344552, 513.7102996294169, 64.41194889621426, 15.38684710250525, 317.1468212840669, 53.205067374995004, 813.8143874738544, 671.8831409086662, 769.7057902426819, 43.780193293770424, 99.60819730772201, 109.07079468762598, 112.01370233820165, 407.87309511745707, 3670.9601311630504, 10.387142224982076, 389.5911537595562, 2047.4077025707209, 969.5350578896716, 2136.339415142866, 476.7300604645219, 387.56394912453345, 1353.868342896814, 1369.5476728044414, 410.0437164007958, 411.61757292483367, 3383.537161110589, 4403.316609445053, 9722.91596220101, 1345.9677025955841, 2306.535028063465, 788.6138324591137, 1492.4733242335221, 514.3484250532357, 542.7238286434258, 346.8178240836036, 30.389784462419623, 749.9081717104499, 21.999901714720895, 21.999870931098986, 21.36433842196505, 51.37880271650951, 60.700560398163475, 19.14789550302081, 18.261993207063593, 23.73440855584687, 25.45247911050835, 470.6698254137832, 19.30258309860738, 15.333639610072524, 14.98395747896428, 441.7688837956624, 438.75662721435714, 15.40478292621264, 435.53897401544134, 14.759152439960195, 23.834272669922882, 14.189272704210447, 16.741950077179265, 14.337143433347256, 13.522149662678961, 13.480695150560512, 492.5147149971281, 1132.528378316904, 513.7102996294169, 469.0839721430147, 466.6798038441925, 769.7057902426819, 969.5350578896716, 856.9348353764238, 813.8143874738544, 39.025867713018584, 1345.9677025955841, 1369.5476728044414, 1353.868342896814, 136.16731495981782, 4403.316609445053, 3383.537161110589, 9722.91596220101, 307.1631731796676, 394.2628916544065, 62.27588809272652, 712.3159375408525, 607.2384243034221, 611.2567418887978, 691.9171381561376, 40.037731967052544, 743.6532700437933, 772.7670568336725, 777.0014772197293, 18.392629581506345, 18.392646667674253, 16.00235525747068, 16.00236589923781, 22.344112500620504, 20.89302591076767, 21.579467826339076, 14.322815370474574, 14.322815581288399, 13.117203261886775, 13.117212338326675, 13.117211392027006, 13.117214022259326, 13.117221746576076, 13.894216199474576, 14.639252710163474, 16.792400138682478, 16.27454356903081, 16.102600177528604, 1353.868342896814, 1369.5476728044414, 16.843937826354818, 11.626416473983031, 76.5769218658215, 2241.4474958414194, 2315.9533454928765, 39.025867713018584, 9722.91596220101, 1345.9677025955841, 1132.528378316904, 542.7238286434258, 4403.316609445053, 315.6867981831494, 160.17796547247156, 235.22943100591579, 145.5457905924718, 144.1355546280302, 111.83882583941764, 59.628110225931714, 59.516946694975175, 160.17796547247156, 289.8966777693401, 62.777895214724715, 1084.8883474757977, 32.83560906771523, 23.33307242810745, 142.99463723260646, 22.787379501264137, 145.4548221154112, 145.4547066157462, 135.38261360755348, 21.209302112834028, 15.47510118588804, 454.97229213524605, 20.69234476643424, 671.8831409086662, 49.5137690642908, 12.87744124092673, 10.999222899624355, 10.999224425539076, 237.03801953743175, 238.10624695870249, 254.86701936496792, 94.85665876282341, 31.88854290032486, 777.0014772197293, 772.7670568336725, 251.1801043284715, 743.6532700437933, 194.75759518636409, 9722.91596220101, 2306.535028063465, 1345.9677025955841, 175.06933946668408, 2241.4474958414194, 269.71795394479994, 3886.853162193006, 3023.7825903804946, 3383.537161110589, 333.89581843870303, 169.47254858836797, 87.94294618614423, 71.51190542844377, 218.85776554422975, 43.636092388335776, 42.39669731912544, 36.44342361727251, 27.801537933768927, 22.713909418860048, 175.06933946668408, 19.241560297037598, 307.1631731796676, 29.365300475021797, 56.7980748442171, 19.680398121152194, 23.237795277554955, 62.27588809272652, 23.210088115055214, 194.75759518636409, 23.267431342086127, 43.304501785066094, 11.908951986118623, 11.651487550722772, 11.651487550722772, 76.5769218658215, 10.528898505728456, 11.834259307105489, 20.197755414762426, 18.557468605021175, 1097.6186020066257, 769.7057902426819, 813.8143874738544, 969.5350578896716, 1369.5476728044414, 1353.868342896814, 3670.9601311630504, 1848.438220123141, 9722.91596220101, 856.9348353764238, 99.60819730772201, 254.86701936496792, 161.61395158828006, 346.8178240836036, 3886.853162193006, 3023.7825903804946], \"Category\": [\"Default\", \"Default\", \"Default\", \"Default\", \"Default\", \"Default\", \"Default\", \"Default\", \"Default\", \"Default\", \"Default\", \"Default\", \"Default\", \"Default\", \"Default\", \"Default\", \"Default\", \"Default\", \"Default\", \"Default\", \"Default\", \"Default\", \"Default\", \"Default\", \"Default\", \"Default\", \"Default\", \"Default\", \"Default\", \"Default\", \"Topic1\", \"Topic1\", \"Topic1\", \"Topic1\", \"Topic1\", \"Topic1\", \"Topic1\", \"Topic1\", \"Topic1\", \"Topic1\", \"Topic1\", \"Topic1\", \"Topic1\", \"Topic1\", \"Topic1\", \"Topic1\", \"Topic1\", \"Topic1\", \"Topic1\", \"Topic1\", \"Topic1\", \"Topic1\", \"Topic1\", \"Topic1\", \"Topic1\", \"Topic1\", \"Topic1\", \"Topic1\", \"Topic1\", \"Topic1\", \"Topic1\", \"Topic1\", \"Topic1\", \"Topic1\", \"Topic1\", \"Topic1\", \"Topic1\", \"Topic1\", \"Topic1\", \"Topic1\", \"Topic1\", \"Topic1\", \"Topic1\", \"Topic1\", \"Topic1\", \"Topic1\", \"Topic2\", \"Topic2\", \"Topic2\", \"Topic2\", \"Topic2\", \"Topic2\", \"Topic2\", \"Topic2\", \"Topic2\", \"Topic2\", \"Topic2\", \"Topic2\", \"Topic2\", \"Topic2\", \"Topic2\", \"Topic2\", \"Topic2\", \"Topic2\", \"Topic2\", \"Topic2\", \"Topic2\", \"Topic2\", \"Topic2\", \"Topic2\", \"Topic2\", \"Topic2\", \"Topic2\", \"Topic2\", \"Topic2\", \"Topic2\", \"Topic2\", \"Topic2\", \"Topic2\", \"Topic2\", \"Topic2\", \"Topic2\", \"Topic2\", \"Topic2\", \"Topic2\", \"Topic2\", \"Topic2\", \"Topic2\", \"Topic2\", \"Topic2\", \"Topic2\", \"Topic2\", \"Topic2\", \"Topic2\", \"Topic2\", \"Topic2\", \"Topic3\", \"Topic3\", \"Topic3\", \"Topic3\", \"Topic3\", \"Topic3\", \"Topic3\", \"Topic3\", \"Topic3\", \"Topic3\", \"Topic3\", \"Topic3\", \"Topic3\", \"Topic3\", \"Topic3\", \"Topic3\", \"Topic3\", \"Topic3\", \"Topic3\", \"Topic3\", \"Topic3\", \"Topic3\", \"Topic3\", \"Topic3\", \"Topic3\", \"Topic3\", \"Topic3\", \"Topic3\", \"Topic3\", \"Topic3\", \"Topic3\", \"Topic3\", \"Topic3\", \"Topic3\", \"Topic3\", \"Topic3\", \"Topic3\", \"Topic3\", \"Topic3\", \"Topic3\", \"Topic3\", \"Topic3\", \"Topic3\", \"Topic3\", \"Topic3\", \"Topic3\", \"Topic3\", \"Topic3\", \"Topic3\", \"Topic3\", \"Topic4\", \"Topic4\", \"Topic4\", \"Topic4\", \"Topic4\", \"Topic4\", \"Topic4\", \"Topic4\", \"Topic4\", \"Topic4\", \"Topic4\", \"Topic4\", \"Topic4\", \"Topic4\", \"Topic4\", \"Topic4\", \"Topic4\", \"Topic4\", \"Topic4\", \"Topic4\", \"Topic4\", \"Topic4\", \"Topic4\", \"Topic4\", \"Topic4\", \"Topic4\", \"Topic4\", \"Topic4\", \"Topic4\", \"Topic4\", \"Topic4\", \"Topic4\", \"Topic4\", \"Topic4\", \"Topic4\", \"Topic4\", \"Topic4\", \"Topic4\", \"Topic4\", \"Topic4\", \"Topic4\", \"Topic4\", \"Topic4\", \"Topic4\", \"Topic4\", \"Topic4\", \"Topic4\", \"Topic5\", \"Topic5\", \"Topic5\", \"Topic5\", \"Topic5\", \"Topic5\", \"Topic5\", \"Topic5\", \"Topic5\", \"Topic5\", \"Topic5\", \"Topic5\", \"Topic5\", \"Topic5\", \"Topic5\", \"Topic5\", \"Topic5\", \"Topic5\", \"Topic5\", \"Topic5\", \"Topic5\", \"Topic5\", \"Topic5\", \"Topic5\", \"Topic5\", \"Topic5\", \"Topic5\", \"Topic5\", \"Topic5\", \"Topic5\", \"Topic5\", \"Topic5\", \"Topic5\", \"Topic5\", \"Topic5\", \"Topic5\", \"Topic5\", \"Topic5\", \"Topic5\", \"Topic5\", \"Topic5\", \"Topic5\", \"Topic5\", \"Topic5\", \"Topic5\", \"Topic5\", \"Topic5\", \"Topic5\", \"Topic5\", \"Topic5\", \"Topic6\", \"Topic6\", \"Topic6\", \"Topic6\", \"Topic6\", \"Topic6\", \"Topic6\", \"Topic6\", \"Topic6\", \"Topic6\", \"Topic6\", \"Topic6\", \"Topic6\", \"Topic6\", \"Topic6\", \"Topic6\", \"Topic6\", \"Topic6\", \"Topic6\", \"Topic6\", \"Topic6\", \"Topic6\", \"Topic6\", \"Topic6\", \"Topic6\", \"Topic6\", \"Topic6\", \"Topic6\", \"Topic6\", \"Topic6\", \"Topic6\", \"Topic6\", \"Topic6\", \"Topic6\", \"Topic6\", \"Topic6\", \"Topic6\", \"Topic6\", \"Topic6\", \"Topic6\", \"Topic6\", \"Topic7\", \"Topic7\", \"Topic7\", \"Topic7\", \"Topic7\", \"Topic7\", \"Topic7\", \"Topic7\", \"Topic7\", \"Topic7\", \"Topic7\", \"Topic7\", \"Topic7\", \"Topic7\", \"Topic7\", \"Topic7\", \"Topic7\", \"Topic7\", \"Topic7\", \"Topic7\", \"Topic7\", \"Topic7\", \"Topic7\", \"Topic7\", \"Topic7\", \"Topic7\", \"Topic7\", \"Topic7\", \"Topic7\", \"Topic7\", \"Topic7\", \"Topic7\", \"Topic7\", \"Topic7\", \"Topic7\", \"Topic7\", \"Topic7\", \"Topic7\", \"Topic7\", \"Topic7\", \"Topic7\", \"Topic7\", \"Topic7\", \"Topic7\", \"Topic7\", \"Topic8\", \"Topic8\", \"Topic8\", \"Topic8\", \"Topic8\", \"Topic8\", \"Topic8\", \"Topic8\", \"Topic8\", \"Topic8\", \"Topic8\", \"Topic8\", \"Topic8\", \"Topic8\", \"Topic8\", \"Topic8\", \"Topic8\", \"Topic8\", \"Topic8\", \"Topic8\", \"Topic8\", \"Topic8\", \"Topic8\", \"Topic8\", \"Topic8\", \"Topic8\", \"Topic8\", \"Topic8\", \"Topic8\", \"Topic8\", \"Topic8\", \"Topic8\", \"Topic8\", \"Topic8\", \"Topic8\", \"Topic8\", \"Topic8\", \"Topic8\", \"Topic8\", \"Topic8\", \"Topic8\", \"Topic8\", \"Topic8\", \"Topic8\", \"Topic8\", \"Topic8\"], \"logprob\": [30.0, 29.0, 28.0, 27.0, 26.0, 25.0, 24.0, 23.0, 22.0, 21.0, 20.0, 19.0, 18.0, 17.0, 16.0, 15.0, 14.0, 13.0, 12.0, 11.0, 10.0, 9.0, 8.0, 7.0, 6.0, 5.0, 4.0, 3.0, 2.0, 1.0, -4.7939, -3.3429, -3.4001, -3.399, -5.6462, -3.4161, -6.1589, -6.5529, -6.1535, -3.3307, -6.7198, -6.7579, -2.8703, -3.3408, -3.9871, -2.7001, -2.8787, -5.0841, -6.3752, -6.3026, -4.7784, -4.7752, -4.6427, -4.8509, -7.5231, -4.8661, -7.0001, -7.8747, -3.8836, -7.7776, -4.8983, -3.4521, -3.3567, -5.6064, -3.2997, -3.2968, -3.3244, -3.3672, -3.365, -3.3537, -2.6769, -3.3324, -3.8236, -4.2751, -4.7519, -4.7413, -3.0345, -2.9585, -5.6219, -6.3694, -6.3695, -5.8201, -6.3756, -6.7496, -6.358, -6.078, -6.3618, -6.9875, -7.0311, -6.0754, -7.2861, -6.4013, -7.5077, -7.5768, -6.8393, -5.4838, -2.9037, -2.9831, -6.9135, -8.0524, -2.8918, -6.3329, -8.4779, -7.0925, -2.9634, -8.8808, -2.9442, -2.9432, -2.9424, -2.9639, -2.9869, -2.9772, -2.2498, -2.9707, -3.8786, -3.9169, -3.9066, -3.8838, -3.8562, -4.5631, -3.9692, -5.742, -5.8305, -5.8529, -5.8793, -5.8032, -4.6149, -4.5851, -4.591, -4.5945, -5.9125, -6.3327, -6.2413, -4.2847, -6.368, -4.5185, -6.3634, -3.1351, -3.8871, -4.7475, -7.2178, -6.4172, -7.5019, -6.9401, -7.7514, -5.1602, -7.5779, -7.7839, -5.7103, -6.0305, -8.0033, -7.1422, -8.1315, -8.2536, -5.1777, -3.1318, -3.7787, -2.8857, -3.1498, -3.4175, -4.7468, -3.8811, -2.2602, -3.1015, -3.0652, -3.0588, -3.0793, -3.0961, -3.1044, -3.081, -3.0755, -3.6335, -4.9636, -4.9644, -4.9613, -4.9687, -4.3688, -4.2439, -4.5995, -4.3147, -4.457, -5.5731, -6.0523, -4.4219, -5.6533, -4.7181, -4.0888, -2.9812, -3.6391, -3.6366, -6.0142, -3.6276, -5.7227, -7.2341, -4.2203, -6.0574, -3.4883, -3.7117, -3.5981, -6.4714, -5.6868, -5.6008, -5.61, -4.3572, -2.1711, -8.0907, -4.4954, -2.873, -3.6282, -3.0136, -4.3967, -4.5693, -3.5803, -3.5964, -4.5779, -4.5772, -3.4371, -3.3631, -3.2114, -4.3512, -4.2633, -4.5034, -4.547, -2.9, -2.8614, -3.4224, -5.9334, -2.7715, -6.3525, -6.3525, -6.3998, -5.523, -5.3967, -6.5631, -6.6168, -6.3782, -6.3177, -3.4473, -6.6627, -6.8994, -6.9351, -3.5554, -3.5653, -6.9151, -3.577, -6.9665, -6.4935, -7.0287, -6.8667, -7.0239, -7.1009, -7.1098, -3.5205, -2.8134, -3.7045, -3.8449, -3.8537, -3.5444, -3.3666, -3.5028, -3.5498, -6.1725, -3.4832, -3.5358, -3.5595, -5.2292, -3.6419, -3.8271, -3.4738, -5.2669, -5.2321, -6.0465, -5.6032, -2.5615, -2.5635, -2.5541, -5.4335, -2.5668, -2.542, -2.5572, -6.4373, -6.4373, -6.6511, -6.6512, -6.3377, -6.4427, -6.4243, -6.8444, -6.8444, -6.9881, -6.9882, -6.9882, -6.9882, -6.9882, -6.9891, -6.9878, -6.8563, -6.9734, -6.9881, -2.5685, -2.5674, -6.9885, -7.3804, -5.5477, -2.5552, -2.558, -6.3082, -2.5513, -5.8854, -6.3693, -6.6866, -6.641, -6.8205, -6.9567, -3.3784, -3.8676, -3.8775, -4.142, -4.8256, -4.8448, -3.8625, -3.27, -4.8117, -2.005, -5.5101, -5.9885, -4.1757, -6.025, -4.1754, -4.1754, -4.2495, -6.131, -6.5865, -3.218, -6.3552, -3.0089, -5.6686, -7.0269, -7.2236, -7.2236, -4.1788, -4.1778, -4.1172, -5.1287, -6.2843, -3.6793, -3.7652, -4.6681, -3.8499, -4.9587, -2.8267, -3.6711, -4.0243, -5.0688, -3.94, -4.9239, -4.3901, -4.5306, -4.7442, -2.747, -3.4548, -4.1282, -4.3494, -3.2397, -4.91, -4.9955, -5.1705, -5.4988, -5.7134, -3.7056, -5.9851, -3.2305, -5.5855, -4.9305, -6.046, -5.8832, -4.9749, -5.9663, -3.916, -6.0477, -5.4557, -6.7766, -6.8026, -6.8026, -4.9666, -7.0225, -6.9895, -6.5492, -6.6737, -2.7637, -3.1237, -3.1348, -3.0105, -3.1125, -3.1738, -2.4913, -3.411, -3.0112, -4.3669, -5.3202, -4.9465, -5.1838, -5.0445, -5.0414, -5.2255], \"loglift\": [30.0, 29.0, 28.0, 27.0, 26.0, 25.0, 24.0, 23.0, 22.0, 21.0, 20.0, 19.0, 18.0, 17.0, 16.0, 15.0, 14.0, 13.0, 12.0, 11.0, 10.0, 9.0, 8.0, 7.0, 6.0, 5.0, 4.0, 3.0, 2.0, 1.0, 1.2503, 1.249, 1.2453, 1.2444, 1.1828, 1.1763, 1.1673, 1.1443, 1.1419, 1.1412, 1.1377, 1.127, 1.122, 1.1172, 1.0785, 1.0214, 1.0088, 0.9938, 0.992, 0.9836, 0.9412, 0.9405, 0.9262, 0.925, 0.9059, 0.9046, 0.8909, 0.8754, 0.8513, 0.8395, 0.8266, 0.7616, 0.6264, 0.6612, 0.1823, 0.1748, 0.1551, 0.1346, 0.1326, 0.1168, -0.1233, 0.0133, -0.2144, -0.7475, -0.3242, -0.753, 1.508, 1.4954, 1.4618, 1.4151, 1.415, 1.409, 1.3958, 1.3658, 1.3516, 1.332, 1.3306, 1.323, 1.3167, 1.2484, 1.2318, 1.1884, 1.1823, 1.166, 1.1266, 1.1174, 1.1173, 1.0052, 0.9898, 0.9645, 0.8757, 0.8506, 0.8065, 0.6804, 0.6458, 0.5828, 0.5576, 0.5544, 0.5371, 0.5077, 0.4951, 0.4933, 0.3038, 0.375, 0.3352, 0.1946, 0.1624, 0.0037, -0.1346, -0.0321, -0.4416, 0.453, 0.4872, 0.2855, 0.1018, -1.2108, 1.5983, 1.5983, 1.5981, 1.598, 1.5349, 1.493, 1.4838, 1.4741, 1.3619, 1.3275, 1.3073, 1.2926, 1.2802, 1.2335, 1.2218, 1.2105, 1.2027, 1.1909, 1.1799, 1.1574, 1.1346, 1.1281, 1.1117, 1.0533, 1.0511, 1.0321, 1.0262, 0.9681, 0.9608, 0.9372, 0.9249, 0.8818, 0.8333, 0.694, 0.7895, 0.6498, 0.2934, 0.4261, 0.4167, 0.4129, 0.4002, 0.4015, 0.3973, 0.3895, 0.2702, -0.0243, 0.6957, 0.6875, 0.6838, 0.6129, 2.4709, 2.4675, 2.4201, 2.4015, 2.3379, 2.3112, 2.2907, 2.2287, 2.188, 2.1404, 2.1208, 2.0012, 1.9511, 1.9484, 1.9371, 1.8665, 1.8478, 1.7682, 1.7562, 1.7042, 1.5458, 1.514, 1.4917, 1.4852, 1.4478, 1.443, 1.4072, 1.3676, 1.3565, 1.3046, 1.2753, 1.2385, 1.2309, 1.0554, 1.1722, 1.2066, 0.9448, 0.9172, 1.1417, 1.1385, 0.1721, -0.0174, -0.6578, 0.1797, -0.271, 0.5622, -0.1194, 2.5929, 2.5778, 2.4646, 2.3883, 2.3444, 2.2923, 2.2923, 2.2743, 2.2736, 2.2332, 2.2206, 2.2142, 2.1907, 2.1813, 2.1343, 2.1129, 2.1064, 2.0937, 2.0897, 2.0866, 2.086, 2.0822, 2.0775, 2.0712, 2.0546, 2.0512, 2.0491, 2.0306, 2.0247, 2.0158, 1.8903, 1.7896, 1.7401, 1.7365, 1.5454, 1.4924, 1.4797, 1.4843, 1.8991, 1.0478, 0.9777, 0.9656, 1.5928, -0.2962, -0.218, -0.9202, 0.7415, 0.5267, 1.5578, -0.4359, 2.7654, 2.7568, 2.6423, 2.6125, 2.5574, 2.5438, 2.5232, 2.3866, 2.3866, 2.3119, 2.3119, 2.2916, 2.2537, 2.2398, 2.2296, 2.2296, 2.1738, 2.1737, 2.1737, 2.1737, 2.1737, 2.1152, 2.0643, 2.0586, 1.9728, 1.9687, 1.9566, 1.9461, 1.9233, 1.9021, 1.8499, 1.4657, 1.4302, 1.7634, 0.0023, -1.3545, -1.6657, -1.2474, -3.2953, -0.8395, -0.2972, 2.8969, 2.8878, 2.8876, 2.8767, 2.8221, 2.8047, 2.797, 2.7963, 2.7845, 2.7416, 2.7342, 2.5974, 2.5973, 2.5846, 2.5806, 2.5806, 2.5782, 2.5504, 2.4101, 2.3976, 2.3508, 2.2168, 2.165, 2.1535, 2.1144, 2.1144, 2.0888, 2.0853, 2.0779, 2.0548, 1.9893, 1.4011, 1.3206, 1.5416, 1.2744, 1.5054, -0.2731, 0.3212, 0.5067, 1.5018, 0.0809, 1.2146, -0.9196, -0.809, -1.1351, 3.178, 3.1484, 3.131, 3.1166, 3.1077, 3.0499, 2.9933, 2.9695, 2.9119, 2.8995, 2.8651, 2.7936, 2.778, 2.7705, 2.7658, 2.7102, 2.7068, 2.6294, 2.625, 2.5481, 2.5411, 2.5119, 2.4819, 2.4778, 2.4778, 2.431, 2.3592, 2.2753, 2.181, 2.1413, 1.9712, 1.9661, 1.8993, 1.8485, 1.4011, 1.3513, 1.0363, 0.8028, -0.4576, 0.6156, 1.8144, 1.2485, 1.4668, 0.8425, -1.5709, -1.504]}, \"token.table\": {\"Topic\": [1, 2, 3, 4, 5, 6, 7, 8, 1, 2, 3, 4, 5, 6, 7, 8, 1, 2, 3, 4, 5, 6, 7, 8, 1, 2, 3, 4, 5, 6, 7, 8, 1, 2, 3, 4, 5, 6, 7, 8, 1, 2, 3, 4, 5, 6, 7, 8, 1, 2, 3, 4, 5, 6, 7, 8, 1, 2, 3, 4, 5, 6, 7, 8, 1, 2, 3, 4, 5, 6, 7, 8, 1, 2, 3, 4, 5, 6, 7, 8, 1, 2, 3, 4, 5, 6, 7, 8, 1, 2, 3, 4, 5, 6, 7, 8, 1, 2, 3, 4, 5, 6, 7, 8, 1, 2, 3, 4, 5, 6, 7, 8, 1, 2, 3, 4, 5, 6, 7, 8, 1, 2, 3, 4, 5, 6, 7, 8, 1, 2, 3, 4, 5, 6, 7, 8, 1, 2, 3, 4, 5, 6, 7, 8, 1, 2, 3, 4, 5, 6, 7, 8, 1, 2, 3, 4, 5, 6, 7, 8, 1, 2, 3, 4, 5, 6, 7, 8, 1, 2, 3, 4, 5, 6, 7, 8, 1, 2, 3, 4, 5, 6, 7, 8, 1, 2, 3, 4, 5, 6, 7, 8, 1, 2, 3, 4, 5, 6, 7, 8, 1, 2, 3, 4, 5, 6, 7, 8, 1, 2, 3, 4, 5, 6, 7, 8, 1, 2, 3, 4, 5, 6, 7, 8, 1, 2, 3, 4, 5, 6, 7, 8, 1, 2, 3, 4, 5, 6, 7, 8, 1, 2, 3, 4, 5, 6, 7, 8, 1, 2, 3, 4, 5, 6, 7, 8, 1, 2, 3, 4, 5, 6, 7, 8, 1, 2, 3, 4, 5, 6, 7, 8, 1, 2, 3, 4, 5, 6, 7, 8, 1, 2, 3, 4, 5, 6, 7, 8, 1, 2, 3, 4, 5, 6, 7, 8, 1, 2, 3, 4, 5, 6, 7, 8, 1, 2, 3, 4, 5, 6, 7, 8, 1, 2, 3, 4, 5, 6, 7, 8, 1, 2, 3, 4, 5, 6, 7, 8, 1, 2, 3, 4, 5, 6, 7, 8, 1, 2, 3, 4, 5, 6, 7, 8, 1, 2, 3, 4, 5, 6, 7, 8, 1, 2, 3, 4, 5, 6, 7, 8, 1, 2, 3, 4, 5, 6, 7, 8, 1, 2, 3, 4, 5, 6, 7, 8, 1, 2, 3, 4, 5, 6, 7, 8, 1, 2, 3, 4, 5, 6, 7, 8, 1, 2, 3, 4, 5, 6, 7, 8, 1, 2, 3, 4, 5, 6, 7, 8, 1, 2, 3, 4, 5, 6, 7, 8, 1, 2, 3, 4, 5, 6, 7, 8, 1, 2, 3, 4, 5, 6, 7, 8, 1, 2, 3, 4, 5, 6, 7, 8, 1, 2, 3, 4, 5, 6, 7, 8, 1, 2, 3, 4, 5, 6, 7, 8, 1, 2, 3, 4, 5, 6, 7, 8, 1, 2, 3, 4, 5, 6, 7, 8, 1, 2, 3, 4, 5, 6, 7, 8, 1, 2, 3, 4, 5, 6, 7, 8, 1, 2, 3, 4, 5, 6, 7, 8, 1, 2, 3, 4, 5, 6, 7, 8, 1, 2, 3, 4, 5, 6, 7, 8, 1, 2, 3, 4, 5, 6, 7, 8, 1, 2, 3, 4, 5, 6, 7, 8, 1, 2, 3, 4, 5, 6, 7, 8, 1, 2, 3, 4, 5, 6, 7, 8, 1, 2, 3, 4, 5, 6, 7, 8, 1, 2, 3, 4, 5, 6, 7, 8, 1, 2, 3, 4, 5, 6, 7, 8, 1, 2, 3, 4, 5, 6, 7, 8, 1, 2, 3, 4, 5, 6, 7, 8, 1, 2, 3, 4, 5, 6, 7, 8, 1, 2, 3, 4, 5, 6, 7, 8, 1, 2, 3, 4, 5, 6, 7, 8, 1, 2, 3, 4, 5, 6, 7, 8, 1, 2, 3, 4, 5, 6, 7, 8, 1, 2, 3, 4, 5, 6, 7, 8, 1, 2, 3, 4, 5, 6, 7, 8, 1, 2, 3, 4, 5, 6, 7, 8, 1, 2, 3, 4, 5, 6, 7, 8, 1, 2, 3, 4, 5, 6, 7, 8, 1, 2, 3, 4, 5, 6, 7, 8, 1, 2, 3, 4, 5, 6, 7, 8, 1, 2, 3, 4, 5, 6, 7, 8, 1, 2, 3, 4, 5, 6, 7, 8, 1, 2, 3, 4, 5, 6, 7, 8, 1, 2, 3, 4, 5, 6, 7, 8, 1, 2, 3, 4, 5, 6, 7, 8, 1, 2, 3, 4, 5, 6, 7, 8, 1, 2, 3, 4, 5, 6, 7, 8, 1, 2, 3, 4, 5, 6, 7, 8, 1, 2, 3, 4, 5, 6, 7, 8, 1, 2, 3, 4, 5, 6, 7, 8, 1, 2, 3, 4, 5, 6, 7, 8, 1, 2, 3, 4, 5, 6, 7, 8, 1, 2, 3, 4, 5, 6, 7, 8, 1, 2, 3, 4, 5, 6, 7, 8, 1, 2, 3, 4, 5, 6, 7, 8, 1, 2, 3, 4, 5, 6, 7, 8, 1, 2, 3, 4, 5, 6, 7, 8, 1, 2, 3, 4, 5, 6, 7, 8, 1, 2, 3, 4, 5, 6, 7, 8, 1, 2, 3, 4, 5, 6, 7, 8, 1, 2, 3, 4, 5, 6, 7, 8, 1, 2, 3, 4, 5, 6, 7, 8, 1, 2, 3, 4, 5, 6, 7, 8, 1, 2, 3, 4, 5, 6, 7, 8, 1, 2, 3, 4, 5, 6, 7, 8, 1, 2, 3, 4, 5, 6, 7, 8, 1, 2, 3, 4, 5, 6, 7, 8, 1, 2, 3, 4, 5, 6, 7, 8, 1, 2, 3, 4, 5, 6, 7, 8, 1, 2, 3, 4, 5, 6, 7, 8, 1, 2, 3, 4, 5, 6, 7, 8, 1, 2, 3, 4, 5, 6, 7, 8, 1, 2, 3, 4, 5, 6, 7, 8, 1, 2, 3, 4, 5, 6, 7, 8, 1, 2, 3, 4, 5, 6, 7, 8, 1, 2, 3, 4, 5, 6, 7, 8, 1, 2, 3, 4, 5, 6, 7, 8, 1, 2, 3, 4, 5, 6, 7, 8, 1, 2, 3, 4, 5, 6, 7, 8, 1, 2, 3, 4, 5, 6, 7, 8, 1, 2, 3, 4, 5, 6, 7, 8, 1, 2, 3, 4, 5, 6, 7, 8, 1, 2, 3, 4, 5, 6, 7, 8, 1, 2, 3, 4, 5, 6, 7, 8, 1, 2, 3, 4, 5, 6, 7, 8, 1, 2, 3, 4, 5, 6, 7, 8, 1, 2, 3, 4, 5, 6, 7, 8, 1, 2, 3, 4, 5, 6, 7, 8, 1, 2, 3, 4, 5, 6, 7, 8, 1, 2, 3, 4, 5, 6, 7, 8, 1, 2, 3, 4, 5, 6, 7, 8, 1, 2, 3, 4, 5, 6, 7, 8, 1, 2, 3, 4, 5, 6, 7, 8, 1, 2, 3, 4, 5, 6, 7, 8, 1, 2, 3, 4, 5, 6, 7, 8, 1, 2, 3, 4, 5, 6, 7, 8, 1, 2, 3, 4, 5, 6, 7, 8, 1, 2, 3, 4, 5, 6, 7, 8, 1, 2, 3, 4, 5, 6, 7, 8, 1, 2, 3, 4, 5, 6, 7, 8, 1, 2, 3, 4, 5, 6, 7, 8, 1, 2, 3, 4, 5, 6, 7, 8, 1, 2, 3, 4, 5, 6, 7, 8, 1, 2, 3, 4, 5, 6, 7, 8, 1, 2, 3, 4, 5, 6, 7, 8, 1, 2, 3, 4, 5, 6, 7, 8, 1, 2, 3, 4, 5, 6, 7, 8, 1, 2, 3, 4, 5, 6, 7, 8, 1, 2, 3, 4, 5, 6, 7, 8, 1, 2, 3, 4, 5, 6, 7, 8, 1, 2, 3, 4, 5, 6, 7, 8, 1, 2, 3, 4, 5, 6, 7, 8, 1, 2, 3, 4, 5, 6, 7, 8, 1, 2, 3, 4, 5, 6, 7, 8, 1, 2, 3, 4, 5, 6, 7, 8, 1, 2, 3, 4, 5, 6, 7, 8, 1, 2, 3, 4, 5, 6, 7, 8, 1, 2, 3, 4, 5, 6, 7, 8, 1, 2, 3, 4, 5, 6, 7, 8, 1, 2, 3, 4, 5, 6, 7, 8, 1, 2, 3, 4, 5, 6, 7, 8, 1, 2, 3, 4, 5, 6, 7, 8, 1, 2, 3, 4, 5, 6, 7, 8, 1, 2, 3, 4, 5, 6, 7, 8, 1, 2, 3, 4, 5, 6, 7, 8, 1, 2, 3, 4, 5, 6, 7, 8, 1, 2, 3, 4, 5, 6, 7, 8, 1, 2, 3, 4, 5, 6, 7, 8, 1, 2, 3, 4, 5, 6, 7, 8, 1, 2, 3, 4, 5, 6, 7, 8, 1, 2, 3, 4, 5, 6, 7, 8, 1, 2, 3, 4, 5, 6, 7, 8, 1, 2, 3, 4, 5, 6, 7, 8, 1, 2, 3, 4, 5, 6, 7, 8, 1, 2, 3, 4, 5, 6, 7, 8, 1, 2, 3, 4, 5, 6, 7, 8, 1, 2, 3, 4, 5, 6, 7, 8, 1, 2, 3, 4, 5, 6, 7, 8, 1, 2, 3, 4, 5, 6, 7, 8, 1, 2, 3, 4, 5, 6, 7, 8, 1, 2, 3, 4, 5, 6, 7, 8, 1, 2, 3, 4, 5, 6, 7, 8, 1, 2, 3, 4, 5, 6, 7, 8, 1, 2, 3, 4, 5, 6, 7, 8, 1, 2, 3, 4, 5, 6, 7, 8, 1, 2, 3, 4, 5, 6, 7, 8, 1, 2, 3, 4, 5, 6, 7, 8, 1, 2, 3, 4, 5, 6, 7, 8, 1, 2, 3, 4, 5, 6, 7, 8, 1, 2, 3, 4, 5, 6, 7, 8, 1, 2, 3, 4, 5, 6, 7, 8, 1, 2, 3, 4, 5, 6, 7, 8, 1, 2, 3, 4, 5, 6, 7, 8, 1, 2, 3, 4, 5, 6, 7, 8, 1, 2, 3, 4, 5, 6, 7, 8, 1, 2, 3, 4, 5, 6, 7, 8, 1, 2, 3, 4, 5, 6, 7, 8, 1, 2, 3, 4, 5, 6, 7, 8, 1, 2, 3, 4, 5, 6, 7, 8, 1, 2, 3, 4, 5, 6, 7, 8, 1, 2, 3, 4, 5, 6, 7, 8, 1, 2, 3, 4, 5, 6, 7, 8, 1, 2, 3, 4, 5, 6, 7, 8, 1, 2, 3, 4, 5, 6, 7, 8, 1, 2, 3, 4, 5, 6, 7, 8, 1, 2, 3, 4, 5, 6, 7, 8, 1, 2, 3, 4, 5, 6, 7, 8, 1, 2, 3, 4, 5, 6, 7, 8, 1, 2, 3, 4, 5, 6, 7, 8, 1, 2, 3, 4, 5, 6, 7, 8, 1, 2, 3, 4, 5, 6, 7, 8, 1, 2, 3, 4, 5, 6, 7, 8, 1, 2, 3, 4, 5, 6, 7, 8, 1, 2, 3, 4, 5, 6, 7, 8, 1, 2, 3, 4, 5, 6, 7, 8, 1, 2, 3, 4, 5, 6, 7, 8, 1, 2, 3, 4, 5, 6, 7, 8, 1, 2, 3, 4, 5, 6, 7, 8, 1, 2, 3, 4, 5, 6, 7, 8, 1, 2, 3, 4, 5, 6, 7, 8, 1, 2, 3, 4, 5, 6, 7, 8, 1, 2, 3, 4, 5, 6, 7, 8, 1, 2, 3, 4, 5, 6, 7, 8, 1, 2, 3, 4, 5, 6, 7, 8, 1, 2, 3, 4, 5, 6, 7, 8, 1, 2, 3, 4, 5, 6, 7, 8, 1, 2, 3, 4, 5, 6, 7, 8, 1, 2, 3, 4, 5, 6, 7, 8, 1, 2, 3, 4, 5, 6, 7, 8, 1, 2, 3, 4, 5, 6, 7, 8, 1, 2, 3, 4, 5, 6, 7, 8, 1, 2, 3, 4, 5, 6, 7, 8, 1, 2, 3, 4, 5, 6, 7, 8, 1, 2, 3, 4, 5, 6, 7, 8, 1, 2, 3, 4, 5, 6, 7, 8, 1, 2, 3, 4, 5, 6, 7, 8, 1, 2, 3, 4, 5, 6, 7, 8, 1, 2, 3, 4, 5, 6, 7, 8, 1, 2, 3, 4, 5, 6, 7, 8, 1, 2, 3, 4, 5, 6, 7, 8, 1, 2, 3, 4, 5, 6, 7, 8, 1, 2, 3, 4, 5, 6, 7, 8, 1, 2, 3, 4, 5, 6, 7, 8, 1, 2, 3, 4, 5, 6, 7, 8, 1, 2, 3, 4, 5, 6, 7, 8, 1, 2, 3, 4, 5, 6, 7, 8, 1, 2, 3, 4, 5, 6, 7, 8, 1, 2, 3, 4, 5, 6, 7, 8, 1, 2, 3, 4, 5, 6, 7, 8], \"Freq\": [0.018207076996201752, 0.018207076996201752, 0.7646972338404736, 0.018207076996201752, 0.14565661596961402, 0.018207076996201752, 0.018207076996201752, 0.018207076996201752, 0.39469924644563936, 0.01879520221169711, 0.07518080884678845, 0.4322896508690336, 0.01879520221169711, 0.01879520221169711, 0.01879520221169711, 0.03759040442339422, 0.0025983954198518064, 0.0012991977099259032, 0.0012991977099259032, 0.3572793702296234, 0.34558659084029025, 0.0012991977099259032, 0.0012991977099259032, 0.28842189160355053, 0.06499057235950452, 0.06499057235950452, 0.06499057235950452, 0.45493400651653165, 0.06499057235950452, 0.06499057235950452, 0.06499057235950452, 0.12998114471900904, 0.04213292265728923, 0.04213292265728923, 0.04213292265728923, 0.04213292265728923, 0.6741267625166277, 0.04213292265728923, 0.04213292265728923, 0.1263987679718677, 0.06673804309735147, 0.06673804309735147, 0.06673804309735147, 0.06673804309735147, 0.6006423878761632, 0.06673804309735147, 0.06673804309735147, 0.06673804309735147, 0.01592917374148357, 0.01592917374148357, 0.01592917374148357, 0.01592917374148357, 0.04778752122445071, 0.01592917374148357, 0.8601753820401128, 0.01592917374148357, 0.003981207041351838, 0.027868449289462867, 0.015924828165407353, 0.6688427829471089, 0.007962414082703676, 0.003981207041351838, 0.24683483656381397, 0.023887242248111028, 0.33624685039061897, 0.3505607643004363, 0.2985101682647368, 0.004684553643212958, 0.0005205059603569953, 0.0007807589405354929, 0.0078075894053549295, 0.0010410119207139906, 0.7600814269590517, 0.15201628539181034, 0.012668023782650861, 0.012668023782650861, 0.012668023782650861, 0.012668023782650861, 0.038004071347952584, 0.012668023782650861, 0.019229395255945067, 0.8845521817734731, 0.019229395255945067, 0.019229395255945067, 0.019229395255945067, 0.019229395255945067, 0.019229395255945067, 0.019229395255945067, 0.2585265498083664, 0.007386472851667612, 0.007386472851667612, 0.007386472851667612, 0.007386472851667612, 0.007386472851667612, 0.6943284480567555, 0.007386472851667612, 0.016438602469283636, 0.14794742222355273, 0.6575440987713455, 0.016438602469283636, 0.11507021728498545, 0.016438602469283636, 0.016438602469283636, 0.016438602469283636, 0.007147563011242891, 0.007147563011242891, 0.007147563011242891, 0.8291173093041754, 0.035737815056214456, 0.007147563011242891, 0.007147563011242891, 0.10006588215740048, 0.03253997216647766, 0.8134993041619415, 0.03253997216647766, 0.03253997216647766, 0.03253997216647766, 0.03253997216647766, 0.03253997216647766, 0.03253997216647766, 0.0022158727735527286, 0.0007386242578509096, 0.0007386242578509096, 0.20681479219825466, 0.1935195555569383, 0.4387428091634403, 0.0007386242578509096, 0.1558497184065419, 0.24104193894492673, 0.008927479220182472, 0.35709916880729886, 0.3303167311467515, 0.026782437660547415, 0.008927479220182472, 0.008927479220182472, 0.026782437660547415, 0.021246571041124068, 0.021246571041124068, 0.042493142082248136, 0.8073696995627145, 0.021246571041124068, 0.042493142082248136, 0.021246571041124068, 0.042493142082248136, 0.0032719475515639346, 0.0016359737757819673, 0.0016359737757819673, 0.0016359737757819673, 0.013087790206255738, 0.9766763441418345, 0.0016359737757819673, 0.0016359737757819673, 0.002666993207232616, 0.001333496603616308, 0.22269393280392344, 0.001333496603616308, 0.7680940436829934, 0.002666993207232616, 0.001333496603616308, 0.001333496603616308, 0.07623570053084784, 0.07623570053084784, 0.07623570053084784, 0.07623570053084784, 0.07623570053084784, 0.5336499037159349, 0.07623570053084784, 0.07623570053084784, 0.002030396188275981, 0.002030396188275981, 0.43247438810278394, 0.002030396188275981, 0.5522677632110667, 0.004060792376551962, 0.002030396188275981, 0.002030396188275981, 0.09429824655992682, 0.04714912327996341, 0.04714912327996341, 0.04714912327996341, 0.04714912327996341, 0.04714912327996341, 0.6600877259194877, 0.04714912327996341, 0.05013290241273372, 0.7018606337782721, 0.05013290241273372, 0.05013290241273372, 0.05013290241273372, 0.05013290241273372, 0.05013290241273372, 0.05013290241273372, 0.07623571581745088, 0.07623571581745088, 0.07623571581745088, 0.07623571581745088, 0.07623571581745088, 0.5336500107221561, 0.07623571581745088, 0.07623571581745088, 0.04475451866670604, 0.04475451866670604, 0.04475451866670604, 0.04475451866670604, 0.1342635560001181, 0.6265632613338845, 0.04475451866670604, 0.04475451866670604, 0.007343906283935276, 0.007343906283935276, 0.5948564089987574, 0.007343906283935276, 0.35985140791282855, 0.007343906283935276, 0.007343906283935276, 0.007343906283935276, 0.06775456816155068, 0.06775456816155068, 0.06775456816155068, 0.06775456816155068, 0.6097911134539561, 0.06775456816155068, 0.06775456816155068, 0.06775456816155068, 0.01784175469485467, 0.820720715963315, 0.01784175469485467, 0.01784175469485467, 0.03568350938970934, 0.01784175469485467, 0.05352526408456402, 0.01784175469485467, 0.2841040313377926, 0.3109020135103422, 0.2577602522529134, 0.07903133725463776, 0.054731472064275, 0.0022710154383516596, 0.007040147858890145, 0.004542030876703319, 0.04786286123756869, 0.04786286123756869, 0.04786286123756869, 0.04786286123756869, 0.14358858371270605, 0.5743543348508242, 0.04786286123756869, 0.04786286123756869, 0.08776788045720875, 0.043883940228604375, 0.043883940228604375, 0.043883940228604375, 0.043883940228604375, 0.043883940228604375, 0.70214304365767, 0.043883940228604375, 0.872478981113316, 0.011790256501531296, 0.011790256501531296, 0.011790256501531296, 0.047161026006125185, 0.011790256501531296, 0.023580513003062593, 0.011790256501531296, 0.04195638834248663, 0.08391277668497325, 0.12586916502745987, 0.04195638834248663, 0.5873894367948128, 0.08391277668497325, 0.04195638834248663, 0.04195638834248663, 0.030454741921727417, 0.030454741921727417, 0.030454741921727417, 0.030454741921727417, 0.030454741921727417, 0.030454741921727417, 0.8222780318866403, 0.030454741921727417, 0.06053432520128747, 0.06053432520128747, 0.6658775772141622, 0.06053432520128747, 0.06053432520128747, 0.06053432520128747, 0.06053432520128747, 0.06053432520128747, 0.020037202399167408, 0.020037202399167408, 0.8816369055633659, 0.020037202399167408, 0.020037202399167408, 0.020037202399167408, 0.020037202399167408, 0.020037202399167408, 0.012130272929598009, 0.7399466487054785, 0.024260545859196018, 0.03639081878879403, 0.012130272929598009, 0.012130272929598009, 0.15769354808477412, 0.012130272929598009, 0.09495434576740114, 0.6963318689609417, 0.015825724294566856, 0.015825724294566856, 0.015825724294566856, 0.015825724294566856, 0.11078007006196801, 0.03165144858913371, 0.5244884685664302, 0.0008591129706247832, 0.45275253551926076, 0.005154677823748699, 0.0008591129706247832, 0.0008591129706247832, 0.014175364015308924, 0.0017182259412495664, 0.01127430169223526, 0.9650802248553382, 0.016535642481945046, 0.0015032402256313678, 0.0007516201128156839, 0.0015032402256313678, 0.0007516201128156839, 0.0015032402256313678, 0.6568766224277672, 0.00182212655319769, 0.00182212655319769, 0.00728850621279076, 0.000911063276598845, 0.000911063276598845, 0.039175720893750335, 0.29062918523503156, 0.06521608864102359, 0.06521608864102359, 0.06521608864102359, 0.06521608864102359, 0.5869447977692123, 0.06521608864102359, 0.06521608864102359, 0.06521608864102359, 0.05081198021727087, 0.05081198021727087, 0.05081198021727087, 0.05081198021727087, 0.1524359406518126, 0.05081198021727087, 0.05081198021727087, 0.6097437626072504, 0.04545474852421115, 0.04545474852421115, 0.04545474852421115, 0.04545474852421115, 0.7272759763873784, 0.04545474852421115, 0.04545474852421115, 0.04545474852421115, 0.002279167852914149, 0.002279167852914149, 0.3920168707012336, 0.002279167852914149, 0.5925836417576787, 0.004558335705828298, 0.002279167852914149, 0.002279167852914149, 0.08450042998462803, 0.08450042998462803, 0.08450042998462803, 0.08450042998462803, 0.08450042998462803, 0.16900085996925607, 0.08450042998462803, 0.42250214992314017, 0.05475853531766773, 0.05475853531766773, 0.05475853531766773, 0.05475853531766773, 0.6571024238120128, 0.05475853531766773, 0.05475853531766773, 0.05475853531766773, 0.05937732149928183, 0.05937732149928183, 0.5937732149928183, 0.05937732149928183, 0.05937732149928183, 0.05937732149928183, 0.05937732149928183, 0.05937732149928183, 0.03135922525923292, 0.25087380207386334, 0.09407767577769877, 0.03135922525923292, 0.06271845051846583, 0.03135922525923292, 0.37631070311079506, 0.12543690103693167, 0.001166949876137002, 0.001166949876137002, 0.001166949876137002, 0.593977486953734, 0.32324511568994957, 0.002333899752274004, 0.001166949876137002, 0.07468479207276812, 0.17038135716754763, 0.1419844643062897, 0.5395409643639009, 0.028396892861257936, 0.028396892861257936, 0.028396892861257936, 0.028396892861257936, 0.028396892861257936, 0.0069247034484490695, 0.5127742903576535, 0.47503465656360616, 0.0013849406896898138, 0.0006924703448449069, 0.0010387055172673605, 0.0006924703448449069, 0.0010387055172673605, 0.04402588658602599, 0.04402588658602599, 0.04402588658602599, 0.04402588658602599, 0.04402588658602599, 0.04402588658602599, 0.04402588658602599, 0.7484400719624419, 0.8810655835565449, 0.017621311671130898, 0.017621311671130898, 0.017621311671130898, 0.017621311671130898, 0.017621311671130898, 0.017621311671130898, 0.017621311671130898, 0.0861655532956619, 0.5169933197739713, 0.0861655532956619, 0.0861655532956619, 0.0861655532956619, 0.0861655532956619, 0.0861655532956619, 0.0861655532956619, 0.04003779173503578, 0.7206802512306439, 0.04003779173503578, 0.04003779173503578, 0.04003779173503578, 0.04003779173503578, 0.04003779173503578, 0.04003779173503578, 0.10669422933646108, 0.0014038714386376458, 0.7075512050733734, 0.06317421473869406, 0.047731628913679956, 0.0028077428772752917, 0.05194324322959289, 0.01965420014092704, 0.22609475338196128, 0.40756165348199297, 0.19210665320035927, 0.095462229205717, 0.05910973944626439, 0.0008866460916939658, 0.017141824439416673, 0.0017732921833879317, 0.08572310709796309, 0.001843507679526088, 0.07834907637985875, 0.001843507679526088, 0.002765261519289132, 0.002765261519289132, 0.8222044250686352, 0.003687015359052176, 0.013726053528221233, 0.013726053528221233, 0.9196455863908225, 0.013726053528221233, 0.013726053528221233, 0.013726053528221233, 0.013726053528221233, 0.013726053528221233, 0.07623571031766702, 0.07623571031766702, 0.07623571031766702, 0.07623571031766702, 0.07623571031766702, 0.5336499722236691, 0.07623571031766702, 0.07623571031766702, 0.013222728522128753, 0.8065864398498539, 0.06611364261064376, 0.013222728522128753, 0.05289091408851501, 0.013222728522128753, 0.013222728522128753, 0.026445457044257506, 0.9171597769307807, 0.007396449813957908, 0.007396449813957908, 0.014792899627915817, 0.007396449813957908, 0.007396449813957908, 0.036982249069789544, 0.007396449813957908, 0.18280917956158968, 0.007617049148399569, 0.015234098296799139, 0.6855344233559613, 0.053319344038796984, 0.007617049148399569, 0.03808524574199785, 0.007617049148399569, 0.02291680911985847, 0.02291680911985847, 0.02291680911985847, 0.02291680911985847, 0.02291680911985847, 0.02291680911985847, 0.02291680911985847, 0.8479219374347633, 0.0044351179785382016, 0.34593920232597974, 0.6253516349738865, 0.0044351179785382016, 0.0044351179785382016, 0.0044351179785382016, 0.0044351179785382016, 0.0044351179785382016, 0.06974890114261294, 0.06974890114261294, 0.06974890114261294, 0.06974890114261294, 0.5579912091409035, 0.06974890114261294, 0.06974890114261294, 0.06974890114261294, 0.02271896228915371, 0.02271896228915371, 0.31806547204815194, 0.5679740572288428, 0.02271896228915371, 0.02271896228915371, 0.02271896228915371, 0.02271896228915371, 0.01647431248477, 0.01647431248477, 0.01647431248477, 0.03294862496954, 0.69192112436034, 0.04942293745431, 0.01647431248477, 0.18121743733247, 0.010297989094831528, 0.2513645519965696, 0.5022610135797377, 0.23076857380690652, 0.0014042712402042993, 0.0014042712402042993, 0.0018723616536057324, 0.0009361808268028662, 0.9784313252094751, 0.0033739011214119832, 0.0033739011214119832, 0.0033739011214119832, 0.0033739011214119832, 0.0033739011214119832, 0.0033739011214119832, 0.0033739011214119832, 0.20234867524690653, 0.0013400574519662684, 0.7162607080759704, 0.07102304495421223, 0.0013400574519662684, 0.0013400574519662684, 0.004690201081881939, 0.0020100861779494025, 0.004907543014238974, 0.6527032208937836, 0.012938067946630024, 0.0008922805480434499, 0.0013384208220651747, 0.2685764449610784, 0.05755209534880252, 0.0008922805480434499, 0.015974158481460436, 0.0012287814216508028, 0.00860146995155562, 0.37723589644679645, 0.32439829531581194, 0.0012287814216508028, 0.0012287814216508028, 0.2703319127631766, 0.006870689945269526, 0.006870689945269526, 0.006870689945269526, 0.006870689945269526, 0.006870689945269526, 0.006870689945269526, 0.9481552124471946, 0.006870689945269526, 0.003707576694003316, 0.28548340543825534, 0.515353160466461, 0.003707576694003316, 0.003707576694003316, 0.003707576694003316, 0.17796368131215917, 0.007415153388006632, 0.04832705095954781, 0.04832705095954781, 0.04832705095954781, 0.04832705095954781, 0.09665410191909563, 0.04832705095954781, 0.5799246115145738, 0.09665410191909563, 0.8998274870308218, 0.012159830905821917, 0.012159830905821917, 0.012159830905821917, 0.012159830905821917, 0.012159830905821917, 0.03647949271746575, 0.012159830905821917, 0.7069801012682873, 0.002580219347694479, 0.002580219347694479, 0.2683428121602258, 0.002580219347694479, 0.002580219347694479, 0.010320877390777916, 0.002580219347694479, 0.06496019323997144, 0.2593523504543221, 0.3936685394843382, 0.2769355606546151, 0.00195369002225478, 0.00097684501112739, 0.00097684501112739, 0.00097684501112739, 0.003913492577801906, 0.003913492577801906, 0.9705461592948728, 0.003913492577801906, 0.003913492577801906, 0.003913492577801906, 0.003913492577801906, 0.003913492577801906, 0.1925457413291028, 0.0962728706645514, 0.0962728706645514, 0.28881861199365416, 0.0962728706645514, 0.0962728706645514, 0.0962728706645514, 0.0962728706645514, 0.877575031852235, 0.0007003791156043375, 0.09455118060658557, 0.007704170271647713, 0.001400758231208675, 0.0007003791156043375, 0.0168090987745041, 0.001400758231208675, 0.020353307814274506, 0.020353307814274506, 0.16282646251419605, 0.7123657734996077, 0.020353307814274506, 0.020353307814274506, 0.020353307814274506, 0.020353307814274506, 0.03801353857060585, 0.41814892427666434, 0.019006769285302923, 0.019006769285302923, 0.34212184713545263, 0.019006769285302923, 0.13304738499712046, 0.019006769285302923, 0.06981867457027228, 0.06981867457027228, 0.06981867457027228, 0.06981867457027228, 0.06981867457027228, 0.5585493965621783, 0.06981867457027228, 0.06981867457027228, 0.10308648273182579, 0.41234593092730315, 0.10308648273182579, 0.10308648273182579, 0.10308648273182579, 0.10308648273182579, 0.10308648273182579, 0.10308648273182579, 0.047557629408518286, 0.7133644411277742, 0.047557629408518286, 0.047557629408518286, 0.047557629408518286, 0.047557629408518286, 0.047557629408518286, 0.047557629408518286, 0.6631922567565944, 0.13263845135131888, 0.04421281711710629, 0.04421281711710629, 0.04421281711710629, 0.04421281711710629, 0.04421281711710629, 0.04421281711710629, 0.08571524415236302, 0.04285762207618151, 0.04285762207618151, 0.04285762207618151, 0.04285762207618151, 0.04285762207618151, 0.7285795752950858, 0.04285762207618151, 0.0017659601633755796, 0.0008829800816877898, 0.49623480590853786, 0.0008829800816877898, 0.48740500509165996, 0.011478741061941267, 0.0008829800816877898, 0.0008829800816877898, 0.023602642630433344, 0.005900660657608336, 0.005900660657608336, 0.005900660657608336, 0.005900660657608336, 0.005900660657608336, 0.005900660657608336, 0.9441057052173337, 0.0038777844999924567, 0.0038777844999924567, 0.9733239094981067, 0.0038777844999924567, 0.0038777844999924567, 0.0077555689999849135, 0.0038777844999924567, 0.0038777844999924567, 0.05222506044292116, 0.05222506044292116, 0.05222506044292116, 0.05222506044292116, 0.678925785757975, 0.05222506044292116, 0.05222506044292116, 0.05222506044292116, 0.6005069511741934, 0.29863048382716645, 0.0010819945066201683, 0.0005409972533100842, 0.0010819945066201683, 0.0005409972533100842, 0.007032964293031094, 0.09034654130278405, 0.30111723805649926, 0.004395872088416047, 0.06154220923782466, 0.0021979360442080237, 0.008791744176832095, 0.0021979360442080237, 0.5824530517151263, 0.03516697670732838, 0.02677224600031413, 0.829939626009738, 0.02677224600031413, 0.02677224600031413, 0.02677224600031413, 0.02677224600031413, 0.02677224600031413, 0.02677224600031413, 0.01680193718815933, 0.01680193718815933, 0.01680193718815933, 0.01680193718815933, 0.01680193718815933, 0.01680193718815933, 0.8737007337842853, 0.03360387437631866, 0.0022960057759711457, 0.0022960057759711457, 0.394912993467037, 0.0022960057759711457, 0.5900734844245844, 0.004592011551942291, 0.0022960057759711457, 0.0022960057759711457, 0.08397044518826051, 0.08397044518826051, 0.08397044518826051, 0.08397044518826051, 0.08397044518826051, 0.08397044518826051, 0.08397044518826051, 0.503822671129563, 0.00624305594749149, 0.00624305594749149, 0.031215279737457448, 0.00624305594749149, 0.00624305594749149, 0.043701391632440426, 0.867784776701317, 0.02497222378996596, 0.06830949774545104, 0.06830949774545104, 0.06830949774545104, 0.06830949774545104, 0.06830949774545104, 0.4781664842181574, 0.06830949774545104, 0.1366189954909021, 0.0021905042515656713, 0.0007301680838552238, 0.0007301680838552238, 0.20079622306018655, 0.19568504647319998, 0.4344500098938582, 0.0007301680838552238, 0.16428781886742536, 0.033614057209129605, 0.033614057209129605, 0.033614057209129605, 0.8067373730191105, 0.033614057209129605, 0.033614057209129605, 0.033614057209129605, 0.033614057209129605, 0.32066416004690035, 0.37295790137905216, 0.29279186136732704, 0.0034508560269947888, 0.0005309009272299675, 0.0007963513908449512, 0.007963513908449512, 0.0007963513908449512, 0.0031676966086489253, 0.2375772456486694, 0.674719377642221, 0.0031676966086489253, 0.04751544912973388, 0.025341572869191403, 0.0031676966086489253, 0.0031676966086489253, 0.7191140987900756, 0.0024294395229394446, 0.0024294395229394446, 0.2502322708627628, 0.0024294395229394446, 0.0024294395229394446, 0.017006076660576113, 0.0024294395229394446, 0.0392889036725361, 0.0392889036725361, 0.0392889036725361, 0.0785778073450722, 0.6679113624331138, 0.0392889036725361, 0.0392889036725361, 0.0785778073450722, 0.05180653775152751, 0.05180653775152751, 0.05180653775152751, 0.05180653775152751, 0.6216784530183301, 0.10361307550305501, 0.05180653775152751, 0.05180653775152751, 0.01003933438239702, 0.17066868450074937, 0.01003933438239702, 0.34133736900149875, 0.20078668764794044, 0.01003933438239702, 0.01003933438239702, 0.25098335955992557, 0.06461993288366437, 0.06461993288366437, 0.06461993288366437, 0.06461993288366437, 0.06461993288366437, 0.06461993288366437, 0.5815793959529794, 0.06461993288366437, 0.32736406816693336, 0.36552625533627453, 0.293615195160033, 0.0033748873006900345, 0.00051921343087539, 0.0007788201463130849, 0.008047808178568544, 0.00103842686175078, 0.007475267494513876, 0.007475267494513876, 0.007475267494513876, 0.9493589718032622, 0.007475267494513876, 0.007475267494513876, 0.007475267494513876, 0.007475267494513876, 0.053886659936443364, 0.16165997980933008, 0.053886659936443364, 0.053886659936443364, 0.053886659936443364, 0.053886659936443364, 0.2694332996822168, 0.32331995961866017, 0.8565059274905331, 0.035917990507667516, 0.08150620922893782, 0.002762922346743655, 0.0013814611733718276, 0.0006907305866859138, 0.0200311870138915, 0.0006907305866859138, 0.0719723938107294, 0.0719723938107294, 0.0719723938107294, 0.0719723938107294, 0.1439447876214588, 0.5038067566751058, 0.0719723938107294, 0.0719723938107294, 0.006511197222299005, 0.006511197222299005, 0.0032555986111495027, 0.019533591666897016, 0.15301313472402664, 0.0032555986111495027, 0.15626873333517613, 0.6511197222299006, 0.0621017716999217, 0.0621017716999217, 0.0621017716999217, 0.0621017716999217, 0.2484070867996868, 0.4347124018994519, 0.0621017716999217, 0.0621017716999217, 0.11910149731323154, 0.05955074865661577, 0.05955074865661577, 0.05955074865661577, 0.11910149731323154, 0.47640598925292615, 0.05955074865661577, 0.11910149731323154, 0.07047577566842207, 0.07047577566842207, 0.07047577566842207, 0.07047577566842207, 0.5638062053473766, 0.07047577566842207, 0.07047577566842207, 0.07047577566842207, 0.00687499238262356, 0.00687499238262356, 0.25437471815707174, 0.00687499238262356, 0.01374998476524712, 0.00687499238262356, 0.7012492230276032, 0.00687499238262356, 0.07623576306891507, 0.07623576306891507, 0.07623576306891507, 0.07623576306891507, 0.07623576306891507, 0.5336503414824054, 0.07623576306891507, 0.07623576306891507, 0.0370206199600624, 0.0370206199600624, 0.6663711592811232, 0.0740412399201248, 0.0370206199600624, 0.0370206199600624, 0.0370206199600624, 0.0740412399201248, 0.006607341875623402, 0.006607341875623402, 0.006607341875623402, 0.8853838113335359, 0.07268076063185742, 0.006607341875623402, 0.006607341875623402, 0.006607341875623402, 0.01922955842605894, 0.8845596875987113, 0.01922955842605894, 0.01922955842605894, 0.01922955842605894, 0.01922955842605894, 0.01922955842605894, 0.01922955842605894, 0.9727046013005223, 0.0008313714541030105, 0.0008313714541030105, 0.003325485816412042, 0.0008313714541030105, 0.0008313714541030105, 0.01912154344436924, 0.0008313714541030105, 0.06853766400611723, 0.004569177600407815, 0.004569177600407815, 0.004569177600407815, 0.004569177600407815, 0.004569177600407815, 0.004569177600407815, 0.9046971648807475, 0.7784951231245058, 0.18685205801416557, 0.0006614232142094356, 0.0003307116071047178, 0.0006614232142094356, 0.0006614232142094356, 0.023480524104434963, 0.008929213391827381, 0.008302458401968346, 0.002767486133989449, 0.7416862839091724, 0.17435162644133528, 0.06365218108175733, 0.002767486133989449, 0.002767486133989449, 0.002767486133989449, 0.043033342365567925, 0.043033342365567925, 0.043033342365567925, 0.043033342365567925, 0.1721333694622717, 0.043033342365567925, 0.043033342365567925, 0.602466793117951, 0.0776551786407557, 0.0776551786407557, 0.0776551786407557, 0.0776551786407557, 0.0776551786407557, 0.0776551786407557, 0.4659310718445342, 0.0776551786407557, 0.8716611793222375, 0.021260028763957012, 0.021260028763957012, 0.021260028763957012, 0.021260028763957012, 0.021260028763957012, 0.021260028763957012, 0.021260028763957012, 0.3201328477000292, 0.3719462565763345, 0.29396178913495663, 0.0034366036499590253, 0.00052870825383985, 0.0010574165076797, 0.008194977934517676, 0.0010574165076797, 0.0860110251716637, 0.0860110251716637, 0.0860110251716637, 0.0860110251716637, 0.0860110251716637, 0.4300551258583185, 0.0860110251716637, 0.0860110251716637, 0.015525069760135358, 0.031050139520270716, 0.3726016742432486, 0.5123273020844669, 0.015525069760135358, 0.015525069760135358, 0.015525069760135358, 0.031050139520270716, 0.002124631633482905, 0.002124631633482905, 0.3633120093255768, 0.002124631633482905, 0.6225170686104912, 0.00424926326696581, 0.002124631633482905, 0.002124631633482905, 0.00954103521330328, 0.9254804156904181, 0.028623105639909836, 0.00954103521330328, 0.00954103521330328, 0.00954103521330328, 0.00954103521330328, 0.00954103521330328, 0.009542833492863547, 0.009542833492863547, 0.5630271760789494, 0.009542833492863547, 0.009542833492863547, 0.009542833492863547, 0.28628500478590646, 0.09542833492863548, 0.544216494264242, 0.004218732513676294, 0.004218732513676294, 0.004218732513676294, 0.004218732513676294, 0.004218732513676294, 0.4260919838813057, 0.008437465027352589, 0.00226362706084692, 0.00226362706084692, 0.38934385446567027, 0.00226362706084692, 0.5953339170027401, 0.00452725412169384, 0.00226362706084692, 0.00226362706084692, 0.006575311128986592, 0.006575311128986592, 0.006575311128986592, 0.9468448025740692, 0.006575311128986592, 0.006575311128986592, 0.006575311128986592, 0.013150622257973183, 0.006187584612419799, 0.006187584612419799, 0.006187584612419799, 0.7486977381027956, 0.04331309228693859, 0.006187584612419799, 0.012375169224839598, 0.17325236914775435, 0.0028905195285807202, 0.0014452597642903601, 0.014452597642903601, 0.10405870302890592, 0.0028905195285807202, 0.8714916378670872, 0.0014452597642903601, 0.0014452597642903601, 0.6960711355649299, 0.03663532292447, 0.03663532292447, 0.10990596877341, 0.03663532292447, 0.03663532292447, 0.07327064584894, 0.03663532292447, 0.04297853017368532, 0.04297853017368532, 0.04297853017368532, 0.08595706034737063, 0.04297853017368532, 0.21489265086842657, 0.04297853017368532, 0.5157423620842237, 0.0430847136401585, 0.0430847136401585, 0.0430847136401585, 0.0430847136401585, 0.21542356820079248, 0.0430847136401585, 0.0430847136401585, 0.5601012773220605, 0.3149077026901128, 0.3498974474334587, 0.2904663368767462, 0.013121154278754701, 0.0012863876743877158, 0.0007718326046326294, 0.02109675785995854, 0.008490158650958923, 0.11038415564548552, 0.0034495048639214226, 0.0034495048639214226, 0.0034495048639214226, 0.0034495048639214226, 0.0034495048639214226, 0.8692752257081985, 0.0034495048639214226, 0.03405379763951684, 0.03405379763951684, 0.03405379763951684, 0.03405379763951684, 0.03405379763951684, 0.03405379763951684, 0.1702689881975842, 0.64702215515082, 0.08582595103386326, 0.08582595103386326, 0.08582595103386326, 0.08582595103386326, 0.08582595103386326, 0.08582595103386326, 0.08582595103386326, 0.5149557062031795, 0.061445655649779454, 0.061445655649779454, 0.061445655649779454, 0.061445655649779454, 0.18433696694933838, 0.4301195895484562, 0.061445655649779454, 0.061445655649779454, 0.7573017961066256, 0.003489870028141132, 0.006979740056282264, 0.21288207171660906, 0.003489870028141132, 0.003489870028141132, 0.010469610084423396, 0.003489870028141132, 0.003900239755495716, 0.003900239755495716, 0.9711596991184333, 0.003900239755495716, 0.003900239755495716, 0.003900239755495716, 0.003900239755495716, 0.003900239755495716, 0.8242310409051818, 0.0012680477552387413, 0.0012680477552387413, 0.14075330083150028, 0.0012680477552387413, 0.0012680477552387413, 0.02789705061525231, 0.0012680477552387413, 0.0691052886172418, 0.0020628444363355765, 0.047445422035718256, 0.27538973225079943, 0.32696084315918883, 0.0020628444363355765, 0.02062844436335576, 0.25682413232377926, 0.04330943727912453, 0.5846774032681812, 0.021654718639562264, 0.021654718639562264, 0.19489246775606037, 0.021654718639562264, 0.10827359319781132, 0.021654718639562264, 0.8610317969753177, 0.0008671015075280139, 0.0013006522612920208, 0.061130656280724976, 0.0013006522612920208, 0.00043355075376400693, 0.07327007738611717, 0.0008671015075280139, 0.07418015086250364, 0.07418015086250364, 0.07418015086250364, 0.07418015086250364, 0.5934412069000291, 0.07418015086250364, 0.07418015086250364, 0.07418015086250364, 0.6565192191966202, 0.05050147839974001, 0.05050147839974001, 0.05050147839974001, 0.05050147839974001, 0.05050147839974001, 0.05050147839974001, 0.05050147839974001, 0.04825931348180889, 0.09651862696361778, 0.6756303887453244, 0.04825931348180889, 0.04825931348180889, 0.04825931348180889, 0.04825931348180889, 0.04825931348180889, 0.05436960471413466, 0.05436960471413466, 0.05436960471413466, 0.05436960471413466, 0.05436960471413466, 0.652435256569616, 0.05436960471413466, 0.05436960471413466, 0.01812140417041384, 0.01812140417041384, 0.8698274001798643, 0.01812140417041384, 0.01812140417041384, 0.01812140417041384, 0.01812140417041384, 0.03624280834082768, 0.016770613662096392, 0.016770613662096392, 0.016770613662096392, 0.016770613662096392, 0.016770613662096392, 0.016770613662096392, 0.8888425240911088, 0.016770613662096392, 0.7476630232296915, 0.07009340842778358, 0.01168223473796393, 0.01168223473796393, 0.1168223473796393, 0.01168223473796393, 0.02336446947592786, 0.01168223473796393, 0.33383137168601035, 0.3549534183513289, 0.2972541689241172, 0.003863789024143638, 0.0005151718698858184, 0.0007727578048287276, 0.007727578048287276, 0.0010303437397716367, 0.1321270139554032, 0.5837768721166834, 0.0008635752546104784, 0.018998655601430523, 0.0017271505092209568, 0.2590725763831435, 0.002590725763831435, 0.0008635752546104784, 0.07591835122778455, 0.07591835122778455, 0.5314284585944918, 0.07591835122778455, 0.07591835122778455, 0.07591835122778455, 0.07591835122778455, 0.07591835122778455, 0.003439370126695225, 0.9527055250945773, 0.02338771686152753, 0.00137574805067809, 0.013069606481441854, 0.00137574805067809, 0.000687874025339045, 0.003439370126695225, 0.0029949461621771737, 0.0029949461621771737, 0.0029949461621771737, 0.0029949461621771737, 0.005989892324354347, 0.00898483848653152, 0.0029949461621771737, 0.9703625565454043, 0.017161062785864004, 0.017161062785864004, 0.7207646370062881, 0.017161062785864004, 0.12012743950104801, 0.017161062785864004, 0.017161062785864004, 0.06864425114345601, 0.046806972453304826, 0.046806972453304826, 0.046806972453304826, 0.046806972453304826, 0.7021045867995723, 0.046806972453304826, 0.046806972453304826, 0.046806972453304826, 0.0038884147449134263, 0.0019442073724567131, 0.0019442073724567131, 0.0019442073724567131, 0.9837689304630968, 0.0038884147449134263, 0.0019442073724567131, 0.0019442073724567131, 0.0036851155126155647, 0.0018425577563077823, 0.0018425577563077823, 0.0018425577563077823, 0.9691853798178935, 0.018425577563077822, 0.0018425577563077823, 0.0018425577563077823, 0.0639992245405147, 0.056557454245106005, 0.002976708118163474, 0.3646467444750256, 0.01041847841357216, 0.007441770295408685, 0.486691777319728, 0.005953416236326948, 0.021084444951837665, 0.4954844563681851, 0.010542222475918833, 0.010542222475918833, 0.010542222475918833, 0.010542222475918833, 0.4111466765608344, 0.021084444951837665, 0.059368540201766413, 0.059368540201766413, 0.059368540201766413, 0.059368540201766413, 0.2968427010088321, 0.4155797814123649, 0.059368540201766413, 0.059368540201766413, 0.01137100862965578, 0.01137100862965578, 0.01137100862965578, 0.01137100862965578, 0.01137100862965578, 0.01137100862965578, 0.01137100862965578, 0.9210516990021183, 0.027439792992611317, 0.027439792992611317, 0.027439792992611317, 0.027439792992611317, 0.08231937897783395, 0.027439792992611317, 0.027439792992611317, 0.7957539967857282, 0.2517576931325021, 0.006993269253680615, 0.006993269253680615, 0.006993269253680615, 0.006993269253680615, 0.006993269253680615, 0.7133134638754227, 0.006993269253680615, 0.0032935992189464104, 0.0016467996094732052, 0.0016467996094732052, 0.0016467996094732052, 0.0016467996094732052, 0.9847861664649767, 0.0032935992189464104, 0.0016467996094732052, 0.027192033220362063, 0.027192033220362063, 0.6526087972886895, 0.027192033220362063, 0.16315219932217237, 0.027192033220362063, 0.027192033220362063, 0.054384066440724126, 0.005712022465191863, 0.005712022465191863, 0.011424044930383726, 0.005712022465191863, 0.005712022465191863, 0.01713606739557559, 0.23990494353805827, 0.708290785683791, 0.002131814471152127, 0.002131814471152127, 0.002131814471152127, 0.5627990203841615, 0.419967450816969, 0.002131814471152127, 0.002131814471152127, 0.004263628942304254, 0.24776517758307007, 0.2894193481605476, 0.26380974699069104, 0.041654170577477535, 0.029312194110076784, 0.062224131356478786, 0.040317123126842457, 0.02560960116985656, 0.2475456429681917, 0.009168357146970063, 0.35756592873183246, 0.33922921443789233, 0.009168357146970063, 0.009168357146970063, 0.009168357146970063, 0.018336714293940126, 0.0028833581510474527, 0.0028833581510474527, 0.0028833581510474527, 0.02306686520837962, 0.8650074453142358, 0.0028833581510474527, 0.0028833581510474527, 0.09515081898456593, 0.05973019841715375, 0.05973019841715375, 0.05973019841715375, 0.05973019841715375, 0.5973019841715375, 0.1194603968343075, 0.05973019841715375, 0.05973019841715375, 0.09497669670345195, 0.09497669670345195, 0.09497669670345195, 0.09497669670345195, 0.09497669670345195, 0.09497669670345195, 0.09497669670345195, 0.47488348351725973, 0.0909155136799848, 0.0909155136799848, 0.0909155136799848, 0.0909155136799848, 0.0909155136799848, 0.0909155136799848, 0.4545775683999239, 0.0909155136799848, 0.0051345879427351585, 0.21565269359487665, 0.0051345879427351585, 0.0051345879427351585, 0.010269175885470317, 0.0051345879427351585, 0.2361910453658173, 0.5185933822162511, 0.05197083732102321, 0.05197083732102321, 0.05197083732102321, 0.05197083732102321, 0.05197083732102321, 0.05197083732102321, 0.05197083732102321, 0.6756208851733017, 0.8687892929672426, 0.020685459356362918, 0.020685459356362918, 0.020685459356362918, 0.020685459356362918, 0.020685459356362918, 0.020685459356362918, 0.020685459356362918, 0.0025881020448707773, 0.0012940510224353887, 0.0025881020448707773, 0.0012940510224353887, 0.0012940510224353887, 0.789371123685587, 0.19798980643261446, 0.0025881020448707773, 0.9738355739883338, 0.0008330501060635874, 0.0008330501060635874, 0.004165250530317937, 0.0008330501060635874, 0.0008330501060635874, 0.017494052227335338, 0.0008330501060635874, 0.0019466224459999835, 0.0019466224459999835, 0.0019466224459999835, 0.5197481930819956, 0.4399366727959963, 0.0019466224459999835, 0.0019466224459999835, 0.029199336689999755, 0.032905794420378734, 0.032905794420378734, 0.032905794420378734, 0.032905794420378734, 0.7897390660890896, 0.032905794420378734, 0.032905794420378734, 0.032905794420378734, 0.0021427968207809217, 0.0021427968207809217, 0.0021427968207809217, 0.5656983606861634, 0.4178453800522798, 0.0021427968207809217, 0.0021427968207809217, 0.0042855936415618434, 0.0014859197558330488, 0.2065428460607938, 0.37668065810367785, 0.09584182425123165, 0.2095146855724599, 0.016345117314163538, 0.08766926559414988, 0.005200719145415671, 0.01753696987154614, 0.8067006140911225, 0.03507393974309228, 0.01753696987154614, 0.07014787948618456, 0.01753696987154614, 0.01753696987154614, 0.01753696987154614, 0.003153113740668095, 0.17342125573674522, 0.32792382902948186, 0.46350771987821, 0.009459341222004284, 0.009459341222004284, 0.00630622748133619, 0.003153113740668095, 0.9085266096322945, 0.06399187424366597, 0.0015800462776213817, 0.0031600925552427634, 0.0007900231388106909, 0.0007900231388106909, 0.020540601609077964, 0.0007900231388106909, 0.04634034574195746, 0.04634034574195746, 0.04634034574195746, 0.04634034574195746, 0.13902103722587236, 0.602424494645447, 0.04634034574195746, 0.04634034574195746, 0.033773353201648454, 0.8105604768395629, 0.033773353201648454, 0.033773353201648454, 0.033773353201648454, 0.033773353201648454, 0.033773353201648454, 0.033773353201648454, 0.08582595103386326, 0.08582595103386326, 0.08582595103386326, 0.08582595103386326, 0.08582595103386326, 0.08582595103386326, 0.08582595103386326, 0.5149557062031795, 0.7687512938061583, 0.21434457100029503, 0.0007808545391631877, 0.00039042726958159386, 0.00039042726958159386, 0.0007808545391631877, 0.013664954435355784, 0.0007808545391631877, 0.025624029870485402, 0.025624029870485402, 0.025624029870485402, 0.025624029870485402, 0.48685656753922263, 0.35873641818679564, 0.025624029870485402, 0.025624029870485402, 0.008941438650615282, 0.008941438650615282, 0.008941438650615282, 0.008941438650615282, 0.008941438650615282, 0.008941438650615282, 0.9388510583146046, 0.008941438650615282, 0.09091550106733909, 0.09091550106733909, 0.09091550106733909, 0.09091550106733909, 0.09091550106733909, 0.09091550106733909, 0.45457750533669544, 0.09091550106733909, 0.37798252313644565, 0.004199805812627174, 0.17639184413034129, 0.004199805812627174, 0.004199805812627174, 0.004199805812627174, 0.42838019288797174, 0.004199805812627174, 0.008948271303244205, 0.008948271303244205, 0.008948271303244205, 0.9037754016276646, 0.05368962781946522, 0.008948271303244205, 0.008948271303244205, 0.008948271303244205, 0.019463279545801303, 0.019463279545801303, 0.019463279545801303, 0.03892655909160261, 0.7201413431946482, 0.13624295682060913, 0.03892655909160261, 0.019463279545801303, 0.062490801129611924, 0.062490801129611924, 0.062490801129611924, 0.062490801129611924, 0.062490801129611924, 0.6249080112961192, 0.062490801129611924, 0.062490801129611924, 0.06846295706213969, 0.06846295706213969, 0.5477036564971175, 0.06846295706213969, 0.06846295706213969, 0.06846295706213969, 0.06846295706213969, 0.06846295706213969, 0.002573997680360159, 0.002573997680360159, 0.0012869988401800795, 0.0012869988401800795, 0.002573997680360159, 0.7734863029482277, 0.21492880631007327, 0.0012869988401800795, 0.002689425409078375, 0.0013447127045391875, 0.0013447127045391875, 0.0013447127045391875, 0.0013447127045391875, 0.8001040592008165, 0.1896044913400254, 0.0013447127045391875, 0.003923614763854583, 0.3374308696914941, 0.003923614763854583, 0.003923614763854583, 0.08239591004094624, 0.003923614763854583, 0.423750394496295, 0.14125013149876497, 0.06249075957247234, 0.06249075957247234, 0.06249075957247234, 0.06249075957247234, 0.06249075957247234, 0.6249075957247233, 0.06249075957247234, 0.06249075957247234, 0.07623565563805651, 0.07623565563805651, 0.07623565563805651, 0.07623565563805651, 0.07623565563805651, 0.5336495894663956, 0.07623565563805651, 0.07623565563805651, 0.004251168723759107, 0.004251168723759107, 0.004251168723759107, 0.004251168723759107, 0.004251168723759107, 0.004251168723759107, 0.9607641315695583, 0.012753506171277322, 0.0649149036886725, 0.0649149036886725, 0.0649149036886725, 0.0649149036886725, 0.5842341331980525, 0.0649149036886725, 0.0649149036886725, 0.0649149036886725, 0.013058764646510674, 0.013058764646510674, 0.013058764646510674, 0.013058764646510674, 0.09141135252557471, 0.3917629393953202, 0.013058764646510674, 0.4570567626278736, 0.016057579114906184, 0.016057579114906184, 0.016057579114906184, 0.016057579114906184, 0.35326674052793605, 0.016057579114906184, 0.016057579114906184, 0.5620152690217164, 0.6399049192613174, 0.0024517429856755458, 0.0049034859713510915, 0.3162748451521454, 0.007355228957026637, 0.0024517429856755458, 0.024517429856755455, 0.0024517429856755458, 0.684515626695534, 0.042782226668470875, 0.021391113334235438, 0.12834668000541263, 0.042782226668470875, 0.021391113334235438, 0.042782226668470875, 0.021391113334235438, 0.0809341927082929, 0.0809341927082929, 0.4856051562497574, 0.0809341927082929, 0.0809341927082929, 0.0809341927082929, 0.0809341927082929, 0.0809341927082929, 0.07395273865071861, 0.07395273865071861, 0.07395273865071861, 0.07395273865071861, 0.5916219092057489, 0.07395273865071861, 0.07395273865071861, 0.07395273865071861, 0.017606230541136293, 0.017606230541136293, 0.017606230541136293, 0.017606230541136293, 0.2640934581170444, 0.017606230541136293, 0.017606230541136293, 0.6514305300220428, 0.018978783109797746, 0.8540452399408986, 0.018978783109797746, 0.018978783109797746, 0.018978783109797746, 0.018978783109797746, 0.03795756621959549, 0.018978783109797746, 0.1326628409461114, 0.13729378200583192, 0.30128357717946447, 0.31190750078705864, 0.0005448165952612378, 0.0016344497857837133, 0.0005448165952612378, 0.11386666840959869, 0.013983685569679301, 0.013983685569679301, 0.013983685569679301, 0.013983685569679301, 0.013983685569679301, 0.013983685569679301, 0.013983685569679301, 0.9089395620291546, 0.7068989936813087, 0.002097623126650768, 0.002097623126650768, 0.2601052677046952, 0.016780985013206143, 0.002097623126650768, 0.004195246253301536, 0.008390492506603071, 0.011779170289666486, 0.65374395107649, 0.2709209166623292, 0.03533751086899946, 0.005889585144833243, 0.005889585144833243, 0.005889585144833243, 0.005889585144833243, 0.02305450018075092, 0.6685805052417767, 0.02305450018075092, 0.02305450018075092, 0.02305450018075092, 0.02305450018075092, 0.20749050162675828, 0.02305450018075092, 0.0685241378417321, 0.04568275856115474, 0.43398620633097, 0.3654620684892379, 0.02284137928057737, 0.02284137928057737, 0.02284137928057737, 0.04568275856115474, 0.023586742912375235, 0.023586742912375235, 0.023586742912375235, 0.023586742912375235, 0.0707602287371257, 0.023586742912375235, 0.023586742912375235, 0.801949259020758, 0.03596923315473701, 0.03596923315473701, 0.03596923315473701, 0.03596923315473701, 0.03596923315473701, 0.03596923315473701, 0.03596923315473701, 0.7553538962494772, 0.02019640231188131, 0.24235682774257572, 0.02019640231188131, 0.02019640231188131, 0.1817676208069318, 0.02019640231188131, 0.46451725317327014, 0.02019640231188131, 0.048640610666758004, 0.048640610666758004, 0.632327938667854, 0.048640610666758004, 0.048640610666758004, 0.09728122133351601, 0.048640610666758004, 0.048640610666758004, 0.054369554206548015, 0.054369554206548015, 0.054369554206548015, 0.054369554206548015, 0.054369554206548015, 0.6524346504785762, 0.054369554206548015, 0.054369554206548015, 0.00687498692347614, 0.00687498692347614, 0.25437451616861717, 0.00687498692347614, 0.01374997384695228, 0.00687498692347614, 0.7012486661945663, 0.00687498692347614, 0.02309228737841889, 0.02309228737841889, 0.09236914951367556, 0.02309228737841889, 0.13855372427051332, 0.02309228737841889, 0.16164601164893222, 0.5080303223252155, 0.024976439744961332, 0.024976439744961332, 0.024976439744961332, 0.024976439744961332, 0.024976439744961332, 0.8491989513286853, 0.024976439744961332, 0.024976439744961332, 0.0025363786984968295, 0.0025363786984968295, 0.8598323787904252, 0.0025363786984968295, 0.12428255622634464, 0.005072757396993659, 0.0025363786984968295, 0.0025363786984968295, 0.04545481212739305, 0.04545481212739305, 0.04545481212739305, 0.04545481212739305, 0.7272769940382888, 0.04545481212739305, 0.04545481212739305, 0.04545481212739305, 0.06594662761140199, 0.5275730208912159, 0.06594662761140199, 0.06594662761140199, 0.13189325522280398, 0.06594662761140199, 0.06594662761140199, 0.06594662761140199, 0.7194354850487534, 0.002438764356097469, 0.002438764356097469, 0.2511927286780393, 0.002438764356097469, 0.002438764356097469, 0.017071350492682283, 0.002438764356097469, 0.6930342164972149, 0.002566793394434129, 0.002566793394434129, 0.28748086017662244, 0.002566793394434129, 0.002566793394434129, 0.005133586788868258, 0.002566793394434129, 0.04951045200146872, 0.04951045200146872, 0.04951045200146872, 0.04951045200146872, 0.04951045200146872, 0.34657316401028104, 0.04951045200146872, 0.34657316401028104, 0.9775788440058342, 0.0007896436542858111, 0.0007896436542858111, 0.002368930962857433, 0.0007896436542858111, 0.0007896436542858111, 0.01500322943143041, 0.0007896436542858111, 0.011035028613536989, 0.8717672604694221, 0.044140114454147956, 0.011035028613536989, 0.011035028613536989, 0.011035028613536989, 0.011035028613536989, 0.022070057227073978, 0.06981867559791535, 0.06981867559791535, 0.06981867559791535, 0.06981867559791535, 0.06981867559791535, 0.5585494047833228, 0.06981867559791535, 0.06981867559791535, 0.006937913428651898, 0.006937913428651898, 0.006937913428651898, 0.006937913428651898, 0.006937913428651898, 0.006937913428651898, 0.95049413972531, 0.006937913428651898, 0.003995354628484569, 0.003995354628484569, 0.9708711747217501, 0.003995354628484569, 0.003995354628484569, 0.003995354628484569, 0.003995354628484569, 0.003995354628484569], \"Term\": [\"accurate\", \"accurate\", \"accurate\", \"accurate\", \"accurate\", \"accurate\", \"accurate\", \"accurate\", \"addition\", \"addition\", \"addition\", \"addition\", \"addition\", \"addition\", \"addition\", \"addition\", \"additional\", \"additional\", \"additional\", \"additional\", \"additional\", \"additional\", \"additional\", \"additional\", \"additionally\", \"additionally\", \"additionally\", \"additionally\", \"additionally\", \"additionally\", \"additionally\", \"additionally\", \"address\", \"address\", \"address\", \"address\", \"address\", \"address\", \"address\", \"address\", \"administer\", \"administer\", \"administer\", \"administer\", \"administer\", \"administer\", \"administer\", \"administer\", \"adverse\", \"adverse\", \"adverse\", \"adverse\", \"adverse\", \"adverse\", \"adverse\", \"adverse\", \"alert\", \"alert\", \"alert\", \"alert\", \"alert\", \"alert\", \"alert\", \"alert\", \"allegation\", \"allegation\", \"allegation\", \"allegation\", \"allegation\", \"allegation\", \"allegation\", \"allegation\", \"allege\", \"allege\", \"allege\", \"allege\", \"allege\", \"allege\", \"allege\", \"allege\", \"ambiguity\", \"ambiguity\", \"ambiguity\", \"ambiguity\", \"ambiguity\", \"ambiguity\", \"ambiguity\", \"ambiguity\", \"application\", \"application\", \"application\", \"application\", \"application\", \"application\", \"application\", \"application\", \"arm\", \"arm\", \"arm\", \"arm\", \"arm\", \"arm\", \"arm\", \"arm\", \"attempt\", \"attempt\", \"attempt\", \"attempt\", \"attempt\", \"attempt\", \"attempt\", \"attempt\", \"audio_output\", \"audio_output\", \"audio_output\", \"audio_output\", \"audio_output\", \"audio_output\", \"audio_output\", \"audio_output\", \"available\", \"available\", \"available\", \"available\", \"available\", \"available\", \"available\", \"available\", \"base\", \"base\", \"base\", \"base\", \"base\", \"base\", \"base\", \"base\", \"battery\", \"battery\", \"battery\", \"battery\", \"battery\", \"battery\", \"battery\", \"battery\", \"become\", \"become\", \"become\", \"become\", \"become\", \"become\", \"become\", \"become\", \"bg\", \"bg\", \"bg\", \"bg\", \"bg\", \"bg\", \"bg\", \"bg\", \"bleed\", \"bleed\", \"bleed\", \"bleed\", \"bleed\", \"bleed\", \"bleed\", \"bleed\", \"blood\", \"blood\", \"blood\", \"blood\", \"blood\", \"blood\", \"blood\", \"blood\", \"boot\", \"boot\", \"boot\", \"boot\", \"boot\", \"boot\", \"boot\", \"boot\", \"broken\", \"broken\", \"broken\", \"broken\", \"broken\", \"broken\", \"broken\", \"broken\", \"bruise\", \"bruise\", \"bruise\", \"bruise\", \"bruise\", \"bruise\", \"bruise\", \"bruise\", \"calibrate\", \"calibrate\", \"calibrate\", \"calibrate\", \"calibrate\", \"calibrate\", \"calibrate\", \"calibrate\", \"calibration\", \"calibration\", \"calibration\", \"calibration\", \"calibration\", \"calibration\", \"calibration\", \"calibration\", \"call\", \"call\", \"call\", \"call\", \"call\", \"call\", \"call\", \"call\", \"case\", \"case\", \"case\", \"case\", \"case\", \"case\", \"case\", \"case\", \"cause\", \"cause\", \"cause\", \"cause\", \"cause\", \"cause\", \"cause\", \"cause\", \"cgm\", \"cgm\", \"cgm\", \"cgm\", \"cgm\", \"cgm\", \"cgm\", \"cgm\", \"charge\", \"charge\", \"charge\", \"charge\", \"charge\", \"charge\", \"charge\", \"charge\", \"check\", \"check\", \"check\", \"check\", \"check\", \"check\", \"check\", \"check\", \"code\", \"code\", \"code\", \"code\", \"code\", \"code\", \"code\", \"code\", \"com\", \"com\", \"com\", \"com\", \"com\", \"com\", \"com\", \"com\", \"command\", \"command\", \"command\", \"command\", \"command\", \"command\", \"command\", \"command\", \"compare\", \"compare\", \"compare\", \"compare\", \"compare\", \"compare\", \"compare\", \"compare\", \"complaint\", \"complaint\", \"complaint\", \"complaint\", \"complaint\", \"complaint\", \"complaint\", \"complaint\", \"complete\", \"complete\", \"complete\", \"complete\", \"complete\", \"complete\", \"complete\", \"complete\", \"confirm\", \"confirm\", \"confirm\", \"confirm\", \"confirm\", \"confirm\", \"confirm\", \"confirm\", \"confirmation\", \"confirmation\", \"confirmation\", \"confirmation\", \"confirmation\", \"confirmation\", \"confirmation\", \"confirmation\", \"connection\", \"connection\", \"connection\", \"connection\", \"connection\", \"connection\", \"connection\", \"connection\", \"consciousness\", \"consciousness\", \"consciousness\", \"consciousness\", \"consciousness\", \"consciousness\", \"consciousness\", \"consciousness\", \"contact\", \"contact\", \"contact\", \"contact\", \"contact\", \"contact\", \"contact\", \"contact\", \"continued\", \"continued\", \"continued\", \"continued\", \"continued\", \"continued\", \"continued\", \"continued\", \"continuous\", \"continuous\", \"continuous\", \"continuous\", \"continuous\", \"continuous\", \"continuous\", \"continuous\", \"correct\", \"correct\", \"correct\", \"correct\", \"correct\", \"correct\", \"correct\", \"correct\", \"correction\", \"correction\", \"correction\", \"correction\", \"correction\", \"correction\", \"correction\", \"correction\", \"counts_aberration\", \"counts_aberration\", \"counts_aberration\", \"counts_aberration\", \"counts_aberration\", \"counts_aberration\", \"counts_aberration\", \"counts_aberration\", \"crash\", \"crash\", \"crash\", \"crash\", \"crash\", \"crash\", \"crash\", \"crash\", \"customer\", \"customer\", \"customer\", \"customer\", \"customer\", \"customer\", \"customer\", \"customer\", \"data\", \"data\", \"data\", \"data\", \"data\", \"data\", \"data\", \"data\", \"datum\", \"datum\", \"datum\", \"datum\", \"datum\", \"datum\", \"datum\", \"datum\", \"declined_assistance\", \"declined_assistance\", \"declined_assistance\", \"declined_assistance\", \"declined_assistance\", \"declined_assistance\", \"declined_assistance\", \"declined_assistance\", \"defective\", \"defective\", \"defective\", \"defective\", \"defective\", \"defective\", \"defective\", \"defective\", \"deploy\", \"deploy\", \"deploy\", \"deploy\", \"deploy\", \"deploy\", \"deploy\", \"deploy\", \"detached\", \"detached\", \"detached\", \"detached\", \"detached\", \"detached\", \"detached\", \"detached\", \"determine\", \"determine\", \"determine\", \"determine\", \"determine\", \"determine\", \"determine\", \"determine\", \"determined\", \"determined\", \"determined\", \"determined\", \"determined\", \"determined\", \"determined\", \"determined\", \"device\", \"device\", \"device\", \"device\", \"device\", \"device\", \"device\", \"device\", \"difference\", \"difference\", \"difference\", \"difference\", \"difference\", \"difference\", \"difference\", \"difference\", \"discoloration\", \"discoloration\", \"discoloration\", \"discoloration\", \"discoloration\", \"discoloration\", \"discoloration\", \"discoloration\", \"display\", \"display\", \"display\", \"display\", \"display\", \"display\", \"display\", \"display\", \"download\", \"download\", \"download\", \"download\", \"download\", \"download\", \"download\", \"download\", \"due\", \"due\", \"due\", \"due\", \"due\", \"due\", \"due\", \"due\", \"duration\", \"duration\", \"duration\", \"duration\", \"duration\", \"duration\", \"duration\", \"duration\", \"early\", \"early\", \"early\", \"early\", \"early\", \"early\", \"early\", \"early\", \"emergency\", \"emergency\", \"emergency\", \"emergency\", \"emergency\", \"emergency\", \"emergency\", \"emergency\", \"end\", \"end\", \"end\", \"end\", \"end\", \"end\", \"end\", \"end\", \"enter\", \"enter\", \"enter\", \"enter\", \"enter\", \"enter\", \"enter\", \"enter\", \"error\", \"error\", \"error\", \"error\", \"error\", \"error\", \"error\", \"error\", \"establish\", \"establish\", \"establish\", \"establish\", \"establish\", \"establish\", \"establish\", \"establish\", \"evaluate\", \"evaluate\", \"evaluate\", \"evaluate\", \"evaluate\", \"evaluate\", \"evaluate\", \"evaluate\", \"evaluation\", \"evaluation\", \"evaluation\", \"evaluation\", \"evaluation\", \"evaluation\", \"evaluation\", \"evaluation\", \"event\", \"event\", \"event\", \"event\", \"event\", \"event\", \"event\", \"event\", \"expect\", \"expect\", \"expect\", \"expect\", \"expect\", \"expect\", \"expect\", \"expect\", \"expiration\", \"expiration\", \"expiration\", \"expiration\", \"expiration\", \"expiration\", \"expiration\", \"expiration\", \"expire\", \"expire\", \"expire\", \"expire\", \"expire\", \"expire\", \"expire\", \"expire\", \"exterior\", \"exterior\", \"exterior\", \"exterior\", \"exterior\", \"exterior\", \"exterior\", \"exterior\", \"external\", \"external\", \"external\", \"external\", \"external\", \"external\", \"external\", \"external\", \"fail\", \"fail\", \"fail\", \"fail\", \"fail\", \"fail\", \"fail\", \"fail\", \"fall\", \"fall\", \"fall\", \"fall\", \"fall\", \"fall\", \"fall\", \"fall\", \"fatal\", \"fatal\", \"fatal\", \"fatal\", \"fatal\", \"fatal\", \"fatal\", \"fatal\", \"find\", \"find\", \"find\", \"find\", \"find\", \"find\", \"find\", \"find\", \"finding\", \"finding\", \"finding\", \"finding\", \"finding\", \"finding\", \"finding\", \"finding\", \"follow\", \"follow\", \"follow\", \"follow\", \"follow\", \"follow\", \"follow\", \"follow\", \"foot\", \"foot\", \"foot\", \"foot\", \"foot\", \"foot\", \"foot\", \"foot\", \"freeze\", \"freeze\", \"freeze\", \"freeze\", \"freeze\", \"freeze\", \"freeze\", \"freeze\", \"frozen\", \"frozen\", \"frozen\", \"frozen\", \"frozen\", \"frozen\", \"frozen\", \"frozen\", \"full\", \"full\", \"full\", \"full\", \"full\", \"full\", \"full\", \"full\", \"functional\", \"functional\", \"functional\", \"functional\", \"functional\", \"functional\", \"functional\", \"functional\", \"glucose\", \"glucose\", \"glucose\", \"glucose\", \"glucose\", \"glucose\", \"glucose\", \"glucose\", \"great\", \"great\", \"great\", \"great\", \"great\", \"great\", \"great\", \"great\", \"grid\", \"grid\", \"grid\", \"grid\", \"grid\", \"grid\", \"grid\", \"grid\", \"hospital\", \"hospital\", \"hospital\", \"hospital\", \"hospital\", \"hospital\", \"hospital\", \"hospital\", \"hour\", \"hour\", \"hour\", \"hour\", \"hour\", \"hour\", \"hour\", \"hour\", \"however\", \"however\", \"however\", \"however\", \"however\", \"however\", \"however\", \"however\", \"icon\", \"icon\", \"icon\", \"icon\", \"icon\", \"icon\", \"icon\", \"icon\", \"impact\", \"impact\", \"impact\", \"impact\", \"impact\", \"impact\", \"impact\", \"impact\", \"inaccuracy\", \"inaccuracy\", \"inaccuracy\", \"inaccuracy\", \"inaccuracy\", \"inaccuracy\", \"inaccuracy\", \"inaccuracy\", \"incorrectly\", \"incorrectly\", \"incorrectly\", \"incorrectly\", \"incorrectly\", \"incorrectly\", \"incorrectly\", \"incorrectly\", \"indicate\", \"indicate\", \"indicate\", \"indicate\", \"indicate\", \"indicate\", \"indicate\", \"indicate\", \"infection\", \"infection\", \"infection\", \"infection\", \"infection\", \"infection\", \"infection\", \"infection\", \"information\", \"information\", \"information\", \"information\", \"information\", \"information\", \"information\", \"information\", \"initiate\", \"initiate\", \"initiate\", \"initiate\", \"initiate\", \"initiate\", \"initiate\", \"initiate\", \"injury\", \"injury\", \"injury\", \"injury\", \"injury\", \"injury\", \"injury\", \"injury\", \"insert\", \"insert\", \"insert\", \"insert\", \"insert\", \"insert\", \"insert\", \"insert\", \"inspection\", \"inspection\", \"inspection\", \"inspection\", \"inspection\", \"inspection\", \"inspection\", \"inspection\", \"instruct\", \"instruct\", \"instruct\", \"instruct\", \"instruct\", \"instruct\", \"instruct\", \"instruct\", \"insulin\", \"insulin\", \"insulin\", \"insulin\", \"insulin\", \"insulin\", \"insulin\", \"insulin\", \"intermittent\", \"intermittent\", \"intermittent\", \"intermittent\", \"intermittent\", \"intermittent\", \"intermittent\", \"intermittent\", \"internal\", \"internal\", \"internal\", \"internal\", \"internal\", \"internal\", \"internal\", \"internal\", \"intervention\", \"intervention\", \"intervention\", \"intervention\", \"intervention\", \"intervention\", \"intervention\", \"intervention\", \"invalid\", \"invalid\", \"invalid\", \"invalid\", \"invalid\", \"invalid\", \"invalid\", \"invalid\", \"investigate\", \"investigate\", \"investigate\", \"investigate\", \"investigate\", \"investigate\", \"investigate\", \"investigate\", \"investigation\", \"investigation\", \"investigation\", \"investigation\", \"investigation\", \"investigation\", \"investigation\", \"investigation\", \"irritation\", \"irritation\", \"irritation\", \"irritation\", \"irritation\", \"irritation\", \"irritation\", \"irritation\", \"issue\", \"issue\", \"issue\", \"issue\", \"issue\", \"issue\", \"issue\", \"issue\", \"itching\", \"itching\", \"itching\", \"itching\", \"itching\", \"itching\", \"itching\", \"itching\", \"keep\", \"keep\", \"keep\", \"keep\", \"keep\", \"keep\", \"keep\", \"keep\", \"know\", \"know\", \"know\", \"know\", \"know\", \"know\", \"know\", \"know\", \"label\", \"label\", \"label\", \"label\", \"label\", \"label\", \"label\", \"label\", \"labeling\", \"labeling\", \"labeling\", \"labeling\", \"labeling\", \"labeling\", \"labeling\", \"labeling\", \"lead\", \"lead\", \"lead\", \"lead\", \"lead\", \"lead\", \"lead\", \"lead\", \"less\", \"less\", \"less\", \"less\", \"less\", \"less\", \"less\", \"less\", \"line\", \"line\", \"line\", \"line\", \"line\", \"line\", \"line\", \"line\", \"log\", \"log\", \"log\", \"log\", \"log\", \"log\", \"log\", \"log\", \"lose\", \"lose\", \"lose\", \"lose\", \"lose\", \"lose\", \"lose\", \"lose\", \"loss\", \"loss\", \"loss\", \"loss\", \"loss\", \"loss\", \"loss\", \"loss\", \"low\", \"low\", \"low\", \"low\", \"low\", \"low\", \"low\", \"low\", \"make\", \"make\", \"make\", \"make\", \"make\", \"make\", \"make\", \"make\", \"manually\", \"manually\", \"manually\", \"manually\", \"manually\", \"manually\", \"manually\", \"manually\", \"measurement\", \"measurement\", \"measurement\", \"measurement\", \"measurement\", \"measurement\", \"measurement\", \"measurement\", \"medical\", \"medical\", \"medical\", \"medical\", \"medical\", \"medical\", \"medical\", \"medical\", \"medwatch\", \"medwatch\", \"medwatch\", \"medwatch\", \"medwatch\", \"medwatch\", \"medwatch\", \"medwatch\", \"message\", \"message\", \"message\", \"message\", \"message\", \"message\", \"message\", \"message\", \"meter\", \"meter\", \"meter\", \"meter\", \"meter\", \"meter\", \"meter\", \"meter\", \"miss\", \"miss\", \"miss\", \"miss\", \"miss\", \"miss\", \"miss\", \"miss\", \"misuse\", \"misuse\", \"misuse\", \"misuse\", \"misuse\", \"misuse\", \"misuse\", \"misuse\", \"mobile\", \"mobile\", \"mobile\", \"mobile\", \"mobile\", \"mobile\", \"mobile\", \"mobile\", \"monitor\", \"monitor\", \"monitor\", \"monitor\", \"monitor\", \"monitor\", \"monitor\", \"monitor\", \"month\", \"month\", \"month\", \"month\", \"month\", \"month\", \"month\", \"month\", \"multiple\", \"multiple\", \"multiple\", \"multiple\", \"multiple\", \"multiple\", \"multiple\", \"multiple\", \"new\", \"new\", \"new\", \"new\", \"new\", \"new\", \"new\", \"new\", \"nordic\", \"nordic\", \"nordic\", \"nordic\", \"nordic\", \"nordic\", \"nordic\", \"nordic\", \"number\", \"number\", \"number\", \"number\", \"number\", \"number\", \"number\", \"number\", \"obtain\", \"obtain\", \"obtain\", \"obtain\", \"obtain\", \"obtain\", \"obtain\", \"obtain\", \"occur\", \"occur\", \"occur\", \"occur\", \"occur\", \"occur\", \"occur\", \"occur\", \"operate\", \"operate\", \"operate\", \"operate\", \"operate\", \"operate\", \"operate\", \"operate\", \"operating\", \"operating\", \"operating\", \"operating\", \"operating\", \"operating\", \"operating\", \"operating\", \"opposite\", \"opposite\", \"opposite\", \"opposite\", \"opposite\", \"opposite\", \"opposite\", \"opposite\", \"pain\", \"pain\", \"pain\", \"pain\", \"pain\", \"pain\", \"pain\", \"pain\", \"pair\", \"pair\", \"pair\", \"pair\", \"pair\", \"pair\", \"pair\", \"pair\", \"parke\", \"parke\", \"parke\", \"parke\", \"parke\", \"parke\", \"parke\", \"parke\", \"pass\", \"pass\", \"pass\", \"pass\", \"pass\", \"pass\", \"pass\", \"pass\", \"patient\", \"patient\", \"patient\", \"patient\", \"patient\", \"patient\", \"patient\", \"patient\", \"pende\", \"pende\", \"pende\", \"pende\", \"pende\", \"pende\", \"pende\", \"pende\", \"perform\", \"perform\", \"perform\", \"perform\", \"perform\", \"perform\", \"perform\", \"perform\", \"period\", \"period\", \"period\", \"period\", \"period\", \"period\", \"period\", \"period\", \"physical\", \"physical\", \"physical\", \"physical\", \"physical\", \"physical\", \"physical\", \"physical\", \"pod\", \"pod\", \"pod\", \"pod\", \"pod\", \"pod\", \"pod\", \"pod\", \"portion\", \"portion\", \"portion\", \"portion\", \"portion\", \"portion\", \"portion\", \"portion\", \"potential\", \"potential\", \"potential\", \"potential\", \"potential\", \"potential\", \"potential\", \"potential\", \"prematurely\", \"prematurely\", \"prematurely\", \"prematurely\", \"prematurely\", \"prematurely\", \"prematurely\", \"prematurely\", \"present\", \"present\", \"present\", \"present\", \"present\", \"present\", \"present\", \"present\", \"probable\", \"probable\", \"probable\", \"probable\", \"probable\", \"probable\", \"probable\", \"probable\", \"product\", \"product\", \"product\", \"product\", \"product\", \"product\", \"product\", \"product\", \"progressive\", \"progressive\", \"progressive\", \"progressive\", \"progressive\", \"progressive\", \"progressive\", \"progressive\", \"provide\", \"provide\", \"provide\", \"provide\", \"provide\", \"provide\", \"provide\", \"provide\", \"pump\", \"pump\", \"pump\", \"pump\", \"pump\", \"pump\", \"pump\", \"pump\", \"range\", \"range\", \"range\", \"range\", \"range\", \"range\", \"range\", \"range\", \"reaction\", \"reaction\", \"reaction\", \"reaction\", \"reaction\", \"reaction\", \"reaction\", \"reaction\", \"read\", \"read\", \"read\", \"read\", \"read\", \"read\", \"read\", \"read\", \"reading\", \"reading\", \"reading\", \"reading\", \"reading\", \"reading\", \"reading\", \"reading\", \"receive\", \"receive\", \"receive\", \"receive\", \"receive\", \"receive\", \"receive\", \"receive\", \"receiver\", \"receiver\", \"receiver\", \"receiver\", \"receiver\", \"receiver\", \"receiver\", \"receiver\", \"redness\", \"redness\", \"redness\", \"redness\", \"redness\", \"redness\", \"redness\", \"redness\", \"regain\", \"regain\", \"regain\", \"regain\", \"regain\", \"regain\", \"regain\", \"regain\", \"regard\", \"regard\", \"regard\", \"regard\", \"regard\", \"regard\", \"regard\", \"regard\", \"relate\", \"relate\", \"relate\", \"relate\", \"relate\", \"relate\", \"relate\", \"relate\", \"relevant\", \"relevant\", \"relevant\", \"relevant\", \"relevant\", \"relevant\", \"relevant\", \"relevant\", \"remove\", \"remove\", \"remove\", \"remove\", \"remove\", \"remove\", \"remove\", \"remove\", \"replace\", \"replace\", \"replace\", \"replace\", \"replace\", \"replace\", \"replace\", \"replace\", \"replacement\", \"replacement\", \"replacement\", \"replacement\", \"replacement\", \"replacement\", \"replacement\", \"replacement\", \"report\", \"report\", \"report\", \"report\", \"report\", \"report\", \"report\", \"report\", \"reportable\", \"reportable\", \"reportable\", \"reportable\", \"reportable\", \"reportable\", \"reportable\", \"reportable\", \"reportedly\", \"reportedly\", \"reportedly\", \"reportedly\", \"reportedly\", \"reportedly\", \"reportedly\", \"reportedly\", \"require\", \"require\", \"require\", \"require\", \"require\", \"require\", \"require\", \"require\", \"reset\", \"reset\", \"reset\", \"reset\", \"reset\", \"reset\", \"reset\", \"reset\", \"resistance\", \"resistance\", \"resistance\", \"resistance\", \"resistance\", \"resistance\", \"resistance\", \"resistance\", \"resolve\", \"resolve\", \"resolve\", \"resolve\", \"resolve\", \"resolve\", \"resolve\", \"resolve\", \"respond\", \"respond\", \"respond\", \"respond\", \"respond\", \"respond\", \"respond\", \"respond\", \"restore\", \"restore\", \"restore\", \"restore\", \"restore\", \"restore\", \"restore\", \"restore\", \"return\", \"return\", \"return\", \"return\", \"return\", \"return\", \"return\", \"return\", \"review\", \"review\", \"review\", \"review\", \"review\", \"review\", \"review\", \"review\", \"root\", \"root\", \"root\", \"root\", \"root\", \"root\", \"root\", \"root\", \"second\", \"second\", \"second\", \"second\", \"second\", \"second\", \"second\", \"second\", \"send\", \"send\", \"send\", \"send\", \"send\", \"send\", \"send\", \"send\", \"sensor\", \"sensor\", \"sensor\", \"sensor\", \"sensor\", \"sensor\", \"sensor\", \"sensor\", \"service\", \"service\", \"service\", \"service\", \"service\", \"service\", \"service\", \"service\", \"session\", \"session\", \"session\", \"session\", \"session\", \"session\", \"session\", \"session\", \"share\", \"share\", \"share\", \"share\", \"share\", \"share\", \"share\", \"share\", \"show\", \"show\", \"show\", \"show\", \"show\", \"show\", \"show\", \"show\", \"shutdown\", \"shutdown\", \"shutdown\", \"shutdown\", \"shutdown\", \"shutdown\", \"shutdown\", \"shutdown\", \"side\", \"side\", \"side\", \"side\", \"side\", \"side\", \"side\", \"side\", \"signal\", \"signal\", \"signal\", \"signal\", \"signal\", \"signal\", \"signal\", \"signal\", \"skin\", \"skin\", \"skin\", \"skin\", \"skin\", \"skin\", \"skin\", \"skin\", \"smart\", \"smart\", \"smart\", \"smart\", \"smart\", \"smart\", \"smart\", \"smart\", \"speaker\", \"speaker\", \"speaker\", \"speaker\", \"speaker\", \"speaker\", \"speaker\", \"speaker\", \"specification\", \"specification\", \"specification\", \"specification\", \"specification\", \"specification\", \"specification\", \"specification\", \"start\", \"start\", \"start\", \"start\", \"start\", \"start\", \"start\", \"start\", \"state\", \"state\", \"state\", \"state\", \"state\", \"state\", \"state\", \"state\", \"states_make\", \"states_make\", \"states_make\", \"states_make\", \"states_make\", \"states_make\", \"states_make\", \"states_make\", \"stopped_worke\", \"stopped_worke\", \"stopped_worke\", \"stopped_worke\", \"stopped_worke\", \"stopped_worke\", \"stopped_worke\", \"stopped_worke\", \"submit\", \"submit\", \"submit\", \"submit\", \"submit\", \"submit\", \"submit\", \"submit\", \"supplemental\", \"supplemental\", \"supplemental\", \"supplemental\", \"supplemental\", \"supplemental\", \"supplemental\", \"supplemental\", \"support\", \"support\", \"support\", \"support\", \"support\", \"support\", \"support\", \"support\", \"sure\", \"sure\", \"sure\", \"sure\", \"sure\", \"sure\", \"sure\", \"sure\", \"swell\", \"swell\", \"swell\", \"swell\", \"swell\", \"swell\", \"swell\", \"swell\", \"system\", \"system\", \"system\", \"system\", \"system\", \"system\", \"system\", \"system\", \"take\", \"take\", \"take\", \"take\", \"take\", \"take\", \"take\", \"take\", \"tandem\", \"tandem\", \"tandem\", \"tandem\", \"tandem\", \"tandem\", \"tandem\", \"tandem\", \"technical\", \"technical\", \"technical\", \"technical\", \"technical\", \"technical\", \"technical\", \"technical\", \"test\", \"test\", \"test\", \"test\", \"test\", \"test\", \"test\", \"test\", \"testing\", \"testing\", \"testing\", \"testing\", \"testing\", \"testing\", \"testing\", \"testing\", \"thigh\", \"thigh\", \"thigh\", \"thigh\", \"thigh\", \"thigh\", \"thigh\", \"thigh\", \"third\", \"third\", \"third\", \"third\", \"third\", \"third\", \"third\", \"third\", \"time\", \"time\", \"time\", \"time\", \"time\", \"time\", \"time\", \"time\", \"tool\", \"tool\", \"tool\", \"tool\", \"tool\", \"tool\", \"tool\", \"tool\", \"transmitter\", \"transmitter\", \"transmitter\", \"transmitter\", \"transmitter\", \"transmitter\", \"transmitter\", \"transmitter\", \"ultimately\", \"ultimately\", \"ultimately\", \"ultimately\", \"ultimately\", \"ultimately\", \"ultimately\", \"ultimately\", \"unable\", \"unable\", \"unable\", \"unable\", \"unable\", \"unable\", \"unable\", \"unable\", \"undetermined\", \"undetermined\", \"undetermined\", \"undetermined\", \"undetermined\", \"undetermined\", \"undetermined\", \"undetermined\", \"unexpected\", \"unexpected\", \"unexpected\", \"unexpected\", \"unexpected\", \"unexpected\", \"unexpected\", \"unexpected\", \"unknown\", \"unknown\", \"unknown\", \"unknown\", \"unknown\", \"unknown\", \"unknown\", \"unknown\", \"unspecified\", \"unspecified\", \"unspecified\", \"unspecified\", \"unspecified\", \"unspecified\", \"unspecified\", \"unspecified\", \"unsupported\", \"unsupported\", \"unsupported\", \"unsupported\", \"unsupported\", \"unsupported\", \"unsupported\", \"unsupported\", \"upon_completion\", \"upon_completion\", \"upon_completion\", \"upon_completion\", \"upon_completion\", \"upon_completion\", \"upon_completion\", \"upon_completion\", \"upper_buttock\", \"upper_buttock\", \"upper_buttock\", \"upper_buttock\", \"upper_buttock\", \"upper_buttock\", \"upper_buttock\", \"upper_buttock\", \"upper_right\", \"upper_right\", \"upper_right\", \"upper_right\", \"upper_right\", \"upper_right\", \"upper_right\", \"upper_right\", \"usage\", \"usage\", \"usage\", \"usage\", \"usage\", \"usage\", \"usage\", \"usage\", \"use\", \"use\", \"use\", \"use\", \"use\", \"use\", \"use\", \"use\", \"user_guide\", \"user_guide\", \"user_guide\", \"user_guide\", \"user_guide\", \"user_guide\", \"user_guide\", \"user_guide\", \"value\", \"value\", \"value\", \"value\", \"value\", \"value\", \"value\", \"value\", \"value_resolve\", \"value_resolve\", \"value_resolve\", \"value_resolve\", \"value_resolve\", \"value_resolve\", \"value_resolve\", \"value_resolve\", \"vibration\", \"vibration\", \"vibration\", \"vibration\", \"vibration\", \"vibration\", \"vibration\", \"vibration\", \"visual\", \"visual\", \"visual\", \"visual\", \"visual\", \"visual\", \"visual\", \"visual\", \"voltage\", \"voltage\", \"voltage\", \"voltage\", \"voltage\", \"voltage\", \"voltage\", \"voltage\", \"wear\", \"wear\", \"wear\", \"wear\", \"wear\", \"wear\", \"wear\", \"wear\", \"window\", \"window\", \"window\", \"window\", \"window\", \"window\", \"window\", \"window\", \"wire\", \"wire\", \"wire\", \"wire\", \"wire\", \"wire\", \"wire\", \"wire\", \"without_obstruction\", \"without_obstruction\", \"without_obstruction\", \"without_obstruction\", \"without_obstruction\", \"without_obstruction\", \"without_obstruction\", \"without_obstruction\", \"yet\", \"yet\", \"yet\", \"yet\", \"yet\", \"yet\", \"yet\", \"yet\", \"zone\", \"zone\", \"zone\", \"zone\", \"zone\", \"zone\", \"zone\", \"zone\"]}, \"R\": 30, \"lambda.step\": 0.01, \"plot.opts\": {\"xlab\": \"PC1\", \"ylab\": \"PC2\"}, \"topic.order\": [4, 7, 8, 1, 5, 6, 3, 2]};\n",
       "\n",
       "function LDAvis_load_lib(url, callback){\n",
       "  var s = document.createElement('script');\n",
       "  s.src = url;\n",
       "  s.async = true;\n",
       "  s.onreadystatechange = s.onload = callback;\n",
       "  s.onerror = function(){console.warn(\"failed to load library \" + url);};\n",
       "  document.getElementsByTagName(\"head\")[0].appendChild(s);\n",
       "}\n",
       "\n",
       "if(typeof(LDAvis) !== \"undefined\"){\n",
       "   // already loaded: just create the visualization\n",
       "   !function(LDAvis){\n",
       "       new LDAvis(\"#\" + \"ldavis_el165121398402002966564818819811\", ldavis_el165121398402002966564818819811_data);\n",
       "   }(LDAvis);\n",
       "}else if(typeof define === \"function\" && define.amd){\n",
       "   // require.js is available: use it to load d3/LDAvis\n",
       "   require.config({paths: {d3: \"https://d3js.org/d3.v5\"}});\n",
       "   require([\"d3\"], function(d3){\n",
       "      window.d3 = d3;\n",
       "      LDAvis_load_lib(\"https://cdn.jsdelivr.net/gh/bmabey/pyLDAvis@3.3.1/pyLDAvis/js/ldavis.v3.0.0.js\", function(){\n",
       "        new LDAvis(\"#\" + \"ldavis_el165121398402002966564818819811\", ldavis_el165121398402002966564818819811_data);\n",
       "      });\n",
       "    });\n",
       "}else{\n",
       "    // require.js not available: dynamically load d3 & LDAvis\n",
       "    LDAvis_load_lib(\"https://d3js.org/d3.v5.js\", function(){\n",
       "         LDAvis_load_lib(\"https://cdn.jsdelivr.net/gh/bmabey/pyLDAvis@3.3.1/pyLDAvis/js/ldavis.v3.0.0.js\", function(){\n",
       "                 new LDAvis(\"#\" + \"ldavis_el165121398402002966564818819811\", ldavis_el165121398402002966564818819811_data);\n",
       "            })\n",
       "         });\n",
       "}\n",
       "</script>"
      ],
      "text/plain": [
       "PreparedData(topic_coordinates=              x         y  topics  cluster       Freq\n",
       "topic                                                \n",
       "3     -0.248330 -0.002607       1        1  28.030108\n",
       "6     -0.221258  0.029571       2        1  21.360646\n",
       "7     -0.184868 -0.114537       3        1  19.671028\n",
       "0      0.082465 -0.154392       4        1   8.032058\n",
       "4      0.223930 -0.155618       5        1   7.360167\n",
       "5      0.180462  0.263301       6        1   6.203053\n",
       "2     -0.021266  0.193101       7        1   5.298578\n",
       "1      0.188866 -0.058818       8        1   4.044362, topic_info=            Term         Freq        Total Category  logprob  loglift\n",
       "12   transmitter  3670.000000  3670.000000  Default  30.0000  30.0000\n",
       "19    evaluation  2241.000000  2241.000000  Default  29.0000  29.0000\n",
       "47        device  1084.000000  1084.000000  Default  28.0000  28.0000\n",
       "26       product  2315.000000  2315.000000  Default  27.0000  27.0000\n",
       "17         datum  2888.000000  2888.000000  Default  26.0000  26.0000\n",
       "..           ...          ...          ...      ...      ...      ...\n",
       "185      support    35.925183   254.867019   Topic8  -4.9465   1.2485\n",
       "143     multiple    28.336623   161.613952   Topic8  -5.1838   1.4668\n",
       "204   reportedly    32.571700   346.817824   Topic8  -5.0445   0.8425\n",
       "24         occur    32.673782  3886.853162   Topic8  -5.0414  -1.5709\n",
       "22          loss    27.179312  3023.782590   Topic8  -5.2255  -1.5040\n",
       "\n",
       "[405 rows x 6 columns], token_table=      Topic      Freq      Term\n",
       "term                           \n",
       "341       1  0.018207  accurate\n",
       "341       2  0.018207  accurate\n",
       "341       3  0.764697  accurate\n",
       "341       4  0.018207  accurate\n",
       "341       5  0.145657  accurate\n",
       "...     ...       ...       ...\n",
       "173       4  0.003995      zone\n",
       "173       5  0.003995      zone\n",
       "173       6  0.003995      zone\n",
       "173       7  0.003995      zone\n",
       "173       8  0.003995      zone\n",
       "\n",
       "[2032 rows x 3 columns], R=30, lambda_step=0.01, plot_opts={'xlab': 'PC1', 'ylab': 'PC2'}, topic_order=[4, 7, 8, 1, 5, 6, 3, 2])"
      ]
     },
     "execution_count": 28,
     "metadata": {},
     "output_type": "execute_result"
    }
   ],
   "source": [
    "import pickle \n",
    "import pyLDAvis\n",
    "import pyLDAvis.gensim_models as gensimvis\n",
    "\n",
    "# Visualize the topics\n",
    "pyLDAvis.enable_notebook()\n",
    "\n",
    "LDAvis_data_filepath = os.path.join(f\"{working_directory}/ldavis_tuned_{num_topics}-topics-{TAG}.pickle\")\n",
    "\n",
    "# # this is a bit time consuming - make the if statement True\n",
    "# # if you want to execute visualization prep yourself\n",
    "if True:\n",
    "    LDAvis_prepared = gensimvis.prepare(lda_model, corpus, id2word)\n",
    "    with open(LDAvis_data_filepath, 'wb') as f:\n",
    "        pickle.dump(LDAvis_prepared, f)\n",
    "\n",
    "# load the pre-prepared pyLDAvis data from disk\n",
    "with open(LDAvis_data_filepath, 'rb') as f:\n",
    "    LDAvis_prepared = pickle.load(f)\n",
    "\n",
    "pyLDAvis.save_html(LDAvis_prepared, f\"{working_directory}/ldavis_tuned_{num_topics}-topics-{TAG}\"+ str(num_topics) +'.html')\n",
    "\n",
    "LDAvis_prepared"
   ]
  },
  {
   "cell_type": "code",
   "execution_count": 29,
   "id": "6d5456c7-40f8-422a-90cd-5276dc52de88",
   "metadata": {
    "tags": []
   },
   "outputs": [
    {
     "name": "stdout",
     "output_type": "stream",
     "text": [
      "upload: 28-LDA/ldavis_tuned_8-topics-2023-03-21-16794098878.html to s3://praxis-2023-html-output/28-LDA/ldavis_tuned_8-topics-2023-03-21-16794098878.html\n",
      "upload: ./index.html to s3://praxis-2023-html-output/index.html\n",
      "\n",
      "fin\n"
     ]
    }
   ],
   "source": [
    "import os\n",
    "import fnmatch\n",
    "import subprocess\n",
    "\n",
    "bucket = \"praxis-2023-html-output\"\n",
    "website = f\"http://{bucket}.s3-website-us-west-2.amazonaws.com\"\n",
    "\n",
    "# Use the fnmatch module to find all files in the current directory that end in \".html\"\n",
    "file_list = []\n",
    "for root, dirnames, filenames in os.walk(\".\"):\n",
    "    for filename in fnmatch.filter(filenames, '*.html'):\n",
    "        file_list.append(os.path.join(root, filename))\n",
    "\n",
    "# Sort the file list alphabetically\n",
    "file_list.sort()\n",
    "\n",
    "# Create the HTML file and write the header\n",
    "with open(os.path.join(\".\", 'index.html'), 'w') as f:\n",
    "    f.write('''<html>\n",
    "        <head>\n",
    "            <title>Praxis 2023 HTML Output</title>\n",
    "            <style>\n",
    "                table {\n",
    "                    border-collapse: collapse;\n",
    "                    width: 100%;\n",
    "                }\n",
    "                th, td {\n",
    "                    text-align: left;\n",
    "                    padding: 8px;\n",
    "                }\n",
    "                th {\n",
    "                    background-color: #007bff;\n",
    "                    color: #fff;\n",
    "                    font-weight: bold;\n",
    "                }\n",
    "                tr:nth-child(even) {\n",
    "                    background-color: #f2f2f2;\n",
    "                }\n",
    "                tr:hover {\n",
    "                    background-color: #ddd;\n",
    "                }\n",
    "            </style>\n",
    "        </head>\n",
    "        <body>\n",
    "            <table>\n",
    "                <tr><th>Name</th><th>Size</th></tr>\\n\n",
    "    ''')\n",
    "\n",
    "    # Loop through each file and add a row to the table\n",
    "    for file_name in file_list:\n",
    "        if file_name in ['./index.html']:\n",
    "            continue\n",
    "            \n",
    "        file_size = os.path.getsize(file_name)\n",
    "        f.write(f'<tr><td><a href=\"{website}/{file_name}\" target=\"_blank\" rel=\"noopener noreferrer\">{file_name}</a></td><td>{int(file_size / 1048576)} MB</td></tr>\\n')\n",
    "\n",
    "    # Write the footer and close the file\n",
    "    f.write('</table></body></html>')\n",
    "\n",
    "command = [\"aws\", \"s3\", \"sync\", \".\", f\"s3://{bucket}\", \"--exclude\", \"*\", \"--include\", \"*.html\", \"--no-progress\"]\n",
    "\n",
    "# Run the command and wait for it to complete\n",
    "output = subprocess.run(command, capture_output=True, text=True)\n",
    "\n",
    "# Print the output\n",
    "print(output.stdout)\n",
    "print('fin')"
   ]
  },
  {
   "cell_type": "code",
   "execution_count": null,
   "id": "bb6ae9c6-bf85-4dad-a557-0e0b355dfbd1",
   "metadata": {},
   "outputs": [],
   "source": []
  }
 ],
 "metadata": {
  "kernelspec": {
   "display_name": "conda_amazonei_pytorch_latest_p37",
   "language": "python",
   "name": "conda_amazonei_pytorch_latest_p37"
  },
  "language_info": {
   "codemirror_mode": {
    "name": "ipython",
    "version": 3
   },
   "file_extension": ".py",
   "mimetype": "text/x-python",
   "name": "python",
   "nbconvert_exporter": "python",
   "pygments_lexer": "ipython3",
   "version": "3.7.10"
  }
 },
 "nbformat": 4,
 "nbformat_minor": 5
}
