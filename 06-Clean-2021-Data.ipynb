{
 "cells": [
  {
   "cell_type": "markdown",
   "id": "6ce42bcb-15c3-4086-96f3-3d9894c6973d",
   "metadata": {},
   "source": [
    "# Clean 2021 Data\n",
    "In previous processing, some columns were removed to minimize the number of columns in the data.\n",
    "\n",
    "However, the data set contained more than 3M rows of data.  \n",
    "\n",
    "Turns out we need to keep the following columns:\n",
    "- 'DEVICE_REPORT_PRODUCT_CODE'\n",
    "- 'FOI_TEXT'"
   ]
  },
  {
   "cell_type": "code",
   "execution_count": 1,
   "id": "ffd8d7e3-5b35-4194-8dc2-3e335f61ffb8",
   "metadata": {},
   "outputs": [],
   "source": [
    "# set the year\n",
    "year = '2021'"
   ]
  },
  {
   "cell_type": "code",
   "execution_count": 2,
   "id": "51ab4e97-d7b1-43f3-a950-b2c68b566e37",
   "metadata": {},
   "outputs": [],
   "source": [
    "# Identify the data directory, working directory, and data files\n",
    "data_directory = f\"./04-Process-{year}-Data\"\n",
    "working_directory = f\"./06-Clean-{year}-Data\"\n",
    "data_file = f\"{data_directory}/{year}_data_complete.csv\"\n",
    "\n",
    "import os\n",
    "\n",
    "# Create the working directory if needed\n",
    "try:\n",
    "    os.makedirs(working_directory, exist_ok=True)\n",
    "except OSError as error:\n",
    "    print(f\"Error creating {working_directory}: {error}\")\n",
    "\n"
   ]
  },
  {
   "cell_type": "code",
   "execution_count": 3,
   "id": "7a892f09-e86c-46f7-bd3e-9eb74a79edd3",
   "metadata": {},
   "outputs": [],
   "source": [
    "import pandas as pd\n",
    "\n",
    "\n",
    "# Read the data into a pandas dataframe\n",
    "data = pd.read_csv(data_file, # The data file being read, from the variable assignment above\n",
    "                   on_bad_lines='warn', # This tells Pandas to only warn on bad lines vs causing an error\n",
    "                   dtype = 'str')       # This tells Pandas to treat all numbers as words"
   ]
  },
  {
   "cell_type": "code",
   "execution_count": 4,
   "id": "594be04e-e637-42e8-9c8a-e9c271b45434",
   "metadata": {},
   "outputs": [],
   "source": [
    "# Replace any records that Pandas converted to 'N/A' with an empty string.\n",
    "data.fillna('', inplace=True)"
   ]
  },
  {
   "cell_type": "code",
   "execution_count": 5,
   "id": "ac3098af-7ed2-4fb9-8bdf-e5402879360c",
   "metadata": {},
   "outputs": [
    {
     "name": "stdout",
     "output_type": "stream",
     "text": [
      "Number of: (Rows, Columns) = (4454884, 34)\n"
     ]
    }
   ],
   "source": [
    "print(f\"Number of: (Rows, Columns) = {data.shape}\")"
   ]
  },
  {
   "cell_type": "markdown",
   "id": "8013be05-2599-4a8b-b75b-e141b34b19ba",
   "metadata": {},
   "source": [
    "## Remove Unwanted Columns"
   ]
  },
  {
   "cell_type": "code",
   "execution_count": 6,
   "id": "a5c1f4bd-fa2c-4145-8a0c-c58bb95f77c8",
   "metadata": {},
   "outputs": [],
   "source": [
    "# Remove unwanted columns\n",
    "unwanted_columns = [\n",
    "    'MDR_REPORT_KEY',\n",
    "    'MDR_TEXT_KEY',\n",
    "    'TEXT_TYPE_CODE',\n",
    "    'PATIENT_SEQUENCE_NUMBER',\n",
    "    'DATE_REPORT',\n",
    "    'DEVICE_SEQUENCE_NO',\n",
    "    'BRAND_NAME',\n",
    "    'MANUFACTURER_D_NAME',\n",
    "    'MODEL_NUMBER',\n",
    "    'DEVICE_AVAILABILITY',\n",
    "    'REPORT_NUMBER',\n",
    "    'REPORT_SOURCE_CODE',\n",
    "    'NUMBER_DEVICES_IN_EVENT',\n",
    "    'DATE_RECEIVED',\n",
    "    'INITIAL_REPORT_TO_FDA',\n",
    "    'MANUFACTURER_G1_NAME',\n",
    "    'REMEDIAL_ACTION',\n",
    "    'EVENT_TYPE',\n",
    "    'MANUFACTURER_NAME',\n",
    "    'TYPE_OF_REPORT',\n",
    "    'SUMMARY_REPORT',\n",
    "    'NOE_SUMMARIZED',\n",
    "    #'UDI-DI',\n",
    "    #'UDI-PUBLIC',\n",
    "]\n",
    "\n",
    "data.drop(unwanted_columns, axis=1, inplace=True)"
   ]
  },
  {
   "cell_type": "code",
   "execution_count": 7,
   "id": "17f9fabc-1197-4455-a8ca-90a14c50fea1",
   "metadata": {},
   "outputs": [
    {
     "name": "stdout",
     "output_type": "stream",
     "text": [
      "Number of: (Rows, Columns) = (4454884, 12)\n"
     ]
    }
   ],
   "source": [
    "print(f\"Number of: (Rows, Columns) = {data.shape}\")"
   ]
  },
  {
   "cell_type": "code",
   "execution_count": 8,
   "id": "07cb13c2-59b9-4bc4-b26e-e3f2c0450a63",
   "metadata": {},
   "outputs": [
    {
     "data": {
      "text/html": [
       "<div>\n",
       "<style scoped>\n",
       "    .dataframe tbody tr th:only-of-type {\n",
       "        vertical-align: middle;\n",
       "    }\n",
       "\n",
       "    .dataframe tbody tr th {\n",
       "        vertical-align: top;\n",
       "    }\n",
       "\n",
       "    .dataframe thead th {\n",
       "        text-align: right;\n",
       "    }\n",
       "</style>\n",
       "<table border=\"1\" class=\"dataframe\">\n",
       "  <thead>\n",
       "    <tr style=\"text-align: right;\">\n",
       "      <th></th>\n",
       "      <th>FOI_TEXT</th>\n",
       "      <th>DEVICE_PROBLEM_CODE</th>\n",
       "      <th>DEVICE_PROBLEM_TEXT</th>\n",
       "      <th>GENERIC_NAME</th>\n",
       "      <th>DEVICE_REPORT_PRODUCT_CODE</th>\n",
       "      <th>UDI-DI</th>\n",
       "      <th>UDI-PUBLIC</th>\n",
       "      <th>DATE_OF_EVENT</th>\n",
       "      <th>REPORTER_OCCUPATION_CODE</th>\n",
       "      <th>REPORT_DATE</th>\n",
       "      <th>EVENT_LOCATION</th>\n",
       "      <th>SOURCE_TYPE</th>\n",
       "    </tr>\n",
       "  </thead>\n",
       "  <tbody>\n",
       "    <tr>\n",
       "      <th>0</th>\n",
       "      <td>(B)(4). MEDICAL DEVICE EXPIRATION DATE: NA. A ...</td>\n",
       "      <td>1535</td>\n",
       "      <td>Incorrect, Inadequate or Imprecise Resultor Re...</td>\n",
       "      <td>CORONAVIRUS ANTIGEN DETECTION SYSTEM</td>\n",
       "      <td>QKP</td>\n",
       "      <td>00382902560661</td>\n",
       "      <td>00382902560661</td>\n",
       "      <td>11/03/2020</td>\n",
       "      <td>100</td>\n",
       "      <td></td>\n",
       "      <td></td>\n",
       "      <td>00,06</td>\n",
       "    </tr>\n",
       "    <tr>\n",
       "      <th>1</th>\n",
       "      <td>IT WAS REPORTED THAT WHILE USING BD VERITOR PL...</td>\n",
       "      <td>1535</td>\n",
       "      <td>Incorrect, Inadequate or Imprecise Resultor Re...</td>\n",
       "      <td>CORONAVIRUS ANTIGEN DETECTION SYSTEM</td>\n",
       "      <td>QKP</td>\n",
       "      <td>00382902560661</td>\n",
       "      <td>00382902560661</td>\n",
       "      <td>11/03/2020</td>\n",
       "      <td>100</td>\n",
       "      <td></td>\n",
       "      <td></td>\n",
       "      <td>00,06</td>\n",
       "    </tr>\n",
       "    <tr>\n",
       "      <th>2</th>\n",
       "      <td>THE CUSTOMER REPORTED PROBLEM WAS CONFIRMED. T...</td>\n",
       "      <td>1069</td>\n",
       "      <td>Break</td>\n",
       "      <td>PUMP, INFUSION</td>\n",
       "      <td>FRN</td>\n",
       "      <td>10885403424267</td>\n",
       "      <td>10885403424267</td>\n",
       "      <td></td>\n",
       "      <td>003</td>\n",
       "      <td></td>\n",
       "      <td>I</td>\n",
       "      <td>OTHER</td>\n",
       "    </tr>\n",
       "    <tr>\n",
       "      <th>3</th>\n",
       "      <td>THE CUSTOMER REPORTED PROBLEM WAS CONFIRMED. T...</td>\n",
       "      <td>1135</td>\n",
       "      <td>Crack</td>\n",
       "      <td>PUMP, INFUSION</td>\n",
       "      <td>FRN</td>\n",
       "      <td>10885403424267</td>\n",
       "      <td>10885403424267</td>\n",
       "      <td></td>\n",
       "      <td>003</td>\n",
       "      <td></td>\n",
       "      <td>I</td>\n",
       "      <td>OTHER</td>\n",
       "    </tr>\n",
       "    <tr>\n",
       "      <th>4</th>\n",
       "      <td>THE CUSTOMER REPORTED PROBLEM WAS CONFIRMED. T...</td>\n",
       "      <td>1153</td>\n",
       "      <td>Degraded</td>\n",
       "      <td>PUMP, INFUSION</td>\n",
       "      <td>FRN</td>\n",
       "      <td>10885403424267</td>\n",
       "      <td>10885403424267</td>\n",
       "      <td></td>\n",
       "      <td>003</td>\n",
       "      <td></td>\n",
       "      <td>I</td>\n",
       "      <td>OTHER</td>\n",
       "    </tr>\n",
       "    <tr>\n",
       "      <th>...</th>\n",
       "      <td>...</td>\n",
       "      <td>...</td>\n",
       "      <td>...</td>\n",
       "      <td>...</td>\n",
       "      <td>...</td>\n",
       "      <td>...</td>\n",
       "      <td>...</td>\n",
       "      <td>...</td>\n",
       "      <td>...</td>\n",
       "      <td>...</td>\n",
       "      <td>...</td>\n",
       "      <td>...</td>\n",
       "    </tr>\n",
       "    <tr>\n",
       "      <th>4454879</th>\n",
       "      <td>(B)(4). CURRENTLY IT IS UNKNOWN WHETHER OR NOT...</td>\n",
       "      <td>1496</td>\n",
       "      <td>Device Difficult to Program or Calibrate</td>\n",
       "      <td>ARTIFICIAL PANCREAS DEVICE SYSTEM, THRESHOLD S...</td>\n",
       "      <td>OZO</td>\n",
       "      <td>000000643169736054</td>\n",
       "      <td>(01)000000643169736054</td>\n",
       "      <td>12/27/2021</td>\n",
       "      <td>000</td>\n",
       "      <td></td>\n",
       "      <td></td>\n",
       "      <td>04</td>\n",
       "    </tr>\n",
       "    <tr>\n",
       "      <th>4454880</th>\n",
       "      <td>INFORMATION RECEIVED BY MEDTRONIC INDICATED TH...</td>\n",
       "      <td>1112</td>\n",
       "      <td>Computer Software Problem</td>\n",
       "      <td>PUMP, INFUSION, INSULIN, TO BE USED WITH INVAS...</td>\n",
       "      <td>OYC</td>\n",
       "      <td>000000763000317140</td>\n",
       "      <td>(01)000000763000317140</td>\n",
       "      <td>12/07/2021</td>\n",
       "      <td>000</td>\n",
       "      <td></td>\n",
       "      <td></td>\n",
       "      <td>01,07</td>\n",
       "    </tr>\n",
       "    <tr>\n",
       "      <th>4454881</th>\n",
       "      <td>INFORMATION RECEIVED BY MEDTRONIC INDICATED TH...</td>\n",
       "      <td>3010</td>\n",
       "      <td>Power Problem</td>\n",
       "      <td>PUMP, INFUSION, INSULIN, TO BE USED WITH INVAS...</td>\n",
       "      <td>OYC</td>\n",
       "      <td>000000763000317140</td>\n",
       "      <td>(01)000000763000317140</td>\n",
       "      <td>12/07/2021</td>\n",
       "      <td>000</td>\n",
       "      <td></td>\n",
       "      <td></td>\n",
       "      <td>01,07</td>\n",
       "    </tr>\n",
       "    <tr>\n",
       "      <th>4454882</th>\n",
       "      <td>(B)(4). THE INSULIN PUMP INVOLVED IN THIS EVEN...</td>\n",
       "      <td>1112</td>\n",
       "      <td>Computer Software Problem</td>\n",
       "      <td>PUMP, INFUSION, INSULIN, TO BE USED WITH INVAS...</td>\n",
       "      <td>OYC</td>\n",
       "      <td>000000763000317140</td>\n",
       "      <td>(01)000000763000317140</td>\n",
       "      <td>12/07/2021</td>\n",
       "      <td>000</td>\n",
       "      <td></td>\n",
       "      <td></td>\n",
       "      <td>01,07</td>\n",
       "    </tr>\n",
       "    <tr>\n",
       "      <th>4454883</th>\n",
       "      <td>(B)(4). THE INSULIN PUMP INVOLVED IN THIS EVEN...</td>\n",
       "      <td>3010</td>\n",
       "      <td>Power Problem</td>\n",
       "      <td>PUMP, INFUSION, INSULIN, TO BE USED WITH INVAS...</td>\n",
       "      <td>OYC</td>\n",
       "      <td>000000763000317140</td>\n",
       "      <td>(01)000000763000317140</td>\n",
       "      <td>12/07/2021</td>\n",
       "      <td>000</td>\n",
       "      <td></td>\n",
       "      <td></td>\n",
       "      <td>01,07</td>\n",
       "    </tr>\n",
       "  </tbody>\n",
       "</table>\n",
       "<p>4454884 rows × 12 columns</p>\n",
       "</div>"
      ],
      "text/plain": [
       "                                                  FOI_TEXT  \\\n",
       "0        (B)(4). MEDICAL DEVICE EXPIRATION DATE: NA. A ...   \n",
       "1        IT WAS REPORTED THAT WHILE USING BD VERITOR PL...   \n",
       "2        THE CUSTOMER REPORTED PROBLEM WAS CONFIRMED. T...   \n",
       "3        THE CUSTOMER REPORTED PROBLEM WAS CONFIRMED. T...   \n",
       "4        THE CUSTOMER REPORTED PROBLEM WAS CONFIRMED. T...   \n",
       "...                                                    ...   \n",
       "4454879  (B)(4). CURRENTLY IT IS UNKNOWN WHETHER OR NOT...   \n",
       "4454880  INFORMATION RECEIVED BY MEDTRONIC INDICATED TH...   \n",
       "4454881  INFORMATION RECEIVED BY MEDTRONIC INDICATED TH...   \n",
       "4454882  (B)(4). THE INSULIN PUMP INVOLVED IN THIS EVEN...   \n",
       "4454883  (B)(4). THE INSULIN PUMP INVOLVED IN THIS EVEN...   \n",
       "\n",
       "        DEVICE_PROBLEM_CODE  \\\n",
       "0                      1535   \n",
       "1                      1535   \n",
       "2                      1069   \n",
       "3                      1135   \n",
       "4                      1153   \n",
       "...                     ...   \n",
       "4454879                1496   \n",
       "4454880                1112   \n",
       "4454881                3010   \n",
       "4454882                1112   \n",
       "4454883                3010   \n",
       "\n",
       "                                       DEVICE_PROBLEM_TEXT  \\\n",
       "0        Incorrect, Inadequate or Imprecise Resultor Re...   \n",
       "1        Incorrect, Inadequate or Imprecise Resultor Re...   \n",
       "2                                                    Break   \n",
       "3                                                    Crack   \n",
       "4                                                 Degraded   \n",
       "...                                                    ...   \n",
       "4454879           Device Difficult to Program or Calibrate   \n",
       "4454880                          Computer Software Problem   \n",
       "4454881                                      Power Problem   \n",
       "4454882                          Computer Software Problem   \n",
       "4454883                                      Power Problem   \n",
       "\n",
       "                                              GENERIC_NAME  \\\n",
       "0                     CORONAVIRUS ANTIGEN DETECTION SYSTEM   \n",
       "1                     CORONAVIRUS ANTIGEN DETECTION SYSTEM   \n",
       "2                                           PUMP, INFUSION   \n",
       "3                                           PUMP, INFUSION   \n",
       "4                                           PUMP, INFUSION   \n",
       "...                                                    ...   \n",
       "4454879  ARTIFICIAL PANCREAS DEVICE SYSTEM, THRESHOLD S...   \n",
       "4454880  PUMP, INFUSION, INSULIN, TO BE USED WITH INVAS...   \n",
       "4454881  PUMP, INFUSION, INSULIN, TO BE USED WITH INVAS...   \n",
       "4454882  PUMP, INFUSION, INSULIN, TO BE USED WITH INVAS...   \n",
       "4454883  PUMP, INFUSION, INSULIN, TO BE USED WITH INVAS...   \n",
       "\n",
       "        DEVICE_REPORT_PRODUCT_CODE              UDI-DI  \\\n",
       "0                              QKP      00382902560661   \n",
       "1                              QKP      00382902560661   \n",
       "2                              FRN      10885403424267   \n",
       "3                              FRN      10885403424267   \n",
       "4                              FRN      10885403424267   \n",
       "...                            ...                 ...   \n",
       "4454879                        OZO  000000643169736054   \n",
       "4454880                        OYC  000000763000317140   \n",
       "4454881                        OYC  000000763000317140   \n",
       "4454882                        OYC  000000763000317140   \n",
       "4454883                        OYC  000000763000317140   \n",
       "\n",
       "                     UDI-PUBLIC DATE_OF_EVENT REPORTER_OCCUPATION_CODE  \\\n",
       "0                00382902560661    11/03/2020                      100   \n",
       "1                00382902560661    11/03/2020                      100   \n",
       "2                10885403424267                                    003   \n",
       "3                10885403424267                                    003   \n",
       "4                10885403424267                                    003   \n",
       "...                         ...           ...                      ...   \n",
       "4454879  (01)000000643169736054    12/27/2021                      000   \n",
       "4454880  (01)000000763000317140    12/07/2021                      000   \n",
       "4454881  (01)000000763000317140    12/07/2021                      000   \n",
       "4454882  (01)000000763000317140    12/07/2021                      000   \n",
       "4454883  (01)000000763000317140    12/07/2021                      000   \n",
       "\n",
       "        REPORT_DATE EVENT_LOCATION SOURCE_TYPE  \n",
       "0                                        00,06  \n",
       "1                                        00,06  \n",
       "2                                I       OTHER  \n",
       "3                                I       OTHER  \n",
       "4                                I       OTHER  \n",
       "...             ...            ...         ...  \n",
       "4454879                                     04  \n",
       "4454880                                  01,07  \n",
       "4454881                                  01,07  \n",
       "4454882                                  01,07  \n",
       "4454883                                  01,07  \n",
       "\n",
       "[4454884 rows x 12 columns]"
      ]
     },
     "execution_count": 8,
     "metadata": {},
     "output_type": "execute_result"
    }
   ],
   "source": [
    "data"
   ]
  },
  {
   "cell_type": "markdown",
   "id": "09bfda8e-7301-4c9e-b049-ccd5047f2d5f",
   "metadata": {},
   "source": [
    "## Cleaning Data by Dropping Rows Matching Specific Criteria\n",
    "\n",
    "Use [this answer on Stack Overflow](https://stackoverflow.com/questions/13851535/how-to-delete-rows-from-a-pandas-dataframe-based-on-a-conditional-expression) as a reference for dropping rows from a dataframe using regular expressesions.\n",
    "\n",
    "In summary:\n",
    "```\n",
    "new_data_frame = previous_data_frame.drop(previous_data_frame[CONDITION GOES HERE; ie, previous_data_frame.COLUMN_NAME == \"Some Text\"].index)\n",
    "```"
   ]
  },
  {
   "cell_type": "markdown",
   "id": "b2ea81f3-e50b-4f5b-b8a4-422aca1b520e",
   "metadata": {},
   "source": [
    "### Drop rows where GENERIC_NAME starts with \"UNK\" (\"UNKNOWN\", \"UNKOWN\", or \"UNK\")"
   ]
  },
  {
   "cell_type": "code",
   "execution_count": 9,
   "id": "4c2bf52e-cafa-44f2-b9aa-db5271a5f35f",
   "metadata": {},
   "outputs": [
    {
     "name": "stdout",
     "output_type": "stream",
     "text": [
      "Previous row count = 4454884\n",
      "New row count      = 4452143\n",
      "Rows removed       = 2741\n"
     ]
    }
   ],
   "source": [
    "# Drop rows where GENERIC_NAME starts with \"UNK\" (\"UNKNOWN\", \"UNKOWN\", or \"UNK\")\n",
    "remove_generic_name_starts_with_unk = data.drop(data[data.GENERIC_NAME.str.contains(r'^UNK')].index)\n",
    "\n",
    "print(f\"Previous row count = {data.shape[0]}\")\n",
    "print(f\"New row count      = {remove_generic_name_starts_with_unk.shape[0]}\")\n",
    "print(f\"Rows removed       = {data.shape[0] - remove_generic_name_starts_with_unk.shape[0]}\")"
   ]
  },
  {
   "cell_type": "markdown",
   "id": "e1b62ffb-a339-481f-8651-a31635076891",
   "metadata": {},
   "source": [
    "### Drop rows where DEVICE_PROBLEM_TEXT == \"Insufficient Information\""
   ]
  },
  {
   "cell_type": "code",
   "execution_count": 10,
   "id": "b136ad7b-da52-420b-9dd6-195f4971ca0a",
   "metadata": {},
   "outputs": [
    {
     "name": "stdout",
     "output_type": "stream",
     "text": [
      "Previous row count = 4452143\n",
      "New row count      = 4403329\n",
      "Rows removed       = 48814\n"
     ]
    }
   ],
   "source": [
    "# Drop rows where DEVICE_PROBLEM_TEXT == \"Insufficient Information\"\n",
    "remove_device_problem_text_insufficient_information = remove_generic_name_starts_with_unk.drop(remove_generic_name_starts_with_unk[remove_generic_name_starts_with_unk.DEVICE_PROBLEM_TEXT == \"Insufficient Information\"].index)\n",
    "\n",
    "print(f\"Previous row count = {remove_generic_name_starts_with_unk.shape[0]}\")\n",
    "print(f\"New row count      = {remove_device_problem_text_insufficient_information.shape[0]}\")\n",
    "print(f\"Rows removed       = {remove_generic_name_starts_with_unk.shape[0] - remove_device_problem_text_insufficient_information.shape[0]}\")"
   ]
  },
  {
   "cell_type": "markdown",
   "id": "dbd0e329-ee93-4b4f-a5ed-07249684a9b4",
   "metadata": {},
   "source": [
    "### Drop rows where GENERIC_NAME is a number"
   ]
  },
  {
   "cell_type": "code",
   "execution_count": 11,
   "id": "dd80a54c-04d3-41a7-8a73-fa68bd3d1767",
   "metadata": {},
   "outputs": [
    {
     "name": "stdout",
     "output_type": "stream",
     "text": [
      "Previous row count = 4403329\n",
      "New row count      = 4403292\n",
      "Rows removed       = 37\n"
     ]
    }
   ],
   "source": [
    "# Drop rows where GENERIC_NAME is a number\n",
    "remove_generic_name_is_number = remove_device_problem_text_insufficient_information.drop(remove_device_problem_text_insufficient_information[remove_device_problem_text_insufficient_information.GENERIC_NAME.str.match(r'^\\d+$')].index)\n",
    "print(f\"Previous row count = {remove_device_problem_text_insufficient_information.shape[0]}\")\n",
    "print(f\"New row count      = {remove_generic_name_is_number.shape[0]}\")\n",
    "print(f\"Rows removed       = {remove_device_problem_text_insufficient_information.shape[0] - remove_generic_name_is_number.shape[0]}\")"
   ]
  },
  {
   "cell_type": "markdown",
   "id": "fc46f9fe-7de1-4f7b-b650-11ac81b9bba1",
   "metadata": {},
   "source": [
    "### Drop rows where GENERIC_NAME is blank\n"
   ]
  },
  {
   "cell_type": "code",
   "execution_count": 12,
   "id": "61728826-a88e-416b-aa7f-1e5c98ca4828",
   "metadata": {},
   "outputs": [
    {
     "name": "stdout",
     "output_type": "stream",
     "text": [
      "Previous row count = 4403292\n",
      "New row count      = 4388346\n",
      "Rows removed       = 14946\n"
     ]
    }
   ],
   "source": [
    "# Drop rows where GENERIC_NAME is blank\n",
    "remove_generic_name_is_blank = remove_generic_name_is_number.drop(remove_generic_name_is_number[remove_generic_name_is_number.GENERIC_NAME == ''].index)\n",
    "print(f\"Previous row count = {remove_generic_name_is_number.shape[0]}\")\n",
    "print(f\"New row count      = {remove_generic_name_is_blank.shape[0]}\")\n",
    "print(f\"Rows removed       = {remove_generic_name_is_number.shape[0] - remove_generic_name_is_blank.shape[0]}\")"
   ]
  },
  {
   "cell_type": "markdown",
   "id": "347d9e52-9094-4646-8101-db3e3ffeb471",
   "metadata": {},
   "source": [
    "### Drop Rows Where FOI_TEXT == '(B)(4).'\n",
    "[USING TEXT MINING OF FDA REPORTS TO INFORM EARLY SIGNAL DETECTION OF\n",
    "CARDIOVASCULAR LEAD RECALLS](https://dashboard.digitalcollections.cuanschutz.edu/downloads/326bf216-7e24-40b3-80b5-2c9afda1da55)"
   ]
  },
  {
   "cell_type": "code",
   "execution_count": 13,
   "id": "57b1596e-d0b9-4c54-a012-a9d09ad25396",
   "metadata": {},
   "outputs": [
    {
     "name": "stdout",
     "output_type": "stream",
     "text": [
      "Previous row count = 4388346\n",
      "New row count      = 4146093\n",
      "Rows removed       = 242253\n"
     ]
    }
   ],
   "source": [
    "# Drop Rows Where FOI_TEXT == '(B)(4).'\n",
    "remove_foitext_equals_b4_1 = remove_generic_name_is_blank.drop(remove_generic_name_is_blank[remove_generic_name_is_blank.FOI_TEXT.str.match(r'(^\\(B\\)\\s?\\(4\\)\\s?\\.$)+')].index)\n",
    "\n",
    "print(f\"Previous row count = {remove_generic_name_is_blank.shape[0]}\")\n",
    "print(f\"New row count      = {remove_foitext_equals_b4_1.shape[0]}\")\n",
    "print(f\"Rows removed       = {remove_generic_name_is_blank.shape[0] - remove_foitext_equals_b4_1.shape[0]}\")"
   ]
  },
  {
   "cell_type": "code",
   "execution_count": 14,
   "id": "917591b5-22f1-4631-85f1-257c95ceb586",
   "metadata": {},
   "outputs": [
    {
     "name": "stdout",
     "output_type": "stream",
     "text": [
      "Previous row count = 4146093\n",
      "New row count      = 4146061\n",
      "Rows removed       = 32\n"
     ]
    }
   ],
   "source": [
    "# Drop Rows Where FOI_TEXT == '(B)(4). (B)(4).'\n",
    "remove_foitext_equals_b4_2 = remove_foitext_equals_b4_1.drop(remove_foitext_equals_b4_1[remove_foitext_equals_b4_1.FOI_TEXT == '(B)(4). (B)(4).'].index)\n",
    "\n",
    "print(f\"Previous row count = {remove_foitext_equals_b4_1.shape[0]}\")\n",
    "print(f\"New row count      = {remove_foitext_equals_b4_2.shape[0]}\")\n",
    "print(f\"Rows removed       = {remove_foitext_equals_b4_1.shape[0] - remove_foitext_equals_b4_2.shape[0]}\")"
   ]
  },
  {
   "cell_type": "markdown",
   "id": "c0e0f80f-3ee5-47f2-afd6-ed43e469617f",
   "metadata": {},
   "source": [
    "## Count the Product Code Occurrences"
   ]
  },
  {
   "cell_type": "code",
   "execution_count": 15,
   "id": "c2b08c5c-781b-40e2-b164-6bd91f40d5ac",
   "metadata": {},
   "outputs": [
    {
     "data": {
      "text/html": [
       "<div>\n",
       "<style scoped>\n",
       "    .dataframe tbody tr th:only-of-type {\n",
       "        vertical-align: middle;\n",
       "    }\n",
       "\n",
       "    .dataframe tbody tr th {\n",
       "        vertical-align: top;\n",
       "    }\n",
       "\n",
       "    .dataframe thead th {\n",
       "        text-align: right;\n",
       "    }\n",
       "</style>\n",
       "<table border=\"1\" class=\"dataframe\">\n",
       "  <thead>\n",
       "    <tr style=\"text-align: right;\">\n",
       "      <th></th>\n",
       "      <th>COUNT</th>\n",
       "    </tr>\n",
       "    <tr>\n",
       "      <th>DEVICE_REPORT_PRODUCT_CODE</th>\n",
       "      <th></th>\n",
       "    </tr>\n",
       "  </thead>\n",
       "  <tbody>\n",
       "    <tr>\n",
       "      <th>DZE</th>\n",
       "      <td>690942</td>\n",
       "    </tr>\n",
       "    <tr>\n",
       "      <th>FRN</th>\n",
       "      <td>529091</td>\n",
       "    </tr>\n",
       "    <tr>\n",
       "      <th>QBJ</th>\n",
       "      <td>297367</td>\n",
       "    </tr>\n",
       "    <tr>\n",
       "      <th>OZP</th>\n",
       "      <td>203393</td>\n",
       "    </tr>\n",
       "    <tr>\n",
       "      <th>QFG</th>\n",
       "      <td>176681</td>\n",
       "    </tr>\n",
       "    <tr>\n",
       "      <th>PZE</th>\n",
       "      <td>140709</td>\n",
       "    </tr>\n",
       "    <tr>\n",
       "      <th>OYC</th>\n",
       "      <td>136969</td>\n",
       "    </tr>\n",
       "    <tr>\n",
       "      <th>OZO</th>\n",
       "      <td>116307</td>\n",
       "    </tr>\n",
       "    <tr>\n",
       "      <th>LZG</th>\n",
       "      <td>71943</td>\n",
       "    </tr>\n",
       "    <tr>\n",
       "      <th>LGW</th>\n",
       "      <td>62542</td>\n",
       "    </tr>\n",
       "  </tbody>\n",
       "</table>\n",
       "</div>"
      ],
      "text/plain": [
       "                             COUNT\n",
       "DEVICE_REPORT_PRODUCT_CODE        \n",
       "DZE                         690942\n",
       "FRN                         529091\n",
       "QBJ                         297367\n",
       "OZP                         203393\n",
       "QFG                         176681\n",
       "PZE                         140709\n",
       "OYC                         136969\n",
       "OZO                         116307\n",
       "LZG                          71943\n",
       "LGW                          62542"
      ]
     },
     "execution_count": 15,
     "metadata": {},
     "output_type": "execute_result"
    }
   ],
   "source": [
    "product_code_occurrences = remove_foitext_equals_b4_2.groupby(['DEVICE_REPORT_PRODUCT_CODE']).size().to_frame('COUNT')\n",
    "product_code_occurrences.sort_values(by=['COUNT'], ascending=False).head(10)"
   ]
  },
  {
   "cell_type": "code",
   "execution_count": 16,
   "id": "a816a55a-57e4-46d3-9d61-c69b8aed97a7",
   "metadata": {},
   "outputs": [],
   "source": [
    "product_code_occurrences.sort_values(by=['COUNT'], ascending=False).to_csv(f\"{working_directory}/product_code_occurrences.csv\")"
   ]
  },
  {
   "cell_type": "markdown",
   "id": "84963c41-d941-4d07-9cc2-7f34f74093f2",
   "metadata": {
    "jp-MarkdownHeadingCollapsed": true,
    "tags": []
   },
   "source": [
    "### Identify Rows to Keep Based on Count of Product Code Occurrences\n",
    "- QBJ"
   ]
  },
  {
   "cell_type": "code",
   "execution_count": 17,
   "id": "46aaaa4f-ed10-4198-9fba-88570f4b7803",
   "metadata": {},
   "outputs": [
    {
     "name": "stdout",
     "output_type": "stream",
     "text": [
      "Previous row count = 4146061\n",
      "New row count      = 297367\n",
      "Rows removed       = 3848694\n"
     ]
    }
   ],
   "source": [
    "# Drop rows where DEVICE_REPORT_PRODUCT_CODE is not QBJ\n",
    "remove_device_product_code_not_qbj = remove_foitext_equals_b4_2.drop(remove_foitext_equals_b4_2[remove_foitext_equals_b4_2.DEVICE_REPORT_PRODUCT_CODE != 'QBJ'].index)\n",
    "print(f\"Previous row count = {remove_foitext_equals_b4_2.shape[0]}\")\n",
    "print(f\"New row count      = {remove_device_product_code_not_qbj.shape[0]}\")\n",
    "print(f\"Rows removed       = {remove_foitext_equals_b4_2.shape[0] - remove_device_product_code_not_qbj.shape[0]}\")"
   ]
  },
  {
   "cell_type": "code",
   "execution_count": 18,
   "id": "17d1819a-7650-412e-8f4c-dd33c3e9ff7e",
   "metadata": {},
   "outputs": [],
   "source": [
    "#remove_device_product_code_not_qbj.to_csv(f\"{working_directory}/2021_data_clean.csv\")\n",
    "remove_foitext_equals_b4_2.to_csv(f\"{working_directory}/{year}_data_clean.csv\")"
   ]
  }
 ],
 "metadata": {
  "kernelspec": {
   "display_name": "conda_amazonei_pytorch_latest_p37",
   "language": "python",
   "name": "conda_amazonei_pytorch_latest_p37"
  },
  "language_info": {
   "codemirror_mode": {
    "name": "ipython",
    "version": 3
   },
   "file_extension": ".py",
   "mimetype": "text/x-python",
   "name": "python",
   "nbconvert_exporter": "python",
   "pygments_lexer": "ipython3",
   "version": "3.7.10"
  },
  "vscode": {
   "interpreter": {
    "hash": "0df23e0b8587652e8947bf433502af00ecfb3462d59e71e7bba71c0280b5fb19"
   }
  }
 },
 "nbformat": 4,
 "nbformat_minor": 5
}
