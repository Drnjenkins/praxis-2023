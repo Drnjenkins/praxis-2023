{
 "cells": [
  {
   "cell_type": "code",
   "execution_count": 1,
   "id": "350620e4-cd31-4e8e-abda-397f4dd0dcfb",
   "metadata": {},
   "outputs": [],
   "source": [
    "import nltk"
   ]
  },
  {
   "cell_type": "code",
   "execution_count": 2,
   "id": "5d3e8478-8763-4545-a790-065656a9aff1",
   "metadata": {},
   "outputs": [],
   "source": [
    "from nltk.corpus import stopwords"
   ]
  },
  {
   "cell_type": "code",
   "execution_count": 3,
   "id": "d8f39972-0385-4400-8f66-ee29bd165e04",
   "metadata": {},
   "outputs": [],
   "source": [
    "import pandas as pd\n",
    "\n",
    "# Identify the data directory, working directory, and data files\n",
    "data_directory = './2020_clean'\n",
    "working_directory = './2020_NLP'\n",
    "data_file = f\"{data_directory}/2020_data_clean.csv\"\n",
    "\n",
    "import os\n",
    "\n",
    "# Create the working directory if needed\n",
    "try:\n",
    "    os.makedirs(working_directory, exist_ok=True)\n",
    "except OSError as error:\n",
    "    print(f\"Error creating {working_directory}: {error}\")"
   ]
  },
  {
   "cell_type": "code",
   "execution_count": 4,
   "id": "2cba038f-1a14-4c4d-84a4-9cc6b8de10ff",
   "metadata": {},
   "outputs": [],
   "source": [
    "# Read the data into a pandas dataframe\n",
    "data = pd.read_csv(data_file, # The data file being read, from the variable assignment above\n",
    "                   on_bad_lines='warn', # This tells Pandas to only warn on bad lines vs causing an error\n",
    "                   dtype = 'str')       # This tells Pandas to treat all numbers as words"
   ]
  },
  {
   "cell_type": "code",
   "execution_count": 5,
   "id": "11bfaaf5-5d2a-4429-ab3e-930cf44979ee",
   "metadata": {},
   "outputs": [
    {
     "data": {
      "text/plain": [
       "(276350, 6)"
      ]
     },
     "execution_count": 5,
     "metadata": {},
     "output_type": "execute_result"
    }
   ],
   "source": [
    "# How big is the dataset\n",
    "data.shape"
   ]
  },
  {
   "cell_type": "markdown",
   "id": "1968e0af-1281-4507-8915-1b09cb4d60f4",
   "metadata": {},
   "source": [
    "# Pre-processing Text Data\n",
    "\n",
    "1. Remove punctuation\n",
    "2. Tokenization\n",
    "2. Remove stopwords"
   ]
  },
  {
   "cell_type": "code",
   "execution_count": 6,
   "id": "75dea019-f4a7-4893-aef8-59ef35579a85",
   "metadata": {},
   "outputs": [
    {
     "data": {
      "text/plain": [
       "'!\"#$%&\\'()*+,-./:;<=>?@[\\\\]^_`{|}~'"
      ]
     },
     "execution_count": 6,
     "metadata": {},
     "output_type": "execute_result"
    }
   ],
   "source": [
    "#Remove Punctuation\n",
    "import string\n",
    "\n",
    "string.punctuation"
   ]
  },
  {
   "cell_type": "code",
   "execution_count": 12,
   "id": "8d461464-08cc-4ac7-b368-5a8468345909",
   "metadata": {},
   "outputs": [],
   "source": [
    "# Define a function to remove punctuation in the data\n",
    "def remove_punctuation(text):\n",
    "    text = \"\".join([character for character in text if character not in string.punctuation])\n",
    "    return text\n",
    "data['text_clean'] = data['FOI_TEXT'].apply(lambda x: remove_punctuation(x))"
   ]
  },
  {
   "cell_type": "code",
   "execution_count": 13,
   "id": "9a709bb8-7ce0-4cee-8603-e762299bf606",
   "metadata": {},
   "outputs": [
    {
     "data": {
      "text/html": [
       "<div>\n",
       "<style scoped>\n",
       "    .dataframe tbody tr th:only-of-type {\n",
       "        vertical-align: middle;\n",
       "    }\n",
       "\n",
       "    .dataframe tbody tr th {\n",
       "        vertical-align: top;\n",
       "    }\n",
       "\n",
       "    .dataframe thead th {\n",
       "        text-align: right;\n",
       "    }\n",
       "</style>\n",
       "<table border=\"1\" class=\"dataframe\">\n",
       "  <thead>\n",
       "    <tr style=\"text-align: right;\">\n",
       "      <th></th>\n",
       "      <th>Unnamed: 0</th>\n",
       "      <th>FOI_TEXT</th>\n",
       "      <th>DEVICE_PROBLEM_CODE</th>\n",
       "      <th>DEVICE_PROBLEM_TEXT</th>\n",
       "      <th>GENERIC_NAME</th>\n",
       "      <th>DEVICE_REPORT_PRODUCT_CODE</th>\n",
       "      <th>text_clean</th>\n",
       "    </tr>\n",
       "  </thead>\n",
       "  <tbody>\n",
       "    <tr>\n",
       "      <th>0</th>\n",
       "      <td>734</td>\n",
       "      <td>IT WAS REPORTED THAT A LOSS OF CONNECTION OCCU...</td>\n",
       "      <td>3283</td>\n",
       "      <td>Wireless Communication Problem</td>\n",
       "      <td>CONTINUOUS GLUCOSE MONITOR</td>\n",
       "      <td>QBJ</td>\n",
       "      <td>IT WAS REPORTED THAT A LOSS OF CONNECTION OCCU...</td>\n",
       "    </tr>\n",
       "    <tr>\n",
       "      <th>1</th>\n",
       "      <td>742</td>\n",
       "      <td>IT WAS REPORTED THAT A FAILED TRANSMITTER WAS ...</td>\n",
       "      <td>3191</td>\n",
       "      <td>Appropriate Term/Code Not Available</td>\n",
       "      <td>CONTINUOUS GLUCOSE MONITOR</td>\n",
       "      <td>QBJ</td>\n",
       "      <td>IT WAS REPORTED THAT A FAILED TRANSMITTER WAS ...</td>\n",
       "    </tr>\n",
       "    <tr>\n",
       "      <th>2</th>\n",
       "      <td>743</td>\n",
       "      <td>IT WAS REPORTED THAT A FAILED TRANSMITTER WAS ...</td>\n",
       "      <td>3283</td>\n",
       "      <td>Wireless Communication Problem</td>\n",
       "      <td>CONTINUOUS GLUCOSE MONITOR</td>\n",
       "      <td>QBJ</td>\n",
       "      <td>IT WAS REPORTED THAT A FAILED TRANSMITTER WAS ...</td>\n",
       "    </tr>\n",
       "    <tr>\n",
       "      <th>3</th>\n",
       "      <td>751</td>\n",
       "      <td>IT WAS REPORTED THAT A LOSS OF CONNECTION OCCU...</td>\n",
       "      <td>3283</td>\n",
       "      <td>Wireless Communication Problem</td>\n",
       "      <td>CONTINUOUS GLUCOSE MONITOR</td>\n",
       "      <td>QBJ</td>\n",
       "      <td>IT WAS REPORTED THAT A LOSS OF CONNECTION OCCU...</td>\n",
       "    </tr>\n",
       "    <tr>\n",
       "      <th>4</th>\n",
       "      <td>759</td>\n",
       "      <td>IT WAS REPORTED THAT A WARM UP RESTARTED DURIN...</td>\n",
       "      <td>3283</td>\n",
       "      <td>Wireless Communication Problem</td>\n",
       "      <td>CONTINUOUS GLUCOSE MONITOR</td>\n",
       "      <td>QBJ</td>\n",
       "      <td>IT WAS REPORTED THAT A WARM UP RESTARTED DURIN...</td>\n",
       "    </tr>\n",
       "  </tbody>\n",
       "</table>\n",
       "</div>"
      ],
      "text/plain": [
       "  Unnamed: 0                                           FOI_TEXT  \\\n",
       "0        734  IT WAS REPORTED THAT A LOSS OF CONNECTION OCCU...   \n",
       "1        742  IT WAS REPORTED THAT A FAILED TRANSMITTER WAS ...   \n",
       "2        743  IT WAS REPORTED THAT A FAILED TRANSMITTER WAS ...   \n",
       "3        751  IT WAS REPORTED THAT A LOSS OF CONNECTION OCCU...   \n",
       "4        759  IT WAS REPORTED THAT A WARM UP RESTARTED DURIN...   \n",
       "\n",
       "  DEVICE_PROBLEM_CODE                  DEVICE_PROBLEM_TEXT  \\\n",
       "0                3283       Wireless Communication Problem   \n",
       "1                3191  Appropriate Term/Code Not Available   \n",
       "2                3283       Wireless Communication Problem   \n",
       "3                3283       Wireless Communication Problem   \n",
       "4                3283       Wireless Communication Problem   \n",
       "\n",
       "                 GENERIC_NAME DEVICE_REPORT_PRODUCT_CODE  \\\n",
       "0  CONTINUOUS GLUCOSE MONITOR                        QBJ   \n",
       "1  CONTINUOUS GLUCOSE MONITOR                        QBJ   \n",
       "2  CONTINUOUS GLUCOSE MONITOR                        QBJ   \n",
       "3  CONTINUOUS GLUCOSE MONITOR                        QBJ   \n",
       "4  CONTINUOUS GLUCOSE MONITOR                        QBJ   \n",
       "\n",
       "                                          text_clean  \n",
       "0  IT WAS REPORTED THAT A LOSS OF CONNECTION OCCU...  \n",
       "1  IT WAS REPORTED THAT A FAILED TRANSMITTER WAS ...  \n",
       "2  IT WAS REPORTED THAT A FAILED TRANSMITTER WAS ...  \n",
       "3  IT WAS REPORTED THAT A LOSS OF CONNECTION OCCU...  \n",
       "4  IT WAS REPORTED THAT A WARM UP RESTARTED DURIN...  "
      ]
     },
     "execution_count": 13,
     "metadata": {},
     "output_type": "execute_result"
    }
   ],
   "source": [
    "data.head()"
   ]
  },
  {
   "cell_type": "code",
   "execution_count": 14,
   "id": "f6e135f2-670c-4894-81a0-e773f7262f66",
   "metadata": {},
   "outputs": [],
   "source": [
    "# Define a function to split our sentences into a list of words\n",
    "import re\n",
    "\n",
    "def tokenize(text):\n",
    "    tokens = re.split('\\W+', text)\n",
    "    return tokens\n",
    "\n",
    "data['text_tokenized'] = data['text_clean'].apply(lambda x: tokenize(x.lower()))"
   ]
  },
  {
   "cell_type": "code",
   "execution_count": 15,
   "id": "5de58c30-a407-434d-b208-8ef4294b6a65",
   "metadata": {},
   "outputs": [
    {
     "data": {
      "text/html": [
       "<div>\n",
       "<style scoped>\n",
       "    .dataframe tbody tr th:only-of-type {\n",
       "        vertical-align: middle;\n",
       "    }\n",
       "\n",
       "    .dataframe tbody tr th {\n",
       "        vertical-align: top;\n",
       "    }\n",
       "\n",
       "    .dataframe thead th {\n",
       "        text-align: right;\n",
       "    }\n",
       "</style>\n",
       "<table border=\"1\" class=\"dataframe\">\n",
       "  <thead>\n",
       "    <tr style=\"text-align: right;\">\n",
       "      <th></th>\n",
       "      <th>Unnamed: 0</th>\n",
       "      <th>FOI_TEXT</th>\n",
       "      <th>DEVICE_PROBLEM_CODE</th>\n",
       "      <th>DEVICE_PROBLEM_TEXT</th>\n",
       "      <th>GENERIC_NAME</th>\n",
       "      <th>DEVICE_REPORT_PRODUCT_CODE</th>\n",
       "      <th>text_clean</th>\n",
       "      <th>text_tokenized</th>\n",
       "    </tr>\n",
       "  </thead>\n",
       "  <tbody>\n",
       "    <tr>\n",
       "      <th>0</th>\n",
       "      <td>734</td>\n",
       "      <td>IT WAS REPORTED THAT A LOSS OF CONNECTION OCCU...</td>\n",
       "      <td>3283</td>\n",
       "      <td>Wireless Communication Problem</td>\n",
       "      <td>CONTINUOUS GLUCOSE MONITOR</td>\n",
       "      <td>QBJ</td>\n",
       "      <td>IT WAS REPORTED THAT A LOSS OF CONNECTION OCCU...</td>\n",
       "      <td>[it, was, reported, that, a, loss, of, connect...</td>\n",
       "    </tr>\n",
       "    <tr>\n",
       "      <th>1</th>\n",
       "      <td>742</td>\n",
       "      <td>IT WAS REPORTED THAT A FAILED TRANSMITTER WAS ...</td>\n",
       "      <td>3191</td>\n",
       "      <td>Appropriate Term/Code Not Available</td>\n",
       "      <td>CONTINUOUS GLUCOSE MONITOR</td>\n",
       "      <td>QBJ</td>\n",
       "      <td>IT WAS REPORTED THAT A FAILED TRANSMITTER WAS ...</td>\n",
       "      <td>[it, was, reported, that, a, failed, transmitt...</td>\n",
       "    </tr>\n",
       "    <tr>\n",
       "      <th>2</th>\n",
       "      <td>743</td>\n",
       "      <td>IT WAS REPORTED THAT A FAILED TRANSMITTER WAS ...</td>\n",
       "      <td>3283</td>\n",
       "      <td>Wireless Communication Problem</td>\n",
       "      <td>CONTINUOUS GLUCOSE MONITOR</td>\n",
       "      <td>QBJ</td>\n",
       "      <td>IT WAS REPORTED THAT A FAILED TRANSMITTER WAS ...</td>\n",
       "      <td>[it, was, reported, that, a, failed, transmitt...</td>\n",
       "    </tr>\n",
       "    <tr>\n",
       "      <th>3</th>\n",
       "      <td>751</td>\n",
       "      <td>IT WAS REPORTED THAT A LOSS OF CONNECTION OCCU...</td>\n",
       "      <td>3283</td>\n",
       "      <td>Wireless Communication Problem</td>\n",
       "      <td>CONTINUOUS GLUCOSE MONITOR</td>\n",
       "      <td>QBJ</td>\n",
       "      <td>IT WAS REPORTED THAT A LOSS OF CONNECTION OCCU...</td>\n",
       "      <td>[it, was, reported, that, a, loss, of, connect...</td>\n",
       "    </tr>\n",
       "    <tr>\n",
       "      <th>4</th>\n",
       "      <td>759</td>\n",
       "      <td>IT WAS REPORTED THAT A WARM UP RESTARTED DURIN...</td>\n",
       "      <td>3283</td>\n",
       "      <td>Wireless Communication Problem</td>\n",
       "      <td>CONTINUOUS GLUCOSE MONITOR</td>\n",
       "      <td>QBJ</td>\n",
       "      <td>IT WAS REPORTED THAT A WARM UP RESTARTED DURIN...</td>\n",
       "      <td>[it, was, reported, that, a, warm, up, restart...</td>\n",
       "    </tr>\n",
       "  </tbody>\n",
       "</table>\n",
       "</div>"
      ],
      "text/plain": [
       "  Unnamed: 0                                           FOI_TEXT  \\\n",
       "0        734  IT WAS REPORTED THAT A LOSS OF CONNECTION OCCU...   \n",
       "1        742  IT WAS REPORTED THAT A FAILED TRANSMITTER WAS ...   \n",
       "2        743  IT WAS REPORTED THAT A FAILED TRANSMITTER WAS ...   \n",
       "3        751  IT WAS REPORTED THAT A LOSS OF CONNECTION OCCU...   \n",
       "4        759  IT WAS REPORTED THAT A WARM UP RESTARTED DURIN...   \n",
       "\n",
       "  DEVICE_PROBLEM_CODE                  DEVICE_PROBLEM_TEXT  \\\n",
       "0                3283       Wireless Communication Problem   \n",
       "1                3191  Appropriate Term/Code Not Available   \n",
       "2                3283       Wireless Communication Problem   \n",
       "3                3283       Wireless Communication Problem   \n",
       "4                3283       Wireless Communication Problem   \n",
       "\n",
       "                 GENERIC_NAME DEVICE_REPORT_PRODUCT_CODE  \\\n",
       "0  CONTINUOUS GLUCOSE MONITOR                        QBJ   \n",
       "1  CONTINUOUS GLUCOSE MONITOR                        QBJ   \n",
       "2  CONTINUOUS GLUCOSE MONITOR                        QBJ   \n",
       "3  CONTINUOUS GLUCOSE MONITOR                        QBJ   \n",
       "4  CONTINUOUS GLUCOSE MONITOR                        QBJ   \n",
       "\n",
       "                                          text_clean  \\\n",
       "0  IT WAS REPORTED THAT A LOSS OF CONNECTION OCCU...   \n",
       "1  IT WAS REPORTED THAT A FAILED TRANSMITTER WAS ...   \n",
       "2  IT WAS REPORTED THAT A FAILED TRANSMITTER WAS ...   \n",
       "3  IT WAS REPORTED THAT A LOSS OF CONNECTION OCCU...   \n",
       "4  IT WAS REPORTED THAT A WARM UP RESTARTED DURIN...   \n",
       "\n",
       "                                      text_tokenized  \n",
       "0  [it, was, reported, that, a, loss, of, connect...  \n",
       "1  [it, was, reported, that, a, failed, transmitt...  \n",
       "2  [it, was, reported, that, a, failed, transmitt...  \n",
       "3  [it, was, reported, that, a, loss, of, connect...  \n",
       "4  [it, was, reported, that, a, warm, up, restart...  "
      ]
     },
     "execution_count": 15,
     "metadata": {},
     "output_type": "execute_result"
    }
   ],
   "source": [
    "data.head()"
   ]
  },
  {
   "cell_type": "code",
   "execution_count": 17,
   "id": "67c92319-e43a-46d1-a377-ec88fcc5e0e0",
   "metadata": {},
   "outputs": [
    {
     "data": {
      "text/html": [
       "<div>\n",
       "<style scoped>\n",
       "    .dataframe tbody tr th:only-of-type {\n",
       "        vertical-align: middle;\n",
       "    }\n",
       "\n",
       "    .dataframe tbody tr th {\n",
       "        vertical-align: top;\n",
       "    }\n",
       "\n",
       "    .dataframe thead th {\n",
       "        text-align: right;\n",
       "    }\n",
       "</style>\n",
       "<table border=\"1\" class=\"dataframe\">\n",
       "  <thead>\n",
       "    <tr style=\"text-align: right;\">\n",
       "      <th></th>\n",
       "      <th>FOI_TEXT</th>\n",
       "      <th>text_clean</th>\n",
       "      <th>text_tokenized</th>\n",
       "    </tr>\n",
       "  </thead>\n",
       "  <tbody>\n",
       "    <tr>\n",
       "      <th>0</th>\n",
       "      <td>IT WAS REPORTED THAT A LOSS OF CONNECTION OCCU...</td>\n",
       "      <td>IT WAS REPORTED THAT A LOSS OF CONNECTION OCCU...</td>\n",
       "      <td>[it, was, reported, that, a, loss, of, connect...</td>\n",
       "    </tr>\n",
       "    <tr>\n",
       "      <th>1</th>\n",
       "      <td>IT WAS REPORTED THAT A FAILED TRANSMITTER WAS ...</td>\n",
       "      <td>IT WAS REPORTED THAT A FAILED TRANSMITTER WAS ...</td>\n",
       "      <td>[it, was, reported, that, a, failed, transmitt...</td>\n",
       "    </tr>\n",
       "    <tr>\n",
       "      <th>2</th>\n",
       "      <td>IT WAS REPORTED THAT A FAILED TRANSMITTER WAS ...</td>\n",
       "      <td>IT WAS REPORTED THAT A FAILED TRANSMITTER WAS ...</td>\n",
       "      <td>[it, was, reported, that, a, failed, transmitt...</td>\n",
       "    </tr>\n",
       "    <tr>\n",
       "      <th>3</th>\n",
       "      <td>IT WAS REPORTED THAT A LOSS OF CONNECTION OCCU...</td>\n",
       "      <td>IT WAS REPORTED THAT A LOSS OF CONNECTION OCCU...</td>\n",
       "      <td>[it, was, reported, that, a, loss, of, connect...</td>\n",
       "    </tr>\n",
       "    <tr>\n",
       "      <th>4</th>\n",
       "      <td>IT WAS REPORTED THAT A WARM UP RESTARTED DURIN...</td>\n",
       "      <td>IT WAS REPORTED THAT A WARM UP RESTARTED DURIN...</td>\n",
       "      <td>[it, was, reported, that, a, warm, up, restart...</td>\n",
       "    </tr>\n",
       "  </tbody>\n",
       "</table>\n",
       "</div>"
      ],
      "text/plain": [
       "                                            FOI_TEXT  \\\n",
       "0  IT WAS REPORTED THAT A LOSS OF CONNECTION OCCU...   \n",
       "1  IT WAS REPORTED THAT A FAILED TRANSMITTER WAS ...   \n",
       "2  IT WAS REPORTED THAT A FAILED TRANSMITTER WAS ...   \n",
       "3  IT WAS REPORTED THAT A LOSS OF CONNECTION OCCU...   \n",
       "4  IT WAS REPORTED THAT A WARM UP RESTARTED DURIN...   \n",
       "\n",
       "                                          text_clean  \\\n",
       "0  IT WAS REPORTED THAT A LOSS OF CONNECTION OCCU...   \n",
       "1  IT WAS REPORTED THAT A FAILED TRANSMITTER WAS ...   \n",
       "2  IT WAS REPORTED THAT A FAILED TRANSMITTER WAS ...   \n",
       "3  IT WAS REPORTED THAT A LOSS OF CONNECTION OCCU...   \n",
       "4  IT WAS REPORTED THAT A WARM UP RESTARTED DURIN...   \n",
       "\n",
       "                                      text_tokenized  \n",
       "0  [it, was, reported, that, a, loss, of, connect...  \n",
       "1  [it, was, reported, that, a, failed, transmitt...  \n",
       "2  [it, was, reported, that, a, failed, transmitt...  \n",
       "3  [it, was, reported, that, a, loss, of, connect...  \n",
       "4  [it, was, reported, that, a, warm, up, restart...  "
      ]
     },
     "execution_count": 17,
     "metadata": {},
     "output_type": "execute_result"
    }
   ],
   "source": [
    "data.loc[:,['FOI_TEXT', 'text_clean', 'text_tokenized']].head()"
   ]
  },
  {
   "cell_type": "code",
   "execution_count": 18,
   "id": "213353a5-79e8-4eda-b593-2921330bdb8e",
   "metadata": {},
   "outputs": [],
   "source": [
    "# Remove Stopwords\n",
    "\n",
    "stopwords = nltk.corpus.stopwords.words('english')"
   ]
  },
  {
   "cell_type": "code",
   "execution_count": 19,
   "id": "6350b406-f3eb-4a2c-ad3b-99eefdc60f45",
   "metadata": {},
   "outputs": [],
   "source": [
    "# Define a function to remove all stopwords\n",
    "def remove_stopwords(tokenized_text):\n",
    "    text = [word for word in tokenized_text if word not in stopwords]\n",
    "    return text\n",
    "\n",
    "data['text_nostop'] = data['text_tokenized'].apply(lambda x: remove_stopwords(x))"
   ]
  },
  {
   "cell_type": "code",
   "execution_count": 20,
   "id": "b31c8376-1752-4585-aa1c-063b3118a47e",
   "metadata": {},
   "outputs": [
    {
     "data": {
      "text/html": [
       "<div>\n",
       "<style scoped>\n",
       "    .dataframe tbody tr th:only-of-type {\n",
       "        vertical-align: middle;\n",
       "    }\n",
       "\n",
       "    .dataframe tbody tr th {\n",
       "        vertical-align: top;\n",
       "    }\n",
       "\n",
       "    .dataframe thead th {\n",
       "        text-align: right;\n",
       "    }\n",
       "</style>\n",
       "<table border=\"1\" class=\"dataframe\">\n",
       "  <thead>\n",
       "    <tr style=\"text-align: right;\">\n",
       "      <th></th>\n",
       "      <th>FOI_TEXT</th>\n",
       "      <th>text_nostop</th>\n",
       "    </tr>\n",
       "  </thead>\n",
       "  <tbody>\n",
       "    <tr>\n",
       "      <th>0</th>\n",
       "      <td>IT WAS REPORTED THAT A LOSS OF CONNECTION OCCU...</td>\n",
       "      <td>[reported, loss, connection, occurred, review,...</td>\n",
       "    </tr>\n",
       "    <tr>\n",
       "      <th>1</th>\n",
       "      <td>IT WAS REPORTED THAT A FAILED TRANSMITTER WAS ...</td>\n",
       "      <td>[reported, failed, transmitter, reported, revi...</td>\n",
       "    </tr>\n",
       "    <tr>\n",
       "      <th>2</th>\n",
       "      <td>IT WAS REPORTED THAT A FAILED TRANSMITTER WAS ...</td>\n",
       "      <td>[reported, failed, transmitter, reported, revi...</td>\n",
       "    </tr>\n",
       "    <tr>\n",
       "      <th>3</th>\n",
       "      <td>IT WAS REPORTED THAT A LOSS OF CONNECTION OCCU...</td>\n",
       "      <td>[reported, loss, connection, occurred, determi...</td>\n",
       "    </tr>\n",
       "    <tr>\n",
       "      <th>4</th>\n",
       "      <td>IT WAS REPORTED THAT A WARM UP RESTARTED DURIN...</td>\n",
       "      <td>[reported, warm, restarted, sensor, session, d...</td>\n",
       "    </tr>\n",
       "  </tbody>\n",
       "</table>\n",
       "</div>"
      ],
      "text/plain": [
       "                                            FOI_TEXT  \\\n",
       "0  IT WAS REPORTED THAT A LOSS OF CONNECTION OCCU...   \n",
       "1  IT WAS REPORTED THAT A FAILED TRANSMITTER WAS ...   \n",
       "2  IT WAS REPORTED THAT A FAILED TRANSMITTER WAS ...   \n",
       "3  IT WAS REPORTED THAT A LOSS OF CONNECTION OCCU...   \n",
       "4  IT WAS REPORTED THAT A WARM UP RESTARTED DURIN...   \n",
       "\n",
       "                                         text_nostop  \n",
       "0  [reported, loss, connection, occurred, review,...  \n",
       "1  [reported, failed, transmitter, reported, revi...  \n",
       "2  [reported, failed, transmitter, reported, revi...  \n",
       "3  [reported, loss, connection, occurred, determi...  \n",
       "4  [reported, warm, restarted, sensor, session, d...  "
      ]
     },
     "execution_count": 20,
     "metadata": {},
     "output_type": "execute_result"
    }
   ],
   "source": [
    "data.loc[:,['FOI_TEXT', 'text_nostop']].head()"
   ]
  },
  {
   "cell_type": "code",
   "execution_count": null,
   "id": "cc3e73b1-e0b4-4b55-8da3-1a6aae343e4b",
   "metadata": {},
   "outputs": [],
   "source": [
    "import contractions\n",
    "\n",
    "def expand_contractons(text):\n",
    "    text = "
   ]
  },
  {
   "cell_type": "code",
   "execution_count": null,
   "id": "ebbddf39-2349-4bc1-b93d-4fb5f6ed5f02",
   "metadata": {},
   "outputs": [],
   "source": []
  }
 ],
 "metadata": {
  "kernelspec": {
   "display_name": "conda_amazonei_pytorch_latest_p37",
   "language": "python",
   "name": "conda_amazonei_pytorch_latest_p37"
  },
  "language_info": {
   "codemirror_mode": {
    "name": "ipython",
    "version": 3
   },
   "file_extension": ".py",
   "mimetype": "text/x-python",
   "name": "python",
   "nbconvert_exporter": "python",
   "pygments_lexer": "ipython3",
   "version": "3.7.12"
  }
 },
 "nbformat": 4,
 "nbformat_minor": 5
}
