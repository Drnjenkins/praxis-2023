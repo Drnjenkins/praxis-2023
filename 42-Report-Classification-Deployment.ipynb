{
 "cells": [
  {
   "cell_type": "markdown",
   "id": "51347026-38c8-41bf-83d9-0b38f2ab660b",
   "metadata": {},
   "source": [
    "# Deploy the Model and Process QBJ Records from Year 2019\n",
    "\n",
    "1. Create the working directory\n",
    "1. Unzip the following data files into the working \n",
    "\n",
    "    - `./01-Download-MAUDE-Data/device2019.zip`\n",
    "    - `./01-Download-MAUDE-Data/foitext2019.zip`\n",
    "    \n",
    "1. Read the data into dataframes\n",
    "1. Remove any rows from `device2019` that DO NOT have `DEVICE_REPORT_PRODUCT_CODE == QBJ` \n",
    "1. Combine the data using the `MDR_REPORT_KEY` column\n",
    "1. Sample 5-10% of the data"
   ]
  },
  {
   "cell_type": "code",
   "execution_count": 1,
   "id": "7190cc97-1a8f-4fee-886a-908201877816",
   "metadata": {
    "tags": []
   },
   "outputs": [],
   "source": [
    "# Set up the zip and data files to use the selected year\n",
    "data_year = \"2019\"\n",
    "\n",
    "foitext_zip_file = f\"foitext{data_year}.zip\"\n",
    "device_zip_file = f\"device{data_year}.zip\"\n",
    "\n",
    "foitext_data_file = f\"foitext{data_year}.txt\"\n",
    "device_data_file = f\"device{data_year}.txt\""
   ]
  },
  {
   "cell_type": "code",
   "execution_count": 2,
   "id": "6c5240ca-c9e8-4267-a36d-1a698fb14441",
   "metadata": {
    "tags": []
   },
   "outputs": [],
   "source": [
    "from os.path import exists\n",
    "\n",
    "import os\n",
    "import urllib.request\n",
    "\n",
    "data_directory = \"./01-Download-MAUDE-Data\"\n",
    "working_directory = \"./42-Report-Classification-Deployment\"\n",
    "\n",
    "\n",
    "# Create the working directory if needed\n",
    "try:\n",
    "    os.makedirs(working_directory, exist_ok=True)\n",
    "except OSError as error:\n",
    "    print(f\"Error creating {data_directory}: {error}\")"
   ]
  },
  {
   "cell_type": "code",
   "execution_count": 3,
   "id": "7df42351-051b-4f50-82e4-7d3212952743",
   "metadata": {
    "tags": []
   },
   "outputs": [
    {
     "name": "stdout",
     "output_type": "stream",
     "text": [
      "Unzipping foitext2019.zip\n",
      "Unzipping device2019.zip\n",
      "Unzip complete.\n"
     ]
    }
   ],
   "source": [
    "from zipfile import ZipFile\n",
    "\n",
    "zip_files = [foitext_zip_file, device_zip_file]\n",
    "\n",
    "# Unzip the data files into the working directory\n",
    "for i in zip_files:\n",
    "    print(f\"Unzipping {i}\")\n",
    "    with ZipFile(f\"{data_directory}/{i}\", \"r\") as zip:\n",
    "        zip.extractall(f\"{working_directory}\")\n",
    "\n",
    "print(\"Unzip complete.\")\n",
    "\n",
    "# Change file names in working directory to lower case\n",
    "for file in os.listdir(working_directory):\n",
    "    os.rename(f\"{working_directory}/{file}\", f\"{working_directory}/{file.lower()}\")"
   ]
  },
  {
   "cell_type": "code",
   "execution_count": 4,
   "id": "5d1d0012-8941-47e2-95fa-ec95034412f3",
   "metadata": {
    "tags": []
   },
   "outputs": [
    {
     "name": "stdout",
     "output_type": "stream",
     "text": [
      "foitext data frame creation complete: (3252822, 5)\n"
     ]
    }
   ],
   "source": [
    "import pandas as pd\n",
    "import csv\n",
    "\n",
    "# Create a dataframe for the foitext file\n",
    "foitext_df = pd.read_csv(\n",
    "    f\"{working_directory}/{foitext_data_file}\",\n",
    "    sep=\"|\",\n",
    "    encoding=\"ISO-8859-1\",\n",
    "    on_bad_lines=\"warn\",\n",
    "    quoting=csv.QUOTE_NONE,\n",
    "    dtype=\"str\",\n",
    ")\n",
    "\n",
    "# Use the MDR_REPORT_KEY column as the index for the dataframe without creating a new dataframe\n",
    "foitext_df.set_index(\"MDR_REPORT_KEY\", inplace=True)\n",
    "\n",
    "# Replace any records that Pandas converted to 'N/A' with an empty string.  This is needed for further processing\n",
    "foitext_df.fillna(\"\", inplace=True)\n",
    "\n",
    "print(f\"foitext data frame creation complete: {foitext_df.shape}\")"
   ]
  },
  {
   "cell_type": "code",
   "execution_count": 5,
   "id": "10ee8b30-19ee-40aa-b451-71f1c25eb625",
   "metadata": {
    "tags": []
   },
   "outputs": [
    {
     "name": "stdout",
     "output_type": "stream",
     "text": [
      "device data frame creation complete (rows, columns): (1333496, 9)\n"
     ]
    }
   ],
   "source": [
    "import pandas as pd\n",
    "import csv\n",
    "\n",
    "# Create a dataframe for the device file\n",
    "device_df = pd.read_csv(\n",
    "    f\"{working_directory}/{device_data_file}\",\n",
    "    sep=\"|\",\n",
    "    encoding=\"ISO-8859-1\",\n",
    "    on_bad_lines=\"warn\",\n",
    "    quoting=csv.QUOTE_NONE,\n",
    "    dtype=\"str\",\n",
    ")\n",
    "\n",
    "# Use the MDR_REPORT_KEY column as the index for the dataframe without creating a new dataframe\n",
    "device_df.set_index(\"MDR_REPORT_KEY\", inplace=True)\n",
    "\n",
    "# Identify the unwanted columns\n",
    "unwanted_columns = [\n",
    "    \"DEVICE_EVENT_KEY\",\n",
    "    \"IMPLANT_FLAG\",\n",
    "    \"DATE_REMOVED_FLAG\",\n",
    "    \"DATE_RECEIVED\",\n",
    "    \"MANUFACTURER_D_ADDRESS_1\",\n",
    "    \"MANUFACTURER_D_ADDRESS_2\",\n",
    "    \"MANUFACTURER_D_CITY\",\n",
    "    \"MANUFACTURER_D_STATE_CODE\",\n",
    "    \"MANUFACTURER_D_ZIP_CODE\",\n",
    "    \"MANUFACTURER_D_ZIP_CODE_EXT\",\n",
    "    \"MANUFACTURER_D_COUNTRY_CODE\",\n",
    "    \"MANUFACTURER_D_POSTAL_CODE\",\n",
    "    \"DEVICE_OPERATOR\",\n",
    "    \"EXPIRATION_DATE_OF_DEVICE\",\n",
    "    \"CATALOG_NUMBER\",\n",
    "    \"LOT_NUMBER\",\n",
    "    \"OTHER_ID_NUMBER\",\n",
    "    \"DATE_RETURNED_TO_MANUFACTURER\",\n",
    "    \"DEVICE_AGE_TEXT\",\n",
    "    \"DEVICE_EVALUATED_BY_MANUFACTUR\",\n",
    "    \"COMBINATION_PRODUCT_FLAG\",\n",
    "]\n",
    "\n",
    "# Remove the unwanted columns from the device dataframe\n",
    "device_df.drop(unwanted_columns, axis=1, inplace=True)\n",
    "\n",
    "# Replace any records that Pandas converted to 'N/A' with an empty string.  This is needed for further processing\n",
    "device_df.fillna(\"\", inplace=True)\n",
    "\n",
    "print(f\"device data frame creation complete (rows, columns): {device_df.shape}\")"
   ]
  },
  {
   "cell_type": "code",
   "execution_count": 6,
   "id": "542c5f8a-6bfe-4477-bdf7-82ad521730f3",
   "metadata": {
    "tags": []
   },
   "outputs": [
    {
     "name": "stdout",
     "output_type": "stream",
     "text": [
      "device data frame QBJ filter complete (rows, columns): (80807, 9)\n"
     ]
    }
   ],
   "source": [
    "# Filter rows where DEVICE_REPORT_PRODUCT_CODE is \"QBJ\"\n",
    "device_df = device_df[device_df[\"DEVICE_REPORT_PRODUCT_CODE\"] == \"QBJ\"]\n",
    "\n",
    "print(f\"device data frame QBJ filter complete (rows, columns): {device_df.shape}\")"
   ]
  },
  {
   "cell_type": "code",
   "execution_count": 7,
   "id": "76dff893-553a-4ed4-ac77-1926aed57cd3",
   "metadata": {
    "tags": []
   },
   "outputs": [
    {
     "name": "stdout",
     "output_type": "stream",
     "text": [
      "device and foitext merge complete (rows, columns): (192942, 14)\n"
     ]
    }
   ],
   "source": [
    "# Create the primary dataframe by merging the device and foitext and device dataframes\n",
    "# Merge with device_df on the left so that only the associated rows from foitext are retained\n",
    "df = pd.merge(device_df, foitext_df, on=\"MDR_REPORT_KEY\", how=\"inner\")\n",
    "\n",
    "print(f\"device and foitext merge complete (rows, columns): {df.shape}\")"
   ]
  },
  {
   "cell_type": "code",
   "execution_count": 8,
   "id": "01adbe71-de56-42b5-8109-25fc945a27ce",
   "metadata": {
    "tags": []
   },
   "outputs": [
    {
     "name": "stdout",
     "output_type": "stream",
     "text": [
      "data clean complete (rows, columns): (91217, 14)\n"
     ]
    }
   ],
   "source": [
    "# Remove rows where FOI_TEXT contains \"(B)(4)\"\n",
    "df = df[~df[\"FOI_TEXT\"].str.contains(\"\\(B\\)\\(4\\)\")]\n",
    "\n",
    "print(f\"data clean complete (rows, columns): {df.shape}\")"
   ]
  },
  {
   "cell_type": "code",
   "execution_count": 9,
   "id": "bb8a907e-7c90-41d2-b518-c3c3a289f5f4",
   "metadata": {
    "tags": []
   },
   "outputs": [],
   "source": [
    "# Get rid of some columns that are not needed\n",
    "columns_to_remove = [\n",
    "    \"BRAND_NAME\",\n",
    "    \"DATE_REPORT\",\n",
    "    \"DEVICE_AVAILABILITY\",\n",
    "    \"DEVICE_REPORT_PRODUCT_CODE\",\n",
    "    \"DEVICE_SEQUENCE_NO\",\n",
    "    \"GENERIC_NAME\",\n",
    "    \"MANUFACTURER_D_NAME\",\n",
    "    \"MDR_TEXT_KEY\",\n",
    "    \"MODEL_NUMBER\",\n",
    "    \"PATIENT_SEQUENCE_NUMBER\",\n",
    "    \"TEXT_TYPE_CODE\",\n",
    "    \"UDI-DI\",\n",
    "    \"UDI-PUBLIC\",\n",
    "]\n",
    "\n",
    "# Remove the specified columns\n",
    "df = df.drop(columns=columns_to_remove)"
   ]
  },
  {
   "cell_type": "code",
   "execution_count": 10,
   "id": "0d0613dd-4039-488e-8520-47df60effa46",
   "metadata": {
    "tags": []
   },
   "outputs": [],
   "source": [
    "# Calculate the number of rows representing 10% of the DataFrame\n",
    "n = int(len(df) * 0.01)\n",
    "\n",
    "# Create a new DataFrame with the first 10% of rows\n",
    "sample_df = df.sample(n=n, random_state=42)"
   ]
  },
  {
   "cell_type": "code",
   "execution_count": 11,
   "id": "91ca4cc6-c144-4f32-840b-569cefda772a",
   "metadata": {
    "tags": []
   },
   "outputs": [
    {
     "data": {
      "text/plain": [
       "(912, 1)"
      ]
     },
     "execution_count": 11,
     "metadata": {},
     "output_type": "execute_result"
    }
   ],
   "source": [
    "sample_df.shape"
   ]
  },
  {
   "cell_type": "code",
   "execution_count": 12,
   "id": "fb6940ad-9bd5-4c56-94be-69197dc371aa",
   "metadata": {
    "tags": []
   },
   "outputs": [
    {
     "data": {
      "text/html": [
       "<div>\n",
       "<style scoped>\n",
       "    .dataframe tbody tr th:only-of-type {\n",
       "        vertical-align: middle;\n",
       "    }\n",
       "\n",
       "    .dataframe tbody tr th {\n",
       "        vertical-align: top;\n",
       "    }\n",
       "\n",
       "    .dataframe thead th {\n",
       "        text-align: right;\n",
       "    }\n",
       "</style>\n",
       "<table border=\"1\" class=\"dataframe\">\n",
       "  <thead>\n",
       "    <tr style=\"text-align: right;\">\n",
       "      <th></th>\n",
       "      <th>FOI_TEXT</th>\n",
       "    </tr>\n",
       "    <tr>\n",
       "      <th>MDR_REPORT_KEY</th>\n",
       "      <th></th>\n",
       "    </tr>\n",
       "  </thead>\n",
       "  <tbody>\n",
       "    <tr>\n",
       "      <th>8219546</th>\n",
       "      <td>NO PRODUCT WAS RETURNED FOR EVALUATION. SHOULD...</td>\n",
       "    </tr>\n",
       "    <tr>\n",
       "      <th>9470368</th>\n",
       "      <td>IT WAS REPORTED THAT THE TRANSMITTER LOST CONN...</td>\n",
       "    </tr>\n",
       "    <tr>\n",
       "      <th>8966264</th>\n",
       "      <td>IT WAS REPORTED THAT THE TRANSMITTER LOST CONN...</td>\n",
       "    </tr>\n",
       "    <tr>\n",
       "      <th>9446129</th>\n",
       "      <td>IT WAS REPORTED THAT A BROKEN SENSOR WIRE OCCU...</td>\n",
       "    </tr>\n",
       "    <tr>\n",
       "      <th>9269744</th>\n",
       "      <td>IT WAS REPORTED THAT SIGNAL LOSS OVER ONE HOUR...</td>\n",
       "    </tr>\n",
       "  </tbody>\n",
       "</table>\n",
       "</div>"
      ],
      "text/plain": [
       "                                                         FOI_TEXT\n",
       "MDR_REPORT_KEY                                                   \n",
       "8219546         NO PRODUCT WAS RETURNED FOR EVALUATION. SHOULD...\n",
       "9470368         IT WAS REPORTED THAT THE TRANSMITTER LOST CONN...\n",
       "8966264         IT WAS REPORTED THAT THE TRANSMITTER LOST CONN...\n",
       "9446129         IT WAS REPORTED THAT A BROKEN SENSOR WIRE OCCU...\n",
       "9269744         IT WAS REPORTED THAT SIGNAL LOSS OVER ONE HOUR..."
      ]
     },
     "execution_count": 12,
     "metadata": {},
     "output_type": "execute_result"
    }
   ],
   "source": [
    "sample_df.head()"
   ]
  },
  {
   "cell_type": "code",
   "execution_count": 13,
   "id": "f34d6764-7d08-4046-8a43-11bd88276f85",
   "metadata": {
    "tags": []
   },
   "outputs": [],
   "source": [
    "# Imports for working with the model\n",
    "from nltk import word_tokenize\n",
    "from nltk.corpus import stopwords\n",
    "from nltk.probability import FreqDist\n",
    "from nltk.stem import PorterStemmer\n",
    "from nltk.tokenize import word_tokenize\n",
    "from sklearn.ensemble import AdaBoostClassifier\n",
    "from sklearn.ensemble import RandomForestClassifier\n",
    "from sklearn.feature_extraction.text import TfidfVectorizer\n",
    "from sklearn.linear_model import LogisticRegression\n",
    "from sklearn.linear_model import SGDClassifier\n",
    "from sklearn.metrics import accuracy_score, precision_score, recall_score, f1_score\n",
    "from sklearn.metrics import classification_report\n",
    "from sklearn.metrics import confusion_matrix,ConfusionMatrixDisplay\n",
    "from sklearn.model_selection import GridSearchCV\n",
    "from sklearn.model_selection import cross_validate\n",
    "from sklearn.model_selection import train_test_split\n",
    "from sklearn.naive_bayes import GaussianNB\n",
    "from sklearn.preprocessing import LabelEncoder\n",
    "from sklearn.svm import SVC\n",
    "from sklearn.tree import DecisionTreeClassifier\n",
    "from tabulate import tabulate\n",
    "from wordcloud import WordCloud\n",
    "import matplotlib as mpl\n",
    "import matplotlib.pyplot as plt\n",
    "import nltk\n",
    "import numpy as np\n",
    "import pandas as pd\n",
    "import pickle\n",
    "import re\n",
    "import seaborn as sns\n",
    "import time\n",
    "import xgboost as xgb\n",
    "\n",
    "ps = PorterStemmer() #creating an instance of the class\n",
    "tfidf = TfidfVectorizer(min_df=2)"
   ]
  },
  {
   "cell_type": "code",
   "execution_count": 14,
   "id": "89b372df-2610-4f0b-ba87-877eb0f87f4a",
   "metadata": {
    "tags": []
   },
   "outputs": [],
   "source": [
    "# Load the model\n",
    "model_pickle = f\"{working_directory}/XGB_model.pickle\"\n",
    "\n",
    "\n",
    "# Load the variable using a \"with\" clause\n",
    "with open(model_pickle, 'rb') as file:\n",
    "    model = pickle.load(file)"
   ]
  },
  {
   "cell_type": "code",
   "execution_count": 15,
   "id": "1245e760-bf55-4f3d-9269-598a27a6130d",
   "metadata": {
    "id": "e88720e2",
    "tags": []
   },
   "outputs": [],
   "source": [
    "def preprocess_text(text):\n",
    "    \"\"\"In preprocess_text function we will apply all the things that given below:\n",
    "    - removing links\n",
    "    - removing special characters\n",
    "    - removing punctuations\n",
    "    - removing numbers\n",
    "    - removing stopwords\n",
    "    - doing stemming\n",
    "    - transforming in lowercase\n",
    "    - removing excessive whitespaces\n",
    "    \"\"\"\n",
    "    # remove links\n",
    "    text = re.sub(r\"http\\S+\", \"\", str(text))\n",
    "    # remove special chars and numbers\n",
    "    text = re.sub(\"[^A-Za-z]+\", \" \", str(text))\n",
    "    # remove punctuations in string\n",
    "    text = re.sub(r'[^\\w\\s]', \"\", str(text)) \n",
    "    # 1. tokenize\n",
    "    tokens = nltk.word_tokenize(text)\n",
    "    # 2. check if stopword and stemming the word\n",
    "    tokens = [ps.stem(w) for w in tokens if not w.lower() in stopwords.words(\"english\")]\n",
    "    # 3. join back together\n",
    "    text = \" \".join(tokens)\n",
    "    # return text in lower case and stripped of whitespaces\n",
    "    text = text.lower().strip()\n",
    "    return text"
   ]
  },
  {
   "cell_type": "code",
   "execution_count": 16,
   "id": "2cc55582-9f0d-4a0d-b1b6-16b2d429360e",
   "metadata": {
    "id": "5v8wEadHl7dx",
    "tags": []
   },
   "outputs": [],
   "source": [
    "def prediction(text):\n",
    "  predict_text = pd.DataFrame([text])\n",
    "  p = predict_text[0].apply(lambda x: preprocess_text(x)).values\n",
    "  classes = ['Design Engineer', 'Management', 'Manufacturing Engineer',\n",
    "       'Quality Engineering', 'Stakeholder Unassigned']\n",
    "  predict = classes[model.predict(tfidf.transform(p).toarray())[0]]\n",
    "  print(\"Predicted Text: \", predict)"
   ]
  },
  {
   "cell_type": "code",
   "execution_count": 17,
   "id": "fb74da7b-d630-4f44-a89e-711c6860ad8c",
   "metadata": {
    "tags": []
   },
   "outputs": [
    {
     "ename": "NotFittedError",
     "evalue": "The TF-IDF vectorizer is not fitted",
     "output_type": "error",
     "traceback": [
      "\u001b[0;31m---------------------------------------------------------------------------\u001b[0m",
      "\u001b[0;31mNotFittedError\u001b[0m                            Traceback (most recent call last)",
      "Cell \u001b[0;32mIn[17], line 3\u001b[0m\n\u001b[1;32m      1\u001b[0m \u001b[38;5;66;03m# Loop through each row of the \"FOI_TEXT\" column\u001b[39;00m\n\u001b[1;32m      2\u001b[0m \u001b[38;5;28;01mfor\u001b[39;00m foi_text \u001b[38;5;129;01min\u001b[39;00m df[\u001b[38;5;124m'\u001b[39m\u001b[38;5;124mFOI_TEXT\u001b[39m\u001b[38;5;124m'\u001b[39m]:\n\u001b[0;32m----> 3\u001b[0m     \u001b[43mprediction\u001b[49m\u001b[43m(\u001b[49m\u001b[43mfoi_text\u001b[49m\u001b[43m)\u001b[49m\n",
      "Cell \u001b[0;32mIn[16], line 6\u001b[0m, in \u001b[0;36mprediction\u001b[0;34m(text)\u001b[0m\n\u001b[1;32m      3\u001b[0m p \u001b[38;5;241m=\u001b[39m predict_text[\u001b[38;5;241m0\u001b[39m]\u001b[38;5;241m.\u001b[39mapply(\u001b[38;5;28;01mlambda\u001b[39;00m x: preprocess_text(x))\u001b[38;5;241m.\u001b[39mvalues\n\u001b[1;32m      4\u001b[0m classes \u001b[38;5;241m=\u001b[39m [\u001b[38;5;124m'\u001b[39m\u001b[38;5;124mDesign Engineer\u001b[39m\u001b[38;5;124m'\u001b[39m, \u001b[38;5;124m'\u001b[39m\u001b[38;5;124mManagement\u001b[39m\u001b[38;5;124m'\u001b[39m, \u001b[38;5;124m'\u001b[39m\u001b[38;5;124mManufacturing Engineer\u001b[39m\u001b[38;5;124m'\u001b[39m,\n\u001b[1;32m      5\u001b[0m      \u001b[38;5;124m'\u001b[39m\u001b[38;5;124mQuality Engineering\u001b[39m\u001b[38;5;124m'\u001b[39m, \u001b[38;5;124m'\u001b[39m\u001b[38;5;124mStakeholder Unassigned\u001b[39m\u001b[38;5;124m'\u001b[39m]\n\u001b[0;32m----> 6\u001b[0m predict \u001b[38;5;241m=\u001b[39m classes[model\u001b[38;5;241m.\u001b[39mpredict(\u001b[43mtfidf\u001b[49m\u001b[38;5;241;43m.\u001b[39;49m\u001b[43mtransform\u001b[49m\u001b[43m(\u001b[49m\u001b[43mp\u001b[49m\u001b[43m)\u001b[49m\u001b[38;5;241m.\u001b[39mtoarray())[\u001b[38;5;241m0\u001b[39m]]\n\u001b[1;32m      7\u001b[0m \u001b[38;5;28mprint\u001b[39m(\u001b[38;5;124m\"\u001b[39m\u001b[38;5;124mPredicted Text: \u001b[39m\u001b[38;5;124m\"\u001b[39m, predict)\n",
      "File \u001b[0;32m~/Envs/praxis-2023/lib/python3.11/site-packages/sklearn/feature_extraction/text.py:2155\u001b[0m, in \u001b[0;36mTfidfVectorizer.transform\u001b[0;34m(self, raw_documents)\u001b[0m\n\u001b[1;32m   2139\u001b[0m \u001b[38;5;28;01mdef\u001b[39;00m \u001b[38;5;21mtransform\u001b[39m(\u001b[38;5;28mself\u001b[39m, raw_documents):\n\u001b[1;32m   2140\u001b[0m \u001b[38;5;250m    \u001b[39m\u001b[38;5;124;03m\"\"\"Transform documents to document-term matrix.\u001b[39;00m\n\u001b[1;32m   2141\u001b[0m \n\u001b[1;32m   2142\u001b[0m \u001b[38;5;124;03m    Uses the vocabulary and document frequencies (df) learned by fit (or\u001b[39;00m\n\u001b[0;32m   (...)\u001b[0m\n\u001b[1;32m   2153\u001b[0m \u001b[38;5;124;03m        Tf-idf-weighted document-term matrix.\u001b[39;00m\n\u001b[1;32m   2154\u001b[0m \u001b[38;5;124;03m    \"\"\"\u001b[39;00m\n\u001b[0;32m-> 2155\u001b[0m     \u001b[43mcheck_is_fitted\u001b[49m\u001b[43m(\u001b[49m\u001b[38;5;28;43mself\u001b[39;49m\u001b[43m,\u001b[49m\u001b[43m \u001b[49m\u001b[43mmsg\u001b[49m\u001b[38;5;241;43m=\u001b[39;49m\u001b[38;5;124;43m\"\u001b[39;49m\u001b[38;5;124;43mThe TF-IDF vectorizer is not fitted\u001b[39;49m\u001b[38;5;124;43m\"\u001b[39;49m\u001b[43m)\u001b[49m\n\u001b[1;32m   2157\u001b[0m     X \u001b[38;5;241m=\u001b[39m \u001b[38;5;28msuper\u001b[39m()\u001b[38;5;241m.\u001b[39mtransform(raw_documents)\n\u001b[1;32m   2158\u001b[0m     \u001b[38;5;28;01mreturn\u001b[39;00m \u001b[38;5;28mself\u001b[39m\u001b[38;5;241m.\u001b[39m_tfidf\u001b[38;5;241m.\u001b[39mtransform(X, copy\u001b[38;5;241m=\u001b[39m\u001b[38;5;28;01mFalse\u001b[39;00m)\n",
      "File \u001b[0;32m~/Envs/praxis-2023/lib/python3.11/site-packages/sklearn/utils/validation.py:1390\u001b[0m, in \u001b[0;36mcheck_is_fitted\u001b[0;34m(estimator, attributes, msg, all_or_any)\u001b[0m\n\u001b[1;32m   1385\u001b[0m     fitted \u001b[38;5;241m=\u001b[39m [\n\u001b[1;32m   1386\u001b[0m         v \u001b[38;5;28;01mfor\u001b[39;00m v \u001b[38;5;129;01min\u001b[39;00m \u001b[38;5;28mvars\u001b[39m(estimator) \u001b[38;5;28;01mif\u001b[39;00m v\u001b[38;5;241m.\u001b[39mendswith(\u001b[38;5;124m\"\u001b[39m\u001b[38;5;124m_\u001b[39m\u001b[38;5;124m\"\u001b[39m) \u001b[38;5;129;01mand\u001b[39;00m \u001b[38;5;129;01mnot\u001b[39;00m v\u001b[38;5;241m.\u001b[39mstartswith(\u001b[38;5;124m\"\u001b[39m\u001b[38;5;124m__\u001b[39m\u001b[38;5;124m\"\u001b[39m)\n\u001b[1;32m   1387\u001b[0m     ]\n\u001b[1;32m   1389\u001b[0m \u001b[38;5;28;01mif\u001b[39;00m \u001b[38;5;129;01mnot\u001b[39;00m fitted:\n\u001b[0;32m-> 1390\u001b[0m     \u001b[38;5;28;01mraise\u001b[39;00m NotFittedError(msg \u001b[38;5;241m%\u001b[39m {\u001b[38;5;124m\"\u001b[39m\u001b[38;5;124mname\u001b[39m\u001b[38;5;124m\"\u001b[39m: \u001b[38;5;28mtype\u001b[39m(estimator)\u001b[38;5;241m.\u001b[39m\u001b[38;5;18m__name__\u001b[39m})\n",
      "\u001b[0;31mNotFittedError\u001b[0m: The TF-IDF vectorizer is not fitted"
     ]
    }
   ],
   "source": [
    "# Loop through each row of the \"FOI_TEXT\" column\n",
    "for foi_text in df['FOI_TEXT']:\n",
    "    prediction(foi_text)"
   ]
  },
  {
   "cell_type": "code",
   "execution_count": null,
   "id": "9f23d895-e0a5-4364-8a09-4feca5f7c5f9",
   "metadata": {},
   "outputs": [],
   "source": []
  }
 ],
 "metadata": {
  "accelerator": "TPU",
  "colab": {
   "include_colab_link": true,
   "machine_shape": "hm",
   "provenance": []
  },
  "gpuClass": "standard",
  "kernelspec": {
   "display_name": "Python 3 (ipykernel)",
   "language": "python",
   "name": "python3"
  },
  "language_info": {
   "codemirror_mode": {
    "name": "ipython",
    "version": 3
   },
   "file_extension": ".py",
   "mimetype": "text/x-python",
   "name": "python",
   "nbconvert_exporter": "python",
   "pygments_lexer": "ipython3",
   "version": "3.11.3"
  },
  "widgets": {
   "application/vnd.jupyter.widget-state+json": {
    "1ea3563f43b14fd6bd9f4582d0b813f6": {
     "model_module": "@jupyter-widgets/base",
     "model_module_version": "1.2.0",
     "model_name": "LayoutModel",
     "state": {
      "_model_module": "@jupyter-widgets/base",
      "_model_module_version": "1.2.0",
      "_model_name": "LayoutModel",
      "_view_count": null,
      "_view_module": "@jupyter-widgets/base",
      "_view_module_version": "1.2.0",
      "_view_name": "LayoutView",
      "align_content": null,
      "align_items": null,
      "align_self": null,
      "border": null,
      "bottom": null,
      "display": null,
      "flex": null,
      "flex_flow": null,
      "grid_area": null,
      "grid_auto_columns": null,
      "grid_auto_flow": null,
      "grid_auto_rows": null,
      "grid_column": null,
      "grid_gap": null,
      "grid_row": null,
      "grid_template_areas": null,
      "grid_template_columns": null,
      "grid_template_rows": null,
      "height": null,
      "justify_content": null,
      "justify_items": null,
      "left": null,
      "margin": null,
      "max_height": null,
      "max_width": null,
      "min_height": null,
      "min_width": null,
      "object_fit": null,
      "object_position": null,
      "order": null,
      "overflow": null,
      "overflow_x": null,
      "overflow_y": null,
      "padding": null,
      "right": null,
      "top": null,
      "visibility": null,
      "width": null
     }
    },
    "2af2d7dd554242a39403945ccdab81ce": {
     "model_module": "@jupyter-widgets/base",
     "model_module_version": "1.2.0",
     "model_name": "LayoutModel",
     "state": {
      "_model_module": "@jupyter-widgets/base",
      "_model_module_version": "1.2.0",
      "_model_name": "LayoutModel",
      "_view_count": null,
      "_view_module": "@jupyter-widgets/base",
      "_view_module_version": "1.2.0",
      "_view_name": "LayoutView",
      "align_content": null,
      "align_items": null,
      "align_self": null,
      "border": null,
      "bottom": null,
      "display": null,
      "flex": null,
      "flex_flow": null,
      "grid_area": null,
      "grid_auto_columns": null,
      "grid_auto_flow": null,
      "grid_auto_rows": null,
      "grid_column": null,
      "grid_gap": null,
      "grid_row": null,
      "grid_template_areas": null,
      "grid_template_columns": null,
      "grid_template_rows": null,
      "height": null,
      "justify_content": null,
      "justify_items": null,
      "left": null,
      "margin": null,
      "max_height": null,
      "max_width": null,
      "min_height": null,
      "min_width": null,
      "object_fit": null,
      "object_position": null,
      "order": null,
      "overflow": null,
      "overflow_x": null,
      "overflow_y": null,
      "padding": null,
      "right": null,
      "top": null,
      "visibility": null,
      "width": null
     }
    },
    "2ba5f52bdc84478687b933e66944c236": {
     "model_module": "@jupyter-widgets/base",
     "model_module_version": "1.2.0",
     "model_name": "LayoutModel",
     "state": {
      "_model_module": "@jupyter-widgets/base",
      "_model_module_version": "1.2.0",
      "_model_name": "LayoutModel",
      "_view_count": null,
      "_view_module": "@jupyter-widgets/base",
      "_view_module_version": "1.2.0",
      "_view_name": "LayoutView",
      "align_content": null,
      "align_items": null,
      "align_self": null,
      "border": null,
      "bottom": null,
      "display": null,
      "flex": null,
      "flex_flow": null,
      "grid_area": null,
      "grid_auto_columns": null,
      "grid_auto_flow": null,
      "grid_auto_rows": null,
      "grid_column": null,
      "grid_gap": null,
      "grid_row": null,
      "grid_template_areas": null,
      "grid_template_columns": null,
      "grid_template_rows": null,
      "height": null,
      "justify_content": null,
      "justify_items": null,
      "left": null,
      "margin": null,
      "max_height": null,
      "max_width": null,
      "min_height": null,
      "min_width": null,
      "object_fit": null,
      "object_position": null,
      "order": null,
      "overflow": null,
      "overflow_x": null,
      "overflow_y": null,
      "padding": null,
      "right": null,
      "top": null,
      "visibility": null,
      "width": null
     }
    },
    "2e21e56b24ba4c60a1b7f910038c1c28": {
     "model_module": "@jupyter-widgets/base",
     "model_module_version": "1.2.0",
     "model_name": "LayoutModel",
     "state": {
      "_model_module": "@jupyter-widgets/base",
      "_model_module_version": "1.2.0",
      "_model_name": "LayoutModel",
      "_view_count": null,
      "_view_module": "@jupyter-widgets/base",
      "_view_module_version": "1.2.0",
      "_view_name": "LayoutView",
      "align_content": null,
      "align_items": null,
      "align_self": null,
      "border": null,
      "bottom": null,
      "display": null,
      "flex": null,
      "flex_flow": null,
      "grid_area": null,
      "grid_auto_columns": null,
      "grid_auto_flow": null,
      "grid_auto_rows": null,
      "grid_column": null,
      "grid_gap": null,
      "grid_row": null,
      "grid_template_areas": null,
      "grid_template_columns": null,
      "grid_template_rows": null,
      "height": null,
      "justify_content": null,
      "justify_items": null,
      "left": null,
      "margin": null,
      "max_height": null,
      "max_width": null,
      "min_height": null,
      "min_width": null,
      "object_fit": null,
      "object_position": null,
      "order": null,
      "overflow": null,
      "overflow_x": null,
      "overflow_y": null,
      "padding": null,
      "right": null,
      "top": null,
      "visibility": null,
      "width": null
     }
    },
    "388db546bc7d479b9200814963f169ee": {
     "model_module": "@jupyter-widgets/controls",
     "model_module_version": "1.5.0",
     "model_name": "ProgressStyleModel",
     "state": {
      "_model_module": "@jupyter-widgets/controls",
      "_model_module_version": "1.5.0",
      "_model_name": "ProgressStyleModel",
      "_view_count": null,
      "_view_module": "@jupyter-widgets/base",
      "_view_module_version": "1.2.0",
      "_view_name": "StyleView",
      "bar_color": null,
      "description_width": ""
     }
    },
    "4fd0f653cf6947c08db07ad058ad57ba": {
     "model_module": "@jupyter-widgets/controls",
     "model_module_version": "1.5.0",
     "model_name": "HBoxModel",
     "state": {
      "_dom_classes": [],
      "_model_module": "@jupyter-widgets/controls",
      "_model_module_version": "1.5.0",
      "_model_name": "HBoxModel",
      "_view_count": null,
      "_view_module": "@jupyter-widgets/controls",
      "_view_module_version": "1.5.0",
      "_view_name": "HBoxView",
      "box_style": "",
      "children": [
       "IPY_MODEL_87a56fc26e864fc19049e56f334b16c3",
       "IPY_MODEL_a69f6a767827497687ba762839057bbb",
       "IPY_MODEL_723024789840495ab35afd291396d951"
      ],
      "layout": "IPY_MODEL_2ba5f52bdc84478687b933e66944c236"
     }
    },
    "54930228938b4302bcdc3e2f9647855a": {
     "model_module": "@jupyter-widgets/controls",
     "model_module_version": "1.5.0",
     "model_name": "DescriptionStyleModel",
     "state": {
      "_model_module": "@jupyter-widgets/controls",
      "_model_module_version": "1.5.0",
      "_model_name": "DescriptionStyleModel",
      "_view_count": null,
      "_view_module": "@jupyter-widgets/base",
      "_view_module_version": "1.2.0",
      "_view_name": "StyleView",
      "description_width": ""
     }
    },
    "5c84e3f6da964424b228c02fb085323a": {
     "model_module": "@jupyter-widgets/controls",
     "model_module_version": "1.5.0",
     "model_name": "HTMLModel",
     "state": {
      "_dom_classes": [],
      "_model_module": "@jupyter-widgets/controls",
      "_model_module_version": "1.5.0",
      "_model_name": "HTMLModel",
      "_view_count": null,
      "_view_module": "@jupyter-widgets/controls",
      "_view_module_version": "1.5.0",
      "_view_name": "HTMLView",
      "description": "",
      "description_tooltip": null,
      "layout": "IPY_MODEL_2af2d7dd554242a39403945ccdab81ce",
      "placeholder": "​",
      "style": "IPY_MODEL_d3008b4a78734f7babb697f63273765a",
      "value": " 7/7 [14:19&lt;00:00, 147.49s/it]"
     }
    },
    "723024789840495ab35afd291396d951": {
     "model_module": "@jupyter-widgets/controls",
     "model_module_version": "1.5.0",
     "model_name": "HTMLModel",
     "state": {
      "_dom_classes": [],
      "_model_module": "@jupyter-widgets/controls",
      "_model_module_version": "1.5.0",
      "_model_name": "HTMLModel",
      "_view_count": null,
      "_view_module": "@jupyter-widgets/controls",
      "_view_module_version": "1.5.0",
      "_view_name": "HTMLView",
      "description": "",
      "description_tooltip": null,
      "layout": "IPY_MODEL_7a3226d7a98e4cf293b4784af5c86a81",
      "placeholder": "​",
      "style": "IPY_MODEL_e3b5a0db23a24e85bba9803b7ecd8a80",
      "value": " 7/7 [00:18&lt;00:00,  3.39s/it]"
     }
    },
    "7a3226d7a98e4cf293b4784af5c86a81": {
     "model_module": "@jupyter-widgets/base",
     "model_module_version": "1.2.0",
     "model_name": "LayoutModel",
     "state": {
      "_model_module": "@jupyter-widgets/base",
      "_model_module_version": "1.2.0",
      "_model_name": "LayoutModel",
      "_view_count": null,
      "_view_module": "@jupyter-widgets/base",
      "_view_module_version": "1.2.0",
      "_view_name": "LayoutView",
      "align_content": null,
      "align_items": null,
      "align_self": null,
      "border": null,
      "bottom": null,
      "display": null,
      "flex": null,
      "flex_flow": null,
      "grid_area": null,
      "grid_auto_columns": null,
      "grid_auto_flow": null,
      "grid_auto_rows": null,
      "grid_column": null,
      "grid_gap": null,
      "grid_row": null,
      "grid_template_areas": null,
      "grid_template_columns": null,
      "grid_template_rows": null,
      "height": null,
      "justify_content": null,
      "justify_items": null,
      "left": null,
      "margin": null,
      "max_height": null,
      "max_width": null,
      "min_height": null,
      "min_width": null,
      "object_fit": null,
      "object_position": null,
      "order": null,
      "overflow": null,
      "overflow_x": null,
      "overflow_y": null,
      "padding": null,
      "right": null,
      "top": null,
      "visibility": null,
      "width": null
     }
    },
    "7f9d676ca02c4a4eb1ba4daebdbb9969": {
     "model_module": "@jupyter-widgets/base",
     "model_module_version": "1.2.0",
     "model_name": "LayoutModel",
     "state": {
      "_model_module": "@jupyter-widgets/base",
      "_model_module_version": "1.2.0",
      "_model_name": "LayoutModel",
      "_view_count": null,
      "_view_module": "@jupyter-widgets/base",
      "_view_module_version": "1.2.0",
      "_view_name": "LayoutView",
      "align_content": null,
      "align_items": null,
      "align_self": null,
      "border": null,
      "bottom": null,
      "display": null,
      "flex": null,
      "flex_flow": null,
      "grid_area": null,
      "grid_auto_columns": null,
      "grid_auto_flow": null,
      "grid_auto_rows": null,
      "grid_column": null,
      "grid_gap": null,
      "grid_row": null,
      "grid_template_areas": null,
      "grid_template_columns": null,
      "grid_template_rows": null,
      "height": null,
      "justify_content": null,
      "justify_items": null,
      "left": null,
      "margin": null,
      "max_height": null,
      "max_width": null,
      "min_height": null,
      "min_width": null,
      "object_fit": null,
      "object_position": null,
      "order": null,
      "overflow": null,
      "overflow_x": null,
      "overflow_y": null,
      "padding": null,
      "right": null,
      "top": null,
      "visibility": null,
      "width": null
     }
    },
    "87a56fc26e864fc19049e56f334b16c3": {
     "model_module": "@jupyter-widgets/controls",
     "model_module_version": "1.5.0",
     "model_name": "HTMLModel",
     "state": {
      "_dom_classes": [],
      "_model_module": "@jupyter-widgets/controls",
      "_model_module_version": "1.5.0",
      "_model_name": "HTMLModel",
      "_view_count": null,
      "_view_module": "@jupyter-widgets/controls",
      "_view_module_version": "1.5.0",
      "_view_name": "HTMLView",
      "description": "",
      "description_tooltip": null,
      "layout": "IPY_MODEL_7f9d676ca02c4a4eb1ba4daebdbb9969",
      "placeholder": "​",
      "style": "IPY_MODEL_54930228938b4302bcdc3e2f9647855a",
      "value": "model running: 100%"
     }
    },
    "9233b0b6c3d747aba07c2fd3edfe41f7": {
     "model_module": "@jupyter-widgets/controls",
     "model_module_version": "1.5.0",
     "model_name": "HTMLModel",
     "state": {
      "_dom_classes": [],
      "_model_module": "@jupyter-widgets/controls",
      "_model_module_version": "1.5.0",
      "_model_name": "HTMLModel",
      "_view_count": null,
      "_view_module": "@jupyter-widgets/controls",
      "_view_module_version": "1.5.0",
      "_view_name": "HTMLView",
      "description": "",
      "description_tooltip": null,
      "layout": "IPY_MODEL_1ea3563f43b14fd6bd9f4582d0b813f6",
      "placeholder": "​",
      "style": "IPY_MODEL_d3f32f5b6b3f48b3ad6aa34d35ca8841",
      "value": "model running: 100%"
     }
    },
    "9c70ebbced834e8c8eec8b4e47c6f70f": {
     "model_module": "@jupyter-widgets/base",
     "model_module_version": "1.2.0",
     "model_name": "LayoutModel",
     "state": {
      "_model_module": "@jupyter-widgets/base",
      "_model_module_version": "1.2.0",
      "_model_name": "LayoutModel",
      "_view_count": null,
      "_view_module": "@jupyter-widgets/base",
      "_view_module_version": "1.2.0",
      "_view_name": "LayoutView",
      "align_content": null,
      "align_items": null,
      "align_self": null,
      "border": null,
      "bottom": null,
      "display": null,
      "flex": null,
      "flex_flow": null,
      "grid_area": null,
      "grid_auto_columns": null,
      "grid_auto_flow": null,
      "grid_auto_rows": null,
      "grid_column": null,
      "grid_gap": null,
      "grid_row": null,
      "grid_template_areas": null,
      "grid_template_columns": null,
      "grid_template_rows": null,
      "height": null,
      "justify_content": null,
      "justify_items": null,
      "left": null,
      "margin": null,
      "max_height": null,
      "max_width": null,
      "min_height": null,
      "min_width": null,
      "object_fit": null,
      "object_position": null,
      "order": null,
      "overflow": null,
      "overflow_x": null,
      "overflow_y": null,
      "padding": null,
      "right": null,
      "top": null,
      "visibility": null,
      "width": null
     }
    },
    "a69f6a767827497687ba762839057bbb": {
     "model_module": "@jupyter-widgets/controls",
     "model_module_version": "1.5.0",
     "model_name": "FloatProgressModel",
     "state": {
      "_dom_classes": [],
      "_model_module": "@jupyter-widgets/controls",
      "_model_module_version": "1.5.0",
      "_model_name": "FloatProgressModel",
      "_view_count": null,
      "_view_module": "@jupyter-widgets/controls",
      "_view_module_version": "1.5.0",
      "_view_name": "ProgressView",
      "bar_style": "success",
      "description": "",
      "description_tooltip": null,
      "layout": "IPY_MODEL_9c70ebbced834e8c8eec8b4e47c6f70f",
      "max": 7,
      "min": 0,
      "orientation": "horizontal",
      "style": "IPY_MODEL_decfcd66c528461db8d370405b8dca88",
      "value": 7
     }
    },
    "d3008b4a78734f7babb697f63273765a": {
     "model_module": "@jupyter-widgets/controls",
     "model_module_version": "1.5.0",
     "model_name": "DescriptionStyleModel",
     "state": {
      "_model_module": "@jupyter-widgets/controls",
      "_model_module_version": "1.5.0",
      "_model_name": "DescriptionStyleModel",
      "_view_count": null,
      "_view_module": "@jupyter-widgets/base",
      "_view_module_version": "1.2.0",
      "_view_name": "StyleView",
      "description_width": ""
     }
    },
    "d3f32f5b6b3f48b3ad6aa34d35ca8841": {
     "model_module": "@jupyter-widgets/controls",
     "model_module_version": "1.5.0",
     "model_name": "DescriptionStyleModel",
     "state": {
      "_model_module": "@jupyter-widgets/controls",
      "_model_module_version": "1.5.0",
      "_model_name": "DescriptionStyleModel",
      "_view_count": null,
      "_view_module": "@jupyter-widgets/base",
      "_view_module_version": "1.2.0",
      "_view_name": "StyleView",
      "description_width": ""
     }
    },
    "decfcd66c528461db8d370405b8dca88": {
     "model_module": "@jupyter-widgets/controls",
     "model_module_version": "1.5.0",
     "model_name": "ProgressStyleModel",
     "state": {
      "_model_module": "@jupyter-widgets/controls",
      "_model_module_version": "1.5.0",
      "_model_name": "ProgressStyleModel",
      "_view_count": null,
      "_view_module": "@jupyter-widgets/base",
      "_view_module_version": "1.2.0",
      "_view_name": "StyleView",
      "bar_color": null,
      "description_width": ""
     }
    },
    "e16f11493a934bb382f63222a87a36d9": {
     "model_module": "@jupyter-widgets/controls",
     "model_module_version": "1.5.0",
     "model_name": "FloatProgressModel",
     "state": {
      "_dom_classes": [],
      "_model_module": "@jupyter-widgets/controls",
      "_model_module_version": "1.5.0",
      "_model_name": "FloatProgressModel",
      "_view_count": null,
      "_view_module": "@jupyter-widgets/controls",
      "_view_module_version": "1.5.0",
      "_view_name": "ProgressView",
      "bar_style": "success",
      "description": "",
      "description_tooltip": null,
      "layout": "IPY_MODEL_2e21e56b24ba4c60a1b7f910038c1c28",
      "max": 7,
      "min": 0,
      "orientation": "horizontal",
      "style": "IPY_MODEL_388db546bc7d479b9200814963f169ee",
      "value": 7
     }
    },
    "e3b5a0db23a24e85bba9803b7ecd8a80": {
     "model_module": "@jupyter-widgets/controls",
     "model_module_version": "1.5.0",
     "model_name": "DescriptionStyleModel",
     "state": {
      "_model_module": "@jupyter-widgets/controls",
      "_model_module_version": "1.5.0",
      "_model_name": "DescriptionStyleModel",
      "_view_count": null,
      "_view_module": "@jupyter-widgets/base",
      "_view_module_version": "1.2.0",
      "_view_name": "StyleView",
      "description_width": ""
     }
    },
    "fb02d1cd393f42caaecbafa8cbb48f29": {
     "model_module": "@jupyter-widgets/base",
     "model_module_version": "1.2.0",
     "model_name": "LayoutModel",
     "state": {
      "_model_module": "@jupyter-widgets/base",
      "_model_module_version": "1.2.0",
      "_model_name": "LayoutModel",
      "_view_count": null,
      "_view_module": "@jupyter-widgets/base",
      "_view_module_version": "1.2.0",
      "_view_name": "LayoutView",
      "align_content": null,
      "align_items": null,
      "align_self": null,
      "border": null,
      "bottom": null,
      "display": null,
      "flex": null,
      "flex_flow": null,
      "grid_area": null,
      "grid_auto_columns": null,
      "grid_auto_flow": null,
      "grid_auto_rows": null,
      "grid_column": null,
      "grid_gap": null,
      "grid_row": null,
      "grid_template_areas": null,
      "grid_template_columns": null,
      "grid_template_rows": null,
      "height": null,
      "justify_content": null,
      "justify_items": null,
      "left": null,
      "margin": null,
      "max_height": null,
      "max_width": null,
      "min_height": null,
      "min_width": null,
      "object_fit": null,
      "object_position": null,
      "order": null,
      "overflow": null,
      "overflow_x": null,
      "overflow_y": null,
      "padding": null,
      "right": null,
      "top": null,
      "visibility": null,
      "width": null
     }
    },
    "fe18119a8e0b46acb12527b5bb0b0ed0": {
     "model_module": "@jupyter-widgets/controls",
     "model_module_version": "1.5.0",
     "model_name": "HBoxModel",
     "state": {
      "_dom_classes": [],
      "_model_module": "@jupyter-widgets/controls",
      "_model_module_version": "1.5.0",
      "_model_name": "HBoxModel",
      "_view_count": null,
      "_view_module": "@jupyter-widgets/controls",
      "_view_module_version": "1.5.0",
      "_view_name": "HBoxView",
      "box_style": "",
      "children": [
       "IPY_MODEL_9233b0b6c3d747aba07c2fd3edfe41f7",
       "IPY_MODEL_e16f11493a934bb382f63222a87a36d9",
       "IPY_MODEL_5c84e3f6da964424b228c02fb085323a"
      ],
      "layout": "IPY_MODEL_fb02d1cd393f42caaecbafa8cbb48f29"
     }
    }
   }
  }
 },
 "nbformat": 4,
 "nbformat_minor": 5
}
