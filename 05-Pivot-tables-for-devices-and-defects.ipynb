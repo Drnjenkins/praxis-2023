{
 "cells": [
  {
   "cell_type": "markdown",
   "id": "d54a69f7-06d8-4c3c-ae33-8ed2c44003bb",
   "metadata": {},
   "source": [
    "# Pivot Tables for Devices and Defects\n",
    "\n",
    "List the devices from 2020 and 2021 along with their defects and the number of times each defect was reported.\n",
    "\n",
    "- Use the `GENERIC_NAME` column for the device.\n",
    "- Use the `DEFECT_PROBLEM_TEXT` column for the defect text.\n",
    "\n",
    "- Use the 'complete' data from the working directories for each year\n",
    "    - `./04-Process-2020-Data/2020_data_complete.csv`\n",
    "    - `./04-Process-2021-Data/2021_data_complete.csv`"
   ]
  },
  {
   "cell_type": "code",
   "execution_count": 1,
   "id": "ab4025fb-00a1-4083-a16d-68a98e4ffc16",
   "metadata": {},
   "outputs": [],
   "source": [
    "import os\n",
    "\n",
    "# Identify the working directory and data files\n",
    "working_directory = \"./05-Pivot-tables-for-devices-and-defects\"\n",
    "\n",
    "# Create the working directory if needed\n",
    "try:\n",
    "    os.makedirs(working_directory, exist_ok=True)\n",
    "except OSError as error:\n",
    "    print(f\"Error creating {working_directory}: {error}\")"
   ]
  },
  {
   "cell_type": "markdown",
   "id": "89dd8f5e-0624-49c0-826d-69fe163796d1",
   "metadata": {},
   "source": [
    "## Create table for 2020 Data\n",
    "- Read the data into a pandas dataframe\n",
    "- Create a dataframe for the devices using the `GENERIC_NAME` column of the dataframe, removing duplicates as needed\n",
    "- Create a dataframe for the defects using the `DEFECT_PROBLEM_TEXT` column of the dataframe, removing duplicates as needed"
   ]
  },
  {
   "cell_type": "code",
   "execution_count": 2,
   "id": "4ff1a485-e127-414b-9a11-87a2f175ef9e",
   "metadata": {},
   "outputs": [],
   "source": [
    "import pandas as pd\n",
    "\n",
    "data_file_2020 = \"./04-Process-2020-Data/2020_data_complete.csv\"\n",
    "\n",
    "# Read the data into a pandas dataframe\n",
    "data_2020 = pd.read_csv(\n",
    "    data_file_2020,  # The data file being read, from the variable assignment above\n",
    "    on_bad_lines=\"warn\",  # This tells Pandas to only warn on bad lines vs causing an error\n",
    "    dtype=\"str\",\n",
    ")  # This tells Pandas to treat all numbers as words\n",
    "\n",
    "# Remove unwanted columns\n",
    "unwanted_columns = [\n",
    "    \"MDR_REPORT_KEY\",\n",
    "    \"MDR_TEXT_KEY\",\n",
    "    \"TEXT_TYPE_CODE\",\n",
    "    \"PATIENT_SEQUENCE_NUMBER\",\n",
    "    \"DATE_REPORT\",\n",
    "    \"FOI_TEXT\",\n",
    "    \"DEVICE_SEQUENCE_NO\",\n",
    "    \"BRAND_NAME\",\n",
    "    \"MANUFACTURER_D_NAME\",\n",
    "    \"MODEL_NUMBER\",\n",
    "    \"DEVICE_AVAILABILITY\",\n",
    "    \"DEVICE_REPORT_PRODUCT_CODE\",\n",
    "    \"REPORT_NUMBER\",\n",
    "    \"REPORT_SOURCE_CODE\",\n",
    "    \"NUMBER_DEVICES_IN_EVENT\",\n",
    "    \"DATE_RECEIVED\",\n",
    "    \"INITIAL_REPORT_TO_FDA\",\n",
    "    \"MANUFACTURER_G1_NAME\",\n",
    "    \"REMEDIAL_ACTION\",\n",
    "    \"EVENT_TYPE\",\n",
    "    \"MANUFACTURER_NAME\",\n",
    "    \"TYPE_OF_REPORT\",\n",
    "    \"SUMMARY_REPORT\",\n",
    "    \"NOE_SUMMARIZED\",\n",
    "    \"UDI-DI\",\n",
    "    \"UDI-PUBLIC\",\n",
    "]\n",
    "\n",
    "data_2020.drop(unwanted_columns, axis=1, inplace=True)"
   ]
  },
  {
   "cell_type": "code",
   "execution_count": 3,
   "id": "0e10ab23-b2dd-4ce6-a2b4-ed1a4c13cb65",
   "metadata": {},
   "outputs": [
    {
     "name": "stdout",
     "output_type": "stream",
     "text": [
      "data_2020 creation complete: (3856740, 8)\n"
     ]
    }
   ],
   "source": [
    "print(f\"data_2020 creation complete: {data_2020.shape}\")"
   ]
  },
  {
   "cell_type": "code",
   "execution_count": 4,
   "id": "06fb2963-e437-4f18-9f05-7b3f99212225",
   "metadata": {},
   "outputs": [
    {
     "data": {
      "text/html": [
       "<div>\n",
       "<style scoped>\n",
       "    .dataframe tbody tr th:only-of-type {\n",
       "        vertical-align: middle;\n",
       "    }\n",
       "\n",
       "    .dataframe tbody tr th {\n",
       "        vertical-align: top;\n",
       "    }\n",
       "\n",
       "    .dataframe thead th {\n",
       "        text-align: right;\n",
       "    }\n",
       "</style>\n",
       "<table border=\"1\" class=\"dataframe\">\n",
       "  <thead>\n",
       "    <tr style=\"text-align: right;\">\n",
       "      <th></th>\n",
       "      <th>DEVICE_PROBLEM_CODE</th>\n",
       "      <th>DEVICE_PROBLEM_TEXT</th>\n",
       "      <th>GENERIC_NAME</th>\n",
       "      <th>DATE_OF_EVENT</th>\n",
       "      <th>REPORTER_OCCUPATION_CODE</th>\n",
       "      <th>REPORT_DATE</th>\n",
       "      <th>EVENT_LOCATION</th>\n",
       "      <th>SOURCE_TYPE</th>\n",
       "    </tr>\n",
       "  </thead>\n",
       "  <tbody>\n",
       "    <tr>\n",
       "      <th>0</th>\n",
       "      <td>2993</td>\n",
       "      <td>Adverse Event Without Identified Device or Use...</td>\n",
       "      <td>DEFIBRILLATION LEAD</td>\n",
       "      <td>12/12/2019</td>\n",
       "      <td>001</td>\n",
       "      <td>NaN</td>\n",
       "      <td>I</td>\n",
       "      <td>COMPANY REPRESENTATIVE,HEALTH</td>\n",
       "    </tr>\n",
       "    <tr>\n",
       "      <th>1</th>\n",
       "      <td>2993</td>\n",
       "      <td>Adverse Event Without Identified Device or Use...</td>\n",
       "      <td>DEFIBRILLATION LEAD</td>\n",
       "      <td>12/12/2019</td>\n",
       "      <td>001</td>\n",
       "      <td>NaN</td>\n",
       "      <td>I</td>\n",
       "      <td>COMPANY REPRESENTATIVE,HEALTH</td>\n",
       "    </tr>\n",
       "    <tr>\n",
       "      <th>2</th>\n",
       "      <td>1332</td>\n",
       "      <td>Failure to Interrogate</td>\n",
       "      <td>IMPLANTABLE CARDIOVERTER DEFIBRILLATOR</td>\n",
       "      <td>12/12/2019</td>\n",
       "      <td>000</td>\n",
       "      <td>NaN</td>\n",
       "      <td>I</td>\n",
       "      <td>COMPANY REPRESENTATIVE,HEALTH</td>\n",
       "    </tr>\n",
       "    <tr>\n",
       "      <th>3</th>\n",
       "      <td>1332</td>\n",
       "      <td>Failure to Interrogate</td>\n",
       "      <td>IMPLANTABLE CARDIOVERTER DEFIBRILLATOR</td>\n",
       "      <td>12/12/2019</td>\n",
       "      <td>000</td>\n",
       "      <td>NaN</td>\n",
       "      <td>I</td>\n",
       "      <td>COMPANY REPRESENTATIVE,HEALTH</td>\n",
       "    </tr>\n",
       "    <tr>\n",
       "      <th>4</th>\n",
       "      <td>1332</td>\n",
       "      <td>Failure to Interrogate</td>\n",
       "      <td>IMPLANTABLE CARDIOVERTER DEFIBRILLATOR</td>\n",
       "      <td>12/12/2019</td>\n",
       "      <td>000</td>\n",
       "      <td>NaN</td>\n",
       "      <td>I</td>\n",
       "      <td>COMPANY REPRESENTATIVE,HEALTH</td>\n",
       "    </tr>\n",
       "  </tbody>\n",
       "</table>\n",
       "</div>"
      ],
      "text/plain": [
       "  DEVICE_PROBLEM_CODE                                DEVICE_PROBLEM_TEXT  \\\n",
       "0                2993  Adverse Event Without Identified Device or Use...   \n",
       "1                2993  Adverse Event Without Identified Device or Use...   \n",
       "2                1332                             Failure to Interrogate   \n",
       "3                1332                             Failure to Interrogate   \n",
       "4                1332                             Failure to Interrogate   \n",
       "\n",
       "                             GENERIC_NAME DATE_OF_EVENT  \\\n",
       "0                     DEFIBRILLATION LEAD    12/12/2019   \n",
       "1                     DEFIBRILLATION LEAD    12/12/2019   \n",
       "2  IMPLANTABLE CARDIOVERTER DEFIBRILLATOR    12/12/2019   \n",
       "3  IMPLANTABLE CARDIOVERTER DEFIBRILLATOR    12/12/2019   \n",
       "4  IMPLANTABLE CARDIOVERTER DEFIBRILLATOR    12/12/2019   \n",
       "\n",
       "  REPORTER_OCCUPATION_CODE REPORT_DATE EVENT_LOCATION  \\\n",
       "0                      001         NaN              I   \n",
       "1                      001         NaN              I   \n",
       "2                      000         NaN              I   \n",
       "3                      000         NaN              I   \n",
       "4                      000         NaN              I   \n",
       "\n",
       "                     SOURCE_TYPE  \n",
       "0  COMPANY REPRESENTATIVE,HEALTH  \n",
       "1  COMPANY REPRESENTATIVE,HEALTH  \n",
       "2  COMPANY REPRESENTATIVE,HEALTH  \n",
       "3  COMPANY REPRESENTATIVE,HEALTH  \n",
       "4  COMPANY REPRESENTATIVE,HEALTH  "
      ]
     },
     "execution_count": 4,
     "metadata": {},
     "output_type": "execute_result"
    }
   ],
   "source": [
    "# Preview the data\n",
    "data_2020.head()"
   ]
  },
  {
   "cell_type": "code",
   "execution_count": 5,
   "id": "509dc2a9-8c22-4f68-b8f8-166cb4e550f9",
   "metadata": {},
   "outputs": [],
   "source": [
    "# Create a dataframe for the devices using the `GENERIC_NAME` column of the dataframe, removing duplicates as needed\n",
    "generic_names_2020 = pd.DataFrame(data_2020[\"GENERIC_NAME\"].value_counts())\n",
    "\n",
    "# Create a dataframe for the defects using the `DEFECT_PROBLEM_TEXT` column of the dataframe, removing duplicates as needed\n",
    "defects_2020 = pd.DataFrame(data_2020[\"DEVICE_PROBLEM_TEXT\"].value_counts())"
   ]
  },
  {
   "cell_type": "code",
   "execution_count": 6,
   "id": "c2871434-0e1b-4aaa-b443-09d8eaa5dbf1",
   "metadata": {},
   "outputs": [
    {
     "data": {
      "text/html": [
       "<div>\n",
       "<style scoped>\n",
       "    .dataframe tbody tr th:only-of-type {\n",
       "        vertical-align: middle;\n",
       "    }\n",
       "\n",
       "    .dataframe tbody tr th {\n",
       "        vertical-align: top;\n",
       "    }\n",
       "\n",
       "    .dataframe thead th {\n",
       "        text-align: right;\n",
       "    }\n",
       "</style>\n",
       "<table border=\"1\" class=\"dataframe\">\n",
       "  <thead>\n",
       "    <tr style=\"text-align: right;\">\n",
       "      <th></th>\n",
       "      <th>GENERIC_NAME</th>\n",
       "    </tr>\n",
       "  </thead>\n",
       "  <tbody>\n",
       "    <tr>\n",
       "      <th>CONTINUOUS GLUCOSE MONITOR</th>\n",
       "      <td>496771</td>\n",
       "    </tr>\n",
       "    <tr>\n",
       "      <th>ENDOSSEOUS DENTAL IMPLANT</th>\n",
       "      <td>315749</td>\n",
       "    </tr>\n",
       "    <tr>\n",
       "      <th>PUMP, INFUSION</th>\n",
       "      <td>312885</td>\n",
       "    </tr>\n",
       "    <tr>\n",
       "      <th>ARTIFICIAL PANCREAS DEVICE SYSTEM, SINGLE HORMONAL CONTROL</th>\n",
       "      <td>269489</td>\n",
       "    </tr>\n",
       "    <tr>\n",
       "      <th>PUMP, INFUSION, INSULIN, TO BE USED WITH INVASIVE GLUCOSE SENSOR</th>\n",
       "      <td>205467</td>\n",
       "    </tr>\n",
       "  </tbody>\n",
       "</table>\n",
       "</div>"
      ],
      "text/plain": [
       "                                                    GENERIC_NAME\n",
       "CONTINUOUS GLUCOSE MONITOR                                496771\n",
       "ENDOSSEOUS DENTAL IMPLANT                                 315749\n",
       "PUMP, INFUSION                                            312885\n",
       "ARTIFICIAL PANCREAS DEVICE SYSTEM, SINGLE HORMO...        269489\n",
       "PUMP, INFUSION, INSULIN, TO BE USED WITH INVASI...        205467"
      ]
     },
     "execution_count": 6,
     "metadata": {},
     "output_type": "execute_result"
    }
   ],
   "source": [
    "# Preview the data\n",
    "generic_names_2020.head()"
   ]
  },
  {
   "cell_type": "code",
   "execution_count": 7,
   "id": "fa208aa2-02bd-4b08-9df5-82db66ca112e",
   "metadata": {},
   "outputs": [
    {
     "data": {
      "text/plain": [
       "(15203, 1)"
      ]
     },
     "execution_count": 7,
     "metadata": {},
     "output_type": "execute_result"
    }
   ],
   "source": [
    "generic_names_2020.shape"
   ]
  },
  {
   "cell_type": "code",
   "execution_count": 8,
   "id": "6ead025d-6213-4650-8ee9-90b975231ad0",
   "metadata": {},
   "outputs": [
    {
     "data": {
      "text/plain": [
       "GENERIC_NAME    3843862\n",
       "dtype: int64"
      ]
     },
     "execution_count": 8,
     "metadata": {},
     "output_type": "execute_result"
    }
   ],
   "source": [
    "generic_names_2020.sum()"
   ]
  },
  {
   "cell_type": "code",
   "execution_count": 9,
   "id": "ace3693b-d928-4c64-a4e4-4eea05b2025c",
   "metadata": {},
   "outputs": [
    {
     "data": {
      "text/html": [
       "<div>\n",
       "<style scoped>\n",
       "    .dataframe tbody tr th:only-of-type {\n",
       "        vertical-align: middle;\n",
       "    }\n",
       "\n",
       "    .dataframe tbody tr th {\n",
       "        vertical-align: top;\n",
       "    }\n",
       "\n",
       "    .dataframe thead th {\n",
       "        text-align: right;\n",
       "    }\n",
       "</style>\n",
       "<table border=\"1\" class=\"dataframe\">\n",
       "  <thead>\n",
       "    <tr style=\"text-align: right;\">\n",
       "      <th></th>\n",
       "      <th>DEVICE_PROBLEM_TEXT</th>\n",
       "    </tr>\n",
       "  </thead>\n",
       "  <tbody>\n",
       "    <tr>\n",
       "      <th>Adverse Event Without Identified Device or Use Problem</th>\n",
       "      <td>331253</td>\n",
       "    </tr>\n",
       "    <tr>\n",
       "      <th>Failure to Osseointegrate</th>\n",
       "      <td>231019</td>\n",
       "    </tr>\n",
       "    <tr>\n",
       "      <th>Patient Device Interaction Problem</th>\n",
       "      <td>192077</td>\n",
       "    </tr>\n",
       "    <tr>\n",
       "      <th>Wireless Communication Problem</th>\n",
       "      <td>168761</td>\n",
       "    </tr>\n",
       "    <tr>\n",
       "      <th>No Device Output</th>\n",
       "      <td>163702</td>\n",
       "    </tr>\n",
       "  </tbody>\n",
       "</table>\n",
       "</div>"
      ],
      "text/plain": [
       "                                                    DEVICE_PROBLEM_TEXT\n",
       "Adverse Event Without Identified Device or Use ...               331253\n",
       "Failure to Osseointegrate                                        231019\n",
       "Patient Device Interaction Problem                               192077\n",
       "Wireless Communication Problem                                   168761\n",
       "No Device Output                                                 163702"
      ]
     },
     "execution_count": 9,
     "metadata": {},
     "output_type": "execute_result"
    }
   ],
   "source": [
    "# Preview the data\n",
    "defects_2020.head()"
   ]
  },
  {
   "cell_type": "code",
   "execution_count": 10,
   "id": "fc0aa165-c4b5-40d9-9ac8-17a789478a1b",
   "metadata": {},
   "outputs": [
    {
     "data": {
      "text/plain": [
       "(474, 1)"
      ]
     },
     "execution_count": 10,
     "metadata": {},
     "output_type": "execute_result"
    }
   ],
   "source": [
    "defects_2020.shape"
   ]
  },
  {
   "cell_type": "markdown",
   "id": "6baf6207-624f-4fe9-b364-02a68253972a",
   "metadata": {},
   "source": [
    "## Create table for 2021 Data\n",
    "- Read the data into a pandas dataframe\n",
    "- Create a dataframe for the devices using the `GENERIC_NAME` column of the dataframe, removing duplicates as needed\n",
    "- Create a dataframe for the defects using the `DEFECT_PROBLEM_TEXT` column of the dataframe, removing duplicates as needed"
   ]
  },
  {
   "cell_type": "code",
   "execution_count": 11,
   "id": "857c1b14-7449-4855-8319-ba346b566f85",
   "metadata": {},
   "outputs": [],
   "source": [
    "import pandas as pd\n",
    "\n",
    "data_file_2021 = \"./04-Process-2021-Data/2021_data_complete.csv\"\n",
    "\n",
    "# Read the data into a pandas dataframe\n",
    "data_2021 = pd.read_csv(\n",
    "    data_file_2021,  # The data file being read, from the variable assignment above\n",
    "    on_bad_lines=\"warn\",  # This tells Pandas to only warn on bad lines vs causing an error\n",
    "    dtype=\"str\",\n",
    ")  # This tells Pandas to treat all numbers as words\n",
    "\n",
    "# Remove unwanted columns\n",
    "unwanted_columns = [\n",
    "    \"MDR_REPORT_KEY\",\n",
    "    \"MDR_TEXT_KEY\",\n",
    "    \"TEXT_TYPE_CODE\",\n",
    "    \"PATIENT_SEQUENCE_NUMBER\",\n",
    "    \"DATE_REPORT\",\n",
    "    \"FOI_TEXT\",\n",
    "    \"DEVICE_SEQUENCE_NO\",\n",
    "    \"BRAND_NAME\",\n",
    "    \"MANUFACTURER_D_NAME\",\n",
    "    \"MODEL_NUMBER\",\n",
    "    \"DEVICE_AVAILABILITY\",\n",
    "    \"DEVICE_REPORT_PRODUCT_CODE\",\n",
    "    \"REPORT_NUMBER\",\n",
    "    \"REPORT_SOURCE_CODE\",\n",
    "    \"NUMBER_DEVICES_IN_EVENT\",\n",
    "    \"DATE_RECEIVED\",\n",
    "    \"INITIAL_REPORT_TO_FDA\",\n",
    "    \"MANUFACTURER_G1_NAME\",\n",
    "    \"REMEDIAL_ACTION\",\n",
    "    \"EVENT_TYPE\",\n",
    "    \"MANUFACTURER_NAME\",\n",
    "    \"TYPE_OF_REPORT\",\n",
    "    \"SUMMARY_REPORT\",\n",
    "    \"NOE_SUMMARIZED\",\n",
    "    \"UDI-DI\",\n",
    "    \"UDI-PUBLIC\",\n",
    "]\n",
    "\n",
    "data_2021.drop(unwanted_columns, axis=1, inplace=True)"
   ]
  },
  {
   "cell_type": "code",
   "execution_count": 12,
   "id": "21c30250-2312-494c-a9d9-293b31543579",
   "metadata": {},
   "outputs": [
    {
     "name": "stdout",
     "output_type": "stream",
     "text": [
      "data_2021 creation complete: (4454884, 8)\n"
     ]
    }
   ],
   "source": [
    "print(f\"data_2021 creation complete: {data_2021.shape}\")"
   ]
  },
  {
   "cell_type": "code",
   "execution_count": 13,
   "id": "fd25eb96-293c-4fb0-b347-5d70dd80f341",
   "metadata": {},
   "outputs": [
    {
     "data": {
      "text/html": [
       "<div>\n",
       "<style scoped>\n",
       "    .dataframe tbody tr th:only-of-type {\n",
       "        vertical-align: middle;\n",
       "    }\n",
       "\n",
       "    .dataframe tbody tr th {\n",
       "        vertical-align: top;\n",
       "    }\n",
       "\n",
       "    .dataframe thead th {\n",
       "        text-align: right;\n",
       "    }\n",
       "</style>\n",
       "<table border=\"1\" class=\"dataframe\">\n",
       "  <thead>\n",
       "    <tr style=\"text-align: right;\">\n",
       "      <th></th>\n",
       "      <th>DEVICE_PROBLEM_CODE</th>\n",
       "      <th>DEVICE_PROBLEM_TEXT</th>\n",
       "      <th>GENERIC_NAME</th>\n",
       "      <th>DATE_OF_EVENT</th>\n",
       "      <th>REPORTER_OCCUPATION_CODE</th>\n",
       "      <th>REPORT_DATE</th>\n",
       "      <th>EVENT_LOCATION</th>\n",
       "      <th>SOURCE_TYPE</th>\n",
       "    </tr>\n",
       "  </thead>\n",
       "  <tbody>\n",
       "    <tr>\n",
       "      <th>0</th>\n",
       "      <td>1535</td>\n",
       "      <td>Incorrect, Inadequate or Imprecise Resultor Re...</td>\n",
       "      <td>CORONAVIRUS ANTIGEN DETECTION SYSTEM</td>\n",
       "      <td>11/03/2020</td>\n",
       "      <td>100</td>\n",
       "      <td>NaN</td>\n",
       "      <td>NaN</td>\n",
       "      <td>00,06</td>\n",
       "    </tr>\n",
       "    <tr>\n",
       "      <th>1</th>\n",
       "      <td>1535</td>\n",
       "      <td>Incorrect, Inadequate or Imprecise Resultor Re...</td>\n",
       "      <td>CORONAVIRUS ANTIGEN DETECTION SYSTEM</td>\n",
       "      <td>11/03/2020</td>\n",
       "      <td>100</td>\n",
       "      <td>NaN</td>\n",
       "      <td>NaN</td>\n",
       "      <td>00,06</td>\n",
       "    </tr>\n",
       "    <tr>\n",
       "      <th>2</th>\n",
       "      <td>1069</td>\n",
       "      <td>Break</td>\n",
       "      <td>PUMP, INFUSION</td>\n",
       "      <td>NaN</td>\n",
       "      <td>003</td>\n",
       "      <td>NaN</td>\n",
       "      <td>I</td>\n",
       "      <td>OTHER</td>\n",
       "    </tr>\n",
       "    <tr>\n",
       "      <th>3</th>\n",
       "      <td>1135</td>\n",
       "      <td>Crack</td>\n",
       "      <td>PUMP, INFUSION</td>\n",
       "      <td>NaN</td>\n",
       "      <td>003</td>\n",
       "      <td>NaN</td>\n",
       "      <td>I</td>\n",
       "      <td>OTHER</td>\n",
       "    </tr>\n",
       "    <tr>\n",
       "      <th>4</th>\n",
       "      <td>1153</td>\n",
       "      <td>Degraded</td>\n",
       "      <td>PUMP, INFUSION</td>\n",
       "      <td>NaN</td>\n",
       "      <td>003</td>\n",
       "      <td>NaN</td>\n",
       "      <td>I</td>\n",
       "      <td>OTHER</td>\n",
       "    </tr>\n",
       "  </tbody>\n",
       "</table>\n",
       "</div>"
      ],
      "text/plain": [
       "  DEVICE_PROBLEM_CODE                                DEVICE_PROBLEM_TEXT  \\\n",
       "0                1535  Incorrect, Inadequate or Imprecise Resultor Re...   \n",
       "1                1535  Incorrect, Inadequate or Imprecise Resultor Re...   \n",
       "2                1069                                              Break   \n",
       "3                1135                                              Crack   \n",
       "4                1153                                           Degraded   \n",
       "\n",
       "                           GENERIC_NAME DATE_OF_EVENT  \\\n",
       "0  CORONAVIRUS ANTIGEN DETECTION SYSTEM    11/03/2020   \n",
       "1  CORONAVIRUS ANTIGEN DETECTION SYSTEM    11/03/2020   \n",
       "2                        PUMP, INFUSION           NaN   \n",
       "3                        PUMP, INFUSION           NaN   \n",
       "4                        PUMP, INFUSION           NaN   \n",
       "\n",
       "  REPORTER_OCCUPATION_CODE REPORT_DATE EVENT_LOCATION SOURCE_TYPE  \n",
       "0                      100         NaN            NaN       00,06  \n",
       "1                      100         NaN            NaN       00,06  \n",
       "2                      003         NaN              I       OTHER  \n",
       "3                      003         NaN              I       OTHER  \n",
       "4                      003         NaN              I       OTHER  "
      ]
     },
     "execution_count": 13,
     "metadata": {},
     "output_type": "execute_result"
    }
   ],
   "source": [
    "# Preview the data\n",
    "data_2021.head()"
   ]
  },
  {
   "cell_type": "code",
   "execution_count": 14,
   "id": "d9a1dab5-fee3-4b5c-b71b-5cadac884116",
   "metadata": {},
   "outputs": [],
   "source": [
    "# Create a dataframe for the devices using the `GENERIC_NAME` column of the dataframe, removing duplicates as needed\n",
    "generic_names_2021 = pd.DataFrame(data_2021[\"GENERIC_NAME\"].value_counts())\n",
    "\n",
    "# Create a dataframe for the defects using the `DEFECT_PROBLEM_TEXT` column of the dataframe, removing duplicates as needed\n",
    "defects_2021 = pd.DataFrame(data_2021[\"DEVICE_PROBLEM_TEXT\"].value_counts())"
   ]
  },
  {
   "cell_type": "code",
   "execution_count": 15,
   "id": "87952b0a-e744-4c8e-a56d-fb111b02f9fa",
   "metadata": {},
   "outputs": [
    {
     "data": {
      "text/html": [
       "<div>\n",
       "<style scoped>\n",
       "    .dataframe tbody tr th:only-of-type {\n",
       "        vertical-align: middle;\n",
       "    }\n",
       "\n",
       "    .dataframe tbody tr th {\n",
       "        vertical-align: top;\n",
       "    }\n",
       "\n",
       "    .dataframe thead th {\n",
       "        text-align: right;\n",
       "    }\n",
       "</style>\n",
       "<table border=\"1\" class=\"dataframe\">\n",
       "  <thead>\n",
       "    <tr style=\"text-align: right;\">\n",
       "      <th></th>\n",
       "      <th>GENERIC_NAME</th>\n",
       "    </tr>\n",
       "  </thead>\n",
       "  <tbody>\n",
       "    <tr>\n",
       "      <th>CONTINUOUS GLUCOSE MONITOR</th>\n",
       "      <td>534114</td>\n",
       "    </tr>\n",
       "    <tr>\n",
       "      <th>PUMP, INFUSION</th>\n",
       "      <td>526177</td>\n",
       "    </tr>\n",
       "    <tr>\n",
       "      <th>ENDOSSEOUS DENTAL IMPLANT</th>\n",
       "      <td>461672</td>\n",
       "    </tr>\n",
       "    <tr>\n",
       "      <th>ARTIFICIAL PANCREAS DEVICE SYSTEM, SINGLE HORMONAL CONTROL</th>\n",
       "      <td>200411</td>\n",
       "    </tr>\n",
       "    <tr>\n",
       "      <th>FLASH GLUCOSE MONITORING SYSTEM</th>\n",
       "      <td>188914</td>\n",
       "    </tr>\n",
       "    <tr>\n",
       "      <th>...</th>\n",
       "      <td>...</td>\n",
       "    </tr>\n",
       "    <tr>\n",
       "      <th>VIDEO DUODENOSCOPE</th>\n",
       "      <td>150</td>\n",
       "    </tr>\n",
       "    <tr>\n",
       "      <th>INSULIN DELIVERY DEVICE</th>\n",
       "      <td>149</td>\n",
       "    </tr>\n",
       "    <tr>\n",
       "      <th>TEMPORARY NONROLLER TYPE LEFT HEART SUPPORT BLOOD PUMP</th>\n",
       "      <td>148</td>\n",
       "    </tr>\n",
       "    <tr>\n",
       "      <th>PRIMACONNEX TC TAPERED RD 4.1X10</th>\n",
       "      <td>148</td>\n",
       "    </tr>\n",
       "    <tr>\n",
       "      <th>KNQ, DILATOR, ESOPHAGEAL</th>\n",
       "      <td>148</td>\n",
       "    </tr>\n",
       "  </tbody>\n",
       "</table>\n",
       "<p>1000 rows × 1 columns</p>\n",
       "</div>"
      ],
      "text/plain": [
       "                                                    GENERIC_NAME\n",
       "CONTINUOUS GLUCOSE MONITOR                                534114\n",
       "PUMP, INFUSION                                            526177\n",
       "ENDOSSEOUS DENTAL IMPLANT                                 461672\n",
       "ARTIFICIAL PANCREAS DEVICE SYSTEM, SINGLE HORMO...        200411\n",
       "FLASH GLUCOSE MONITORING SYSTEM                           188914\n",
       "...                                                          ...\n",
       "VIDEO DUODENOSCOPE                                           150\n",
       "INSULIN DELIVERY DEVICE                                      149\n",
       "TEMPORARY NONROLLER TYPE LEFT HEART SUPPORT BLO...           148\n",
       "PRIMACONNEX TC TAPERED RD 4.1X10                             148\n",
       "KNQ, DILATOR, ESOPHAGEAL                                     148\n",
       "\n",
       "[1000 rows x 1 columns]"
      ]
     },
     "execution_count": 15,
     "metadata": {},
     "output_type": "execute_result"
    }
   ],
   "source": [
    "# Preview the data\n",
    "generic_names_2021.head(1000)"
   ]
  },
  {
   "cell_type": "code",
   "execution_count": 16,
   "id": "a68f5b52-c313-40bd-9a68-e26d9809b230",
   "metadata": {},
   "outputs": [
    {
     "data": {
      "text/plain": [
       "(14161, 1)"
      ]
     },
     "execution_count": 16,
     "metadata": {},
     "output_type": "execute_result"
    }
   ],
   "source": [
    "generic_names_2021.shape"
   ]
  },
  {
   "cell_type": "code",
   "execution_count": 17,
   "id": "c3e25a45-5c0a-46e0-aac9-a5c3676b101b",
   "metadata": {},
   "outputs": [
    {
     "data": {
      "text/plain": [
       "GENERIC_NAME    4439679\n",
       "dtype: int64"
      ]
     },
     "execution_count": 17,
     "metadata": {},
     "output_type": "execute_result"
    }
   ],
   "source": [
    "generic_names_2021.sum()"
   ]
  },
  {
   "cell_type": "code",
   "execution_count": 18,
   "id": "75dad3b0-eaf6-4795-844f-1d669e1d0455",
   "metadata": {},
   "outputs": [
    {
     "data": {
      "text/html": [
       "<div>\n",
       "<style scoped>\n",
       "    .dataframe tbody tr th:only-of-type {\n",
       "        vertical-align: middle;\n",
       "    }\n",
       "\n",
       "    .dataframe tbody tr th {\n",
       "        vertical-align: top;\n",
       "    }\n",
       "\n",
       "    .dataframe thead th {\n",
       "        text-align: right;\n",
       "    }\n",
       "</style>\n",
       "<table border=\"1\" class=\"dataframe\">\n",
       "  <thead>\n",
       "    <tr style=\"text-align: right;\">\n",
       "      <th></th>\n",
       "      <th>DEVICE_PROBLEM_TEXT</th>\n",
       "    </tr>\n",
       "  </thead>\n",
       "  <tbody>\n",
       "    <tr>\n",
       "      <th>Failure to Osseointegrate</th>\n",
       "      <td>336298</td>\n",
       "    </tr>\n",
       "    <tr>\n",
       "      <th>Adverse Event Without Identified Device or Use Problem</th>\n",
       "      <td>314336</td>\n",
       "    </tr>\n",
       "    <tr>\n",
       "      <th>Break</th>\n",
       "      <td>252603</td>\n",
       "    </tr>\n",
       "    <tr>\n",
       "      <th>Wireless Communication Problem</th>\n",
       "      <td>228677</td>\n",
       "    </tr>\n",
       "    <tr>\n",
       "      <th>Incorrect, Inadequate or Imprecise Resultor Readings</th>\n",
       "      <td>195978</td>\n",
       "    </tr>\n",
       "  </tbody>\n",
       "</table>\n",
       "</div>"
      ],
      "text/plain": [
       "                                                    DEVICE_PROBLEM_TEXT\n",
       "Failure to Osseointegrate                                        336298\n",
       "Adverse Event Without Identified Device or Use ...               314336\n",
       "Break                                                            252603\n",
       "Wireless Communication Problem                                   228677\n",
       "Incorrect, Inadequate or Imprecise Resultor Rea...               195978"
      ]
     },
     "execution_count": 18,
     "metadata": {},
     "output_type": "execute_result"
    }
   ],
   "source": [
    "# Preview the data\n",
    "defects_2021.head()"
   ]
  },
  {
   "cell_type": "code",
   "execution_count": 19,
   "id": "7d1bdd28-2368-455a-a350-1fd29dd1cd8d",
   "metadata": {},
   "outputs": [
    {
     "data": {
      "text/plain": [
       "(476, 1)"
      ]
     },
     "execution_count": 19,
     "metadata": {},
     "output_type": "execute_result"
    }
   ],
   "source": [
    "defects_2021.shape"
   ]
  },
  {
   "cell_type": "code",
   "execution_count": 20,
   "id": "faff06ba-3e18-4cbe-bfce-2dd7cec98bae",
   "metadata": {},
   "outputs": [],
   "source": [
    "report_2020_series = data_2020.groupby([\"GENERIC_NAME\", \"DEVICE_PROBLEM_TEXT\"]).size()\n",
    "report_2021_series = data_2021.groupby([\"GENERIC_NAME\", \"DEVICE_PROBLEM_TEXT\"]).size()"
   ]
  },
  {
   "cell_type": "code",
   "execution_count": 21,
   "id": "f0d60b39-d8b7-4f46-954c-02268bfdcff1",
   "metadata": {},
   "outputs": [],
   "source": [
    "report_2020_df = report_2020_series.to_frame(name=\"COUNT\").reset_index()\n",
    "report_2021_df = report_2021_series.to_frame(name=\"COUNT\").reset_index()\n",
    "report_2020_df.to_csv(f\"./{working_directory}/2020_device_problem_pivot.csv\")\n",
    "report_2021_df.to_csv(f\"./{working_directory}/2021_device_problem_pivot.csv\")"
   ]
  },
  {
   "cell_type": "code",
   "execution_count": 22,
   "id": "82c2314c-0699-4b8f-bea1-e02b6515782c",
   "metadata": {},
   "outputs": [
    {
     "data": {
      "text/html": [
       "<div>\n",
       "<style scoped>\n",
       "    .dataframe tbody tr th:only-of-type {\n",
       "        vertical-align: middle;\n",
       "    }\n",
       "\n",
       "    .dataframe tbody tr th {\n",
       "        vertical-align: top;\n",
       "    }\n",
       "\n",
       "    .dataframe thead th {\n",
       "        text-align: right;\n",
       "    }\n",
       "</style>\n",
       "<table border=\"1\" class=\"dataframe\">\n",
       "  <thead>\n",
       "    <tr style=\"text-align: right;\">\n",
       "      <th></th>\n",
       "      <th>GENERIC_NAME</th>\n",
       "      <th>DEVICE_PROBLEM_TEXT</th>\n",
       "      <th>COUNT</th>\n",
       "    </tr>\n",
       "  </thead>\n",
       "  <tbody>\n",
       "    <tr>\n",
       "      <th>0</th>\n",
       "      <td>!M1  MODELONE</td>\n",
       "      <td>Battery Problem</td>\n",
       "      <td>2</td>\n",
       "    </tr>\n",
       "    <tr>\n",
       "      <th>1</th>\n",
       "      <td>!M1 MODEL ONE</td>\n",
       "      <td>Product Quality Problem</td>\n",
       "      <td>1</td>\n",
       "    </tr>\n",
       "    <tr>\n",
       "      <th>2</th>\n",
       "      <td>\"IMAGE GUIDED SURGERY SYSTEM/INSTRUMENT, STERE...</td>\n",
       "      <td>Use of Device Problem</td>\n",
       "      <td>2</td>\n",
       "    </tr>\n",
       "    <tr>\n",
       "      <th>3</th>\n",
       "      <td>(01)07640149388879(21)MB240047</td>\n",
       "      <td>Application Program Freezes, Becomes Nonfuncti...</td>\n",
       "      <td>2</td>\n",
       "    </tr>\n",
       "    <tr>\n",
       "      <th>4</th>\n",
       "      <td>(01)07640149388879(21)MB240047</td>\n",
       "      <td>Display or Visual Feedback Problem</td>\n",
       "      <td>2</td>\n",
       "    </tr>\n",
       "    <tr>\n",
       "      <th>...</th>\n",
       "      <td>...</td>\n",
       "      <td>...</td>\n",
       "      <td>...</td>\n",
       "    </tr>\n",
       "    <tr>\n",
       "      <th>64836</th>\n",
       "      <td>¿COMPOSITE SERIES¿</td>\n",
       "      <td>Use of Device Problem</td>\n",
       "      <td>2</td>\n",
       "    </tr>\n",
       "    <tr>\n",
       "      <th>64837</th>\n",
       "      <td>¿PUMP, INFUSION</td>\n",
       "      <td>Break</td>\n",
       "      <td>2</td>\n",
       "    </tr>\n",
       "    <tr>\n",
       "      <th>64838</th>\n",
       "      <td>¿PUMP, INFUSION</td>\n",
       "      <td>Corroded</td>\n",
       "      <td>2</td>\n",
       "    </tr>\n",
       "    <tr>\n",
       "      <th>64839</th>\n",
       "      <td>¿PUMP, INFUSION</td>\n",
       "      <td>Crack</td>\n",
       "      <td>2</td>\n",
       "    </tr>\n",
       "    <tr>\n",
       "      <th>64840</th>\n",
       "      <td>Ø4.2MM BONE SCREW, VARIABLE ANGLE, SELF-DRILLI...</td>\n",
       "      <td>Malposition of Device</td>\n",
       "      <td>2</td>\n",
       "    </tr>\n",
       "  </tbody>\n",
       "</table>\n",
       "<p>64841 rows × 3 columns</p>\n",
       "</div>"
      ],
      "text/plain": [
       "                                            GENERIC_NAME  \\\n",
       "0                                          !M1  MODELONE   \n",
       "1                                          !M1 MODEL ONE   \n",
       "2      \"IMAGE GUIDED SURGERY SYSTEM/INSTRUMENT, STERE...   \n",
       "3                         (01)07640149388879(21)MB240047   \n",
       "4                         (01)07640149388879(21)MB240047   \n",
       "...                                                  ...   \n",
       "64836                                 ¿COMPOSITE SERIES¿   \n",
       "64837                                    ¿PUMP, INFUSION   \n",
       "64838                                    ¿PUMP, INFUSION   \n",
       "64839                                    ¿PUMP, INFUSION   \n",
       "64840  Ø4.2MM BONE SCREW, VARIABLE ANGLE, SELF-DRILLI...   \n",
       "\n",
       "                                     DEVICE_PROBLEM_TEXT  COUNT  \n",
       "0                                        Battery Problem      2  \n",
       "1                                Product Quality Problem      1  \n",
       "2                                  Use of Device Problem      2  \n",
       "3      Application Program Freezes, Becomes Nonfuncti...      2  \n",
       "4                     Display or Visual Feedback Problem      2  \n",
       "...                                                  ...    ...  \n",
       "64836                              Use of Device Problem      2  \n",
       "64837                                              Break      2  \n",
       "64838                                           Corroded      2  \n",
       "64839                                              Crack      2  \n",
       "64840                              Malposition of Device      2  \n",
       "\n",
       "[64841 rows x 3 columns]"
      ]
     },
     "execution_count": 22,
     "metadata": {},
     "output_type": "execute_result"
    }
   ],
   "source": [
    "report_2020_df"
   ]
  },
  {
   "cell_type": "code",
   "execution_count": 23,
   "id": "fd46f39e-c956-411a-a2b4-b90784f40065",
   "metadata": {},
   "outputs": [
    {
     "data": {
      "text/html": [
       "<div>\n",
       "<style scoped>\n",
       "    .dataframe tbody tr th:only-of-type {\n",
       "        vertical-align: middle;\n",
       "    }\n",
       "\n",
       "    .dataframe tbody tr th {\n",
       "        vertical-align: top;\n",
       "    }\n",
       "\n",
       "    .dataframe thead th {\n",
       "        text-align: right;\n",
       "    }\n",
       "</style>\n",
       "<table border=\"1\" class=\"dataframe\">\n",
       "  <thead>\n",
       "    <tr style=\"text-align: right;\">\n",
       "      <th></th>\n",
       "      <th>GENERIC_NAME</th>\n",
       "      <th>DEVICE_PROBLEM_TEXT</th>\n",
       "      <th>COUNT</th>\n",
       "    </tr>\n",
       "  </thead>\n",
       "  <tbody>\n",
       "    <tr>\n",
       "      <th>0</th>\n",
       "      <td>!!! POWERFLEXX</td>\n",
       "      <td>Positioning Problem</td>\n",
       "      <td>1</td>\n",
       "    </tr>\n",
       "    <tr>\n",
       "      <th>1</th>\n",
       "      <td>\"ISOLATOR SYNERGY\"\" ENCOMPASS CLAMP AND GUIDE \"</td>\n",
       "      <td>Adverse Event Without Identified Device or Use...</td>\n",
       "      <td>2</td>\n",
       "    </tr>\n",
       "    <tr>\n",
       "      <th>2</th>\n",
       "      <td>\"NEUROVASCULAR EMBOLIZATION DEVICE / VASCULAR ...</td>\n",
       "      <td>Adverse Event Without Identified Device or Use...</td>\n",
       "      <td>8</td>\n",
       "    </tr>\n",
       "    <tr>\n",
       "      <th>3</th>\n",
       "      <td>\"NEUROVASCULAR EMBOLIZATION DEVICE / VASCULAR ...</td>\n",
       "      <td>Detachment of Device or Device Component</td>\n",
       "      <td>2</td>\n",
       "    </tr>\n",
       "    <tr>\n",
       "      <th>4</th>\n",
       "      <td>\"NEUROVASCULAR EMBOLIZATION DEVICE / VASCULAR ...</td>\n",
       "      <td>Difficult or Delayed Separation</td>\n",
       "      <td>2</td>\n",
       "    </tr>\n",
       "    <tr>\n",
       "      <th>...</th>\n",
       "      <td>...</td>\n",
       "      <td>...</td>\n",
       "      <td>...</td>\n",
       "    </tr>\n",
       "    <tr>\n",
       "      <th>64940</th>\n",
       "      <td>¿COMPOSITE SERIES¿</td>\n",
       "      <td>Mechanics Altered</td>\n",
       "      <td>10</td>\n",
       "    </tr>\n",
       "    <tr>\n",
       "      <th>64941</th>\n",
       "      <td>¿COMPOSITE SERIES¿</td>\n",
       "      <td>Physical Resistance/Sticking</td>\n",
       "      <td>6</td>\n",
       "    </tr>\n",
       "    <tr>\n",
       "      <th>64942</th>\n",
       "      <td>¿COMPOSITE SERIES¿</td>\n",
       "      <td>Unintended Movement</td>\n",
       "      <td>66</td>\n",
       "    </tr>\n",
       "    <tr>\n",
       "      <th>64943</th>\n",
       "      <td>¿COMPOSITE SERIES¿</td>\n",
       "      <td>Unstable</td>\n",
       "      <td>4</td>\n",
       "    </tr>\n",
       "    <tr>\n",
       "      <th>64944</th>\n",
       "      <td>¿COMPOSITE SERIES¿</td>\n",
       "      <td>Use of Device Problem</td>\n",
       "      <td>2</td>\n",
       "    </tr>\n",
       "  </tbody>\n",
       "</table>\n",
       "<p>64945 rows × 3 columns</p>\n",
       "</div>"
      ],
      "text/plain": [
       "                                            GENERIC_NAME  \\\n",
       "0                                         !!! POWERFLEXX   \n",
       "1        \"ISOLATOR SYNERGY\"\" ENCOMPASS CLAMP AND GUIDE \"   \n",
       "2      \"NEUROVASCULAR EMBOLIZATION DEVICE / VASCULAR ...   \n",
       "3      \"NEUROVASCULAR EMBOLIZATION DEVICE / VASCULAR ...   \n",
       "4      \"NEUROVASCULAR EMBOLIZATION DEVICE / VASCULAR ...   \n",
       "...                                                  ...   \n",
       "64940                                 ¿COMPOSITE SERIES¿   \n",
       "64941                                 ¿COMPOSITE SERIES¿   \n",
       "64942                                 ¿COMPOSITE SERIES¿   \n",
       "64943                                 ¿COMPOSITE SERIES¿   \n",
       "64944                                 ¿COMPOSITE SERIES¿   \n",
       "\n",
       "                                     DEVICE_PROBLEM_TEXT  COUNT  \n",
       "0                                    Positioning Problem      1  \n",
       "1      Adverse Event Without Identified Device or Use...      2  \n",
       "2      Adverse Event Without Identified Device or Use...      8  \n",
       "3               Detachment of Device or Device Component      2  \n",
       "4                        Difficult or Delayed Separation      2  \n",
       "...                                                  ...    ...  \n",
       "64940                                  Mechanics Altered     10  \n",
       "64941                       Physical Resistance/Sticking      6  \n",
       "64942                                Unintended Movement     66  \n",
       "64943                                           Unstable      4  \n",
       "64944                              Use of Device Problem      2  \n",
       "\n",
       "[64945 rows x 3 columns]"
      ]
     },
     "execution_count": 23,
     "metadata": {},
     "output_type": "execute_result"
    }
   ],
   "source": [
    "report_2021_df"
   ]
  },
  {
   "cell_type": "code",
   "execution_count": 24,
   "id": "ff0592e2-98ec-4cb8-9cd3-aefe43c9ed01",
   "metadata": {
    "tags": []
   },
   "outputs": [
    {
     "name": "stdout",
     "output_type": "stream",
     "text": [
      "2023-03-30 01:14 PM Notebook has completed.\n"
     ]
    }
   ],
   "source": [
    "from datetime import datetime\n",
    "import pytz\n",
    "\n",
    "# datetime object containing current date and time for the US/Pacific time zone\n",
    "now = datetime.now(pytz.timezone(\"US/Pacific\"))\n",
    "\n",
    "# Format date and time like 2022-10-31 5:49 PM\n",
    "date_time_string = now.strftime(\"%Y-%m-%d %I:%M %p\")\n",
    "\n",
    "print(f\"{date_time_string} Notebook has completed.\")"
   ]
  }
 ],
 "metadata": {
  "kernelspec": {
   "display_name": "conda_amazonei_pytorch_latest_p37",
   "language": "python",
   "name": "conda_amazonei_pytorch_latest_p37"
  },
  "language_info": {
   "codemirror_mode": {
    "name": "ipython",
    "version": 3
   },
   "file_extension": ".py",
   "mimetype": "text/x-python",
   "name": "python",
   "nbconvert_exporter": "python",
   "pygments_lexer": "ipython3",
   "version": "3.7.10"
  }
 },
 "nbformat": 4,
 "nbformat_minor": 5
}
