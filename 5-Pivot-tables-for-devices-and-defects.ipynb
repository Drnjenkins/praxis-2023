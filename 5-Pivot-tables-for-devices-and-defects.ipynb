{
 "cells": [
  {
   "cell_type": "markdown",
   "id": "d54a69f7-06d8-4c3c-ae33-8ed2c44003bb",
   "metadata": {},
   "source": [
    "# Pivot Tables for Devices and Defects\n",
    "\n",
    "List the devices from 2020 and 2021 along with their defects and the number of times each defect was reported.\n",
    "\n",
    "- Use the `GENERIC_NAME` column for the device.\n",
    "- Use the `DEFECT_PROBLEM_TEXT` column for the defect text.\n",
    "\n",
    "- Use the 'complete' data from the working directories for each year\n",
    "    - `./2020_reprocessed/2020_data_complete.csv`\n",
    "    - `./2021_reprocessed/2020_data_complete.csv`"
   ]
  },
  {
   "cell_type": "markdown",
   "id": "89dd8f5e-0624-49c0-826d-69fe163796d1",
   "metadata": {},
   "source": [
    "## Create table for 2020 Data\n",
    "- Read the data into a pandas dataframe\n",
    "- Create a dataframe for the devices using the `GENERIC_NAME` column of the dataframe, removing duplicates as needed\n",
    "- Create a dataframe for the defects using the `DEFECT_PROBLEM_TEXT` column of the dataframe, removing duplicates as needed"
   ]
  },
  {
   "cell_type": "code",
   "execution_count": 7,
   "id": "4ff1a485-e127-414b-9a11-87a2f175ef9e",
   "metadata": {},
   "outputs": [],
   "source": [
    "import pandas as pd\n",
    "\n",
    "data_file = './2020_reprocessed/2020_data_complete.csv'\n",
    "\n",
    "# Read the data into a pandas dataframe\n",
    "data = pd.read_csv(data_file,           # The data file being read, from the variable assignment above\n",
    "                   on_bad_lines='warn', # This tells Pandas to only warn on bad lines vs causing an error\n",
    "                   dtype = 'str')       # This tells Pandas to treat all numbers as words\n",
    "\n",
    "# Remove unwanted columns\n",
    "unwanted_columns = [\n",
    "    'MDR_REPORT_KEY',\n",
    "    'MDR_TEXT_KEY',\n",
    "    'TEXT_TYPE_CODE',\n",
    "    'PATIENT_SEQUENCE_NUMBER',\n",
    "    'DATE_REPORT',\n",
    "    'FOI_TEXT',\n",
    "    'DEVICE_SEQUENCE_NO',\n",
    "    'BRAND_NAME',\n",
    "    'MANUFACTURER_D_NAME',\n",
    "    'MODEL_NUMBER',\n",
    "    'DEVICE_AVAILABILITY',\n",
    "    'DEVICE_REPORT_PRODUCT_CODE',\n",
    "    'REPORT_NUMBER',\n",
    "    'REPORT_SOURCE_CODE',\n",
    "    'NUMBER_DEVICES_IN_EVENT',\n",
    "    'DATE_RECEIVED',\n",
    "    'INITIAL_REPORT_TO_FDA',\n",
    "    'MANUFACTURER_G1_NAME',\n",
    "    'REMEDIAL_ACTION',\n",
    "    'EVENT_TYPE',\n",
    "    'MANUFACTURER_NAME',\n",
    "    'TYPE_OF_REPORT',\n",
    "    'SUMMARY_REPORT',\n",
    "    'NOE_SUMMARIZED',\n",
    "    'UDI-DI',\n",
    "    'UDI-PUBLIC',\n",
    "]\n",
    "\n",
    "data.drop(unwanted_columns, axis=1, inplace=True)\n"
   ]
  },
  {
   "cell_type": "code",
   "execution_count": 28,
   "id": "0e10ab23-b2dd-4ce6-a2b4-ed1a4c13cb65",
   "metadata": {},
   "outputs": [
    {
     "name": "stdout",
     "output_type": "stream",
     "text": [
      "data frame creation complete: (3856740, 3)\n"
     ]
    }
   ],
   "source": [
    "print(f\"data frame creation complete: {data.shape}\")"
   ]
  },
  {
   "cell_type": "code",
   "execution_count": 8,
   "id": "06fb2963-e437-4f18-9f05-7b3f99212225",
   "metadata": {},
   "outputs": [
    {
     "data": {
      "text/html": [
       "<div>\n",
       "<style scoped>\n",
       "    .dataframe tbody tr th:only-of-type {\n",
       "        vertical-align: middle;\n",
       "    }\n",
       "\n",
       "    .dataframe tbody tr th {\n",
       "        vertical-align: top;\n",
       "    }\n",
       "\n",
       "    .dataframe thead th {\n",
       "        text-align: right;\n",
       "    }\n",
       "</style>\n",
       "<table border=\"1\" class=\"dataframe\">\n",
       "  <thead>\n",
       "    <tr style=\"text-align: right;\">\n",
       "      <th></th>\n",
       "      <th>DEVICE_PROBLEM_CODE</th>\n",
       "      <th>DEVICE_PROBLEM_TEXT</th>\n",
       "      <th>GENERIC_NAME</th>\n",
       "    </tr>\n",
       "  </thead>\n",
       "  <tbody>\n",
       "    <tr>\n",
       "      <th>0</th>\n",
       "      <td>2993</td>\n",
       "      <td>Adverse Event Without Identified Device or Use...</td>\n",
       "      <td>DEFIBRILLATION LEAD</td>\n",
       "    </tr>\n",
       "    <tr>\n",
       "      <th>1</th>\n",
       "      <td>2993</td>\n",
       "      <td>Adverse Event Without Identified Device or Use...</td>\n",
       "      <td>DEFIBRILLATION LEAD</td>\n",
       "    </tr>\n",
       "    <tr>\n",
       "      <th>2</th>\n",
       "      <td>1332</td>\n",
       "      <td>Failure to Interrogate</td>\n",
       "      <td>IMPLANTABLE CARDIOVERTER DEFIBRILLATOR</td>\n",
       "    </tr>\n",
       "    <tr>\n",
       "      <th>3</th>\n",
       "      <td>1332</td>\n",
       "      <td>Failure to Interrogate</td>\n",
       "      <td>IMPLANTABLE CARDIOVERTER DEFIBRILLATOR</td>\n",
       "    </tr>\n",
       "    <tr>\n",
       "      <th>4</th>\n",
       "      <td>1332</td>\n",
       "      <td>Failure to Interrogate</td>\n",
       "      <td>IMPLANTABLE CARDIOVERTER DEFIBRILLATOR</td>\n",
       "    </tr>\n",
       "  </tbody>\n",
       "</table>\n",
       "</div>"
      ],
      "text/plain": [
       "  DEVICE_PROBLEM_CODE                                DEVICE_PROBLEM_TEXT  \\\n",
       "0                2993  Adverse Event Without Identified Device or Use...   \n",
       "1                2993  Adverse Event Without Identified Device or Use...   \n",
       "2                1332                             Failure to Interrogate   \n",
       "3                1332                             Failure to Interrogate   \n",
       "4                1332                             Failure to Interrogate   \n",
       "\n",
       "                             GENERIC_NAME  \n",
       "0                     DEFIBRILLATION LEAD  \n",
       "1                     DEFIBRILLATION LEAD  \n",
       "2  IMPLANTABLE CARDIOVERTER DEFIBRILLATOR  \n",
       "3  IMPLANTABLE CARDIOVERTER DEFIBRILLATOR  \n",
       "4  IMPLANTABLE CARDIOVERTER DEFIBRILLATOR  "
      ]
     },
     "execution_count": 8,
     "metadata": {},
     "output_type": "execute_result"
    }
   ],
   "source": [
    "# Preview the data\n",
    "data.head()"
   ]
  },
  {
   "cell_type": "code",
   "execution_count": 22,
   "id": "509dc2a9-8c22-4f68-b8f8-166cb4e550f9",
   "metadata": {},
   "outputs": [],
   "source": [
    "# Create a dataframe for the devices using the `GENERIC_NAME` column of the dataframe, removing duplicates as needed\n",
    "generic_names = pd.DataFrame(data['GENERIC_NAME'].value_counts())\n",
    "\n",
    "# Create a dataframe for the defects using the `DEFECT_PROBLEM_TEXT` column of the dataframe, removing duplicates as needed\n",
    "defects = pd.DataFrame(data['DEVICE_PROBLEM_TEXT'].value_counts())\n"
   ]
  },
  {
   "cell_type": "code",
   "execution_count": 32,
   "id": "c2871434-0e1b-4aaa-b443-09d8eaa5dbf1",
   "metadata": {},
   "outputs": [
    {
     "data": {
      "text/html": [
       "<div>\n",
       "<style scoped>\n",
       "    .dataframe tbody tr th:only-of-type {\n",
       "        vertical-align: middle;\n",
       "    }\n",
       "\n",
       "    .dataframe tbody tr th {\n",
       "        vertical-align: top;\n",
       "    }\n",
       "\n",
       "    .dataframe thead th {\n",
       "        text-align: right;\n",
       "    }\n",
       "</style>\n",
       "<table border=\"1\" class=\"dataframe\">\n",
       "  <thead>\n",
       "    <tr style=\"text-align: right;\">\n",
       "      <th></th>\n",
       "      <th>GENERIC_NAME</th>\n",
       "    </tr>\n",
       "  </thead>\n",
       "  <tbody>\n",
       "    <tr>\n",
       "      <th>CONTINUOUS GLUCOSE MONITOR</th>\n",
       "      <td>496771</td>\n",
       "    </tr>\n",
       "    <tr>\n",
       "      <th>ENDOSSEOUS DENTAL IMPLANT</th>\n",
       "      <td>315749</td>\n",
       "    </tr>\n",
       "    <tr>\n",
       "      <th>PUMP, INFUSION</th>\n",
       "      <td>312885</td>\n",
       "    </tr>\n",
       "    <tr>\n",
       "      <th>ARTIFICIAL PANCREAS DEVICE SYSTEM, SINGLE HORMONAL CONTROL</th>\n",
       "      <td>269489</td>\n",
       "    </tr>\n",
       "    <tr>\n",
       "      <th>PUMP, INFUSION, INSULIN, TO BE USED WITH INVASIVE GLUCOSE SENSOR</th>\n",
       "      <td>205467</td>\n",
       "    </tr>\n",
       "    <tr>\n",
       "      <th>...</th>\n",
       "      <td>...</td>\n",
       "    </tr>\n",
       "    <tr>\n",
       "      <th>AUTOMATED TISSUE PROCESSOR</th>\n",
       "      <td>140</td>\n",
       "    </tr>\n",
       "    <tr>\n",
       "      <th>ILIAC LIMB</th>\n",
       "      <td>140</td>\n",
       "    </tr>\n",
       "    <tr>\n",
       "      <th>IMPLANTED PORTS</th>\n",
       "      <td>139</td>\n",
       "    </tr>\n",
       "    <tr>\n",
       "      <th>AUTOSTAINER LINK 48</th>\n",
       "      <td>139</td>\n",
       "    </tr>\n",
       "    <tr>\n",
       "      <th>SOLIS VIP</th>\n",
       "      <td>139</td>\n",
       "    </tr>\n",
       "  </tbody>\n",
       "</table>\n",
       "<p>1000 rows × 1 columns</p>\n",
       "</div>"
      ],
      "text/plain": [
       "                                                    GENERIC_NAME\n",
       "CONTINUOUS GLUCOSE MONITOR                                496771\n",
       "ENDOSSEOUS DENTAL IMPLANT                                 315749\n",
       "PUMP, INFUSION                                            312885\n",
       "ARTIFICIAL PANCREAS DEVICE SYSTEM, SINGLE HORMO...        269489\n",
       "PUMP, INFUSION, INSULIN, TO BE USED WITH INVASI...        205467\n",
       "...                                                          ...\n",
       "AUTOMATED TISSUE PROCESSOR                                   140\n",
       "ILIAC LIMB                                                   140\n",
       "IMPLANTED PORTS                                              139\n",
       "AUTOSTAINER LINK 48                                          139\n",
       "SOLIS VIP                                                    139\n",
       "\n",
       "[1000 rows x 1 columns]"
      ]
     },
     "execution_count": 32,
     "metadata": {},
     "output_type": "execute_result"
    }
   ],
   "source": [
    "# Preview the data\n",
    "generic_names.head(1000)"
   ]
  },
  {
   "cell_type": "code",
   "execution_count": 30,
   "id": "fa208aa2-02bd-4b08-9df5-82db66ca112e",
   "metadata": {},
   "outputs": [
    {
     "data": {
      "text/plain": [
       "(15203, 1)"
      ]
     },
     "execution_count": 30,
     "metadata": {},
     "output_type": "execute_result"
    }
   ],
   "source": [
    "generic_names.shape"
   ]
  },
  {
   "cell_type": "code",
   "execution_count": 31,
   "id": "6ead025d-6213-4650-8ee9-90b975231ad0",
   "metadata": {},
   "outputs": [
    {
     "data": {
      "text/plain": [
       "GENERIC_NAME    3843862\n",
       "dtype: int64"
      ]
     },
     "execution_count": 31,
     "metadata": {},
     "output_type": "execute_result"
    }
   ],
   "source": [
    "generic_names.sum()"
   ]
  },
  {
   "cell_type": "code",
   "execution_count": 27,
   "id": "ace3693b-d928-4c64-a4e4-4eea05b2025c",
   "metadata": {},
   "outputs": [
    {
     "data": {
      "text/html": [
       "<div>\n",
       "<style scoped>\n",
       "    .dataframe tbody tr th:only-of-type {\n",
       "        vertical-align: middle;\n",
       "    }\n",
       "\n",
       "    .dataframe tbody tr th {\n",
       "        vertical-align: top;\n",
       "    }\n",
       "\n",
       "    .dataframe thead th {\n",
       "        text-align: right;\n",
       "    }\n",
       "</style>\n",
       "<table border=\"1\" class=\"dataframe\">\n",
       "  <thead>\n",
       "    <tr style=\"text-align: right;\">\n",
       "      <th></th>\n",
       "      <th>DEVICE_PROBLEM_TEXT</th>\n",
       "    </tr>\n",
       "  </thead>\n",
       "  <tbody>\n",
       "    <tr>\n",
       "      <th>Adverse Event Without Identified Device or Use Problem</th>\n",
       "      <td>331253</td>\n",
       "    </tr>\n",
       "    <tr>\n",
       "      <th>Failure to Osseointegrate</th>\n",
       "      <td>231019</td>\n",
       "    </tr>\n",
       "    <tr>\n",
       "      <th>Patient Device Interaction Problem</th>\n",
       "      <td>192077</td>\n",
       "    </tr>\n",
       "    <tr>\n",
       "      <th>Wireless Communication Problem</th>\n",
       "      <td>168761</td>\n",
       "    </tr>\n",
       "    <tr>\n",
       "      <th>No Device Output</th>\n",
       "      <td>163702</td>\n",
       "    </tr>\n",
       "  </tbody>\n",
       "</table>\n",
       "</div>"
      ],
      "text/plain": [
       "                                                    DEVICE_PROBLEM_TEXT\n",
       "Adverse Event Without Identified Device or Use ...               331253\n",
       "Failure to Osseointegrate                                        231019\n",
       "Patient Device Interaction Problem                               192077\n",
       "Wireless Communication Problem                                   168761\n",
       "No Device Output                                                 163702"
      ]
     },
     "execution_count": 27,
     "metadata": {},
     "output_type": "execute_result"
    }
   ],
   "source": [
    "# Preview the data\n",
    "defects.head()"
   ]
  },
  {
   "cell_type": "markdown",
   "id": "0656c24f-7a2d-472b-98b5-62a4713cd38a",
   "metadata": {},
   "source": [
    "# youtube video \n",
    "\n",
    "-https://www.youtube.com/watch?v=O60CFmcWyEY Nested for loops"
   ]
  },
  {
   "cell_type": "markdown",
   "id": "1ae96a3d-dfd3-4b1a-925b-e004d26c2424",
   "metadata": {},
   "source": [
    "## Example of using nested for loops to look up data in a dataframe"
   ]
  },
  {
   "cell_type": "code",
   "execution_count": 35,
   "id": "7560661a-f44b-4a34-a262-326a5553c9ec",
   "metadata": {},
   "outputs": [
    {
     "name": "stdout",
     "output_type": "stream",
     "text": [
      "foot:\n",
      "  blew up: 0\n",
      "  fire: 0\n",
      "  green: 0\n",
      "  popped: 0\n",
      "  toe: 1\n",
      "knee:\n",
      "  blew up: 0\n",
      "  fire: 0\n",
      "  green: 0\n",
      "  popped: 2\n",
      "  toe: 0\n",
      "leg:\n",
      "  blew up: 0\n",
      "  fire: 0\n",
      "  green: 1\n",
      "  popped: 0\n",
      "  toe: 0\n",
      "pump:\n",
      "  blew up: 1\n",
      "  fire: 1\n",
      "  green: 0\n",
      "  popped: 0\n",
      "  toe: 0\n",
      "\n"
     ]
    }
   ],
   "source": [
    "# import the YAML library for reporting\n",
    "import yaml\n",
    "\n",
    "# initialize the report\n",
    "report = {}\n",
    "\n",
    "# initialize the data; first column is th device, second column is the text\n",
    "data = {\n",
    "    0: ['pump','fire'],\n",
    "    1: ['pump', 'blew up'],\n",
    "    2: ['knee', 'popped'],\n",
    "    3: ['knee', 'popped'],\n",
    "    4: ['foot', 'toe'],\n",
    "    5: ['leg', 'green']\n",
    "}\n",
    "\n",
    "# create lists of the unique values in the data\n",
    "gen = ['pump', 'knee', 'foot', 'leg']\n",
    "text = ['fire', 'blew up', 'popped', 'toe', 'green']\n",
    "\n",
    "# the next few lines initialize the values in the report to 0\n",
    "for i in gen:\n",
    "    report[i] = {}\n",
    "\n",
    "for i in gen:\n",
    "    for j in text:\n",
    "        report[i][j] = 0\n",
    "\n",
    "# The processing starts here:\n",
    "# for each device...\n",
    "for i in gen:\n",
    "    \n",
    "    # and each text....\n",
    "    for j in text:\n",
    "        \n",
    "        # look at every row of data....\n",
    "        for row in data:\n",
    "            \n",
    "            # and if both the device and the text are present in this row, update the report by adding 1\n",
    "            if i in data[row] and j in data[row]:\n",
    "                report[i][j] += 1\n",
    "\n",
    "# print the report\n",
    "print(yaml.dump(report, default_flow_style=False))"
   ]
  }
 ],
 "metadata": {
  "kernelspec": {
   "display_name": "conda_amazonei_pytorch_latest_p37",
   "language": "python",
   "name": "conda_amazonei_pytorch_latest_p37"
  },
  "language_info": {
   "codemirror_mode": {
    "name": "ipython",
    "version": 3
   },
   "file_extension": ".py",
   "mimetype": "text/x-python",
   "name": "python",
   "nbconvert_exporter": "python",
   "pygments_lexer": "ipython3",
   "version": "3.7.12"
  }
 },
 "nbformat": 4,
 "nbformat_minor": 5
}
