{
 "cells": [
  {
   "cell_type": "markdown",
   "id": "d54a69f7-06d8-4c3c-ae33-8ed2c44003bb",
   "metadata": {},
   "source": [
    "# Pivot Tables for Devices and Defects\n",
    "\n",
    "List the devices from 2020 and 2021 along with their defects and the number of times each defect was reported.\n",
    "\n",
    "- Use the `GENERIC_NAME` column for the device.\n",
    "- Use the `DEFECT_PROBLEM_TEXT` column for the defect text.\n",
    "\n",
    "- Use the 'complete' data from the working directories for each year\n",
    "    - `./2020_reprocessed/2020_data_complete.csv`\n",
    "    - `./2021_reprocessed/2020_data_complete.csv`"
   ]
  },
  {
   "cell_type": "markdown",
   "id": "89dd8f5e-0624-49c0-826d-69fe163796d1",
   "metadata": {},
   "source": [
    "## Create table for 2020 Data\n",
    "- Read the data into a pandas dataframe\n",
    "- Create a dataframe for the devices using the `GENERIC_NAME` column of the dataframe, removing duplicates as needed\n",
    "- Create a dataframe for the defects using the `DEFECT_PROBLEM_TEXT` column of the dataframe, removing duplicates as needed"
   ]
  },
  {
   "cell_type": "code",
   "execution_count": 7,
   "id": "4ff1a485-e127-414b-9a11-87a2f175ef9e",
   "metadata": {},
   "outputs": [],
   "source": [
    "import pandas as pd\n",
    "\n",
    "data_file = './2020_reprocessed/2020_data_complete.csv'\n",
    "\n",
    "# Read the data into a pandas dataframe\n",
    "data = pd.read_csv(data_file,           # The data file being read, from the variable assignment above\n",
    "                   on_bad_lines='warn', # This tells Pandas to only warn on bad lines vs causing an error\n",
    "                   dtype = 'str')       # This tells Pandas to treat all numbers as words\n",
    "\n",
    "# Remove unwanted columns\n",
    "unwanted_columns = [\n",
    "    'MDR_REPORT_KEY',\n",
    "    'MDR_TEXT_KEY',\n",
    "    'TEXT_TYPE_CODE',\n",
    "    'PATIENT_SEQUENCE_NUMBER',\n",
    "    'DATE_REPORT',\n",
    "    'FOI_TEXT',\n",
    "    'DEVICE_SEQUENCE_NO',\n",
    "    'BRAND_NAME',\n",
    "    'MANUFACTURER_D_NAME',\n",
    "    'MODEL_NUMBER',\n",
    "    'DEVICE_AVAILABILITY',\n",
    "    'DEVICE_REPORT_PRODUCT_CODE',\n",
    "    'REPORT_NUMBER',\n",
    "    'REPORT_SOURCE_CODE',\n",
    "    'NUMBER_DEVICES_IN_EVENT',\n",
    "    'DATE_RECEIVED',\n",
    "    'INITIAL_REPORT_TO_FDA',\n",
    "    'MANUFACTURER_G1_NAME',\n",
    "    'REMEDIAL_ACTION',\n",
    "    'EVENT_TYPE',\n",
    "    'MANUFACTURER_NAME',\n",
    "    'TYPE_OF_REPORT',\n",
    "    'SUMMARY_REPORT',\n",
    "    'NOE_SUMMARIZED',\n",
    "    'UDI-DI',\n",
    "    'UDI-PUBLIC',\n",
    "]\n",
    "\n",
    "data.drop(unwanted_columns, axis=1, inplace=True)\n"
   ]
  },
  {
   "cell_type": "code",
   "execution_count": 8,
   "id": "06fb2963-e437-4f18-9f05-7b3f99212225",
   "metadata": {},
   "outputs": [
    {
     "data": {
      "text/html": [
       "<div>\n",
       "<style scoped>\n",
       "    .dataframe tbody tr th:only-of-type {\n",
       "        vertical-align: middle;\n",
       "    }\n",
       "\n",
       "    .dataframe tbody tr th {\n",
       "        vertical-align: top;\n",
       "    }\n",
       "\n",
       "    .dataframe thead th {\n",
       "        text-align: right;\n",
       "    }\n",
       "</style>\n",
       "<table border=\"1\" class=\"dataframe\">\n",
       "  <thead>\n",
       "    <tr style=\"text-align: right;\">\n",
       "      <th></th>\n",
       "      <th>DEVICE_PROBLEM_CODE</th>\n",
       "      <th>DEVICE_PROBLEM_TEXT</th>\n",
       "      <th>GENERIC_NAME</th>\n",
       "    </tr>\n",
       "  </thead>\n",
       "  <tbody>\n",
       "    <tr>\n",
       "      <th>0</th>\n",
       "      <td>2993</td>\n",
       "      <td>Adverse Event Without Identified Device or Use...</td>\n",
       "      <td>DEFIBRILLATION LEAD</td>\n",
       "    </tr>\n",
       "    <tr>\n",
       "      <th>1</th>\n",
       "      <td>2993</td>\n",
       "      <td>Adverse Event Without Identified Device or Use...</td>\n",
       "      <td>DEFIBRILLATION LEAD</td>\n",
       "    </tr>\n",
       "    <tr>\n",
       "      <th>2</th>\n",
       "      <td>1332</td>\n",
       "      <td>Failure to Interrogate</td>\n",
       "      <td>IMPLANTABLE CARDIOVERTER DEFIBRILLATOR</td>\n",
       "    </tr>\n",
       "    <tr>\n",
       "      <th>3</th>\n",
       "      <td>1332</td>\n",
       "      <td>Failure to Interrogate</td>\n",
       "      <td>IMPLANTABLE CARDIOVERTER DEFIBRILLATOR</td>\n",
       "    </tr>\n",
       "    <tr>\n",
       "      <th>4</th>\n",
       "      <td>1332</td>\n",
       "      <td>Failure to Interrogate</td>\n",
       "      <td>IMPLANTABLE CARDIOVERTER DEFIBRILLATOR</td>\n",
       "    </tr>\n",
       "  </tbody>\n",
       "</table>\n",
       "</div>"
      ],
      "text/plain": [
       "  DEVICE_PROBLEM_CODE                                DEVICE_PROBLEM_TEXT  \\\n",
       "0                2993  Adverse Event Without Identified Device or Use...   \n",
       "1                2993  Adverse Event Without Identified Device or Use...   \n",
       "2                1332                             Failure to Interrogate   \n",
       "3                1332                             Failure to Interrogate   \n",
       "4                1332                             Failure to Interrogate   \n",
       "\n",
       "                             GENERIC_NAME  \n",
       "0                     DEFIBRILLATION LEAD  \n",
       "1                     DEFIBRILLATION LEAD  \n",
       "2  IMPLANTABLE CARDIOVERTER DEFIBRILLATOR  \n",
       "3  IMPLANTABLE CARDIOVERTER DEFIBRILLATOR  \n",
       "4  IMPLANTABLE CARDIOVERTER DEFIBRILLATOR  "
      ]
     },
     "execution_count": 8,
     "metadata": {},
     "output_type": "execute_result"
    }
   ],
   "source": [
    "# Preview the data\n",
    "data.head()"
   ]
  },
  {
   "cell_type": "code",
   "execution_count": 22,
   "id": "509dc2a9-8c22-4f68-b8f8-166cb4e550f9",
   "metadata": {},
   "outputs": [],
   "source": [
    "# Create a dataframe for the devices using the `GENERIC_NAME` column of the dataframe, removing duplicates as needed\n",
    "generic_names = pd.DataFrame(data['GENERIC_NAME'].value_counts())\n",
    "\n",
    "# Create a dataframe for the defects using the `DEFECT_PROBLEM_TEXT` column of the dataframe, removing duplicates as needed\n",
    "defects = pd.DataFrame(data['DEVICE_PROBLEM_TEXT'].value_counts())\n"
   ]
  },
  {
   "cell_type": "code",
   "execution_count": 26,
   "id": "c2871434-0e1b-4aaa-b443-09d8eaa5dbf1",
   "metadata": {},
   "outputs": [
    {
     "data": {
      "text/html": [
       "<div>\n",
       "<style scoped>\n",
       "    .dataframe tbody tr th:only-of-type {\n",
       "        vertical-align: middle;\n",
       "    }\n",
       "\n",
       "    .dataframe tbody tr th {\n",
       "        vertical-align: top;\n",
       "    }\n",
       "\n",
       "    .dataframe thead th {\n",
       "        text-align: right;\n",
       "    }\n",
       "</style>\n",
       "<table border=\"1\" class=\"dataframe\">\n",
       "  <thead>\n",
       "    <tr style=\"text-align: right;\">\n",
       "      <th></th>\n",
       "      <th>GENERIC_NAME</th>\n",
       "    </tr>\n",
       "  </thead>\n",
       "  <tbody>\n",
       "    <tr>\n",
       "      <th>CONTINUOUS GLUCOSE MONITOR</th>\n",
       "      <td>496771</td>\n",
       "    </tr>\n",
       "    <tr>\n",
       "      <th>ENDOSSEOUS DENTAL IMPLANT</th>\n",
       "      <td>315749</td>\n",
       "    </tr>\n",
       "    <tr>\n",
       "      <th>PUMP, INFUSION</th>\n",
       "      <td>312885</td>\n",
       "    </tr>\n",
       "    <tr>\n",
       "      <th>ARTIFICIAL PANCREAS DEVICE SYSTEM, SINGLE HORMONAL CONTROL</th>\n",
       "      <td>269489</td>\n",
       "    </tr>\n",
       "    <tr>\n",
       "      <th>PUMP, INFUSION, INSULIN, TO BE USED WITH INVASIVE GLUCOSE SENSOR</th>\n",
       "      <td>205467</td>\n",
       "    </tr>\n",
       "  </tbody>\n",
       "</table>\n",
       "</div>"
      ],
      "text/plain": [
       "                                                    GENERIC_NAME\n",
       "CONTINUOUS GLUCOSE MONITOR                                496771\n",
       "ENDOSSEOUS DENTAL IMPLANT                                 315749\n",
       "PUMP, INFUSION                                            312885\n",
       "ARTIFICIAL PANCREAS DEVICE SYSTEM, SINGLE HORMO...        269489\n",
       "PUMP, INFUSION, INSULIN, TO BE USED WITH INVASI...        205467"
      ]
     },
     "execution_count": 26,
     "metadata": {},
     "output_type": "execute_result"
    }
   ],
   "source": [
    "# Preview the data\n",
    "generic_names.head()"
   ]
  },
  {
   "cell_type": "code",
   "execution_count": 27,
   "id": "ace3693b-d928-4c64-a4e4-4eea05b2025c",
   "metadata": {},
   "outputs": [
    {
     "data": {
      "text/html": [
       "<div>\n",
       "<style scoped>\n",
       "    .dataframe tbody tr th:only-of-type {\n",
       "        vertical-align: middle;\n",
       "    }\n",
       "\n",
       "    .dataframe tbody tr th {\n",
       "        vertical-align: top;\n",
       "    }\n",
       "\n",
       "    .dataframe thead th {\n",
       "        text-align: right;\n",
       "    }\n",
       "</style>\n",
       "<table border=\"1\" class=\"dataframe\">\n",
       "  <thead>\n",
       "    <tr style=\"text-align: right;\">\n",
       "      <th></th>\n",
       "      <th>DEVICE_PROBLEM_TEXT</th>\n",
       "    </tr>\n",
       "  </thead>\n",
       "  <tbody>\n",
       "    <tr>\n",
       "      <th>Adverse Event Without Identified Device or Use Problem</th>\n",
       "      <td>331253</td>\n",
       "    </tr>\n",
       "    <tr>\n",
       "      <th>Failure to Osseointegrate</th>\n",
       "      <td>231019</td>\n",
       "    </tr>\n",
       "    <tr>\n",
       "      <th>Patient Device Interaction Problem</th>\n",
       "      <td>192077</td>\n",
       "    </tr>\n",
       "    <tr>\n",
       "      <th>Wireless Communication Problem</th>\n",
       "      <td>168761</td>\n",
       "    </tr>\n",
       "    <tr>\n",
       "      <th>No Device Output</th>\n",
       "      <td>163702</td>\n",
       "    </tr>\n",
       "  </tbody>\n",
       "</table>\n",
       "</div>"
      ],
      "text/plain": [
       "                                                    DEVICE_PROBLEM_TEXT\n",
       "Adverse Event Without Identified Device or Use ...               331253\n",
       "Failure to Osseointegrate                                        231019\n",
       "Patient Device Interaction Problem                               192077\n",
       "Wireless Communication Problem                                   168761\n",
       "No Device Output                                                 163702"
      ]
     },
     "execution_count": 27,
     "metadata": {},
     "output_type": "execute_result"
    }
   ],
   "source": [
    "# Preview the data\n",
    "defects.head()"
   ]
  }
 ],
 "metadata": {
  "kernelspec": {
   "display_name": "conda_amazonei_pytorch_latest_p37",
   "language": "python",
   "name": "conda_amazonei_pytorch_latest_p37"
  },
  "language_info": {
   "codemirror_mode": {
    "name": "ipython",
    "version": 3
   },
   "file_extension": ".py",
   "mimetype": "text/x-python",
   "name": "python",
   "nbconvert_exporter": "python",
   "pygments_lexer": "ipython3",
   "version": "3.7.12"
  }
 },
 "nbformat": 4,
 "nbformat_minor": 5
}
