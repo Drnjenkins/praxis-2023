{
 "cells": [
  {
   "cell_type": "markdown",
   "id": "d54a69f7-06d8-4c3c-ae33-8ed2c44003bb",
   "metadata": {},
   "source": [
    "# Pivot Tables for Devices and Defects\n",
    "\n",
    "List the devices from 2020 and 2021 along with their defects and the number of times each defect was reported.\n",
    "\n",
    "- Use the `GENERIC_NAME` column for the device.\n",
    "- Use the `DEFECT_PROBLEM_TEXT` column for the defect text.\n",
    "\n",
    "- Use the 'complete' data from the working directories for each year\n",
    "    - `./2020_reprocessed/2020_data_complete.csv`\n",
    "    - `./2021_reprocessed/2020_data_complete.csv`"
   ]
  },
  {
   "cell_type": "markdown",
   "id": "89dd8f5e-0624-49c0-826d-69fe163796d1",
   "metadata": {},
   "source": [
    "## Create table for 2020 Data\n",
    "- Read the data into a pandas dataframe\n",
    "- Create a dataframe for the devices using the `GENERIC_NAME` column of the dataframe, removing duplicates as needed\n",
    "- Create a dataframe for the defects using the `DEFECT_PROBLEM_TEXT` column of the dataframe, removing duplicates as needed"
   ]
  },
  {
   "cell_type": "code",
   "execution_count": 1,
   "id": "4ff1a485-e127-414b-9a11-87a2f175ef9e",
   "metadata": {},
   "outputs": [],
   "source": [
    "import pandas as pd\n",
    "\n",
    "data_file_2020 = './2020_reprocessed/2020_data_complete.csv'\n",
    "\n",
    "# Read the data into a pandas dataframe\n",
    "data_2020 = pd.read_csv(data_file_2020,           # The data file being read, from the variable assignment above\n",
    "                   on_bad_lines='warn', # This tells Pandas to only warn on bad lines vs causing an error\n",
    "                   dtype = 'str')       # This tells Pandas to treat all numbers as words\n",
    "\n",
    "# Remove unwanted columns\n",
    "unwanted_columns = [\n",
    "    'MDR_REPORT_KEY',\n",
    "    'MDR_TEXT_KEY',\n",
    "    'TEXT_TYPE_CODE',\n",
    "    'PATIENT_SEQUENCE_NUMBER',\n",
    "    'DATE_REPORT',\n",
    "    'FOI_TEXT',\n",
    "    'DEVICE_SEQUENCE_NO',\n",
    "    'BRAND_NAME',\n",
    "    'MANUFACTURER_D_NAME',\n",
    "    'MODEL_NUMBER',\n",
    "    'DEVICE_AVAILABILITY',\n",
    "    'DEVICE_REPORT_PRODUCT_CODE',\n",
    "    'REPORT_NUMBER',\n",
    "    'REPORT_SOURCE_CODE',\n",
    "    'NUMBER_DEVICES_IN_EVENT',\n",
    "    'DATE_RECEIVED',\n",
    "    'INITIAL_REPORT_TO_FDA',\n",
    "    'MANUFACTURER_G1_NAME',\n",
    "    'REMEDIAL_ACTION',\n",
    "    'EVENT_TYPE',\n",
    "    'MANUFACTURER_NAME',\n",
    "    'TYPE_OF_REPORT',\n",
    "    'SUMMARY_REPORT',\n",
    "    'NOE_SUMMARIZED',\n",
    "    'UDI-DI',\n",
    "    'UDI-PUBLIC',\n",
    "]\n",
    "\n",
    "data_2020.drop(unwanted_columns, axis=1, inplace=True)\n"
   ]
  },
  {
   "cell_type": "code",
   "execution_count": 2,
   "id": "0e10ab23-b2dd-4ce6-a2b4-ed1a4c13cb65",
   "metadata": {},
   "outputs": [
    {
     "name": "stdout",
     "output_type": "stream",
     "text": [
      "data_2020 creation complete: (3856740, 3)\n"
     ]
    }
   ],
   "source": [
    "print(f\"data_2020 creation complete: {data_2020.shape}\")"
   ]
  },
  {
   "cell_type": "code",
   "execution_count": 3,
   "id": "06fb2963-e437-4f18-9f05-7b3f99212225",
   "metadata": {},
   "outputs": [
    {
     "data": {
      "text/html": [
       "<div>\n",
       "<style scoped>\n",
       "    .dataframe tbody tr th:only-of-type {\n",
       "        vertical-align: middle;\n",
       "    }\n",
       "\n",
       "    .dataframe tbody tr th {\n",
       "        vertical-align: top;\n",
       "    }\n",
       "\n",
       "    .dataframe thead th {\n",
       "        text-align: right;\n",
       "    }\n",
       "</style>\n",
       "<table border=\"1\" class=\"dataframe\">\n",
       "  <thead>\n",
       "    <tr style=\"text-align: right;\">\n",
       "      <th></th>\n",
       "      <th>DEVICE_PROBLEM_CODE</th>\n",
       "      <th>DEVICE_PROBLEM_TEXT</th>\n",
       "      <th>GENERIC_NAME</th>\n",
       "    </tr>\n",
       "  </thead>\n",
       "  <tbody>\n",
       "    <tr>\n",
       "      <th>0</th>\n",
       "      <td>2993</td>\n",
       "      <td>Adverse Event Without Identified Device or Use...</td>\n",
       "      <td>DEFIBRILLATION LEAD</td>\n",
       "    </tr>\n",
       "    <tr>\n",
       "      <th>1</th>\n",
       "      <td>2993</td>\n",
       "      <td>Adverse Event Without Identified Device or Use...</td>\n",
       "      <td>DEFIBRILLATION LEAD</td>\n",
       "    </tr>\n",
       "    <tr>\n",
       "      <th>2</th>\n",
       "      <td>1332</td>\n",
       "      <td>Failure to Interrogate</td>\n",
       "      <td>IMPLANTABLE CARDIOVERTER DEFIBRILLATOR</td>\n",
       "    </tr>\n",
       "    <tr>\n",
       "      <th>3</th>\n",
       "      <td>1332</td>\n",
       "      <td>Failure to Interrogate</td>\n",
       "      <td>IMPLANTABLE CARDIOVERTER DEFIBRILLATOR</td>\n",
       "    </tr>\n",
       "    <tr>\n",
       "      <th>4</th>\n",
       "      <td>1332</td>\n",
       "      <td>Failure to Interrogate</td>\n",
       "      <td>IMPLANTABLE CARDIOVERTER DEFIBRILLATOR</td>\n",
       "    </tr>\n",
       "  </tbody>\n",
       "</table>\n",
       "</div>"
      ],
      "text/plain": [
       "  DEVICE_PROBLEM_CODE                                DEVICE_PROBLEM_TEXT  \\\n",
       "0                2993  Adverse Event Without Identified Device or Use...   \n",
       "1                2993  Adverse Event Without Identified Device or Use...   \n",
       "2                1332                             Failure to Interrogate   \n",
       "3                1332                             Failure to Interrogate   \n",
       "4                1332                             Failure to Interrogate   \n",
       "\n",
       "                             GENERIC_NAME  \n",
       "0                     DEFIBRILLATION LEAD  \n",
       "1                     DEFIBRILLATION LEAD  \n",
       "2  IMPLANTABLE CARDIOVERTER DEFIBRILLATOR  \n",
       "3  IMPLANTABLE CARDIOVERTER DEFIBRILLATOR  \n",
       "4  IMPLANTABLE CARDIOVERTER DEFIBRILLATOR  "
      ]
     },
     "execution_count": 3,
     "metadata": {},
     "output_type": "execute_result"
    }
   ],
   "source": [
    "# Preview the data\n",
    "data_2020.head()"
   ]
  },
  {
   "cell_type": "code",
   "execution_count": 4,
   "id": "509dc2a9-8c22-4f68-b8f8-166cb4e550f9",
   "metadata": {},
   "outputs": [],
   "source": [
    "# Create a dataframe for the devices using the `GENERIC_NAME` column of the dataframe, removing duplicates as needed\n",
    "generic_names_2020 = pd.DataFrame(data_2020['GENERIC_NAME'].value_counts())\n",
    "\n",
    "# Create a dataframe for the defects using the `DEFECT_PROBLEM_TEXT` column of the dataframe, removing duplicates as needed\n",
    "defects_2020 = pd.DataFrame(data_2020['DEVICE_PROBLEM_TEXT'].value_counts())\n"
   ]
  },
  {
   "cell_type": "code",
   "execution_count": 5,
   "id": "c2871434-0e1b-4aaa-b443-09d8eaa5dbf1",
   "metadata": {},
   "outputs": [
    {
     "data": {
      "text/html": [
       "<div>\n",
       "<style scoped>\n",
       "    .dataframe tbody tr th:only-of-type {\n",
       "        vertical-align: middle;\n",
       "    }\n",
       "\n",
       "    .dataframe tbody tr th {\n",
       "        vertical-align: top;\n",
       "    }\n",
       "\n",
       "    .dataframe thead th {\n",
       "        text-align: right;\n",
       "    }\n",
       "</style>\n",
       "<table border=\"1\" class=\"dataframe\">\n",
       "  <thead>\n",
       "    <tr style=\"text-align: right;\">\n",
       "      <th></th>\n",
       "      <th>GENERIC_NAME</th>\n",
       "    </tr>\n",
       "  </thead>\n",
       "  <tbody>\n",
       "    <tr>\n",
       "      <th>CONTINUOUS GLUCOSE MONITOR</th>\n",
       "      <td>496771</td>\n",
       "    </tr>\n",
       "    <tr>\n",
       "      <th>ENDOSSEOUS DENTAL IMPLANT</th>\n",
       "      <td>315749</td>\n",
       "    </tr>\n",
       "    <tr>\n",
       "      <th>PUMP, INFUSION</th>\n",
       "      <td>312885</td>\n",
       "    </tr>\n",
       "    <tr>\n",
       "      <th>ARTIFICIAL PANCREAS DEVICE SYSTEM, SINGLE HORMONAL CONTROL</th>\n",
       "      <td>269489</td>\n",
       "    </tr>\n",
       "    <tr>\n",
       "      <th>PUMP, INFUSION, INSULIN, TO BE USED WITH INVASIVE GLUCOSE SENSOR</th>\n",
       "      <td>205467</td>\n",
       "    </tr>\n",
       "  </tbody>\n",
       "</table>\n",
       "</div>"
      ],
      "text/plain": [
       "                                                    GENERIC_NAME\n",
       "CONTINUOUS GLUCOSE MONITOR                                496771\n",
       "ENDOSSEOUS DENTAL IMPLANT                                 315749\n",
       "PUMP, INFUSION                                            312885\n",
       "ARTIFICIAL PANCREAS DEVICE SYSTEM, SINGLE HORMO...        269489\n",
       "PUMP, INFUSION, INSULIN, TO BE USED WITH INVASI...        205467"
      ]
     },
     "execution_count": 5,
     "metadata": {},
     "output_type": "execute_result"
    }
   ],
   "source": [
    "# Preview the data\n",
    "generic_names_2020.head()"
   ]
  },
  {
   "cell_type": "code",
   "execution_count": 6,
   "id": "fa208aa2-02bd-4b08-9df5-82db66ca112e",
   "metadata": {},
   "outputs": [
    {
     "data": {
      "text/plain": [
       "(15203, 1)"
      ]
     },
     "execution_count": 6,
     "metadata": {},
     "output_type": "execute_result"
    }
   ],
   "source": [
    "generic_names_2020.shape"
   ]
  },
  {
   "cell_type": "code",
   "execution_count": 7,
   "id": "6ead025d-6213-4650-8ee9-90b975231ad0",
   "metadata": {},
   "outputs": [
    {
     "data": {
      "text/plain": [
       "GENERIC_NAME    3843862\n",
       "dtype: int64"
      ]
     },
     "execution_count": 7,
     "metadata": {},
     "output_type": "execute_result"
    }
   ],
   "source": [
    "generic_names_2020.sum()"
   ]
  },
  {
   "cell_type": "code",
   "execution_count": 8,
   "id": "ace3693b-d928-4c64-a4e4-4eea05b2025c",
   "metadata": {},
   "outputs": [
    {
     "data": {
      "text/html": [
       "<div>\n",
       "<style scoped>\n",
       "    .dataframe tbody tr th:only-of-type {\n",
       "        vertical-align: middle;\n",
       "    }\n",
       "\n",
       "    .dataframe tbody tr th {\n",
       "        vertical-align: top;\n",
       "    }\n",
       "\n",
       "    .dataframe thead th {\n",
       "        text-align: right;\n",
       "    }\n",
       "</style>\n",
       "<table border=\"1\" class=\"dataframe\">\n",
       "  <thead>\n",
       "    <tr style=\"text-align: right;\">\n",
       "      <th></th>\n",
       "      <th>DEVICE_PROBLEM_TEXT</th>\n",
       "    </tr>\n",
       "  </thead>\n",
       "  <tbody>\n",
       "    <tr>\n",
       "      <th>Adverse Event Without Identified Device or Use Problem</th>\n",
       "      <td>331253</td>\n",
       "    </tr>\n",
       "    <tr>\n",
       "      <th>Failure to Osseointegrate</th>\n",
       "      <td>231019</td>\n",
       "    </tr>\n",
       "    <tr>\n",
       "      <th>Patient Device Interaction Problem</th>\n",
       "      <td>192077</td>\n",
       "    </tr>\n",
       "    <tr>\n",
       "      <th>Wireless Communication Problem</th>\n",
       "      <td>168761</td>\n",
       "    </tr>\n",
       "    <tr>\n",
       "      <th>No Device Output</th>\n",
       "      <td>163702</td>\n",
       "    </tr>\n",
       "  </tbody>\n",
       "</table>\n",
       "</div>"
      ],
      "text/plain": [
       "                                                    DEVICE_PROBLEM_TEXT\n",
       "Adverse Event Without Identified Device or Use ...               331253\n",
       "Failure to Osseointegrate                                        231019\n",
       "Patient Device Interaction Problem                               192077\n",
       "Wireless Communication Problem                                   168761\n",
       "No Device Output                                                 163702"
      ]
     },
     "execution_count": 8,
     "metadata": {},
     "output_type": "execute_result"
    }
   ],
   "source": [
    "# Preview the data\n",
    "defects_2020.head()"
   ]
  },
  {
   "cell_type": "code",
   "execution_count": 9,
   "id": "fc0aa165-c4b5-40d9-9ac8-17a789478a1b",
   "metadata": {},
   "outputs": [
    {
     "data": {
      "text/plain": [
       "(474, 1)"
      ]
     },
     "execution_count": 9,
     "metadata": {},
     "output_type": "execute_result"
    }
   ],
   "source": [
    "defects_2020.shape"
   ]
  },
  {
   "cell_type": "markdown",
   "id": "6baf6207-624f-4fe9-b364-02a68253972a",
   "metadata": {},
   "source": [
    "## Create table for 2021 Data\n",
    "- Read the data into a pandas dataframe\n",
    "- Create a dataframe for the devices using the `GENERIC_NAME` column of the dataframe, removing duplicates as needed\n",
    "- Create a dataframe for the defects using the `DEFECT_PROBLEM_TEXT` column of the dataframe, removing duplicates as needed"
   ]
  },
  {
   "cell_type": "code",
   "execution_count": 10,
   "id": "857c1b14-7449-4855-8319-ba346b566f85",
   "metadata": {},
   "outputs": [],
   "source": [
    "import pandas as pd\n",
    "\n",
    "data_file_2021 = './2021_reprocessed/2021_data_complete.csv'\n",
    "\n",
    "# Read the data into a pandas dataframe\n",
    "data_2021 = pd.read_csv(data_file_2021,           # The data file being read, from the variable assignment above\n",
    "                   on_bad_lines='warn', # This tells Pandas to only warn on bad lines vs causing an error\n",
    "                   dtype = 'str')       # This tells Pandas to treat all numbers as words\n",
    "\n",
    "# Remove unwanted columns\n",
    "unwanted_columns = [\n",
    "    'MDR_REPORT_KEY',\n",
    "    'MDR_TEXT_KEY',\n",
    "    'TEXT_TYPE_CODE',\n",
    "    'PATIENT_SEQUENCE_NUMBER',\n",
    "    'DATE_REPORT',\n",
    "    'FOI_TEXT',\n",
    "    'DEVICE_SEQUENCE_NO',\n",
    "    'BRAND_NAME',\n",
    "    'MANUFACTURER_D_NAME',\n",
    "    'MODEL_NUMBER',\n",
    "    'DEVICE_AVAILABILITY',\n",
    "    'DEVICE_REPORT_PRODUCT_CODE',\n",
    "    'REPORT_NUMBER',\n",
    "    'REPORT_SOURCE_CODE',\n",
    "    'NUMBER_DEVICES_IN_EVENT',\n",
    "    'DATE_RECEIVED',\n",
    "    'INITIAL_REPORT_TO_FDA',\n",
    "    'MANUFACTURER_G1_NAME',\n",
    "    'REMEDIAL_ACTION',\n",
    "    'EVENT_TYPE',\n",
    "    'MANUFACTURER_NAME',\n",
    "    'TYPE_OF_REPORT',\n",
    "    'SUMMARY_REPORT',\n",
    "    'NOE_SUMMARIZED',\n",
    "    'UDI-DI',\n",
    "    'UDI-PUBLIC',\n",
    "]\n",
    "\n",
    "data_2021.drop(unwanted_columns, axis=1, inplace=True)\n"
   ]
  },
  {
   "cell_type": "code",
   "execution_count": 11,
   "id": "21c30250-2312-494c-a9d9-293b31543579",
   "metadata": {},
   "outputs": [
    {
     "name": "stdout",
     "output_type": "stream",
     "text": [
      "data_2021 creation complete: (4454884, 3)\n"
     ]
    }
   ],
   "source": [
    "print(f\"data_2021 creation complete: {data_2021.shape}\")"
   ]
  },
  {
   "cell_type": "code",
   "execution_count": 12,
   "id": "fd25eb96-293c-4fb0-b347-5d70dd80f341",
   "metadata": {},
   "outputs": [
    {
     "data": {
      "text/html": [
       "<div>\n",
       "<style scoped>\n",
       "    .dataframe tbody tr th:only-of-type {\n",
       "        vertical-align: middle;\n",
       "    }\n",
       "\n",
       "    .dataframe tbody tr th {\n",
       "        vertical-align: top;\n",
       "    }\n",
       "\n",
       "    .dataframe thead th {\n",
       "        text-align: right;\n",
       "    }\n",
       "</style>\n",
       "<table border=\"1\" class=\"dataframe\">\n",
       "  <thead>\n",
       "    <tr style=\"text-align: right;\">\n",
       "      <th></th>\n",
       "      <th>DEVICE_PROBLEM_CODE</th>\n",
       "      <th>DEVICE_PROBLEM_TEXT</th>\n",
       "      <th>GENERIC_NAME</th>\n",
       "    </tr>\n",
       "  </thead>\n",
       "  <tbody>\n",
       "    <tr>\n",
       "      <th>0</th>\n",
       "      <td>1535</td>\n",
       "      <td>Incorrect, Inadequate or Imprecise Resultor Re...</td>\n",
       "      <td>CORONAVIRUS ANTIGEN DETECTION SYSTEM</td>\n",
       "    </tr>\n",
       "    <tr>\n",
       "      <th>1</th>\n",
       "      <td>1535</td>\n",
       "      <td>Incorrect, Inadequate or Imprecise Resultor Re...</td>\n",
       "      <td>CORONAVIRUS ANTIGEN DETECTION SYSTEM</td>\n",
       "    </tr>\n",
       "    <tr>\n",
       "      <th>2</th>\n",
       "      <td>1069</td>\n",
       "      <td>Break</td>\n",
       "      <td>PUMP, INFUSION</td>\n",
       "    </tr>\n",
       "    <tr>\n",
       "      <th>3</th>\n",
       "      <td>1135</td>\n",
       "      <td>Crack</td>\n",
       "      <td>PUMP, INFUSION</td>\n",
       "    </tr>\n",
       "    <tr>\n",
       "      <th>4</th>\n",
       "      <td>1153</td>\n",
       "      <td>Degraded</td>\n",
       "      <td>PUMP, INFUSION</td>\n",
       "    </tr>\n",
       "  </tbody>\n",
       "</table>\n",
       "</div>"
      ],
      "text/plain": [
       "  DEVICE_PROBLEM_CODE                                DEVICE_PROBLEM_TEXT  \\\n",
       "0                1535  Incorrect, Inadequate or Imprecise Resultor Re...   \n",
       "1                1535  Incorrect, Inadequate or Imprecise Resultor Re...   \n",
       "2                1069                                              Break   \n",
       "3                1135                                              Crack   \n",
       "4                1153                                           Degraded   \n",
       "\n",
       "                           GENERIC_NAME  \n",
       "0  CORONAVIRUS ANTIGEN DETECTION SYSTEM  \n",
       "1  CORONAVIRUS ANTIGEN DETECTION SYSTEM  \n",
       "2                        PUMP, INFUSION  \n",
       "3                        PUMP, INFUSION  \n",
       "4                        PUMP, INFUSION  "
      ]
     },
     "execution_count": 12,
     "metadata": {},
     "output_type": "execute_result"
    }
   ],
   "source": [
    "# Preview the data\n",
    "data_2021.head()"
   ]
  },
  {
   "cell_type": "code",
   "execution_count": 13,
   "id": "d9a1dab5-fee3-4b5c-b71b-5cadac884116",
   "metadata": {},
   "outputs": [],
   "source": [
    "# Create a dataframe for the devices using the `GENERIC_NAME` column of the dataframe, removing duplicates as needed\n",
    "generic_names_2021 = pd.DataFrame(data_2021['GENERIC_NAME'].value_counts())\n",
    "\n",
    "# Create a dataframe for the defects using the `DEFECT_PROBLEM_TEXT` column of the dataframe, removing duplicates as needed\n",
    "defects_2021 = pd.DataFrame(data_2021['DEVICE_PROBLEM_TEXT'].value_counts())\n"
   ]
  },
  {
   "cell_type": "code",
   "execution_count": 14,
   "id": "87952b0a-e744-4c8e-a56d-fb111b02f9fa",
   "metadata": {},
   "outputs": [
    {
     "data": {
      "text/html": [
       "<div>\n",
       "<style scoped>\n",
       "    .dataframe tbody tr th:only-of-type {\n",
       "        vertical-align: middle;\n",
       "    }\n",
       "\n",
       "    .dataframe tbody tr th {\n",
       "        vertical-align: top;\n",
       "    }\n",
       "\n",
       "    .dataframe thead th {\n",
       "        text-align: right;\n",
       "    }\n",
       "</style>\n",
       "<table border=\"1\" class=\"dataframe\">\n",
       "  <thead>\n",
       "    <tr style=\"text-align: right;\">\n",
       "      <th></th>\n",
       "      <th>GENERIC_NAME</th>\n",
       "    </tr>\n",
       "  </thead>\n",
       "  <tbody>\n",
       "    <tr>\n",
       "      <th>CONTINUOUS GLUCOSE MONITOR</th>\n",
       "      <td>534114</td>\n",
       "    </tr>\n",
       "    <tr>\n",
       "      <th>PUMP, INFUSION</th>\n",
       "      <td>526177</td>\n",
       "    </tr>\n",
       "    <tr>\n",
       "      <th>ENDOSSEOUS DENTAL IMPLANT</th>\n",
       "      <td>461672</td>\n",
       "    </tr>\n",
       "    <tr>\n",
       "      <th>ARTIFICIAL PANCREAS DEVICE SYSTEM, SINGLE HORMONAL CONTROL</th>\n",
       "      <td>200411</td>\n",
       "    </tr>\n",
       "    <tr>\n",
       "      <th>FLASH GLUCOSE MONITORING SYSTEM</th>\n",
       "      <td>188914</td>\n",
       "    </tr>\n",
       "    <tr>\n",
       "      <th>...</th>\n",
       "      <td>...</td>\n",
       "    </tr>\n",
       "    <tr>\n",
       "      <th>VIDEO DUODENOSCOPE</th>\n",
       "      <td>150</td>\n",
       "    </tr>\n",
       "    <tr>\n",
       "      <th>INSULIN DELIVERY DEVICE</th>\n",
       "      <td>149</td>\n",
       "    </tr>\n",
       "    <tr>\n",
       "      <th>TEMPORARY NONROLLER TYPE LEFT HEART SUPPORT BLOOD PUMP</th>\n",
       "      <td>148</td>\n",
       "    </tr>\n",
       "    <tr>\n",
       "      <th>PRIMACONNEX TC TAPERED RD 4.1X10</th>\n",
       "      <td>148</td>\n",
       "    </tr>\n",
       "    <tr>\n",
       "      <th>KNQ, DILATOR, ESOPHAGEAL</th>\n",
       "      <td>148</td>\n",
       "    </tr>\n",
       "  </tbody>\n",
       "</table>\n",
       "<p>1000 rows × 1 columns</p>\n",
       "</div>"
      ],
      "text/plain": [
       "                                                    GENERIC_NAME\n",
       "CONTINUOUS GLUCOSE MONITOR                                534114\n",
       "PUMP, INFUSION                                            526177\n",
       "ENDOSSEOUS DENTAL IMPLANT                                 461672\n",
       "ARTIFICIAL PANCREAS DEVICE SYSTEM, SINGLE HORMO...        200411\n",
       "FLASH GLUCOSE MONITORING SYSTEM                           188914\n",
       "...                                                          ...\n",
       "VIDEO DUODENOSCOPE                                           150\n",
       "INSULIN DELIVERY DEVICE                                      149\n",
       "TEMPORARY NONROLLER TYPE LEFT HEART SUPPORT BLO...           148\n",
       "PRIMACONNEX TC TAPERED RD 4.1X10                             148\n",
       "KNQ, DILATOR, ESOPHAGEAL                                     148\n",
       "\n",
       "[1000 rows x 1 columns]"
      ]
     },
     "execution_count": 14,
     "metadata": {},
     "output_type": "execute_result"
    }
   ],
   "source": [
    "# Preview the data\n",
    "generic_names_2021.head(1000)"
   ]
  },
  {
   "cell_type": "code",
   "execution_count": 15,
   "id": "a68f5b52-c313-40bd-9a68-e26d9809b230",
   "metadata": {},
   "outputs": [
    {
     "data": {
      "text/plain": [
       "(14161, 1)"
      ]
     },
     "execution_count": 15,
     "metadata": {},
     "output_type": "execute_result"
    }
   ],
   "source": [
    "generic_names_2021.shape"
   ]
  },
  {
   "cell_type": "code",
   "execution_count": 16,
   "id": "c3e25a45-5c0a-46e0-aac9-a5c3676b101b",
   "metadata": {},
   "outputs": [
    {
     "data": {
      "text/plain": [
       "GENERIC_NAME    4439679\n",
       "dtype: int64"
      ]
     },
     "execution_count": 16,
     "metadata": {},
     "output_type": "execute_result"
    }
   ],
   "source": [
    "generic_names_2021.sum()"
   ]
  },
  {
   "cell_type": "code",
   "execution_count": 17,
   "id": "75dad3b0-eaf6-4795-844f-1d669e1d0455",
   "metadata": {},
   "outputs": [
    {
     "data": {
      "text/html": [
       "<div>\n",
       "<style scoped>\n",
       "    .dataframe tbody tr th:only-of-type {\n",
       "        vertical-align: middle;\n",
       "    }\n",
       "\n",
       "    .dataframe tbody tr th {\n",
       "        vertical-align: top;\n",
       "    }\n",
       "\n",
       "    .dataframe thead th {\n",
       "        text-align: right;\n",
       "    }\n",
       "</style>\n",
       "<table border=\"1\" class=\"dataframe\">\n",
       "  <thead>\n",
       "    <tr style=\"text-align: right;\">\n",
       "      <th></th>\n",
       "      <th>DEVICE_PROBLEM_TEXT</th>\n",
       "    </tr>\n",
       "  </thead>\n",
       "  <tbody>\n",
       "    <tr>\n",
       "      <th>Failure to Osseointegrate</th>\n",
       "      <td>336298</td>\n",
       "    </tr>\n",
       "    <tr>\n",
       "      <th>Adverse Event Without Identified Device or Use Problem</th>\n",
       "      <td>314336</td>\n",
       "    </tr>\n",
       "    <tr>\n",
       "      <th>Break</th>\n",
       "      <td>252603</td>\n",
       "    </tr>\n",
       "    <tr>\n",
       "      <th>Wireless Communication Problem</th>\n",
       "      <td>228677</td>\n",
       "    </tr>\n",
       "    <tr>\n",
       "      <th>Incorrect, Inadequate or Imprecise Resultor Readings</th>\n",
       "      <td>195978</td>\n",
       "    </tr>\n",
       "  </tbody>\n",
       "</table>\n",
       "</div>"
      ],
      "text/plain": [
       "                                                    DEVICE_PROBLEM_TEXT\n",
       "Failure to Osseointegrate                                        336298\n",
       "Adverse Event Without Identified Device or Use ...               314336\n",
       "Break                                                            252603\n",
       "Wireless Communication Problem                                   228677\n",
       "Incorrect, Inadequate or Imprecise Resultor Rea...               195978"
      ]
     },
     "execution_count": 17,
     "metadata": {},
     "output_type": "execute_result"
    }
   ],
   "source": [
    "# Preview the data\n",
    "defects_2021.head()"
   ]
  },
  {
   "cell_type": "code",
   "execution_count": 18,
   "id": "7d1bdd28-2368-455a-a350-1fd29dd1cd8d",
   "metadata": {},
   "outputs": [
    {
     "data": {
      "text/plain": [
       "(476, 1)"
      ]
     },
     "execution_count": 18,
     "metadata": {},
     "output_type": "execute_result"
    }
   ],
   "source": [
    "defects_2021.shape"
   ]
  },
  {
   "cell_type": "markdown",
   "id": "850ddb54-6e19-44d1-87af-5dd919576ae7",
   "metadata": {},
   "source": [
    "# youtube video \n",
    "\n",
    "-https://www.youtube.com/watch?v=O60CFmcWyEY Nested for loops"
   ]
  },
  {
   "cell_type": "markdown",
   "id": "e0fbc1f3-4171-4793-90b1-f7e0b66904f4",
   "metadata": {},
   "source": [
    "## Example of using nested for loops to look up data in a dataframe"
   ]
  },
  {
   "cell_type": "code",
   "execution_count": 19,
   "id": "afd2369a-68af-4bcb-a059-ddc6a4e3aa14",
   "metadata": {},
   "outputs": [
    {
     "name": "stdout",
     "output_type": "stream",
     "text": [
      "foot:\n",
      "  blew up: 0\n",
      "  fire: 0\n",
      "  green: 0\n",
      "  popped: 0\n",
      "  toe: 1\n",
      "knee:\n",
      "  blew up: 0\n",
      "  fire: 0\n",
      "  green: 0\n",
      "  popped: 2\n",
      "  toe: 0\n",
      "leg:\n",
      "  blew up: 0\n",
      "  fire: 0\n",
      "  green: 1\n",
      "  popped: 0\n",
      "  toe: 0\n",
      "pump:\n",
      "  blew up: 1\n",
      "  fire: 1\n",
      "  green: 0\n",
      "  popped: 0\n",
      "  toe: 0\n",
      "\n"
     ]
    }
   ],
   "source": [
    "# import the YAML library for reporting\n",
    "import yaml\n",
    "\n",
    "# initialize the report\n",
    "report = {}\n",
    "\n",
    "# initialize the data; first column is th device, second column is the text\n",
    "sample_data = {\n",
    "    0: ['pump','fire'],\n",
    "    1: ['pump', 'blew up'],\n",
    "    2: ['knee', 'popped'],\n",
    "    3: ['knee', 'popped'],\n",
    "    4: ['foot', 'toe'],\n",
    "    5: ['leg', 'green']\n",
    "}\n",
    "\n",
    "# create lists of the unique values in the data\n",
    "generic_device = ['pump', 'knee', 'foot', 'leg']\n",
    "text = ['fire', 'blew up', 'popped', 'toe', 'green']\n",
    "\n",
    "# the next few lines initialize the values in the report to 0\n",
    "for i in generic_device:\n",
    "    report[i] = {}\n",
    "    \n",
    "# for label, content in generic_names.iterrows():\n",
    "#    report[label] = {}\n",
    "\n",
    "for i in generic_device:\n",
    "    for j in text:\n",
    "        report[i][j] = 0\n",
    "\n",
    "# for label, content in generic_names.iterrows():\n",
    "#    for i, j in defects.iterrows():\n",
    "#       report[label][i] = 0\n",
    "\n",
    "# The processing starts here:\n",
    "# for each device...\n",
    "for i in generic_device:\n",
    "    \n",
    "    # and each defect....\n",
    "    for j in text:\n",
    "        \n",
    "        # look at every row of data....\n",
    "        for row in sample_data:\n",
    "            \n",
    "            # and if both the device and the text are present in this row, update the report by adding 1\n",
    "            if i in sample_data[row] and j in sample_data[row]:\n",
    "                report[i][j] += 1\n",
    "\n",
    "# print the report\n",
    "print(yaml.dump(report, default_flow_style=False))"
   ]
  },
  {
   "cell_type": "code",
   "execution_count": 22,
   "id": "b637fe44-5bc5-4546-a7f2-a26950abe63b",
   "metadata": {},
   "outputs": [
    {
     "name": "stdout",
     "output_type": "stream",
     "text": [
      "{'CONTINUOUS GLUCOSE MONITOR': {'Adverse Event Without Identified Device or Use Problem': 0, 'Failure to Osseointegrate': 0, 'Patient Device Interaction Problem': 0, 'Wireless Communication Problem': 0, 'No Device Output': 0, 'Break': 0, 'Loss of Osseointegration': 0, 'Insufficient Information': 0, 'Crack': 0, 'Power Problem': 0, 'Mechanical Problem': 0, 'Appropriate Term/Code Not Available': 0, 'Device Displays Incorrect Message': 0, 'Imprecision': 0, 'Connection Problem': 0, 'No Apparent Adverse Event': 0, 'Fluid Leak': 0, 'Obstruction of Flow': 0, 'Material Rupture': 0, 'Battery Problem': 0, 'Pumping Stopped': 0, 'Incorrect, Inadequate or Imprecise Resultor Readings': 0, 'No Display/Image': 0, 'Fracture': 0, 'Device Difficult to Program or Calibrate': 0, 'Display or Visual Feedback Problem': 0, 'Over-Sensing': 0, 'Detachment of Device or Device Component': 0, 'Defective Device': 0, 'Device Sensing Problem': 0, 'Leak/Splash': 0, 'Device Dislodged or Dislocated': 0, 'Physical Resistance/Sticking': 0, 'Device Alarm System': 0, 'Failure to Power Up': 0, 'High impedance': 0, 'Electrical /Electronic Property Problem': 0, 'Communication or Transmission Problem': 0, 'Charging Problem': 0, 'Corroded': 0, 'Material Twisted/Bent': 0, 'Malposition of Device': 0, 'Circuit Failure': 0, 'Patient-Device Incompatibility': 0, 'Incorrect Measurement': 0, 'Signal Artifact/Noise': 0, 'Therapeutic or Diagnostic Output Failure': 0, 'Material Integrity Problem': 0, 'Migration': 0, 'Failure to Sense': 0, 'High Capture Threshold': 0, 'Premature Discharge of Battery': 0, 'Device Contamination with Chemical or Other Material': 0, 'Material Separation': 0, 'Premature End-of-Life Indicator': 0, 'Moisture or Humidity Problem': 0, 'Osseointegration Problem': 0, 'Failure to Fire': 0, 'Material Deformation': 0, 'Use of Device Problem': 0, 'Under-Sensing': 0, 'Inappropriate/Inadequate Shock/Stimulation': 0, 'Insufficient Flow or Under Infusion': 0, 'Unintended Movement': 0, 'Failure to Capture': 0, 'Filling Problem': 0, 'Contamination': 0, 'Positioning Problem': 0, 'Migration or Expulsion of Device': 0, 'Loss of or Failure to Bond': 0, 'Activation, Positioning or SeparationProblem': 0, 'False Alarm': 0, 'Output Problem': 0, 'Computer Software Problem': 0, 'Positioning Failure': 0, 'Difficult to Remove': 0, 'Improper or Incorrect Procedure or Method': 0, 'Failure to Cycle': 0, 'Device-Device Incompatibility': 0, 'Failure to Read Input Signal': 0, 'Mechanics Altered': 0, 'Unable to Obtain Readings': 0, 'Failure of Device to Self-Test': 0, 'Difficult to Insert': 0, 'Naturally Worn': 0, 'Deformation Due to Compressive Stress': 0, 'Excess Flow or Over-Infusion': 0, 'Data Problem': 0, 'Impedance Problem': 0, 'Protective Measures Problem': 0, 'Overheating of Device': 0, 'Infusion or Flow Problem': 0, 'Unexpected Shutdown': 0, 'Inappropriate or Unexpected Reset': 0, 'Mechanical Jam': 0, 'Low impedance': 0, 'High Test Results': 0, 'Pacing Problem': 0, 'Misassembled': 0, 'Defective Component': 0, 'Inadequacy of Device Shape and/or Size': 0, 'Unexpected Therapeutic Results': 0, 'Device Markings/Labelling Problem': 0, 'Unintended Application Program Shut Down': 0, 'Display Difficult to Read': 0, 'Loose or Intermittent Connection': 0, 'Application Program Freezes, Becomes Nonfunctional': 0, 'Visual Prompts will not Clear': 0, 'Material Split, Cut or Torn': 0, 'Failure to Advance': 0, 'Defective Alarm': 0, 'Difficult to Open or Close': 0, 'Failure to Calibrate': 0, 'Failure to Form Staple': 0, 'Noise, Audible': 0, 'Entrapment of Device': 0, 'Failure to Deliver Energy': 0, 'Failure to Charge': 0, 'Energy Output Problem': 0, 'Disconnection': 0, 'Failure to Deliver': 0, 'Failure to Cut': 0, 'Retraction Problem': 0, 'Poor Quality Image': 0, 'Priming Problem': 0, 'Capturing Problem': 0, 'Material Puncture/Hole': 0, 'Off-Label Use': 0, 'Degraded': 0, 'Suction Problem': 0, 'No Audible Alarm': 0, 'Loosening of Implant Not Related to Bone-Ingrowth': 0, 'Date/Time-Related Software Problem': 0, 'Material Fragmentation': 0, 'Gas Leak': 0, 'Failure to Interrogate': 0, 'False Positive Result': 0, 'Improper Flow or Infusion': 0, 'Deflation Problem': 0, 'Component Missing': 0, 'Calibration Problem': 0, 'Low Test Results': 0, 'Burst Container or Vessel': 0, 'Inflation Problem': 0, 'Non Reproducible Results': 0, 'Microbial Contamination of Device': 0, 'Misfire': 0, 'Unstable': 0, 'Peeled/Delaminated': 0, 'Pumping Problem': 0, 'Loss of Data': 0, 'Partial Blockage': 0, 'Human-Device Interface Problem': 0, 'Difficult to Advance': 0, 'Device Contaminated During Manufacture or Shipping': 0, 'Electromagnetic Interference': 0, 'Activation Failure': 0, 'Temperature Problem': 0, 'Volume Accuracy Problem': 0, 'Contamination /Decontamination Problem': 0, 'Pressure Problem': 0, 'Structural Problem': 0, 'Gradient Increase': 0, 'Product Quality Problem': 0, 'Decreased Sensitivity': 0, 'False Negative Result': 0, 'Packaging Problem': 0, 'Complete Loss of Power': 0, 'Device Slipped': 0, 'Excessive Heating': 0, 'Unintended Collision': 0, 'Biocompatibility': 0, 'Fitting Problem': 0, 'Premature Activation': 0, 'Complete Blockage': 0, 'Separation Failure': 0, 'Collapse': 0, 'Thermal Decomposition of Device': 0, 'Difficult or Delayed Activation': 0, 'Dull, Blunt': 0, 'Output below Specifications': 0, 'Delivered as Unsterile Product': 0, 'Inaccurate Delivery': 0, 'No Flow': 0, 'Nonstandard Device': 0, 'Incomplete Coaptation': 0, 'Inadequate User Interface': 0, 'Material Discolored': 0, 'Failure to Align': 0, 'High Readings': 0, 'Decrease in Pressure': 0, 'Scratched Material': 0, 'Material Frayed': 0, 'Computer Operating System Problem': 0, 'Failure to Deliver Shock/Stimulation': 0, 'Low Readings': 0, 'Therapy Delivered to Incorrect Body Area': 0, 'Reset Problem': 0, 'Unsealed Device Packaging': 0, 'Device Fell': 0, 'Perivalvular Leak': 0, 'Short Fill': 0, 'Premature Elective Replacement Indicator': 0, 'Material Erosion': 0, 'Environmental Compatibility Problem': 0, 'Delayed Charge Time': 0, 'Fail-Safe Did Not Operate': 0, 'Activation Problem': 0, 'Device Damaged by Another Device': 0, 'Intermittent Continuity': 0, 'Defibrillation/Stimulation Problem': 0, 'Unintended System Motion': 0, 'Unstable Capture Threshold': 0, 'Optical Problem': 0, 'Intermittent Loss of Power': 0, 'Stretched': 0, 'Expulsion': 0, 'Manufacturing, Packaging or Shipping Problem': 0, 'Difficult or Delayed Positioning': 0, 'Electromagnetic Compatibility Problem': 0, 'Restricted Flow rate': 0, 'No Audible Prompt/Feedback': 0, 'Tear, Rip or Hole in Device Packaging': 0, 'Vibration': 0, 'Material Protrusion/Extrusion': 0, 'Device Tipped Over': 0, 'Intermittent Capture': 0, 'Premature Separation': 0, 'Image Display Error/Artifact': 0, 'Calcified': 0, 'Application Program Version or Upgrade Problem': 0, 'Inaccurate Flow Rate': 0, 'Loss of Power': 0, 'Illegible Information': 0, 'Smoking': 0, 'Application Program Problem': 0, 'Misconnection': 0, 'Failure to Analyze Signal': 0, 'Erratic or Intermittent Display': 0, 'Firing Problem': 0, 'Device Appears to Trigger Rejection': 0, 'Failure to Recalibrate': 0, 'Suction Failure': 0, 'Device Damaged Prior to Use': 0, 'Backflow': 0, 'Failure to Pump': 0, 'Insufficient Cooling': 0, 'Self-Activation or Keying': 0, 'Electrical Power Problem': 0, 'Failure to Obtain Sample': 0, 'Unraveled Material': 0, 'Insufficient Heating': 0, 'Failure to Infuse': 0, 'Decreased Pump Speed': 0, 'Ambient Noise Problem': 0, 'Coagulation in Device or Device Ingredient': 0, 'Low Sensing Threshold': 0, 'Device Handling Problem': 0, 'Gas Output Problem': 0, 'Melted': 0, 'Pacemaker Found in Back-Up Mode': 0, 'Device Difficult to Setup or Prepare': 0, 'Flaked': 0, 'Overfill': 0, 'Audible Prompt/Feedback Problem': 0, 'Intermittent Communication Failure': 0, 'Unintended Ejection': 0, 'Device Remains Activated': 0, 'Separation Problem': 0, 'Pocket Stimulation': 0, 'Incorrect Interpretation of Signal': 0, 'Sharp Edges': 0, 'Device Emits Odor': 0, 'Electrical Shorting': 0, 'Device Reprocessing Problem': 0, 'Fire': 0, 'No Pacing': 0, 'Increase in Pressure': 0, 'Misfocusing': 0, 'Chemical Problem': 0, 'Free or Unrestricted Flow': 0, 'Missing Test Results': 0, 'Sparking': 0, 'Alarm Not Visible': 0, 'Failure to Disconnect': 0, 'Compatibility Problem': 0, 'Material Too Rigid or Stiff': 0, 'Material Disintegration': 0, 'Decrease in Suction': 0, 'Component or Accessory Incompatibility': 0, 'Improper Chemical Reaction': 0, 'Failure to Auto Stop': 0, 'Failure to Convert Rhythm': 0, 'Device Contamination with Body Fluid': 0, 'Inaudible or Unclear Audible Prompt/Feedback': 0, 'Low Audible Alarm': 0, 'Gel Leak': 0, 'Component Misassembled': 0, 'Arcing': 0, 'Failure to Run on Battery': 0, 'Difficult or Delayed Separation': 0, 'Inability to Auto-Fill': 0, 'Operating System Becomes Nonfunctional': 0, 'Incomplete or Inadequate Connection': 0, 'Grounding Malfunction': 0, 'Shipping Damage or Problem': 0, 'Interrogation Problem': 0, 'Failure to Prime': 0, 'Failure to Shut Off': 0, 'Fail-Safe Problem': 0, 'Failure to Eject': 0, 'Particulates': 0, 'Material Perforation': 0, 'Sensing Intermittently': 0, 'Inaccurate Synchronization': 0, 'Operating System Version or Upgrade Problem': 0, 'Intermittent Energy Output': 0, 'Failure to Select Signal': 0, 'Missing Information': 0, 'Ejection Problem': 0, 'Labelling, Instructions for Use or Training Problem': 0, 'Difficult to Fold, Unfold or Collapse': 0, 'Solder Joint Fracture': 0, 'Unintended Electrical Shock': 0, 'Device Misassembled During Manufacturing /Shipping': 0, 'Dent in Material': 0, 'Failure to Unfold or Unwrap': 0, 'No Pressure': 0, 'Material Opacification': 0, 'Key or Button Unresponsive/not Working': 0, 'Difficult to Open or Remove Packaging Material': 0, 'Explosion': 0, 'Difficult to Flush': 0, 'Tidal Volume Fluctuations': 0, 'Patient Data Problem': 0, 'Application Program Problem: Dose Calculation Error': 0, 'Expiration Date Error': 0, 'Material Too Soft/Flexible': 0, 'Component Incompatible': 0, 'Inadequate Filtration Process': 0, 'Failure to Clean Adequately': 0, 'Unintended Power Up': 0, 'Telemetry Discrepancy': 0, 'Failure to Fold': 0, 'Increase in Suction': 0, 'Environmental Particulates': 0, 'Accessory Incompatible': 0, 'Material Invagination': 0, 'Filtration Problem': 0, 'Problem with Software Installation': 0, 'Blocked Connection': 0, 'Application Program Problem: Parameter Calculation Error': 0, 'Use of Incorrect Control Settings': 0, 'Inability to Irrigate': 0, 'Inaccurate Information': 0, 'Moisture Damage': 0, 'Misassembly by Users': 0, 'Device Ingredient or Reagent Problem': 0, 'Pacing Intermittently': 0, 'Inadequate Ultra Filtration': 0, 'Problem with Sterilization': 0, 'Air/Gas in Device': 0, 'Arcing of Electrodes': 0, 'Output above Specifications': 0, 'Failure to Zero': 0, 'Image Orientation Incorrect': 0, 'Failure to Transmit Record': 0, 'Fungus in Device Environment': 0, 'Pitted': 0, 'Flushing Problem': 0, 'Inadequate Instructions for Healthcare Professional': 0, 'Incomplete or Missing Packaging': 0, 'Failure to Reset': 0, 'Electro-Static Discharge': 0, 'Residue After Decontamination': 0, 'Pacing Asynchronously': 0, 'Failure to Discharge': 0, 'Installation-Related Problem': 0, 'Optical Distortion': 0, 'Failure to Conduct': 0, 'Program or Algorithm Execution Problem': 0, 'Reflux within Device': 0, 'Battery Problem: High Impedance': 0, 'Flare or Flash': 0, 'Inadequate or Insufficient Training': 0, 'Unclear Information': 0, 'Medical Gas Supply Problem': 0, 'Contamination of Device Ingredient or Reagent': 0, 'Application Program Problem: Medication Error': 0, 'Computer System Security Problem': 0, 'No Tactile Prompts/Feedback': 0, 'Program or Algorithm Execution Failure': 0, 'Inappropriate Waveform': 0, 'Overcorrection': 0, 'High Sensing Threshold': 0, 'Ambient Temperature Problem': 0, 'Continuous Firing': 0, 'Inappropriate Tactile Prompt/Feedback': 0, 'Unauthorized Access to Computer System': 0, 'Failure to Deflate': 0, 'Power Conditioning Problem': 0, 'Precipitate in Device or Device Ingredient': 0, 'No Visual Prompts/Feedback': 0, 'Radiation Output Problem': 0, 'Increased Pump Speed': 0, 'Radiation Output Failure': 0, 'Tactile Prompts/Feedback': 0, 'Unexpected/Unintended Radiation Output': 0, 'Inappropriate Audible Prompt/Feedback': 0, 'Biofilm coating in Device': 0, 'Battery Problem: Low Impedance': 0, 'Fogging': 0, 'Electrical Overstress': 0, 'Failure to Disinfect': 0, 'Measurement System Incompatibility': 0, 'Misassembly During Maintenance/Repair': 0, 'Unintended Deflation': 0, 'Optical Obstruction': 0, 'Decoupling': 0, 'Delayed Alarm': 0, 'Loss of Threshold': 0, 'Excessive Cooling': 0, 'Difficult to Interrogate': 0, 'Pacing Inadequately': 0, 'No Fail-Safe Mechanism': 0, 'Application Network Problem': 0, 'Optical Discoloration': 0, 'Inadequate Lubrication': 0, 'Arcing at Paddles': 0, 'Misassembled During Installation': 0, 'Lack of Maintenance Documentation or Guidelines': 0, 'Undercorrection': 0, 'Radiation Overexposure': 0, 'Inadequate Instructions for Non-Healthcare Professional': 0, 'Aborted Charge': 0, 'Clumping in Device or Device Ingredient': 0, 'Intermittent Shock/Stimulation': 0, 'Application Security Problem': 0, 'Fumes or Vapors': 0, 'Device Difficult to Maintain': 0, 'Optical Decentration': 0, 'Thickening of Material': 0, 'Radiofrequency Interference (RFI)': 0, 'Erratic Results': 0, 'Ventilation Problem in Device Environment': 0, 'Increased Sensitivity': 0, 'Intermittent Infusion': 0, 'Emergency Power Failure': 0, 'Delayed Program or Algorithm Execution': 0, 'Data Back-Up Problem': 0, 'Device Unsafe to Use in Environment': 0, 'Radiation Underexposure': 0, 'Failure to Back-Up': 0, 'Intermittent Program or Algorithm Execution': 0, 'Unintended Compatibility': 0, 'Cross Reactivity': 0, 'Premature Indicator Activation': 0, 'Application Program Problem: Power Calculation Error': 0, 'Capacitative Coupling': 0, 'Radiation Leak': 0, 'Unexpected Color': 0, 'Device Issue': 0, 'Incomplete or Inadequate Priming': 0, 'Energy Spectrum Incorrect': 0, 'Device Contaminated at the User Facility': 0, 'Problem with Removal of Enzymatic Cleaner': 0, 'High pH': 0, 'Malfunction': 0, 'Failure to Convert to Back-Up': 0, 'Component(s), broken': 0, 'Insulation failure': 0, 'Inaccurate Dispensing': 0, 'Shielding Failure': 0, 'Low pH': 0}, 'ENDOSSEOUS DENTAL IMPLANT': {'Adverse Event Without Identified Device or Use Problem': 0, 'Failure to Osseointegrate': 0, 'Patient Device Interaction Problem': 0, 'Wireless Communication Problem': 0, 'No Device Output': 0, 'Break': 0, 'Loss of Osseointegration': 0, 'Insufficient Information': 0, 'Crack': 0, 'Power Problem': 0, 'Mechanical Problem': 0, 'Appropriate Term/Code Not Available': 0, 'Device Displays Incorrect Message': 0, 'Imprecision': 0, 'Connection Problem': 0, 'No Apparent Adverse Event': 0, 'Fluid Leak': 0, 'Obstruction of Flow': 0, 'Material Rupture': 0, 'Battery Problem': 0, 'Pumping Stopped': 0, 'Incorrect, Inadequate or Imprecise Resultor Readings': 0, 'No Display/Image': 0, 'Fracture': 0, 'Device Difficult to Program or Calibrate': 0, 'Display or Visual Feedback Problem': 0, 'Over-Sensing': 0, 'Detachment of Device or Device Component': 0, 'Defective Device': 0, 'Device Sensing Problem': 0, 'Leak/Splash': 0, 'Device Dislodged or Dislocated': 0, 'Physical Resistance/Sticking': 0, 'Device Alarm System': 0, 'Failure to Power Up': 0, 'High impedance': 0, 'Electrical /Electronic Property Problem': 0, 'Communication or Transmission Problem': 0, 'Charging Problem': 0, 'Corroded': 0, 'Material Twisted/Bent': 0, 'Malposition of Device': 0, 'Circuit Failure': 0, 'Patient-Device Incompatibility': 0, 'Incorrect Measurement': 0, 'Signal Artifact/Noise': 0, 'Therapeutic or Diagnostic Output Failure': 0, 'Material Integrity Problem': 0, 'Migration': 0, 'Failure to Sense': 0, 'High Capture Threshold': 0, 'Premature Discharge of Battery': 0, 'Device Contamination with Chemical or Other Material': 0, 'Material Separation': 0, 'Premature End-of-Life Indicator': 0, 'Moisture or Humidity Problem': 0, 'Osseointegration Problem': 0, 'Failure to Fire': 0, 'Material Deformation': 0, 'Use of Device Problem': 0, 'Under-Sensing': 0, 'Inappropriate/Inadequate Shock/Stimulation': 0, 'Insufficient Flow or Under Infusion': 0, 'Unintended Movement': 0, 'Failure to Capture': 0, 'Filling Problem': 0, 'Contamination': 0, 'Positioning Problem': 0, 'Migration or Expulsion of Device': 0, 'Loss of or Failure to Bond': 0, 'Activation, Positioning or SeparationProblem': 0, 'False Alarm': 0, 'Output Problem': 0, 'Computer Software Problem': 0, 'Positioning Failure': 0, 'Difficult to Remove': 0, 'Improper or Incorrect Procedure or Method': 0, 'Failure to Cycle': 0, 'Device-Device Incompatibility': 0, 'Failure to Read Input Signal': 0, 'Mechanics Altered': 0, 'Unable to Obtain Readings': 0, 'Failure of Device to Self-Test': 0, 'Difficult to Insert': 0, 'Naturally Worn': 0, 'Deformation Due to Compressive Stress': 0, 'Excess Flow or Over-Infusion': 0, 'Data Problem': 0, 'Impedance Problem': 0, 'Protective Measures Problem': 0, 'Overheating of Device': 0, 'Infusion or Flow Problem': 0, 'Unexpected Shutdown': 0, 'Inappropriate or Unexpected Reset': 0, 'Mechanical Jam': 0, 'Low impedance': 0, 'High Test Results': 0, 'Pacing Problem': 0, 'Misassembled': 0, 'Defective Component': 0, 'Inadequacy of Device Shape and/or Size': 0, 'Unexpected Therapeutic Results': 0, 'Device Markings/Labelling Problem': 0, 'Unintended Application Program Shut Down': 0, 'Display Difficult to Read': 0, 'Loose or Intermittent Connection': 0, 'Application Program Freezes, Becomes Nonfunctional': 0, 'Visual Prompts will not Clear': 0, 'Material Split, Cut or Torn': 0, 'Failure to Advance': 0, 'Defective Alarm': 0, 'Difficult to Open or Close': 0, 'Failure to Calibrate': 0, 'Failure to Form Staple': 0, 'Noise, Audible': 0, 'Entrapment of Device': 0, 'Failure to Deliver Energy': 0, 'Failure to Charge': 0, 'Energy Output Problem': 0, 'Disconnection': 0, 'Failure to Deliver': 0, 'Failure to Cut': 0, 'Retraction Problem': 0, 'Poor Quality Image': 0, 'Priming Problem': 0, 'Capturing Problem': 0, 'Material Puncture/Hole': 0, 'Off-Label Use': 0, 'Degraded': 0, 'Suction Problem': 0, 'No Audible Alarm': 0, 'Loosening of Implant Not Related to Bone-Ingrowth': 0, 'Date/Time-Related Software Problem': 0, 'Material Fragmentation': 0, 'Gas Leak': 0, 'Failure to Interrogate': 0, 'False Positive Result': 0, 'Improper Flow or Infusion': 0, 'Deflation Problem': 0, 'Component Missing': 0, 'Calibration Problem': 0, 'Low Test Results': 0, 'Burst Container or Vessel': 0, 'Inflation Problem': 0, 'Non Reproducible Results': 0, 'Microbial Contamination of Device': 0, 'Misfire': 0, 'Unstable': 0, 'Peeled/Delaminated': 0, 'Pumping Problem': 0, 'Loss of Data': 0, 'Partial Blockage': 0, 'Human-Device Interface Problem': 0, 'Difficult to Advance': 0, 'Device Contaminated During Manufacture or Shipping': 0, 'Electromagnetic Interference': 0, 'Activation Failure': 0, 'Temperature Problem': 0, 'Volume Accuracy Problem': 0, 'Contamination /Decontamination Problem': 0, 'Pressure Problem': 0, 'Structural Problem': 0, 'Gradient Increase': 0, 'Product Quality Problem': 0, 'Decreased Sensitivity': 0, 'False Negative Result': 0, 'Packaging Problem': 0, 'Complete Loss of Power': 0, 'Device Slipped': 0, 'Excessive Heating': 0, 'Unintended Collision': 0, 'Biocompatibility': 0, 'Fitting Problem': 0, 'Premature Activation': 0, 'Complete Blockage': 0, 'Separation Failure': 0, 'Collapse': 0, 'Thermal Decomposition of Device': 0, 'Difficult or Delayed Activation': 0, 'Dull, Blunt': 0, 'Output below Specifications': 0, 'Delivered as Unsterile Product': 0, 'Inaccurate Delivery': 0, 'No Flow': 0, 'Nonstandard Device': 0, 'Incomplete Coaptation': 0, 'Inadequate User Interface': 0, 'Material Discolored': 0, 'Failure to Align': 0, 'High Readings': 0, 'Decrease in Pressure': 0, 'Scratched Material': 0, 'Material Frayed': 0, 'Computer Operating System Problem': 0, 'Failure to Deliver Shock/Stimulation': 0, 'Low Readings': 0, 'Therapy Delivered to Incorrect Body Area': 0, 'Reset Problem': 0, 'Unsealed Device Packaging': 0, 'Device Fell': 0, 'Perivalvular Leak': 0, 'Short Fill': 0, 'Premature Elective Replacement Indicator': 0, 'Material Erosion': 0, 'Environmental Compatibility Problem': 0, 'Delayed Charge Time': 0, 'Fail-Safe Did Not Operate': 0, 'Activation Problem': 0, 'Device Damaged by Another Device': 0, 'Intermittent Continuity': 0, 'Defibrillation/Stimulation Problem': 0, 'Unintended System Motion': 0, 'Unstable Capture Threshold': 0, 'Optical Problem': 0, 'Intermittent Loss of Power': 0, 'Stretched': 0, 'Expulsion': 0, 'Manufacturing, Packaging or Shipping Problem': 0, 'Difficult or Delayed Positioning': 0, 'Electromagnetic Compatibility Problem': 0, 'Restricted Flow rate': 0, 'No Audible Prompt/Feedback': 0, 'Tear, Rip or Hole in Device Packaging': 0, 'Vibration': 0, 'Material Protrusion/Extrusion': 0, 'Device Tipped Over': 0, 'Intermittent Capture': 0, 'Premature Separation': 0, 'Image Display Error/Artifact': 0, 'Calcified': 0, 'Application Program Version or Upgrade Problem': 0, 'Inaccurate Flow Rate': 0, 'Loss of Power': 0, 'Illegible Information': 0, 'Smoking': 0, 'Application Program Problem': 0, 'Misconnection': 0, 'Failure to Analyze Signal': 0, 'Erratic or Intermittent Display': 0, 'Firing Problem': 0, 'Device Appears to Trigger Rejection': 0, 'Failure to Recalibrate': 0, 'Suction Failure': 0, 'Device Damaged Prior to Use': 0, 'Backflow': 0, 'Failure to Pump': 0, 'Insufficient Cooling': 0, 'Self-Activation or Keying': 0, 'Electrical Power Problem': 0, 'Failure to Obtain Sample': 0, 'Unraveled Material': 0, 'Insufficient Heating': 0, 'Failure to Infuse': 0, 'Decreased Pump Speed': 0, 'Ambient Noise Problem': 0, 'Coagulation in Device or Device Ingredient': 0, 'Low Sensing Threshold': 0, 'Device Handling Problem': 0, 'Gas Output Problem': 0, 'Melted': 0, 'Pacemaker Found in Back-Up Mode': 0, 'Device Difficult to Setup or Prepare': 0, 'Flaked': 0, 'Overfill': 0, 'Audible Prompt/Feedback Problem': 0, 'Intermittent Communication Failure': 0, 'Unintended Ejection': 0, 'Device Remains Activated': 0, 'Separation Problem': 0, 'Pocket Stimulation': 0, 'Incorrect Interpretation of Signal': 0, 'Sharp Edges': 0, 'Device Emits Odor': 0, 'Electrical Shorting': 0, 'Device Reprocessing Problem': 0, 'Fire': 0, 'No Pacing': 0, 'Increase in Pressure': 0, 'Misfocusing': 0, 'Chemical Problem': 0, 'Free or Unrestricted Flow': 0, 'Missing Test Results': 0, 'Sparking': 0, 'Alarm Not Visible': 0, 'Failure to Disconnect': 0, 'Compatibility Problem': 0, 'Material Too Rigid or Stiff': 0, 'Material Disintegration': 0, 'Decrease in Suction': 0, 'Component or Accessory Incompatibility': 0, 'Improper Chemical Reaction': 0, 'Failure to Auto Stop': 0, 'Failure to Convert Rhythm': 0, 'Device Contamination with Body Fluid': 0, 'Inaudible or Unclear Audible Prompt/Feedback': 0, 'Low Audible Alarm': 0, 'Gel Leak': 0, 'Component Misassembled': 0, 'Arcing': 0, 'Failure to Run on Battery': 0, 'Difficult or Delayed Separation': 0, 'Inability to Auto-Fill': 0, 'Operating System Becomes Nonfunctional': 0, 'Incomplete or Inadequate Connection': 0, 'Grounding Malfunction': 0, 'Shipping Damage or Problem': 0, 'Interrogation Problem': 0, 'Failure to Prime': 0, 'Failure to Shut Off': 0, 'Fail-Safe Problem': 0, 'Failure to Eject': 0, 'Particulates': 0, 'Material Perforation': 0, 'Sensing Intermittently': 0, 'Inaccurate Synchronization': 0, 'Operating System Version or Upgrade Problem': 0, 'Intermittent Energy Output': 0, 'Failure to Select Signal': 0, 'Missing Information': 0, 'Ejection Problem': 0, 'Labelling, Instructions for Use or Training Problem': 0, 'Difficult to Fold, Unfold or Collapse': 0, 'Solder Joint Fracture': 0, 'Unintended Electrical Shock': 0, 'Device Misassembled During Manufacturing /Shipping': 0, 'Dent in Material': 0, 'Failure to Unfold or Unwrap': 0, 'No Pressure': 0, 'Material Opacification': 0, 'Key or Button Unresponsive/not Working': 0, 'Difficult to Open or Remove Packaging Material': 0, 'Explosion': 0, 'Difficult to Flush': 0, 'Tidal Volume Fluctuations': 0, 'Patient Data Problem': 0, 'Application Program Problem: Dose Calculation Error': 0, 'Expiration Date Error': 0, 'Material Too Soft/Flexible': 0, 'Component Incompatible': 0, 'Inadequate Filtration Process': 0, 'Failure to Clean Adequately': 0, 'Unintended Power Up': 0, 'Telemetry Discrepancy': 0, 'Failure to Fold': 0, 'Increase in Suction': 0, 'Environmental Particulates': 0, 'Accessory Incompatible': 0, 'Material Invagination': 0, 'Filtration Problem': 0, 'Problem with Software Installation': 0, 'Blocked Connection': 0, 'Application Program Problem: Parameter Calculation Error': 0, 'Use of Incorrect Control Settings': 0, 'Inability to Irrigate': 0, 'Inaccurate Information': 0, 'Moisture Damage': 0, 'Misassembly by Users': 0, 'Device Ingredient or Reagent Problem': 0, 'Pacing Intermittently': 0, 'Inadequate Ultra Filtration': 0, 'Problem with Sterilization': 0, 'Air/Gas in Device': 0, 'Arcing of Electrodes': 0, 'Output above Specifications': 0, 'Failure to Zero': 0, 'Image Orientation Incorrect': 0, 'Failure to Transmit Record': 0, 'Fungus in Device Environment': 0, 'Pitted': 0, 'Flushing Problem': 0, 'Inadequate Instructions for Healthcare Professional': 0, 'Incomplete or Missing Packaging': 0, 'Failure to Reset': 0, 'Electro-Static Discharge': 0, 'Residue After Decontamination': 0, 'Pacing Asynchronously': 0, 'Failure to Discharge': 0, 'Installation-Related Problem': 0, 'Optical Distortion': 0, 'Failure to Conduct': 0, 'Program or Algorithm Execution Problem': 0, 'Reflux within Device': 0, 'Battery Problem: High Impedance': 0, 'Flare or Flash': 0, 'Inadequate or Insufficient Training': 0, 'Unclear Information': 0, 'Medical Gas Supply Problem': 0, 'Contamination of Device Ingredient or Reagent': 0, 'Application Program Problem: Medication Error': 0, 'Computer System Security Problem': 0, 'No Tactile Prompts/Feedback': 0, 'Program or Algorithm Execution Failure': 0, 'Inappropriate Waveform': 0, 'Overcorrection': 0, 'High Sensing Threshold': 0, 'Ambient Temperature Problem': 0, 'Continuous Firing': 0, 'Inappropriate Tactile Prompt/Feedback': 0, 'Unauthorized Access to Computer System': 0, 'Failure to Deflate': 0, 'Power Conditioning Problem': 0, 'Precipitate in Device or Device Ingredient': 0, 'No Visual Prompts/Feedback': 0, 'Radiation Output Problem': 0, 'Increased Pump Speed': 0, 'Radiation Output Failure': 0, 'Tactile Prompts/Feedback': 0, 'Unexpected/Unintended Radiation Output': 0, 'Inappropriate Audible Prompt/Feedback': 0, 'Biofilm coating in Device': 0, 'Battery Problem: Low Impedance': 0, 'Fogging': 0, 'Electrical Overstress': 0, 'Failure to Disinfect': 0, 'Measurement System Incompatibility': 0, 'Misassembly During Maintenance/Repair': 0, 'Unintended Deflation': 0, 'Optical Obstruction': 0, 'Decoupling': 0, 'Delayed Alarm': 0, 'Loss of Threshold': 0, 'Excessive Cooling': 0, 'Difficult to Interrogate': 0, 'Pacing Inadequately': 0, 'No Fail-Safe Mechanism': 0, 'Application Network Problem': 0, 'Optical Discoloration': 0, 'Inadequate Lubrication': 0, 'Arcing at Paddles': 0, 'Misassembled During Installation': 0, 'Lack of Maintenance Documentation or Guidelines': 0, 'Undercorrection': 0, 'Radiation Overexposure': 0, 'Inadequate Instructions for Non-Healthcare Professional': 0, 'Aborted Charge': 0, 'Clumping in Device or Device Ingredient': 0, 'Intermittent Shock/Stimulation': 0, 'Application Security Problem': 0, 'Fumes or Vapors': 0, 'Device Difficult to Maintain': 0, 'Optical Decentration': 0, 'Thickening of Material': 0, 'Radiofrequency Interference (RFI)': 0, 'Erratic Results': 0, 'Ventilation Problem in Device Environment': 0, 'Increased Sensitivity': 0, 'Intermittent Infusion': 0, 'Emergency Power Failure': 0, 'Delayed Program or Algorithm Execution': 0, 'Data Back-Up Problem': 0, 'Device Unsafe to Use in Environment': 0, 'Radiation Underexposure': 0, 'Failure to Back-Up': 0, 'Intermittent Program or Algorithm Execution': 0, 'Unintended Compatibility': 0, 'Cross Reactivity': 0, 'Premature Indicator Activation': 0, 'Application Program Problem: Power Calculation Error': 0, 'Capacitative Coupling': 0, 'Radiation Leak': 0, 'Unexpected Color': 0, 'Device Issue': 0, 'Incomplete or Inadequate Priming': 0, 'Energy Spectrum Incorrect': 0, 'Device Contaminated at the User Facility': 0, 'Problem with Removal of Enzymatic Cleaner': 0, 'High pH': 0, 'Malfunction': 0, 'Failure to Convert to Back-Up': 0, 'Component(s), broken': 0, 'Insulation failure': 0, 'Inaccurate Dispensing': 0, 'Shielding Failure': 0, 'Low pH': 0}, 'PUMP, INFUSION': {'Adverse Event Without Identified Device or Use Problem': 0, 'Failure to Osseointegrate': 0, 'Patient Device Interaction Problem': 0, 'Wireless Communication Problem': 0, 'No Device Output': 0, 'Break': 0, 'Loss of Osseointegration': 0, 'Insufficient Information': 0, 'Crack': 0, 'Power Problem': 0, 'Mechanical Problem': 0, 'Appropriate Term/Code Not Available': 0, 'Device Displays Incorrect Message': 0, 'Imprecision': 0, 'Connection Problem': 0, 'No Apparent Adverse Event': 0, 'Fluid Leak': 0, 'Obstruction of Flow': 0, 'Material Rupture': 0, 'Battery Problem': 0, 'Pumping Stopped': 0, 'Incorrect, Inadequate or Imprecise Resultor Readings': 0, 'No Display/Image': 0, 'Fracture': 0, 'Device Difficult to Program or Calibrate': 0, 'Display or Visual Feedback Problem': 0, 'Over-Sensing': 0, 'Detachment of Device or Device Component': 0, 'Defective Device': 0, 'Device Sensing Problem': 0, 'Leak/Splash': 0, 'Device Dislodged or Dislocated': 0, 'Physical Resistance/Sticking': 0, 'Device Alarm System': 0, 'Failure to Power Up': 0, 'High impedance': 0, 'Electrical /Electronic Property Problem': 0, 'Communication or Transmission Problem': 0, 'Charging Problem': 0, 'Corroded': 0, 'Material Twisted/Bent': 0, 'Malposition of Device': 0, 'Circuit Failure': 0, 'Patient-Device Incompatibility': 0, 'Incorrect Measurement': 0, 'Signal Artifact/Noise': 0, 'Therapeutic or Diagnostic Output Failure': 0, 'Material Integrity Problem': 0, 'Migration': 0, 'Failure to Sense': 0, 'High Capture Threshold': 0, 'Premature Discharge of Battery': 0, 'Device Contamination with Chemical or Other Material': 0, 'Material Separation': 0, 'Premature End-of-Life Indicator': 0, 'Moisture or Humidity Problem': 0, 'Osseointegration Problem': 0, 'Failure to Fire': 0, 'Material Deformation': 0, 'Use of Device Problem': 0, 'Under-Sensing': 0, 'Inappropriate/Inadequate Shock/Stimulation': 0, 'Insufficient Flow or Under Infusion': 0, 'Unintended Movement': 0, 'Failure to Capture': 0, 'Filling Problem': 0, 'Contamination': 0, 'Positioning Problem': 0, 'Migration or Expulsion of Device': 0, 'Loss of or Failure to Bond': 0, 'Activation, Positioning or SeparationProblem': 0, 'False Alarm': 0, 'Output Problem': 0, 'Computer Software Problem': 0, 'Positioning Failure': 0, 'Difficult to Remove': 0, 'Improper or Incorrect Procedure or Method': 0, 'Failure to Cycle': 0, 'Device-Device Incompatibility': 0, 'Failure to Read Input Signal': 0, 'Mechanics Altered': 0, 'Unable to Obtain Readings': 0, 'Failure of Device to Self-Test': 0, 'Difficult to Insert': 0, 'Naturally Worn': 0, 'Deformation Due to Compressive Stress': 0, 'Excess Flow or Over-Infusion': 0, 'Data Problem': 0, 'Impedance Problem': 0, 'Protective Measures Problem': 0, 'Overheating of Device': 0, 'Infusion or Flow Problem': 0, 'Unexpected Shutdown': 0, 'Inappropriate or Unexpected Reset': 0, 'Mechanical Jam': 0, 'Low impedance': 0, 'High Test Results': 0, 'Pacing Problem': 0, 'Misassembled': 0, 'Defective Component': 0, 'Inadequacy of Device Shape and/or Size': 0, 'Unexpected Therapeutic Results': 0, 'Device Markings/Labelling Problem': 0, 'Unintended Application Program Shut Down': 0, 'Display Difficult to Read': 0, 'Loose or Intermittent Connection': 0, 'Application Program Freezes, Becomes Nonfunctional': 0, 'Visual Prompts will not Clear': 0, 'Material Split, Cut or Torn': 0, 'Failure to Advance': 0, 'Defective Alarm': 0, 'Difficult to Open or Close': 0, 'Failure to Calibrate': 0, 'Failure to Form Staple': 0, 'Noise, Audible': 0, 'Entrapment of Device': 0, 'Failure to Deliver Energy': 0, 'Failure to Charge': 0, 'Energy Output Problem': 0, 'Disconnection': 0, 'Failure to Deliver': 0, 'Failure to Cut': 0, 'Retraction Problem': 0, 'Poor Quality Image': 0, 'Priming Problem': 0, 'Capturing Problem': 0, 'Material Puncture/Hole': 0, 'Off-Label Use': 0, 'Degraded': 0, 'Suction Problem': 0, 'No Audible Alarm': 0, 'Loosening of Implant Not Related to Bone-Ingrowth': 0, 'Date/Time-Related Software Problem': 0, 'Material Fragmentation': 0, 'Gas Leak': 0, 'Failure to Interrogate': 0, 'False Positive Result': 0, 'Improper Flow or Infusion': 0, 'Deflation Problem': 0, 'Component Missing': 0, 'Calibration Problem': 0, 'Low Test Results': 0, 'Burst Container or Vessel': 0, 'Inflation Problem': 0, 'Non Reproducible Results': 0, 'Microbial Contamination of Device': 0, 'Misfire': 0, 'Unstable': 0, 'Peeled/Delaminated': 0, 'Pumping Problem': 0, 'Loss of Data': 0, 'Partial Blockage': 0, 'Human-Device Interface Problem': 0, 'Difficult to Advance': 0, 'Device Contaminated During Manufacture or Shipping': 0, 'Electromagnetic Interference': 0, 'Activation Failure': 0, 'Temperature Problem': 0, 'Volume Accuracy Problem': 0, 'Contamination /Decontamination Problem': 0, 'Pressure Problem': 0, 'Structural Problem': 0, 'Gradient Increase': 0, 'Product Quality Problem': 0, 'Decreased Sensitivity': 0, 'False Negative Result': 0, 'Packaging Problem': 0, 'Complete Loss of Power': 0, 'Device Slipped': 0, 'Excessive Heating': 0, 'Unintended Collision': 0, 'Biocompatibility': 0, 'Fitting Problem': 0, 'Premature Activation': 0, 'Complete Blockage': 0, 'Separation Failure': 0, 'Collapse': 0, 'Thermal Decomposition of Device': 0, 'Difficult or Delayed Activation': 0, 'Dull, Blunt': 0, 'Output below Specifications': 0, 'Delivered as Unsterile Product': 0, 'Inaccurate Delivery': 0, 'No Flow': 0, 'Nonstandard Device': 0, 'Incomplete Coaptation': 0, 'Inadequate User Interface': 0, 'Material Discolored': 0, 'Failure to Align': 0, 'High Readings': 0, 'Decrease in Pressure': 0, 'Scratched Material': 0, 'Material Frayed': 0, 'Computer Operating System Problem': 0, 'Failure to Deliver Shock/Stimulation': 0, 'Low Readings': 0, 'Therapy Delivered to Incorrect Body Area': 0, 'Reset Problem': 0, 'Unsealed Device Packaging': 0, 'Device Fell': 0, 'Perivalvular Leak': 0, 'Short Fill': 0, 'Premature Elective Replacement Indicator': 0, 'Material Erosion': 0, 'Environmental Compatibility Problem': 0, 'Delayed Charge Time': 0, 'Fail-Safe Did Not Operate': 0, 'Activation Problem': 0, 'Device Damaged by Another Device': 0, 'Intermittent Continuity': 0, 'Defibrillation/Stimulation Problem': 0, 'Unintended System Motion': 0, 'Unstable Capture Threshold': 0, 'Optical Problem': 0, 'Intermittent Loss of Power': 0, 'Stretched': 0, 'Expulsion': 0, 'Manufacturing, Packaging or Shipping Problem': 0, 'Difficult or Delayed Positioning': 0, 'Electromagnetic Compatibility Problem': 0, 'Restricted Flow rate': 0, 'No Audible Prompt/Feedback': 0, 'Tear, Rip or Hole in Device Packaging': 0, 'Vibration': 0, 'Material Protrusion/Extrusion': 0, 'Device Tipped Over': 0, 'Intermittent Capture': 0, 'Premature Separation': 0, 'Image Display Error/Artifact': 0, 'Calcified': 0, 'Application Program Version or Upgrade Problem': 0, 'Inaccurate Flow Rate': 0, 'Loss of Power': 0, 'Illegible Information': 0, 'Smoking': 0, 'Application Program Problem': 0, 'Misconnection': 0, 'Failure to Analyze Signal': 0, 'Erratic or Intermittent Display': 0, 'Firing Problem': 0, 'Device Appears to Trigger Rejection': 0, 'Failure to Recalibrate': 0, 'Suction Failure': 0, 'Device Damaged Prior to Use': 0, 'Backflow': 0, 'Failure to Pump': 0, 'Insufficient Cooling': 0, 'Self-Activation or Keying': 0, 'Electrical Power Problem': 0, 'Failure to Obtain Sample': 0, 'Unraveled Material': 0, 'Insufficient Heating': 0, 'Failure to Infuse': 0, 'Decreased Pump Speed': 0, 'Ambient Noise Problem': 0, 'Coagulation in Device or Device Ingredient': 0, 'Low Sensing Threshold': 0, 'Device Handling Problem': 0, 'Gas Output Problem': 0, 'Melted': 0, 'Pacemaker Found in Back-Up Mode': 0, 'Device Difficult to Setup or Prepare': 0, 'Flaked': 0, 'Overfill': 0, 'Audible Prompt/Feedback Problem': 0, 'Intermittent Communication Failure': 0, 'Unintended Ejection': 0, 'Device Remains Activated': 0, 'Separation Problem': 0, 'Pocket Stimulation': 0, 'Incorrect Interpretation of Signal': 0, 'Sharp Edges': 0, 'Device Emits Odor': 0, 'Electrical Shorting': 0, 'Device Reprocessing Problem': 0, 'Fire': 0, 'No Pacing': 0, 'Increase in Pressure': 0, 'Misfocusing': 0, 'Chemical Problem': 0, 'Free or Unrestricted Flow': 0, 'Missing Test Results': 0, 'Sparking': 0, 'Alarm Not Visible': 0, 'Failure to Disconnect': 0, 'Compatibility Problem': 0, 'Material Too Rigid or Stiff': 0, 'Material Disintegration': 0, 'Decrease in Suction': 0, 'Component or Accessory Incompatibility': 0, 'Improper Chemical Reaction': 0, 'Failure to Auto Stop': 0, 'Failure to Convert Rhythm': 0, 'Device Contamination with Body Fluid': 0, 'Inaudible or Unclear Audible Prompt/Feedback': 0, 'Low Audible Alarm': 0, 'Gel Leak': 0, 'Component Misassembled': 0, 'Arcing': 0, 'Failure to Run on Battery': 0, 'Difficult or Delayed Separation': 0, 'Inability to Auto-Fill': 0, 'Operating System Becomes Nonfunctional': 0, 'Incomplete or Inadequate Connection': 0, 'Grounding Malfunction': 0, 'Shipping Damage or Problem': 0, 'Interrogation Problem': 0, 'Failure to Prime': 0, 'Failure to Shut Off': 0, 'Fail-Safe Problem': 0, 'Failure to Eject': 0, 'Particulates': 0, 'Material Perforation': 0, 'Sensing Intermittently': 0, 'Inaccurate Synchronization': 0, 'Operating System Version or Upgrade Problem': 0, 'Intermittent Energy Output': 0, 'Failure to Select Signal': 0, 'Missing Information': 0, 'Ejection Problem': 0, 'Labelling, Instructions for Use or Training Problem': 0, 'Difficult to Fold, Unfold or Collapse': 0, 'Solder Joint Fracture': 0, 'Unintended Electrical Shock': 0, 'Device Misassembled During Manufacturing /Shipping': 0, 'Dent in Material': 0, 'Failure to Unfold or Unwrap': 0, 'No Pressure': 0, 'Material Opacification': 0, 'Key or Button Unresponsive/not Working': 0, 'Difficult to Open or Remove Packaging Material': 0, 'Explosion': 0, 'Difficult to Flush': 0, 'Tidal Volume Fluctuations': 0, 'Patient Data Problem': 0, 'Application Program Problem: Dose Calculation Error': 0, 'Expiration Date Error': 0, 'Material Too Soft/Flexible': 0, 'Component Incompatible': 0, 'Inadequate Filtration Process': 0, 'Failure to Clean Adequately': 0, 'Unintended Power Up': 0, 'Telemetry Discrepancy': 0, 'Failure to Fold': 0, 'Increase in Suction': 0, 'Environmental Particulates': 0, 'Accessory Incompatible': 0, 'Material Invagination': 0, 'Filtration Problem': 0, 'Problem with Software Installation': 0, 'Blocked Connection': 0, 'Application Program Problem: Parameter Calculation Error': 0, 'Use of Incorrect Control Settings': 0, 'Inability to Irrigate': 0, 'Inaccurate Information': 0, 'Moisture Damage': 0, 'Misassembly by Users': 0, 'Device Ingredient or Reagent Problem': 0, 'Pacing Intermittently': 0, 'Inadequate Ultra Filtration': 0, 'Problem with Sterilization': 0, 'Air/Gas in Device': 0, 'Arcing of Electrodes': 0, 'Output above Specifications': 0, 'Failure to Zero': 0, 'Image Orientation Incorrect': 0, 'Failure to Transmit Record': 0, 'Fungus in Device Environment': 0, 'Pitted': 0, 'Flushing Problem': 0, 'Inadequate Instructions for Healthcare Professional': 0, 'Incomplete or Missing Packaging': 0, 'Failure to Reset': 0, 'Electro-Static Discharge': 0, 'Residue After Decontamination': 0, 'Pacing Asynchronously': 0, 'Failure to Discharge': 0, 'Installation-Related Problem': 0, 'Optical Distortion': 0, 'Failure to Conduct': 0, 'Program or Algorithm Execution Problem': 0, 'Reflux within Device': 0, 'Battery Problem: High Impedance': 0, 'Flare or Flash': 0, 'Inadequate or Insufficient Training': 0, 'Unclear Information': 0, 'Medical Gas Supply Problem': 0, 'Contamination of Device Ingredient or Reagent': 0, 'Application Program Problem: Medication Error': 0, 'Computer System Security Problem': 0, 'No Tactile Prompts/Feedback': 0, 'Program or Algorithm Execution Failure': 0, 'Inappropriate Waveform': 0, 'Overcorrection': 0, 'High Sensing Threshold': 0, 'Ambient Temperature Problem': 0, 'Continuous Firing': 0, 'Inappropriate Tactile Prompt/Feedback': 0, 'Unauthorized Access to Computer System': 0, 'Failure to Deflate': 0, 'Power Conditioning Problem': 0, 'Precipitate in Device or Device Ingredient': 0, 'No Visual Prompts/Feedback': 0, 'Radiation Output Problem': 0, 'Increased Pump Speed': 0, 'Radiation Output Failure': 0, 'Tactile Prompts/Feedback': 0, 'Unexpected/Unintended Radiation Output': 0, 'Inappropriate Audible Prompt/Feedback': 0, 'Biofilm coating in Device': 0, 'Battery Problem: Low Impedance': 0, 'Fogging': 0, 'Electrical Overstress': 0, 'Failure to Disinfect': 0, 'Measurement System Incompatibility': 0, 'Misassembly During Maintenance/Repair': 0, 'Unintended Deflation': 0, 'Optical Obstruction': 0, 'Decoupling': 0, 'Delayed Alarm': 0, 'Loss of Threshold': 0, 'Excessive Cooling': 0, 'Difficult to Interrogate': 0, 'Pacing Inadequately': 0, 'No Fail-Safe Mechanism': 0, 'Application Network Problem': 0, 'Optical Discoloration': 0, 'Inadequate Lubrication': 0, 'Arcing at Paddles': 0, 'Misassembled During Installation': 0, 'Lack of Maintenance Documentation or Guidelines': 0, 'Undercorrection': 0, 'Radiation Overexposure': 0, 'Inadequate Instructions for Non-Healthcare Professional': 0, 'Aborted Charge': 0, 'Clumping in Device or Device Ingredient': 0, 'Intermittent Shock/Stimulation': 0, 'Application Security Problem': 0, 'Fumes or Vapors': 0, 'Device Difficult to Maintain': 0, 'Optical Decentration': 0, 'Thickening of Material': 0, 'Radiofrequency Interference (RFI)': 0, 'Erratic Results': 0, 'Ventilation Problem in Device Environment': 0, 'Increased Sensitivity': 0, 'Intermittent Infusion': 0, 'Emergency Power Failure': 0, 'Delayed Program or Algorithm Execution': 0, 'Data Back-Up Problem': 0, 'Device Unsafe to Use in Environment': 0, 'Radiation Underexposure': 0, 'Failure to Back-Up': 0, 'Intermittent Program or Algorithm Execution': 0, 'Unintended Compatibility': 0, 'Cross Reactivity': 0, 'Premature Indicator Activation': 0, 'Application Program Problem: Power Calculation Error': 0, 'Capacitative Coupling': 0, 'Radiation Leak': 0, 'Unexpected Color': 0, 'Device Issue': 0, 'Incomplete or Inadequate Priming': 0, 'Energy Spectrum Incorrect': 0, 'Device Contaminated at the User Facility': 0, 'Problem with Removal of Enzymatic Cleaner': 0, 'High pH': 0, 'Malfunction': 0, 'Failure to Convert to Back-Up': 0, 'Component(s), broken': 0, 'Insulation failure': 0, 'Inaccurate Dispensing': 0, 'Shielding Failure': 0, 'Low pH': 0}, 'ARTIFICIAL PANCREAS DEVICE SYSTEM, SINGLE HORMONAL CONTROL': {'Adverse Event Without Identified Device or Use Problem': 0, 'Failure to Osseointegrate': 0, 'Patient Device Interaction Problem': 0, 'Wireless Communication Problem': 0, 'No Device Output': 0, 'Break': 0, 'Loss of Osseointegration': 0, 'Insufficient Information': 0, 'Crack': 0, 'Power Problem': 0, 'Mechanical Problem': 0, 'Appropriate Term/Code Not Available': 0, 'Device Displays Incorrect Message': 0, 'Imprecision': 0, 'Connection Problem': 0, 'No Apparent Adverse Event': 0, 'Fluid Leak': 0, 'Obstruction of Flow': 0, 'Material Rupture': 0, 'Battery Problem': 0, 'Pumping Stopped': 0, 'Incorrect, Inadequate or Imprecise Resultor Readings': 0, 'No Display/Image': 0, 'Fracture': 0, 'Device Difficult to Program or Calibrate': 0, 'Display or Visual Feedback Problem': 0, 'Over-Sensing': 0, 'Detachment of Device or Device Component': 0, 'Defective Device': 0, 'Device Sensing Problem': 0, 'Leak/Splash': 0, 'Device Dislodged or Dislocated': 0, 'Physical Resistance/Sticking': 0, 'Device Alarm System': 0, 'Failure to Power Up': 0, 'High impedance': 0, 'Electrical /Electronic Property Problem': 0, 'Communication or Transmission Problem': 0, 'Charging Problem': 0, 'Corroded': 0, 'Material Twisted/Bent': 0, 'Malposition of Device': 0, 'Circuit Failure': 0, 'Patient-Device Incompatibility': 0, 'Incorrect Measurement': 0, 'Signal Artifact/Noise': 0, 'Therapeutic or Diagnostic Output Failure': 0, 'Material Integrity Problem': 0, 'Migration': 0, 'Failure to Sense': 0, 'High Capture Threshold': 0, 'Premature Discharge of Battery': 0, 'Device Contamination with Chemical or Other Material': 0, 'Material Separation': 0, 'Premature End-of-Life Indicator': 0, 'Moisture or Humidity Problem': 0, 'Osseointegration Problem': 0, 'Failure to Fire': 0, 'Material Deformation': 0, 'Use of Device Problem': 0, 'Under-Sensing': 0, 'Inappropriate/Inadequate Shock/Stimulation': 0, 'Insufficient Flow or Under Infusion': 0, 'Unintended Movement': 0, 'Failure to Capture': 0, 'Filling Problem': 0, 'Contamination': 0, 'Positioning Problem': 0, 'Migration or Expulsion of Device': 0, 'Loss of or Failure to Bond': 0, 'Activation, Positioning or SeparationProblem': 0, 'False Alarm': 0, 'Output Problem': 0, 'Computer Software Problem': 0, 'Positioning Failure': 0, 'Difficult to Remove': 0, 'Improper or Incorrect Procedure or Method': 0, 'Failure to Cycle': 0, 'Device-Device Incompatibility': 0, 'Failure to Read Input Signal': 0, 'Mechanics Altered': 0, 'Unable to Obtain Readings': 0, 'Failure of Device to Self-Test': 0, 'Difficult to Insert': 0, 'Naturally Worn': 0, 'Deformation Due to Compressive Stress': 0, 'Excess Flow or Over-Infusion': 0, 'Data Problem': 0, 'Impedance Problem': 0, 'Protective Measures Problem': 0, 'Overheating of Device': 0, 'Infusion or Flow Problem': 0, 'Unexpected Shutdown': 0, 'Inappropriate or Unexpected Reset': 0, 'Mechanical Jam': 0, 'Low impedance': 0, 'High Test Results': 0, 'Pacing Problem': 0, 'Misassembled': 0, 'Defective Component': 0, 'Inadequacy of Device Shape and/or Size': 0, 'Unexpected Therapeutic Results': 0, 'Device Markings/Labelling Problem': 0, 'Unintended Application Program Shut Down': 0, 'Display Difficult to Read': 0, 'Loose or Intermittent Connection': 0, 'Application Program Freezes, Becomes Nonfunctional': 0, 'Visual Prompts will not Clear': 0, 'Material Split, Cut or Torn': 0, 'Failure to Advance': 0, 'Defective Alarm': 0, 'Difficult to Open or Close': 0, 'Failure to Calibrate': 0, 'Failure to Form Staple': 0, 'Noise, Audible': 0, 'Entrapment of Device': 0, 'Failure to Deliver Energy': 0, 'Failure to Charge': 0, 'Energy Output Problem': 0, 'Disconnection': 0, 'Failure to Deliver': 0, 'Failure to Cut': 0, 'Retraction Problem': 0, 'Poor Quality Image': 0, 'Priming Problem': 0, 'Capturing Problem': 0, 'Material Puncture/Hole': 0, 'Off-Label Use': 0, 'Degraded': 0, 'Suction Problem': 0, 'No Audible Alarm': 0, 'Loosening of Implant Not Related to Bone-Ingrowth': 0, 'Date/Time-Related Software Problem': 0, 'Material Fragmentation': 0, 'Gas Leak': 0, 'Failure to Interrogate': 0, 'False Positive Result': 0, 'Improper Flow or Infusion': 0, 'Deflation Problem': 0, 'Component Missing': 0, 'Calibration Problem': 0, 'Low Test Results': 0, 'Burst Container or Vessel': 0, 'Inflation Problem': 0, 'Non Reproducible Results': 0, 'Microbial Contamination of Device': 0, 'Misfire': 0, 'Unstable': 0, 'Peeled/Delaminated': 0, 'Pumping Problem': 0, 'Loss of Data': 0, 'Partial Blockage': 0, 'Human-Device Interface Problem': 0, 'Difficult to Advance': 0, 'Device Contaminated During Manufacture or Shipping': 0, 'Electromagnetic Interference': 0, 'Activation Failure': 0, 'Temperature Problem': 0, 'Volume Accuracy Problem': 0, 'Contamination /Decontamination Problem': 0, 'Pressure Problem': 0, 'Structural Problem': 0, 'Gradient Increase': 0, 'Product Quality Problem': 0, 'Decreased Sensitivity': 0, 'False Negative Result': 0, 'Packaging Problem': 0, 'Complete Loss of Power': 0, 'Device Slipped': 0, 'Excessive Heating': 0, 'Unintended Collision': 0, 'Biocompatibility': 0, 'Fitting Problem': 0, 'Premature Activation': 0, 'Complete Blockage': 0, 'Separation Failure': 0, 'Collapse': 0, 'Thermal Decomposition of Device': 0, 'Difficult or Delayed Activation': 0, 'Dull, Blunt': 0, 'Output below Specifications': 0, 'Delivered as Unsterile Product': 0, 'Inaccurate Delivery': 0, 'No Flow': 0, 'Nonstandard Device': 0, 'Incomplete Coaptation': 0, 'Inadequate User Interface': 0, 'Material Discolored': 0, 'Failure to Align': 0, 'High Readings': 0, 'Decrease in Pressure': 0, 'Scratched Material': 0, 'Material Frayed': 0, 'Computer Operating System Problem': 0, 'Failure to Deliver Shock/Stimulation': 0, 'Low Readings': 0, 'Therapy Delivered to Incorrect Body Area': 0, 'Reset Problem': 0, 'Unsealed Device Packaging': 0, 'Device Fell': 0, 'Perivalvular Leak': 0, 'Short Fill': 0, 'Premature Elective Replacement Indicator': 0, 'Material Erosion': 0, 'Environmental Compatibility Problem': 0, 'Delayed Charge Time': 0, 'Fail-Safe Did Not Operate': 0, 'Activation Problem': 0, 'Device Damaged by Another Device': 0, 'Intermittent Continuity': 0, 'Defibrillation/Stimulation Problem': 0, 'Unintended System Motion': 0, 'Unstable Capture Threshold': 0, 'Optical Problem': 0, 'Intermittent Loss of Power': 0, 'Stretched': 0, 'Expulsion': 0, 'Manufacturing, Packaging or Shipping Problem': 0, 'Difficult or Delayed Positioning': 0, 'Electromagnetic Compatibility Problem': 0, 'Restricted Flow rate': 0, 'No Audible Prompt/Feedback': 0, 'Tear, Rip or Hole in Device Packaging': 0, 'Vibration': 0, 'Material Protrusion/Extrusion': 0, 'Device Tipped Over': 0, 'Intermittent Capture': 0, 'Premature Separation': 0, 'Image Display Error/Artifact': 0, 'Calcified': 0, 'Application Program Version or Upgrade Problem': 0, 'Inaccurate Flow Rate': 0, 'Loss of Power': 0, 'Illegible Information': 0, 'Smoking': 0, 'Application Program Problem': 0, 'Misconnection': 0, 'Failure to Analyze Signal': 0, 'Erratic or Intermittent Display': 0, 'Firing Problem': 0, 'Device Appears to Trigger Rejection': 0, 'Failure to Recalibrate': 0, 'Suction Failure': 0, 'Device Damaged Prior to Use': 0, 'Backflow': 0, 'Failure to Pump': 0, 'Insufficient Cooling': 0, 'Self-Activation or Keying': 0, 'Electrical Power Problem': 0, 'Failure to Obtain Sample': 0, 'Unraveled Material': 0, 'Insufficient Heating': 0, 'Failure to Infuse': 0, 'Decreased Pump Speed': 0, 'Ambient Noise Problem': 0, 'Coagulation in Device or Device Ingredient': 0, 'Low Sensing Threshold': 0, 'Device Handling Problem': 0, 'Gas Output Problem': 0, 'Melted': 0, 'Pacemaker Found in Back-Up Mode': 0, 'Device Difficult to Setup or Prepare': 0, 'Flaked': 0, 'Overfill': 0, 'Audible Prompt/Feedback Problem': 0, 'Intermittent Communication Failure': 0, 'Unintended Ejection': 0, 'Device Remains Activated': 0, 'Separation Problem': 0, 'Pocket Stimulation': 0, 'Incorrect Interpretation of Signal': 0, 'Sharp Edges': 0, 'Device Emits Odor': 0, 'Electrical Shorting': 0, 'Device Reprocessing Problem': 0, 'Fire': 0, 'No Pacing': 0, 'Increase in Pressure': 0, 'Misfocusing': 0, 'Chemical Problem': 0, 'Free or Unrestricted Flow': 0, 'Missing Test Results': 0, 'Sparking': 0, 'Alarm Not Visible': 0, 'Failure to Disconnect': 0, 'Compatibility Problem': 0, 'Material Too Rigid or Stiff': 0, 'Material Disintegration': 0, 'Decrease in Suction': 0, 'Component or Accessory Incompatibility': 0, 'Improper Chemical Reaction': 0, 'Failure to Auto Stop': 0, 'Failure to Convert Rhythm': 0, 'Device Contamination with Body Fluid': 0, 'Inaudible or Unclear Audible Prompt/Feedback': 0, 'Low Audible Alarm': 0, 'Gel Leak': 0, 'Component Misassembled': 0, 'Arcing': 0, 'Failure to Run on Battery': 0, 'Difficult or Delayed Separation': 0, 'Inability to Auto-Fill': 0, 'Operating System Becomes Nonfunctional': 0, 'Incomplete or Inadequate Connection': 0, 'Grounding Malfunction': 0, 'Shipping Damage or Problem': 0, 'Interrogation Problem': 0, 'Failure to Prime': 0, 'Failure to Shut Off': 0, 'Fail-Safe Problem': 0, 'Failure to Eject': 0, 'Particulates': 0, 'Material Perforation': 0, 'Sensing Intermittently': 0, 'Inaccurate Synchronization': 0, 'Operating System Version or Upgrade Problem': 0, 'Intermittent Energy Output': 0, 'Failure to Select Signal': 0, 'Missing Information': 0, 'Ejection Problem': 0, 'Labelling, Instructions for Use or Training Problem': 0, 'Difficult to Fold, Unfold or Collapse': 0, 'Solder Joint Fracture': 0, 'Unintended Electrical Shock': 0, 'Device Misassembled During Manufacturing /Shipping': 0, 'Dent in Material': 0, 'Failure to Unfold or Unwrap': 0, 'No Pressure': 0, 'Material Opacification': 0, 'Key or Button Unresponsive/not Working': 0, 'Difficult to Open or Remove Packaging Material': 0, 'Explosion': 0, 'Difficult to Flush': 0, 'Tidal Volume Fluctuations': 0, 'Patient Data Problem': 0, 'Application Program Problem: Dose Calculation Error': 0, 'Expiration Date Error': 0, 'Material Too Soft/Flexible': 0, 'Component Incompatible': 0, 'Inadequate Filtration Process': 0, 'Failure to Clean Adequately': 0, 'Unintended Power Up': 0, 'Telemetry Discrepancy': 0, 'Failure to Fold': 0, 'Increase in Suction': 0, 'Environmental Particulates': 0, 'Accessory Incompatible': 0, 'Material Invagination': 0, 'Filtration Problem': 0, 'Problem with Software Installation': 0, 'Blocked Connection': 0, 'Application Program Problem: Parameter Calculation Error': 0, 'Use of Incorrect Control Settings': 0, 'Inability to Irrigate': 0, 'Inaccurate Information': 0, 'Moisture Damage': 0, 'Misassembly by Users': 0, 'Device Ingredient or Reagent Problem': 0, 'Pacing Intermittently': 0, 'Inadequate Ultra Filtration': 0, 'Problem with Sterilization': 0, 'Air/Gas in Device': 0, 'Arcing of Electrodes': 0, 'Output above Specifications': 0, 'Failure to Zero': 0, 'Image Orientation Incorrect': 0, 'Failure to Transmit Record': 0, 'Fungus in Device Environment': 0, 'Pitted': 0, 'Flushing Problem': 0, 'Inadequate Instructions for Healthcare Professional': 0, 'Incomplete or Missing Packaging': 0, 'Failure to Reset': 0, 'Electro-Static Discharge': 0, 'Residue After Decontamination': 0, 'Pacing Asynchronously': 0, 'Failure to Discharge': 0, 'Installation-Related Problem': 0, 'Optical Distortion': 0, 'Failure to Conduct': 0, 'Program or Algorithm Execution Problem': 0, 'Reflux within Device': 0, 'Battery Problem: High Impedance': 0, 'Flare or Flash': 0, 'Inadequate or Insufficient Training': 0, 'Unclear Information': 0, 'Medical Gas Supply Problem': 0, 'Contamination of Device Ingredient or Reagent': 0, 'Application Program Problem: Medication Error': 0, 'Computer System Security Problem': 0, 'No Tactile Prompts/Feedback': 0, 'Program or Algorithm Execution Failure': 0, 'Inappropriate Waveform': 0, 'Overcorrection': 0, 'High Sensing Threshold': 0, 'Ambient Temperature Problem': 0, 'Continuous Firing': 0, 'Inappropriate Tactile Prompt/Feedback': 0, 'Unauthorized Access to Computer System': 0, 'Failure to Deflate': 0, 'Power Conditioning Problem': 0, 'Precipitate in Device or Device Ingredient': 0, 'No Visual Prompts/Feedback': 0, 'Radiation Output Problem': 0, 'Increased Pump Speed': 0, 'Radiation Output Failure': 0, 'Tactile Prompts/Feedback': 0, 'Unexpected/Unintended Radiation Output': 0, 'Inappropriate Audible Prompt/Feedback': 0, 'Biofilm coating in Device': 0, 'Battery Problem: Low Impedance': 0, 'Fogging': 0, 'Electrical Overstress': 0, 'Failure to Disinfect': 0, 'Measurement System Incompatibility': 0, 'Misassembly During Maintenance/Repair': 0, 'Unintended Deflation': 0, 'Optical Obstruction': 0, 'Decoupling': 0, 'Delayed Alarm': 0, 'Loss of Threshold': 0, 'Excessive Cooling': 0, 'Difficult to Interrogate': 0, 'Pacing Inadequately': 0, 'No Fail-Safe Mechanism': 0, 'Application Network Problem': 0, 'Optical Discoloration': 0, 'Inadequate Lubrication': 0, 'Arcing at Paddles': 0, 'Misassembled During Installation': 0, 'Lack of Maintenance Documentation or Guidelines': 0, 'Undercorrection': 0, 'Radiation Overexposure': 0, 'Inadequate Instructions for Non-Healthcare Professional': 0, 'Aborted Charge': 0, 'Clumping in Device or Device Ingredient': 0, 'Intermittent Shock/Stimulation': 0, 'Application Security Problem': 0, 'Fumes or Vapors': 0, 'Device Difficult to Maintain': 0, 'Optical Decentration': 0, 'Thickening of Material': 0, 'Radiofrequency Interference (RFI)': 0, 'Erratic Results': 0, 'Ventilation Problem in Device Environment': 0, 'Increased Sensitivity': 0, 'Intermittent Infusion': 0, 'Emergency Power Failure': 0, 'Delayed Program or Algorithm Execution': 0, 'Data Back-Up Problem': 0, 'Device Unsafe to Use in Environment': 0, 'Radiation Underexposure': 0, 'Failure to Back-Up': 0, 'Intermittent Program or Algorithm Execution': 0, 'Unintended Compatibility': 0, 'Cross Reactivity': 0, 'Premature Indicator Activation': 0, 'Application Program Problem: Power Calculation Error': 0, 'Capacitative Coupling': 0, 'Radiation Leak': 0, 'Unexpected Color': 0, 'Device Issue': 0, 'Incomplete or Inadequate Priming': 0, 'Energy Spectrum Incorrect': 0, 'Device Contaminated at the User Facility': 0, 'Problem with Removal of Enzymatic Cleaner': 0, 'High pH': 0, 'Malfunction': 0, 'Failure to Convert to Back-Up': 0, 'Component(s), broken': 0, 'Insulation failure': 0, 'Inaccurate Dispensing': 0, 'Shielding Failure': 0, 'Low pH': 0}, 'PUMP, INFUSION, INSULIN, TO BE USED WITH INVASIVE GLUCOSE SENSOR': {'Adverse Event Without Identified Device or Use Problem': 0, 'Failure to Osseointegrate': 0, 'Patient Device Interaction Problem': 0, 'Wireless Communication Problem': 0, 'No Device Output': 0, 'Break': 0, 'Loss of Osseointegration': 0, 'Insufficient Information': 0, 'Crack': 0, 'Power Problem': 0, 'Mechanical Problem': 0, 'Appropriate Term/Code Not Available': 0, 'Device Displays Incorrect Message': 0, 'Imprecision': 0, 'Connection Problem': 0, 'No Apparent Adverse Event': 0, 'Fluid Leak': 0, 'Obstruction of Flow': 0, 'Material Rupture': 0, 'Battery Problem': 0, 'Pumping Stopped': 0, 'Incorrect, Inadequate or Imprecise Resultor Readings': 0, 'No Display/Image': 0, 'Fracture': 0, 'Device Difficult to Program or Calibrate': 0, 'Display or Visual Feedback Problem': 0, 'Over-Sensing': 0, 'Detachment of Device or Device Component': 0, 'Defective Device': 0, 'Device Sensing Problem': 0, 'Leak/Splash': 0, 'Device Dislodged or Dislocated': 0, 'Physical Resistance/Sticking': 0, 'Device Alarm System': 0, 'Failure to Power Up': 0, 'High impedance': 0, 'Electrical /Electronic Property Problem': 0, 'Communication or Transmission Problem': 0, 'Charging Problem': 0, 'Corroded': 0, 'Material Twisted/Bent': 0, 'Malposition of Device': 0, 'Circuit Failure': 0, 'Patient-Device Incompatibility': 0, 'Incorrect Measurement': 0, 'Signal Artifact/Noise': 0, 'Therapeutic or Diagnostic Output Failure': 0, 'Material Integrity Problem': 0, 'Migration': 0, 'Failure to Sense': 0, 'High Capture Threshold': 0, 'Premature Discharge of Battery': 0, 'Device Contamination with Chemical or Other Material': 0, 'Material Separation': 0, 'Premature End-of-Life Indicator': 0, 'Moisture or Humidity Problem': 0, 'Osseointegration Problem': 0, 'Failure to Fire': 0, 'Material Deformation': 0, 'Use of Device Problem': 0, 'Under-Sensing': 0, 'Inappropriate/Inadequate Shock/Stimulation': 0, 'Insufficient Flow or Under Infusion': 0, 'Unintended Movement': 0, 'Failure to Capture': 0, 'Filling Problem': 0, 'Contamination': 0, 'Positioning Problem': 0, 'Migration or Expulsion of Device': 0, 'Loss of or Failure to Bond': 0, 'Activation, Positioning or SeparationProblem': 0, 'False Alarm': 0, 'Output Problem': 0, 'Computer Software Problem': 0, 'Positioning Failure': 0, 'Difficult to Remove': 0, 'Improper or Incorrect Procedure or Method': 0, 'Failure to Cycle': 0, 'Device-Device Incompatibility': 0, 'Failure to Read Input Signal': 0, 'Mechanics Altered': 0, 'Unable to Obtain Readings': 0, 'Failure of Device to Self-Test': 0, 'Difficult to Insert': 0, 'Naturally Worn': 0, 'Deformation Due to Compressive Stress': 0, 'Excess Flow or Over-Infusion': 0, 'Data Problem': 0, 'Impedance Problem': 0, 'Protective Measures Problem': 0, 'Overheating of Device': 0, 'Infusion or Flow Problem': 0, 'Unexpected Shutdown': 0, 'Inappropriate or Unexpected Reset': 0, 'Mechanical Jam': 0, 'Low impedance': 0, 'High Test Results': 0, 'Pacing Problem': 0, 'Misassembled': 0, 'Defective Component': 0, 'Inadequacy of Device Shape and/or Size': 0, 'Unexpected Therapeutic Results': 0, 'Device Markings/Labelling Problem': 0, 'Unintended Application Program Shut Down': 0, 'Display Difficult to Read': 0, 'Loose or Intermittent Connection': 0, 'Application Program Freezes, Becomes Nonfunctional': 0, 'Visual Prompts will not Clear': 0, 'Material Split, Cut or Torn': 0, 'Failure to Advance': 0, 'Defective Alarm': 0, 'Difficult to Open or Close': 0, 'Failure to Calibrate': 0, 'Failure to Form Staple': 0, 'Noise, Audible': 0, 'Entrapment of Device': 0, 'Failure to Deliver Energy': 0, 'Failure to Charge': 0, 'Energy Output Problem': 0, 'Disconnection': 0, 'Failure to Deliver': 0, 'Failure to Cut': 0, 'Retraction Problem': 0, 'Poor Quality Image': 0, 'Priming Problem': 0, 'Capturing Problem': 0, 'Material Puncture/Hole': 0, 'Off-Label Use': 0, 'Degraded': 0, 'Suction Problem': 0, 'No Audible Alarm': 0, 'Loosening of Implant Not Related to Bone-Ingrowth': 0, 'Date/Time-Related Software Problem': 0, 'Material Fragmentation': 0, 'Gas Leak': 0, 'Failure to Interrogate': 0, 'False Positive Result': 0, 'Improper Flow or Infusion': 0, 'Deflation Problem': 0, 'Component Missing': 0, 'Calibration Problem': 0, 'Low Test Results': 0, 'Burst Container or Vessel': 0, 'Inflation Problem': 0, 'Non Reproducible Results': 0, 'Microbial Contamination of Device': 0, 'Misfire': 0, 'Unstable': 0, 'Peeled/Delaminated': 0, 'Pumping Problem': 0, 'Loss of Data': 0, 'Partial Blockage': 0, 'Human-Device Interface Problem': 0, 'Difficult to Advance': 0, 'Device Contaminated During Manufacture or Shipping': 0, 'Electromagnetic Interference': 0, 'Activation Failure': 0, 'Temperature Problem': 0, 'Volume Accuracy Problem': 0, 'Contamination /Decontamination Problem': 0, 'Pressure Problem': 0, 'Structural Problem': 0, 'Gradient Increase': 0, 'Product Quality Problem': 0, 'Decreased Sensitivity': 0, 'False Negative Result': 0, 'Packaging Problem': 0, 'Complete Loss of Power': 0, 'Device Slipped': 0, 'Excessive Heating': 0, 'Unintended Collision': 0, 'Biocompatibility': 0, 'Fitting Problem': 0, 'Premature Activation': 0, 'Complete Blockage': 0, 'Separation Failure': 0, 'Collapse': 0, 'Thermal Decomposition of Device': 0, 'Difficult or Delayed Activation': 0, 'Dull, Blunt': 0, 'Output below Specifications': 0, 'Delivered as Unsterile Product': 0, 'Inaccurate Delivery': 0, 'No Flow': 0, 'Nonstandard Device': 0, 'Incomplete Coaptation': 0, 'Inadequate User Interface': 0, 'Material Discolored': 0, 'Failure to Align': 0, 'High Readings': 0, 'Decrease in Pressure': 0, 'Scratched Material': 0, 'Material Frayed': 0, 'Computer Operating System Problem': 0, 'Failure to Deliver Shock/Stimulation': 0, 'Low Readings': 0, 'Therapy Delivered to Incorrect Body Area': 0, 'Reset Problem': 0, 'Unsealed Device Packaging': 0, 'Device Fell': 0, 'Perivalvular Leak': 0, 'Short Fill': 0, 'Premature Elective Replacement Indicator': 0, 'Material Erosion': 0, 'Environmental Compatibility Problem': 0, 'Delayed Charge Time': 0, 'Fail-Safe Did Not Operate': 0, 'Activation Problem': 0, 'Device Damaged by Another Device': 0, 'Intermittent Continuity': 0, 'Defibrillation/Stimulation Problem': 0, 'Unintended System Motion': 0, 'Unstable Capture Threshold': 0, 'Optical Problem': 0, 'Intermittent Loss of Power': 0, 'Stretched': 0, 'Expulsion': 0, 'Manufacturing, Packaging or Shipping Problem': 0, 'Difficult or Delayed Positioning': 0, 'Electromagnetic Compatibility Problem': 0, 'Restricted Flow rate': 0, 'No Audible Prompt/Feedback': 0, 'Tear, Rip or Hole in Device Packaging': 0, 'Vibration': 0, 'Material Protrusion/Extrusion': 0, 'Device Tipped Over': 0, 'Intermittent Capture': 0, 'Premature Separation': 0, 'Image Display Error/Artifact': 0, 'Calcified': 0, 'Application Program Version or Upgrade Problem': 0, 'Inaccurate Flow Rate': 0, 'Loss of Power': 0, 'Illegible Information': 0, 'Smoking': 0, 'Application Program Problem': 0, 'Misconnection': 0, 'Failure to Analyze Signal': 0, 'Erratic or Intermittent Display': 0, 'Firing Problem': 0, 'Device Appears to Trigger Rejection': 0, 'Failure to Recalibrate': 0, 'Suction Failure': 0, 'Device Damaged Prior to Use': 0, 'Backflow': 0, 'Failure to Pump': 0, 'Insufficient Cooling': 0, 'Self-Activation or Keying': 0, 'Electrical Power Problem': 0, 'Failure to Obtain Sample': 0, 'Unraveled Material': 0, 'Insufficient Heating': 0, 'Failure to Infuse': 0, 'Decreased Pump Speed': 0, 'Ambient Noise Problem': 0, 'Coagulation in Device or Device Ingredient': 0, 'Low Sensing Threshold': 0, 'Device Handling Problem': 0, 'Gas Output Problem': 0, 'Melted': 0, 'Pacemaker Found in Back-Up Mode': 0, 'Device Difficult to Setup or Prepare': 0, 'Flaked': 0, 'Overfill': 0, 'Audible Prompt/Feedback Problem': 0, 'Intermittent Communication Failure': 0, 'Unintended Ejection': 0, 'Device Remains Activated': 0, 'Separation Problem': 0, 'Pocket Stimulation': 0, 'Incorrect Interpretation of Signal': 0, 'Sharp Edges': 0, 'Device Emits Odor': 0, 'Electrical Shorting': 0, 'Device Reprocessing Problem': 0, 'Fire': 0, 'No Pacing': 0, 'Increase in Pressure': 0, 'Misfocusing': 0, 'Chemical Problem': 0, 'Free or Unrestricted Flow': 0, 'Missing Test Results': 0, 'Sparking': 0, 'Alarm Not Visible': 0, 'Failure to Disconnect': 0, 'Compatibility Problem': 0, 'Material Too Rigid or Stiff': 0, 'Material Disintegration': 0, 'Decrease in Suction': 0, 'Component or Accessory Incompatibility': 0, 'Improper Chemical Reaction': 0, 'Failure to Auto Stop': 0, 'Failure to Convert Rhythm': 0, 'Device Contamination with Body Fluid': 0, 'Inaudible or Unclear Audible Prompt/Feedback': 0, 'Low Audible Alarm': 0, 'Gel Leak': 0, 'Component Misassembled': 0, 'Arcing': 0, 'Failure to Run on Battery': 0, 'Difficult or Delayed Separation': 0, 'Inability to Auto-Fill': 0, 'Operating System Becomes Nonfunctional': 0, 'Incomplete or Inadequate Connection': 0, 'Grounding Malfunction': 0, 'Shipping Damage or Problem': 0, 'Interrogation Problem': 0, 'Failure to Prime': 0, 'Failure to Shut Off': 0, 'Fail-Safe Problem': 0, 'Failure to Eject': 0, 'Particulates': 0, 'Material Perforation': 0, 'Sensing Intermittently': 0, 'Inaccurate Synchronization': 0, 'Operating System Version or Upgrade Problem': 0, 'Intermittent Energy Output': 0, 'Failure to Select Signal': 0, 'Missing Information': 0, 'Ejection Problem': 0, 'Labelling, Instructions for Use or Training Problem': 0, 'Difficult to Fold, Unfold or Collapse': 0, 'Solder Joint Fracture': 0, 'Unintended Electrical Shock': 0, 'Device Misassembled During Manufacturing /Shipping': 0, 'Dent in Material': 0, 'Failure to Unfold or Unwrap': 0, 'No Pressure': 0, 'Material Opacification': 0, 'Key or Button Unresponsive/not Working': 0, 'Difficult to Open or Remove Packaging Material': 0, 'Explosion': 0, 'Difficult to Flush': 0, 'Tidal Volume Fluctuations': 0, 'Patient Data Problem': 0, 'Application Program Problem: Dose Calculation Error': 0, 'Expiration Date Error': 0, 'Material Too Soft/Flexible': 0, 'Component Incompatible': 0, 'Inadequate Filtration Process': 0, 'Failure to Clean Adequately': 0, 'Unintended Power Up': 0, 'Telemetry Discrepancy': 0, 'Failure to Fold': 0, 'Increase in Suction': 0, 'Environmental Particulates': 0, 'Accessory Incompatible': 0, 'Material Invagination': 0, 'Filtration Problem': 0, 'Problem with Software Installation': 0, 'Blocked Connection': 0, 'Application Program Problem: Parameter Calculation Error': 0, 'Use of Incorrect Control Settings': 0, 'Inability to Irrigate': 0, 'Inaccurate Information': 0, 'Moisture Damage': 0, 'Misassembly by Users': 0, 'Device Ingredient or Reagent Problem': 0, 'Pacing Intermittently': 0, 'Inadequate Ultra Filtration': 0, 'Problem with Sterilization': 0, 'Air/Gas in Device': 0, 'Arcing of Electrodes': 0, 'Output above Specifications': 0, 'Failure to Zero': 0, 'Image Orientation Incorrect': 0, 'Failure to Transmit Record': 0, 'Fungus in Device Environment': 0, 'Pitted': 0, 'Flushing Problem': 0, 'Inadequate Instructions for Healthcare Professional': 0, 'Incomplete or Missing Packaging': 0, 'Failure to Reset': 0, 'Electro-Static Discharge': 0, 'Residue After Decontamination': 0, 'Pacing Asynchronously': 0, 'Failure to Discharge': 0, 'Installation-Related Problem': 0, 'Optical Distortion': 0, 'Failure to Conduct': 0, 'Program or Algorithm Execution Problem': 0, 'Reflux within Device': 0, 'Battery Problem: High Impedance': 0, 'Flare or Flash': 0, 'Inadequate or Insufficient Training': 0, 'Unclear Information': 0, 'Medical Gas Supply Problem': 0, 'Contamination of Device Ingredient or Reagent': 0, 'Application Program Problem: Medication Error': 0, 'Computer System Security Problem': 0, 'No Tactile Prompts/Feedback': 0, 'Program or Algorithm Execution Failure': 0, 'Inappropriate Waveform': 0, 'Overcorrection': 0, 'High Sensing Threshold': 0, 'Ambient Temperature Problem': 0, 'Continuous Firing': 0, 'Inappropriate Tactile Prompt/Feedback': 0, 'Unauthorized Access to Computer System': 0, 'Failure to Deflate': 0, 'Power Conditioning Problem': 0, 'Precipitate in Device or Device Ingredient': 0, 'No Visual Prompts/Feedback': 0, 'Radiation Output Problem': 0, 'Increased Pump Speed': 0, 'Radiation Output Failure': 0, 'Tactile Prompts/Feedback': 0, 'Unexpected/Unintended Radiation Output': 0, 'Inappropriate Audible Prompt/Feedback': 0, 'Biofilm coating in Device': 0, 'Battery Problem: Low Impedance': 0, 'Fogging': 0, 'Electrical Overstress': 0, 'Failure to Disinfect': 0, 'Measurement System Incompatibility': 0, 'Misassembly During Maintenance/Repair': 0, 'Unintended Deflation': 0, 'Optical Obstruction': 0, 'Decoupling': 0, 'Delayed Alarm': 0, 'Loss of Threshold': 0, 'Excessive Cooling': 0, 'Difficult to Interrogate': 0, 'Pacing Inadequately': 0, 'No Fail-Safe Mechanism': 0, 'Application Network Problem': 0, 'Optical Discoloration': 0, 'Inadequate Lubrication': 0, 'Arcing at Paddles': 0, 'Misassembled During Installation': 0, 'Lack of Maintenance Documentation or Guidelines': 0, 'Undercorrection': 0, 'Radiation Overexposure': 0, 'Inadequate Instructions for Non-Healthcare Professional': 0, 'Aborted Charge': 0, 'Clumping in Device or Device Ingredient': 0, 'Intermittent Shock/Stimulation': 0, 'Application Security Problem': 0, 'Fumes or Vapors': 0, 'Device Difficult to Maintain': 0, 'Optical Decentration': 0, 'Thickening of Material': 0, 'Radiofrequency Interference (RFI)': 0, 'Erratic Results': 0, 'Ventilation Problem in Device Environment': 0, 'Increased Sensitivity': 0, 'Intermittent Infusion': 0, 'Emergency Power Failure': 0, 'Delayed Program or Algorithm Execution': 0, 'Data Back-Up Problem': 0, 'Device Unsafe to Use in Environment': 0, 'Radiation Underexposure': 0, 'Failure to Back-Up': 0, 'Intermittent Program or Algorithm Execution': 0, 'Unintended Compatibility': 0, 'Cross Reactivity': 0, 'Premature Indicator Activation': 0, 'Application Program Problem: Power Calculation Error': 0, 'Capacitative Coupling': 0, 'Radiation Leak': 0, 'Unexpected Color': 0, 'Device Issue': 0, 'Incomplete or Inadequate Priming': 0, 'Energy Spectrum Incorrect': 0, 'Device Contaminated at the User Facility': 0, 'Problem with Removal of Enzymatic Cleaner': 0, 'High pH': 0, 'Malfunction': 0, 'Failure to Convert to Back-Up': 0, 'Component(s), broken': 0, 'Insulation failure': 0, 'Inaccurate Dispensing': 0, 'Shielding Failure': 0, 'Low pH': 0}, 'GENERIC_NAME': {}}\n",
      "2022-10-23 11:18 PM Notebook has completed.\n"
     ]
    }
   ],
   "source": [
    "import yaml\n",
    "\n",
    "# initalize the report \n",
    "report = {}\n",
    "\n",
    "for label, content in generic_names_2020.head().iterrows():\n",
    "    report[label] = {}\n",
    "    \n",
    "report['GENERIC_NAME'] = {}  \n",
    "\n",
    "for label, content in generic_names_2020.head().iterrows():\n",
    "    for i,j in defects_2020.iterrows():\n",
    "        report[label][i] = 0    \n",
    "\n",
    "print(report)\n",
    "#for label, content in generic_names.iterrows():\n",
    "#    for i,j in defects.iterrows():  \n",
    "#        pass\n",
    "\n",
    "from datetime import datetime\n",
    "import pytz\n",
    "\n",
    "# datetime object containing current date and time for the US/Pacific time zone\n",
    "now = datetime.now(pytz.timezone('US/Pacific'))\n",
    "\n",
    "# Format date and time like 2022-10-31 5:49 PM\n",
    "date_time_string = now.strftime(\"%Y-%m-%d %I:%M %p\") \n",
    "\n",
    "print(f\"{date_time_string} Notebook has completed.\")"
   ]
  },
  {
   "cell_type": "code",
   "execution_count": 21,
   "id": "ff0592e2-98ec-4cb8-9cd3-aefe43c9ed01",
   "metadata": {},
   "outputs": [
    {
     "name": "stdout",
     "output_type": "stream",
     "text": [
      "2022-10-23 11:16 PM Notebook has completed.\n"
     ]
    }
   ],
   "source": [
    "from datetime import datetime\n",
    "import pytz\n",
    "\n",
    "# datetime object containing current date and time for the US/Pacific time zone\n",
    "now = datetime.now(pytz.timezone('US/Pacific'))\n",
    "\n",
    "# Format date and time like 2022-10-31 5:49 PM\n",
    "date_time_string = now.strftime(\"%Y-%m-%d %I:%M %p\") \n",
    "\n",
    "print(f\"{date_time_string} Notebook has completed.\")"
   ]
  }
 ],
 "metadata": {
  "kernelspec": {
   "display_name": "conda_amazonei_pytorch_latest_p37",
   "language": "python",
   "name": "conda_amazonei_pytorch_latest_p37"
  },
  "language_info": {
   "codemirror_mode": {
    "name": "ipython",
    "version": 3
   },
   "file_extension": ".py",
   "mimetype": "text/x-python",
   "name": "python",
   "nbconvert_exporter": "python",
   "pygments_lexer": "ipython3",
   "version": "3.7.12"
  }
 },
 "nbformat": 4,
 "nbformat_minor": 5
}
