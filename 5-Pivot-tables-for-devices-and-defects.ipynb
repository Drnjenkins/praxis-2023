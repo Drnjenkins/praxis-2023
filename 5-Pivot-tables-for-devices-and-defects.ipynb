{
 "cells": [
  {
   "cell_type": "markdown",
   "id": "d54a69f7-06d8-4c3c-ae33-8ed2c44003bb",
   "metadata": {},
   "source": [
    "# Pivot Tables for Devices and Defects\n",
    "\n",
    "List the devices from 2020 and 2021 along with their defects and the number of times each defect was reported.\n",
    "\n",
    "- Use the `GENERIC_NAME` column for the device.\n",
    "- Use the `DEFECT_PROBLEM_TEXT` column for the defect text.\n",
    "\n",
    "- Use the 'complete' data from the working directories for each year\n",
    "    - `./2020_reprocessed/2020_data_complete.csv`\n",
    "    - `./2021_reprocessed/2020_data_complete.csv`"
   ]
  },
  {
   "cell_type": "markdown",
   "id": "89dd8f5e-0624-49c0-826d-69fe163796d1",
   "metadata": {},
   "source": [
    "## Create table for 2020 Data\n",
    "- Read the data into a pandas dataframe\n",
    "- Create a dataframe for the devices using the `GENERIC_NAME` column of the dataframe, removing duplicates as needed\n",
    "- Create a dataframe for the defects using the `DEFECT_PROBLEM_TEXT` column of the dataframe, removing duplicates as needed"
   ]
  },
  {
   "cell_type": "code",
   "execution_count": null,
   "id": "4ff1a485-e127-414b-9a11-87a2f175ef9e",
   "metadata": {},
   "outputs": [],
   "source": [
    "import pandas as pd\n",
    "\n",
    "data_file = './2020_reprocessed/2020_data_complete.csv'\n",
    "\n",
    "# Read the data into a pandas dataframe\n",
    "data = pd.read_csv(data_file,           # The data file being read, from the variable assignment above\n",
    "                   on_bad_lines='warn', # This tells Pandas to only warn on bad lines vs causing an error\n",
    "                   dtype = 'str')       # This tells Pandas to treat all numbers as words\n",
    "\n",
    "# Remove unwanted columns\n",
    "unwanted_columns = [\n",
    "    'MDR_REPORT_KEY',\n",
    "    'MDR_TEXT_KEY',\n",
    "    'TEXT_TYPE_CODE',\n",
    "    'PATIENT_SEQUENCE_NUMBER',\n",
    "    'DATE_REPORT',\n",
    "    'FOI_TEXT',\n",
    "    'DEVICE_SEQUENCE_NO',\n",
    "    'BRAND_NAME',\n",
    "    'MANUFACTURER_D_NAME',\n",
    "    'MODEL_NUMBER',\n",
    "    'DEVICE_AVAILABILITY',\n",
    "    'DEVICE_REPORT_PRODUCT_CODE',\n",
    "    'REPORT_NUMBER',\n",
    "    'REPORT_SOURCE_CODE',\n",
    "    'NUMBER_DEVICES_IN_EVENT',\n",
    "    'DATE_RECEIVED',\n",
    "    'INITIAL_REPORT_TO_FDA',\n",
    "    'MANUFACTURER_G1_NAME',\n",
    "    'REMEDIAL_ACTION',\n",
    "    'EVENT_TYPE',\n",
    "    'MANUFACTURER_NAME',\n",
    "    'TYPE_OF_REPORT',\n",
    "    'SUMMARY_REPORT',\n",
    "    'NOE_SUMMARIZED',\n",
    "    'UDI-DI',\n",
    "    'UDI-PUBLIC',\n",
    "]\n",
    "\n",
    "data.drop(unwanted_columns, axis=1, inplace=True)\n"
   ]
  },
  {
   "cell_type": "code",
   "execution_count": null,
   "id": "0e10ab23-b2dd-4ce6-a2b4-ed1a4c13cb65",
   "metadata": {},
   "outputs": [],
   "source": [
    "print(f\"data frame creation complete: {data.shape}\")"
   ]
  },
  {
   "cell_type": "code",
   "execution_count": null,
   "id": "06fb2963-e437-4f18-9f05-7b3f99212225",
   "metadata": {},
   "outputs": [],
   "source": [
    "# Preview the data\n",
    "data.head()"
   ]
  },
  {
   "cell_type": "code",
   "execution_count": null,
   "id": "509dc2a9-8c22-4f68-b8f8-166cb4e550f9",
   "metadata": {},
   "outputs": [],
   "source": [
    "# Create a dataframe for the devices using the `GENERIC_NAME` column of the dataframe, removing duplicates as needed\n",
    "generic_names = pd.DataFrame(data['GENERIC_NAME'].value_counts())\n",
    "\n",
    "# Create a dataframe for the defects using the `DEFECT_PROBLEM_TEXT` column of the dataframe, removing duplicates as needed\n",
    "defects = pd.DataFrame(data['DEVICE_PROBLEM_TEXT'].value_counts())\n"
   ]
  },
  {
   "cell_type": "code",
   "execution_count": null,
   "id": "c2871434-0e1b-4aaa-b443-09d8eaa5dbf1",
   "metadata": {},
   "outputs": [],
   "source": [
    "# Preview the data\n",
    "generic_names.head(1000)"
   ]
  },
  {
   "cell_type": "code",
   "execution_count": null,
   "id": "fa208aa2-02bd-4b08-9df5-82db66ca112e",
   "metadata": {},
   "outputs": [],
   "source": [
    "generic_names.shape"
   ]
  },
  {
   "cell_type": "code",
   "execution_count": null,
   "id": "6ead025d-6213-4650-8ee9-90b975231ad0",
   "metadata": {},
   "outputs": [],
   "source": [
    "generic_names.sum()"
   ]
  },
  {
   "cell_type": "code",
   "execution_count": null,
   "id": "ace3693b-d928-4c64-a4e4-4eea05b2025c",
   "metadata": {},
   "outputs": [],
   "source": [
    "# Preview the data\n",
    "defects.head()"
   ]
  },
  {
   "cell_type": "markdown",
   "id": "0656c24f-7a2d-472b-98b5-62a4713cd38a",
   "metadata": {},
   "source": [
    "# youtube video \n",
    "\n",
    "-https://www.youtube.com/watch?v=O60CFmcWyEY Nested for loops"
   ]
  },
  {
   "cell_type": "code",
   "execution_count": null,
   "id": "2e8cafee-1817-484c-b81a-bb57e2e109f1",
   "metadata": {},
   "outputs": [],
   "source": [
    "## Example of using nested for loops to look up data in a dataframe"
   ]
  },
  {
   "cell_type": "code",
   "execution_count": null,
   "id": "7560661a-f44b-4a34-a262-326a5553c9ec",
   "metadata": {},
   "outputs": [],
   "source": [
    "# import the YAML library for reporting\n",
    "import yaml\n",
    "\n",
    "# initialize the report\n",
    "report = {}\n",
    "\n",
    "# initialize the data; first column is th device, second column is the text\n",
    "sample_data = {\n",
    "    0: ['pump','fire'],\n",
    "    1: ['pump', 'blew up'],\n",
    "    2: ['knee', 'popped'],\n",
    "    3: ['knee', 'popped'],\n",
    "    4: ['foot', 'toe'],\n",
    "    5: ['leg', 'green']\n",
    "}\n",
    "\n",
    "# create lists of the unique values in the data\n",
    "generic_device = ['pump', 'knee', 'foot', 'leg']\n",
    "text = ['fire', 'blew up', 'popped', 'toe', 'green']\n",
    "\n",
    "# the next few lines initialize the values in the report to 0\n",
    "for i in generic_device:\n",
    "    report[i] = {}\n",
    "    \n",
    "# for label, content in generic_names.iterrows():\n",
    "#    report[label] = {}\n",
    "\n",
    "for i in generic_device:\n",
    "    for j in text:\n",
    "        report[i][j] = 0\n",
    "\n",
    "# for label, content in generic_names.iterrows():\n",
    "#    for i, j in defects.iterrows():\n",
    "#       report[label][i] = 0\n",
    "\n",
    "# The processing starts here:\n",
    "# for each device...\n",
    "for i in generic_device:\n",
    "    \n",
    "    # and each defect....\n",
    "    for j in text:\n",
    "        \n",
    "        # look at every row of data....\n",
    "        for row in sample_data:\n",
    "            \n",
    "            # and if both the device and the text are present in this row, update the report by adding 1\n",
    "            if i in sample_data[row] and j in sample_data[row]:\n",
    "                report[i][j] += 1\n",
    "\n",
    "# print the report\n",
    "print(yaml.dump(report, default_flow_style=False))"
   ]
  },
  {
   "cell_type": "code",
   "execution_count": null,
   "id": "2abe7f1b-0549-45ab-a61e-38c317e7de7c",
   "metadata": {},
   "outputs": [],
   "source": [
    "import yaml\n",
    "\n",
    "# initalize the report \n",
    "report = {}\n",
    "\n",
    "for label, content in generic_names.iterrows():\n",
    "    report[label] = {}\n",
    "    \n",
    "report['GENERIC_NAME'] = {}  \n",
    "\n",
    "for label, content in generic_names.iterrows():\n",
    "    for i,j in defects.iterrows():\n",
    "        report[label][i] = 0    \n",
    "        \n",
    "for label, content in generic_names.iterrows():\n",
    "    for i,j in defects.iterrows():  \n",
    "        pass"
   ]
  }
 ],
 "metadata": {
  "kernelspec": {
   "display_name": "conda_amazonei_pytorch_latest_p37",
   "language": "python",
   "name": "conda_amazonei_pytorch_latest_p37"
  },
  "language_info": {
   "codemirror_mode": {
    "name": "ipython",
    "version": 3
   },
   "file_extension": ".py",
   "mimetype": "text/x-python",
   "name": "python",
   "nbconvert_exporter": "python",
   "pygments_lexer": "ipython3",
   "version": "3.7.12"
  }
 },
 "nbformat": 4,
 "nbformat_minor": 5
}
