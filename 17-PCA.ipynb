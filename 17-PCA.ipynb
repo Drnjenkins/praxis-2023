{
 "cells": [
  {
   "cell_type": "markdown",
   "id": "72d6fc98-063e-42c8-98cc-656b2e2b35fb",
   "metadata": {},
   "source": [
    "# Trying PCA with Text Hero\n"
   ]
  },
  {
   "cell_type": "code",
   "execution_count": null,
   "id": "399e6bf8-a0f8-4c96-9614-8bc33ef77ca2",
   "metadata": {},
   "outputs": [],
   "source": [
    "!pip install texthero -q > /dev/null"
   ]
  },
  {
   "cell_type": "code",
   "execution_count": null,
   "id": "cab17b4c-cebc-4cbf-800f-c547bd8254e2",
   "metadata": {},
   "outputs": [],
   "source": [
    "import texthero as hero\n",
    "df['PCA'] = (df['LEMMATIZED_TEXT'].pipe(hero.clean).pipe(hero.tfidf).pipe(hero.pca))\n",
    "df['PCA'].shape"
   ]
  },
  {
   "cell_type": "code",
   "execution_count": null,
   "id": "8d6a1906-b665-465b-9392-9c69343ede9f",
   "metadata": {},
   "outputs": [],
   "source": [
    "df['PCA'].head()"
   ]
  }
 ],
 "metadata": {
  "kernelspec": {
   "display_name": "conda_amazonei_pytorch_latest_p37",
   "language": "python",
   "name": "conda_amazonei_pytorch_latest_p37"
  },
  "language_info": {
   "codemirror_mode": {
    "name": "ipython",
    "version": 3
   },
   "file_extension": ".py",
   "mimetype": "text/x-python",
   "name": "python",
   "nbconvert_exporter": "python",
   "pygments_lexer": "ipython3",
   "version": "3.7.10"
  }
 },
 "nbformat": 4,
 "nbformat_minor": 5
}
