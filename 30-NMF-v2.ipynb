{
 "cells": [
  {
   "cell_type": "markdown",
   "id": "628bffb8-ff94-4c3d-96c0-1f06de4ac7f8",
   "metadata": {},
   "source": [
    "# NMF"
   ]
  },
  {
   "cell_type": "code",
   "execution_count": 1,
   "id": "f2cc4c2d-183c-40e3-9a01-dc77136fc7c3",
   "metadata": {},
   "outputs": [],
   "source": [
    "import pandas as pd\n",
    "import os\n",
    "import csv\n",
    "\n",
    "# Identify the working directory and data files\n",
    "working_directory = \"./30-NMF-v2\"\n",
    "\n",
    "# Create the working directory if needed\n",
    "try:\n",
    "    os.makedirs(working_directory, exist_ok=True)\n",
    "except OSError as error:\n",
    "    print(f\"Error creating {working_directory}: {error}\")"
   ]
  },
  {
   "cell_type": "code",
   "execution_count": 2,
   "id": "f8010892-3425-41c1-9886-e29909757bc8",
   "metadata": {
    "tags": []
   },
   "outputs": [
    {
     "name": "stdout",
     "output_type": "stream",
     "text": [
      "Note: you may need to restart the kernel to use updated packages.\n"
     ]
    }
   ],
   "source": [
    "%pip install --quiet --upgrade nltk gensim"
   ]
  },
  {
   "cell_type": "code",
   "execution_count": 3,
   "id": "290cc46f-fc36-4898-893f-a28fa2749e96",
   "metadata": {
    "tags": []
   },
   "outputs": [
    {
     "name": "stdout",
     "output_type": "stream",
     "text": [
      "/home/ec2-user/anaconda3/envs/amazonei_pytorch_latest_p37/lib/python3.7/runpy.py:125: RuntimeWarning: 'nltk.downloader' found in sys.modules after import of package 'nltk', but prior to execution of 'nltk.downloader'; this may result in unpredictable behaviour\n",
      "  warn(RuntimeWarning(msg))\n"
     ]
    }
   ],
   "source": [
    "! python -m nltk.downloader --quiet 'all'"
   ]
  },
  {
   "cell_type": "code",
   "execution_count": 4,
   "id": "a5c19b5b-a9f2-4aae-b01a-799379ec1d54",
   "metadata": {
    "tags": []
   },
   "outputs": [],
   "source": [
    "# Read the preprocessed data into a dataframe\n",
    "import pickle\n",
    "\n",
    "with open(\"./21-Preprocess-Combined-Data-v2/dataframe.pickle\", \"rb\") as f:\n",
    "    df = pickle.load(f)"
   ]
  },
  {
   "cell_type": "code",
   "execution_count": 5,
   "id": "9a074add-a605-4ebb-a8d0-edc752cd5964",
   "metadata": {
    "tags": []
   },
   "outputs": [
    {
     "data": {
      "text/plain": [
       "(5736, 20)"
      ]
     },
     "execution_count": 5,
     "metadata": {},
     "output_type": "execute_result"
    }
   ],
   "source": [
    "df.shape"
   ]
  },
  {
   "cell_type": "code",
   "execution_count": 6,
   "id": "cb9e03ea-d1a6-45e2-9274-228384d572ee",
   "metadata": {
    "tags": []
   },
   "outputs": [
    {
     "data": {
      "text/html": [
       "<div>\n",
       "<style scoped>\n",
       "    .dataframe tbody tr th:only-of-type {\n",
       "        vertical-align: middle;\n",
       "    }\n",
       "\n",
       "    .dataframe tbody tr th {\n",
       "        vertical-align: top;\n",
       "    }\n",
       "\n",
       "    .dataframe thead th {\n",
       "        text-align: right;\n",
       "    }\n",
       "</style>\n",
       "<table border=\"1\" class=\"dataframe\">\n",
       "  <thead>\n",
       "    <tr style=\"text-align: right;\">\n",
       "      <th></th>\n",
       "      <th>ROW_ID</th>\n",
       "      <th>FOI_TEXT</th>\n",
       "      <th>DEVICE_PROBLEM_CODE</th>\n",
       "      <th>DEVICE_PROBLEM_TEXT</th>\n",
       "      <th>GENERIC_NAME</th>\n",
       "      <th>DEVICE_REPORT_PRODUCT_CODE</th>\n",
       "      <th>UDI-DI</th>\n",
       "      <th>UDI-PUBLIC</th>\n",
       "      <th>DATE_OF_EVENT</th>\n",
       "      <th>REPORTER_OCCUPATION_CODE</th>\n",
       "      <th>REPORT_DATE</th>\n",
       "      <th>EVENT_LOCATION</th>\n",
       "      <th>SOURCE_TYPE</th>\n",
       "      <th>TOKENIZED_TEXT</th>\n",
       "      <th>NOPUNCT_TEXT</th>\n",
       "      <th>NOSTOPWORDS_TEXT</th>\n",
       "      <th>NODIGITS_TEXT</th>\n",
       "      <th>POS_TEXT</th>\n",
       "      <th>LEMMATIZED_TEXT</th>\n",
       "      <th>STEMMED_TEXT</th>\n",
       "    </tr>\n",
       "  </thead>\n",
       "  <tbody>\n",
       "    <tr>\n",
       "      <th>0</th>\n",
       "      <td>1969025</td>\n",
       "      <td>IT WAS REPORTED THAT THE TRANSMITTER LOST CONN...</td>\n",
       "      <td>3283</td>\n",
       "      <td>Wireless Communication Problem</td>\n",
       "      <td>CONTINUOUS GLUCOSE MONITOR</td>\n",
       "      <td>QBJ</td>\n",
       "      <td></td>\n",
       "      <td></td>\n",
       "      <td>07/30/2020</td>\n",
       "      <td>000</td>\n",
       "      <td></td>\n",
       "      <td>I</td>\n",
       "      <td>CONSUMER</td>\n",
       "      <td>[it, was, reported, that, the, transmitter, lo...</td>\n",
       "      <td>[it, was, reported, that, the, transmitter, lo...</td>\n",
       "      <td>[reported, transmitter, lost, connection, pump...</td>\n",
       "      <td>[reported, transmitter, lost, connection, pump...</td>\n",
       "      <td>[(reported, VBN), (transmitter, NN), (lost, VB...</td>\n",
       "      <td>[report, transmitter, lose, connection, pump, ...</td>\n",
       "      <td>[report, transmitt, lost, connect, pump, great...</td>\n",
       "    </tr>\n",
       "    <tr>\n",
       "      <th>1</th>\n",
       "      <td>1426265</td>\n",
       "      <td>IT WAS REPORTED THAT SIGNAL LOSS OVER ONE HOUR...</td>\n",
       "      <td>3283</td>\n",
       "      <td>Wireless Communication Problem</td>\n",
       "      <td>CONTINUOUS GLUCOSE MONITOR</td>\n",
       "      <td>QBJ</td>\n",
       "      <td>00386270000385</td>\n",
       "      <td>00386270000385</td>\n",
       "      <td>06/05/2020</td>\n",
       "      <td>000</td>\n",
       "      <td></td>\n",
       "      <td>I</td>\n",
       "      <td>CONSUMER</td>\n",
       "      <td>[it, was, reported, that, signal, loss, over, ...</td>\n",
       "      <td>[it, was, reported, that, signal, loss, over, ...</td>\n",
       "      <td>[reported, signal, loss, one, hour, occurred, ...</td>\n",
       "      <td>[reported, signal, loss, one, hour, occurred, ...</td>\n",
       "      <td>[(reported, VBN), (signal, JJ), (loss, NN), (o...</td>\n",
       "      <td>[report, signal, loss, one, hour, occur, produ...</td>\n",
       "      <td>[report, signal, loss, one, hour, occur, produ...</td>\n",
       "    </tr>\n",
       "    <tr>\n",
       "      <th>2</th>\n",
       "      <td>2609625</td>\n",
       "      <td>IT WAS REPORTED THAT TRANSMITTER FAILED ERROR ...</td>\n",
       "      <td>1435</td>\n",
       "      <td>No Device Output</td>\n",
       "      <td>CONTINUOUS GLUCOSE MONITOR</td>\n",
       "      <td>QBJ</td>\n",
       "      <td>00386270000385</td>\n",
       "      <td>00386270000385</td>\n",
       "      <td>10/05/2020</td>\n",
       "      <td>000</td>\n",
       "      <td></td>\n",
       "      <td>I</td>\n",
       "      <td>CONSUMER</td>\n",
       "      <td>[it, was, reported, that, transmitter, failed,...</td>\n",
       "      <td>[it, was, reported, that, transmitter, failed,...</td>\n",
       "      <td>[reported, transmitter, failed, error, occurre...</td>\n",
       "      <td>[reported, transmitter, failed, error, occurre...</td>\n",
       "      <td>[(reported, VBN), (transmitter, NN), (failed, ...</td>\n",
       "      <td>[report, transmitter, fail, error, occur, data...</td>\n",
       "      <td>[report, transmitt, fail, error, occur, data, ...</td>\n",
       "    </tr>\n",
       "    <tr>\n",
       "      <th>3</th>\n",
       "      <td>2813837</td>\n",
       "      <td>IT WAS REPORTED THAT SIGNAL LOSS OVER ONE HOUR...</td>\n",
       "      <td>3283</td>\n",
       "      <td>Wireless Communication Problem</td>\n",
       "      <td>CONTINUOUS GLUCOSE MONITOR</td>\n",
       "      <td>QBJ</td>\n",
       "      <td>00386270000385</td>\n",
       "      <td>00386270000385</td>\n",
       "      <td>10/23/2020</td>\n",
       "      <td>000</td>\n",
       "      <td></td>\n",
       "      <td>I</td>\n",
       "      <td>CONSUMER</td>\n",
       "      <td>[it, was, reported, that, signal, loss, over, ...</td>\n",
       "      <td>[it, was, reported, that, signal, loss, over, ...</td>\n",
       "      <td>[reported, signal, loss, one, hour, occurred, ...</td>\n",
       "      <td>[reported, signal, loss, one, hour, occurred, ...</td>\n",
       "      <td>[(reported, VBN), (signal, JJ), (loss, NN), (o...</td>\n",
       "      <td>[report, signal, loss, one, hour, occur, revie...</td>\n",
       "      <td>[report, signal, loss, one, hour, occur, revie...</td>\n",
       "    </tr>\n",
       "  </tbody>\n",
       "</table>\n",
       "</div>"
      ],
      "text/plain": [
       "    ROW_ID                                           FOI_TEXT  \\\n",
       "0  1969025  IT WAS REPORTED THAT THE TRANSMITTER LOST CONN...   \n",
       "1  1426265  IT WAS REPORTED THAT SIGNAL LOSS OVER ONE HOUR...   \n",
       "2  2609625  IT WAS REPORTED THAT TRANSMITTER FAILED ERROR ...   \n",
       "3  2813837  IT WAS REPORTED THAT SIGNAL LOSS OVER ONE HOUR...   \n",
       "\n",
       "  DEVICE_PROBLEM_CODE             DEVICE_PROBLEM_TEXT  \\\n",
       "0                3283  Wireless Communication Problem   \n",
       "1                3283  Wireless Communication Problem   \n",
       "2                1435                No Device Output   \n",
       "3                3283  Wireless Communication Problem   \n",
       "\n",
       "                 GENERIC_NAME DEVICE_REPORT_PRODUCT_CODE          UDI-DI  \\\n",
       "0  CONTINUOUS GLUCOSE MONITOR                        QBJ                   \n",
       "1  CONTINUOUS GLUCOSE MONITOR                        QBJ  00386270000385   \n",
       "2  CONTINUOUS GLUCOSE MONITOR                        QBJ  00386270000385   \n",
       "3  CONTINUOUS GLUCOSE MONITOR                        QBJ  00386270000385   \n",
       "\n",
       "       UDI-PUBLIC DATE_OF_EVENT REPORTER_OCCUPATION_CODE REPORT_DATE  \\\n",
       "0                    07/30/2020                      000               \n",
       "1  00386270000385    06/05/2020                      000               \n",
       "2  00386270000385    10/05/2020                      000               \n",
       "3  00386270000385    10/23/2020                      000               \n",
       "\n",
       "  EVENT_LOCATION SOURCE_TYPE  \\\n",
       "0              I    CONSUMER   \n",
       "1              I    CONSUMER   \n",
       "2              I    CONSUMER   \n",
       "3              I    CONSUMER   \n",
       "\n",
       "                                      TOKENIZED_TEXT  \\\n",
       "0  [it, was, reported, that, the, transmitter, lo...   \n",
       "1  [it, was, reported, that, signal, loss, over, ...   \n",
       "2  [it, was, reported, that, transmitter, failed,...   \n",
       "3  [it, was, reported, that, signal, loss, over, ...   \n",
       "\n",
       "                                        NOPUNCT_TEXT  \\\n",
       "0  [it, was, reported, that, the, transmitter, lo...   \n",
       "1  [it, was, reported, that, signal, loss, over, ...   \n",
       "2  [it, was, reported, that, transmitter, failed,...   \n",
       "3  [it, was, reported, that, signal, loss, over, ...   \n",
       "\n",
       "                                    NOSTOPWORDS_TEXT  \\\n",
       "0  [reported, transmitter, lost, connection, pump...   \n",
       "1  [reported, signal, loss, one, hour, occurred, ...   \n",
       "2  [reported, transmitter, failed, error, occurre...   \n",
       "3  [reported, signal, loss, one, hour, occurred, ...   \n",
       "\n",
       "                                       NODIGITS_TEXT  \\\n",
       "0  [reported, transmitter, lost, connection, pump...   \n",
       "1  [reported, signal, loss, one, hour, occurred, ...   \n",
       "2  [reported, transmitter, failed, error, occurre...   \n",
       "3  [reported, signal, loss, one, hour, occurred, ...   \n",
       "\n",
       "                                            POS_TEXT  \\\n",
       "0  [(reported, VBN), (transmitter, NN), (lost, VB...   \n",
       "1  [(reported, VBN), (signal, JJ), (loss, NN), (o...   \n",
       "2  [(reported, VBN), (transmitter, NN), (failed, ...   \n",
       "3  [(reported, VBN), (signal, JJ), (loss, NN), (o...   \n",
       "\n",
       "                                     LEMMATIZED_TEXT  \\\n",
       "0  [report, transmitter, lose, connection, pump, ...   \n",
       "1  [report, signal, loss, one, hour, occur, produ...   \n",
       "2  [report, transmitter, fail, error, occur, data...   \n",
       "3  [report, signal, loss, one, hour, occur, revie...   \n",
       "\n",
       "                                        STEMMED_TEXT  \n",
       "0  [report, transmitt, lost, connect, pump, great...  \n",
       "1  [report, signal, loss, one, hour, occur, produ...  \n",
       "2  [report, transmitt, fail, error, occur, data, ...  \n",
       "3  [report, signal, loss, one, hour, occur, revie...  "
      ]
     },
     "execution_count": 6,
     "metadata": {},
     "output_type": "execute_result"
    }
   ],
   "source": [
    "df.head(4)"
   ]
  },
  {
   "cell_type": "code",
   "execution_count": 7,
   "id": "909b6eb7-bf86-43cc-a259-9613ac8c82ed",
   "metadata": {},
   "outputs": [],
   "source": [
    "num_topics = 15  # The number of topics you want to extract\n",
    "max_topics = 15\n",
    "num_top_words = 10  # or the number of top words you want to display for each topic"
   ]
  },
  {
   "cell_type": "code",
   "execution_count": 8,
   "id": "2bd5ead0-f469-4ae2-9263-176f53e6034a",
   "metadata": {
    "tags": []
   },
   "outputs": [],
   "source": [
    "# Step 1: Load text data\n",
    "text_data = []\n",
    "\n",
    "for text_list in df[\"LEMMATIZED_TEXT\"]:\n",
    "    sentence = \" \".join(text_list)\n",
    "    text_data.append(sentence)\n",
    "\n",
    "# Add the resulting sentences as a new column to the dataframe\n",
    "df[\"LEMMATIZED_SENTENCES\"] = text_data"
   ]
  },
  {
   "cell_type": "code",
   "execution_count": 9,
   "id": "4ea124f4-cfc3-436d-94e4-c3dd8a35c5da",
   "metadata": {
    "tags": []
   },
   "outputs": [
    {
     "data": {
      "text/plain": [
       "5736"
      ]
     },
     "execution_count": 9,
     "metadata": {},
     "output_type": "execute_result"
    }
   ],
   "source": [
    "len(text_data)"
   ]
  },
  {
   "cell_type": "code",
   "execution_count": 10,
   "id": "543453a3-2b73-4d5c-8529-8464979dcd23",
   "metadata": {
    "tags": []
   },
   "outputs": [],
   "source": [
    "from sklearn.feature_extraction.text import TfidfVectorizer\n",
    "from sklearn.decomposition import NMF\n",
    "\n",
    "from gensim.corpora import Dictionary\n",
    "from gensim.models import CoherenceModel\n",
    "\n",
    "# Step 2: Convert text data into a document-term matrix using TF-IDF vectorizer\n",
    "vectorizer = TfidfVectorizer()\n",
    "tfidf = vectorizer.fit_transform(text_data)"
   ]
  },
  {
   "cell_type": "code",
   "execution_count": 11,
   "id": "2a20b626-9dbe-4c22-89cc-e7a4a9beb8e4",
   "metadata": {
    "tags": []
   },
   "outputs": [],
   "source": [
    "# Step 3: Apply NMF with k components\n",
    "# k = 4\n",
    "# nmf_model = NMF(n_components=k, random_state=42)\n",
    "# nmf = nmf_model.fit_transform(tfidf)"
   ]
  },
  {
   "cell_type": "code",
   "execution_count": 12,
   "id": "33d86efa-e6e5-4aa7-8655-da5879e9f73a",
   "metadata": {
    "tags": []
   },
   "outputs": [
    {
     "name": "stdout",
     "output_type": "stream",
     "text": [
      "k = 1, Coherence score: 0.8242367870330447\n",
      "k = 2, Coherence score: 0.8762043702033662\n",
      "k = 3, Coherence score: 0.8976228942418699\n",
      "k = 4, Coherence score: 0.9120511886876892\n",
      "k = 5, Coherence score: 0.8773667632979778\n",
      "k = 6, Coherence score: 0.8867513782665509\n",
      "k = 7, Coherence score: 0.8731555356206272\n",
      "k = 8, Coherence score: 0.8803461017782688\n",
      "k = 9, Coherence score: 0.8492895396283284\n",
      "k = 10, Coherence score: 0.8952211464228693\n",
      "k = 11, Coherence score: 0.8695215772958176\n",
      "k = 12, Coherence score: 0.8586940451115597\n",
      "k = 13, Coherence score: 0.856328433237104\n",
      "k = 14, Coherence score: 0.859697521224094\n",
      "k = 15, Coherence score: 0.8858724416688208\n",
      "k = 16, Coherence score: 0.8525688971265848\n",
      "k = 17, Coherence score: 0.846169764417558\n",
      "k = 18, Coherence score: 0.8602262308575535\n",
      "k = 19, Coherence score: 0.8441136451029291\n"
     ]
    },
    {
     "name": "stderr",
     "output_type": "stream",
     "text": [
      "/home/ec2-user/anaconda3/envs/amazonei_pytorch_latest_p37/lib/python3.7/site-packages/sklearn/decomposition/_nmf.py:1641: ConvergenceWarning: Maximum number of iterations 200 reached. Increase it to improve convergence.\n",
      "  ConvergenceWarning,\n"
     ]
    },
    {
     "name": "stdout",
     "output_type": "stream",
     "text": [
      "k = 20, Coherence score: 0.8400698458802781\n",
      "k = 21, Coherence score: 0.8731112763649713\n",
      "k = 22, Coherence score: 0.8584423426116099\n",
      "k = 23, Coherence score: 0.8486432617085559\n",
      "k = 24, Coherence score: 0.8293300863764643\n",
      "k = 25, Coherence score: 0.8295515795029944\n"
     ]
    }
   ],
   "source": [
    "num_top_words = 10\n",
    "coherence_scores = []\n",
    "\n",
    "for k in range(1, 26):\n",
    "    nmf_model = NMF(n_components=k, random_state=42, init=\"nndsvda\")\n",
    "    nmf = nmf_model.fit_transform(tfidf)\n",
    "    vocab = vectorizer.get_feature_names_out()\n",
    "    topics = []\n",
    "    for topic_idx, topic in enumerate(nmf_model.components_):\n",
    "        top_words = [vocab[i] for i in topic.argsort()[: -num_top_words - 1 : -1]]\n",
    "        topics.append(top_words)\n",
    "    texts = df[\"LEMMATIZED_TEXT\"].tolist()\n",
    "    dictionary = Dictionary(texts)\n",
    "    topics_ids = [[dictionary.token2id[word] for word in topic] for topic in topics]\n",
    "    coherence_model = CoherenceModel(\n",
    "        topics=topics_ids, texts=texts, dictionary=dictionary, coherence=\"c_v\"\n",
    "    )\n",
    "    coherence_score = coherence_model.get_coherence()\n",
    "    coherence_scores.append(coherence_score)\n",
    "    print(f\"k = {k}, Coherence score: {coherence_score}\")"
   ]
  },
  {
   "cell_type": "code",
   "execution_count": 13,
   "id": "227189a8-bcf3-452f-a122-2e671015fe9b",
   "metadata": {
    "tags": []
   },
   "outputs": [
    {
     "name": "stderr",
     "output_type": "stream",
     "text": [
      "Matplotlib is building the font cache; this may take a moment.\n"
     ]
    },
    {
     "data": {
      "image/png": "[encoded data removed]",
      "text/plain": [
       "<Figure size 640x480 with 1 Axes>"
      ]
     },
     "metadata": {},
     "output_type": "display_data"
    }
   ],
   "source": [
    "import matplotlib.pyplot as plt\n",
    "import base64\n",
    "from io import BytesIO\n",
    "\n",
    "plt.plot(coherence_scores)\n",
    "\n",
    "tmpfile = BytesIO()\n",
    "plt.savefig(tmpfile, format=\"png\")\n",
    "encoded = base64.b64encode(tmpfile.getvalue()).decode(\"utf-8\")\n",
    "\n",
    "html = (\n",
    "    f\"<html><head><title>NMF Coherence Score - {working_directory}</title></head><body>\"\n",
    "    + f\"<img src='data:image/png;base64,{encoded}'>\"\n",
    "    + \"</body></html>\"\n",
    ")\n",
    "\n",
    "with open(f\"{working_directory}/coherence_score.html\", \"w\") as f:\n",
    "    f.write(html)\n",
    "\n",
    "plt.show()"
   ]
  },
  {
   "cell_type": "code",
   "execution_count": 14,
   "id": "4b1b9f9c-69b9-4ebd-ad5e-c3a9bdc2537d",
   "metadata": {
    "tags": []
   },
   "outputs": [],
   "source": [
    "selected_k = 10"
   ]
  },
  {
   "cell_type": "code",
   "execution_count": 15,
   "id": "57046e17-a260-435a-859e-d4950e523a7d",
   "metadata": {
    "tags": []
   },
   "outputs": [
    {
     "name": "stdout",
     "output_type": "stream",
     "text": [
      "Topic #0: provide, confirmation, evaluation, product, report, data, could, determine, injury, intervention\n",
      "Topic #1: relevant, become, new, return, supplemental, submit, available, information, evaluation, product\n",
      "Topic #2: loss, signal, within, window, one, share, log, review, investigation, hour\n",
      "Topic #3: fail, transmitter, error, evaluate, report, confirm, data, allegation, injury, intervention\n",
      "Topic #4: read, bg, mgdl, cgm, meter, glucose, reportedly, inaccuracy, continuous, monitor\n",
      "Topic #5: pump, connection, lose, transmitter, great, issue, additional, replace, patient, resolve\n",
      "Topic #6: device, receive, however, yet, expect, return, submit, supplemental, perform, evaluation\n",
      "Topic #7: perform, pass, test, inspection, visual, voltage, external, fail, pair, due\n",
      "Topic #8: glucose, sensor, value, fall, parkes, grid, zone, insert, b6, abdomen\n",
      "Topic #9: customer, transmitter, send, replacement, root, receive, additional, failed, month, event\n"
     ]
    }
   ],
   "source": [
    "nmf_model = NMF(n_components=selected_k, random_state=42, init=\"nndsvda\")\n",
    "nmf = nmf_model.fit_transform(tfidf)\n",
    "vocab = vectorizer.get_feature_names_out()\n",
    "topics = []\n",
    "for topic_idx, topic in enumerate(nmf_model.components_):\n",
    "    top_words = [vocab[i] for i in topic.argsort()[: -num_top_words - 1 : -1]]\n",
    "    topics.append(top_words)\n",
    "    selected_words = \", \".join(\n",
    "        [vocab[i] for i in topic.argsort()[: -num_top_words - 1 : -1]]\n",
    "    )\n",
    "    print(f\"Topic #{topic_idx}: {selected_words}\")"
   ]
  },
  {
   "cell_type": "code",
   "execution_count": 16,
   "id": "ec2c76da-4a77-4888-9235-a4f112521328",
   "metadata": {
    "tags": []
   },
   "outputs": [
    {
     "name": "stdout",
     "output_type": "stream",
     "text": [
      "upload: ./index.html to s3://praxis-2023-html-output/index.html\n",
      "upload: 30-NMF-v2/coherence_score.html to s3://praxis-2023-html-output/30-NMF-v2/coherence_score.html\n",
      "\n",
      "fin\n"
     ]
    }
   ],
   "source": [
    "import os\n",
    "import fnmatch\n",
    "import subprocess\n",
    "\n",
    "bucket = \"praxis-2023-html-output\"\n",
    "website = f\"http://{bucket}.s3-website-us-west-2.amazonaws.com\"\n",
    "\n",
    "# Use the fnmatch module to find all files in the current directory that end in \".html\"\n",
    "file_list = []\n",
    "for root, dirnames, filenames in os.walk(\".\"):\n",
    "    for filename in fnmatch.filter(filenames, \"*.html\"):\n",
    "        file_list.append(os.path.join(root, filename))\n",
    "\n",
    "# Sort the file list alphabetically\n",
    "file_list.sort()\n",
    "\n",
    "# Create the HTML file and write the header\n",
    "with open(os.path.join(\".\", \"index.html\"), \"w\") as f:\n",
    "    f.write(\n",
    "        \"\"\"<html>\n",
    "        <head>\n",
    "            <title>Praxis 2023 HTML Output</title>\n",
    "            <style>\n",
    "                table {\n",
    "                    border-collapse: collapse;\n",
    "                    width: 100%;\n",
    "                }\n",
    "                th, td {\n",
    "                    text-align: left;\n",
    "                    padding: 8px;\n",
    "                }\n",
    "                th {\n",
    "                    background-color: #007bff;\n",
    "                    color: #fff;\n",
    "                    font-weight: bold;\n",
    "                }\n",
    "                tr:nth-child(even) {\n",
    "                    background-color: #f2f2f2;\n",
    "                }\n",
    "                tr:hover {\n",
    "                    background-color: #ddd;\n",
    "                }\n",
    "            </style>\n",
    "        </head>\n",
    "        <body>\n",
    "            <table>\n",
    "                <tr><th>Name</th><th>Size</th></tr>\\n\n",
    "    \"\"\"\n",
    "    )\n",
    "\n",
    "    # Loop through each file and add a row to the table\n",
    "    for file_name in file_list:\n",
    "        if file_name in [\"./index.html\"]:\n",
    "            continue\n",
    "\n",
    "        file_size = os.path.getsize(file_name)\n",
    "        f.write(\n",
    "            f'<tr><td><a href=\"{website}/{file_name}\" target=\"_blank\" rel=\"noopener noreferrer\">{file_name}</a></td><td>{int(file_size / 1048576)} MB</td></tr>\\n'\n",
    "        )\n",
    "\n",
    "    # Write the footer and close the file\n",
    "    f.write(\"</table></body></html>\")\n",
    "\n",
    "command = [\n",
    "    \"aws\",\n",
    "    \"s3\",\n",
    "    \"sync\",\n",
    "    \".\",\n",
    "    f\"s3://{bucket}\",\n",
    "    \"--exclude\",\n",
    "    \"*\",\n",
    "    \"--include\",\n",
    "    \"*.html\",\n",
    "    \"--no-progress\",\n",
    "]\n",
    "\n",
    "# Run the command and wait for it to complete\n",
    "output = subprocess.run(command, capture_output=True, text=True)\n",
    "\n",
    "# Print the output\n",
    "print(output.stdout)\n",
    "print(\"fin\")"
   ]
  }
 ],
 "metadata": {
  "kernelspec": {
   "display_name": "conda_amazonei_pytorch_latest_p37",
   "language": "python",
   "name": "conda_amazonei_pytorch_latest_p37"
  },
  "language_info": {
   "codemirror_mode": {
    "name": "ipython",
    "version": 3
   },
   "file_extension": ".py",
   "mimetype": "text/x-python",
   "name": "python",
   "nbconvert_exporter": "python",
   "pygments_lexer": "ipython3",
   "version": "3.7.10"
  }
 },
 "nbformat": 4,
 "nbformat_minor": 5
}
