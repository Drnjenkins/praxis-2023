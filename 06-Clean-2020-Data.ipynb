{
 "cells": [
  {
   "cell_type": "markdown",
   "id": "6ce42bcb-15c3-4086-96f3-3d9894c6973d",
   "metadata": {},
   "source": [
    "# Clean 2020 Data\n",
    "In previous processing, some columns were removed to minimize the number of columns in the data.\n",
    "\n",
    "However, the data set contained more than 3M rows of data.  \n",
    "\n",
    "Turns out we need to keep the following columns:\n",
    "- 'DEVICE_REPORT_PRODUCT_CODE'\n",
    "- 'FOI_TEXT'"
   ]
  },
  {
   "cell_type": "code",
   "execution_count": 1,
   "id": "86ef1c34",
   "metadata": {},
   "outputs": [],
   "source": [
    "# set the year\n",
    "year = '2020'"
   ]
  },
  {
   "cell_type": "code",
   "execution_count": 2,
   "id": "51ab4e97-d7b1-43f3-a950-b2c68b566e37",
   "metadata": {},
   "outputs": [],
   "source": [
    "# Identify the data directory, working directory, and data files\n",
    "data_directory = f\"./{year}_reprocessed\"\n",
    "working_directory = f\"./{year}_clean\"\n",
    "data_file = f\"{data_directory}/{year}_data_complete.csv\"\n",
    "\n",
    "import os\n",
    "\n",
    "# Create the working directory if needed\n",
    "try:\n",
    "    os.makedirs(working_directory, exist_ok=True)\n",
    "except OSError as error:\n",
    "    print(f\"Error creating {working_directory}: {error}\")\n",
    "\n"
   ]
  },
  {
   "cell_type": "code",
   "execution_count": 3,
   "id": "7a892f09-e86c-46f7-bd3e-9eb74a79edd3",
   "metadata": {},
   "outputs": [],
   "source": [
    "import pandas as pd\n",
    "\n",
    "\n",
    "# Read the data into a pandas dataframe\n",
    "data = pd.read_csv(data_file, # The data file being read, from the variable assignment above\n",
    "                   on_bad_lines='warn', # This tells Pandas to only warn on bad lines vs causing an error\n",
    "                   dtype = 'str')       # This tells Pandas to treat all numbers as words"
   ]
  },
  {
   "cell_type": "code",
   "execution_count": 4,
   "id": "594be04e-e637-42e8-9c8a-e9c271b45434",
   "metadata": {},
   "outputs": [],
   "source": [
    "# Replace any records that Pandas converted to 'N/A' with an empty string.\n",
    "data.fillna('', inplace=True)"
   ]
  },
  {
   "cell_type": "code",
   "execution_count": 5,
   "id": "ac3098af-7ed2-4fb9-8bdf-e5402879360c",
   "metadata": {},
   "outputs": [
    {
     "name": "stdout",
     "output_type": "stream",
     "text": [
      "Number of: (Rows, Columns) = (3856740, 34)\n"
     ]
    }
   ],
   "source": [
    "print(f\"Number of: (Rows, Columns) = {data.shape}\")"
   ]
  },
  {
   "cell_type": "markdown",
   "id": "8013be05-2599-4a8b-b75b-e141b34b19ba",
   "metadata": {},
   "source": [
    "## Remove Unwanted Columns"
   ]
  },
  {
   "cell_type": "code",
   "execution_count": 6,
   "id": "a5c1f4bd-fa2c-4145-8a0c-c58bb95f77c8",
   "metadata": {},
   "outputs": [],
   "source": [
    "# Remove unwanted columns\n",
    "unwanted_columns = [\n",
    "    'MDR_REPORT_KEY',\n",
    "    'MDR_TEXT_KEY',\n",
    "    'TEXT_TYPE_CODE',\n",
    "    'PATIENT_SEQUENCE_NUMBER',\n",
    "    'DATE_REPORT',\n",
    "    'DEVICE_SEQUENCE_NO',\n",
    "    'BRAND_NAME',\n",
    "    'MANUFACTURER_D_NAME',\n",
    "    'MODEL_NUMBER',\n",
    "    'DEVICE_AVAILABILITY',\n",
    "    'REPORT_NUMBER',\n",
    "    'REPORT_SOURCE_CODE',\n",
    "    'NUMBER_DEVICES_IN_EVENT',\n",
    "    'DATE_RECEIVED',\n",
    "    'INITIAL_REPORT_TO_FDA',\n",
    "    'MANUFACTURER_G1_NAME',\n",
    "    'REMEDIAL_ACTION',\n",
    "    'EVENT_TYPE',\n",
    "    'MANUFACTURER_NAME',\n",
    "    'TYPE_OF_REPORT',\n",
    "    'SUMMARY_REPORT',\n",
    "    'NOE_SUMMARIZED',\n",
    "    #'UDI-DI',\n",
    "    #'UDI-PUBLIC',\n",
    "]\n",
    "\n",
    "data.drop(unwanted_columns, axis=1, inplace=True)"
   ]
  },
  {
   "cell_type": "code",
   "execution_count": 7,
   "id": "17f9fabc-1197-4455-a8ca-90a14c50fea1",
   "metadata": {},
   "outputs": [
    {
     "name": "stdout",
     "output_type": "stream",
     "text": [
      "Number of: (Rows, Columns) = (3856740, 12)\n"
     ]
    }
   ],
   "source": [
    "print(f\"Number of: (Rows, Columns) = {data.shape}\")"
   ]
  },
  {
   "cell_type": "code",
   "execution_count": 8,
   "id": "07cb13c2-59b9-4bc4-b26e-e3f2c0450a63",
   "metadata": {},
   "outputs": [
    {
     "data": {
      "text/html": [
       "<div>\n",
       "<style scoped>\n",
       "    .dataframe tbody tr th:only-of-type {\n",
       "        vertical-align: middle;\n",
       "    }\n",
       "\n",
       "    .dataframe tbody tr th {\n",
       "        vertical-align: top;\n",
       "    }\n",
       "\n",
       "    .dataframe thead th {\n",
       "        text-align: right;\n",
       "    }\n",
       "</style>\n",
       "<table border=\"1\" class=\"dataframe\">\n",
       "  <thead>\n",
       "    <tr style=\"text-align: right;\">\n",
       "      <th></th>\n",
       "      <th>FOI_TEXT</th>\n",
       "      <th>DEVICE_PROBLEM_CODE</th>\n",
       "      <th>DEVICE_PROBLEM_TEXT</th>\n",
       "      <th>GENERIC_NAME</th>\n",
       "      <th>DEVICE_REPORT_PRODUCT_CODE</th>\n",
       "      <th>UDI-DI</th>\n",
       "      <th>UDI-PUBLIC</th>\n",
       "      <th>DATE_OF_EVENT</th>\n",
       "      <th>REPORTER_OCCUPATION_CODE</th>\n",
       "      <th>REPORT_DATE</th>\n",
       "      <th>EVENT_LOCATION</th>\n",
       "      <th>SOURCE_TYPE</th>\n",
       "    </tr>\n",
       "  </thead>\n",
       "  <tbody>\n",
       "    <tr>\n",
       "      <th>0</th>\n",
       "      <td>THE RESULTS OF THE INVESTIGATION ARE INCONCLUS...</td>\n",
       "      <td>2993</td>\n",
       "      <td>Adverse Event Without Identified Device or Use...</td>\n",
       "      <td>DEFIBRILLATION LEAD</td>\n",
       "      <td>LWS</td>\n",
       "      <td>05414734502085</td>\n",
       "      <td>05414734502085</td>\n",
       "      <td>12/12/2019</td>\n",
       "      <td>001</td>\n",
       "      <td></td>\n",
       "      <td>I</td>\n",
       "      <td>COMPANY REPRESENTATIVE,HEALTH</td>\n",
       "    </tr>\n",
       "    <tr>\n",
       "      <th>1</th>\n",
       "      <td>IT WAS REPORTED THAT THE PATIENT EXPIRED. THER...</td>\n",
       "      <td>2993</td>\n",
       "      <td>Adverse Event Without Identified Device or Use...</td>\n",
       "      <td>DEFIBRILLATION LEAD</td>\n",
       "      <td>LWS</td>\n",
       "      <td>05414734502085</td>\n",
       "      <td>05414734502085</td>\n",
       "      <td>12/12/2019</td>\n",
       "      <td>001</td>\n",
       "      <td></td>\n",
       "      <td>I</td>\n",
       "      <td>COMPANY REPRESENTATIVE,HEALTH</td>\n",
       "    </tr>\n",
       "    <tr>\n",
       "      <th>2</th>\n",
       "      <td>INVESTIGATION RESULTS WILL BE PROVIDED IN THE ...</td>\n",
       "      <td>1332</td>\n",
       "      <td>Failure to Interrogate</td>\n",
       "      <td>IMPLANTABLE CARDIOVERTER DEFIBRILLATOR</td>\n",
       "      <td>NVZ</td>\n",
       "      <td>05414734504386</td>\n",
       "      <td>05414734504386</td>\n",
       "      <td>12/12/2019</td>\n",
       "      <td>000</td>\n",
       "      <td></td>\n",
       "      <td>I</td>\n",
       "      <td>COMPANY REPRESENTATIVE,HEALTH</td>\n",
       "    </tr>\n",
       "    <tr>\n",
       "      <th>3</th>\n",
       "      <td>IT WAS REPORTED THAT THE PATIENT CALLED EMERGE...</td>\n",
       "      <td>1332</td>\n",
       "      <td>Failure to Interrogate</td>\n",
       "      <td>IMPLANTABLE CARDIOVERTER DEFIBRILLATOR</td>\n",
       "      <td>NVZ</td>\n",
       "      <td>05414734504386</td>\n",
       "      <td>05414734504386</td>\n",
       "      <td>12/12/2019</td>\n",
       "      <td>000</td>\n",
       "      <td></td>\n",
       "      <td>I</td>\n",
       "      <td>COMPANY REPRESENTATIVE,HEALTH</td>\n",
       "    </tr>\n",
       "    <tr>\n",
       "      <th>4</th>\n",
       "      <td>COMMUNICATION FAILURE AND PREMATURE BATTERY DE...</td>\n",
       "      <td>1332</td>\n",
       "      <td>Failure to Interrogate</td>\n",
       "      <td>IMPLANTABLE CARDIOVERTER DEFIBRILLATOR</td>\n",
       "      <td>NVZ</td>\n",
       "      <td>05414734504386</td>\n",
       "      <td>05414734504386</td>\n",
       "      <td>12/12/2019</td>\n",
       "      <td>000</td>\n",
       "      <td></td>\n",
       "      <td>I</td>\n",
       "      <td>COMPANY REPRESENTATIVE,HEALTH</td>\n",
       "    </tr>\n",
       "    <tr>\n",
       "      <th>...</th>\n",
       "      <td>...</td>\n",
       "      <td>...</td>\n",
       "      <td>...</td>\n",
       "      <td>...</td>\n",
       "      <td>...</td>\n",
       "      <td>...</td>\n",
       "      <td>...</td>\n",
       "      <td>...</td>\n",
       "      <td>...</td>\n",
       "      <td>...</td>\n",
       "      <td>...</td>\n",
       "      <td>...</td>\n",
       "    </tr>\n",
       "    <tr>\n",
       "      <th>3856735</th>\n",
       "      <td>A REVIEW OF THE SUBJECT DEVICE DHR CONFIRMED T...</td>\n",
       "      <td>2937</td>\n",
       "      <td>Failure of Device to Self-Test</td>\n",
       "      <td>HOLMIUM (HO:YAG) SURGICAL LASERS AND DELIVERY ...</td>\n",
       "      <td>GEX</td>\n",
       "      <td>07290109140513</td>\n",
       "      <td>07290109140513</td>\n",
       "      <td>02/18/2020</td>\n",
       "      <td></td>\n",
       "      <td></td>\n",
       "      <td>I</td>\n",
       "      <td>USER FACILITY</td>\n",
       "    </tr>\n",
       "    <tr>\n",
       "      <th>3856736</th>\n",
       "      <td>THE CUSTOMER STATED THAT THE PREFENSE MONITORI...</td>\n",
       "      <td>3010</td>\n",
       "      <td>Power Problem</td>\n",
       "      <td>CENTRAL MONITORING STATION</td>\n",
       "      <td>DRG</td>\n",
       "      <td>00851725007023</td>\n",
       "      <td>00851725007023</td>\n",
       "      <td>04/14/2020</td>\n",
       "      <td></td>\n",
       "      <td></td>\n",
       "      <td>I</td>\n",
       "      <td>USER FACILITY</td>\n",
       "    </tr>\n",
       "    <tr>\n",
       "      <th>3856737</th>\n",
       "      <td>THE CUSTOMER STATED THAT THE PREFENSE MONITORI...</td>\n",
       "      <td>4032</td>\n",
       "      <td>Unintended Application Program Shut Down</td>\n",
       "      <td>CENTRAL MONITORING STATION</td>\n",
       "      <td>DRG</td>\n",
       "      <td>00851725007023</td>\n",
       "      <td>00851725007023</td>\n",
       "      <td>04/14/2020</td>\n",
       "      <td></td>\n",
       "      <td></td>\n",
       "      <td>I</td>\n",
       "      <td>USER FACILITY</td>\n",
       "    </tr>\n",
       "    <tr>\n",
       "      <th>3856738</th>\n",
       "      <td>THE CUSTOMER STATED THAT THE PREFENSE MONITORI...</td>\n",
       "      <td>3010</td>\n",
       "      <td>Power Problem</td>\n",
       "      <td>CENTRAL MONITORING STATION</td>\n",
       "      <td>DRG</td>\n",
       "      <td>00851725007023</td>\n",
       "      <td>00851725007023</td>\n",
       "      <td>04/14/2020</td>\n",
       "      <td></td>\n",
       "      <td></td>\n",
       "      <td>I</td>\n",
       "      <td>USER FACILITY</td>\n",
       "    </tr>\n",
       "    <tr>\n",
       "      <th>3856739</th>\n",
       "      <td>THE CUSTOMER STATED THAT THE PREFENSE MONITORI...</td>\n",
       "      <td>4032</td>\n",
       "      <td>Unintended Application Program Shut Down</td>\n",
       "      <td>CENTRAL MONITORING STATION</td>\n",
       "      <td>DRG</td>\n",
       "      <td>00851725007023</td>\n",
       "      <td>00851725007023</td>\n",
       "      <td>04/14/2020</td>\n",
       "      <td></td>\n",
       "      <td></td>\n",
       "      <td>I</td>\n",
       "      <td>USER FACILITY</td>\n",
       "    </tr>\n",
       "  </tbody>\n",
       "</table>\n",
       "<p>3856740 rows × 12 columns</p>\n",
       "</div>"
      ],
      "text/plain": [
       "                                                  FOI_TEXT  \\\n",
       "0        THE RESULTS OF THE INVESTIGATION ARE INCONCLUS...   \n",
       "1        IT WAS REPORTED THAT THE PATIENT EXPIRED. THER...   \n",
       "2        INVESTIGATION RESULTS WILL BE PROVIDED IN THE ...   \n",
       "3        IT WAS REPORTED THAT THE PATIENT CALLED EMERGE...   \n",
       "4        COMMUNICATION FAILURE AND PREMATURE BATTERY DE...   \n",
       "...                                                    ...   \n",
       "3856735  A REVIEW OF THE SUBJECT DEVICE DHR CONFIRMED T...   \n",
       "3856736  THE CUSTOMER STATED THAT THE PREFENSE MONITORI...   \n",
       "3856737  THE CUSTOMER STATED THAT THE PREFENSE MONITORI...   \n",
       "3856738  THE CUSTOMER STATED THAT THE PREFENSE MONITORI...   \n",
       "3856739  THE CUSTOMER STATED THAT THE PREFENSE MONITORI...   \n",
       "\n",
       "        DEVICE_PROBLEM_CODE  \\\n",
       "0                      2993   \n",
       "1                      2993   \n",
       "2                      1332   \n",
       "3                      1332   \n",
       "4                      1332   \n",
       "...                     ...   \n",
       "3856735                2937   \n",
       "3856736                3010   \n",
       "3856737                4032   \n",
       "3856738                3010   \n",
       "3856739                4032   \n",
       "\n",
       "                                       DEVICE_PROBLEM_TEXT  \\\n",
       "0        Adverse Event Without Identified Device or Use...   \n",
       "1        Adverse Event Without Identified Device or Use...   \n",
       "2                                   Failure to Interrogate   \n",
       "3                                   Failure to Interrogate   \n",
       "4                                   Failure to Interrogate   \n",
       "...                                                    ...   \n",
       "3856735                     Failure of Device to Self-Test   \n",
       "3856736                                      Power Problem   \n",
       "3856737           Unintended Application Program Shut Down   \n",
       "3856738                                      Power Problem   \n",
       "3856739           Unintended Application Program Shut Down   \n",
       "\n",
       "                                              GENERIC_NAME  \\\n",
       "0                                      DEFIBRILLATION LEAD   \n",
       "1                                      DEFIBRILLATION LEAD   \n",
       "2                   IMPLANTABLE CARDIOVERTER DEFIBRILLATOR   \n",
       "3                   IMPLANTABLE CARDIOVERTER DEFIBRILLATOR   \n",
       "4                   IMPLANTABLE CARDIOVERTER DEFIBRILLATOR   \n",
       "...                                                    ...   \n",
       "3856735  HOLMIUM (HO:YAG) SURGICAL LASERS AND DELIVERY ...   \n",
       "3856736                         CENTRAL MONITORING STATION   \n",
       "3856737                         CENTRAL MONITORING STATION   \n",
       "3856738                         CENTRAL MONITORING STATION   \n",
       "3856739                         CENTRAL MONITORING STATION   \n",
       "\n",
       "        DEVICE_REPORT_PRODUCT_CODE          UDI-DI      UDI-PUBLIC  \\\n",
       "0                              LWS  05414734502085  05414734502085   \n",
       "1                              LWS  05414734502085  05414734502085   \n",
       "2                              NVZ  05414734504386  05414734504386   \n",
       "3                              NVZ  05414734504386  05414734504386   \n",
       "4                              NVZ  05414734504386  05414734504386   \n",
       "...                            ...             ...             ...   \n",
       "3856735                        GEX  07290109140513  07290109140513   \n",
       "3856736                        DRG  00851725007023  00851725007023   \n",
       "3856737                        DRG  00851725007023  00851725007023   \n",
       "3856738                        DRG  00851725007023  00851725007023   \n",
       "3856739                        DRG  00851725007023  00851725007023   \n",
       "\n",
       "        DATE_OF_EVENT REPORTER_OCCUPATION_CODE REPORT_DATE EVENT_LOCATION  \\\n",
       "0          12/12/2019                      001                          I   \n",
       "1          12/12/2019                      001                          I   \n",
       "2          12/12/2019                      000                          I   \n",
       "3          12/12/2019                      000                          I   \n",
       "4          12/12/2019                      000                          I   \n",
       "...               ...                      ...         ...            ...   \n",
       "3856735    02/18/2020                                                   I   \n",
       "3856736    04/14/2020                                                   I   \n",
       "3856737    04/14/2020                                                   I   \n",
       "3856738    04/14/2020                                                   I   \n",
       "3856739    04/14/2020                                                   I   \n",
       "\n",
       "                           SOURCE_TYPE  \n",
       "0        COMPANY REPRESENTATIVE,HEALTH  \n",
       "1        COMPANY REPRESENTATIVE,HEALTH  \n",
       "2        COMPANY REPRESENTATIVE,HEALTH  \n",
       "3        COMPANY REPRESENTATIVE,HEALTH  \n",
       "4        COMPANY REPRESENTATIVE,HEALTH  \n",
       "...                                ...  \n",
       "3856735                  USER FACILITY  \n",
       "3856736                  USER FACILITY  \n",
       "3856737                  USER FACILITY  \n",
       "3856738                  USER FACILITY  \n",
       "3856739                  USER FACILITY  \n",
       "\n",
       "[3856740 rows x 12 columns]"
      ]
     },
     "execution_count": 8,
     "metadata": {},
     "output_type": "execute_result"
    }
   ],
   "source": [
    "data"
   ]
  },
  {
   "cell_type": "markdown",
   "id": "09bfda8e-7301-4c9e-b049-ccd5047f2d5f",
   "metadata": {},
   "source": [
    "## Cleaning Data by Dropping Rows Matching Specific Criteria\n",
    "\n",
    "Use [this answer on Stack Overflow](https://stackoverflow.com/questions/13851535/how-to-delete-rows-from-a-pandas-dataframe-based-on-a-conditional-expression) as a reference for dropping rows from a dataframe using regular expressesions.\n",
    "\n",
    "In summary:\n",
    "```\n",
    "new_data_frame = previous_data_frame.drop(previous_data_frame[CONDITION GOES HERE; ie, previous_data_frame.COLUMN_NAME == \"Some Text\"].index)\n",
    "```"
   ]
  },
  {
   "cell_type": "markdown",
   "id": "b2ea81f3-e50b-4f5b-b8a4-422aca1b520e",
   "metadata": {},
   "source": [
    "### Drop rows where GENERIC_NAME starts with \"UNK\" (\"UNKNOWN\", \"UNKOWN\", or \"UNK\")"
   ]
  },
  {
   "cell_type": "code",
   "execution_count": 9,
   "id": "4c2bf52e-cafa-44f2-b9aa-db5271a5f35f",
   "metadata": {},
   "outputs": [
    {
     "name": "stdout",
     "output_type": "stream",
     "text": [
      "Previous row count = 3856740\n",
      "New row count      = 3853567\n",
      "Rows removed       = 3173\n"
     ]
    }
   ],
   "source": [
    "# Drop rows where GENERIC_NAME starts with \"UNK\" (\"UNKNOWN\", \"UNKOWN\", or \"UNK\")\n",
    "remove_generic_name_starts_with_unk = data.drop(data[data.GENERIC_NAME.str.contains(r'^UNK')].index)\n",
    "\n",
    "print(f\"Previous row count = {data.shape[0]}\")\n",
    "print(f\"New row count      = {remove_generic_name_starts_with_unk.shape[0]}\")\n",
    "print(f\"Rows removed       = {data.shape[0] - remove_generic_name_starts_with_unk.shape[0]}\")"
   ]
  },
  {
   "cell_type": "markdown",
   "id": "e1b62ffb-a339-481f-8651-a31635076891",
   "metadata": {},
   "source": [
    "### Drop rows where DEVICE_PROBLEM_TEXT == \"Insufficient Information\""
   ]
  },
  {
   "cell_type": "code",
   "execution_count": 10,
   "id": "b136ad7b-da52-420b-9dd6-195f4971ca0a",
   "metadata": {},
   "outputs": [
    {
     "name": "stdout",
     "output_type": "stream",
     "text": [
      "Previous row count = 3853567\n",
      "New row count      = 3773732\n",
      "Rows removed       = 79835\n"
     ]
    }
   ],
   "source": [
    "# Drop rows where DEVICE_PROBLEM_TEXT == \"Insufficient Information\"\n",
    "remove_device_problem_text_insufficient_information = remove_generic_name_starts_with_unk.drop(remove_generic_name_starts_with_unk[remove_generic_name_starts_with_unk.DEVICE_PROBLEM_TEXT == \"Insufficient Information\"].index)\n",
    "\n",
    "print(f\"Previous row count = {remove_generic_name_starts_with_unk.shape[0]}\")\n",
    "print(f\"New row count      = {remove_device_problem_text_insufficient_information.shape[0]}\")\n",
    "print(f\"Rows removed       = {remove_generic_name_starts_with_unk.shape[0] - remove_device_problem_text_insufficient_information.shape[0]}\")"
   ]
  },
  {
   "cell_type": "markdown",
   "id": "dbd0e329-ee93-4b4f-a5ed-07249684a9b4",
   "metadata": {},
   "source": [
    "### Drop rows where GENERIC_NAME is a number"
   ]
  },
  {
   "cell_type": "code",
   "execution_count": 11,
   "id": "dd80a54c-04d3-41a7-8a73-fa68bd3d1767",
   "metadata": {},
   "outputs": [
    {
     "name": "stdout",
     "output_type": "stream",
     "text": [
      "Previous row count = 3773732\n",
      "New row count      = 3773714\n",
      "Rows removed       = 18\n"
     ]
    }
   ],
   "source": [
    "# Drop rows where GENERIC_NAME is a number\n",
    "remove_generic_name_is_number = remove_device_problem_text_insufficient_information.drop(remove_device_problem_text_insufficient_information[remove_device_problem_text_insufficient_information.GENERIC_NAME.str.match(r'^\\d+$')].index)\n",
    "print(f\"Previous row count = {remove_device_problem_text_insufficient_information.shape[0]}\")\n",
    "print(f\"New row count      = {remove_generic_name_is_number.shape[0]}\")\n",
    "print(f\"Rows removed       = {remove_device_problem_text_insufficient_information.shape[0] - remove_generic_name_is_number.shape[0]}\")"
   ]
  },
  {
   "cell_type": "markdown",
   "id": "fc46f9fe-7de1-4f7b-b650-11ac81b9bba1",
   "metadata": {},
   "source": [
    "### Drop rows where GENERIC_NAME is blank\n"
   ]
  },
  {
   "cell_type": "code",
   "execution_count": 12,
   "id": "61728826-a88e-416b-aa7f-1e5c98ca4828",
   "metadata": {},
   "outputs": [
    {
     "name": "stdout",
     "output_type": "stream",
     "text": [
      "Previous row count = 3773714\n",
      "New row count      = 3761023\n",
      "Rows removed       = 12691\n"
     ]
    }
   ],
   "source": [
    "# Drop rows where GENERIC_NAME is blank\n",
    "remove_generic_name_is_blank = remove_generic_name_is_number.drop(remove_generic_name_is_number[remove_generic_name_is_number.GENERIC_NAME == ''].index)\n",
    "print(f\"Previous row count = {remove_generic_name_is_number.shape[0]}\")\n",
    "print(f\"New row count      = {remove_generic_name_is_blank.shape[0]}\")\n",
    "print(f\"Rows removed       = {remove_generic_name_is_number.shape[0] - remove_generic_name_is_blank.shape[0]}\")"
   ]
  },
  {
   "cell_type": "markdown",
   "id": "347d9e52-9094-4646-8101-db3e3ffeb471",
   "metadata": {},
   "source": [
    "### Drop Rows Where FOI_TEXT == '(B)(4).'\n",
    "[USING TEXT MINING OF FDA REPORTS TO INFORM EARLY SIGNAL DETECTION OF\n",
    "CARDIOVASCULAR LEAD RECALLS](https://dashboard.digitalcollections.cuanschutz.edu/downloads/326bf216-7e24-40b3-80b5-2c9afda1da55)"
   ]
  },
  {
   "cell_type": "code",
   "execution_count": 13,
   "id": "57b1596e-d0b9-4c54-a012-a9d09ad25396",
   "metadata": {},
   "outputs": [
    {
     "name": "stdout",
     "output_type": "stream",
     "text": [
      "Previous row count = 3761023\n",
      "New row count      = 3487640\n",
      "Rows removed       = 273383\n"
     ]
    }
   ],
   "source": [
    "# Drop Rows Where FOI_TEXT == '(B)(4).'\n",
    "remove_foitext_equals_b4_1 = remove_generic_name_is_blank.drop(remove_generic_name_is_blank[remove_generic_name_is_blank.FOI_TEXT.str.match(r'(^\\(B\\)\\s?\\(4\\)\\s?\\.$)+')].index)\n",
    "\n",
    "print(f\"Previous row count = {remove_generic_name_is_blank.shape[0]}\")\n",
    "print(f\"New row count      = {remove_foitext_equals_b4_1.shape[0]}\")\n",
    "print(f\"Rows removed       = {remove_generic_name_is_blank.shape[0] - remove_foitext_equals_b4_1.shape[0]}\")"
   ]
  },
  {
   "cell_type": "code",
   "execution_count": 14,
   "id": "917591b5-22f1-4631-85f1-257c95ceb586",
   "metadata": {},
   "outputs": [
    {
     "name": "stdout",
     "output_type": "stream",
     "text": [
      "Previous row count = 3487640\n",
      "New row count      = 3487524\n",
      "Rows removed       = 116\n"
     ]
    }
   ],
   "source": [
    "# Drop Rows Where FOI_TEXT == '(B)(4). (B)(4).'\n",
    "remove_foitext_equals_b4_2 = remove_foitext_equals_b4_1.drop(remove_foitext_equals_b4_1[remove_foitext_equals_b4_1.FOI_TEXT == '(B)(4). (B)(4).'].index)\n",
    "\n",
    "print(f\"Previous row count = {remove_foitext_equals_b4_1.shape[0]}\")\n",
    "print(f\"New row count      = {remove_foitext_equals_b4_2.shape[0]}\")\n",
    "print(f\"Rows removed       = {remove_foitext_equals_b4_1.shape[0] - remove_foitext_equals_b4_2.shape[0]}\")"
   ]
  },
  {
   "cell_type": "markdown",
   "id": "c0e0f80f-3ee5-47f2-afd6-ed43e469617f",
   "metadata": {},
   "source": [
    "## Count the Product Code Occurrences"
   ]
  },
  {
   "cell_type": "code",
   "execution_count": 15,
   "id": "c2b08c5c-781b-40e2-b164-6bd91f40d5ac",
   "metadata": {},
   "outputs": [
    {
     "data": {
      "text/html": [
       "<div>\n",
       "<style scoped>\n",
       "    .dataframe tbody tr th:only-of-type {\n",
       "        vertical-align: middle;\n",
       "    }\n",
       "\n",
       "    .dataframe tbody tr th {\n",
       "        vertical-align: top;\n",
       "    }\n",
       "\n",
       "    .dataframe thead th {\n",
       "        text-align: right;\n",
       "    }\n",
       "</style>\n",
       "<table border=\"1\" class=\"dataframe\">\n",
       "  <thead>\n",
       "    <tr style=\"text-align: right;\">\n",
       "      <th></th>\n",
       "      <th>COUNT</th>\n",
       "    </tr>\n",
       "    <tr>\n",
       "      <th>DEVICE_REPORT_PRODUCT_CODE</th>\n",
       "      <th></th>\n",
       "    </tr>\n",
       "  </thead>\n",
       "  <tbody>\n",
       "    <tr>\n",
       "      <th>DZE</th>\n",
       "      <td>354972</td>\n",
       "    </tr>\n",
       "    <tr>\n",
       "      <th>QBJ</th>\n",
       "      <td>276350</td>\n",
       "    </tr>\n",
       "    <tr>\n",
       "      <th>OZP</th>\n",
       "      <td>269978</td>\n",
       "    </tr>\n",
       "    <tr>\n",
       "      <th>FRN</th>\n",
       "      <td>256585</td>\n",
       "    </tr>\n",
       "    <tr>\n",
       "      <th>OZO</th>\n",
       "      <td>236061</td>\n",
       "    </tr>\n",
       "    <tr>\n",
       "      <th>OYC</th>\n",
       "      <td>235809</td>\n",
       "    </tr>\n",
       "    <tr>\n",
       "      <th>LGW</th>\n",
       "      <td>82639</td>\n",
       "    </tr>\n",
       "    <tr>\n",
       "      <th>QFG</th>\n",
       "      <td>71301</td>\n",
       "    </tr>\n",
       "    <tr>\n",
       "      <th>LZG</th>\n",
       "      <td>70815</td>\n",
       "    </tr>\n",
       "    <tr>\n",
       "      <th>LWS</th>\n",
       "      <td>59780</td>\n",
       "    </tr>\n",
       "  </tbody>\n",
       "</table>\n",
       "</div>"
      ],
      "text/plain": [
       "                             COUNT\n",
       "DEVICE_REPORT_PRODUCT_CODE        \n",
       "DZE                         354972\n",
       "QBJ                         276350\n",
       "OZP                         269978\n",
       "FRN                         256585\n",
       "OZO                         236061\n",
       "OYC                         235809\n",
       "LGW                          82639\n",
       "QFG                          71301\n",
       "LZG                          70815\n",
       "LWS                          59780"
      ]
     },
     "execution_count": 15,
     "metadata": {},
     "output_type": "execute_result"
    }
   ],
   "source": [
    "product_code_occurrences = remove_foitext_equals_b4_2.groupby(['DEVICE_REPORT_PRODUCT_CODE']).size().to_frame('COUNT')\n",
    "product_code_occurrences.sort_values(by=['COUNT'], ascending=False).head(10)"
   ]
  },
  {
   "cell_type": "code",
   "execution_count": 16,
   "id": "a816a55a-57e4-46d3-9d61-c69b8aed97a7",
   "metadata": {},
   "outputs": [],
   "source": [
    "product_code_occurrences.sort_values(by=['COUNT'], ascending=False).to_csv(f\"{working_directory}/product_code_occurrences.csv\")"
   ]
  },
  {
   "cell_type": "markdown",
   "id": "84963c41-d941-4d07-9cc2-7f34f74093f2",
   "metadata": {},
   "source": [
    "### Identify Rows to Keep Based on Count of Product Code Occurrences\n",
    "- QBJ"
   ]
  },
  {
   "cell_type": "code",
   "execution_count": 17,
   "id": "46aaaa4f-ed10-4198-9fba-88570f4b7803",
   "metadata": {},
   "outputs": [
    {
     "name": "stdout",
     "output_type": "stream",
     "text": [
      "Previous row count = 3487524\n",
      "New row count      = 276350\n",
      "Rows removed       = 3211174\n"
     ]
    }
   ],
   "source": [
    "# Drop rows where DEVICE_REPORT_PRODUCT_CODE is not QBJ\n",
    "remove_device_product_code_not_qbj = remove_foitext_equals_b4_2.drop(remove_foitext_equals_b4_2[remove_foitext_equals_b4_2.DEVICE_REPORT_PRODUCT_CODE != 'QBJ'].index)\n",
    "print(f\"Previous row count = {remove_foitext_equals_b4_2.shape[0]}\")\n",
    "print(f\"New row count      = {remove_device_product_code_not_qbj.shape[0]}\")\n",
    "print(f\"Rows removed       = {remove_foitext_equals_b4_2.shape[0] - remove_device_product_code_not_qbj.shape[0]}\")"
   ]
  },
  {
   "cell_type": "code",
   "execution_count": 18,
   "id": "17d1819a-7650-412e-8f4c-dd33c3e9ff7e",
   "metadata": {},
   "outputs": [],
   "source": [
    "#remove_device_product_code_not_qbj.to_csv(f\"{working_directory}/2020_data_clean.csv\")\n",
    "remove_foitext_equals_b4_2.to_csv(f\"{working_directory}/2020_data_clean.csv\")"
   ]
  }
 ],
 "metadata": {
  "kernelspec": {
   "display_name": "conda_amazonei_pytorch_latest_p37",
   "language": "python",
   "name": "conda_amazonei_pytorch_latest_p37"
  },
  "language_info": {
   "codemirror_mode": {
    "name": "ipython",
    "version": 3
   },
   "file_extension": ".py",
   "mimetype": "text/x-python",
   "name": "python",
   "nbconvert_exporter": "python",
   "pygments_lexer": "ipython3",
   "version": "3.7.10"
  },
  "vscode": {
   "interpreter": {
    "hash": "0df23e0b8587652e8947bf433502af00ecfb3462d59e71e7bba71c0280b5fb19"
   }
  }
 },
 "nbformat": 4,
 "nbformat_minor": 5
}
