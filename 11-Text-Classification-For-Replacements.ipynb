{
 "cells": [
  {
   "cell_type": "code",
   "execution_count": 1,
   "id": "01693634-379c-4a43-820b-e768fc90e485",
   "metadata": {},
   "outputs": [],
   "source": [
    "import pandas as pd\n",
    "import os\n",
    "\n",
    "classifier_scores = {}\n",
    "\n",
    "# Identify the working directory and data files\n",
    "working_directory = './text_classification'\n",
    "\n",
    "# Create the working directory if needed\n",
    "try:\n",
    "    os.makedirs(working_directory, exist_ok=True)\n",
    "except OSError as error:\n",
    "    print(f\"Error creating {working_directory}: {error}\")\n",
    "    \n",
    "data_file = './labeled_data/qbj_2020_strata_warranty.csv'\n",
    "\n",
    "# Read the data into a pandas dataframe\n",
    "df = pd.read_csv(data_file,           # The data file being read, from the variable assignment above\n",
    "                 on_bad_lines='warn', # This tells Pandas to only warn on bad lines vs causing an error\n",
    "                 dtype='str')         # This tells Pandas to treat all numbers as words\n"
   ]
  },
  {
   "cell_type": "code",
   "execution_count": 2,
   "id": "dda00660-f512-414a-9f01-3baf38928486",
   "metadata": {},
   "outputs": [
    {
     "data": {
      "text/plain": [
       "(100, 8)"
      ]
     },
     "execution_count": 2,
     "metadata": {},
     "output_type": "execute_result"
    }
   ],
   "source": [
    "# Show the number of rows and columns in the dataframe\n",
    "df.shape"
   ]
  },
  {
   "cell_type": "code",
   "execution_count": 3,
   "id": "0fcbf43c-aa9b-470f-8e4f-4458fa39b14b",
   "metadata": {},
   "outputs": [],
   "source": [
    "# Convert all the text in the dataframe to lowercase\n",
    "df = df.apply(lambda x: x.astype(str).str.lower())"
   ]
  },
  {
   "cell_type": "code",
   "execution_count": 4,
   "id": "6a14d840-3923-44a5-a75e-2ec68738c5c5",
   "metadata": {},
   "outputs": [
    {
     "data": {
      "text/html": [
       "<div>\n",
       "<style scoped>\n",
       "    .dataframe tbody tr th:only-of-type {\n",
       "        vertical-align: middle;\n",
       "    }\n",
       "\n",
       "    .dataframe tbody tr th {\n",
       "        vertical-align: top;\n",
       "    }\n",
       "\n",
       "    .dataframe thead th {\n",
       "        text-align: right;\n",
       "    }\n",
       "</style>\n",
       "<table border=\"1\" class=\"dataframe\">\n",
       "  <thead>\n",
       "    <tr style=\"text-align: right;\">\n",
       "      <th></th>\n",
       "      <th>Unnamed: 0</th>\n",
       "      <th>FOI_TEXT</th>\n",
       "      <th>DEVICE_PROBLEM_CODE</th>\n",
       "      <th>DEVICE_PROBLEM_TEXT</th>\n",
       "      <th>DEVICE_REPORT_PRODUCT_CODE</th>\n",
       "      <th>Repeating terms</th>\n",
       "      <th>Disposition</th>\n",
       "    </tr>\n",
       "  </thead>\n",
       "  <tbody>\n",
       "    <tr>\n",
       "      <th>50</th>\n",
       "      <td>1015850</td>\n",
       "      <td>it was reported that early sensor expiration o...</td>\n",
       "      <td>1480</td>\n",
       "      <td>premature end-of-life indicator</td>\n",
       "      <td>qbj</td>\n",
       "      <td>early sensor expiration\\n</td>\n",
       "      <td>component failure</td>\n",
       "    </tr>\n",
       "  </tbody>\n",
       "</table>\n",
       "</div>"
      ],
      "text/plain": [
       "   Unnamed: 0                                           FOI_TEXT  \\\n",
       "50    1015850  it was reported that early sensor expiration o...   \n",
       "\n",
       "   DEVICE_PROBLEM_CODE              DEVICE_PROBLEM_TEXT  \\\n",
       "50                1480  premature end-of-life indicator   \n",
       "\n",
       "   DEVICE_REPORT_PRODUCT_CODE            Repeating terms        Disposition  \n",
       "50                        qbj  early sensor expiration\\n  component failure  "
      ]
     },
     "execution_count": 4,
     "metadata": {},
     "output_type": "execute_result"
    }
   ],
   "source": [
    "# Create the independent matrix and show a sample line\n",
    "x = df.drop('Warranty', axis=1)\n",
    "x.sample()"
   ]
  },
  {
   "cell_type": "code",
   "execution_count": 5,
   "id": "2f224c64-07f2-4f7f-a19a-5e354756a9f6",
   "metadata": {},
   "outputs": [
    {
     "data": {
      "text/html": [
       "<div>\n",
       "<style scoped>\n",
       "    .dataframe tbody tr th:only-of-type {\n",
       "        vertical-align: middle;\n",
       "    }\n",
       "\n",
       "    .dataframe tbody tr th {\n",
       "        vertical-align: top;\n",
       "    }\n",
       "\n",
       "    .dataframe thead th {\n",
       "        text-align: right;\n",
       "    }\n",
       "</style>\n",
       "<table border=\"1\" class=\"dataframe\">\n",
       "  <thead>\n",
       "    <tr style=\"text-align: right;\">\n",
       "      <th></th>\n",
       "      <th>Warranty</th>\n",
       "    </tr>\n",
       "  </thead>\n",
       "  <tbody>\n",
       "    <tr>\n",
       "      <th>17</th>\n",
       "      <td>not replaced</td>\n",
       "    </tr>\n",
       "  </tbody>\n",
       "</table>\n",
       "</div>"
      ],
      "text/plain": [
       "        Warranty\n",
       "17  not replaced"
      ]
     },
     "execution_count": 5,
     "metadata": {},
     "output_type": "execute_result"
    }
   ],
   "source": [
    "# Create the dependent matrix and show a sample line\n",
    "y = df[['Warranty']]\n",
    "y.sample()"
   ]
  },
  {
   "cell_type": "code",
   "execution_count": 6,
   "id": "f4e73b87-f55b-4d17-99d5-7e66c326f590",
   "metadata": {},
   "outputs": [],
   "source": [
    "# Split the data into training and test sets\n",
    "from sklearn.model_selection import train_test_split\n",
    "\n",
    "x_train, x_test, y_train, y_test = train_test_split(x, y)"
   ]
  },
  {
   "cell_type": "code",
   "execution_count": 7,
   "id": "5cc04fce-4695-471e-a2e8-dec97ae39bdf",
   "metadata": {},
   "outputs": [
    {
     "data": {
      "text/plain": [
       "(75, 25)"
      ]
     },
     "execution_count": 7,
     "metadata": {},
     "output_type": "execute_result"
    }
   ],
   "source": [
    "# Show the number of rows for training and testing\n",
    "len(x_train), len(x_test)"
   ]
  },
  {
   "cell_type": "markdown",
   "id": "9b8b8de2-02ea-4eab-8f29-fe683da7fdf5",
   "metadata": {},
   "source": [
    "## Use the Dummy Classifier with Strategies\n",
    "\n",
    "[Documentation for sklearn.dummy.DummyClassifier](https://scikit-learn.org/stable/modules/generated/sklearn.dummy.DummyClassifier.html)\n",
    "\n",
    "`strategy{“most_frequent”, “prior”, “stratified”, “uniform”, “constant”}, default=”prior”`\n",
    "\n",
    "**“most_frequent”**: the predict method always returns the most frequent class label in the observed y argument passed to fit. The predict_proba method returns the matching one-hot encoded vector.\n",
    "\n",
    "**“prior”**: the predict method always returns the most frequent class label in the observed y argument passed to fit (like “most_frequent”). predict_proba always returns the empirical class distribution of y also known as the empirical class prior distribution.\n",
    "\n",
    "**“stratified”**: the predict_proba method randomly samples one-hot vectors from a multinomial distribution parametrized by the empirical class prior probabilities. The predict method returns the class label which got probability one in the one-hot vector of predict_proba. Each sampled row of both methods is therefore independent and identically distributed.\n",
    "\n",
    "**“uniform”**: generates predictions uniformly at random from the list of unique classes observed in y, i.e. each class has equal probability.\n",
    "\n",
    "**“constant”**: always predicts a constant label that is provided by the user. This is useful for metrics that evaluate a non-majority class."
   ]
  },
  {
   "cell_type": "code",
   "execution_count": 8,
   "id": "d462e58a-c516-42c6-83e6-06ad5a5e783f",
   "metadata": {},
   "outputs": [
    {
     "name": "stdout",
     "output_type": "stream",
     "text": [
      "Dummy Classifier using strategy = MOST_FREQUENT\n",
      "\n",
      "Accuracy score = 0.88\n",
      "\n",
      "              precision    recall  f1-score   support\n",
      "\n",
      "not replaced       0.88      1.00      0.94        22\n",
      "    replaced       0.00      0.00      0.00         3\n",
      "\n",
      "    accuracy                           0.88        25\n",
      "   macro avg       0.44      0.50      0.47        25\n",
      "weighted avg       0.77      0.88      0.82        25\n",
      "\n",
      "-------------------------------------------------------------------------------- \n",
      "\n",
      "Dummy Classifier using strategy = PRIOR\n",
      "\n",
      "Accuracy score = 0.88\n",
      "\n",
      "              precision    recall  f1-score   support\n",
      "\n",
      "not replaced       0.88      1.00      0.94        22\n",
      "    replaced       0.00      0.00      0.00         3\n",
      "\n",
      "    accuracy                           0.88        25\n",
      "   macro avg       0.44      0.50      0.47        25\n",
      "weighted avg       0.77      0.88      0.82        25\n",
      "\n",
      "-------------------------------------------------------------------------------- \n",
      "\n",
      "Dummy Classifier using strategy = STRATIFIED\n",
      "\n",
      "Accuracy score = 0.68\n",
      "\n",
      "              precision    recall  f1-score   support\n",
      "\n",
      "not replaced       0.85      0.77      0.81        22\n",
      "    replaced       0.00      0.00      0.00         3\n",
      "\n",
      "    accuracy                           0.68        25\n",
      "   macro avg       0.42      0.39      0.40        25\n",
      "weighted avg       0.75      0.68      0.71        25\n",
      "\n",
      "-------------------------------------------------------------------------------- \n",
      "\n",
      "Dummy Classifier using strategy = UNIFORM\n",
      "\n",
      "Accuracy score = 0.44\n",
      "\n",
      "              precision    recall  f1-score   support\n",
      "\n",
      "not replaced       0.83      0.45      0.59        22\n",
      "    replaced       0.08      0.33      0.12         3\n",
      "\n",
      "    accuracy                           0.44        25\n",
      "   macro avg       0.46      0.39      0.36        25\n",
      "weighted avg       0.74      0.44      0.53        25\n",
      "\n",
      "-------------------------------------------------------------------------------- \n",
      "\n",
      "Dummy Classifier using strategy = CONSTANT\n",
      "\n",
      "Accuracy score = 0.12\n",
      "\n",
      "              precision    recall  f1-score   support\n",
      "\n",
      "not replaced       0.00      0.00      0.00        22\n",
      "    replaced       0.12      1.00      0.21         3\n",
      "\n",
      "    accuracy                           0.12        25\n",
      "   macro avg       0.06      0.50      0.11        25\n",
      "weighted avg       0.01      0.12      0.03        25\n",
      "\n",
      "-------------------------------------------------------------------------------- \n",
      "\n"
     ]
    }
   ],
   "source": [
    "# Use the DummyClassifier, iterating over the different strategies\n",
    "from sklearn.dummy import DummyClassifier\n",
    "from sklearn.metrics import accuracy_score, classification_report\n",
    "\n",
    "strategies = ['most_frequent', 'prior', 'stratified', 'uniform', 'constant']\n",
    "\n",
    "for strategy in strategies:\n",
    "    print(f\"Dummy Classifier using strategy = {strategy.upper()}\\n\")\n",
    "    \n",
    "    if strategy == 'constant':\n",
    "        classifier = DummyClassifier(strategy=strategy, random_state=1, constant='replaced')\n",
    "    else:\n",
    "        classifier = DummyClassifier(strategy=strategy, random_state=1)\n",
    "    \n",
    "    classifier.fit(x_train, y_train)\n",
    "        \n",
    "    y_pred = classifier.predict(x_test)\n",
    "    \n",
    "    # Print the scores and reports for each classifer\n",
    "    classifier_scores[strategy] = accuracy_score(y_test, y_pred)\n",
    "    print(f\"Accuracy score = {classifier_scores[strategy]}\\n\")\n",
    "    \n",
    "    print(classification_report(y_test, y_pred, zero_division=0))\n",
    "    \n",
    "    print('-' * 80, '\\n')"
   ]
  },
  {
   "cell_type": "markdown",
   "id": "2708c22e-4a26-4f44-995a-41cbde90223d",
   "metadata": {},
   "source": [
    "## Use the MultinomialNB Classifier with Vectorized Input for 'FOI_TEXT'\n",
    "\n",
    "[Documentation for sklearn.naive_bayes.MultinomialNB](https://scikit-learn.org/stable/modules/generated/sklearn.naive_bayes.MultinomialNB.html)\n",
    "\n",
    "> \"The multinomial Naive Bayes classifier is suitable for classification with discrete features (e.g., word counts for text classification). The multinomial distribution normally requires integer feature counts. However, in practice, fractional counts such as tf-idf may also work.\"\n",
    "\n"
   ]
  },
  {
   "cell_type": "code",
   "execution_count": 9,
   "id": "fe62ffd0-cc31-4d67-ad6d-088d1e0fa78c",
   "metadata": {},
   "outputs": [
    {
     "data": {
      "text/html": [
       "<style>#sk-container-id-1 {color: black;background-color: white;}#sk-container-id-1 pre{padding: 0;}#sk-container-id-1 div.sk-toggleable {background-color: white;}#sk-container-id-1 label.sk-toggleable__label {cursor: pointer;display: block;width: 100%;margin-bottom: 0;padding: 0.3em;box-sizing: border-box;text-align: center;}#sk-container-id-1 label.sk-toggleable__label-arrow:before {content: \"▸\";float: left;margin-right: 0.25em;color: #696969;}#sk-container-id-1 label.sk-toggleable__label-arrow:hover:before {color: black;}#sk-container-id-1 div.sk-estimator:hover label.sk-toggleable__label-arrow:before {color: black;}#sk-container-id-1 div.sk-toggleable__content {max-height: 0;max-width: 0;overflow: hidden;text-align: left;background-color: #f0f8ff;}#sk-container-id-1 div.sk-toggleable__content pre {margin: 0.2em;color: black;border-radius: 0.25em;background-color: #f0f8ff;}#sk-container-id-1 input.sk-toggleable__control:checked~div.sk-toggleable__content {max-height: 200px;max-width: 100%;overflow: auto;}#sk-container-id-1 input.sk-toggleable__control:checked~label.sk-toggleable__label-arrow:before {content: \"▾\";}#sk-container-id-1 div.sk-estimator input.sk-toggleable__control:checked~label.sk-toggleable__label {background-color: #d4ebff;}#sk-container-id-1 div.sk-label input.sk-toggleable__control:checked~label.sk-toggleable__label {background-color: #d4ebff;}#sk-container-id-1 input.sk-hidden--visually {border: 0;clip: rect(1px 1px 1px 1px);clip: rect(1px, 1px, 1px, 1px);height: 1px;margin: -1px;overflow: hidden;padding: 0;position: absolute;width: 1px;}#sk-container-id-1 div.sk-estimator {font-family: monospace;background-color: #f0f8ff;border: 1px dotted black;border-radius: 0.25em;box-sizing: border-box;margin-bottom: 0.5em;}#sk-container-id-1 div.sk-estimator:hover {background-color: #d4ebff;}#sk-container-id-1 div.sk-parallel-item::after {content: \"\";width: 100%;border-bottom: 1px solid gray;flex-grow: 1;}#sk-container-id-1 div.sk-label:hover label.sk-toggleable__label {background-color: #d4ebff;}#sk-container-id-1 div.sk-serial::before {content: \"\";position: absolute;border-left: 1px solid gray;box-sizing: border-box;top: 0;bottom: 0;left: 50%;z-index: 0;}#sk-container-id-1 div.sk-serial {display: flex;flex-direction: column;align-items: center;background-color: white;padding-right: 0.2em;padding-left: 0.2em;position: relative;}#sk-container-id-1 div.sk-item {position: relative;z-index: 1;}#sk-container-id-1 div.sk-parallel {display: flex;align-items: stretch;justify-content: center;background-color: white;position: relative;}#sk-container-id-1 div.sk-item::before, #sk-container-id-1 div.sk-parallel-item::before {content: \"\";position: absolute;border-left: 1px solid gray;box-sizing: border-box;top: 0;bottom: 0;left: 50%;z-index: -1;}#sk-container-id-1 div.sk-parallel-item {display: flex;flex-direction: column;z-index: 1;position: relative;background-color: white;}#sk-container-id-1 div.sk-parallel-item:first-child::after {align-self: flex-end;width: 50%;}#sk-container-id-1 div.sk-parallel-item:last-child::after {align-self: flex-start;width: 50%;}#sk-container-id-1 div.sk-parallel-item:only-child::after {width: 0;}#sk-container-id-1 div.sk-dashed-wrapped {border: 1px dashed gray;margin: 0 0.4em 0.5em 0.4em;box-sizing: border-box;padding-bottom: 0.4em;background-color: white;}#sk-container-id-1 div.sk-label label {font-family: monospace;font-weight: bold;display: inline-block;line-height: 1.2em;}#sk-container-id-1 div.sk-label-container {text-align: center;}#sk-container-id-1 div.sk-container {/* jupyter's `normalize.less` sets `[hidden] { display: none; }` but bootstrap.min.css set `[hidden] { display: none !important; }` so we also need the `!important` here to be able to override the default hidden behavior on the sphinx rendered scikit-learn.org. See: https://github.com/scikit-learn/scikit-learn/issues/21755 */display: inline-block !important;position: relative;}#sk-container-id-1 div.sk-text-repr-fallback {display: none;}</style><div id=\"sk-container-id-1\" class=\"sk-top-container\"><div class=\"sk-text-repr-fallback\"><pre>TfidfVectorizer(decode_error=&#x27;ignore&#x27;, stop_words=&#x27;english&#x27;)</pre><b>In a Jupyter environment, please rerun this cell to show the HTML representation or trust the notebook. <br />On GitHub, the HTML representation is unable to render, please try loading this page with nbviewer.org.</b></div><div class=\"sk-container\" hidden><div class=\"sk-item\"><div class=\"sk-estimator sk-toggleable\"><input class=\"sk-toggleable__control sk-hidden--visually\" id=\"sk-estimator-id-1\" type=\"checkbox\" checked><label for=\"sk-estimator-id-1\" class=\"sk-toggleable__label sk-toggleable__label-arrow\">TfidfVectorizer</label><div class=\"sk-toggleable__content\"><pre>TfidfVectorizer(decode_error=&#x27;ignore&#x27;, stop_words=&#x27;english&#x27;)</pre></div></div></div></div></div>"
      ],
      "text/plain": [
       "TfidfVectorizer(decode_error='ignore', stop_words='english')"
      ]
     },
     "execution_count": 9,
     "metadata": {},
     "output_type": "execute_result"
    }
   ],
   "source": [
    "# Create a vectorizer\n",
    "from sklearn.feature_extraction.text import TfidfVectorizer\n",
    "\n",
    "vectorizer = TfidfVectorizer(stop_words='english', decode_error='ignore')\n",
    "\n",
    "vectorizer.fit(x_train['FOI_TEXT'].tolist())"
   ]
  },
  {
   "cell_type": "code",
   "execution_count": 10,
   "id": "3f47ef9b-9a8f-4972-8cec-8daeb632aea0",
   "metadata": {},
   "outputs": [
    {
     "data": {
      "text/html": [
       "<style>#sk-container-id-2 {color: black;background-color: white;}#sk-container-id-2 pre{padding: 0;}#sk-container-id-2 div.sk-toggleable {background-color: white;}#sk-container-id-2 label.sk-toggleable__label {cursor: pointer;display: block;width: 100%;margin-bottom: 0;padding: 0.3em;box-sizing: border-box;text-align: center;}#sk-container-id-2 label.sk-toggleable__label-arrow:before {content: \"▸\";float: left;margin-right: 0.25em;color: #696969;}#sk-container-id-2 label.sk-toggleable__label-arrow:hover:before {color: black;}#sk-container-id-2 div.sk-estimator:hover label.sk-toggleable__label-arrow:before {color: black;}#sk-container-id-2 div.sk-toggleable__content {max-height: 0;max-width: 0;overflow: hidden;text-align: left;background-color: #f0f8ff;}#sk-container-id-2 div.sk-toggleable__content pre {margin: 0.2em;color: black;border-radius: 0.25em;background-color: #f0f8ff;}#sk-container-id-2 input.sk-toggleable__control:checked~div.sk-toggleable__content {max-height: 200px;max-width: 100%;overflow: auto;}#sk-container-id-2 input.sk-toggleable__control:checked~label.sk-toggleable__label-arrow:before {content: \"▾\";}#sk-container-id-2 div.sk-estimator input.sk-toggleable__control:checked~label.sk-toggleable__label {background-color: #d4ebff;}#sk-container-id-2 div.sk-label input.sk-toggleable__control:checked~label.sk-toggleable__label {background-color: #d4ebff;}#sk-container-id-2 input.sk-hidden--visually {border: 0;clip: rect(1px 1px 1px 1px);clip: rect(1px, 1px, 1px, 1px);height: 1px;margin: -1px;overflow: hidden;padding: 0;position: absolute;width: 1px;}#sk-container-id-2 div.sk-estimator {font-family: monospace;background-color: #f0f8ff;border: 1px dotted black;border-radius: 0.25em;box-sizing: border-box;margin-bottom: 0.5em;}#sk-container-id-2 div.sk-estimator:hover {background-color: #d4ebff;}#sk-container-id-2 div.sk-parallel-item::after {content: \"\";width: 100%;border-bottom: 1px solid gray;flex-grow: 1;}#sk-container-id-2 div.sk-label:hover label.sk-toggleable__label {background-color: #d4ebff;}#sk-container-id-2 div.sk-serial::before {content: \"\";position: absolute;border-left: 1px solid gray;box-sizing: border-box;top: 0;bottom: 0;left: 50%;z-index: 0;}#sk-container-id-2 div.sk-serial {display: flex;flex-direction: column;align-items: center;background-color: white;padding-right: 0.2em;padding-left: 0.2em;position: relative;}#sk-container-id-2 div.sk-item {position: relative;z-index: 1;}#sk-container-id-2 div.sk-parallel {display: flex;align-items: stretch;justify-content: center;background-color: white;position: relative;}#sk-container-id-2 div.sk-item::before, #sk-container-id-2 div.sk-parallel-item::before {content: \"\";position: absolute;border-left: 1px solid gray;box-sizing: border-box;top: 0;bottom: 0;left: 50%;z-index: -1;}#sk-container-id-2 div.sk-parallel-item {display: flex;flex-direction: column;z-index: 1;position: relative;background-color: white;}#sk-container-id-2 div.sk-parallel-item:first-child::after {align-self: flex-end;width: 50%;}#sk-container-id-2 div.sk-parallel-item:last-child::after {align-self: flex-start;width: 50%;}#sk-container-id-2 div.sk-parallel-item:only-child::after {width: 0;}#sk-container-id-2 div.sk-dashed-wrapped {border: 1px dashed gray;margin: 0 0.4em 0.5em 0.4em;box-sizing: border-box;padding-bottom: 0.4em;background-color: white;}#sk-container-id-2 div.sk-label label {font-family: monospace;font-weight: bold;display: inline-block;line-height: 1.2em;}#sk-container-id-2 div.sk-label-container {text-align: center;}#sk-container-id-2 div.sk-container {/* jupyter's `normalize.less` sets `[hidden] { display: none; }` but bootstrap.min.css set `[hidden] { display: none !important; }` so we also need the `!important` here to be able to override the default hidden behavior on the sphinx rendered scikit-learn.org. See: https://github.com/scikit-learn/scikit-learn/issues/21755 */display: inline-block !important;position: relative;}#sk-container-id-2 div.sk-text-repr-fallback {display: none;}</style><div id=\"sk-container-id-2\" class=\"sk-top-container\"><div class=\"sk-text-repr-fallback\"><pre>MultinomialNB()</pre><b>In a Jupyter environment, please rerun this cell to show the HTML representation or trust the notebook. <br />On GitHub, the HTML representation is unable to render, please try loading this page with nbviewer.org.</b></div><div class=\"sk-container\" hidden><div class=\"sk-item\"><div class=\"sk-estimator sk-toggleable\"><input class=\"sk-toggleable__control sk-hidden--visually\" id=\"sk-estimator-id-2\" type=\"checkbox\" checked><label for=\"sk-estimator-id-2\" class=\"sk-toggleable__label sk-toggleable__label-arrow\">MultinomialNB</label><div class=\"sk-toggleable__content\"><pre>MultinomialNB()</pre></div></div></div></div></div>"
      ],
      "text/plain": [
       "MultinomialNB()"
      ]
     },
     "execution_count": 10,
     "metadata": {},
     "output_type": "execute_result"
    }
   ],
   "source": [
    "from sklearn.naive_bayes import MultinomialNB\n",
    "\n",
    "multinomialnb_classifier_warranty = MultinomialNB()\n",
    "multinomialnb_classifier_warranty.fit(vectorizer.transform(x_train['FOI_TEXT'].tolist()), y_train['Warranty'].tolist())\n"
   ]
  },
  {
   "cell_type": "code",
   "execution_count": 11,
   "id": "fd3e0a9e-289e-4129-9c57-0f1ae4184c67",
   "metadata": {},
   "outputs": [],
   "source": [
    "multinomialnb_y_pred = multinomialnb_classifier_warranty.predict(vectorizer.transform(x_test['FOI_TEXT'].tolist()))"
   ]
  },
  {
   "cell_type": "code",
   "execution_count": 12,
   "id": "cba2fe68-99ad-46f1-83d9-9eaf51f47fa0",
   "metadata": {},
   "outputs": [
    {
     "name": "stdout",
     "output_type": "stream",
     "text": [
      "MultinomialNB Classifier\n",
      "\n",
      "Accuracy score = 0.96\n",
      "\n",
      "              precision    recall  f1-score   support\n",
      "\n",
      "not replaced       1.00      0.95      0.98        22\n",
      "    replaced       0.75      1.00      0.86         3\n",
      "\n",
      "    accuracy                           0.96        25\n",
      "   macro avg       0.88      0.98      0.92        25\n",
      "weighted avg       0.97      0.96      0.96        25\n",
      "\n"
     ]
    }
   ],
   "source": [
    "# Print the score and report\n",
    "classifier_scores['MultinomialNB'] = accuracy_score(y_test, multinomialnb_y_pred)\n",
    "print(f\"MultinomialNB Classifier\\n\")\n",
    "print(f\"Accuracy score = {classifier_scores['MultinomialNB']}\\n\")\n",
    "print(classification_report(y_test, multinomialnb_y_pred, zero_division=0))"
   ]
  },
  {
   "cell_type": "code",
   "execution_count": 13,
   "id": "431f92b6-c7b0-4b62-813f-e0c37c9135a2",
   "metadata": {},
   "outputs": [
    {
     "data": {
      "text/html": [
       "<div>\n",
       "<style scoped>\n",
       "    .dataframe tbody tr th:only-of-type {\n",
       "        vertical-align: middle;\n",
       "    }\n",
       "\n",
       "    .dataframe tbody tr th {\n",
       "        vertical-align: top;\n",
       "    }\n",
       "\n",
       "    .dataframe thead th {\n",
       "        text-align: right;\n",
       "    }\n",
       "</style>\n",
       "<table border=\"1\" class=\"dataframe\">\n",
       "  <thead>\n",
       "    <tr style=\"text-align: right;\">\n",
       "      <th></th>\n",
       "      <th>Accuracy Score</th>\n",
       "    </tr>\n",
       "    <tr>\n",
       "      <th>Classifier</th>\n",
       "      <th></th>\n",
       "    </tr>\n",
       "  </thead>\n",
       "  <tbody>\n",
       "    <tr>\n",
       "      <th>MultinomialNB</th>\n",
       "      <td>0.96</td>\n",
       "    </tr>\n",
       "    <tr>\n",
       "      <th>most_frequent</th>\n",
       "      <td>0.88</td>\n",
       "    </tr>\n",
       "    <tr>\n",
       "      <th>prior</th>\n",
       "      <td>0.88</td>\n",
       "    </tr>\n",
       "    <tr>\n",
       "      <th>stratified</th>\n",
       "      <td>0.68</td>\n",
       "    </tr>\n",
       "    <tr>\n",
       "      <th>uniform</th>\n",
       "      <td>0.44</td>\n",
       "    </tr>\n",
       "    <tr>\n",
       "      <th>constant</th>\n",
       "      <td>0.12</td>\n",
       "    </tr>\n",
       "  </tbody>\n",
       "</table>\n",
       "</div>"
      ],
      "text/plain": [
       "               Accuracy Score\n",
       "Classifier                   \n",
       "MultinomialNB            0.96\n",
       "most_frequent            0.88\n",
       "prior                    0.88\n",
       "stratified               0.68\n",
       "uniform                  0.44\n",
       "constant                 0.12"
      ]
     },
     "execution_count": 13,
     "metadata": {},
     "output_type": "execute_result"
    }
   ],
   "source": [
    "# Print the scores\n",
    "df_scores = pd.DataFrame.from_dict(classifier_scores, orient='index')\n",
    "df_scores.index.name = 'Classifier'\n",
    "df_scores.columns = ['Accuracy Score']\n",
    "df_scores.sort_values(by=['Accuracy Score'], ascending=False)"
   ]
  },
  {
   "cell_type": "code",
   "execution_count": 14,
   "id": "3af97950-7206-4834-b8c2-3b06fc5815bb",
   "metadata": {},
   "outputs": [],
   "source": [
    "df_scores.to_csv(f\"{working_directory}/classification_scores.csv\")"
   ]
  },
  {
   "cell_type": "markdown",
   "id": "4e4a96e0-1d19-4e48-bd54-3d98d702521d",
   "metadata": {},
   "source": [
    "## Save the Model Using Python's `pickle` Library\n",
    "After the model has been trained, it can be saved for later use. This provides for more efficient analysis by not having to train the model each time a model is needed.\n",
    "\n",
    "Also, a model that shows optimal results can be preserved for deployment in the future.\n",
    "\n",
    "[This video](https://www.youtube.com/watch?v=2Tw39kZIbhs&list=PLQVvvaa0QuDe8XSftW-RAxdo6OmaeL85M&t=11s) provides an example of saving a Python variable using pickle."
   ]
  },
  {
   "cell_type": "code",
   "execution_count": 15,
   "id": "a09e27fe-706e-4525-bf31-eaef9235214f",
   "metadata": {},
   "outputs": [],
   "source": [
    "import pickle\n",
    "import datetime\n",
    "\n",
    "pickle_out = open(f\"{working_directory}/multinomialnb_classifier_warranty_{datetime.datetime.now():%Y-%m-%d-%s}.pickle\", \"wb\")\n",
    "\n",
    "pickle.dump(multinomialnb_classifier_warranty, pickle_out)\n",
    "\n",
    "pickle_out.close()"
   ]
  }
 ],
 "metadata": {
  "kernelspec": {
   "display_name": "conda_python3",
   "language": "python",
   "name": "conda_python3"
  },
  "language_info": {
   "codemirror_mode": {
    "name": "ipython",
    "version": 3
   },
   "file_extension": ".py",
   "mimetype": "text/x-python",
   "name": "python",
   "nbconvert_exporter": "python",
   "pygments_lexer": "ipython3",
   "version": "3.10.6"
  }
 },
 "nbformat": 4,
 "nbformat_minor": 5
}
