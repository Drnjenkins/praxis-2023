{
 "cells": [
  {
   "cell_type": "code",
   "execution_count": 2,
   "id": "01693634-379c-4a43-820b-e768fc90e485",
   "metadata": {},
   "outputs": [],
   "source": [
    "import pandas as pd\n",
    "import os\n",
    "\n",
    "classifier_scores = {}\n",
    "\n",
    "# Identify the working directory and data files\n",
    "working_directory = './text_classification'\n",
    "\n",
    "# Create the working directory if needed\n",
    "try:\n",
    "    os.makedirs(working_directory, exist_ok=True)\n",
    "except OSError as error:\n",
    "    print(f\"Error creating {working_directory}: {error}\")\n",
    "    \n",
    "data_file = './labeled_data/qbj_2020_strata.csv'\n",
    "\n",
    "# Read the data into a pandas dataframe\n",
    "df = pd.read_csv(data_file,           # The data file being read, from the variable assignment above\n",
    "                 on_bad_lines='warn', # This tells Pandas to only warn on bad lines vs causing an error\n",
    "                 dtype='str')         # This tells Pandas to treat all numbers as words\n"
   ]
  },
  {
   "cell_type": "code",
   "execution_count": 3,
   "id": "dda00660-f512-414a-9f01-3baf38928486",
   "metadata": {},
   "outputs": [
    {
     "data": {
      "text/plain": [
       "(100, 7)"
      ]
     },
     "execution_count": 3,
     "metadata": {},
     "output_type": "execute_result"
    }
   ],
   "source": [
    "# Show the number of rows and columns in the dataframe\n",
    "df.shape"
   ]
  },
  {
   "cell_type": "code",
   "execution_count": 4,
   "id": "0fcbf43c-aa9b-470f-8e4f-4458fa39b14b",
   "metadata": {},
   "outputs": [],
   "source": [
    "# Convert all the text in the dataframe to lowercase\n",
    "df = df.apply(lambda x: x.astype(str).str.lower())"
   ]
  },
  {
   "cell_type": "code",
   "execution_count": 5,
   "id": "6a14d840-3923-44a5-a75e-2ec68738c5c5",
   "metadata": {},
   "outputs": [
    {
     "data": {
      "text/html": [
       "<div>\n",
       "<style scoped>\n",
       "    .dataframe tbody tr th:only-of-type {\n",
       "        vertical-align: middle;\n",
       "    }\n",
       "\n",
       "    .dataframe tbody tr th {\n",
       "        vertical-align: top;\n",
       "    }\n",
       "\n",
       "    .dataframe thead th {\n",
       "        text-align: right;\n",
       "    }\n",
       "</style>\n",
       "<table border=\"1\" class=\"dataframe\">\n",
       "  <thead>\n",
       "    <tr style=\"text-align: right;\">\n",
       "      <th></th>\n",
       "      <th>RECORD_ID</th>\n",
       "      <th>FOI_TEXT</th>\n",
       "      <th>DEVICE_PROBLEM_CODE</th>\n",
       "      <th>DEVICE_PROBLEM_TEXT</th>\n",
       "      <th>DEVICE_REPORT_PRODUCT_CODE</th>\n",
       "      <th>Repeating terms</th>\n",
       "    </tr>\n",
       "  </thead>\n",
       "  <tbody>\n",
       "    <tr>\n",
       "      <th>19</th>\n",
       "      <td>1389952</td>\n",
       "      <td>it was reported that transmitter failed error ...</td>\n",
       "      <td>1435</td>\n",
       "      <td>no device output</td>\n",
       "      <td>qbj</td>\n",
       "      <td>transmitter failed error\\n</td>\n",
       "    </tr>\n",
       "  </tbody>\n",
       "</table>\n",
       "</div>"
      ],
      "text/plain": [
       "   RECORD_ID                                           FOI_TEXT  \\\n",
       "19   1389952  it was reported that transmitter failed error ...   \n",
       "\n",
       "   DEVICE_PROBLEM_CODE DEVICE_PROBLEM_TEXT DEVICE_REPORT_PRODUCT_CODE  \\\n",
       "19                1435    no device output                        qbj   \n",
       "\n",
       "               Repeating terms  \n",
       "19  transmitter failed error\\n  "
      ]
     },
     "execution_count": 5,
     "metadata": {},
     "output_type": "execute_result"
    }
   ],
   "source": [
    "# Create the independent matrix and show a sample line\n",
    "x = df.drop('Disposition', axis=1)\n",
    "x.sample()"
   ]
  },
  {
   "cell_type": "code",
   "execution_count": 6,
   "id": "2f224c64-07f2-4f7f-a19a-5e354756a9f6",
   "metadata": {},
   "outputs": [
    {
     "data": {
      "text/html": [
       "<div>\n",
       "<style scoped>\n",
       "    .dataframe tbody tr th:only-of-type {\n",
       "        vertical-align: middle;\n",
       "    }\n",
       "\n",
       "    .dataframe tbody tr th {\n",
       "        vertical-align: top;\n",
       "    }\n",
       "\n",
       "    .dataframe thead th {\n",
       "        text-align: right;\n",
       "    }\n",
       "</style>\n",
       "<table border=\"1\" class=\"dataframe\">\n",
       "  <thead>\n",
       "    <tr style=\"text-align: right;\">\n",
       "      <th></th>\n",
       "      <th>Disposition</th>\n",
       "    </tr>\n",
       "  </thead>\n",
       "  <tbody>\n",
       "    <tr>\n",
       "      <th>86</th>\n",
       "      <td>component failure</td>\n",
       "    </tr>\n",
       "  </tbody>\n",
       "</table>\n",
       "</div>"
      ],
      "text/plain": [
       "          Disposition\n",
       "86  component failure"
      ]
     },
     "execution_count": 6,
     "metadata": {},
     "output_type": "execute_result"
    }
   ],
   "source": [
    "# Create the dependent matrix and show a sample line\n",
    "y = df[['Disposition']]\n",
    "y.sample()"
   ]
  },
  {
   "cell_type": "code",
   "execution_count": 7,
   "id": "f4e73b87-f55b-4d17-99d5-7e66c326f590",
   "metadata": {},
   "outputs": [],
   "source": [
    "# Split the data into training and test sets\n",
    "from sklearn.model_selection import train_test_split\n",
    "\n",
    "x_train, x_test, y_train, y_test = train_test_split(x, y)"
   ]
  },
  {
   "cell_type": "code",
   "execution_count": 8,
   "id": "5cc04fce-4695-471e-a2e8-dec97ae39bdf",
   "metadata": {},
   "outputs": [
    {
     "data": {
      "text/plain": [
       "(75, 25)"
      ]
     },
     "execution_count": 8,
     "metadata": {},
     "output_type": "execute_result"
    }
   ],
   "source": [
    "# Show the number of rows for training and testing\n",
    "len(x_train), len(x_test)"
   ]
  },
  {
   "cell_type": "markdown",
   "id": "9b8b8de2-02ea-4eab-8f29-fe683da7fdf5",
   "metadata": {},
   "source": [
    "## Use the Dummy Classifier with Strategies\n",
    "\n",
    "[Documentation for sklearn.dummy.DummyClassifier](https://scikit-learn.org/stable/modules/generated/sklearn.dummy.DummyClassifier.html)\n",
    "\n",
    "`strategy{“most_frequent”, “prior”, “stratified”, “uniform”, “constant”}, default=”prior”`\n",
    "\n",
    "**“most_frequent”**: the predict method always returns the most frequent class label in the observed y argument passed to fit. The predict_proba method returns the matching one-hot encoded vector.\n",
    "\n",
    "**“prior”**: the predict method always returns the most frequent class label in the observed y argument passed to fit (like “most_frequent”). predict_proba always returns the empirical class distribution of y also known as the empirical class prior distribution.\n",
    "\n",
    "**“stratified”**: the predict_proba method randomly samples one-hot vectors from a multinomial distribution parametrized by the empirical class prior probabilities. The predict method returns the class label which got probability one in the one-hot vector of predict_proba. Each sampled row of both methods is therefore independent and identically distributed.\n",
    "\n",
    "**“uniform”**: generates predictions uniformly at random from the list of unique classes observed in y, i.e. each class has equal probability.\n",
    "\n",
    "**“constant”**: always predicts a constant label that is provided by the user. This is useful for metrics that evaluate a non-majority class."
   ]
  },
  {
   "cell_type": "code",
   "execution_count": 9,
   "id": "d462e58a-c516-42c6-83e6-06ad5a5e783f",
   "metadata": {},
   "outputs": [
    {
     "name": "stdout",
     "output_type": "stream",
     "text": [
      "Dummy Classifier using strategy = MOST_FREQUENT\n",
      "\n",
      "Accuracy score = 0.64\n",
      "\n",
      "                      precision    recall  f1-score   support\n",
      "\n",
      "   component failure       0.64      1.00      0.78        16\n",
      "failure inconclusive       0.00      0.00      0.00         9\n",
      "\n",
      "            accuracy                           0.64        25\n",
      "           macro avg       0.32      0.50      0.39        25\n",
      "        weighted avg       0.41      0.64      0.50        25\n",
      "\n",
      "-------------------------------------------------------------------------------- \n",
      "\n",
      "Dummy Classifier using strategy = PRIOR\n",
      "\n",
      "Accuracy score = 0.64\n",
      "\n",
      "                      precision    recall  f1-score   support\n",
      "\n",
      "   component failure       0.64      1.00      0.78        16\n",
      "failure inconclusive       0.00      0.00      0.00         9\n",
      "\n",
      "            accuracy                           0.64        25\n",
      "           macro avg       0.32      0.50      0.39        25\n",
      "        weighted avg       0.41      0.64      0.50        25\n",
      "\n",
      "-------------------------------------------------------------------------------- \n",
      "\n",
      "Dummy Classifier using strategy = STRATIFIED\n",
      "\n",
      "Accuracy score = 0.56\n",
      "\n",
      "                      precision    recall  f1-score   support\n",
      "\n",
      "   component failure       0.69      0.56      0.62        16\n",
      "failure inconclusive       0.42      0.56      0.48         9\n",
      "\n",
      "            accuracy                           0.56        25\n",
      "           macro avg       0.55      0.56      0.55        25\n",
      "        weighted avg       0.59      0.56      0.57        25\n",
      "\n",
      "-------------------------------------------------------------------------------- \n",
      "\n",
      "Dummy Classifier using strategy = UNIFORM\n",
      "\n",
      "Accuracy score = 0.6\n",
      "\n",
      "                      precision    recall  f1-score   support\n",
      "\n",
      "   component failure       0.75      0.56      0.64        16\n",
      "failure inconclusive       0.46      0.67      0.55         9\n",
      "\n",
      "            accuracy                           0.60        25\n",
      "           macro avg       0.61      0.61      0.59        25\n",
      "        weighted avg       0.65      0.60      0.61        25\n",
      "\n",
      "-------------------------------------------------------------------------------- \n",
      "\n",
      "Dummy Classifier using strategy = CONSTANT\n",
      "\n",
      "Accuracy score = 0.64\n",
      "\n",
      "                      precision    recall  f1-score   support\n",
      "\n",
      "   component failure       0.64      1.00      0.78        16\n",
      "failure inconclusive       0.00      0.00      0.00         9\n",
      "\n",
      "            accuracy                           0.64        25\n",
      "           macro avg       0.32      0.50      0.39        25\n",
      "        weighted avg       0.41      0.64      0.50        25\n",
      "\n",
      "-------------------------------------------------------------------------------- \n",
      "\n"
     ]
    }
   ],
   "source": [
    "# Use the DummyClassifier, iterating over the different strategies\n",
    "from sklearn.dummy import DummyClassifier\n",
    "from sklearn.metrics import accuracy_score, classification_report\n",
    "\n",
    "strategies = ['most_frequent', 'prior', 'stratified', 'uniform', 'constant']\n",
    "\n",
    "for strategy in strategies:\n",
    "    print(f\"Dummy Classifier using strategy = {strategy.upper()}\\n\")\n",
    "    \n",
    "    if strategy == 'constant':\n",
    "        classifier = DummyClassifier(strategy=strategy, random_state=0, constant='component failure')\n",
    "    else:\n",
    "        classifier = DummyClassifier(strategy=strategy, random_state=0)\n",
    "    \n",
    "    classifier.fit(x_train, y_train)\n",
    "        \n",
    "    y_pred = classifier.predict(x_test)\n",
    "    \n",
    "    # Print the scores and reports for each classifer\n",
    "    classifier_scores[strategy] = accuracy_score(y_test, y_pred)\n",
    "    print(f\"Accuracy score = {classifier_scores[strategy]}\\n\")\n",
    "    \n",
    "    print(classification_report(y_test, y_pred, zero_division=0))\n",
    "    \n",
    "    print('-' * 80, '\\n')"
   ]
  },
  {
   "cell_type": "markdown",
   "id": "2708c22e-4a26-4f44-995a-41cbde90223d",
   "metadata": {},
   "source": [
    "## Use the MultinomialNB Classifier with Vectorized Input for 'FOI_TEXT'\n",
    "\n",
    "[Documentation for sklearn.naive_bayes.MultinomialNB](https://scikit-learn.org/stable/modules/generated/sklearn.naive_bayes.MultinomialNB.html)\n",
    "\n",
    "> \"The multinomial Naive Bayes classifier is suitable for classification with discrete features (e.g., word counts for text classification). The multinomial distribution normally requires integer feature counts. However, in practice, fractional counts such as tf-idf may also work.\"\n",
    "\n"
   ]
  },
  {
   "cell_type": "code",
   "execution_count": 10,
   "id": "fe62ffd0-cc31-4d67-ad6d-088d1e0fa78c",
   "metadata": {},
   "outputs": [
    {
     "data": {
      "text/plain": [
       "TfidfVectorizer(decode_error='ignore', stop_words='english')"
      ]
     },
     "execution_count": 10,
     "metadata": {},
     "output_type": "execute_result"
    }
   ],
   "source": [
    "# Create a vectorizer\n",
    "from sklearn.feature_extraction.text import TfidfVectorizer\n",
    "\n",
    "vectorizer = TfidfVectorizer(stop_words='english', decode_error='ignore')\n",
    "\n",
    "vectorizer.fit(x_train['FOI_TEXT'].tolist())"
   ]
  },
  {
   "cell_type": "code",
   "execution_count": 11,
   "id": "3f47ef9b-9a8f-4972-8cec-8daeb632aea0",
   "metadata": {},
   "outputs": [
    {
     "data": {
      "text/plain": [
       "MultinomialNB()"
      ]
     },
     "execution_count": 11,
     "metadata": {},
     "output_type": "execute_result"
    }
   ],
   "source": [
    "from sklearn.naive_bayes import MultinomialNB\n",
    "\n",
    "multinomialnb_classifier = MultinomialNB()\n",
    "multinomialnb_classifier.fit(vectorizer.transform(x_train['FOI_TEXT'].tolist()), y_train['Disposition'].tolist())\n"
   ]
  },
  {
   "cell_type": "code",
   "execution_count": 12,
   "id": "fd3e0a9e-289e-4129-9c57-0f1ae4184c67",
   "metadata": {},
   "outputs": [],
   "source": [
    "multinomialnb_y_pred = multinomialnb_classifier.predict(vectorizer.transform(x_test['FOI_TEXT'].tolist()))"
   ]
  },
  {
   "cell_type": "code",
   "execution_count": 13,
   "id": "cba2fe68-99ad-46f1-83d9-9eaf51f47fa0",
   "metadata": {},
   "outputs": [
    {
     "name": "stdout",
     "output_type": "stream",
     "text": [
      "MultinomialNB Classifier\n",
      "\n",
      "Accuracy score = 1.0\n",
      "\n",
      "                      precision    recall  f1-score   support\n",
      "\n",
      "   component failure       1.00      1.00      1.00        16\n",
      "failure inconclusive       1.00      1.00      1.00         9\n",
      "\n",
      "            accuracy                           1.00        25\n",
      "           macro avg       1.00      1.00      1.00        25\n",
      "        weighted avg       1.00      1.00      1.00        25\n",
      "\n"
     ]
    }
   ],
   "source": [
    "# Print the score and report\n",
    "classifier_scores['MultinomialNB'] = accuracy_score(y_test, multinomialnb_y_pred)\n",
    "print(f\"MultinomialNB Classifier\\n\")\n",
    "print(f\"Accuracy score = {classifier_scores['MultinomialNB']}\\n\")\n",
    "print(classification_report(y_test, multinomialnb_y_pred, zero_division=0))"
   ]
  },
  {
   "cell_type": "code",
   "execution_count": 14,
   "id": "431f92b6-c7b0-4b62-813f-e0c37c9135a2",
   "metadata": {},
   "outputs": [
    {
     "data": {
      "text/html": [
       "<div>\n",
       "<style scoped>\n",
       "    .dataframe tbody tr th:only-of-type {\n",
       "        vertical-align: middle;\n",
       "    }\n",
       "\n",
       "    .dataframe tbody tr th {\n",
       "        vertical-align: top;\n",
       "    }\n",
       "\n",
       "    .dataframe thead th {\n",
       "        text-align: right;\n",
       "    }\n",
       "</style>\n",
       "<table border=\"1\" class=\"dataframe\">\n",
       "  <thead>\n",
       "    <tr style=\"text-align: right;\">\n",
       "      <th></th>\n",
       "      <th>Score</th>\n",
       "    </tr>\n",
       "    <tr>\n",
       "      <th>Classifier</th>\n",
       "      <th></th>\n",
       "    </tr>\n",
       "  </thead>\n",
       "  <tbody>\n",
       "    <tr>\n",
       "      <th>MultinomialNB</th>\n",
       "      <td>1.00</td>\n",
       "    </tr>\n",
       "    <tr>\n",
       "      <th>most_frequent</th>\n",
       "      <td>0.64</td>\n",
       "    </tr>\n",
       "    <tr>\n",
       "      <th>prior</th>\n",
       "      <td>0.64</td>\n",
       "    </tr>\n",
       "    <tr>\n",
       "      <th>constant</th>\n",
       "      <td>0.64</td>\n",
       "    </tr>\n",
       "    <tr>\n",
       "      <th>uniform</th>\n",
       "      <td>0.60</td>\n",
       "    </tr>\n",
       "    <tr>\n",
       "      <th>stratified</th>\n",
       "      <td>0.56</td>\n",
       "    </tr>\n",
       "  </tbody>\n",
       "</table>\n",
       "</div>"
      ],
      "text/plain": [
       "               Score\n",
       "Classifier          \n",
       "MultinomialNB   1.00\n",
       "most_frequent   0.64\n",
       "prior           0.64\n",
       "constant        0.64\n",
       "uniform         0.60\n",
       "stratified      0.56"
      ]
     },
     "execution_count": 14,
     "metadata": {},
     "output_type": "execute_result"
    }
   ],
   "source": [
    "# Print the scores\n",
    "df_scores = pd.DataFrame.from_dict(classifier_scores, orient='index')\n",
    "df_scores.index.name = 'Classifier'\n",
    "df_scores.columns = ['Score']\n",
    "df_scores.sort_values(by=['Score'], ascending=False)"
   ]
  },
  {
   "cell_type": "code",
   "execution_count": 15,
   "id": "3af97950-7206-4834-b8c2-3b06fc5815bb",
   "metadata": {},
   "outputs": [],
   "source": [
    "df_scores.to_csv(f\"{working_directory}/classification_scores.csv\")"
   ]
  }
 ],
 "metadata": {
  "kernelspec": {
   "display_name": "conda_python3",
   "language": "python",
   "name": "conda_python3"
  },
  "language_info": {
   "codemirror_mode": {
    "name": "ipython",
    "version": 3
   },
   "file_extension": ".py",
   "mimetype": "text/x-python",
   "name": "python",
   "nbconvert_exporter": "python",
   "pygments_lexer": "ipython3",
   "version": "3.8.12"
  }
 },
 "nbformat": 4,
 "nbformat_minor": 5
}
