{
 "cells": [
  {
   "cell_type": "code",
   "execution_count": 1,
   "id": "01693634-379c-4a43-820b-e768fc90e485",
   "metadata": {},
   "outputs": [],
   "source": [
    "import pandas as pd\n",
    "\n",
    "data_file = './labeled_data/qbj_2020_strata.csv'\n",
    "\n",
    "# Read the data into a pandas dataframe\n",
    "df = pd.read_csv(data_file,           # The data file being read, from the variable assignment above\n",
    "                 on_bad_lines='warn', # This tells Pandas to only warn on bad lines vs causing an error\n",
    "                 dtype='str')         # This tells Pandas to treat all numbers as words\n"
   ]
  },
  {
   "cell_type": "code",
   "execution_count": 2,
   "id": "dda00660-f512-414a-9f01-3baf38928486",
   "metadata": {},
   "outputs": [
    {
     "data": {
      "text/plain": [
       "(100, 7)"
      ]
     },
     "execution_count": 2,
     "metadata": {},
     "output_type": "execute_result"
    }
   ],
   "source": [
    "# Show the number of rows and columns in the dataframe\n",
    "df.shape"
   ]
  },
  {
   "cell_type": "code",
   "execution_count": 3,
   "id": "0fcbf43c-aa9b-470f-8e4f-4458fa39b14b",
   "metadata": {},
   "outputs": [],
   "source": [
    "# Convert all the text in the dataframe to lowercase\n",
    "df = df.apply(lambda x: x.astype(str).str.lower())"
   ]
  },
  {
   "cell_type": "code",
   "execution_count": 35,
   "id": "6a14d840-3923-44a5-a75e-2ec68738c5c5",
   "metadata": {},
   "outputs": [
    {
     "data": {
      "text/html": [
       "<div>\n",
       "<style scoped>\n",
       "    .dataframe tbody tr th:only-of-type {\n",
       "        vertical-align: middle;\n",
       "    }\n",
       "\n",
       "    .dataframe tbody tr th {\n",
       "        vertical-align: top;\n",
       "    }\n",
       "\n",
       "    .dataframe thead th {\n",
       "        text-align: right;\n",
       "    }\n",
       "</style>\n",
       "<table border=\"1\" class=\"dataframe\">\n",
       "  <thead>\n",
       "    <tr style=\"text-align: right;\">\n",
       "      <th></th>\n",
       "      <th>RECORD_ID</th>\n",
       "      <th>FOI_TEXT</th>\n",
       "      <th>DEVICE_PROBLEM_CODE</th>\n",
       "      <th>DEVICE_PROBLEM_TEXT</th>\n",
       "      <th>DEVICE_REPORT_PRODUCT_CODE</th>\n",
       "      <th>Repeating terms</th>\n",
       "    </tr>\n",
       "  </thead>\n",
       "  <tbody>\n",
       "    <tr>\n",
       "      <th>48</th>\n",
       "      <td>909902</td>\n",
       "      <td>it was reported that the customer received mul...</td>\n",
       "      <td>2896</td>\n",
       "      <td>communication or transmission problem</td>\n",
       "      <td>qbj</td>\n",
       "      <td>\\n\\nreplacement transmitter</td>\n",
       "    </tr>\n",
       "  </tbody>\n",
       "</table>\n",
       "</div>"
      ],
      "text/plain": [
       "   RECORD_ID                                           FOI_TEXT  \\\n",
       "48    909902  it was reported that the customer received mul...   \n",
       "\n",
       "   DEVICE_PROBLEM_CODE                    DEVICE_PROBLEM_TEXT  \\\n",
       "48                2896  communication or transmission problem   \n",
       "\n",
       "   DEVICE_REPORT_PRODUCT_CODE              Repeating terms  \n",
       "48                        qbj  \\n\\nreplacement transmitter  "
      ]
     },
     "execution_count": 35,
     "metadata": {},
     "output_type": "execute_result"
    }
   ],
   "source": [
    "# Create the independent matrix and show first few lines\n",
    "independent_matrix = df.drop('Disposition', axis=1)\n",
    "independent_matrix.sample()"
   ]
  },
  {
   "cell_type": "code",
   "execution_count": 36,
   "id": "2f224c64-07f2-4f7f-a19a-5e354756a9f6",
   "metadata": {},
   "outputs": [
    {
     "data": {
      "text/html": [
       "<div>\n",
       "<style scoped>\n",
       "    .dataframe tbody tr th:only-of-type {\n",
       "        vertical-align: middle;\n",
       "    }\n",
       "\n",
       "    .dataframe tbody tr th {\n",
       "        vertical-align: top;\n",
       "    }\n",
       "\n",
       "    .dataframe thead th {\n",
       "        text-align: right;\n",
       "    }\n",
       "</style>\n",
       "<table border=\"1\" class=\"dataframe\">\n",
       "  <thead>\n",
       "    <tr style=\"text-align: right;\">\n",
       "      <th></th>\n",
       "      <th>Disposition</th>\n",
       "    </tr>\n",
       "  </thead>\n",
       "  <tbody>\n",
       "    <tr>\n",
       "      <th>92</th>\n",
       "      <td>failure inconclusive</td>\n",
       "    </tr>\n",
       "  </tbody>\n",
       "</table>\n",
       "</div>"
      ],
      "text/plain": [
       "             Disposition\n",
       "92  failure inconclusive"
      ]
     },
     "execution_count": 36,
     "metadata": {},
     "output_type": "execute_result"
    }
   ],
   "source": [
    "# Create the dependent matrix and show first few lines\n",
    "dependent_matrix = df[['Disposition']]\n",
    "dependent_matrix.sample()"
   ]
  },
  {
   "cell_type": "code",
   "execution_count": 6,
   "id": "f4e73b87-f55b-4d17-99d5-7e66c326f590",
   "metadata": {},
   "outputs": [],
   "source": [
    "# Split the data into training and test sets\n",
    "from sklearn.model_selection import train_test_split\n",
    "\n",
    "x_train, x_test, y_train, y_test = train_test_split(independent_matrix, dependent_matrix)"
   ]
  },
  {
   "cell_type": "code",
   "execution_count": 7,
   "id": "5cc04fce-4695-471e-a2e8-dec97ae39bdf",
   "metadata": {},
   "outputs": [
    {
     "data": {
      "text/plain": [
       "(75, 25)"
      ]
     },
     "execution_count": 7,
     "metadata": {},
     "output_type": "execute_result"
    }
   ],
   "source": [
    "# Show the number of rows for training and testing\n",
    "len(x_train), len(x_test)"
   ]
  },
  {
   "cell_type": "code",
   "execution_count": 8,
   "id": "3085e502-9b51-444a-b17b-d9cfac937006",
   "metadata": {},
   "outputs": [
    {
     "data": {
      "text/plain": [
       "TfidfVectorizer(decode_error='ignore', stop_words='english')"
      ]
     },
     "execution_count": 8,
     "metadata": {},
     "output_type": "execute_result"
    }
   ],
   "source": [
    "from sklearn.feature_extraction.text import TfidfVectorizer\n",
    "\n",
    "vectorizer = TfidfVectorizer(stop_words='english', \n",
    "                             analyzer='word', \n",
    "                             binary=False, \n",
    "                             decode_error='ignore', \n",
    "                             lowercase=True, \n",
    "                             tokenizer=None, \n",
    "                             use_idf=True, \n",
    "                             vocabulary=None)\n",
    "\n",
    "vectorizer.fit(x_train)"
   ]
  },
  {
   "cell_type": "markdown",
   "id": "9b8b8de2-02ea-4eab-8f29-fe683da7fdf5",
   "metadata": {},
   "source": [
    "## Strategy to use to generate predictions.\n",
    "\n",
    "[Documentation for sklearn.dummy.DummyClassifier](https://scikit-learn.org/stable/modules/generated/sklearn.dummy.DummyClassifier.html)\n",
    "\n",
    "`strategy{“most_frequent”, “prior”, “stratified”, “uniform”, “constant”}, default=”prior”`\n",
    "\n",
    "**“most_frequent”**: the predict method always returns the most frequent class label in the observed y argument passed to fit. The predict_proba method returns the matching one-hot encoded vector.\n",
    "\n",
    "**“prior”**: the predict method always returns the most frequent class label in the observed y argument passed to fit (like “most_frequent”). predict_proba always returns the empirical class distribution of y also known as the empirical class prior distribution.\n",
    "\n",
    "**“stratified”**: the predict_proba method randomly samples one-hot vectors from a multinomial distribution parametrized by the empirical class prior probabilities. The predict method returns the class label which got probability one in the one-hot vector of predict_proba. Each sampled row of both methods is therefore independent and identically distributed.\n",
    "\n",
    "**“uniform”**: generates predictions uniformly at random from the list of unique classes observed in y, i.e. each class has equal probability.\n",
    "\n",
    "**“constant”**: always predicts a constant label that is provided by the user. This is useful for metrics that evaluate a non-majority class."
   ]
  },
  {
   "cell_type": "code",
   "execution_count": 41,
   "id": "d462e58a-c516-42c6-83e6-06ad5a5e783f",
   "metadata": {},
   "outputs": [
    {
     "name": "stdout",
     "output_type": "stream",
     "text": [
      "MOST_FREQUENT Strategy\n",
      "\n",
      "Accuracy score = 0.56\n",
      "\n",
      "                      precision    recall  f1-score   support\n",
      "\n",
      "   component failure       0.56      1.00      0.72        14\n",
      "failure inconclusive       0.00      0.00      0.00        11\n",
      "\n",
      "            accuracy                           0.56        25\n",
      "           macro avg       0.28      0.50      0.36        25\n",
      "        weighted avg       0.31      0.56      0.40        25\n",
      "\n",
      "-------------------------------------------------------------------------------- \n",
      "\n",
      "PRIOR Strategy\n",
      "\n",
      "Accuracy score = 0.56\n",
      "\n",
      "                      precision    recall  f1-score   support\n",
      "\n",
      "   component failure       0.56      1.00      0.72        14\n",
      "failure inconclusive       0.00      0.00      0.00        11\n",
      "\n",
      "            accuracy                           0.56        25\n",
      "           macro avg       0.28      0.50      0.36        25\n",
      "        weighted avg       0.31      0.56      0.40        25\n",
      "\n",
      "-------------------------------------------------------------------------------- \n",
      "\n",
      "STRATIFIED Strategy\n",
      "\n",
      "Accuracy score = 0.52\n",
      "\n",
      "                      precision    recall  f1-score   support\n",
      "\n",
      "   component failure       0.57      0.57      0.57        14\n",
      "failure inconclusive       0.45      0.45      0.45        11\n",
      "\n",
      "            accuracy                           0.52        25\n",
      "           macro avg       0.51      0.51      0.51        25\n",
      "        weighted avg       0.52      0.52      0.52        25\n",
      "\n",
      "-------------------------------------------------------------------------------- \n",
      "\n",
      "UNIFORM Strategy\n",
      "\n",
      "Accuracy score = 0.52\n",
      "\n",
      "                      precision    recall  f1-score   support\n",
      "\n",
      "   component failure       0.58      0.50      0.54        14\n",
      "failure inconclusive       0.46      0.55      0.50        11\n",
      "\n",
      "            accuracy                           0.52        25\n",
      "           macro avg       0.52      0.52      0.52        25\n",
      "        weighted avg       0.53      0.52      0.52        25\n",
      "\n",
      "-------------------------------------------------------------------------------- \n",
      "\n",
      "CONSTANT Strategy\n",
      "\n",
      "Accuracy score = 0.56\n",
      "\n",
      "                      precision    recall  f1-score   support\n",
      "\n",
      "   component failure       0.56      1.00      0.72        14\n",
      "failure inconclusive       0.00      0.00      0.00        11\n",
      "\n",
      "            accuracy                           0.56        25\n",
      "           macro avg       0.28      0.50      0.36        25\n",
      "        weighted avg       0.31      0.56      0.40        25\n",
      "\n",
      "-------------------------------------------------------------------------------- \n",
      "\n"
     ]
    }
   ],
   "source": [
    "# Use the DummyClassifier, iterating over the different strategies\n",
    "from sklearn.dummy import DummyClassifier\n",
    "from sklearn.metrics import accuracy_score, classification_report\n",
    "\n",
    "dummy_classifier_scores = {}\n",
    "\n",
    "strategies = ['most_frequent', 'prior', 'stratified', 'uniform', 'constant']\n",
    "\n",
    "for strategy in strategies:\n",
    "    print(f\"{strategy.upper()} Strategy\\n\")\n",
    "    \n",
    "    if strategy == 'constant':\n",
    "        classifier = DummyClassifier(strategy=strategy, random_state=0, constant='component failure')\n",
    "    else:\n",
    "        classifier = DummyClassifier(strategy=strategy, random_state=0)\n",
    "    \n",
    "    classifier.fit(x_train, y_train)\n",
    "        \n",
    "    y_pred = classifier.predict(x_test)\n",
    "    \n",
    "    # Print the scores and reports for each classifer\n",
    "    print(f\"Accuracy score = {accuracy_score(y_test, y_pred)}\\n\")\n",
    "    \n",
    "    print(classification_report(y_test, y_pred, zero_division=0))\n",
    "    \n",
    "    print('-' * 80, '\\n')"
   ]
  }
 ],
 "metadata": {
  "kernelspec": {
   "display_name": "conda_python3",
   "language": "python",
   "name": "conda_python3"
  },
  "language_info": {
   "codemirror_mode": {
    "name": "ipython",
    "version": 3
   },
   "file_extension": ".py",
   "mimetype": "text/x-python",
   "name": "python",
   "nbconvert_exporter": "python",
   "pygments_lexer": "ipython3",
   "version": "3.8.12"
  }
 },
 "nbformat": 4,
 "nbformat_minor": 5
}
