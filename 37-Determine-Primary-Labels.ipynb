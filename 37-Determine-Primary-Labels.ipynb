{
 "cells": [
  {
   "cell_type": "code",
   "execution_count": 1,
   "id": "2311804d-1936-4c46-8ea2-a2beb21ec232",
   "metadata": {},
   "outputs": [],
   "source": [
    "import pandas as pd\n",
    "import os\n",
    "import csv\n",
    "import nltk\n",
    "import string\n",
    "\n",
    "# Identify the working directory and data files\n",
    "working_directory = \"./37-Determine-Primary-Labels\"\n",
    "\n",
    "# Create the working directory if needed\n",
    "try:\n",
    "    os.makedirs(working_directory, exist_ok=True)\n",
    "except OSError as error:\n",
    "    print(f\"Error creating {working_directory}: {error}\")"
   ]
  },
  {
   "cell_type": "code",
   "execution_count": 2,
   "id": "1c941cee-2268-4f55-8575-22a5092fb849",
   "metadata": {},
   "outputs": [],
   "source": [
    "TAG = \"2023_05_14\""
   ]
  },
  {
   "cell_type": "code",
   "execution_count": 3,
   "id": "2fcd6f9c-bab8-4a02-a5af-48d83735bf35",
   "metadata": {},
   "outputs": [],
   "source": [
    "# Read the CSV file and replace blank cells with 0\n",
    "data = pd.read_csv(f\"./labeled_data/FOI_TEXT_WITH_ROLES_MANAULLY_LABELED_2023_05_01.csv\").fillna(0)"
   ]
  },
  {
   "cell_type": "code",
   "execution_count": 4,
   "id": "546d2b6f-7149-481c-858e-e408e6d92c18",
   "metadata": {
    "tags": []
   },
   "outputs": [],
   "source": [
    "data = data.rename(columns={\"Row Labels\": \"ROW_ID\"})"
   ]
  },
  {
   "cell_type": "code",
   "execution_count": 5,
   "id": "5784928f-94cc-4f2c-b818-8672e0d60907",
   "metadata": {
    "tags": []
   },
   "outputs": [
    {
     "data": {
      "text/plain": [
       "(5688, 6)"
      ]
     },
     "execution_count": 5,
     "metadata": {},
     "output_type": "execute_result"
    }
   ],
   "source": [
    "data.shape"
   ]
  },
  {
   "cell_type": "code",
   "execution_count": 6,
   "id": "f71a5c5e-4196-48ac-87ff-ba4436d581c7",
   "metadata": {
    "tags": []
   },
   "outputs": [
    {
     "data": {
      "text/html": [
       "<div>\n",
       "<style scoped>\n",
       "    .dataframe tbody tr th:only-of-type {\n",
       "        vertical-align: middle;\n",
       "    }\n",
       "\n",
       "    .dataframe tbody tr th {\n",
       "        vertical-align: top;\n",
       "    }\n",
       "\n",
       "    .dataframe thead th {\n",
       "        text-align: right;\n",
       "    }\n",
       "</style>\n",
       "<table border=\"1\" class=\"dataframe\">\n",
       "  <thead>\n",
       "    <tr style=\"text-align: right;\">\n",
       "      <th></th>\n",
       "      <th>ROW_ID</th>\n",
       "      <th>Stakeholder Unassigned</th>\n",
       "      <th>Quality Engineering</th>\n",
       "      <th>Manufacturing Engineer</th>\n",
       "      <th>Management</th>\n",
       "      <th>Design Engineer</th>\n",
       "    </tr>\n",
       "  </thead>\n",
       "  <tbody>\n",
       "    <tr>\n",
       "      <th>0</th>\n",
       "      <td>785</td>\n",
       "      <td>1.0</td>\n",
       "      <td>2.0</td>\n",
       "      <td>1.0</td>\n",
       "      <td>0.0</td>\n",
       "      <td>0.0</td>\n",
       "    </tr>\n",
       "    <tr>\n",
       "      <th>1</th>\n",
       "      <td>868</td>\n",
       "      <td>1.0</td>\n",
       "      <td>2.0</td>\n",
       "      <td>0.0</td>\n",
       "      <td>1.0</td>\n",
       "      <td>1.0</td>\n",
       "    </tr>\n",
       "    <tr>\n",
       "      <th>2</th>\n",
       "      <td>3992</td>\n",
       "      <td>3.0</td>\n",
       "      <td>1.0</td>\n",
       "      <td>0.0</td>\n",
       "      <td>0.0</td>\n",
       "      <td>0.0</td>\n",
       "    </tr>\n",
       "    <tr>\n",
       "      <th>3</th>\n",
       "      <td>5199</td>\n",
       "      <td>0.0</td>\n",
       "      <td>3.0</td>\n",
       "      <td>0.0</td>\n",
       "      <td>0.0</td>\n",
       "      <td>0.0</td>\n",
       "    </tr>\n",
       "    <tr>\n",
       "      <th>4</th>\n",
       "      <td>5866</td>\n",
       "      <td>0.0</td>\n",
       "      <td>3.0</td>\n",
       "      <td>0.0</td>\n",
       "      <td>0.0</td>\n",
       "      <td>0.0</td>\n",
       "    </tr>\n",
       "  </tbody>\n",
       "</table>\n",
       "</div>"
      ],
      "text/plain": [
       "   ROW_ID  Stakeholder Unassigned  Quality Engineering   \n",
       "0     785                     1.0                  2.0  \\\n",
       "1     868                     1.0                  2.0   \n",
       "2    3992                     3.0                  1.0   \n",
       "3    5199                     0.0                  3.0   \n",
       "4    5866                     0.0                  3.0   \n",
       "\n",
       "   Manufacturing Engineer  Management  Design Engineer  \n",
       "0                     1.0         0.0              0.0  \n",
       "1                     0.0         1.0              1.0  \n",
       "2                     0.0         0.0              0.0  \n",
       "3                     0.0         0.0              0.0  \n",
       "4                     0.0         0.0              0.0  "
      ]
     },
     "execution_count": 6,
     "metadata": {},
     "output_type": "execute_result"
    }
   ],
   "source": [
    "data.head()"
   ]
  },
  {
   "cell_type": "code",
   "execution_count": 7,
   "id": "12edb207-67b4-4c61-928d-6045bffa7722",
   "metadata": {},
   "outputs": [],
   "source": [
    "# Initialize the tie breaker count\n",
    "tie_breaker_count = 0\n",
    "\n",
    "# Iterate over each row of data\n",
    "for index, row in data.iterrows():\n",
    "    # Find the column with the largest value\n",
    "    max_value = max(row[1:])\n",
    "\n",
    "    column_name = data.columns[1:][row[1:].tolist().index(max_value)]\n",
    "\n",
    "    # Check if there is a tie between columns\n",
    "    if list(row[1:]).count(max_value) > 1:\n",
    "        #print(f\"TIE DETECTED: Max Value: {max_value}, Row: {row[1:].tolist()}\")\n",
    "        tie_breaker_count += 1\n",
    "\n",
    "        # Get the index of the tied columns\n",
    "        tied_columns = [i for i, x in enumerate(row[1:].tolist()) if x == max_value]\n",
    "\n",
    "        #print(f\"\\tTied Columns: {tied_columns}\")\n",
    "\n",
    "        # Get the names of the tied columns\n",
    "        tied_column_names = [\n",
    "            column_name for column_name in data.columns[1:][tied_columns]\n",
    "        ]\n",
    "\n",
    "        #print(f\"\\tTied Column Names: {tied_column_names}\")\n",
    "\n",
    "        # If Quality Engineering is one of the tied columns, choose any other option\n",
    "        if \"Quality Engineering\" in tied_column_names:\n",
    "            \n",
    "            options = tied_column_names.copy()\n",
    "            \n",
    "            options.remove(\"Quality Engineering\")\n",
    "            \n",
    "            if \"Manufacturing Engineer\" in options:\n",
    "                column_name = \"Manufacturing Engineer\"\n",
    "            \n",
    "            elif \"Design Engineer\" in options:\n",
    "                column_name = \"Design Engineer\"\n",
    "            \n",
    "            elif \"Management\" in options:\n",
    "                column_name = \"Management\"\n",
    "            \n",
    "            else:\n",
    "                column_name = \"Stakeholder Unassigned\"\n",
    "        else:\n",
    "            if \"Manufacturing Engineer\" in tied_column_names:\n",
    "                column_name = \"Manufacturing Engineer\"\n",
    "            \n",
    "            elif \"Design Engineer\" in tied_column_names:\n",
    "                column_name = \"Design Engineer\"\n",
    "            \n",
    "            elif \"Management\" in tied_column_names:\n",
    "                column_name = \"Management\"\n",
    "            \n",
    "            else:\n",
    "                column_name = \"Stakeholder Unassigned\"\n",
    "\n",
    "        #print(f\"\\tTie Broken with: {column_name}\")\n",
    "\n",
    "    # Write the primary label to the DataFrame\n",
    "    data.at[index, \"PRIMARY_LABEL\"] = column_name"
   ]
  },
  {
   "cell_type": "code",
   "execution_count": 8,
   "id": "cfc86e96-329a-433b-8cb9-a315ee7c5ba6",
   "metadata": {},
   "outputs": [
    {
     "name": "stdout",
     "output_type": "stream",
     "text": [
      "Number of tie breakers: 1422\n",
      "\n"
     ]
    }
   ],
   "source": [
    "# Print the number of tie breakers\n",
    "print(f\"Number of tie breakers: {tie_breaker_count}\\n\")"
   ]
  },
  {
   "cell_type": "code",
   "execution_count": 9,
   "id": "19ed5c7d",
   "metadata": {},
   "outputs": [
    {
     "data": {
      "text/html": [
       "<div>\n",
       "<style scoped>\n",
       "    .dataframe tbody tr th:only-of-type {\n",
       "        vertical-align: middle;\n",
       "    }\n",
       "\n",
       "    .dataframe tbody tr th {\n",
       "        vertical-align: top;\n",
       "    }\n",
       "\n",
       "    .dataframe thead th {\n",
       "        text-align: right;\n",
       "    }\n",
       "</style>\n",
       "<table border=\"1\" class=\"dataframe\">\n",
       "  <thead>\n",
       "    <tr style=\"text-align: right;\">\n",
       "      <th></th>\n",
       "      <th>PRIMARY_LABEL</th>\n",
       "      <th>COUNT</th>\n",
       "      <th>PERCENTAGE</th>\n",
       "    </tr>\n",
       "  </thead>\n",
       "  <tbody>\n",
       "    <tr>\n",
       "      <th>0</th>\n",
       "      <td>Quality Engineering</td>\n",
       "      <td>3352</td>\n",
       "      <td>58.931083</td>\n",
       "    </tr>\n",
       "    <tr>\n",
       "      <th>1</th>\n",
       "      <td>Stakeholder Unassigned</td>\n",
       "      <td>1682</td>\n",
       "      <td>29.571027</td>\n",
       "    </tr>\n",
       "    <tr>\n",
       "      <th>2</th>\n",
       "      <td>Management</td>\n",
       "      <td>550</td>\n",
       "      <td>9.669480</td>\n",
       "    </tr>\n",
       "    <tr>\n",
       "      <th>3</th>\n",
       "      <td>Manufacturing Engineer</td>\n",
       "      <td>59</td>\n",
       "      <td>1.037271</td>\n",
       "    </tr>\n",
       "    <tr>\n",
       "      <th>4</th>\n",
       "      <td>Design Engineer</td>\n",
       "      <td>45</td>\n",
       "      <td>0.791139</td>\n",
       "    </tr>\n",
       "  </tbody>\n",
       "</table>\n",
       "</div>"
      ],
      "text/plain": [
       "            PRIMARY_LABEL  COUNT  PERCENTAGE\n",
       "0     Quality Engineering   3352   58.931083\n",
       "1  Stakeholder Unassigned   1682   29.571027\n",
       "2              Management    550    9.669480\n",
       "3  Manufacturing Engineer     59    1.037271\n",
       "4         Design Engineer     45    0.791139"
      ]
     },
     "execution_count": 9,
     "metadata": {},
     "output_type": "execute_result"
    }
   ],
   "source": [
    "# Print a report of the number of each label\n",
    "label_counts = data.value_counts(\"PRIMARY_LABEL\")\n",
    "label_counts_df = pd.DataFrame({\"PRIMARY_LABEL\": label_counts.index, \"COUNT\": label_counts.values})\n",
    "label_counts_df[\"PERCENTAGE\"] = label_counts_df[\"COUNT\"] / len(data) * 100\n",
    "\n",
    "label_counts_df"
   ]
  },
  {
   "cell_type": "code",
   "execution_count": 10,
   "id": "de9279a0-b2f3-44d3-a630-86933f572b6d",
   "metadata": {
    "tags": []
   },
   "outputs": [],
   "source": [
    "# Save the updated DataFrame to a new CSV file\n",
    "data.to_csv(f\"{working_directory}/data_with_primary_label_{TAG}.csv\", index=False)"
   ]
  },
  {
   "cell_type": "code",
   "execution_count": 11,
   "id": "0a8fe83a-9ba4-4e5b-bb11-3981ffaf5eda",
   "metadata": {
    "tags": []
   },
   "outputs": [
    {
     "data": {
      "text/html": [
       "<div>\n",
       "<style scoped>\n",
       "    .dataframe tbody tr th:only-of-type {\n",
       "        vertical-align: middle;\n",
       "    }\n",
       "\n",
       "    .dataframe tbody tr th {\n",
       "        vertical-align: top;\n",
       "    }\n",
       "\n",
       "    .dataframe thead th {\n",
       "        text-align: right;\n",
       "    }\n",
       "</style>\n",
       "<table border=\"1\" class=\"dataframe\">\n",
       "  <thead>\n",
       "    <tr style=\"text-align: right;\">\n",
       "      <th></th>\n",
       "      <th>ROW_ID</th>\n",
       "      <th>Stakeholder Unassigned</th>\n",
       "      <th>Quality Engineering</th>\n",
       "      <th>Manufacturing Engineer</th>\n",
       "      <th>Management</th>\n",
       "      <th>Design Engineer</th>\n",
       "      <th>PRIMARY_LABEL</th>\n",
       "    </tr>\n",
       "  </thead>\n",
       "  <tbody>\n",
       "    <tr>\n",
       "      <th>0</th>\n",
       "      <td>785</td>\n",
       "      <td>1.0</td>\n",
       "      <td>2.0</td>\n",
       "      <td>1.0</td>\n",
       "      <td>0.0</td>\n",
       "      <td>0.0</td>\n",
       "      <td>Quality Engineering</td>\n",
       "    </tr>\n",
       "    <tr>\n",
       "      <th>1</th>\n",
       "      <td>868</td>\n",
       "      <td>1.0</td>\n",
       "      <td>2.0</td>\n",
       "      <td>0.0</td>\n",
       "      <td>1.0</td>\n",
       "      <td>1.0</td>\n",
       "      <td>Quality Engineering</td>\n",
       "    </tr>\n",
       "    <tr>\n",
       "      <th>2</th>\n",
       "      <td>3992</td>\n",
       "      <td>3.0</td>\n",
       "      <td>1.0</td>\n",
       "      <td>0.0</td>\n",
       "      <td>0.0</td>\n",
       "      <td>0.0</td>\n",
       "      <td>Stakeholder Unassigned</td>\n",
       "    </tr>\n",
       "    <tr>\n",
       "      <th>3</th>\n",
       "      <td>5199</td>\n",
       "      <td>0.0</td>\n",
       "      <td>3.0</td>\n",
       "      <td>0.0</td>\n",
       "      <td>0.0</td>\n",
       "      <td>0.0</td>\n",
       "      <td>Quality Engineering</td>\n",
       "    </tr>\n",
       "    <tr>\n",
       "      <th>4</th>\n",
       "      <td>5866</td>\n",
       "      <td>0.0</td>\n",
       "      <td>3.0</td>\n",
       "      <td>0.0</td>\n",
       "      <td>0.0</td>\n",
       "      <td>0.0</td>\n",
       "      <td>Quality Engineering</td>\n",
       "    </tr>\n",
       "  </tbody>\n",
       "</table>\n",
       "</div>"
      ],
      "text/plain": [
       "  ROW_ID  Stakeholder Unassigned  Quality Engineering  Manufacturing Engineer   \n",
       "0    785                     1.0                  2.0                     1.0  \\\n",
       "1    868                     1.0                  2.0                     0.0   \n",
       "2   3992                     3.0                  1.0                     0.0   \n",
       "3   5199                     0.0                  3.0                     0.0   \n",
       "4   5866                     0.0                  3.0                     0.0   \n",
       "\n",
       "   Management  Design Engineer           PRIMARY_LABEL  \n",
       "0         0.0              0.0     Quality Engineering  \n",
       "1         1.0              1.0     Quality Engineering  \n",
       "2         0.0              0.0  Stakeholder Unassigned  \n",
       "3         0.0              0.0     Quality Engineering  \n",
       "4         0.0              0.0     Quality Engineering  "
      ]
     },
     "execution_count": 11,
     "metadata": {},
     "output_type": "execute_result"
    }
   ],
   "source": [
    "data['ROW_ID'] = data['ROW_ID'].astype(str)\n",
    "data.head()"
   ]
  },
  {
   "cell_type": "code",
   "execution_count": 12,
   "id": "ff3bad02-16fa-40ab-93f8-bcf027029f26",
   "metadata": {
    "tags": []
   },
   "outputs": [],
   "source": [
    "# Read in the working data\n",
    "df = pd.read_pickle(\"./21-Preprocess-Combined-Data-v2/dataframe.pickle\")"
   ]
  },
  {
   "cell_type": "code",
   "execution_count": 13,
   "id": "83f4c4e3-63fa-4dac-aee0-4551ff8922c6",
   "metadata": {
    "tags": []
   },
   "outputs": [],
   "source": [
    "# Remove all columns except ROW_ID and FOI_TEXT\n",
    "df = df.drop(columns=[col for col in df.columns if col not in ['ROW_ID', 'FOI_TEXT']])"
   ]
  },
  {
   "cell_type": "code",
   "execution_count": 14,
   "id": "06d88a7a-3eb6-4a77-abb2-30829ea3f517",
   "metadata": {
    "tags": []
   },
   "outputs": [
    {
     "data": {
      "text/html": [
       "<div>\n",
       "<style scoped>\n",
       "    .dataframe tbody tr th:only-of-type {\n",
       "        vertical-align: middle;\n",
       "    }\n",
       "\n",
       "    .dataframe tbody tr th {\n",
       "        vertical-align: top;\n",
       "    }\n",
       "\n",
       "    .dataframe thead th {\n",
       "        text-align: right;\n",
       "    }\n",
       "</style>\n",
       "<table border=\"1\" class=\"dataframe\">\n",
       "  <thead>\n",
       "    <tr style=\"text-align: right;\">\n",
       "      <th></th>\n",
       "      <th>ROW_ID</th>\n",
       "      <th>FOI_TEXT</th>\n",
       "    </tr>\n",
       "  </thead>\n",
       "  <tbody>\n",
       "    <tr>\n",
       "      <th>0</th>\n",
       "      <td>1969025</td>\n",
       "      <td>IT WAS REPORTED THAT THE TRANSMITTER LOST CONN...</td>\n",
       "    </tr>\n",
       "    <tr>\n",
       "      <th>1</th>\n",
       "      <td>1426265</td>\n",
       "      <td>IT WAS REPORTED THAT SIGNAL LOSS OVER ONE HOUR...</td>\n",
       "    </tr>\n",
       "    <tr>\n",
       "      <th>2</th>\n",
       "      <td>2609625</td>\n",
       "      <td>IT WAS REPORTED THAT TRANSMITTER FAILED ERROR ...</td>\n",
       "    </tr>\n",
       "    <tr>\n",
       "      <th>3</th>\n",
       "      <td>2813837</td>\n",
       "      <td>IT WAS REPORTED THAT SIGNAL LOSS OVER ONE HOUR...</td>\n",
       "    </tr>\n",
       "    <tr>\n",
       "      <th>4</th>\n",
       "      <td>1337517</td>\n",
       "      <td>IT WAS REPORTED THAT SIGNAL LOSS OVER ONE HOUR...</td>\n",
       "    </tr>\n",
       "  </tbody>\n",
       "</table>\n",
       "</div>"
      ],
      "text/plain": [
       "    ROW_ID                                           FOI_TEXT\n",
       "0  1969025  IT WAS REPORTED THAT THE TRANSMITTER LOST CONN...\n",
       "1  1426265  IT WAS REPORTED THAT SIGNAL LOSS OVER ONE HOUR...\n",
       "2  2609625  IT WAS REPORTED THAT TRANSMITTER FAILED ERROR ...\n",
       "3  2813837  IT WAS REPORTED THAT SIGNAL LOSS OVER ONE HOUR...\n",
       "4  1337517  IT WAS REPORTED THAT SIGNAL LOSS OVER ONE HOUR..."
      ]
     },
     "execution_count": 14,
     "metadata": {},
     "output_type": "execute_result"
    }
   ],
   "source": [
    "df.head()"
   ]
  },
  {
   "cell_type": "code",
   "execution_count": 15,
   "id": "bc3c6f4a-0567-4216-85a5-456b65e31382",
   "metadata": {
    "tags": []
   },
   "outputs": [
    {
     "data": {
      "text/plain": [
       "(5736, 2)"
      ]
     },
     "execution_count": 15,
     "metadata": {},
     "output_type": "execute_result"
    }
   ],
   "source": [
    "df.shape"
   ]
  },
  {
   "cell_type": "code",
   "execution_count": 16,
   "id": "143dc8c3-0ab6-4e75-b1b2-2c65c0dddcd2",
   "metadata": {
    "tags": []
   },
   "outputs": [],
   "source": [
    "merged_df = pd.merge(\n",
    "    df,\n",
    "    data,\n",
    "    on=\"ROW_ID\",\n",
    "    how=\"inner\"\n",
    ")"
   ]
  },
  {
   "cell_type": "code",
   "execution_count": 17,
   "id": "53e74ea5-b838-414a-ab0b-2cd06f4510a6",
   "metadata": {
    "tags": []
   },
   "outputs": [],
   "source": [
    "# Remove all columns except ROW_ID and FOI_TEXT\n",
    "merged_df = merged_df.drop(columns=[col for col in merged_df.columns if col not in ['ROW_ID', 'FOI_TEXT', 'PRIMARY_LABEL']])"
   ]
  },
  {
   "cell_type": "code",
   "execution_count": 18,
   "id": "9171d0be-56a8-4060-a2fd-f034f5433aa1",
   "metadata": {
    "tags": []
   },
   "outputs": [
    {
     "data": {
      "text/plain": [
       "(5692, 3)"
      ]
     },
     "execution_count": 18,
     "metadata": {},
     "output_type": "execute_result"
    }
   ],
   "source": [
    "merged_df.shape"
   ]
  },
  {
   "cell_type": "code",
   "execution_count": 19,
   "id": "5ca9702b-7bee-4c5c-9e84-9c2fc87f2532",
   "metadata": {
    "tags": []
   },
   "outputs": [
    {
     "data": {
      "text/html": [
       "<div>\n",
       "<style scoped>\n",
       "    .dataframe tbody tr th:only-of-type {\n",
       "        vertical-align: middle;\n",
       "    }\n",
       "\n",
       "    .dataframe tbody tr th {\n",
       "        vertical-align: top;\n",
       "    }\n",
       "\n",
       "    .dataframe thead th {\n",
       "        text-align: right;\n",
       "    }\n",
       "</style>\n",
       "<table border=\"1\" class=\"dataframe\">\n",
       "  <thead>\n",
       "    <tr style=\"text-align: right;\">\n",
       "      <th></th>\n",
       "      <th>ROW_ID</th>\n",
       "      <th>FOI_TEXT</th>\n",
       "      <th>PRIMARY_LABEL</th>\n",
       "    </tr>\n",
       "  </thead>\n",
       "  <tbody>\n",
       "    <tr>\n",
       "      <th>1972</th>\n",
       "      <td>785</td>\n",
       "      <td>IT WAS REPORTED THAT AN INACCURACY BETWEEN THE...</td>\n",
       "      <td>Quality Engineering</td>\n",
       "    </tr>\n",
       "  </tbody>\n",
       "</table>\n",
       "</div>"
      ],
      "text/plain": [
       "     ROW_ID                                           FOI_TEXT   \n",
       "1972    785  IT WAS REPORTED THAT AN INACCURACY BETWEEN THE...  \\\n",
       "\n",
       "            PRIMARY_LABEL  \n",
       "1972  Quality Engineering  "
      ]
     },
     "execution_count": 19,
     "metadata": {},
     "output_type": "execute_result"
    }
   ],
   "source": [
    "# Print a test row to confirm the merge \n",
    "merged_df[merged_df[\"ROW_ID\"].eq(\"785\")]"
   ]
  },
  {
   "cell_type": "code",
   "execution_count": 20,
   "id": "72c7e6bc-eee8-4d01-83ed-4bb972b721b0",
   "metadata": {
    "tags": []
   },
   "outputs": [
    {
     "data": {
      "text/html": [
       "<div>\n",
       "<style scoped>\n",
       "    .dataframe tbody tr th:only-of-type {\n",
       "        vertical-align: middle;\n",
       "    }\n",
       "\n",
       "    .dataframe tbody tr th {\n",
       "        vertical-align: top;\n",
       "    }\n",
       "\n",
       "    .dataframe thead th {\n",
       "        text-align: right;\n",
       "    }\n",
       "</style>\n",
       "<table border=\"1\" class=\"dataframe\">\n",
       "  <thead>\n",
       "    <tr style=\"text-align: right;\">\n",
       "      <th></th>\n",
       "      <th>ROW_ID</th>\n",
       "      <th>FOI_TEXT</th>\n",
       "      <th>PRIMARY_LABEL</th>\n",
       "    </tr>\n",
       "  </thead>\n",
       "  <tbody>\n",
       "    <tr>\n",
       "      <th>0</th>\n",
       "      <td>1969025</td>\n",
       "      <td>IT WAS REPORTED THAT THE TRANSMITTER LOST CONN...</td>\n",
       "      <td>Quality Engineering</td>\n",
       "    </tr>\n",
       "    <tr>\n",
       "      <th>1</th>\n",
       "      <td>1426265</td>\n",
       "      <td>IT WAS REPORTED THAT SIGNAL LOSS OVER ONE HOUR...</td>\n",
       "      <td>Quality Engineering</td>\n",
       "    </tr>\n",
       "    <tr>\n",
       "      <th>2</th>\n",
       "      <td>2609625</td>\n",
       "      <td>IT WAS REPORTED THAT TRANSMITTER FAILED ERROR ...</td>\n",
       "      <td>Quality Engineering</td>\n",
       "    </tr>\n",
       "    <tr>\n",
       "      <th>3</th>\n",
       "      <td>2813837</td>\n",
       "      <td>IT WAS REPORTED THAT SIGNAL LOSS OVER ONE HOUR...</td>\n",
       "      <td>Quality Engineering</td>\n",
       "    </tr>\n",
       "    <tr>\n",
       "      <th>4</th>\n",
       "      <td>1337517</td>\n",
       "      <td>IT WAS REPORTED THAT SIGNAL LOSS OVER ONE HOUR...</td>\n",
       "      <td>Quality Engineering</td>\n",
       "    </tr>\n",
       "  </tbody>\n",
       "</table>\n",
       "</div>"
      ],
      "text/plain": [
       "    ROW_ID                                           FOI_TEXT   \n",
       "0  1969025  IT WAS REPORTED THAT THE TRANSMITTER LOST CONN...  \\\n",
       "1  1426265  IT WAS REPORTED THAT SIGNAL LOSS OVER ONE HOUR...   \n",
       "2  2609625  IT WAS REPORTED THAT TRANSMITTER FAILED ERROR ...   \n",
       "3  2813837  IT WAS REPORTED THAT SIGNAL LOSS OVER ONE HOUR...   \n",
       "4  1337517  IT WAS REPORTED THAT SIGNAL LOSS OVER ONE HOUR...   \n",
       "\n",
       "         PRIMARY_LABEL  \n",
       "0  Quality Engineering  \n",
       "1  Quality Engineering  \n",
       "2  Quality Engineering  \n",
       "3  Quality Engineering  \n",
       "4  Quality Engineering  "
      ]
     },
     "execution_count": 20,
     "metadata": {},
     "output_type": "execute_result"
    }
   ],
   "source": [
    "merged_df.head()"
   ]
  },
  {
   "cell_type": "code",
   "execution_count": 21,
   "id": "81141f18-9bbf-4513-9113-15cb0aec84f9",
   "metadata": {
    "tags": []
   },
   "outputs": [],
   "source": [
    "merged_df.to_csv(f\"{working_directory}/labeled_foi_text_{TAG}.csv\", index=False)"
   ]
  },
  {
   "cell_type": "code",
   "execution_count": 24,
   "id": "2ab67637-591f-4769-a10d-bf510eae2133",
   "metadata": {
    "tags": []
   },
   "outputs": [
    {
     "name": "stdout",
     "output_type": "stream",
     "text": [
      "Percent of FOI Text labeled = 99.23291492329149\n"
     ]
    }
   ],
   "source": [
    "percent_foi_text_labeled = ( merged_df.shape[0] / df.shape[0] ) * 100\n",
    "print(f\"Percent of FOI Text labeled = {percent_foi_text_labeled}\")"
   ]
  }
 ],
 "metadata": {
  "kernelspec": {
   "display_name": "Python 3 (ipykernel)",
   "language": "python",
   "name": "python3"
  },
  "language_info": {
   "codemirror_mode": {
    "name": "ipython",
    "version": 3
   },
   "file_extension": ".py",
   "mimetype": "text/x-python",
   "name": "python",
   "nbconvert_exporter": "python",
   "pygments_lexer": "ipython3",
   "version": "3.11.3"
  }
 },
 "nbformat": 4,
 "nbformat_minor": 5
}
