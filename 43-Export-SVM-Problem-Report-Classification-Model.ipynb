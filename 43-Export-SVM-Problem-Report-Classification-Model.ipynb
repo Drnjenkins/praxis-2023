{
 "cells": [
  {
   "cell_type": "code",
   "execution_count": null,
   "id": "75c6b9e4",
   "metadata": {
    "id": "75c6b9e4",
    "tags": []
   },
   "outputs": [],
   "source": [
    "import pickle\n",
    "import re\n",
    "import time\n",
    "import warnings\n",
    "\n",
    "import matplotlib.pyplot as plt\n",
    "import nltk\n",
    "import pandas as pd\n",
    "from imblearn.over_sampling import SMOTE\n",
    "from nltk.corpus import stopwords\n",
    "from nltk.probability import FreqDist\n",
    "from nltk.stem import PorterStemmer\n",
    "from sklearn.svm import SVC\n",
    "from sklearn.feature_extraction.text import TfidfVectorizer\n",
    "from sklearn.metrics import (ConfusionMatrixDisplay, accuracy_score,\n",
    "                             classification_report, f1_score, precision_score,\n",
    "                             recall_score)\n",
    "from sklearn.model_selection import train_test_split\n",
    "from sklearn.preprocessing import LabelEncoder\n",
    "from tqdm.auto import tqdm\n",
    "\n",
    "nltk.download(\"omw-1.4\")\n",
    "nltk.download(\"punkt\")\n",
    "nltk.download(\"stopwords\")\n",
    "nltk.download(\"wordnet\")\n",
    "\n",
    "warnings.filterwarnings(\"ignore\")\n",
    "pd.set_option(\"display.max_columns\", None)"
   ]
  },
  {
   "cell_type": "code",
   "execution_count": 2,
   "id": "09ded47d",
   "metadata": {
    "id": "09ded47d"
   },
   "outputs": [],
   "source": [
    "df = pd.read_csv(\"./labeled_data/labeled_foi_text_2023_05_01.csv\")"
   ]
  },
  {
   "cell_type": "code",
   "execution_count": 3,
   "id": "cd7dd7e9",
   "metadata": {
    "colab": {
     "base_uri": "https://localhost:8080/"
    },
    "id": "cd7dd7e9",
    "outputId": "4458b452-1ecf-458d-e977-6d0feb20debd"
   },
   "outputs": [],
   "source": [
    "ps = PorterStemmer()  # creating an instance of the class"
   ]
  },
  {
   "cell_type": "code",
   "execution_count": 4,
   "id": "e88720e2",
   "metadata": {
    "id": "e88720e2",
    "tags": []
   },
   "outputs": [],
   "source": [
    "def preprocess_text(text):\n",
    "    \"\"\"In preprocess_text function we will apply all the things that are given below:\n",
    "    - removing special characters\n",
    "    - removing punctuations\n",
    "    - removing numbers\n",
    "    - removing stopwords\n",
    "    - doing stemming\n",
    "    - transforming in lowercase\n",
    "    - removing excessive whitespaces\n",
    "    \"\"\"\n",
    "    # remove special chars and numbers\n",
    "    text = re.sub(\"[^A-Za-z]+\", \" \", str(text))\n",
    "\n",
    "    # remove punctuations in string\n",
    "    text = re.sub(r\"[^\\w\\s]\", \"\", str(text))\n",
    "\n",
    "    # 1. tokenize\n",
    "    tokens = nltk.word_tokenize(text)\n",
    "\n",
    "    # 2. check if stopword and stemming the word\n",
    "    tokens = [ps.stem(w) for w in tokens if w.lower() not in stopwords.words(\"english\")]\n",
    "\n",
    "    # 3. join back together\n",
    "    text = \" \".join(tokens)\n",
    "\n",
    "    # return text in lower case and stripped of whitespaces\n",
    "    text = text.lower().strip()\n",
    "\n",
    "    return text"
   ]
  },
  {
   "cell_type": "code",
   "execution_count": 5,
   "id": "7215feba",
   "metadata": {
    "colab": {
     "base_uri": "https://localhost:8080/",
     "height": 337
    },
    "id": "7215feba",
    "outputId": "c77f58e4-83c9-44d8-9716-ef40b6cf592a",
    "tags": []
   },
   "outputs": [
    {
     "data": {
      "text/html": [
       "<div>\n",
       "<style scoped>\n",
       "    .dataframe tbody tr th:only-of-type {\n",
       "        vertical-align: middle;\n",
       "    }\n",
       "\n",
       "    .dataframe tbody tr th {\n",
       "        vertical-align: top;\n",
       "    }\n",
       "\n",
       "    .dataframe thead th {\n",
       "        text-align: right;\n",
       "    }\n",
       "</style>\n",
       "<table border=\"1\" class=\"dataframe\">\n",
       "  <thead>\n",
       "    <tr style=\"text-align: right;\">\n",
       "      <th></th>\n",
       "      <th>ROW_ID</th>\n",
       "      <th>FOI_TEXT</th>\n",
       "      <th>PRIMARY_LABEL</th>\n",
       "      <th>clean_text</th>\n",
       "    </tr>\n",
       "  </thead>\n",
       "  <tbody>\n",
       "    <tr>\n",
       "      <th>0</th>\n",
       "      <td>1969025</td>\n",
       "      <td>IT WAS REPORTED THAT THE TRANSMITTER LOST CONN...</td>\n",
       "      <td>Quality Engineering</td>\n",
       "      <td>report transmitt lost connect pump greater hou...</td>\n",
       "    </tr>\n",
       "    <tr>\n",
       "      <th>1</th>\n",
       "      <td>1426265</td>\n",
       "      <td>IT WAS REPORTED THAT SIGNAL LOSS OVER ONE HOUR...</td>\n",
       "      <td>Quality Engineering</td>\n",
       "      <td>report signal loss one hour occur product data...</td>\n",
       "    </tr>\n",
       "    <tr>\n",
       "      <th>2</th>\n",
       "      <td>2609625</td>\n",
       "      <td>IT WAS REPORTED THAT TRANSMITTER FAILED ERROR ...</td>\n",
       "      <td>Quality Engineering</td>\n",
       "      <td>report transmitt fail error occur data evalu a...</td>\n",
       "    </tr>\n",
       "    <tr>\n",
       "      <th>3</th>\n",
       "      <td>2813837</td>\n",
       "      <td>IT WAS REPORTED THAT SIGNAL LOSS OVER ONE HOUR...</td>\n",
       "      <td>Quality Engineering</td>\n",
       "      <td>report signal loss one hour occur review share...</td>\n",
       "    </tr>\n",
       "    <tr>\n",
       "      <th>4</th>\n",
       "      <td>1337517</td>\n",
       "      <td>IT WAS REPORTED THAT SIGNAL LOSS OVER ONE HOUR...</td>\n",
       "      <td>Quality Engineering</td>\n",
       "      <td>report signal loss one hour occur product eval...</td>\n",
       "    </tr>\n",
       "  </tbody>\n",
       "</table>\n",
       "</div>"
      ],
      "text/plain": [
       "    ROW_ID                                           FOI_TEXT   \n",
       "0  1969025  IT WAS REPORTED THAT THE TRANSMITTER LOST CONN...  \\\n",
       "1  1426265  IT WAS REPORTED THAT SIGNAL LOSS OVER ONE HOUR...   \n",
       "2  2609625  IT WAS REPORTED THAT TRANSMITTER FAILED ERROR ...   \n",
       "3  2813837  IT WAS REPORTED THAT SIGNAL LOSS OVER ONE HOUR...   \n",
       "4  1337517  IT WAS REPORTED THAT SIGNAL LOSS OVER ONE HOUR...   \n",
       "\n",
       "         PRIMARY_LABEL                                         clean_text  \n",
       "0  Quality Engineering  report transmitt lost connect pump greater hou...  \n",
       "1  Quality Engineering  report signal loss one hour occur product data...  \n",
       "2  Quality Engineering  report transmitt fail error occur data evalu a...  \n",
       "3  Quality Engineering  report signal loss one hour occur review share...  \n",
       "4  Quality Engineering  report signal loss one hour occur product eval...  "
      ]
     },
     "execution_count": 5,
     "metadata": {},
     "output_type": "execute_result"
    }
   ],
   "source": [
    "df[\"clean_text\"] = df[\"FOI_TEXT\"].apply(lambda x: preprocess_text(x))\n",
    "df.head()"
   ]
  },
  {
   "cell_type": "code",
   "execution_count": 6,
   "id": "e9912629",
   "metadata": {
    "id": "e9912629"
   },
   "outputs": [],
   "source": [
    "# define a function for getting all words from the text\n",
    "\n",
    "\n",
    "def returning_tokinize_list(df, column_name):\n",
    "    df = df.reset_index(drop=True)\n",
    "    tokenize_list = [nltk.word_tokenize(df[column_name][i]) for i in range(df.shape[0])]\n",
    "    final = [j for i in tokenize_list for j in i]\n",
    "    return final"
   ]
  },
  {
   "cell_type": "code",
   "execution_count": 7,
   "id": "63569917",
   "metadata": {
    "id": "63569917"
   },
   "outputs": [],
   "source": [
    "# get the all words of text into list\n",
    "tokenize_list_words = returning_tokinize_list(df, \"clean_text\")"
   ]
  },
  {
   "cell_type": "code",
   "execution_count": 8,
   "id": "be7f732c",
   "metadata": {
    "id": "be7f732c"
   },
   "outputs": [],
   "source": [
    "# function for words in dataframe format\n",
    "\n",
    "\n",
    "def table_format(data_list, column_name):\n",
    "    df_ = pd.DataFrame(data_list, columns=[column_name, \"Frequency_distribution\"])\n",
    "    return df_\n",
    "\n",
    "\n",
    "# function for extracting the most common words in reviews text\n",
    "def most_common_words(cleaned_col_name_list, common_words=10):\n",
    "    fdist = FreqDist(cleaned_col_name_list)\n",
    "    most_common = fdist.most_common(common_words)\n",
    "    return most_common"
   ]
  },
  {
   "cell_type": "code",
   "execution_count": 9,
   "id": "0339e9a6",
   "metadata": {
    "id": "0339e9a6"
   },
   "outputs": [],
   "source": [
    "label_enc = LabelEncoder()\n",
    "df[\"PRIMARY_LABEL_ENC\"] = label_enc.fit_transform(df[\"PRIMARY_LABEL\"])"
   ]
  },
  {
   "cell_type": "code",
   "execution_count": 10,
   "id": "41d029b4",
   "metadata": {
    "colab": {
     "base_uri": "https://localhost:8080/"
    },
    "id": "41d029b4",
    "outputId": "41b7a0db-96cd-430f-fd98-90ee5ad74f4e"
   },
   "outputs": [
    {
     "data": {
      "text/plain": [
       "array(['Design Engineer', 'Management', 'Manufacturing Engineer',\n",
       "       'Quality Engineering', 'Stakeholder Unassigned'], dtype=object)"
      ]
     },
     "execution_count": 10,
     "metadata": {},
     "output_type": "execute_result"
    }
   ],
   "source": [
    "label_enc.classes_"
   ]
  },
  {
   "cell_type": "code",
   "execution_count": 11,
   "id": "17d9888e",
   "metadata": {
    "id": "17d9888e"
   },
   "outputs": [],
   "source": [
    "X = df[\"clean_text\"]  # independent feature\n",
    "y = df[\"PRIMARY_LABEL_ENC\"]  # dependent feature"
   ]
  },
  {
   "cell_type": "code",
   "execution_count": 12,
   "id": "nGoXQfTztWDv",
   "metadata": {
    "id": "nGoXQfTztWDv"
   },
   "outputs": [],
   "source": [
    "def splitting_dataset(X, y, test_size=0.25):\n",
    "    X_train, X_test, y_train, y_test = train_test_split(\n",
    "        X, y, test_size=test_size, random_state=0, stratify=y\n",
    "    )\n",
    "    return X_train, X_test, y_train, y_test"
   ]
  },
  {
   "cell_type": "code",
   "execution_count": 13,
   "id": "QJ8k50gMto9d",
   "metadata": {
    "id": "QJ8k50gMto9d"
   },
   "outputs": [],
   "source": [
    "def get_features_from_text(X):\n",
    "    # Fit and transform the data to a document-term matrix using TfidfVectorizer\n",
    "    tfidf = TfidfVectorizer(min_df=2)\n",
    "    X_tfidff = tfidf.fit_transform(X.values)\n",
    "    print(\"Number of features TF-IDF: %d\" % len(tfidf.get_feature_names_out()))\n",
    "\n",
    "    with open(\"./labeled_data/svm_tfidf.pickle\", \"wb\") as f:\n",
    "        pickle.dump(tfidf, f)\n",
    "\n",
    "    return X_tfidff.toarray()"
   ]
  },
  {
   "cell_type": "code",
   "execution_count": 14,
   "id": "oNL7vkoQqBq2",
   "metadata": {
    "colab": {
     "base_uri": "https://localhost:8080/"
    },
    "id": "oNL7vkoQqBq2",
    "outputId": "7a7aaf16-4799-4bce-d4d6-10bea04e25fa"
   },
   "outputs": [
    {
     "name": "stdout",
     "output_type": "stream",
     "text": [
      "Number of features TF-IDF: 470\n"
     ]
    }
   ],
   "source": [
    "X_tfidff = get_features_from_text(X)"
   ]
  },
  {
   "cell_type": "code",
   "execution_count": 15,
   "id": "3_w7y94sumW7",
   "metadata": {
    "colab": {
     "base_uri": "https://localhost:8080/"
    },
    "id": "3_w7y94sumW7",
    "outputId": "afc327ba-bb89-4922-837b-3740dd214779"
   },
   "outputs": [
    {
     "data": {
      "text/plain": [
       "PRIMARY_LABEL_ENC\n",
       "3    3355\n",
       "4    3355\n",
       "0    3355\n",
       "1    3355\n",
       "2    3355\n",
       "Name: count, dtype: int64"
      ]
     },
     "execution_count": 15,
     "metadata": {},
     "output_type": "execute_result"
    }
   ],
   "source": [
    "oversample = SMOTE(random_state=42)\n",
    "overX, overY = oversample.fit_resample(X_tfidff, y)\n",
    "pd.DataFrame(overY)[\"PRIMARY_LABEL_ENC\"].value_counts()"
   ]
  },
  {
   "cell_type": "code",
   "execution_count": 16,
   "id": "Kvsg6hvlv42u",
   "metadata": {
    "colab": {
     "base_uri": "https://localhost:8080/"
    },
    "id": "Kvsg6hvlv42u",
    "outputId": "d85288f1-c5d6-4390-c661-9a3d63f58c6f"
   },
   "outputs": [],
   "source": [
    "# split data into 75% training and 25% testing set\n",
    "X_train_tfidf, X_test_tfidf, y_train, y_test = splitting_dataset(\n",
    "    overX, overY, test_size=0.25\n",
    ")"
   ]
  },
  {
   "cell_type": "code",
   "execution_count": 17,
   "id": "5RverS4ziH-4",
   "metadata": {
    "id": "5RverS4ziH-4"
   },
   "outputs": [],
   "source": [
    "def results(model, y_pred, y_test):\n",
    "    accuracy = round(accuracy_score(y_pred, y_test) * 100, 4)\n",
    "    precision = round(precision_score(y_pred, y_test, average=\"macro\") * 100, 4)\n",
    "    recall = round(recall_score(y_pred, y_test, average=\"macro\") * 100, 4)\n",
    "    f1_scr = round(f1_score(y_pred, y_test, average=\"macro\") * 100, 4)\n",
    "\n",
    "    print(\"\\nAccuracy: {}%\".format(accuracy))\n",
    "    print(\"Precision: {}%\".format(precision))\n",
    "    print(\"Recall: {}%\".format(recall))\n",
    "    print(\"F1-Score: {}%\".format(f1_scr))\n",
    "    print()\n",
    "    print(\"Classification Report:\")\n",
    "    print(classification_report(y_pred, y_test, target_names=label_enc.classes_))\n",
    "    print()\n",
    "    print(\"Confusion Matrix:\")\n",
    "    fig, ax = plt.subplots(figsize=(5, 5))\n",
    "    ConfusionMatrixDisplay.from_predictions(\n",
    "        y_pred,\n",
    "        y_test,\n",
    "        ax=ax,\n",
    "        display_labels=label_enc.classes_,\n",
    "        xticks_rotation=\"vertical\",\n",
    "    )\n",
    "    plt.show()\n",
    "\n",
    "    return {\n",
    "        \"Model\": model.__class__.__name__,\n",
    "        \"Accuracy\": accuracy,\n",
    "        \"Precision\": precision,\n",
    "        \"Recall\": recall,\n",
    "        \"F1\": f1_scr,\n",
    "    }"
   ]
  },
  {
   "cell_type": "code",
   "execution_count": 18,
   "id": "aHt7-gNdpIrN",
   "metadata": {
    "id": "aHt7-gNdpIrN"
   },
   "outputs": [],
   "source": [
    "def train_model(model):\n",
    "    # Record the start time\n",
    "    start_time = time.time()\n",
    "\n",
    "    # Fit the model on the training data\n",
    "    model.fit(X_train_tfidf, y_train)\n",
    "\n",
    "    # Record the end time\n",
    "    end_time = time.time()\n",
    "\n",
    "    # Compute the training time in seconds\n",
    "    training_time = end_time - start_time\n",
    "    print(f\"Training time: {training_time:.3f} seconds\")\n",
    "\n",
    "    # predict the model on testing data\n",
    "    y_pred = model.predict(X_test_tfidf)\n",
    "\n",
    "    # get results\n",
    "    RESULTS_LR = results(model, y_pred, y_test)\n",
    "\n",
    "    # Add the training time to RESULTS_LR\n",
    "    RESULTS_LR[\"Training time (s)\"] = training_time\n",
    "\n",
    "    return RESULTS_LR"
   ]
  },
  {
   "cell_type": "code",
   "execution_count": 19,
   "id": "eXfk1rLPpIuV",
   "metadata": {
    "id": "eXfk1rLPpIuV"
   },
   "outputs": [],
   "source": [
    "def get_model_results(res):\n",
    "    # Convert the dictionary to a DataFrame\n",
    "    return pd.DataFrame.from_dict([res]).set_index(\"Model\")"
   ]
  },
  {
   "cell_type": "code",
   "execution_count": 20,
   "id": "C-RauXlBpIoM",
   "metadata": {
    "id": "C-RauXlBpIoM"
   },
   "outputs": [],
   "source": [
    "model_tuple = [\n",
    "    (\n",
    "        \"SVM\",\n",
    "        SVC(\n",
    "            **{\n",
    "                \"C\": 10,\n",
    "                \"decision_function_shape\": \"ovr\",\n",
    "                \"kernel\": \"rbf\",\n",
    "                \"random_state\": 42,\n",
    "            }\n",
    "        ),\n",
    "    ),\n",
    "]"
   ]
  },
  {
   "cell_type": "code",
   "execution_count": 21,
   "id": "GONeeF7zpI30",
   "metadata": {
    "colab": {
     "base_uri": "https://localhost:8080/",
     "height": 1000,
     "referenced_widgets": [
      "fe18119a8e0b46acb12527b5bb0b0ed0",
      "9233b0b6c3d747aba07c2fd3edfe41f7",
      "e16f11493a934bb382f63222a87a36d9",
      "5c84e3f6da964424b228c02fb085323a",
      "fb02d1cd393f42caaecbafa8cbb48f29",
      "1ea3563f43b14fd6bd9f4582d0b813f6",
      "d3f32f5b6b3f48b3ad6aa34d35ca8841",
      "2e21e56b24ba4c60a1b7f910038c1c28",
      "388db546bc7d479b9200814963f169ee",
      "2af2d7dd554242a39403945ccdab81ce",
      "d3008b4a78734f7babb697f63273765a"
     ]
    },
    "id": "GONeeF7zpI30",
    "outputId": "2784d917-bc37-45e2-c477-eff6bf5c4d79"
   },
   "outputs": [
    {
     "data": {
      "application/vnd.jupyter.widget-view+json": {
       "model_id": "1178d06520c743f0ae5e0652c2da1e44",
       "version_major": 2,
       "version_minor": 0
      },
      "text/plain": [
       "model running:   0%|          | 0/1 [00:00<?, ?it/s]"
      ]
     },
     "metadata": {},
     "output_type": "display_data"
    },
    {
     "name": "stdout",
     "output_type": "stream",
     "text": [
      "====================================================================================================\n",
      "\t\t\t SVM\n",
      "====================================================================================================\n",
      "Training time: 9.547 seconds\n",
      "\n",
      "Accuracy: 83.0234%\n",
      "Precision: 83.0259%\n",
      "Recall: 84.1032%\n",
      "F1-Score: 82.8634%\n",
      "\n",
      "Classification Report:\n",
      "                        precision    recall  f1-score   support\n",
      "\n",
      "       Design Engineer       1.00      0.98      0.99       855\n",
      "            Management       0.74      0.71      0.72       884\n",
      "Manufacturing Engineer       0.94      0.72      0.81      1093\n",
      "   Quality Engineering       0.61      0.83      0.71       617\n",
      "Stakeholder Unassigned       0.86      0.97      0.91       745\n",
      "\n",
      "              accuracy                           0.83      4194\n",
      "             macro avg       0.83      0.84      0.83      4194\n",
      "          weighted avg       0.85      0.83      0.83      4194\n",
      "\n",
      "\n",
      "Confusion Matrix:\n"
     ]
    },
    {
     "data": {
      "image/png": "[encoded data removed]",
      "text/plain": [
       "<Figure size 500x500 with 2 Axes>"
      ]
     },
     "metadata": {},
     "output_type": "display_data"
    },
    {
     "name": "stdout",
     "output_type": "stream",
     "text": [
      "       Accuracy  Precision   Recall       F1  Training time (s)\n",
      "Model                                                          \n",
      "SVC     83.0234    83.0259  84.1032  82.8634            9.54708\n",
      "\n"
     ]
    }
   ],
   "source": [
    "for model_name, model in tqdm(model_tuple, desc=\"model running\"):\n",
    "    print(\"=\" * 100)\n",
    "    print(f\"\\t\\t\\t {model_name}\")\n",
    "    print(\"=\" * 100)\n",
    "\n",
    "    # Record the start time\n",
    "    start_time = time.time()\n",
    "\n",
    "    # Fit the model on the training data\n",
    "    model.fit(X_train_tfidf, y_train)\n",
    "\n",
    "    # Record the end time\n",
    "    end_time = time.time()\n",
    "\n",
    "    # Compute the training time in seconds\n",
    "    training_time = end_time - start_time\n",
    "    print(f\"Training time: {training_time:.3f} seconds\")\n",
    "\n",
    "    # predict the model on testing data\n",
    "    y_pred = model.predict(X_test_tfidf)\n",
    "\n",
    "    # get results\n",
    "    RESULT = results(model, y_pred, y_test)\n",
    "\n",
    "    # Add the training time to RESULTS_LR\n",
    "    RESULT[\"Training time (s)\"] = training_time\n",
    "\n",
    "    df_results = get_model_results(RESULT)\n",
    "    print(df_results)\n",
    "    print()"
   ]
  },
  {
   "cell_type": "code",
   "execution_count": 22,
   "id": "46e0f248-9adb-4510-a7c5-5bd81d5fbf1d",
   "metadata": {
    "tags": []
   },
   "outputs": [],
   "source": [
    "# Save the trained model to a file\n",
    "with open('./labeled_data/svm_model.pickle', 'wb') as f:\n",
    "    pickle.dump(model, f)"
   ]
  }
 ],
 "metadata": {
  "accelerator": "TPU",
  "colab": {
   "include_colab_link": true,
   "machine_shape": "hm",
   "provenance": []
  },
  "gpuClass": "standard",
  "kernelspec": {
   "display_name": "Python 3 (ipykernel)",
   "language": "python",
   "name": "python3"
  },
  "language_info": {
   "codemirror_mode": {
    "name": "ipython",
    "version": 3
   },
   "file_extension": ".py",
   "mimetype": "text/x-python",
   "name": "python",
   "nbconvert_exporter": "python",
   "pygments_lexer": "ipython3",
   "version": "3.11.3"
  },
  "widgets": {
   "application/vnd.jupyter.widget-state+json": {
    "1ea3563f43b14fd6bd9f4582d0b813f6": {
     "model_module": "@jupyter-widgets/base",
     "model_module_version": "1.2.0",
     "model_name": "LayoutModel",
     "state": {
      "_model_module": "@jupyter-widgets/base",
      "_model_module_version": "1.2.0",
      "_model_name": "LayoutModel",
      "_view_count": null,
      "_view_module": "@jupyter-widgets/base",
      "_view_module_version": "1.2.0",
      "_view_name": "LayoutView",
      "align_content": null,
      "align_items": null,
      "align_self": null,
      "border": null,
      "bottom": null,
      "display": null,
      "flex": null,
      "flex_flow": null,
      "grid_area": null,
      "grid_auto_columns": null,
      "grid_auto_flow": null,
      "grid_auto_rows": null,
      "grid_column": null,
      "grid_gap": null,
      "grid_row": null,
      "grid_template_areas": null,
      "grid_template_columns": null,
      "grid_template_rows": null,
      "height": null,
      "justify_content": null,
      "justify_items": null,
      "left": null,
      "margin": null,
      "max_height": null,
      "max_width": null,
      "min_height": null,
      "min_width": null,
      "object_fit": null,
      "object_position": null,
      "order": null,
      "overflow": null,
      "overflow_x": null,
      "overflow_y": null,
      "padding": null,
      "right": null,
      "top": null,
      "visibility": null,
      "width": null
     }
    },
    "2af2d7dd554242a39403945ccdab81ce": {
     "model_module": "@jupyter-widgets/base",
     "model_module_version": "1.2.0",
     "model_name": "LayoutModel",
     "state": {
      "_model_module": "@jupyter-widgets/base",
      "_model_module_version": "1.2.0",
      "_model_name": "LayoutModel",
      "_view_count": null,
      "_view_module": "@jupyter-widgets/base",
      "_view_module_version": "1.2.0",
      "_view_name": "LayoutView",
      "align_content": null,
      "align_items": null,
      "align_self": null,
      "border": null,
      "bottom": null,
      "display": null,
      "flex": null,
      "flex_flow": null,
      "grid_area": null,
      "grid_auto_columns": null,
      "grid_auto_flow": null,
      "grid_auto_rows": null,
      "grid_column": null,
      "grid_gap": null,
      "grid_row": null,
      "grid_template_areas": null,
      "grid_template_columns": null,
      "grid_template_rows": null,
      "height": null,
      "justify_content": null,
      "justify_items": null,
      "left": null,
      "margin": null,
      "max_height": null,
      "max_width": null,
      "min_height": null,
      "min_width": null,
      "object_fit": null,
      "object_position": null,
      "order": null,
      "overflow": null,
      "overflow_x": null,
      "overflow_y": null,
      "padding": null,
      "right": null,
      "top": null,
      "visibility": null,
      "width": null
     }
    },
    "2ba5f52bdc84478687b933e66944c236": {
     "model_module": "@jupyter-widgets/base",
     "model_module_version": "1.2.0",
     "model_name": "LayoutModel",
     "state": {
      "_model_module": "@jupyter-widgets/base",
      "_model_module_version": "1.2.0",
      "_model_name": "LayoutModel",
      "_view_count": null,
      "_view_module": "@jupyter-widgets/base",
      "_view_module_version": "1.2.0",
      "_view_name": "LayoutView",
      "align_content": null,
      "align_items": null,
      "align_self": null,
      "border": null,
      "bottom": null,
      "display": null,
      "flex": null,
      "flex_flow": null,
      "grid_area": null,
      "grid_auto_columns": null,
      "grid_auto_flow": null,
      "grid_auto_rows": null,
      "grid_column": null,
      "grid_gap": null,
      "grid_row": null,
      "grid_template_areas": null,
      "grid_template_columns": null,
      "grid_template_rows": null,
      "height": null,
      "justify_content": null,
      "justify_items": null,
      "left": null,
      "margin": null,
      "max_height": null,
      "max_width": null,
      "min_height": null,
      "min_width": null,
      "object_fit": null,
      "object_position": null,
      "order": null,
      "overflow": null,
      "overflow_x": null,
      "overflow_y": null,
      "padding": null,
      "right": null,
      "top": null,
      "visibility": null,
      "width": null
     }
    },
    "2e21e56b24ba4c60a1b7f910038c1c28": {
     "model_module": "@jupyter-widgets/base",
     "model_module_version": "1.2.0",
     "model_name": "LayoutModel",
     "state": {
      "_model_module": "@jupyter-widgets/base",
      "_model_module_version": "1.2.0",
      "_model_name": "LayoutModel",
      "_view_count": null,
      "_view_module": "@jupyter-widgets/base",
      "_view_module_version": "1.2.0",
      "_view_name": "LayoutView",
      "align_content": null,
      "align_items": null,
      "align_self": null,
      "border": null,
      "bottom": null,
      "display": null,
      "flex": null,
      "flex_flow": null,
      "grid_area": null,
      "grid_auto_columns": null,
      "grid_auto_flow": null,
      "grid_auto_rows": null,
      "grid_column": null,
      "grid_gap": null,
      "grid_row": null,
      "grid_template_areas": null,
      "grid_template_columns": null,
      "grid_template_rows": null,
      "height": null,
      "justify_content": null,
      "justify_items": null,
      "left": null,
      "margin": null,
      "max_height": null,
      "max_width": null,
      "min_height": null,
      "min_width": null,
      "object_fit": null,
      "object_position": null,
      "order": null,
      "overflow": null,
      "overflow_x": null,
      "overflow_y": null,
      "padding": null,
      "right": null,
      "top": null,
      "visibility": null,
      "width": null
     }
    },
    "388db546bc7d479b9200814963f169ee": {
     "model_module": "@jupyter-widgets/controls",
     "model_module_version": "1.5.0",
     "model_name": "ProgressStyleModel",
     "state": {
      "_model_module": "@jupyter-widgets/controls",
      "_model_module_version": "1.5.0",
      "_model_name": "ProgressStyleModel",
      "_view_count": null,
      "_view_module": "@jupyter-widgets/base",
      "_view_module_version": "1.2.0",
      "_view_name": "StyleView",
      "bar_color": null,
      "description_width": ""
     }
    },
    "4fd0f653cf6947c08db07ad058ad57ba": {
     "model_module": "@jupyter-widgets/controls",
     "model_module_version": "1.5.0",
     "model_name": "HBoxModel",
     "state": {
      "_dom_classes": [],
      "_model_module": "@jupyter-widgets/controls",
      "_model_module_version": "1.5.0",
      "_model_name": "HBoxModel",
      "_view_count": null,
      "_view_module": "@jupyter-widgets/controls",
      "_view_module_version": "1.5.0",
      "_view_name": "HBoxView",
      "box_style": "",
      "children": [
       "IPY_MODEL_87a56fc26e864fc19049e56f334b16c3",
       "IPY_MODEL_a69f6a767827497687ba762839057bbb",
       "IPY_MODEL_723024789840495ab35afd291396d951"
      ],
      "layout": "IPY_MODEL_2ba5f52bdc84478687b933e66944c236"
     }
    },
    "54930228938b4302bcdc3e2f9647855a": {
     "model_module": "@jupyter-widgets/controls",
     "model_module_version": "1.5.0",
     "model_name": "DescriptionStyleModel",
     "state": {
      "_model_module": "@jupyter-widgets/controls",
      "_model_module_version": "1.5.0",
      "_model_name": "DescriptionStyleModel",
      "_view_count": null,
      "_view_module": "@jupyter-widgets/base",
      "_view_module_version": "1.2.0",
      "_view_name": "StyleView",
      "description_width": ""
     }
    },
    "5c84e3f6da964424b228c02fb085323a": {
     "model_module": "@jupyter-widgets/controls",
     "model_module_version": "1.5.0",
     "model_name": "HTMLModel",
     "state": {
      "_dom_classes": [],
      "_model_module": "@jupyter-widgets/controls",
      "_model_module_version": "1.5.0",
      "_model_name": "HTMLModel",
      "_view_count": null,
      "_view_module": "@jupyter-widgets/controls",
      "_view_module_version": "1.5.0",
      "_view_name": "HTMLView",
      "description": "",
      "description_tooltip": null,
      "layout": "IPY_MODEL_2af2d7dd554242a39403945ccdab81ce",
      "placeholder": "​",
      "style": "IPY_MODEL_d3008b4a78734f7babb697f63273765a",
      "value": " 7/7 [14:19&lt;00:00, 147.49s/it]"
     }
    },
    "723024789840495ab35afd291396d951": {
     "model_module": "@jupyter-widgets/controls",
     "model_module_version": "1.5.0",
     "model_name": "HTMLModel",
     "state": {
      "_dom_classes": [],
      "_model_module": "@jupyter-widgets/controls",
      "_model_module_version": "1.5.0",
      "_model_name": "HTMLModel",
      "_view_count": null,
      "_view_module": "@jupyter-widgets/controls",
      "_view_module_version": "1.5.0",
      "_view_name": "HTMLView",
      "description": "",
      "description_tooltip": null,
      "layout": "IPY_MODEL_7a3226d7a98e4cf293b4784af5c86a81",
      "placeholder": "​",
      "style": "IPY_MODEL_e3b5a0db23a24e85bba9803b7ecd8a80",
      "value": " 7/7 [00:18&lt;00:00,  3.39s/it]"
     }
    },
    "7a3226d7a98e4cf293b4784af5c86a81": {
     "model_module": "@jupyter-widgets/base",
     "model_module_version": "1.2.0",
     "model_name": "LayoutModel",
     "state": {
      "_model_module": "@jupyter-widgets/base",
      "_model_module_version": "1.2.0",
      "_model_name": "LayoutModel",
      "_view_count": null,
      "_view_module": "@jupyter-widgets/base",
      "_view_module_version": "1.2.0",
      "_view_name": "LayoutView",
      "align_content": null,
      "align_items": null,
      "align_self": null,
      "border": null,
      "bottom": null,
      "display": null,
      "flex": null,
      "flex_flow": null,
      "grid_area": null,
      "grid_auto_columns": null,
      "grid_auto_flow": null,
      "grid_auto_rows": null,
      "grid_column": null,
      "grid_gap": null,
      "grid_row": null,
      "grid_template_areas": null,
      "grid_template_columns": null,
      "grid_template_rows": null,
      "height": null,
      "justify_content": null,
      "justify_items": null,
      "left": null,
      "margin": null,
      "max_height": null,
      "max_width": null,
      "min_height": null,
      "min_width": null,
      "object_fit": null,
      "object_position": null,
      "order": null,
      "overflow": null,
      "overflow_x": null,
      "overflow_y": null,
      "padding": null,
      "right": null,
      "top": null,
      "visibility": null,
      "width": null
     }
    },
    "7f9d676ca02c4a4eb1ba4daebdbb9969": {
     "model_module": "@jupyter-widgets/base",
     "model_module_version": "1.2.0",
     "model_name": "LayoutModel",
     "state": {
      "_model_module": "@jupyter-widgets/base",
      "_model_module_version": "1.2.0",
      "_model_name": "LayoutModel",
      "_view_count": null,
      "_view_module": "@jupyter-widgets/base",
      "_view_module_version": "1.2.0",
      "_view_name": "LayoutView",
      "align_content": null,
      "align_items": null,
      "align_self": null,
      "border": null,
      "bottom": null,
      "display": null,
      "flex": null,
      "flex_flow": null,
      "grid_area": null,
      "grid_auto_columns": null,
      "grid_auto_flow": null,
      "grid_auto_rows": null,
      "grid_column": null,
      "grid_gap": null,
      "grid_row": null,
      "grid_template_areas": null,
      "grid_template_columns": null,
      "grid_template_rows": null,
      "height": null,
      "justify_content": null,
      "justify_items": null,
      "left": null,
      "margin": null,
      "max_height": null,
      "max_width": null,
      "min_height": null,
      "min_width": null,
      "object_fit": null,
      "object_position": null,
      "order": null,
      "overflow": null,
      "overflow_x": null,
      "overflow_y": null,
      "padding": null,
      "right": null,
      "top": null,
      "visibility": null,
      "width": null
     }
    },
    "87a56fc26e864fc19049e56f334b16c3": {
     "model_module": "@jupyter-widgets/controls",
     "model_module_version": "1.5.0",
     "model_name": "HTMLModel",
     "state": {
      "_dom_classes": [],
      "_model_module": "@jupyter-widgets/controls",
      "_model_module_version": "1.5.0",
      "_model_name": "HTMLModel",
      "_view_count": null,
      "_view_module": "@jupyter-widgets/controls",
      "_view_module_version": "1.5.0",
      "_view_name": "HTMLView",
      "description": "",
      "description_tooltip": null,
      "layout": "IPY_MODEL_7f9d676ca02c4a4eb1ba4daebdbb9969",
      "placeholder": "​",
      "style": "IPY_MODEL_54930228938b4302bcdc3e2f9647855a",
      "value": "model running: 100%"
     }
    },
    "9233b0b6c3d747aba07c2fd3edfe41f7": {
     "model_module": "@jupyter-widgets/controls",
     "model_module_version": "1.5.0",
     "model_name": "HTMLModel",
     "state": {
      "_dom_classes": [],
      "_model_module": "@jupyter-widgets/controls",
      "_model_module_version": "1.5.0",
      "_model_name": "HTMLModel",
      "_view_count": null,
      "_view_module": "@jupyter-widgets/controls",
      "_view_module_version": "1.5.0",
      "_view_name": "HTMLView",
      "description": "",
      "description_tooltip": null,
      "layout": "IPY_MODEL_1ea3563f43b14fd6bd9f4582d0b813f6",
      "placeholder": "​",
      "style": "IPY_MODEL_d3f32f5b6b3f48b3ad6aa34d35ca8841",
      "value": "model running: 100%"
     }
    },
    "9c70ebbced834e8c8eec8b4e47c6f70f": {
     "model_module": "@jupyter-widgets/base",
     "model_module_version": "1.2.0",
     "model_name": "LayoutModel",
     "state": {
      "_model_module": "@jupyter-widgets/base",
      "_model_module_version": "1.2.0",
      "_model_name": "LayoutModel",
      "_view_count": null,
      "_view_module": "@jupyter-widgets/base",
      "_view_module_version": "1.2.0",
      "_view_name": "LayoutView",
      "align_content": null,
      "align_items": null,
      "align_self": null,
      "border": null,
      "bottom": null,
      "display": null,
      "flex": null,
      "flex_flow": null,
      "grid_area": null,
      "grid_auto_columns": null,
      "grid_auto_flow": null,
      "grid_auto_rows": null,
      "grid_column": null,
      "grid_gap": null,
      "grid_row": null,
      "grid_template_areas": null,
      "grid_template_columns": null,
      "grid_template_rows": null,
      "height": null,
      "justify_content": null,
      "justify_items": null,
      "left": null,
      "margin": null,
      "max_height": null,
      "max_width": null,
      "min_height": null,
      "min_width": null,
      "object_fit": null,
      "object_position": null,
      "order": null,
      "overflow": null,
      "overflow_x": null,
      "overflow_y": null,
      "padding": null,
      "right": null,
      "top": null,
      "visibility": null,
      "width": null
     }
    },
    "a69f6a767827497687ba762839057bbb": {
     "model_module": "@jupyter-widgets/controls",
     "model_module_version": "1.5.0",
     "model_name": "FloatProgressModel",
     "state": {
      "_dom_classes": [],
      "_model_module": "@jupyter-widgets/controls",
      "_model_module_version": "1.5.0",
      "_model_name": "FloatProgressModel",
      "_view_count": null,
      "_view_module": "@jupyter-widgets/controls",
      "_view_module_version": "1.5.0",
      "_view_name": "ProgressView",
      "bar_style": "success",
      "description": "",
      "description_tooltip": null,
      "layout": "IPY_MODEL_9c70ebbced834e8c8eec8b4e47c6f70f",
      "max": 7,
      "min": 0,
      "orientation": "horizontal",
      "style": "IPY_MODEL_decfcd66c528461db8d370405b8dca88",
      "value": 7
     }
    },
    "d3008b4a78734f7babb697f63273765a": {
     "model_module": "@jupyter-widgets/controls",
     "model_module_version": "1.5.0",
     "model_name": "DescriptionStyleModel",
     "state": {
      "_model_module": "@jupyter-widgets/controls",
      "_model_module_version": "1.5.0",
      "_model_name": "DescriptionStyleModel",
      "_view_count": null,
      "_view_module": "@jupyter-widgets/base",
      "_view_module_version": "1.2.0",
      "_view_name": "StyleView",
      "description_width": ""
     }
    },
    "d3f32f5b6b3f48b3ad6aa34d35ca8841": {
     "model_module": "@jupyter-widgets/controls",
     "model_module_version": "1.5.0",
     "model_name": "DescriptionStyleModel",
     "state": {
      "_model_module": "@jupyter-widgets/controls",
      "_model_module_version": "1.5.0",
      "_model_name": "DescriptionStyleModel",
      "_view_count": null,
      "_view_module": "@jupyter-widgets/base",
      "_view_module_version": "1.2.0",
      "_view_name": "StyleView",
      "description_width": ""
     }
    },
    "decfcd66c528461db8d370405b8dca88": {
     "model_module": "@jupyter-widgets/controls",
     "model_module_version": "1.5.0",
     "model_name": "ProgressStyleModel",
     "state": {
      "_model_module": "@jupyter-widgets/controls",
      "_model_module_version": "1.5.0",
      "_model_name": "ProgressStyleModel",
      "_view_count": null,
      "_view_module": "@jupyter-widgets/base",
      "_view_module_version": "1.2.0",
      "_view_name": "StyleView",
      "bar_color": null,
      "description_width": ""
     }
    },
    "e16f11493a934bb382f63222a87a36d9": {
     "model_module": "@jupyter-widgets/controls",
     "model_module_version": "1.5.0",
     "model_name": "FloatProgressModel",
     "state": {
      "_dom_classes": [],
      "_model_module": "@jupyter-widgets/controls",
      "_model_module_version": "1.5.0",
      "_model_name": "FloatProgressModel",
      "_view_count": null,
      "_view_module": "@jupyter-widgets/controls",
      "_view_module_version": "1.5.0",
      "_view_name": "ProgressView",
      "bar_style": "success",
      "description": "",
      "description_tooltip": null,
      "layout": "IPY_MODEL_2e21e56b24ba4c60a1b7f910038c1c28",
      "max": 7,
      "min": 0,
      "orientation": "horizontal",
      "style": "IPY_MODEL_388db546bc7d479b9200814963f169ee",
      "value": 7
     }
    },
    "e3b5a0db23a24e85bba9803b7ecd8a80": {
     "model_module": "@jupyter-widgets/controls",
     "model_module_version": "1.5.0",
     "model_name": "DescriptionStyleModel",
     "state": {
      "_model_module": "@jupyter-widgets/controls",
      "_model_module_version": "1.5.0",
      "_model_name": "DescriptionStyleModel",
      "_view_count": null,
      "_view_module": "@jupyter-widgets/base",
      "_view_module_version": "1.2.0",
      "_view_name": "StyleView",
      "description_width": ""
     }
    },
    "fb02d1cd393f42caaecbafa8cbb48f29": {
     "model_module": "@jupyter-widgets/base",
     "model_module_version": "1.2.0",
     "model_name": "LayoutModel",
     "state": {
      "_model_module": "@jupyter-widgets/base",
      "_model_module_version": "1.2.0",
      "_model_name": "LayoutModel",
      "_view_count": null,
      "_view_module": "@jupyter-widgets/base",
      "_view_module_version": "1.2.0",
      "_view_name": "LayoutView",
      "align_content": null,
      "align_items": null,
      "align_self": null,
      "border": null,
      "bottom": null,
      "display": null,
      "flex": null,
      "flex_flow": null,
      "grid_area": null,
      "grid_auto_columns": null,
      "grid_auto_flow": null,
      "grid_auto_rows": null,
      "grid_column": null,
      "grid_gap": null,
      "grid_row": null,
      "grid_template_areas": null,
      "grid_template_columns": null,
      "grid_template_rows": null,
      "height": null,
      "justify_content": null,
      "justify_items": null,
      "left": null,
      "margin": null,
      "max_height": null,
      "max_width": null,
      "min_height": null,
      "min_width": null,
      "object_fit": null,
      "object_position": null,
      "order": null,
      "overflow": null,
      "overflow_x": null,
      "overflow_y": null,
      "padding": null,
      "right": null,
      "top": null,
      "visibility": null,
      "width": null
     }
    },
    "fe18119a8e0b46acb12527b5bb0b0ed0": {
     "model_module": "@jupyter-widgets/controls",
     "model_module_version": "1.5.0",
     "model_name": "HBoxModel",
     "state": {
      "_dom_classes": [],
      "_model_module": "@jupyter-widgets/controls",
      "_model_module_version": "1.5.0",
      "_model_name": "HBoxModel",
      "_view_count": null,
      "_view_module": "@jupyter-widgets/controls",
      "_view_module_version": "1.5.0",
      "_view_name": "HBoxView",
      "box_style": "",
      "children": [
       "IPY_MODEL_9233b0b6c3d747aba07c2fd3edfe41f7",
       "IPY_MODEL_e16f11493a934bb382f63222a87a36d9",
       "IPY_MODEL_5c84e3f6da964424b228c02fb085323a"
      ],
      "layout": "IPY_MODEL_fb02d1cd393f42caaecbafa8cbb48f29"
     }
    }
   }
  }
 },
 "nbformat": 4,
 "nbformat_minor": 5
}
