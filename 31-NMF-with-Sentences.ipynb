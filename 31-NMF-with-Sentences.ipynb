{
 "cells": [
  {
   "cell_type": "markdown",
   "id": "628bffb8-ff94-4c3d-96c0-1f06de4ac7f8",
   "metadata": {},
   "source": [
    "# NMF"
   ]
  },
  {
   "cell_type": "code",
   "execution_count": 1,
   "id": "8ca77b43-d389-4c9c-8f11-f5381dae7ae7",
   "metadata": {
    "tags": []
   },
   "outputs": [],
   "source": [
    "# Add lemmatization\n",
    "# Add coherence matrix (k by score: k = 1, Coherence score: 0.8242367870330447)\n",
    "# And a graph of k by score (see 30-NMF-v2.ipynb)\n",
    "# Check random state values to determine/justity a value for that input\n",
    "# Don't print topics until the number of topics is chosen\n",
    "# Run a final output with the chosen number of topics and random_state"
   ]
  },
  {
   "cell_type": "code",
   "execution_count": 2,
   "id": "f2cc4c2d-183c-40e3-9a01-dc77136fc7c3",
   "metadata": {
    "tags": []
   },
   "outputs": [],
   "source": [
    "import pandas as pd\n",
    "import os\n",
    "import csv\n",
    "import nltk # If this step fails, rerun 07-Install-NLTK.ipynb\n",
    "import string\n",
    "\n",
    "# Identify the working directory and data files\n",
    "working_directory = './31-NMF-with-Sentences'\n",
    "\n",
    "# Create the working directory if needed\n",
    "try:\n",
    "    os.makedirs(working_directory, exist_ok=True)\n",
    "except OSError as error:\n",
    "    print(f\"Error creating {working_directory}: {error}\")"
   ]
  },
  {
   "cell_type": "code",
   "execution_count": 3,
   "id": "a5c19b5b-a9f2-4aae-b01a-799379ec1d54",
   "metadata": {
    "tags": []
   },
   "outputs": [],
   "source": [
    "# Read the preprocessed data into a dataframe\n",
    "import pickle\n",
    "\n",
    "with open('./21-Preprocess-Combined-Data-v2/dataframe.pickle', 'rb') as f:\n",
    "    df = pickle.load(f)"
   ]
  },
  {
   "cell_type": "code",
   "execution_count": 4,
   "id": "9a074add-a605-4ebb-a8d0-edc752cd5964",
   "metadata": {
    "tags": []
   },
   "outputs": [
    {
     "data": {
      "text/plain": [
       "(5736, 20)"
      ]
     },
     "execution_count": 4,
     "metadata": {},
     "output_type": "execute_result"
    }
   ],
   "source": [
    "df.shape"
   ]
  },
  {
   "cell_type": "code",
   "execution_count": 5,
   "id": "cb9e03ea-d1a6-45e2-9274-228384d572ee",
   "metadata": {
    "tags": []
   },
   "outputs": [
    {
     "data": {
      "text/html": [
       "<div>\n",
       "<style scoped>\n",
       "    .dataframe tbody tr th:only-of-type {\n",
       "        vertical-align: middle;\n",
       "    }\n",
       "\n",
       "    .dataframe tbody tr th {\n",
       "        vertical-align: top;\n",
       "    }\n",
       "\n",
       "    .dataframe thead th {\n",
       "        text-align: right;\n",
       "    }\n",
       "</style>\n",
       "<table border=\"1\" class=\"dataframe\">\n",
       "  <thead>\n",
       "    <tr style=\"text-align: right;\">\n",
       "      <th></th>\n",
       "      <th>ROW_ID</th>\n",
       "      <th>FOI_TEXT</th>\n",
       "      <th>DEVICE_PROBLEM_CODE</th>\n",
       "      <th>DEVICE_PROBLEM_TEXT</th>\n",
       "      <th>GENERIC_NAME</th>\n",
       "      <th>DEVICE_REPORT_PRODUCT_CODE</th>\n",
       "      <th>UDI-DI</th>\n",
       "      <th>UDI-PUBLIC</th>\n",
       "      <th>DATE_OF_EVENT</th>\n",
       "      <th>REPORTER_OCCUPATION_CODE</th>\n",
       "      <th>REPORT_DATE</th>\n",
       "      <th>EVENT_LOCATION</th>\n",
       "      <th>SOURCE_TYPE</th>\n",
       "      <th>TOKENIZED_TEXT</th>\n",
       "      <th>NOPUNCT_TEXT</th>\n",
       "      <th>NOSTOPWORDS_TEXT</th>\n",
       "      <th>NODIGITS_TEXT</th>\n",
       "      <th>POS_TEXT</th>\n",
       "      <th>LEMMATIZED_TEXT</th>\n",
       "      <th>STEMMED_TEXT</th>\n",
       "    </tr>\n",
       "  </thead>\n",
       "  <tbody>\n",
       "    <tr>\n",
       "      <th>0</th>\n",
       "      <td>1969025</td>\n",
       "      <td>IT WAS REPORTED THAT THE TRANSMITTER LOST CONN...</td>\n",
       "      <td>3283</td>\n",
       "      <td>Wireless Communication Problem</td>\n",
       "      <td>CONTINUOUS GLUCOSE MONITOR</td>\n",
       "      <td>QBJ</td>\n",
       "      <td></td>\n",
       "      <td></td>\n",
       "      <td>07/30/2020</td>\n",
       "      <td>000</td>\n",
       "      <td></td>\n",
       "      <td>I</td>\n",
       "      <td>CONSUMER</td>\n",
       "      <td>[it, was, reported, that, the, transmitter, lo...</td>\n",
       "      <td>[it, was, reported, that, the, transmitter, lo...</td>\n",
       "      <td>[reported, transmitter, lost, connection, pump...</td>\n",
       "      <td>[reported, transmitter, lost, connection, pump...</td>\n",
       "      <td>[(reported, VBN), (transmitter, NN), (lost, VB...</td>\n",
       "      <td>[report, transmitter, lose, connection, pump, ...</td>\n",
       "      <td>[report, transmitt, lost, connect, pump, great...</td>\n",
       "    </tr>\n",
       "  </tbody>\n",
       "</table>\n",
       "</div>"
      ],
      "text/plain": [
       "    ROW_ID                                           FOI_TEXT  \\\n",
       "0  1969025  IT WAS REPORTED THAT THE TRANSMITTER LOST CONN...   \n",
       "\n",
       "  DEVICE_PROBLEM_CODE             DEVICE_PROBLEM_TEXT  \\\n",
       "0                3283  Wireless Communication Problem   \n",
       "\n",
       "                 GENERIC_NAME DEVICE_REPORT_PRODUCT_CODE UDI-DI UDI-PUBLIC  \\\n",
       "0  CONTINUOUS GLUCOSE MONITOR                        QBJ                     \n",
       "\n",
       "  DATE_OF_EVENT REPORTER_OCCUPATION_CODE REPORT_DATE EVENT_LOCATION  \\\n",
       "0    07/30/2020                      000                          I   \n",
       "\n",
       "  SOURCE_TYPE                                     TOKENIZED_TEXT  \\\n",
       "0    CONSUMER  [it, was, reported, that, the, transmitter, lo...   \n",
       "\n",
       "                                        NOPUNCT_TEXT  \\\n",
       "0  [it, was, reported, that, the, transmitter, lo...   \n",
       "\n",
       "                                    NOSTOPWORDS_TEXT  \\\n",
       "0  [reported, transmitter, lost, connection, pump...   \n",
       "\n",
       "                                       NODIGITS_TEXT  \\\n",
       "0  [reported, transmitter, lost, connection, pump...   \n",
       "\n",
       "                                            POS_TEXT  \\\n",
       "0  [(reported, VBN), (transmitter, NN), (lost, VB...   \n",
       "\n",
       "                                     LEMMATIZED_TEXT  \\\n",
       "0  [report, transmitter, lose, connection, pump, ...   \n",
       "\n",
       "                                        STEMMED_TEXT  \n",
       "0  [report, transmitt, lost, connect, pump, great...  "
      ]
     },
     "execution_count": 5,
     "metadata": {},
     "output_type": "execute_result"
    }
   ],
   "source": [
    "df.head(1)"
   ]
  },
  {
   "cell_type": "code",
   "execution_count": 6,
   "id": "909b6eb7-bf86-43cc-a259-9613ac8c82ed",
   "metadata": {
    "tags": []
   },
   "outputs": [],
   "source": [
    "# Topics range\n",
    "min_topics = 1\n",
    "max_topics = 25\n",
    "\n",
    "# The number of top words per topic\n",
    "num_top_words = 10\n",
    "\n",
    "# Initial random state\n",
    "random_state = 42\n",
    "\n",
    "# A row to use for verification of processing\n",
    "verification_row = 9"
   ]
  },
  {
   "cell_type": "code",
   "execution_count": 7,
   "id": "21253d1e-48b7-47a0-af16-6460e28a40dc",
   "metadata": {
    "tags": []
   },
   "outputs": [],
   "source": [
    "# create a DataFrame for the sentences\n",
    "sentences_df = pd.DataFrame(\n",
    "    columns=[\n",
    "        'SENTENCE_ID',\n",
    "        'SENTENCE', \n",
    "        'ROW_ID', \n",
    "        'FOI_TEXT', \n",
    "        'DEVICE_PROBLEM_CODE',\n",
    "        'DEVICE_PROBLEM_TEXT'\n",
    "    ]\n",
    ")\n",
    "\n",
    "# Iterate over every row in the FOI_TEXT DataFrame\n",
    "# and create a new dataframe with a row for each sentence.\n",
    "# Each row will have a sentence, the orginal ROW_ID, and the\n",
    "# FOI_TEXT that it came from along with the DEVICE_PROBLEM_CODE and\n",
    "# DEVICE_PROBLEM_TEXT from the orginal FOI_TEXT\n",
    "sentence_counter = 0\n",
    "\n",
    "for index, row in df.iterrows():\n",
    "    for sentence in nltk.sent_tokenize(row['FOI_TEXT']):\n",
    "        sentence_data = {\n",
    "            'SENTENCE': sentence,\n",
    "            'SENTENCE_ID': sentence_counter,\n",
    "            'ROW_ID': row['ROW_ID'], \n",
    "            'FOI_TEXT': row['FOI_TEXT'], \n",
    "            'DEVICE_PROBLEM_CODE': row['DEVICE_PROBLEM_CODE'],\n",
    "            'DEVICE_PROBLEM_TEXT': row['DEVICE_PROBLEM_TEXT']\n",
    "        }\n",
    "        sentences_df = sentences_df.append(sentence_data, ignore_index=True)\n",
    "        sentence_counter = sentence_counter + 1        "
   ]
  },
  {
   "cell_type": "code",
   "execution_count": 8,
   "id": "2c0174d8-0f62-4e73-8b57-af9a604fe944",
   "metadata": {
    "tags": []
   },
   "outputs": [
    {
     "data": {
      "text/plain": [
       "(25686, 5)"
      ]
     },
     "execution_count": 8,
     "metadata": {},
     "output_type": "execute_result"
    }
   ],
   "source": [
    "sentences_df.shape"
   ]
  },
  {
   "cell_type": "code",
   "execution_count": 9,
   "id": "00ba0a4b-4c47-4b8b-817a-144a4efdee07",
   "metadata": {
    "tags": []
   },
   "outputs": [
    {
     "data": {
      "text/html": [
       "<div>\n",
       "<style scoped>\n",
       "    .dataframe tbody tr th:only-of-type {\n",
       "        vertical-align: middle;\n",
       "    }\n",
       "\n",
       "    .dataframe tbody tr th {\n",
       "        vertical-align: top;\n",
       "    }\n",
       "\n",
       "    .dataframe thead th {\n",
       "        text-align: right;\n",
       "    }\n",
       "</style>\n",
       "<table border=\"1\" class=\"dataframe\">\n",
       "  <thead>\n",
       "    <tr style=\"text-align: right;\">\n",
       "      <th></th>\n",
       "      <th>SENTENCE</th>\n",
       "      <th>ROW_ID</th>\n",
       "      <th>FOI_TEXT</th>\n",
       "      <th>DEVICE_PROBLEM_CODE</th>\n",
       "      <th>DEVICE_PROBLEM_TEXT</th>\n",
       "    </tr>\n",
       "  </thead>\n",
       "  <tbody>\n",
       "    <tr>\n",
       "      <th>0</th>\n",
       "      <td>IT WAS REPORTED THAT THE TRANSMITTER LOST CONN...</td>\n",
       "      <td>1969025</td>\n",
       "      <td>IT WAS REPORTED THAT THE TRANSMITTER LOST CONN...</td>\n",
       "      <td>3283</td>\n",
       "      <td>Wireless Communication Problem</td>\n",
       "    </tr>\n",
       "  </tbody>\n",
       "</table>\n",
       "</div>"
      ],
      "text/plain": [
       "                                            SENTENCE   ROW_ID  \\\n",
       "0  IT WAS REPORTED THAT THE TRANSMITTER LOST CONN...  1969025   \n",
       "\n",
       "                                            FOI_TEXT DEVICE_PROBLEM_CODE  \\\n",
       "0  IT WAS REPORTED THAT THE TRANSMITTER LOST CONN...                3283   \n",
       "\n",
       "              DEVICE_PROBLEM_TEXT  \n",
       "0  Wireless Communication Problem  "
      ]
     },
     "execution_count": 9,
     "metadata": {},
     "output_type": "execute_result"
    }
   ],
   "source": [
    "sentences_df.head(1)"
   ]
  },
  {
   "cell_type": "code",
   "execution_count": 10,
   "id": "03af3b02-0f2b-4f24-9592-e6d271e6bb5d",
   "metadata": {
    "tags": []
   },
   "outputs": [],
   "source": [
    "# Process the sentences\n",
    "import re\n",
    "import nltk\n",
    "import string\n",
    "\n",
    "from nltk.corpus import stopwords\n",
    "from nltk.stem import WordNetLemmatizer\n",
    "\n",
    "lemmatizer = WordNetLemmatizer()\n",
    "\n",
    "stop_words = set(stopwords.words('english'))\n",
    "\n",
    "punctuations = set(string.punctuation)\n",
    "\n",
    "def process_sentence(sentence):\n",
    "    # Lowercase the sentence\n",
    "    sentence = sentence.lower()\n",
    "\n",
    "    # Remove any words that start with a digit\n",
    "    sentence = re.sub(r'\\b\\d\\w*\\b', '', sentence)\n",
    "\n",
    "    # Remove punctuation\n",
    "    sentence_tokens = sentence.split()\n",
    "    sentence_tokens = [token.translate(str.maketrans(\"\", \"\", string.punctuation)) for token in sentence_tokens]\n",
    "\n",
    "    # Remove stopwords\n",
    "    sentence_tokens = [token for token in sentence_tokens if token not in stop_words]\n",
    "    \n",
    "    # Lemmatize\n",
    "    lemmatized_tokens = [lemmatizer.lemmatize(token, pos='v') for token in sentence_tokens]\n",
    "    \n",
    "    # Rebuild the sentence\n",
    "    sentence = ' '.join(lemmatized_tokens)\n",
    "\n",
    "    return sentence\n",
    "\n",
    "sentences_df['PROCESSED_SENTENCE'] = sentences_df['SENTENCE'].apply(process_sentence)"
   ]
  },
  {
   "cell_type": "code",
   "execution_count": 11,
   "id": "a801e654-0615-4eb1-bc3c-9011297140dd",
   "metadata": {
    "tags": []
   },
   "outputs": [
    {
     "name": "stdout",
     "output_type": "stream",
     "text": [
      "'THE PROBABLE CAUSE COULD NOT BE DETERMINED.' ==> 'probable cause could determine'\n"
     ]
    }
   ],
   "source": [
    "print(f\"'{sentences_df['SENTENCE'][verification_row]}' ==> '{sentences_df['PROCESSED_SENTENCE'][verification_row]}'\")"
   ]
  },
  {
   "cell_type": "code",
   "execution_count": 12,
   "id": "722a0d63-47a2-4346-8fb8-2730b57dbe9d",
   "metadata": {
    "tags": []
   },
   "outputs": [],
   "source": [
    "from sklearn.feature_extraction.text import TfidfVectorizer\n",
    "from sklearn.decomposition import NMF\n",
    "\n",
    "import gensim\n",
    "from gensim.corpora import Dictionary\n",
    "from gensim.models import CoherenceModel\n",
    "from gensim import corpora\n",
    "\n",
    "# Vectorize the sentences using TfidfVectorizer\n",
    "vectorizer = TfidfVectorizer(stop_words='english')\n",
    "\n",
    "vectorized_sentences = vectorizer.fit_transform(sentences_df['PROCESSED_SENTENCE'])"
   ]
  },
  {
   "cell_type": "code",
   "execution_count": 13,
   "id": "014b2b00-6a8d-473d-a832-1ef1426abe06",
   "metadata": {
    "tags": []
   },
   "outputs": [
    {
     "data": {
      "text/html": [
       "<div>\n",
       "<style scoped>\n",
       "    .dataframe tbody tr th:only-of-type {\n",
       "        vertical-align: middle;\n",
       "    }\n",
       "\n",
       "    .dataframe tbody tr th {\n",
       "        vertical-align: top;\n",
       "    }\n",
       "\n",
       "    .dataframe thead th {\n",
       "        text-align: right;\n",
       "    }\n",
       "</style>\n",
       "<table border=\"1\" class=\"dataframe\">\n",
       "  <thead>\n",
       "    <tr style=\"text-align: right;\">\n",
       "      <th></th>\n",
       "      <th>k</th>\n",
       "      <th>Coherence Score</th>\n",
       "    </tr>\n",
       "  </thead>\n",
       "  <tbody>\n",
       "    <tr>\n",
       "      <th>0</th>\n",
       "      <td>1.0</td>\n",
       "      <td>0.237714</td>\n",
       "    </tr>\n",
       "    <tr>\n",
       "      <th>1</th>\n",
       "      <td>2.0</td>\n",
       "      <td>0.295871</td>\n",
       "    </tr>\n",
       "    <tr>\n",
       "      <th>2</th>\n",
       "      <td>3.0</td>\n",
       "      <td>0.365870</td>\n",
       "    </tr>\n",
       "    <tr>\n",
       "      <th>3</th>\n",
       "      <td>4.0</td>\n",
       "      <td>0.353840</td>\n",
       "    </tr>\n",
       "    <tr>\n",
       "      <th>4</th>\n",
       "      <td>5.0</td>\n",
       "      <td>0.362692</td>\n",
       "    </tr>\n",
       "    <tr>\n",
       "      <th>5</th>\n",
       "      <td>6.0</td>\n",
       "      <td>0.394495</td>\n",
       "    </tr>\n",
       "    <tr>\n",
       "      <th>6</th>\n",
       "      <td>7.0</td>\n",
       "      <td>0.424196</td>\n",
       "    </tr>\n",
       "    <tr>\n",
       "      <th>7</th>\n",
       "      <td>8.0</td>\n",
       "      <td>0.420263</td>\n",
       "    </tr>\n",
       "    <tr>\n",
       "      <th>8</th>\n",
       "      <td>9.0</td>\n",
       "      <td>0.407765</td>\n",
       "    </tr>\n",
       "    <tr>\n",
       "      <th>9</th>\n",
       "      <td>10.0</td>\n",
       "      <td>0.396091</td>\n",
       "    </tr>\n",
       "    <tr>\n",
       "      <th>10</th>\n",
       "      <td>11.0</td>\n",
       "      <td>0.381641</td>\n",
       "    </tr>\n",
       "    <tr>\n",
       "      <th>11</th>\n",
       "      <td>12.0</td>\n",
       "      <td>0.423038</td>\n",
       "    </tr>\n",
       "    <tr>\n",
       "      <th>12</th>\n",
       "      <td>13.0</td>\n",
       "      <td>0.417282</td>\n",
       "    </tr>\n",
       "    <tr>\n",
       "      <th>13</th>\n",
       "      <td>14.0</td>\n",
       "      <td>0.425234</td>\n",
       "    </tr>\n",
       "    <tr>\n",
       "      <th>14</th>\n",
       "      <td>15.0</td>\n",
       "      <td>0.415689</td>\n",
       "    </tr>\n",
       "    <tr>\n",
       "      <th>15</th>\n",
       "      <td>16.0</td>\n",
       "      <td>0.407430</td>\n",
       "    </tr>\n",
       "    <tr>\n",
       "      <th>16</th>\n",
       "      <td>17.0</td>\n",
       "      <td>0.407172</td>\n",
       "    </tr>\n",
       "    <tr>\n",
       "      <th>17</th>\n",
       "      <td>18.0</td>\n",
       "      <td>0.403402</td>\n",
       "    </tr>\n",
       "    <tr>\n",
       "      <th>18</th>\n",
       "      <td>19.0</td>\n",
       "      <td>0.417705</td>\n",
       "    </tr>\n",
       "    <tr>\n",
       "      <th>19</th>\n",
       "      <td>20.0</td>\n",
       "      <td>0.442078</td>\n",
       "    </tr>\n",
       "    <tr>\n",
       "      <th>20</th>\n",
       "      <td>21.0</td>\n",
       "      <td>0.449292</td>\n",
       "    </tr>\n",
       "    <tr>\n",
       "      <th>21</th>\n",
       "      <td>22.0</td>\n",
       "      <td>0.437299</td>\n",
       "    </tr>\n",
       "    <tr>\n",
       "      <th>22</th>\n",
       "      <td>23.0</td>\n",
       "      <td>0.430712</td>\n",
       "    </tr>\n",
       "    <tr>\n",
       "      <th>23</th>\n",
       "      <td>24.0</td>\n",
       "      <td>0.447008</td>\n",
       "    </tr>\n",
       "    <tr>\n",
       "      <th>24</th>\n",
       "      <td>25.0</td>\n",
       "      <td>0.445963</td>\n",
       "    </tr>\n",
       "  </tbody>\n",
       "</table>\n",
       "</div>"
      ],
      "text/plain": [
       "       k  Coherence Score\n",
       "0    1.0         0.237714\n",
       "1    2.0         0.295871\n",
       "2    3.0         0.365870\n",
       "3    4.0         0.353840\n",
       "4    5.0         0.362692\n",
       "5    6.0         0.394495\n",
       "6    7.0         0.424196\n",
       "7    8.0         0.420263\n",
       "8    9.0         0.407765\n",
       "9   10.0         0.396091\n",
       "10  11.0         0.381641\n",
       "11  12.0         0.423038\n",
       "12  13.0         0.417282\n",
       "13  14.0         0.425234\n",
       "14  15.0         0.415689\n",
       "15  16.0         0.407430\n",
       "16  17.0         0.407172\n",
       "17  18.0         0.403402\n",
       "18  19.0         0.417705\n",
       "19  20.0         0.442078\n",
       "20  21.0         0.449292\n",
       "21  22.0         0.437299\n",
       "22  23.0         0.430712\n",
       "23  24.0         0.447008\n",
       "24  25.0         0.445963"
      ]
     },
     "execution_count": 13,
     "metadata": {},
     "output_type": "execute_result"
    }
   ],
   "source": [
    "coherence_scores_df = pd.DataFrame(columns=['k', 'Coherence Score'])\n",
    "\n",
    "for k in range(min_topics, max_topics + 1):\n",
    "    nmf_model = NMF(\n",
    "        n_components=k, \n",
    "        random_state=random_state, \n",
    "        init='nndsvda'\n",
    "    )\n",
    "    \n",
    "    nmf = nmf_model.fit_transform(vectorized_sentences)\n",
    "    \n",
    "    vocab = vectorizer.get_feature_names_out()\n",
    "    \n",
    "    topics = []\n",
    "    \n",
    "    for topic_index, topic in enumerate(nmf_model.components_):\n",
    "        top_words = [vocab[i] for i in topic.argsort()[:-num_top_words - 1:-1]]\n",
    "        topics.append(top_words)\n",
    "    \n",
    "    # split each sentence into a list of words\n",
    "    texts = sentences_df['PROCESSED_SENTENCE'].apply(lambda x: nltk.word_tokenize(x)).tolist()\n",
    "    \n",
    "    # Create a dictionary from the words\n",
    "    dictionary = corpora.Dictionary(texts)\n",
    "    \n",
    "    # Create a bag-of-words representation of the corpus\n",
    "    corpus = [dictionary.doc2bow(word) for word in texts]\n",
    "    \n",
    "    coherence_model = CoherenceModel(\n",
    "                        topics=topics, \n",
    "                        texts=texts, \n",
    "                        dictionary=dictionary, \n",
    "                        coherence='c_v'\n",
    "                      )\n",
    "    \n",
    "    coherence_score = coherence_model.get_coherence()\n",
    "\n",
    "    coherence_scores_df = coherence_scores_df.append(\n",
    "        pd.Series(\n",
    "            [k, coherence_score], \n",
    "            index=coherence_scores_df.columns\n",
    "        ), \n",
    "        ignore_index=True\n",
    "    )\n",
    "    \n",
    "coherence_scores_df"
   ]
  },
  {
   "cell_type": "code",
   "execution_count": 48,
   "id": "2cc5ad34-5b24-435d-88ac-5dbfb0381e53",
   "metadata": {
    "tags": []
   },
   "outputs": [],
   "source": [
    "# save the coherence_scores_df code to a file as HTML\n",
    "with open(f\"{working_directory}/nmf_using_sentences_coherence_scores_table.html\", 'w') as f:\n",
    "    f.write(coherence_scores_df.to_html(index=False))"
   ]
  },
  {
   "cell_type": "code",
   "execution_count": 23,
   "id": "fd05628a-57ba-4c07-b5e2-cacc741c8b43",
   "metadata": {
    "tags": []
   },
   "outputs": [
    {
     "data": {
      "application/vnd.plotly.v1+json": {
       "config": {
        "plotlyServerURL": "https://plot.ly"
       },
       "data": [
        {
         "hovertemplate": "k=%{x}<br>Coherence Score=%{y}<extra></extra>",
         "legendgroup": "",
         "line": {
          "color": "#636efa",
          "dash": "solid"
         },
         "marker": {
          "symbol": "circle"
         },
         "mode": "lines+markers",
         "name": "",
         "orientation": "v",
         "showlegend": false,
         "type": "scatter",
         "x": [
          1,
          2,
          3,
          4,
          5,
          6,
          7,
          8,
          9,
          10,
          11,
          12,
          13,
          14,
          15,
          16,
          17,
          18,
          19,
          20,
          21,
          22,
          23,
          24,
          25
         ],
         "xaxis": "x",
         "y": [
          0.23771367421853667,
          0.29587084719730417,
          0.3658700373414378,
          0.353839876172447,
          0.36269159010791824,
          0.394495350476984,
          0.42419626592993914,
          0.4202628244314765,
          0.4077646887063782,
          0.3960908607019562,
          0.3816411291125107,
          0.4230375395895114,
          0.41728193479156456,
          0.42523368207379025,
          0.415689010387961,
          0.4074303855348781,
          0.40717165968929303,
          0.40340205931909806,
          0.41770465080419833,
          0.4420783273252608,
          0.44929174084449947,
          0.43729892626019334,
          0.4307124964576059,
          0.4470082195811145,
          0.4459625305953847
         ],
         "yaxis": "y"
        }
       ],
       "layout": {
        "autosize": true,
        "legend": {
         "tracegroupgap": 0
        },
        "template": {
         "data": {
          "bar": [
           {
            "error_x": {
             "color": "#2a3f5f"
            },
            "error_y": {
             "color": "#2a3f5f"
            },
            "marker": {
             "line": {
              "color": "#E5ECF6",
              "width": 0.5
             },
             "pattern": {
              "fillmode": "overlay",
              "size": 10,
              "solidity": 0.2
             }
            },
            "type": "bar"
           }
          ],
          "barpolar": [
           {
            "marker": {
             "line": {
              "color": "#E5ECF6",
              "width": 0.5
             },
             "pattern": {
              "fillmode": "overlay",
              "size": 10,
              "solidity": 0.2
             }
            },
            "type": "barpolar"
           }
          ],
          "carpet": [
           {
            "aaxis": {
             "endlinecolor": "#2a3f5f",
             "gridcolor": "white",
             "linecolor": "white",
             "minorgridcolor": "white",
             "startlinecolor": "#2a3f5f"
            },
            "baxis": {
             "endlinecolor": "#2a3f5f",
             "gridcolor": "white",
             "linecolor": "white",
             "minorgridcolor": "white",
             "startlinecolor": "#2a3f5f"
            },
            "type": "carpet"
           }
          ],
          "choropleth": [
           {
            "colorbar": {
             "outlinewidth": 0,
             "ticks": ""
            },
            "type": "choropleth"
           }
          ],
          "contour": [
           {
            "colorbar": {
             "outlinewidth": 0,
             "ticks": ""
            },
            "colorscale": [
             [
              0,
              "#0d0887"
             ],
             [
              0.1111111111111111,
              "#46039f"
             ],
             [
              0.2222222222222222,
              "#7201a8"
             ],
             [
              0.3333333333333333,
              "#9c179e"
             ],
             [
              0.4444444444444444,
              "#bd3786"
             ],
             [
              0.5555555555555556,
              "#d8576b"
             ],
             [
              0.6666666666666666,
              "#ed7953"
             ],
             [
              0.7777777777777778,
              "#fb9f3a"
             ],
             [
              0.8888888888888888,
              "#fdca26"
             ],
             [
              1,
              "#f0f921"
             ]
            ],
            "type": "contour"
           }
          ],
          "contourcarpet": [
           {
            "colorbar": {
             "outlinewidth": 0,
             "ticks": ""
            },
            "type": "contourcarpet"
           }
          ],
          "heatmap": [
           {
            "colorbar": {
             "outlinewidth": 0,
             "ticks": ""
            },
            "colorscale": [
             [
              0,
              "#0d0887"
             ],
             [
              0.1111111111111111,
              "#46039f"
             ],
             [
              0.2222222222222222,
              "#7201a8"
             ],
             [
              0.3333333333333333,
              "#9c179e"
             ],
             [
              0.4444444444444444,
              "#bd3786"
             ],
             [
              0.5555555555555556,
              "#d8576b"
             ],
             [
              0.6666666666666666,
              "#ed7953"
             ],
             [
              0.7777777777777778,
              "#fb9f3a"
             ],
             [
              0.8888888888888888,
              "#fdca26"
             ],
             [
              1,
              "#f0f921"
             ]
            ],
            "type": "heatmap"
           }
          ],
          "heatmapgl": [
           {
            "colorbar": {
             "outlinewidth": 0,
             "ticks": ""
            },
            "colorscale": [
             [
              0,
              "#0d0887"
             ],
             [
              0.1111111111111111,
              "#46039f"
             ],
             [
              0.2222222222222222,
              "#7201a8"
             ],
             [
              0.3333333333333333,
              "#9c179e"
             ],
             [
              0.4444444444444444,
              "#bd3786"
             ],
             [
              0.5555555555555556,
              "#d8576b"
             ],
             [
              0.6666666666666666,
              "#ed7953"
             ],
             [
              0.7777777777777778,
              "#fb9f3a"
             ],
             [
              0.8888888888888888,
              "#fdca26"
             ],
             [
              1,
              "#f0f921"
             ]
            ],
            "type": "heatmapgl"
           }
          ],
          "histogram": [
           {
            "marker": {
             "pattern": {
              "fillmode": "overlay",
              "size": 10,
              "solidity": 0.2
             }
            },
            "type": "histogram"
           }
          ],
          "histogram2d": [
           {
            "colorbar": {
             "outlinewidth": 0,
             "ticks": ""
            },
            "colorscale": [
             [
              0,
              "#0d0887"
             ],
             [
              0.1111111111111111,
              "#46039f"
             ],
             [
              0.2222222222222222,
              "#7201a8"
             ],
             [
              0.3333333333333333,
              "#9c179e"
             ],
             [
              0.4444444444444444,
              "#bd3786"
             ],
             [
              0.5555555555555556,
              "#d8576b"
             ],
             [
              0.6666666666666666,
              "#ed7953"
             ],
             [
              0.7777777777777778,
              "#fb9f3a"
             ],
             [
              0.8888888888888888,
              "#fdca26"
             ],
             [
              1,
              "#f0f921"
             ]
            ],
            "type": "histogram2d"
           }
          ],
          "histogram2dcontour": [
           {
            "colorbar": {
             "outlinewidth": 0,
             "ticks": ""
            },
            "colorscale": [
             [
              0,
              "#0d0887"
             ],
             [
              0.1111111111111111,
              "#46039f"
             ],
             [
              0.2222222222222222,
              "#7201a8"
             ],
             [
              0.3333333333333333,
              "#9c179e"
             ],
             [
              0.4444444444444444,
              "#bd3786"
             ],
             [
              0.5555555555555556,
              "#d8576b"
             ],
             [
              0.6666666666666666,
              "#ed7953"
             ],
             [
              0.7777777777777778,
              "#fb9f3a"
             ],
             [
              0.8888888888888888,
              "#fdca26"
             ],
             [
              1,
              "#f0f921"
             ]
            ],
            "type": "histogram2dcontour"
           }
          ],
          "mesh3d": [
           {
            "colorbar": {
             "outlinewidth": 0,
             "ticks": ""
            },
            "type": "mesh3d"
           }
          ],
          "parcoords": [
           {
            "line": {
             "colorbar": {
              "outlinewidth": 0,
              "ticks": ""
             }
            },
            "type": "parcoords"
           }
          ],
          "pie": [
           {
            "automargin": true,
            "type": "pie"
           }
          ],
          "scatter": [
           {
            "fillpattern": {
             "fillmode": "overlay",
             "size": 10,
             "solidity": 0.2
            },
            "type": "scatter"
           }
          ],
          "scatter3d": [
           {
            "line": {
             "colorbar": {
              "outlinewidth": 0,
              "ticks": ""
             }
            },
            "marker": {
             "colorbar": {
              "outlinewidth": 0,
              "ticks": ""
             }
            },
            "type": "scatter3d"
           }
          ],
          "scattercarpet": [
           {
            "marker": {
             "colorbar": {
              "outlinewidth": 0,
              "ticks": ""
             }
            },
            "type": "scattercarpet"
           }
          ],
          "scattergeo": [
           {
            "marker": {
             "colorbar": {
              "outlinewidth": 0,
              "ticks": ""
             }
            },
            "type": "scattergeo"
           }
          ],
          "scattergl": [
           {
            "marker": {
             "colorbar": {
              "outlinewidth": 0,
              "ticks": ""
             }
            },
            "type": "scattergl"
           }
          ],
          "scattermapbox": [
           {
            "marker": {
             "colorbar": {
              "outlinewidth": 0,
              "ticks": ""
             }
            },
            "type": "scattermapbox"
           }
          ],
          "scatterpolar": [
           {
            "marker": {
             "colorbar": {
              "outlinewidth": 0,
              "ticks": ""
             }
            },
            "type": "scatterpolar"
           }
          ],
          "scatterpolargl": [
           {
            "marker": {
             "colorbar": {
              "outlinewidth": 0,
              "ticks": ""
             }
            },
            "type": "scatterpolargl"
           }
          ],
          "scatterternary": [
           {
            "marker": {
             "colorbar": {
              "outlinewidth": 0,
              "ticks": ""
             }
            },
            "type": "scatterternary"
           }
          ],
          "surface": [
           {
            "colorbar": {
             "outlinewidth": 0,
             "ticks": ""
            },
            "colorscale": [
             [
              0,
              "#0d0887"
             ],
             [
              0.1111111111111111,
              "#46039f"
             ],
             [
              0.2222222222222222,
              "#7201a8"
             ],
             [
              0.3333333333333333,
              "#9c179e"
             ],
             [
              0.4444444444444444,
              "#bd3786"
             ],
             [
              0.5555555555555556,
              "#d8576b"
             ],
             [
              0.6666666666666666,
              "#ed7953"
             ],
             [
              0.7777777777777778,
              "#fb9f3a"
             ],
             [
              0.8888888888888888,
              "#fdca26"
             ],
             [
              1,
              "#f0f921"
             ]
            ],
            "type": "surface"
           }
          ],
          "table": [
           {
            "cells": {
             "fill": {
              "color": "#EBF0F8"
             },
             "line": {
              "color": "white"
             }
            },
            "header": {
             "fill": {
              "color": "#C8D4E3"
             },
             "line": {
              "color": "white"
             }
            },
            "type": "table"
           }
          ]
         },
         "layout": {
          "annotationdefaults": {
           "arrowcolor": "#2a3f5f",
           "arrowhead": 0,
           "arrowwidth": 1
          },
          "autotypenumbers": "strict",
          "coloraxis": {
           "colorbar": {
            "outlinewidth": 0,
            "ticks": ""
           }
          },
          "colorscale": {
           "diverging": [
            [
             0,
             "#8e0152"
            ],
            [
             0.1,
             "#c51b7d"
            ],
            [
             0.2,
             "#de77ae"
            ],
            [
             0.3,
             "#f1b6da"
            ],
            [
             0.4,
             "#fde0ef"
            ],
            [
             0.5,
             "#f7f7f7"
            ],
            [
             0.6,
             "#e6f5d0"
            ],
            [
             0.7,
             "#b8e186"
            ],
            [
             0.8,
             "#7fbc41"
            ],
            [
             0.9,
             "#4d9221"
            ],
            [
             1,
             "#276419"
            ]
           ],
           "sequential": [
            [
             0,
             "#0d0887"
            ],
            [
             0.1111111111111111,
             "#46039f"
            ],
            [
             0.2222222222222222,
             "#7201a8"
            ],
            [
             0.3333333333333333,
             "#9c179e"
            ],
            [
             0.4444444444444444,
             "#bd3786"
            ],
            [
             0.5555555555555556,
             "#d8576b"
            ],
            [
             0.6666666666666666,
             "#ed7953"
            ],
            [
             0.7777777777777778,
             "#fb9f3a"
            ],
            [
             0.8888888888888888,
             "#fdca26"
            ],
            [
             1,
             "#f0f921"
            ]
           ],
           "sequentialminus": [
            [
             0,
             "#0d0887"
            ],
            [
             0.1111111111111111,
             "#46039f"
            ],
            [
             0.2222222222222222,
             "#7201a8"
            ],
            [
             0.3333333333333333,
             "#9c179e"
            ],
            [
             0.4444444444444444,
             "#bd3786"
            ],
            [
             0.5555555555555556,
             "#d8576b"
            ],
            [
             0.6666666666666666,
             "#ed7953"
            ],
            [
             0.7777777777777778,
             "#fb9f3a"
            ],
            [
             0.8888888888888888,
             "#fdca26"
            ],
            [
             1,
             "#f0f921"
            ]
           ]
          },
          "colorway": [
           "#636efa",
           "#EF553B",
           "#00cc96",
           "#ab63fa",
           "#FFA15A",
           "#19d3f3",
           "#FF6692",
           "#B6E880",
           "#FF97FF",
           "#FECB52"
          ],
          "font": {
           "color": "#2a3f5f"
          },
          "geo": {
           "bgcolor": "white",
           "lakecolor": "white",
           "landcolor": "#E5ECF6",
           "showlakes": true,
           "showland": true,
           "subunitcolor": "white"
          },
          "hoverlabel": {
           "align": "left"
          },
          "hovermode": "closest",
          "mapbox": {
           "style": "light"
          },
          "paper_bgcolor": "white",
          "plot_bgcolor": "#E5ECF6",
          "polar": {
           "angularaxis": {
            "gridcolor": "white",
            "linecolor": "white",
            "ticks": ""
           },
           "bgcolor": "#E5ECF6",
           "radialaxis": {
            "gridcolor": "white",
            "linecolor": "white",
            "ticks": ""
           }
          },
          "scene": {
           "xaxis": {
            "backgroundcolor": "#E5ECF6",
            "gridcolor": "white",
            "gridwidth": 2,
            "linecolor": "white",
            "showbackground": true,
            "ticks": "",
            "zerolinecolor": "white"
           },
           "yaxis": {
            "backgroundcolor": "#E5ECF6",
            "gridcolor": "white",
            "gridwidth": 2,
            "linecolor": "white",
            "showbackground": true,
            "ticks": "",
            "zerolinecolor": "white"
           },
           "zaxis": {
            "backgroundcolor": "#E5ECF6",
            "gridcolor": "white",
            "gridwidth": 2,
            "linecolor": "white",
            "showbackground": true,
            "ticks": "",
            "zerolinecolor": "white"
           }
          },
          "shapedefaults": {
           "line": {
            "color": "#2a3f5f"
           }
          },
          "ternary": {
           "aaxis": {
            "gridcolor": "white",
            "linecolor": "white",
            "ticks": ""
           },
           "baxis": {
            "gridcolor": "white",
            "linecolor": "white",
            "ticks": ""
           },
           "bgcolor": "#E5ECF6",
           "caxis": {
            "gridcolor": "white",
            "linecolor": "white",
            "ticks": ""
           }
          },
          "title": {
           "x": 0.05
          },
          "xaxis": {
           "automargin": true,
           "gridcolor": "white",
           "linecolor": "white",
           "ticks": "",
           "title": {
            "standoff": 15
           },
           "zerolinecolor": "white",
           "zerolinewidth": 2
          },
          "yaxis": {
           "automargin": true,
           "gridcolor": "white",
           "linecolor": "white",
           "ticks": "",
           "title": {
            "standoff": 15
           },
           "zerolinecolor": "white",
           "zerolinewidth": 2
          }
         }
        },
        "title": {
         "text": "NMF using Sentences - Coherence Score | ./31-NMF-with-Sentences\n"
        },
        "xaxis": {
         "anchor": "y",
         "domain": [
          0,
          1
         ],
         "range": [
          0,
          26
         ],
         "tickmode": "linear",
         "title": {
          "text": "k"
         },
         "type": "linear"
        },
        "yaxis": {
         "anchor": "x",
         "autorange": true,
         "domain": [
          0,
          1
         ],
         "range": [
          0.22025334833192808,
          0.46675206673110803
         ],
         "title": {
          "text": "Coherence Score"
         },
         "type": "linear"
        }
       }
      },
      "image/png": "[encoded data removed]",
      "text/html": [
       "<div>                            <div id=\"35ee133d-55e3-40c8-8420-b5f32c57032e\" class=\"plotly-graph-div\" style=\"height:525px; width:100%;\"></div>            <script type=\"text/javascript\">                require([\"plotly\"], function(Plotly) {                    window.PLOTLYENV=window.PLOTLYENV || {};                                    if (document.getElementById(\"35ee133d-55e3-40c8-8420-b5f32c57032e\")) {                    Plotly.newPlot(                        \"35ee133d-55e3-40c8-8420-b5f32c57032e\",                        [{\"hovertemplate\":\"k=%{x}<br>Coherence Score=%{y}<extra></extra>\",\"legendgroup\":\"\",\"line\":{\"color\":\"#636efa\",\"dash\":\"solid\"},\"marker\":{\"symbol\":\"circle\"},\"mode\":\"lines+markers\",\"name\":\"\",\"orientation\":\"v\",\"showlegend\":false,\"x\":[1.0,2.0,3.0,4.0,5.0,6.0,7.0,8.0,9.0,10.0,11.0,12.0,13.0,14.0,15.0,16.0,17.0,18.0,19.0,20.0,21.0,22.0,23.0,24.0,25.0],\"xaxis\":\"x\",\"y\":[0.23771367421853667,0.29587084719730417,0.3658700373414378,0.353839876172447,0.36269159010791824,0.394495350476984,0.42419626592993914,0.4202628244314765,0.4077646887063782,0.3960908607019562,0.3816411291125107,0.4230375395895114,0.41728193479156456,0.42523368207379025,0.415689010387961,0.4074303855348781,0.40717165968929303,0.40340205931909806,0.41770465080419833,0.4420783273252608,0.44929174084449947,0.43729892626019334,0.4307124964576059,0.4470082195811145,0.4459625305953847],\"yaxis\":\"y\",\"type\":\"scatter\"}],                        {\"template\":{\"data\":{\"histogram2dcontour\":[{\"type\":\"histogram2dcontour\",\"colorbar\":{\"outlinewidth\":0,\"ticks\":\"\"},\"colorscale\":[[0.0,\"#0d0887\"],[0.1111111111111111,\"#46039f\"],[0.2222222222222222,\"#7201a8\"],[0.3333333333333333,\"#9c179e\"],[0.4444444444444444,\"#bd3786\"],[0.5555555555555556,\"#d8576b\"],[0.6666666666666666,\"#ed7953\"],[0.7777777777777778,\"#fb9f3a\"],[0.8888888888888888,\"#fdca26\"],[1.0,\"#f0f921\"]]}],\"choropleth\":[{\"type\":\"choropleth\",\"colorbar\":{\"outlinewidth\":0,\"ticks\":\"\"}}],\"histogram2d\":[{\"type\":\"histogram2d\",\"colorbar\":{\"outlinewidth\":0,\"ticks\":\"\"},\"colorscale\":[[0.0,\"#0d0887\"],[0.1111111111111111,\"#46039f\"],[0.2222222222222222,\"#7201a8\"],[0.3333333333333333,\"#9c179e\"],[0.4444444444444444,\"#bd3786\"],[0.5555555555555556,\"#d8576b\"],[0.6666666666666666,\"#ed7953\"],[0.7777777777777778,\"#fb9f3a\"],[0.8888888888888888,\"#fdca26\"],[1.0,\"#f0f921\"]]}],\"heatmap\":[{\"type\":\"heatmap\",\"colorbar\":{\"outlinewidth\":0,\"ticks\":\"\"},\"colorscale\":[[0.0,\"#0d0887\"],[0.1111111111111111,\"#46039f\"],[0.2222222222222222,\"#7201a8\"],[0.3333333333333333,\"#9c179e\"],[0.4444444444444444,\"#bd3786\"],[0.5555555555555556,\"#d8576b\"],[0.6666666666666666,\"#ed7953\"],[0.7777777777777778,\"#fb9f3a\"],[0.8888888888888888,\"#fdca26\"],[1.0,\"#f0f921\"]]}],\"heatmapgl\":[{\"type\":\"heatmapgl\",\"colorbar\":{\"outlinewidth\":0,\"ticks\":\"\"},\"colorscale\":[[0.0,\"#0d0887\"],[0.1111111111111111,\"#46039f\"],[0.2222222222222222,\"#7201a8\"],[0.3333333333333333,\"#9c179e\"],[0.4444444444444444,\"#bd3786\"],[0.5555555555555556,\"#d8576b\"],[0.6666666666666666,\"#ed7953\"],[0.7777777777777778,\"#fb9f3a\"],[0.8888888888888888,\"#fdca26\"],[1.0,\"#f0f921\"]]}],\"contourcarpet\":[{\"type\":\"contourcarpet\",\"colorbar\":{\"outlinewidth\":0,\"ticks\":\"\"}}],\"contour\":[{\"type\":\"contour\",\"colorbar\":{\"outlinewidth\":0,\"ticks\":\"\"},\"colorscale\":[[0.0,\"#0d0887\"],[0.1111111111111111,\"#46039f\"],[0.2222222222222222,\"#7201a8\"],[0.3333333333333333,\"#9c179e\"],[0.4444444444444444,\"#bd3786\"],[0.5555555555555556,\"#d8576b\"],[0.6666666666666666,\"#ed7953\"],[0.7777777777777778,\"#fb9f3a\"],[0.8888888888888888,\"#fdca26\"],[1.0,\"#f0f921\"]]}],\"surface\":[{\"type\":\"surface\",\"colorbar\":{\"outlinewidth\":0,\"ticks\":\"\"},\"colorscale\":[[0.0,\"#0d0887\"],[0.1111111111111111,\"#46039f\"],[0.2222222222222222,\"#7201a8\"],[0.3333333333333333,\"#9c179e\"],[0.4444444444444444,\"#bd3786\"],[0.5555555555555556,\"#d8576b\"],[0.6666666666666666,\"#ed7953\"],[0.7777777777777778,\"#fb9f3a\"],[0.8888888888888888,\"#fdca26\"],[1.0,\"#f0f921\"]]}],\"mesh3d\":[{\"type\":\"mesh3d\",\"colorbar\":{\"outlinewidth\":0,\"ticks\":\"\"}}],\"scatter\":[{\"fillpattern\":{\"fillmode\":\"overlay\",\"size\":10,\"solidity\":0.2},\"type\":\"scatter\"}],\"parcoords\":[{\"type\":\"parcoords\",\"line\":{\"colorbar\":{\"outlinewidth\":0,\"ticks\":\"\"}}}],\"scatterpolargl\":[{\"type\":\"scatterpolargl\",\"marker\":{\"colorbar\":{\"outlinewidth\":0,\"ticks\":\"\"}}}],\"bar\":[{\"error_x\":{\"color\":\"#2a3f5f\"},\"error_y\":{\"color\":\"#2a3f5f\"},\"marker\":{\"line\":{\"color\":\"#E5ECF6\",\"width\":0.5},\"pattern\":{\"fillmode\":\"overlay\",\"size\":10,\"solidity\":0.2}},\"type\":\"bar\"}],\"scattergeo\":[{\"type\":\"scattergeo\",\"marker\":{\"colorbar\":{\"outlinewidth\":0,\"ticks\":\"\"}}}],\"scatterpolar\":[{\"type\":\"scatterpolar\",\"marker\":{\"colorbar\":{\"outlinewidth\":0,\"ticks\":\"\"}}}],\"histogram\":[{\"marker\":{\"pattern\":{\"fillmode\":\"overlay\",\"size\":10,\"solidity\":0.2}},\"type\":\"histogram\"}],\"scattergl\":[{\"type\":\"scattergl\",\"marker\":{\"colorbar\":{\"outlinewidth\":0,\"ticks\":\"\"}}}],\"scatter3d\":[{\"type\":\"scatter3d\",\"line\":{\"colorbar\":{\"outlinewidth\":0,\"ticks\":\"\"}},\"marker\":{\"colorbar\":{\"outlinewidth\":0,\"ticks\":\"\"}}}],\"scattermapbox\":[{\"type\":\"scattermapbox\",\"marker\":{\"colorbar\":{\"outlinewidth\":0,\"ticks\":\"\"}}}],\"scatterternary\":[{\"type\":\"scatterternary\",\"marker\":{\"colorbar\":{\"outlinewidth\":0,\"ticks\":\"\"}}}],\"scattercarpet\":[{\"type\":\"scattercarpet\",\"marker\":{\"colorbar\":{\"outlinewidth\":0,\"ticks\":\"\"}}}],\"carpet\":[{\"aaxis\":{\"endlinecolor\":\"#2a3f5f\",\"gridcolor\":\"white\",\"linecolor\":\"white\",\"minorgridcolor\":\"white\",\"startlinecolor\":\"#2a3f5f\"},\"baxis\":{\"endlinecolor\":\"#2a3f5f\",\"gridcolor\":\"white\",\"linecolor\":\"white\",\"minorgridcolor\":\"white\",\"startlinecolor\":\"#2a3f5f\"},\"type\":\"carpet\"}],\"table\":[{\"cells\":{\"fill\":{\"color\":\"#EBF0F8\"},\"line\":{\"color\":\"white\"}},\"header\":{\"fill\":{\"color\":\"#C8D4E3\"},\"line\":{\"color\":\"white\"}},\"type\":\"table\"}],\"barpolar\":[{\"marker\":{\"line\":{\"color\":\"#E5ECF6\",\"width\":0.5},\"pattern\":{\"fillmode\":\"overlay\",\"size\":10,\"solidity\":0.2}},\"type\":\"barpolar\"}],\"pie\":[{\"automargin\":true,\"type\":\"pie\"}]},\"layout\":{\"autotypenumbers\":\"strict\",\"colorway\":[\"#636efa\",\"#EF553B\",\"#00cc96\",\"#ab63fa\",\"#FFA15A\",\"#19d3f3\",\"#FF6692\",\"#B6E880\",\"#FF97FF\",\"#FECB52\"],\"font\":{\"color\":\"#2a3f5f\"},\"hovermode\":\"closest\",\"hoverlabel\":{\"align\":\"left\"},\"paper_bgcolor\":\"white\",\"plot_bgcolor\":\"#E5ECF6\",\"polar\":{\"bgcolor\":\"#E5ECF6\",\"angularaxis\":{\"gridcolor\":\"white\",\"linecolor\":\"white\",\"ticks\":\"\"},\"radialaxis\":{\"gridcolor\":\"white\",\"linecolor\":\"white\",\"ticks\":\"\"}},\"ternary\":{\"bgcolor\":\"#E5ECF6\",\"aaxis\":{\"gridcolor\":\"white\",\"linecolor\":\"white\",\"ticks\":\"\"},\"baxis\":{\"gridcolor\":\"white\",\"linecolor\":\"white\",\"ticks\":\"\"},\"caxis\":{\"gridcolor\":\"white\",\"linecolor\":\"white\",\"ticks\":\"\"}},\"coloraxis\":{\"colorbar\":{\"outlinewidth\":0,\"ticks\":\"\"}},\"colorscale\":{\"sequential\":[[0.0,\"#0d0887\"],[0.1111111111111111,\"#46039f\"],[0.2222222222222222,\"#7201a8\"],[0.3333333333333333,\"#9c179e\"],[0.4444444444444444,\"#bd3786\"],[0.5555555555555556,\"#d8576b\"],[0.6666666666666666,\"#ed7953\"],[0.7777777777777778,\"#fb9f3a\"],[0.8888888888888888,\"#fdca26\"],[1.0,\"#f0f921\"]],\"sequentialminus\":[[0.0,\"#0d0887\"],[0.1111111111111111,\"#46039f\"],[0.2222222222222222,\"#7201a8\"],[0.3333333333333333,\"#9c179e\"],[0.4444444444444444,\"#bd3786\"],[0.5555555555555556,\"#d8576b\"],[0.6666666666666666,\"#ed7953\"],[0.7777777777777778,\"#fb9f3a\"],[0.8888888888888888,\"#fdca26\"],[1.0,\"#f0f921\"]],\"diverging\":[[0,\"#8e0152\"],[0.1,\"#c51b7d\"],[0.2,\"#de77ae\"],[0.3,\"#f1b6da\"],[0.4,\"#fde0ef\"],[0.5,\"#f7f7f7\"],[0.6,\"#e6f5d0\"],[0.7,\"#b8e186\"],[0.8,\"#7fbc41\"],[0.9,\"#4d9221\"],[1,\"#276419\"]]},\"xaxis\":{\"gridcolor\":\"white\",\"linecolor\":\"white\",\"ticks\":\"\",\"title\":{\"standoff\":15},\"zerolinecolor\":\"white\",\"automargin\":true,\"zerolinewidth\":2},\"yaxis\":{\"gridcolor\":\"white\",\"linecolor\":\"white\",\"ticks\":\"\",\"title\":{\"standoff\":15},\"zerolinecolor\":\"white\",\"automargin\":true,\"zerolinewidth\":2},\"scene\":{\"xaxis\":{\"backgroundcolor\":\"#E5ECF6\",\"gridcolor\":\"white\",\"linecolor\":\"white\",\"showbackground\":true,\"ticks\":\"\",\"zerolinecolor\":\"white\",\"gridwidth\":2},\"yaxis\":{\"backgroundcolor\":\"#E5ECF6\",\"gridcolor\":\"white\",\"linecolor\":\"white\",\"showbackground\":true,\"ticks\":\"\",\"zerolinecolor\":\"white\",\"gridwidth\":2},\"zaxis\":{\"backgroundcolor\":\"#E5ECF6\",\"gridcolor\":\"white\",\"linecolor\":\"white\",\"showbackground\":true,\"ticks\":\"\",\"zerolinecolor\":\"white\",\"gridwidth\":2}},\"shapedefaults\":{\"line\":{\"color\":\"#2a3f5f\"}},\"annotationdefaults\":{\"arrowcolor\":\"#2a3f5f\",\"arrowhead\":0,\"arrowwidth\":1},\"geo\":{\"bgcolor\":\"white\",\"landcolor\":\"#E5ECF6\",\"subunitcolor\":\"white\",\"showland\":true,\"showlakes\":true,\"lakecolor\":\"white\"},\"title\":{\"x\":0.05},\"mapbox\":{\"style\":\"light\"}}},\"xaxis\":{\"anchor\":\"y\",\"domain\":[0.0,1.0],\"title\":{\"text\":\"k\"},\"range\":[0,26],\"tickmode\":\"linear\"},\"yaxis\":{\"anchor\":\"x\",\"domain\":[0.0,1.0],\"title\":{\"text\":\"Coherence Score\"}},\"legend\":{\"tracegroupgap\":0},\"title\":{\"text\":\"NMF using Sentences - Coherence Score | ./31-NMF-with-Sentences\\n\"}},                        {\"responsive\": true}                    ).then(function(){\n",
       "                            \n",
       "var gd = document.getElementById('35ee133d-55e3-40c8-8420-b5f32c57032e');\n",
       "var x = new MutationObserver(function (mutations, observer) {{\n",
       "        var display = window.getComputedStyle(gd).display;\n",
       "        if (!display || display === 'none') {{\n",
       "            console.log([gd, 'removed!']);\n",
       "            Plotly.purge(gd);\n",
       "            observer.disconnect();\n",
       "        }}\n",
       "}});\n",
       "\n",
       "// Listen for the removal of the full notebook cells\n",
       "var notebookContainer = gd.closest('#notebook-container');\n",
       "if (notebookContainer) {{\n",
       "    x.observe(notebookContainer, {childList: true});\n",
       "}}\n",
       "\n",
       "// Listen for the clearing of the current output cell\n",
       "var outputEl = gd.closest('.output');\n",
       "if (outputEl) {{\n",
       "    x.observe(outputEl, {childList: true});\n",
       "}}\n",
       "\n",
       "                        })                };                });            </script>        </div>"
      ]
     },
     "metadata": {},
     "output_type": "display_data"
    }
   ],
   "source": [
    "import plotly.express as px\n",
    "\n",
    "fig_1 = px.line(\n",
    "    coherence_scores_df, \n",
    "    x='k', \n",
    "    y='Coherence Score', \n",
    "    title=f\"NMF using Sentences - Coherence Score | {working_directory}\\n\"\n",
    ")\n",
    "\n",
    "# add markers for each point\n",
    "fig_1.update_traces(mode='lines+markers')\n",
    "\n",
    "# extend the limits of the x-axis from 0 to 16\n",
    "fig_1.update_xaxes(range=[0, max_topics + 1])\n",
    "\n",
    "# show all numbers on the x-axis\n",
    "fig_1.update_layout(xaxis=dict(tickmode='linear'))\n",
    "\n",
    "# write the graph to a file in the working directory\n",
    "fig_1.write_html(f\"{working_directory}/nmf_using_sentences_coherence_scores_chart.html\")\n",
    "\n",
    "# show the plot\n",
    "fig_1.show()"
   ]
  },
  {
   "cell_type": "code",
   "execution_count": 27,
   "id": "14506d9f-86be-4dd8-bbdb-89d0c4efb07d",
   "metadata": {
    "tags": []
   },
   "outputs": [
    {
     "name": "stdout",
     "output_type": "stream",
     "text": [
      "Highest Coherence Score: 21.0 = 0.44929174084449947\n"
     ]
    }
   ],
   "source": [
    "# Select the highest score\n",
    "\n",
    "# Sort the dataframe by Coherence Score in descending order\n",
    "sorted_df = coherence_scores_df.sort_values(by='Coherence Score', ascending=False)\n",
    "\n",
    "# Pick the value of k from the first row of the sorted dataframe\n",
    "selected_k = sorted_df.iloc[0]['k']\n",
    "\n",
    "print(f\"Highest Coherence Score: {selected_k} = {sorted_df.iloc[0]['Coherence Score']}\")"
   ]
  },
  {
   "cell_type": "code",
   "execution_count": 44,
   "id": "3de6f332-5551-499f-a4fe-57386db17679",
   "metadata": {
    "tags": []
   },
   "outputs": [],
   "source": [
    "# Create an NMF model using the selected k\n",
    "nmf_model = NMF(\n",
    "    n_components=int(selected_k),\n",
    "    random_state=random_state, \n",
    "    init='nndsvda'\n",
    ")\n",
    "    \n",
    "nmf = nmf_model.fit_transform(vectorized_sentences)\n",
    "\n",
    "vocab = vectorizer.get_feature_names_out()\n",
    "\n",
    "topics_df = pd.DataFrame(columns=['Topic', f\"Top {num_top_words} Words\"])\n",
    "\n",
    "# get the topics and top words\n",
    "for topic_index, topic in enumerate(nmf_model.components_):\n",
    "    top_words = [vocab[i] for i in topic.argsort()[:-num_top_words - 1:-1]]\n",
    "    topics.append(top_words)\n",
    "    selected_words = \", \".join([vocab[i] for i in topic.argsort()[:-num_top_words - 1:-1]])\n",
    "\n",
    "    topics_df = topics_df.append(\n",
    "        pd.Series(\n",
    "            [topic_index + 1, selected_words], \n",
    "            index=topics_df.columns\n",
    "        ), \n",
    "        ignore_index=True\n",
    "    )"
   ]
  },
  {
   "cell_type": "code",
   "execution_count": 47,
   "id": "519dbd6e-b7fd-4878-835a-d4d18e4934e5",
   "metadata": {
    "tags": []
   },
   "outputs": [
    {
     "data": {
      "text/html": [
       "<div>\n",
       "<style scoped>\n",
       "    .dataframe tbody tr th:only-of-type {\n",
       "        vertical-align: middle;\n",
       "    }\n",
       "\n",
       "    .dataframe tbody tr th {\n",
       "        vertical-align: top;\n",
       "    }\n",
       "\n",
       "    .dataframe thead th {\n",
       "        text-align: right;\n",
       "    }\n",
       "</style>\n",
       "<table border=\"1\" class=\"dataframe\">\n",
       "  <thead>\n",
       "    <tr style=\"text-align: right;\">\n",
       "      <th></th>\n",
       "      <th>Topic</th>\n",
       "      <th>Top 10 Words</th>\n",
       "    </tr>\n",
       "  </thead>\n",
       "  <tbody>\n",
       "    <tr>\n",
       "      <th>0</th>\n",
       "      <td>1</td>\n",
       "      <td>injury, intervention, medical, report, alert, receive, adverse, impact, expiration, lose</td>\n",
       "    </tr>\n",
       "    <tr>\n",
       "      <th>1</th>\n",
       "      <td>2</td>\n",
       "      <td>probable, determine, cause, battery, low, data, transmitter, allegation, mobile, defective</td>\n",
       "    </tr>\n",
       "    <tr>\n",
       "      <th>2</th>\n",
       "      <td>3</td>\n",
       "      <td>hour, signal, loss, occur, report, greater, connection, application, lose, relate</td>\n",
       "    </tr>\n",
       "    <tr>\n",
       "      <th>3</th>\n",
       "      <td>4</td>\n",
       "      <td>confirm, allegation, data, undetermined, greater, message, addition, early, expiration, problem</td>\n",
       "    </tr>\n",
       "    <tr>\n",
       "      <th>4</th>\n",
       "      <td>5</td>\n",
       "      <td>provide, evaluation, data, product, receive, investigation, pending, supplemental, submit, reflect</td>\n",
       "    </tr>\n",
       "    <tr>\n",
       "      <th>5</th>\n",
       "      <td>6</td>\n",
       "      <td>fail, error, transmitter, occur, report, receive, customer, battery, low, alert</td>\n",
       "    </tr>\n",
       "    <tr>\n",
       "      <th>6</th>\n",
       "      <td>7</td>\n",
       "      <td>review, log, share, window, investigation, perform, loss, signal, connection, allege</td>\n",
       "    </tr>\n",
       "    <tr>\n",
       "      <th>7</th>\n",
       "      <td>8</td>\n",
       "      <td>additional, patient, event, available, information, close, mobile, misuse, app, reportable</td>\n",
       "    </tr>\n",
       "    <tr>\n",
       "      <th>8</th>\n",
       "      <td>9</td>\n",
       "      <td>evaluate, data, product, undetermined, receive, investigation, session, support, greater, message</td>\n",
       "    </tr>\n",
       "    <tr>\n",
       "      <th>9</th>\n",
       "      <td>10</td>\n",
       "      <td>supplemental, submit, relevant, new, available, information, report, receive, evaluation, perform</td>\n",
       "    </tr>\n",
       "    <tr>\n",
       "      <th>10</th>\n",
       "      <td>11</td>\n",
       "      <td>return, product, evaluation, evaluate, expect, allege, present, pending, device, receive</td>\n",
       "    </tr>\n",
       "    <tr>\n",
       "      <th>11</th>\n",
       "      <td>12</td>\n",
       "      <td>read, glucose, bg, meter, cgm, continuous, monitor, blood, inaccuracy, mgdl</td>\n",
       "    </tr>\n",
       "    <tr>\n",
       "      <th>12</th>\n",
       "      <td>13</td>\n",
       "      <td>customer, replacement, send, transmitter, sensor, receive, id, invalid, alert, use</td>\n",
       "    </tr>\n",
       "    <tr>\n",
       "      <th>13</th>\n",
       "      <td>14</td>\n",
       "      <td>root, determine, cause, application, relate, mobile, loss, connection, servers, transfer</td>\n",
       "    </tr>\n",
       "    <tr>\n",
       "      <th>14</th>\n",
       "      <td>15</td>\n",
       "      <td>visual, inspection, pass, external, perform, externalexterior, pair, testdownload, bluetooth, exterior</td>\n",
       "    </tr>\n",
       "    <tr>\n",
       "      <th>15</th>\n",
       "      <td>16</td>\n",
       "      <td>connection, transmitter, app, unable, establish, pump, lose, probable, greater, cause</td>\n",
       "    </tr>\n",
       "    <tr>\n",
       "      <th>16</th>\n",
       "      <td>17</td>\n",
       "      <td>device, receive, operate, specification, expect, return, indicate, smart, usage, supplemental</td>\n",
       "    </tr>\n",
       "    <tr>\n",
       "      <th>17</th>\n",
       "      <td>18</td>\n",
       "      <td>confirmation, allegation, undetermined, determine, probable, cause, issue, complaint, addition, connection</td>\n",
       "    </tr>\n",
       "    <tr>\n",
       "      <th>18</th>\n",
       "      <td>19</td>\n",
       "      <td>sensor, insert, abdomen, expiration, early, occur, report, session, replace, wire</td>\n",
       "    </tr>\n",
       "    <tr>\n",
       "      <th>19</th>\n",
       "      <td>20</td>\n",
       "      <td>value, fall, grid, park, zone, glucose, error, report, difference, investigation</td>\n",
       "    </tr>\n",
       "    <tr>\n",
       "      <th>20</th>\n",
       "      <td>21</td>\n",
       "      <td>voltage, test, perform, pass, fail, pair, check, vdc, measurement, bluetooth</td>\n",
       "    </tr>\n",
       "  </tbody>\n",
       "</table>\n",
       "</div>"
      ],
      "text/plain": [
       "   Topic  \\\n",
       "0      1   \n",
       "1      2   \n",
       "2      3   \n",
       "3      4   \n",
       "4      5   \n",
       "5      6   \n",
       "6      7   \n",
       "7      8   \n",
       "8      9   \n",
       "9     10   \n",
       "10    11   \n",
       "11    12   \n",
       "12    13   \n",
       "13    14   \n",
       "14    15   \n",
       "15    16   \n",
       "16    17   \n",
       "17    18   \n",
       "18    19   \n",
       "19    20   \n",
       "20    21   \n",
       "\n",
       "                                                                                                  Top 10 Words  \n",
       "0                     injury, intervention, medical, report, alert, receive, adverse, impact, expiration, lose  \n",
       "1                   probable, determine, cause, battery, low, data, transmitter, allegation, mobile, defective  \n",
       "2                            hour, signal, loss, occur, report, greater, connection, application, lose, relate  \n",
       "3              confirm, allegation, data, undetermined, greater, message, addition, early, expiration, problem  \n",
       "4           provide, evaluation, data, product, receive, investigation, pending, supplemental, submit, reflect  \n",
       "5                              fail, error, transmitter, occur, report, receive, customer, battery, low, alert  \n",
       "6                         review, log, share, window, investigation, perform, loss, signal, connection, allege  \n",
       "7                   additional, patient, event, available, information, close, mobile, misuse, app, reportable  \n",
       "8            evaluate, data, product, undetermined, receive, investigation, session, support, greater, message  \n",
       "9            supplemental, submit, relevant, new, available, information, report, receive, evaluation, perform  \n",
       "10                    return, product, evaluation, evaluate, expect, allege, present, pending, device, receive  \n",
       "11                                 read, glucose, bg, meter, cgm, continuous, monitor, blood, inaccuracy, mgdl  \n",
       "12                          customer, replacement, send, transmitter, sensor, receive, id, invalid, alert, use  \n",
       "13                    root, determine, cause, application, relate, mobile, loss, connection, servers, transfer  \n",
       "14      visual, inspection, pass, external, perform, externalexterior, pair, testdownload, bluetooth, exterior  \n",
       "15                       connection, transmitter, app, unable, establish, pump, lose, probable, greater, cause  \n",
       "16               device, receive, operate, specification, expect, return, indicate, smart, usage, supplemental  \n",
       "17  confirmation, allegation, undetermined, determine, probable, cause, issue, complaint, addition, connection  \n",
       "18                           sensor, insert, abdomen, expiration, early, occur, report, session, replace, wire  \n",
       "19                            value, fall, grid, park, zone, glucose, error, report, difference, investigation  \n",
       "20                                voltage, test, perform, pass, fail, pair, check, vdc, measurement, bluetooth  "
      ]
     },
     "metadata": {},
     "output_type": "display_data"
    }
   ],
   "source": [
    "with pd.option_context('display.max_colwidth', None):\n",
    "    display(topics_df)"
   ]
  },
  {
   "cell_type": "code",
   "execution_count": 49,
   "id": "7b6e4142-e0e7-4145-97dd-3a60d7f082c1",
   "metadata": {
    "tags": []
   },
   "outputs": [],
   "source": [
    "# save the topics_df code to a file as HTML\n",
    "with open(f\"{working_directory}/nmf_using_sentences_topics_and_words_table.html\", 'w') as f:\n",
    "    f.write(topics_df.to_html(index=False))"
   ]
  },
  {
   "cell_type": "code",
   "execution_count": 36,
   "id": "c44d34c9-58e1-43f7-a0e3-680676a73591",
   "metadata": {
    "tags": []
   },
   "outputs": [],
   "source": [
    "# Write the sentences dataframe to a CSV file\n",
    "sentences_df.to_csv(f\"{working_directory}/sentences_dataframe.csv\", index=False)"
   ]
  },
  {
   "cell_type": "code",
   "execution_count": 43,
   "id": "81043146-25f2-42de-8010-9edd7c4c7657",
   "metadata": {
    "tags": []
   },
   "outputs": [
    {
     "name": "stdout",
     "output_type": "stream",
     "text": [
      "upload: 31-NMF-with-Sentences/.ipynb_checkpoints/nmf_using_sentences_coherence_scores_chart-checkpoint.html to s3://praxis-2023-html-output/31-NMF-with-Sentences/.ipynb_checkpoints/nmf_using_sentences_coherence_scores_chart-checkpoint.html\n",
      "upload: 31-NMF-with-Sentences/.ipynb_checkpoints/nmf_using_sentences_topics_table-checkpoint.html to s3://praxis-2023-html-output/31-NMF-with-Sentences/.ipynb_checkpoints/nmf_using_sentences_topics_table-checkpoint.html\n",
      "upload: 31-NMF-with-Sentences/nmf_using_sentences_coherence_scores_chart.html to s3://praxis-2023-html-output/31-NMF-with-Sentences/nmf_using_sentences_coherence_scores_chart.html\n",
      "upload: 31-NMF-with-Sentences/nmf_using_sentences_topics_table.html to s3://praxis-2023-html-output/31-NMF-with-Sentences/nmf_using_sentences_topics_table.html\n",
      "upload: ./index.html to s3://praxis-2023-html-output/index.html\n",
      "upload: 31-NMF-with-Sentences/nmf_using_sentences_coherence_scores.html to s3://praxis-2023-html-output/31-NMF-with-Sentences/nmf_using_sentences_coherence_scores.html\n",
      "\n",
      "fin\n"
     ]
    }
   ],
   "source": [
    "import os\n",
    "import fnmatch\n",
    "import subprocess\n",
    "\n",
    "bucket = \"praxis-2023-html-output\"\n",
    "website = f\"http://{bucket}.s3-website-us-west-2.amazonaws.com\"\n",
    "\n",
    "# Use the fnmatch module to find all files in the current directory that end in \".html\"\n",
    "file_list = []\n",
    "for root, dirnames, filenames in os.walk(\".\"):\n",
    "    for filename in fnmatch.filter(filenames, '*.html'):\n",
    "        file_list.append(os.path.join(root, filename))\n",
    "\n",
    "# Sort the file list alphabetically\n",
    "file_list.sort()\n",
    "\n",
    "# Create the HTML file and write the header\n",
    "with open(os.path.join(\".\", 'index.html'), 'w') as f:\n",
    "    f.write('''<html>\n",
    "        <head>\n",
    "            <title>Praxis 2023 HTML Output</title>\n",
    "            <style>\n",
    "                table {\n",
    "                    border-collapse: collapse;\n",
    "                    width: 100%;\n",
    "                }\n",
    "                th, td {\n",
    "                    text-align: left;\n",
    "                    padding: 8px;\n",
    "                }\n",
    "                th {\n",
    "                    background-color: #007bff;\n",
    "                    color: #fff;\n",
    "                    font-weight: bold;\n",
    "                }\n",
    "                tr:nth-child(even) {\n",
    "                    background-color: #f2f2f2;\n",
    "                }\n",
    "                tr:hover {\n",
    "                    background-color: #ddd;\n",
    "                }\n",
    "            </style>\n",
    "        </head>\n",
    "        <body>\n",
    "            <table>\n",
    "                <tr><th>Name</th><th>Size</th></tr>\\n\n",
    "    ''')\n",
    "\n",
    "    # Loop through each file and add a row to the table\n",
    "    for file_name in file_list:\n",
    "        if file_name in ['./index.html']:\n",
    "            continue\n",
    "            \n",
    "        file_size = os.path.getsize(file_name)\n",
    "        f.write(f'<tr><td><a href=\"{website}/{file_name}\" target=\"_blank\" rel=\"noopener noreferrer\">{file_name}</a></td><td>{int(file_size / 1048576)} MB</td></tr>\\n')\n",
    "\n",
    "    # Write the footer and close the file\n",
    "    f.write('</table></body></html>')\n",
    "\n",
    "command = [\"aws\", \"s3\", \"sync\", \".\", f\"s3://{bucket}\", \"--exclude\", \"*\", \"--include\", \"*.html\", \"--no-progress\"]\n",
    "\n",
    "# Run the command and wait for it to complete\n",
    "output = subprocess.run(command, capture_output=True, text=True)\n",
    "\n",
    "# Print the output\n",
    "print(output.stdout)\n",
    "print('fin')"
   ]
  },
  {
   "cell_type": "code",
   "execution_count": null,
   "id": "91b0021b-3fb2-4dec-abb3-99f22adf6971",
   "metadata": {},
   "outputs": [],
   "source": []
  }
 ],
 "metadata": {
  "kernelspec": {
   "display_name": "conda_amazonei_pytorch_latest_p37",
   "language": "python",
   "name": "conda_amazonei_pytorch_latest_p37"
  },
  "language_info": {
   "codemirror_mode": {
    "name": "ipython",
    "version": 3
   },
   "file_extension": ".py",
   "mimetype": "text/x-python",
   "name": "python",
   "nbconvert_exporter": "python",
   "pygments_lexer": "ipython3",
   "version": "3.7.10"
  }
 },
 "nbformat": 4,
 "nbformat_minor": 5
}
