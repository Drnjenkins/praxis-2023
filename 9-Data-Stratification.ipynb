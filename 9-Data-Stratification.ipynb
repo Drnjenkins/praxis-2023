{
 "cells": [
  {
   "cell_type": "markdown",
   "metadata": {},
   "source": [
    "# Data Stratification\n",
    "\n",
    "## Goals and Questions: \n",
    "1. Identify what is obvious in the FOI text and if the unstructured data provides something\n",
    "to predict\n",
    "    1. What is the pattern that exists in the data and how can I identify it as a human?\n",
    "    1. Based on the previous question's analysis, determine the sophistication of the model that needs to be developed. ie, if text contains “could not be determined” then label the row inconclusive\n",
    "1. Create a piece of code to sample the data across device problem text so that you can examine as a human any patterns that might tie instances of FOI text that results in each category of Device Problem Text (see below for code notes)\n",
    "    1. Use stratification across years, FOI text, and device problem code\n",
    "        1. Why is this categorized as a device problem text?\n",
    "        1. Why do these share this category\n",
    "        1. Is there something across all of these that would make me categorize it as\n",
    "component failure, inconclusive, or not-component failure?\n",
    "1. Determine if simple rules will suffice or if more processing is needed"
   ]
  },
  {
   "cell_type": "markdown",
   "metadata": {},
   "source": [
    "## Code Notes\n",
    "Code notes: Stratify and Analyze\n",
    "\n",
    "1. Start with 2020 and 2021 clean data\n",
    "2. Look at the top 5 DEVICE_REPORT_PRODUCT_CODE\n",
    "    1. Remove any that are not assemblies/systems\n",
    "3. Look at the top 5 DEVICE_PROBLEM_TEXT\n",
    "4. Randomly pick 10 from each of the top 5 DEVICE_PROBLEM_TEXT for a total\n",
    "of 50 records"
   ]
  },
  {
   "cell_type": "code",
   "execution_count": 1,
   "metadata": {},
   "outputs": [],
   "source": [
    "from zipfile import ZipFile\n",
    "\n",
    "import pandas as pd\n",
    "import os\n",
    "import csv\n",
    "\n",
    "# Identify the working directory and data files\n",
    "working_directory = './data_stratification'\n",
    "\n",
    "# 1. Start with 2020 and 2021 clean data\n",
    "data_file_2020 = \"./2020_clean/2020_data_clean.csv\"\n",
    "data_file_2021 = \"./2021_clean/2021_data_clean.csv\"\n",
    "\n",
    "# Create the working directory if needed\n",
    "try:\n",
    "    os.makedirs(working_directory, exist_ok=True)\n",
    "except OSError as error:\n",
    "    print(f\"Error creating {working_directory}: {error}\")"
   ]
  },
  {
   "cell_type": "code",
   "execution_count": 2,
   "metadata": {},
   "outputs": [],
   "source": [
    "# Read the data into a pandas dataframe\n",
    "data_2020 = pd.read_csv(data_file_2020, # The data file being read, from the variable assignment above\n",
    "                   on_bad_lines='warn', # This tells Pandas to only warn on bad lines vs causing an error\n",
    "                   dtype = 'str')       # This tells Pandas to treat all numbers as words\n",
    "\n"
   ]
  },
  {
   "cell_type": "code",
   "execution_count": 3,
   "metadata": {},
   "outputs": [],
   "source": [
    "# Read the data into a pandas dataframe\n",
    "data_2021 = pd.read_csv(data_file_2021, # The data file being read, from the variable assignment above\n",
    "                   on_bad_lines='warn', # This tells Pandas to only warn on bad lines vs causing an error\n",
    "                   dtype = 'str')       # This tells Pandas to treat all numbers as words"
   ]
  },
  {
   "cell_type": "code",
   "execution_count": 54,
   "metadata": {},
   "outputs": [],
   "source": [
    "# 2. Look at the top 5 DEVICE_REPORT_PRODUCT_CODE\n",
    "product_code_occurrences_2020 = data_2020.groupby(['DEVICE_REPORT_PRODUCT_CODE']).size().to_frame('COUNT')"
   ]
  },
  {
   "cell_type": "code",
   "execution_count": 53,
   "metadata": {},
   "outputs": [],
   "source": [
    "# 2. Look at the top 5 DEVICE_REPORT_PRODUCT_CODE\n",
    "product_code_occurrences_2021 = data_2021.groupby(['DEVICE_REPORT_PRODUCT_CODE']).size().to_frame('COUNT')"
   ]
  },
  {
   "cell_type": "code",
   "execution_count": 55,
   "metadata": {},
   "outputs": [],
   "source": [
    "# Read the product code definitions; Unzip the foiclass_zip files into the working directory\n",
    "with ZipFile('./data/foiclass.zip', \"r\") as zip:\n",
    "    zip.extractall(f\"{working_directory}\")"
   ]
  },
  {
   "cell_type": "code",
   "execution_count": 38,
   "metadata": {},
   "outputs": [],
   "source": [
    "# Read the product code definitions into a pandas dataframe\n",
    "foi_class = pd.read_csv(f\"{working_directory}/foiclass.txt\", \n",
    "                        sep=\"|\",\n",
    "                        encoding=\"ISO-8859-1\",\n",
    "                        on_bad_lines='warn',\n",
    "                        dtype = 'str')"
   ]
  },
  {
   "cell_type": "code",
   "execution_count": 42,
   "metadata": {},
   "outputs": [],
   "source": [
    "# Identify the unwanted columns\n",
    "unwanted_columns = [\n",
    "    'REVIEW_PANEL',\n",
    "    'MEDICALSPECIALTY',\n",
    "    'UNCLASSIFIED_REASON',\n",
    "    'GMPEXEMPTFLAG',\n",
    "    'THIRDPARTYFLAG',\n",
    "    'REVIEWCODE',\n",
    "    'REGULATIONNUMBER',\n",
    "    'SUBMISSION_TYPE_ID',\n",
    "    'DEFINITION',\n",
    "    'PHYSICALSTATE',\n",
    "    'TECHNICALMETHOD',\n",
    "    'TARGETAREA',\n",
    "    'Implant_Flag',\n",
    "    'Life_Sustain_support_flag',\n",
    "    'SummaryMalfunctionReporting',\n",
    "]\n",
    "\n",
    "# Remove the unwanted columns from the device dataframe\n",
    "foi_class_drop_columns = foi_class.drop(unwanted_columns, axis=1)"
   ]
  },
  {
   "cell_type": "code",
   "execution_count": 65,
   "metadata": {},
   "outputs": [],
   "source": [
    "# Rename the 'PRODUCTCODE' column to match the clean data\n",
    "foi_class_clean = foi_class_drop_columns.rename(columns={'PRODUCTCODE': 'DEVICE_REPORT_PRODUCT_CODE'})"
   ]
  },
  {
   "cell_type": "code",
   "execution_count": 67,
   "metadata": {},
   "outputs": [],
   "source": [
    "# Merge the clean data's product code counts with the FOI class\n",
    "product_code_occurrences_2020_merged = pd.merge(\n",
    "        product_code_occurrences_2020, \n",
    "        foi_class_clean, \n",
    "        on=\"DEVICE_REPORT_PRODUCT_CODE\", \n",
    "        how=\"inner\")\n"
   ]
  },
  {
   "cell_type": "code",
   "execution_count": 68,
   "metadata": {},
   "outputs": [],
   "source": [
    "# Merge the clean data's product code counts with the FOI class\n",
    "product_code_occurrences_2021_merged = pd.merge(\n",
    "        product_code_occurrences_2021, \n",
    "        foi_class_clean, \n",
    "        on=\"DEVICE_REPORT_PRODUCT_CODE\", \n",
    "        how=\"inner\")"
   ]
  },
  {
   "cell_type": "code",
   "execution_count": 62,
   "metadata": {},
   "outputs": [
    {
     "data": {
      "text/html": [
       "<div>\n",
       "<style scoped>\n",
       "    .dataframe tbody tr th:only-of-type {\n",
       "        vertical-align: middle;\n",
       "    }\n",
       "\n",
       "    .dataframe tbody tr th {\n",
       "        vertical-align: top;\n",
       "    }\n",
       "\n",
       "    .dataframe thead th {\n",
       "        text-align: right;\n",
       "    }\n",
       "</style>\n",
       "<table border=\"1\" class=\"dataframe\">\n",
       "  <thead>\n",
       "    <tr style=\"text-align: right;\">\n",
       "      <th></th>\n",
       "      <th>DEVICE_REPORT_PRODUCT_CODE</th>\n",
       "      <th>COUNT</th>\n",
       "      <th>DEVICENAME</th>\n",
       "      <th>DEVICECLASS</th>\n",
       "    </tr>\n",
       "  </thead>\n",
       "  <tbody>\n",
       "    <tr>\n",
       "      <th>222</th>\n",
       "      <td>DZE</td>\n",
       "      <td>354972</td>\n",
       "      <td>Implant, Endosseous, Root-Form</td>\n",
       "      <td>2</td>\n",
       "    </tr>\n",
       "    <tr>\n",
       "      <th>1936</th>\n",
       "      <td>QBJ</td>\n",
       "      <td>276350</td>\n",
       "      <td>Integrated Continuous Glucose Monitoring Syste...</td>\n",
       "      <td>2</td>\n",
       "    </tr>\n",
       "    <tr>\n",
       "      <th>1781</th>\n",
       "      <td>OZP</td>\n",
       "      <td>269978</td>\n",
       "      <td>Automated Insulin Dosing Device System, Single...</td>\n",
       "      <td>3</td>\n",
       "    </tr>\n",
       "    <tr>\n",
       "      <th>450</th>\n",
       "      <td>FRN</td>\n",
       "      <td>256585</td>\n",
       "      <td>Pump, Infusion</td>\n",
       "      <td>2</td>\n",
       "    </tr>\n",
       "    <tr>\n",
       "      <th>1780</th>\n",
       "      <td>OZO</td>\n",
       "      <td>236061</td>\n",
       "      <td>Automated Insulin Dosing , Threshold Suspend</td>\n",
       "      <td>3</td>\n",
       "    </tr>\n",
       "  </tbody>\n",
       "</table>\n",
       "</div>"
      ],
      "text/plain": [
       "     DEVICE_REPORT_PRODUCT_CODE   COUNT  \\\n",
       "222                         DZE  354972   \n",
       "1936                        QBJ  276350   \n",
       "1781                        OZP  269978   \n",
       "450                         FRN  256585   \n",
       "1780                        OZO  236061   \n",
       "\n",
       "                                             DEVICENAME DEVICECLASS  \n",
       "222                      Implant, Endosseous, Root-Form           2  \n",
       "1936  Integrated Continuous Glucose Monitoring Syste...           2  \n",
       "1781  Automated Insulin Dosing Device System, Single...           3  \n",
       "450                                      Pump, Infusion           2  \n",
       "1780       Automated Insulin Dosing , Threshold Suspend           3  "
      ]
     },
     "execution_count": 62,
     "metadata": {},
     "output_type": "execute_result"
    }
   ],
   "source": [
    "product_code_occurrences_2020_merged.sort_values(by=['COUNT'], ascending=False).head(5)"
   ]
  },
  {
   "cell_type": "code",
   "execution_count": 63,
   "metadata": {},
   "outputs": [
    {
     "data": {
      "text/html": [
       "<div>\n",
       "<style scoped>\n",
       "    .dataframe tbody tr th:only-of-type {\n",
       "        vertical-align: middle;\n",
       "    }\n",
       "\n",
       "    .dataframe tbody tr th {\n",
       "        vertical-align: top;\n",
       "    }\n",
       "\n",
       "    .dataframe thead th {\n",
       "        text-align: right;\n",
       "    }\n",
       "</style>\n",
       "<table border=\"1\" class=\"dataframe\">\n",
       "  <thead>\n",
       "    <tr style=\"text-align: right;\">\n",
       "      <th></th>\n",
       "      <th>DEVICE_REPORT_PRODUCT_CODE</th>\n",
       "      <th>COUNT</th>\n",
       "      <th>DEVICENAME</th>\n",
       "      <th>DEVICECLASS</th>\n",
       "    </tr>\n",
       "  </thead>\n",
       "  <tbody>\n",
       "    <tr>\n",
       "      <th>230</th>\n",
       "      <td>DZE</td>\n",
       "      <td>690942</td>\n",
       "      <td>Implant, Endosseous, Root-Form</td>\n",
       "      <td>2</td>\n",
       "    </tr>\n",
       "    <tr>\n",
       "      <th>455</th>\n",
       "      <td>FRN</td>\n",
       "      <td>529091</td>\n",
       "      <td>Pump, Infusion</td>\n",
       "      <td>2</td>\n",
       "    </tr>\n",
       "    <tr>\n",
       "      <th>1986</th>\n",
       "      <td>QBJ</td>\n",
       "      <td>297367</td>\n",
       "      <td>Integrated Continuous Glucose Monitoring Syste...</td>\n",
       "      <td>2</td>\n",
       "    </tr>\n",
       "    <tr>\n",
       "      <th>1824</th>\n",
       "      <td>OZP</td>\n",
       "      <td>203393</td>\n",
       "      <td>Automated Insulin Dosing Device System, Single...</td>\n",
       "      <td>3</td>\n",
       "    </tr>\n",
       "    <tr>\n",
       "      <th>2002</th>\n",
       "      <td>QFG</td>\n",
       "      <td>176681</td>\n",
       "      <td>Alternate Controller Enabled Insulin Infusion ...</td>\n",
       "      <td>2</td>\n",
       "    </tr>\n",
       "  </tbody>\n",
       "</table>\n",
       "</div>"
      ],
      "text/plain": [
       "     DEVICE_REPORT_PRODUCT_CODE   COUNT  \\\n",
       "230                         DZE  690942   \n",
       "455                         FRN  529091   \n",
       "1986                        QBJ  297367   \n",
       "1824                        OZP  203393   \n",
       "2002                        QFG  176681   \n",
       "\n",
       "                                             DEVICENAME DEVICECLASS  \n",
       "230                      Implant, Endosseous, Root-Form           2  \n",
       "455                                      Pump, Infusion           2  \n",
       "1986  Integrated Continuous Glucose Monitoring Syste...           2  \n",
       "1824  Automated Insulin Dosing Device System, Single...           3  \n",
       "2002  Alternate Controller Enabled Insulin Infusion ...           2  "
      ]
     },
     "execution_count": 63,
     "metadata": {},
     "output_type": "execute_result"
    }
   ],
   "source": [
    "product_code_occurrences_2021_merged.sort_values(by=['COUNT'], ascending=False).head(5)"
   ]
  },
  {
   "cell_type": "code",
   "execution_count": 64,
   "metadata": {},
   "outputs": [],
   "source": [
    "# Write the data to disk\n",
    "product_code_occurrences_2020_merged.sort_values(by=['COUNT'], ascending=False).head(5).to_csv(f\"{working_directory}/2020_device_product_code_counts.csv\")\n",
    "product_code_occurrences_2021_merged.sort_values(by=['COUNT'], ascending=False).head(5).to_csv(f\"{working_directory}/2021_device_product_code_counts.csv\")"
   ]
  }
 ],
 "metadata": {
  "kernelspec": {
   "display_name": "conda_amazonei_pytorch_latest_p37",
   "language": "python",
   "name": "conda_amazonei_pytorch_latest_p37"
  },
  "language_info": {
   "codemirror_mode": {
    "name": "ipython",
    "version": 3
   },
   "file_extension": ".py",
   "mimetype": "text/x-python",
   "name": "python",
   "nbconvert_exporter": "python",
   "pygments_lexer": "ipython3",
   "version": "3.7.12"
  },
  "vscode": {
   "interpreter": {
    "hash": "0df23e0b8587652e8947bf433502af00ecfb3462d59e71e7bba71c0280b5fb19"
   }
  }
 },
 "nbformat": 4,
 "nbformat_minor": 4
}
