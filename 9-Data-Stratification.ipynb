{
 "cells": [
  {
   "cell_type": "markdown",
   "metadata": {},
   "source": [
    "# Data Stratification\n",
    "\n",
    "## Goals and Questions: \n",
    "1. Identify what is obvious in the FOI text and if the unstructured data provides something\n",
    "to predict\n",
    "    1. What is the pattern that exists in the data and how can I identify it as a human?\n",
    "    1. Based on the previous question's analysis, determine the sophistication of the model that needs to be developed. ie, if text contains “could not be determined” then label the row inconclusive\n",
    "1. Create a piece of code to sample the data across device problem text so that you can examine as a human any patterns that might tie instances of FOI text that results in each category of Device Problem Text (see below for code notes)\n",
    "    1. Use stratification across years, FOI text, and device problem code\n",
    "        1. Why is this categorized as a device problem text?\n",
    "        1. Why do these share this category\n",
    "        1. Is there something across all of these that would make me categorize it as\n",
    "component failure, inconclusive, or not-component failure?\n",
    "1. Determine if simple rules will suffice or if more processing is needed"
   ]
  },
  {
   "cell_type": "markdown",
   "metadata": {},
   "source": [
    "## Code Notes\n",
    "Code notes: Stratify and Analyze\n",
    "\n",
    "1. Start with 2020 and 2021 clean data\n",
    "2. Look at the top 5 DEVICE_REPORT_PRODUCT_CODE\n",
    "    1. Remove any that are not assemblys/systems\n",
    "3. Look at the top 5 DEVICE_PROBLEM_TEXT\n",
    "4. Randomly pick 10 from each of the top 5 DEVICE_PROBLEM_TEXT for a total\n",
    "of 50 records"
   ]
  },
  {
   "cell_type": "code",
   "execution_count": 14,
   "metadata": {},
   "outputs": [],
   "source": [
    "import pandas as pd\n",
    "\n",
    "# Identify the working directory and data files\n",
    "working_directory = './data_stratification'\n",
    "\n",
    "# 1. Start with 2020 and 2021 clean data\n",
    "data_file_2020 = \"./2020_clean/2020_data_clean.csv\"\n",
    "data_file_2021 = \"./2021_clean/2021_data_clean.csv\"\n",
    "\n",
    "import os\n",
    "\n",
    "# Create the working directory if needed\n",
    "try:\n",
    "    os.makedirs(working_directory, exist_ok=True)\n",
    "except OSError as error:\n",
    "    print(f\"Error creating {working_directory}: {error}\")"
   ]
  },
  {
   "cell_type": "code",
   "execution_count": 15,
   "metadata": {},
   "outputs": [],
   "source": [
    "# Read the data into a pandas dataframe\n",
    "data_2020 = pd.read_csv(data_file_2020, # The data file being read, from the variable assignment above\n",
    "                   on_bad_lines='warn', # This tells Pandas to only warn on bad lines vs causing an error\n",
    "                   dtype = 'str')       # This tells Pandas to treat all numbers as words\n",
    "\n"
   ]
  },
  {
   "cell_type": "code",
   "execution_count": null,
   "metadata": {},
   "outputs": [],
   "source": [
    "# Read the data into a pandas dataframe\n",
    "data_2021 = pd.read_csv(data_file_2021, # The data file being read, from the variable assignment above\n",
    "                   on_bad_lines='warn', # This tells Pandas to only warn on bad lines vs causing an error\n",
    "                   dtype = 'str')       # This tells Pandas to treat all numbers as words"
   ]
  },
  {
   "cell_type": "code",
   "execution_count": 16,
   "metadata": {},
   "outputs": [
    {
     "data": {
      "text/html": [
       "<div>\n",
       "<style scoped>\n",
       "    .dataframe tbody tr th:only-of-type {\n",
       "        vertical-align: middle;\n",
       "    }\n",
       "\n",
       "    .dataframe tbody tr th {\n",
       "        vertical-align: top;\n",
       "    }\n",
       "\n",
       "    .dataframe thead th {\n",
       "        text-align: right;\n",
       "    }\n",
       "</style>\n",
       "<table border=\"1\" class=\"dataframe\">\n",
       "  <thead>\n",
       "    <tr style=\"text-align: right;\">\n",
       "      <th></th>\n",
       "      <th>COUNT</th>\n",
       "    </tr>\n",
       "    <tr>\n",
       "      <th>DEVICE_REPORT_PRODUCT_CODE</th>\n",
       "      <th></th>\n",
       "    </tr>\n",
       "  </thead>\n",
       "  <tbody>\n",
       "    <tr>\n",
       "      <th>DZE</th>\n",
       "      <td>354972</td>\n",
       "    </tr>\n",
       "    <tr>\n",
       "      <th>QBJ</th>\n",
       "      <td>276350</td>\n",
       "    </tr>\n",
       "    <tr>\n",
       "      <th>OZP</th>\n",
       "      <td>269978</td>\n",
       "    </tr>\n",
       "    <tr>\n",
       "      <th>FRN</th>\n",
       "      <td>256564</td>\n",
       "    </tr>\n",
       "    <tr>\n",
       "      <th>OZO</th>\n",
       "      <td>236059</td>\n",
       "    </tr>\n",
       "    <tr>\n",
       "      <th>OYC</th>\n",
       "      <td>235809</td>\n",
       "    </tr>\n",
       "    <tr>\n",
       "      <th>LGW</th>\n",
       "      <td>82631</td>\n",
       "    </tr>\n",
       "    <tr>\n",
       "      <th>QFG</th>\n",
       "      <td>71301</td>\n",
       "    </tr>\n",
       "    <tr>\n",
       "      <th>LZG</th>\n",
       "      <td>70815</td>\n",
       "    </tr>\n",
       "    <tr>\n",
       "      <th>LWS</th>\n",
       "      <td>59760</td>\n",
       "    </tr>\n",
       "  </tbody>\n",
       "</table>\n",
       "</div>"
      ],
      "text/plain": [
       "                             COUNT\n",
       "DEVICE_REPORT_PRODUCT_CODE        \n",
       "DZE                         354972\n",
       "QBJ                         276350\n",
       "OZP                         269978\n",
       "FRN                         256564\n",
       "OZO                         236059\n",
       "OYC                         235809\n",
       "LGW                          82631\n",
       "QFG                          71301\n",
       "LZG                          70815\n",
       "LWS                          59760"
      ]
     },
     "execution_count": 16,
     "metadata": {},
     "output_type": "execute_result"
    }
   ],
   "source": [
    "# 2. Look at the top 5 DEVICE_REPORT_PRODUCT_CODE (currently only QBJ) \n",
    "\n",
    "product_code_occurrences_2020 = data_2020.groupby(['DEVICE_REPORT_PRODUCT_CODE']).size().to_frame('COUNT')\n",
    "product_code_occurrences_2020.sort_values(by=['COUNT'], ascending=False).head(10)"
   ]
  },
  {
   "cell_type": "code",
   "execution_count": 17,
   "metadata": {},
   "outputs": [
    {
     "data": {
      "text/html": [
       "<div>\n",
       "<style scoped>\n",
       "    .dataframe tbody tr th:only-of-type {\n",
       "        vertical-align: middle;\n",
       "    }\n",
       "\n",
       "    .dataframe tbody tr th {\n",
       "        vertical-align: top;\n",
       "    }\n",
       "\n",
       "    .dataframe thead th {\n",
       "        text-align: right;\n",
       "    }\n",
       "</style>\n",
       "<table border=\"1\" class=\"dataframe\">\n",
       "  <thead>\n",
       "    <tr style=\"text-align: right;\">\n",
       "      <th></th>\n",
       "      <th>COUNT</th>\n",
       "    </tr>\n",
       "    <tr>\n",
       "      <th>DEVICE_REPORT_PRODUCT_CODE</th>\n",
       "      <th></th>\n",
       "    </tr>\n",
       "  </thead>\n",
       "  <tbody>\n",
       "    <tr>\n",
       "      <th>DZE</th>\n",
       "      <td>690942</td>\n",
       "    </tr>\n",
       "    <tr>\n",
       "      <th>FRN</th>\n",
       "      <td>529085</td>\n",
       "    </tr>\n",
       "    <tr>\n",
       "      <th>QBJ</th>\n",
       "      <td>297367</td>\n",
       "    </tr>\n",
       "    <tr>\n",
       "      <th>OZP</th>\n",
       "      <td>203161</td>\n",
       "    </tr>\n",
       "    <tr>\n",
       "      <th>QFG</th>\n",
       "      <td>176681</td>\n",
       "    </tr>\n",
       "    <tr>\n",
       "      <th>PZE</th>\n",
       "      <td>140709</td>\n",
       "    </tr>\n",
       "    <tr>\n",
       "      <th>OYC</th>\n",
       "      <td>136923</td>\n",
       "    </tr>\n",
       "    <tr>\n",
       "      <th>OZO</th>\n",
       "      <td>116199</td>\n",
       "    </tr>\n",
       "    <tr>\n",
       "      <th>LZG</th>\n",
       "      <td>71943</td>\n",
       "    </tr>\n",
       "    <tr>\n",
       "      <th>LGW</th>\n",
       "      <td>62534</td>\n",
       "    </tr>\n",
       "  </tbody>\n",
       "</table>\n",
       "</div>"
      ],
      "text/plain": [
       "                             COUNT\n",
       "DEVICE_REPORT_PRODUCT_CODE        \n",
       "DZE                         690942\n",
       "FRN                         529085\n",
       "QBJ                         297367\n",
       "OZP                         203161\n",
       "QFG                         176681\n",
       "PZE                         140709\n",
       "OYC                         136923\n",
       "OZO                         116199\n",
       "LZG                          71943\n",
       "LGW                          62534"
      ]
     },
     "execution_count": 17,
     "metadata": {},
     "output_type": "execute_result"
    }
   ],
   "source": [
    "# 2. Look at the top 5 DEVICE_REPORT_PRODUCT_CODE (currently only QBJ) \n",
    "product_code_occurrences_2021 = data_2021.groupby(['DEVICE_REPORT_PRODUCT_CODE']).size().to_frame('COUNT')\n",
    "product_code_occurrences_2021.sort_values(by=['COUNT'], ascending=False).head(10)"
   ]
  },
  {
   "cell_type": "code",
   "execution_count": null,
   "metadata": {},
   "outputs": [],
   "source": [
    "# Remove any rows for product codes that are not assemblys or systems"
   ]
  }
 ],
 "metadata": {
  "kernelspec": {
   "display_name": "Python 3.10.8 ('VSCode')",
   "language": "python",
   "name": "python3"
  },
  "language_info": {
   "codemirror_mode": {
    "name": "ipython",
    "version": 3
   },
   "file_extension": ".py",
   "mimetype": "text/x-python",
   "name": "python",
   "nbconvert_exporter": "python",
   "pygments_lexer": "ipython3",
   "version": "3.10.8"
  },
  "orig_nbformat": 4,
  "vscode": {
   "interpreter": {
    "hash": "0df23e0b8587652e8947bf433502af00ecfb3462d59e71e7bba71c0280b5fb19"
   }
  }
 },
 "nbformat": 4,
 "nbformat_minor": 2
}
